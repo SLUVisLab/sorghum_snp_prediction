{
 "cells": [
  {
   "cell_type": "code",
   "execution_count": 1,
   "id": "1d6aa43a-d50a-436a-8827-1a73d2042a3c",
   "metadata": {},
   "outputs": [
    {
     "name": "stdout",
     "output_type": "stream",
     "text": [
      "/pless_nfs/home/zeyu/github/gwuvision/reverse-pheno\n"
     ]
    }
   ],
   "source": [
    "cd ../../"
   ]
  },
  {
   "cell_type": "code",
   "execution_count": 2,
   "id": "aa1d2f9e-814e-481f-ac1c-f525346caa4c",
   "metadata": {},
   "outputs": [],
   "source": [
    "import torch, os\n",
    "import pandas as pd\n",
    "from genetic_marker_dataset import EmbeddingGeneDataset"
   ]
  },
  {
   "cell_type": "code",
   "execution_count": 3,
   "id": "6169181a-acfc-4d1f-b017-19edaa4f2d56",
   "metadata": {},
   "outputs": [],
   "source": [
    "os.environ['CUDA_DEVICE_ORDER'] = 'PCI_BUS_ID'\n",
    "os.environ['CUDA_VISIBLE_DEVICES'] = '0'\n",
    "from tqdm.auto import tqdm\n",
    "from torch import nn\n",
    "import torch.nn.functional as F"
   ]
  },
  {
   "cell_type": "code",
   "execution_count": 4,
   "id": "ced14c7b-4ffa-47c8-8354-05bd59eff319",
   "metadata": {},
   "outputs": [],
   "source": [
    "marker_family = {'leaf_wax':['sobic_001G269200_1_51588525',\n",
    "                             'sobic_001G269200_1_51588838',\n",
    "                             'sobic_001G269200_1_51589143',\n",
    "                             'sobic_001G269200_1_51589435',],\n",
    "                 'dw':      ['sobic_006G067700_1_42805319',\n",
    "                             'sobic_006G067700_1_42804037'\n",
    "                             ],\n",
    "                 'd_locus': ['sobic_006G147400_1_50898459',\n",
    "                             'sobic_006G147400_1_50898536',\n",
    "                             'sobic_006G147400_1_50898315',\n",
    "                             'sobic_006G147400_1_50898231',\n",
    "                             'sobic_006G147400_1_50898523',\n",
    "                             'sobic_006G147400_1_50898525',],\n",
    "                 'ma':      ['sobic_006G057866_1_40312463',\n",
    "                             'sobic_006G004400_2_2697734'],\n",
    "                 'tan':     ['sobic_009G229800_1_57040680']}"
   ]
  },
  {
   "cell_type": "code",
   "execution_count": 5,
   "id": "9264e182-2761-447b-931a-76953011ecc0",
   "metadata": {},
   "outputs": [],
   "source": [
    "known_genetic_markers = [i for k, v in marker_family.items() for i in v]"
   ]
  },
  {
   "cell_type": "code",
   "execution_count": 6,
   "id": "06a3b9d7-755d-4cea-9798-b9d86492dd16",
   "metadata": {},
   "outputs": [],
   "source": [
    "marker_family_df = pd.DataFrame([(k, v) for k, vs in marker_family.items() for v in vs], columns=['family', 'gene'])"
   ]
  },
  {
   "cell_type": "code",
   "execution_count": 7,
   "id": "d8e36efa-f66a-4e9b-a18e-57064ced8d00",
   "metadata": {},
   "outputs": [],
   "source": [
    "def get_sampler(ds):\n",
    "    class_counts = torch.bincount(torch.tensor(ds.marker_df['label']))\n",
    "\n",
    "    # Compute the class weights\n",
    "    class_weights = [count / len(ds) for count in class_counts]\n",
    "    class_weights = 1 / torch.tensor(class_weights)\n",
    "    class_weights = class_weights.double()\n",
    "    class_weights = class_weights / class_weights.sum()\n",
    "\n",
    "    # Create the sampler\n",
    "    sampler = torch.utils.data.WeightedRandomSampler(\n",
    "        weights=[class_weights[label] for label in ds.marker_df['label']],\n",
    "        num_samples=len(ds),\n",
    "        replacement=True\n",
    "    )\n",
    "    return sampler"
   ]
  },
  {
   "cell_type": "code",
   "execution_count": 8,
   "id": "2856747d-a7d2-4046-8bc8-53f63b435720",
   "metadata": {},
   "outputs": [],
   "source": [
    "def single_sensor_gene_pred(gene_list, sensor, noise_var=0.00):\n",
    "    ebd_result = torch.load(f'results/snp_pred/s9_jpg_{sensor}_gene_ds_img_ebd.pth')\n",
    "    all_ebd = ebd_result['ebd_128']\n",
    "    num_train_samples_list = []\n",
    "    num_test_samples_list = []\n",
    "    train_acc_list = []\n",
    "    test_acc_list = []\n",
    "    test_mode_acc_list = []\n",
    "    pred_dict = {}\n",
    "    all_ebd = all_ebd.cuda()\n",
    "\n",
    "    for marker in gene_list:\n",
    "        ebd_ds = EmbeddingGeneDataset('/data/shared/genetic_marker_datasets/', marker, sensor, train=True)\n",
    "        train_sampler = get_sampler(ebd_ds)\n",
    "        ebd_dl = torch.utils.data.DataLoader(ebd_ds, batch_size=256, sampler=train_sampler)\n",
    "        ebd_test_ds = EmbeddingGeneDataset('/data/shared/genetic_marker_datasets/', marker, sensor, train=False)\n",
    "        ebd_test_dl = torch.utils.data.DataLoader(ebd_test_ds, batch_size=256, shuffle=False)\n",
    "        print(f'gene: {marker}')\n",
    "        num_train_samples_list.append(len(ebd_ds))\n",
    "        num_test_samples_list.append(len(ebd_test_ds))\n",
    "        gene_pred_fc = nn.Sequential(#nn.Dropout(0.5),\n",
    "                                     nn.Linear(128, 2))\n",
    "        gene_pred_fc.cuda()\n",
    "        loss_func = torch.nn.CrossEntropyLoss()\n",
    "        optimizer = torch.optim.SGD(gene_pred_fc.parameters(), lr=0.01, momentum=0.9)\n",
    "        lr_scheduler = torch.optim.lr_scheduler.StepLR(optimizer, step_size=1, gamma=0.1)\n",
    "        # train\n",
    "        gene_pred_fc.train()\n",
    "        for ep in range(3):\n",
    "            tbar = tqdm(ebd_dl, leave=False)\n",
    "            total_loss = 0\n",
    "            for i, (ebd_index, label, cultivar) in enumerate(tbar):\n",
    "                optimizer.zero_grad()\n",
    "                ebd = all_ebd[ebd_index.cuda()]\n",
    "                ebd = F.normalize(ebd)\n",
    "                noise = torch.normal(0, noise_var, size=ebd.shape).cuda()\n",
    "                gene_pred = gene_pred_fc(ebd+noise)\n",
    "                loss = loss_func(gene_pred, label.cuda())\n",
    "                total_loss += loss.item()\n",
    "                loss.backward()\n",
    "                optimizer.step()\n",
    "                if i % 20 == 0:\n",
    "                    tbar.set_description(f'loss: {total_loss/20:.4f}')\n",
    "                    total_loss = 0\n",
    "            lr_scheduler.step()\n",
    "        # train acc\n",
    "        gene_pred_fc.eval()\n",
    "        tbar = tqdm(ebd_dl, leave=False)\n",
    "        all_preds = []\n",
    "        all_labels = []\n",
    "        with torch.no_grad():\n",
    "            for ebd_index, label, cultivar in tbar:\n",
    "                ebd = all_ebd[ebd_index.cuda()]\n",
    "                ebd = F.normalize(ebd)\n",
    "                gene_pred = gene_pred_fc(ebd)\n",
    "                all_preds.append(gene_pred.cpu())\n",
    "                all_labels.append(label.cpu())\n",
    "        all_preds = torch.cat(all_preds)\n",
    "        all_labels = torch.cat(all_labels)\n",
    "        train_acc = (all_preds.argmax(dim=1) == all_labels).float().mean()\n",
    "        train_acc_list.append(train_acc)\n",
    "        # test\n",
    "        tbar = tqdm(ebd_test_dl, leave=False)\n",
    "        all_preds = []\n",
    "        all_labels = []\n",
    "        all_cultivars = []\n",
    "        with torch.no_grad():\n",
    "            for ebd_index, label, cultivar in tbar:\n",
    "                ebd = all_ebd[ebd_index]\n",
    "                ebd = F.normalize(ebd)\n",
    "                gene_pred = gene_pred_fc(ebd)\n",
    "                all_preds.append(gene_pred.cpu())\n",
    "                all_labels.append(label.cpu())\n",
    "                all_cultivars.append(cultivar)\n",
    "        all_preds = torch.cat(all_preds)\n",
    "        all_labels = torch.cat(all_labels)\n",
    "        all_cultivars = [j for i in all_cultivars for j in i]\n",
    "        acc = (all_preds.argmax(dim=1) == all_labels).float().mean()\n",
    "        pred_df = pd.DataFrame({'pred': all_preds.argmax(dim=1).numpy(), 'gt': all_labels.numpy(), 'cultivar': all_cultivars})\n",
    "        cultivar_mode_df = pred_df.groupby('cultivar').agg(pd.Series.mode)\n",
    "        cultivar_mode_acc = (cultivar_mode_df['pred'] == cultivar_mode_df['gt']).mean()\n",
    "        test_acc_list.append(acc)\n",
    "        test_mode_acc_list.append(cultivar_mode_acc)\n",
    "        pred_dict[marker] = pred_df\n",
    "        save_path = f'result/snp_pred/{marker}_{sensor}_pred.pt'\n",
    "        if not os.path.exists(os.path.dirname(save_path)):\n",
    "            os.makedirs(os.path.dirname(save_path))\n",
    "        torch.save(gene_pred_fc.state_dict(), save_path)\n",
    "        print(f'gene: {marker}, train_imgs: {len(ebd_ds)}, test_imgs: {len(ebd_test_ds)}, train_acc:{train_acc:.4f}, \\\n",
    "              acc: {acc:.4f}, cultivar_acc: {cultivar_mode_acc:.4f}')\n",
    "    result_df = pd.DataFrame({'gene': gene_list, \n",
    "                              'num_train_samples': num_train_samples_list, \n",
    "                              'num_test_samples': num_test_samples_list, \n",
    "                              'train_acc': [i.item() for i in train_acc_list], \n",
    "                              'test_acc': [i.item() for i in test_acc_list],\n",
    "                              'cultivar_mode_acc': test_mode_acc_list})\n",
    "    result_df = result_df.merge(marker_family_df, on='gene')\n",
    "    result_df = result_df[['family', 'gene', 'num_train_samples', 'num_test_samples', 'train_acc', 'test_acc', 'cultivar_mode_acc']]\n",
    "    return result_df, pred_dict"
   ]
  },
  {
   "cell_type": "code",
   "execution_count": 9,
   "id": "95a4ad8d-c9ab-4b25-a354-684bd56a6fcd",
   "metadata": {},
   "outputs": [
    {
     "name": "stdout",
     "output_type": "stream",
     "text": [
      "gene: sobic_001G269200_1_51588525\n"
     ]
    },
    {
     "data": {
      "application/vnd.jupyter.widget-view+json": {
       "model_id": "",
       "version_major": 2,
       "version_minor": 0
      },
      "text/plain": [
       "HBox(children=(HTML(value=''), FloatProgress(value=0.0, max=1091.0), HTML(value='')))"
      ]
     },
     "metadata": {},
     "output_type": "display_data"
    },
    {
     "data": {
      "application/vnd.jupyter.widget-view+json": {
       "model_id": "",
       "version_major": 2,
       "version_minor": 0
      },
      "text/plain": [
       "HBox(children=(HTML(value=''), FloatProgress(value=0.0, max=1091.0), HTML(value='')))"
      ]
     },
     "metadata": {},
     "output_type": "display_data"
    },
    {
     "data": {
      "application/vnd.jupyter.widget-view+json": {
       "model_id": "",
       "version_major": 2,
       "version_minor": 0
      },
      "text/plain": [
       "HBox(children=(HTML(value=''), FloatProgress(value=0.0, max=1091.0), HTML(value='')))"
      ]
     },
     "metadata": {},
     "output_type": "display_data"
    },
    {
     "data": {
      "application/vnd.jupyter.widget-view+json": {
       "model_id": "",
       "version_major": 2,
       "version_minor": 0
      },
      "text/plain": [
       "HBox(children=(HTML(value=''), FloatProgress(value=0.0, max=1091.0), HTML(value='')))"
      ]
     },
     "metadata": {},
     "output_type": "display_data"
    },
    {
     "data": {
      "application/vnd.jupyter.widget-view+json": {
       "model_id": "",
       "version_major": 2,
       "version_minor": 0
      },
      "text/plain": [
       "HBox(children=(HTML(value=''), FloatProgress(value=0.0, max=323.0), HTML(value='')))"
      ]
     },
     "metadata": {},
     "output_type": "display_data"
    },
    {
     "name": "stdout",
     "output_type": "stream",
     "text": [
      "gene: sobic_001G269200_1_51588525, train_imgs: 279151, test_imgs: 82644, train_acc:0.6532,               acc: 0.6146, cultivar_acc: 0.6400\n",
      "gene: sobic_001G269200_1_51588838\n"
     ]
    },
    {
     "data": {
      "application/vnd.jupyter.widget-view+json": {
       "model_id": "",
       "version_major": 2,
       "version_minor": 0
      },
      "text/plain": [
       "HBox(children=(HTML(value=''), FloatProgress(value=0.0, max=1005.0), HTML(value='')))"
      ]
     },
     "metadata": {},
     "output_type": "display_data"
    },
    {
     "data": {
      "application/vnd.jupyter.widget-view+json": {
       "model_id": "",
       "version_major": 2,
       "version_minor": 0
      },
      "text/plain": [
       "HBox(children=(HTML(value=''), FloatProgress(value=0.0, max=1005.0), HTML(value='')))"
      ]
     },
     "metadata": {},
     "output_type": "display_data"
    },
    {
     "data": {
      "application/vnd.jupyter.widget-view+json": {
       "model_id": "",
       "version_major": 2,
       "version_minor": 0
      },
      "text/plain": [
       "HBox(children=(HTML(value=''), FloatProgress(value=0.0, max=1005.0), HTML(value='')))"
      ]
     },
     "metadata": {},
     "output_type": "display_data"
    },
    {
     "data": {
      "application/vnd.jupyter.widget-view+json": {
       "model_id": "",
       "version_major": 2,
       "version_minor": 0
      },
      "text/plain": [
       "HBox(children=(HTML(value=''), FloatProgress(value=0.0, max=1005.0), HTML(value='')))"
      ]
     },
     "metadata": {},
     "output_type": "display_data"
    },
    {
     "data": {
      "application/vnd.jupyter.widget-view+json": {
       "model_id": "",
       "version_major": 2,
       "version_minor": 0
      },
      "text/plain": [
       "HBox(children=(HTML(value=''), FloatProgress(value=0.0, max=290.0), HTML(value='')))"
      ]
     },
     "metadata": {},
     "output_type": "display_data"
    },
    {
     "name": "stdout",
     "output_type": "stream",
     "text": [
      "gene: sobic_001G269200_1_51588838, train_imgs: 257180, test_imgs: 74100, train_acc:0.6336,               acc: 0.6015, cultivar_acc: 0.6522\n",
      "gene: sobic_001G269200_1_51589143\n"
     ]
    },
    {
     "data": {
      "application/vnd.jupyter.widget-view+json": {
       "model_id": "",
       "version_major": 2,
       "version_minor": 0
      },
      "text/plain": [
       "HBox(children=(HTML(value=''), FloatProgress(value=0.0, max=1049.0), HTML(value='')))"
      ]
     },
     "metadata": {},
     "output_type": "display_data"
    },
    {
     "data": {
      "application/vnd.jupyter.widget-view+json": {
       "model_id": "",
       "version_major": 2,
       "version_minor": 0
      },
      "text/plain": [
       "HBox(children=(HTML(value=''), FloatProgress(value=0.0, max=1049.0), HTML(value='')))"
      ]
     },
     "metadata": {},
     "output_type": "display_data"
    },
    {
     "data": {
      "application/vnd.jupyter.widget-view+json": {
       "model_id": "",
       "version_major": 2,
       "version_minor": 0
      },
      "text/plain": [
       "HBox(children=(HTML(value=''), FloatProgress(value=0.0, max=1049.0), HTML(value='')))"
      ]
     },
     "metadata": {},
     "output_type": "display_data"
    },
    {
     "data": {
      "application/vnd.jupyter.widget-view+json": {
       "model_id": "",
       "version_major": 2,
       "version_minor": 0
      },
      "text/plain": [
       "HBox(children=(HTML(value=''), FloatProgress(value=0.0, max=1049.0), HTML(value='')))"
      ]
     },
     "metadata": {},
     "output_type": "display_data"
    },
    {
     "data": {
      "application/vnd.jupyter.widget-view+json": {
       "model_id": "",
       "version_major": 2,
       "version_minor": 0
      },
      "text/plain": [
       "HBox(children=(HTML(value=''), FloatProgress(value=0.0, max=437.0), HTML(value='')))"
      ]
     },
     "metadata": {},
     "output_type": "display_data"
    },
    {
     "name": "stdout",
     "output_type": "stream",
     "text": [
      "gene: sobic_001G269200_1_51589143, train_imgs: 268544, test_imgs: 111672, train_acc:0.6376,               acc: 0.6219, cultivar_acc: 0.6618\n",
      "gene: sobic_001G269200_1_51589435\n"
     ]
    },
    {
     "data": {
      "application/vnd.jupyter.widget-view+json": {
       "model_id": "",
       "version_major": 2,
       "version_minor": 0
      },
      "text/plain": [
       "HBox(children=(HTML(value=''), FloatProgress(value=0.0, max=1247.0), HTML(value='')))"
      ]
     },
     "metadata": {},
     "output_type": "display_data"
    },
    {
     "data": {
      "application/vnd.jupyter.widget-view+json": {
       "model_id": "",
       "version_major": 2,
       "version_minor": 0
      },
      "text/plain": [
       "HBox(children=(HTML(value=''), FloatProgress(value=0.0, max=1247.0), HTML(value='')))"
      ]
     },
     "metadata": {},
     "output_type": "display_data"
    },
    {
     "data": {
      "application/vnd.jupyter.widget-view+json": {
       "model_id": "",
       "version_major": 2,
       "version_minor": 0
      },
      "text/plain": [
       "HBox(children=(HTML(value=''), FloatProgress(value=0.0, max=1247.0), HTML(value='')))"
      ]
     },
     "metadata": {},
     "output_type": "display_data"
    },
    {
     "data": {
      "application/vnd.jupyter.widget-view+json": {
       "model_id": "",
       "version_major": 2,
       "version_minor": 0
      },
      "text/plain": [
       "HBox(children=(HTML(value=''), FloatProgress(value=0.0, max=1247.0), HTML(value='')))"
      ]
     },
     "metadata": {},
     "output_type": "display_data"
    },
    {
     "data": {
      "application/vnd.jupyter.widget-view+json": {
       "model_id": "",
       "version_major": 2,
       "version_minor": 0
      },
      "text/plain": [
       "HBox(children=(HTML(value=''), FloatProgress(value=0.0, max=210.0), HTML(value='')))"
      ]
     },
     "metadata": {},
     "output_type": "display_data"
    },
    {
     "name": "stdout",
     "output_type": "stream",
     "text": [
      "gene: sobic_001G269200_1_51589435, train_imgs: 319136, test_imgs: 53620, train_acc:0.6505,               acc: 0.6399, cultivar_acc: 0.7812\n",
      "gene: sobic_006G067700_1_42805319\n"
     ]
    },
    {
     "data": {
      "application/vnd.jupyter.widget-view+json": {
       "model_id": "",
       "version_major": 2,
       "version_minor": 0
      },
      "text/plain": [
       "HBox(children=(HTML(value=''), FloatProgress(value=0.0, max=1217.0), HTML(value='')))"
      ]
     },
     "metadata": {},
     "output_type": "display_data"
    },
    {
     "data": {
      "application/vnd.jupyter.widget-view+json": {
       "model_id": "",
       "version_major": 2,
       "version_minor": 0
      },
      "text/plain": [
       "HBox(children=(HTML(value=''), FloatProgress(value=0.0, max=1217.0), HTML(value='')))"
      ]
     },
     "metadata": {},
     "output_type": "display_data"
    },
    {
     "data": {
      "application/vnd.jupyter.widget-view+json": {
       "model_id": "",
       "version_major": 2,
       "version_minor": 0
      },
      "text/plain": [
       "HBox(children=(HTML(value=''), FloatProgress(value=0.0, max=1217.0), HTML(value='')))"
      ]
     },
     "metadata": {},
     "output_type": "display_data"
    },
    {
     "data": {
      "application/vnd.jupyter.widget-view+json": {
       "model_id": "",
       "version_major": 2,
       "version_minor": 0
      },
      "text/plain": [
       "HBox(children=(HTML(value=''), FloatProgress(value=0.0, max=1217.0), HTML(value='')))"
      ]
     },
     "metadata": {},
     "output_type": "display_data"
    },
    {
     "data": {
      "application/vnd.jupyter.widget-view+json": {
       "model_id": "",
       "version_major": 2,
       "version_minor": 0
      },
      "text/plain": [
       "HBox(children=(HTML(value=''), FloatProgress(value=0.0, max=488.0), HTML(value='')))"
      ]
     },
     "metadata": {},
     "output_type": "display_data"
    },
    {
     "name": "stdout",
     "output_type": "stream",
     "text": [
      "gene: sobic_006G067700_1_42805319, train_imgs: 311427, test_imgs: 124734, train_acc:0.6220,               acc: 0.6045, cultivar_acc: 0.6538\n",
      "gene: sobic_006G067700_1_42804037\n"
     ]
    },
    {
     "data": {
      "application/vnd.jupyter.widget-view+json": {
       "model_id": "",
       "version_major": 2,
       "version_minor": 0
      },
      "text/plain": [
       "HBox(children=(HTML(value=''), FloatProgress(value=0.0, max=1166.0), HTML(value='')))"
      ]
     },
     "metadata": {},
     "output_type": "display_data"
    },
    {
     "data": {
      "application/vnd.jupyter.widget-view+json": {
       "model_id": "",
       "version_major": 2,
       "version_minor": 0
      },
      "text/plain": [
       "HBox(children=(HTML(value=''), FloatProgress(value=0.0, max=1166.0), HTML(value='')))"
      ]
     },
     "metadata": {},
     "output_type": "display_data"
    },
    {
     "data": {
      "application/vnd.jupyter.widget-view+json": {
       "model_id": "",
       "version_major": 2,
       "version_minor": 0
      },
      "text/plain": [
       "HBox(children=(HTML(value=''), FloatProgress(value=0.0, max=1166.0), HTML(value='')))"
      ]
     },
     "metadata": {},
     "output_type": "display_data"
    },
    {
     "data": {
      "application/vnd.jupyter.widget-view+json": {
       "model_id": "",
       "version_major": 2,
       "version_minor": 0
      },
      "text/plain": [
       "HBox(children=(HTML(value=''), FloatProgress(value=0.0, max=1166.0), HTML(value='')))"
      ]
     },
     "metadata": {},
     "output_type": "display_data"
    },
    {
     "data": {
      "application/vnd.jupyter.widget-view+json": {
       "model_id": "",
       "version_major": 2,
       "version_minor": 0
      },
      "text/plain": [
       "HBox(children=(HTML(value=''), FloatProgress(value=0.0, max=461.0), HTML(value='')))"
      ]
     },
     "metadata": {},
     "output_type": "display_data"
    },
    {
     "name": "stdout",
     "output_type": "stream",
     "text": [
      "gene: sobic_006G067700_1_42804037, train_imgs: 298316, test_imgs: 117852, train_acc:0.6207,               acc: 0.5970, cultivar_acc: 0.6528\n",
      "gene: sobic_006G147400_1_50898459\n"
     ]
    },
    {
     "data": {
      "application/vnd.jupyter.widget-view+json": {
       "model_id": "",
       "version_major": 2,
       "version_minor": 0
      },
      "text/plain": [
       "HBox(children=(HTML(value=''), FloatProgress(value=0.0, max=1252.0), HTML(value='')))"
      ]
     },
     "metadata": {},
     "output_type": "display_data"
    },
    {
     "data": {
      "application/vnd.jupyter.widget-view+json": {
       "model_id": "",
       "version_major": 2,
       "version_minor": 0
      },
      "text/plain": [
       "HBox(children=(HTML(value=''), FloatProgress(value=0.0, max=1252.0), HTML(value='')))"
      ]
     },
     "metadata": {},
     "output_type": "display_data"
    },
    {
     "data": {
      "application/vnd.jupyter.widget-view+json": {
       "model_id": "",
       "version_major": 2,
       "version_minor": 0
      },
      "text/plain": [
       "HBox(children=(HTML(value=''), FloatProgress(value=0.0, max=1252.0), HTML(value='')))"
      ]
     },
     "metadata": {},
     "output_type": "display_data"
    },
    {
     "data": {
      "application/vnd.jupyter.widget-view+json": {
       "model_id": "",
       "version_major": 2,
       "version_minor": 0
      },
      "text/plain": [
       "HBox(children=(HTML(value=''), FloatProgress(value=0.0, max=1252.0), HTML(value='')))"
      ]
     },
     "metadata": {},
     "output_type": "display_data"
    },
    {
     "data": {
      "application/vnd.jupyter.widget-view+json": {
       "model_id": "",
       "version_major": 2,
       "version_minor": 0
      },
      "text/plain": [
       "HBox(children=(HTML(value=''), FloatProgress(value=0.0, max=228.0), HTML(value='')))"
      ]
     },
     "metadata": {},
     "output_type": "display_data"
    },
    {
     "name": "stdout",
     "output_type": "stream",
     "text": [
      "gene: sobic_006G147400_1_50898459, train_imgs: 320272, test_imgs: 58340, train_acc:0.6091,               acc: 0.5388, cultivar_acc: 0.5526\n",
      "gene: sobic_006G147400_1_50898536\n"
     ]
    },
    {
     "data": {
      "application/vnd.jupyter.widget-view+json": {
       "model_id": "",
       "version_major": 2,
       "version_minor": 0
      },
      "text/plain": [
       "HBox(children=(HTML(value=''), FloatProgress(value=0.0, max=1218.0), HTML(value='')))"
      ]
     },
     "metadata": {},
     "output_type": "display_data"
    },
    {
     "data": {
      "application/vnd.jupyter.widget-view+json": {
       "model_id": "",
       "version_major": 2,
       "version_minor": 0
      },
      "text/plain": [
       "HBox(children=(HTML(value=''), FloatProgress(value=0.0, max=1218.0), HTML(value='')))"
      ]
     },
     "metadata": {},
     "output_type": "display_data"
    },
    {
     "data": {
      "application/vnd.jupyter.widget-view+json": {
       "model_id": "",
       "version_major": 2,
       "version_minor": 0
      },
      "text/plain": [
       "HBox(children=(HTML(value=''), FloatProgress(value=0.0, max=1218.0), HTML(value='')))"
      ]
     },
     "metadata": {},
     "output_type": "display_data"
    },
    {
     "data": {
      "application/vnd.jupyter.widget-view+json": {
       "model_id": "",
       "version_major": 2,
       "version_minor": 0
      },
      "text/plain": [
       "HBox(children=(HTML(value=''), FloatProgress(value=0.0, max=1218.0), HTML(value='')))"
      ]
     },
     "metadata": {},
     "output_type": "display_data"
    },
    {
     "data": {
      "application/vnd.jupyter.widget-view+json": {
       "model_id": "",
       "version_major": 2,
       "version_minor": 0
      },
      "text/plain": [
       "HBox(children=(HTML(value=''), FloatProgress(value=0.0, max=246.0), HTML(value='')))"
      ]
     },
     "metadata": {},
     "output_type": "display_data"
    },
    {
     "name": "stdout",
     "output_type": "stream",
     "text": [
      "gene: sobic_006G147400_1_50898536, train_imgs: 311582, test_imgs: 62912, train_acc:0.6006,               acc: 0.5050, cultivar_acc: 0.5000\n",
      "gene: sobic_006G147400_1_50898315\n"
     ]
    },
    {
     "data": {
      "application/vnd.jupyter.widget-view+json": {
       "model_id": "",
       "version_major": 2,
       "version_minor": 0
      },
      "text/plain": [
       "HBox(children=(HTML(value=''), FloatProgress(value=0.0, max=1075.0), HTML(value='')))"
      ]
     },
     "metadata": {},
     "output_type": "display_data"
    },
    {
     "data": {
      "application/vnd.jupyter.widget-view+json": {
       "model_id": "",
       "version_major": 2,
       "version_minor": 0
      },
      "text/plain": [
       "HBox(children=(HTML(value=''), FloatProgress(value=0.0, max=1075.0), HTML(value='')))"
      ]
     },
     "metadata": {},
     "output_type": "display_data"
    },
    {
     "data": {
      "application/vnd.jupyter.widget-view+json": {
       "model_id": "",
       "version_major": 2,
       "version_minor": 0
      },
      "text/plain": [
       "HBox(children=(HTML(value=''), FloatProgress(value=0.0, max=1075.0), HTML(value='')))"
      ]
     },
     "metadata": {},
     "output_type": "display_data"
    },
    {
     "data": {
      "application/vnd.jupyter.widget-view+json": {
       "model_id": "",
       "version_major": 2,
       "version_minor": 0
      },
      "text/plain": [
       "HBox(children=(HTML(value=''), FloatProgress(value=0.0, max=1075.0), HTML(value='')))"
      ]
     },
     "metadata": {},
     "output_type": "display_data"
    },
    {
     "data": {
      "application/vnd.jupyter.widget-view+json": {
       "model_id": "",
       "version_major": 2,
       "version_minor": 0
      },
      "text/plain": [
       "HBox(children=(HTML(value=''), FloatProgress(value=0.0, max=249.0), HTML(value='')))"
      ]
     },
     "metadata": {},
     "output_type": "display_data"
    },
    {
     "name": "stdout",
     "output_type": "stream",
     "text": [
      "gene: sobic_006G147400_1_50898315, train_imgs: 275004, test_imgs: 63664, train_acc:0.5963,               acc: 0.5272, cultivar_acc: 0.5526\n",
      "gene: sobic_006G147400_1_50898231\n"
     ]
    },
    {
     "data": {
      "application/vnd.jupyter.widget-view+json": {
       "model_id": "",
       "version_major": 2,
       "version_minor": 0
      },
      "text/plain": [
       "HBox(children=(HTML(value=''), FloatProgress(value=0.0, max=929.0), HTML(value='')))"
      ]
     },
     "metadata": {},
     "output_type": "display_data"
    },
    {
     "data": {
      "application/vnd.jupyter.widget-view+json": {
       "model_id": "",
       "version_major": 2,
       "version_minor": 0
      },
      "text/plain": [
       "HBox(children=(HTML(value=''), FloatProgress(value=0.0, max=929.0), HTML(value='')))"
      ]
     },
     "metadata": {},
     "output_type": "display_data"
    },
    {
     "data": {
      "application/vnd.jupyter.widget-view+json": {
       "model_id": "",
       "version_major": 2,
       "version_minor": 0
      },
      "text/plain": [
       "HBox(children=(HTML(value=''), FloatProgress(value=0.0, max=929.0), HTML(value='')))"
      ]
     },
     "metadata": {},
     "output_type": "display_data"
    },
    {
     "data": {
      "application/vnd.jupyter.widget-view+json": {
       "model_id": "",
       "version_major": 2,
       "version_minor": 0
      },
      "text/plain": [
       "HBox(children=(HTML(value=''), FloatProgress(value=0.0, max=929.0), HTML(value='')))"
      ]
     },
     "metadata": {},
     "output_type": "display_data"
    },
    {
     "data": {
      "application/vnd.jupyter.widget-view+json": {
       "model_id": "",
       "version_major": 2,
       "version_minor": 0
      },
      "text/plain": [
       "HBox(children=(HTML(value=''), FloatProgress(value=0.0, max=209.0), HTML(value='')))"
      ]
     },
     "metadata": {},
     "output_type": "display_data"
    },
    {
     "name": "stdout",
     "output_type": "stream",
     "text": [
      "gene: sobic_006G147400_1_50898231, train_imgs: 237704, test_imgs: 53468, train_acc:0.5891,               acc: 0.6171, cultivar_acc: 0.7353\n",
      "gene: sobic_006G147400_1_50898523\n"
     ]
    },
    {
     "data": {
      "application/vnd.jupyter.widget-view+json": {
       "model_id": "",
       "version_major": 2,
       "version_minor": 0
      },
      "text/plain": [
       "HBox(children=(HTML(value=''), FloatProgress(value=0.0, max=1216.0), HTML(value='')))"
      ]
     },
     "metadata": {},
     "output_type": "display_data"
    },
    {
     "data": {
      "application/vnd.jupyter.widget-view+json": {
       "model_id": "",
       "version_major": 2,
       "version_minor": 0
      },
      "text/plain": [
       "HBox(children=(HTML(value=''), FloatProgress(value=0.0, max=1216.0), HTML(value='')))"
      ]
     },
     "metadata": {},
     "output_type": "display_data"
    },
    {
     "data": {
      "application/vnd.jupyter.widget-view+json": {
       "model_id": "",
       "version_major": 2,
       "version_minor": 0
      },
      "text/plain": [
       "HBox(children=(HTML(value=''), FloatProgress(value=0.0, max=1216.0), HTML(value='')))"
      ]
     },
     "metadata": {},
     "output_type": "display_data"
    },
    {
     "data": {
      "application/vnd.jupyter.widget-view+json": {
       "model_id": "",
       "version_major": 2,
       "version_minor": 0
      },
      "text/plain": [
       "HBox(children=(HTML(value=''), FloatProgress(value=0.0, max=1216.0), HTML(value='')))"
      ]
     },
     "metadata": {},
     "output_type": "display_data"
    },
    {
     "data": {
      "application/vnd.jupyter.widget-view+json": {
       "model_id": "",
       "version_major": 2,
       "version_minor": 0
      },
      "text/plain": [
       "HBox(children=(HTML(value=''), FloatProgress(value=0.0, max=235.0), HTML(value='')))"
      ]
     },
     "metadata": {},
     "output_type": "display_data"
    },
    {
     "name": "stdout",
     "output_type": "stream",
     "text": [
      "gene: sobic_006G147400_1_50898523, train_imgs: 311172, test_imgs: 59966, train_acc:0.5881,               acc: 0.5776, cultivar_acc: 0.5526\n",
      "gene: sobic_006G147400_1_50898525\n"
     ]
    },
    {
     "data": {
      "application/vnd.jupyter.widget-view+json": {
       "model_id": "",
       "version_major": 2,
       "version_minor": 0
      },
      "text/plain": [
       "HBox(children=(HTML(value=''), FloatProgress(value=0.0, max=1213.0), HTML(value='')))"
      ]
     },
     "metadata": {},
     "output_type": "display_data"
    },
    {
     "data": {
      "application/vnd.jupyter.widget-view+json": {
       "model_id": "",
       "version_major": 2,
       "version_minor": 0
      },
      "text/plain": [
       "HBox(children=(HTML(value=''), FloatProgress(value=0.0, max=1213.0), HTML(value='')))"
      ]
     },
     "metadata": {},
     "output_type": "display_data"
    },
    {
     "data": {
      "application/vnd.jupyter.widget-view+json": {
       "model_id": "",
       "version_major": 2,
       "version_minor": 0
      },
      "text/plain": [
       "HBox(children=(HTML(value=''), FloatProgress(value=0.0, max=1213.0), HTML(value='')))"
      ]
     },
     "metadata": {},
     "output_type": "display_data"
    },
    {
     "data": {
      "application/vnd.jupyter.widget-view+json": {
       "model_id": "",
       "version_major": 2,
       "version_minor": 0
      },
      "text/plain": [
       "HBox(children=(HTML(value=''), FloatProgress(value=0.0, max=1213.0), HTML(value='')))"
      ]
     },
     "metadata": {},
     "output_type": "display_data"
    },
    {
     "data": {
      "application/vnd.jupyter.widget-view+json": {
       "model_id": "",
       "version_major": 2,
       "version_minor": 0
      },
      "text/plain": [
       "HBox(children=(HTML(value=''), FloatProgress(value=0.0, max=240.0), HTML(value='')))"
      ]
     },
     "metadata": {},
     "output_type": "display_data"
    },
    {
     "name": "stdout",
     "output_type": "stream",
     "text": [
      "gene: sobic_006G147400_1_50898525, train_imgs: 310297, test_imgs: 61254, train_acc:0.5734,               acc: 0.6252, cultivar_acc: 0.7632\n",
      "gene: sobic_006G057866_1_40312463\n"
     ]
    },
    {
     "data": {
      "application/vnd.jupyter.widget-view+json": {
       "model_id": "",
       "version_major": 2,
       "version_minor": 0
      },
      "text/plain": [
       "HBox(children=(HTML(value=''), FloatProgress(value=0.0, max=1656.0), HTML(value='')))"
      ]
     },
     "metadata": {},
     "output_type": "display_data"
    },
    {
     "data": {
      "application/vnd.jupyter.widget-view+json": {
       "model_id": "",
       "version_major": 2,
       "version_minor": 0
      },
      "text/plain": [
       "HBox(children=(HTML(value=''), FloatProgress(value=0.0, max=1656.0), HTML(value='')))"
      ]
     },
     "metadata": {},
     "output_type": "display_data"
    },
    {
     "data": {
      "application/vnd.jupyter.widget-view+json": {
       "model_id": "",
       "version_major": 2,
       "version_minor": 0
      },
      "text/plain": [
       "HBox(children=(HTML(value=''), FloatProgress(value=0.0, max=1656.0), HTML(value='')))"
      ]
     },
     "metadata": {},
     "output_type": "display_data"
    },
    {
     "data": {
      "application/vnd.jupyter.widget-view+json": {
       "model_id": "",
       "version_major": 2,
       "version_minor": 0
      },
      "text/plain": [
       "HBox(children=(HTML(value=''), FloatProgress(value=0.0, max=1656.0), HTML(value='')))"
      ]
     },
     "metadata": {},
     "output_type": "display_data"
    },
    {
     "data": {
      "application/vnd.jupyter.widget-view+json": {
       "model_id": "",
       "version_major": 2,
       "version_minor": 0
      },
      "text/plain": [
       "HBox(children=(HTML(value=''), FloatProgress(value=0.0, max=132.0), HTML(value='')))"
      ]
     },
     "metadata": {},
     "output_type": "display_data"
    },
    {
     "name": "stdout",
     "output_type": "stream",
     "text": [
      "gene: sobic_006G057866_1_40312463, train_imgs: 423910, test_imgs: 33706, train_acc:0.6591,               acc: 0.6704, cultivar_acc: 0.8500\n",
      "gene: sobic_006G004400_2_2697734\n"
     ]
    },
    {
     "data": {
      "application/vnd.jupyter.widget-view+json": {
       "model_id": "",
       "version_major": 2,
       "version_minor": 0
      },
      "text/plain": [
       "HBox(children=(HTML(value=''), FloatProgress(value=0.0, max=805.0), HTML(value='')))"
      ]
     },
     "metadata": {},
     "output_type": "display_data"
    },
    {
     "data": {
      "application/vnd.jupyter.widget-view+json": {
       "model_id": "",
       "version_major": 2,
       "version_minor": 0
      },
      "text/plain": [
       "HBox(children=(HTML(value=''), FloatProgress(value=0.0, max=805.0), HTML(value='')))"
      ]
     },
     "metadata": {},
     "output_type": "display_data"
    },
    {
     "data": {
      "application/vnd.jupyter.widget-view+json": {
       "model_id": "",
       "version_major": 2,
       "version_minor": 0
      },
      "text/plain": [
       "HBox(children=(HTML(value=''), FloatProgress(value=0.0, max=805.0), HTML(value='')))"
      ]
     },
     "metadata": {},
     "output_type": "display_data"
    },
    {
     "data": {
      "application/vnd.jupyter.widget-view+json": {
       "model_id": "",
       "version_major": 2,
       "version_minor": 0
      },
      "text/plain": [
       "HBox(children=(HTML(value=''), FloatProgress(value=0.0, max=805.0), HTML(value='')))"
      ]
     },
     "metadata": {},
     "output_type": "display_data"
    },
    {
     "data": {
      "application/vnd.jupyter.widget-view+json": {
       "model_id": "",
       "version_major": 2,
       "version_minor": 0
      },
      "text/plain": [
       "HBox(children=(HTML(value=''), FloatProgress(value=0.0, max=237.0), HTML(value='')))"
      ]
     },
     "metadata": {},
     "output_type": "display_data"
    },
    {
     "name": "stdout",
     "output_type": "stream",
     "text": [
      "gene: sobic_006G004400_2_2697734, train_imgs: 205872, test_imgs: 60636, train_acc:0.6412,               acc: 0.6235, cultivar_acc: 0.7632\n",
      "gene: sobic_009G229800_1_57040680\n"
     ]
    },
    {
     "data": {
      "application/vnd.jupyter.widget-view+json": {
       "model_id": "",
       "version_major": 2,
       "version_minor": 0
      },
      "text/plain": [
       "HBox(children=(HTML(value=''), FloatProgress(value=0.0, max=1445.0), HTML(value='')))"
      ]
     },
     "metadata": {},
     "output_type": "display_data"
    },
    {
     "data": {
      "application/vnd.jupyter.widget-view+json": {
       "model_id": "",
       "version_major": 2,
       "version_minor": 0
      },
      "text/plain": [
       "HBox(children=(HTML(value=''), FloatProgress(value=0.0, max=1445.0), HTML(value='')))"
      ]
     },
     "metadata": {},
     "output_type": "display_data"
    },
    {
     "data": {
      "application/vnd.jupyter.widget-view+json": {
       "model_id": "",
       "version_major": 2,
       "version_minor": 0
      },
      "text/plain": [
       "HBox(children=(HTML(value=''), FloatProgress(value=0.0, max=1445.0), HTML(value='')))"
      ]
     },
     "metadata": {},
     "output_type": "display_data"
    },
    {
     "data": {
      "application/vnd.jupyter.widget-view+json": {
       "model_id": "",
       "version_major": 2,
       "version_minor": 0
      },
      "text/plain": [
       "HBox(children=(HTML(value=''), FloatProgress(value=0.0, max=1445.0), HTML(value='')))"
      ]
     },
     "metadata": {},
     "output_type": "display_data"
    },
    {
     "data": {
      "application/vnd.jupyter.widget-view+json": {
       "model_id": "",
       "version_major": 2,
       "version_minor": 0
      },
      "text/plain": [
       "HBox(children=(HTML(value=''), FloatProgress(value=0.0, max=353.0), HTML(value='')))"
      ]
     },
     "metadata": {},
     "output_type": "display_data"
    },
    {
     "name": "stdout",
     "output_type": "stream",
     "text": [
      "gene: sobic_009G229800_1_57040680, train_imgs: 369672, test_imgs: 90132, train_acc:0.6300,               acc: 0.5868, cultivar_acc: 0.6111\n"
     ]
    }
   ],
   "source": [
    "rgb_result_df, rgb_pred_dict = single_sensor_gene_pred(known_genetic_markers, 'rgb')"
   ]
  },
  {
   "cell_type": "code",
   "execution_count": 10,
   "id": "6f0df83e-f53c-435f-a1a2-a6e76b071582",
   "metadata": {
    "tags": []
   },
   "outputs": [
    {
     "name": "stdout",
     "output_type": "stream",
     "text": [
      "gene: sobic_001G269200_1_51588525\n"
     ]
    },
    {
     "data": {
      "application/vnd.jupyter.widget-view+json": {
       "model_id": "",
       "version_major": 2,
       "version_minor": 0
      },
      "text/plain": [
       "HBox(children=(HTML(value=''), FloatProgress(value=0.0, max=1115.0), HTML(value='')))"
      ]
     },
     "metadata": {},
     "output_type": "display_data"
    },
    {
     "data": {
      "application/vnd.jupyter.widget-view+json": {
       "model_id": "",
       "version_major": 2,
       "version_minor": 0
      },
      "text/plain": [
       "HBox(children=(HTML(value=''), FloatProgress(value=0.0, max=1115.0), HTML(value='')))"
      ]
     },
     "metadata": {},
     "output_type": "display_data"
    },
    {
     "data": {
      "application/vnd.jupyter.widget-view+json": {
       "model_id": "",
       "version_major": 2,
       "version_minor": 0
      },
      "text/plain": [
       "HBox(children=(HTML(value=''), FloatProgress(value=0.0, max=1115.0), HTML(value='')))"
      ]
     },
     "metadata": {},
     "output_type": "display_data"
    },
    {
     "data": {
      "application/vnd.jupyter.widget-view+json": {
       "model_id": "",
       "version_major": 2,
       "version_minor": 0
      },
      "text/plain": [
       "HBox(children=(HTML(value=''), FloatProgress(value=0.0, max=1115.0), HTML(value='')))"
      ]
     },
     "metadata": {},
     "output_type": "display_data"
    },
    {
     "data": {
      "application/vnd.jupyter.widget-view+json": {
       "model_id": "",
       "version_major": 2,
       "version_minor": 0
      },
      "text/plain": [
       "HBox(children=(HTML(value=''), FloatProgress(value=0.0, max=316.0), HTML(value='')))"
      ]
     },
     "metadata": {},
     "output_type": "display_data"
    },
    {
     "name": "stdout",
     "output_type": "stream",
     "text": [
      "gene: sobic_001G269200_1_51588525, train_imgs: 285259, test_imgs: 80892, train_acc:0.6019,               acc: 0.5687, cultivar_acc: 0.7000\n",
      "gene: sobic_001G269200_1_51588838\n"
     ]
    },
    {
     "data": {
      "application/vnd.jupyter.widget-view+json": {
       "model_id": "",
       "version_major": 2,
       "version_minor": 0
      },
      "text/plain": [
       "HBox(children=(HTML(value=''), FloatProgress(value=0.0, max=1024.0), HTML(value='')))"
      ]
     },
     "metadata": {},
     "output_type": "display_data"
    },
    {
     "data": {
      "application/vnd.jupyter.widget-view+json": {
       "model_id": "",
       "version_major": 2,
       "version_minor": 0
      },
      "text/plain": [
       "HBox(children=(HTML(value=''), FloatProgress(value=0.0, max=1024.0), HTML(value='')))"
      ]
     },
     "metadata": {},
     "output_type": "display_data"
    },
    {
     "data": {
      "application/vnd.jupyter.widget-view+json": {
       "model_id": "",
       "version_major": 2,
       "version_minor": 0
      },
      "text/plain": [
       "HBox(children=(HTML(value=''), FloatProgress(value=0.0, max=1024.0), HTML(value='')))"
      ]
     },
     "metadata": {},
     "output_type": "display_data"
    },
    {
     "data": {
      "application/vnd.jupyter.widget-view+json": {
       "model_id": "",
       "version_major": 2,
       "version_minor": 0
      },
      "text/plain": [
       "HBox(children=(HTML(value=''), FloatProgress(value=0.0, max=1024.0), HTML(value='')))"
      ]
     },
     "metadata": {},
     "output_type": "display_data"
    },
    {
     "data": {
      "application/vnd.jupyter.widget-view+json": {
       "model_id": "",
       "version_major": 2,
       "version_minor": 0
      },
      "text/plain": [
       "HBox(children=(HTML(value=''), FloatProgress(value=0.0, max=295.0), HTML(value='')))"
      ]
     },
     "metadata": {},
     "output_type": "display_data"
    },
    {
     "name": "stdout",
     "output_type": "stream",
     "text": [
      "gene: sobic_001G269200_1_51588838, train_imgs: 262127, test_imgs: 75394, train_acc:0.5940,               acc: 0.5642, cultivar_acc: 0.6957\n",
      "gene: sobic_001G269200_1_51589143\n"
     ]
    },
    {
     "data": {
      "application/vnd.jupyter.widget-view+json": {
       "model_id": "",
       "version_major": 2,
       "version_minor": 0
      },
      "text/plain": [
       "HBox(children=(HTML(value=''), FloatProgress(value=0.0, max=1067.0), HTML(value='')))"
      ]
     },
     "metadata": {},
     "output_type": "display_data"
    },
    {
     "data": {
      "application/vnd.jupyter.widget-view+json": {
       "model_id": "",
       "version_major": 2,
       "version_minor": 0
      },
      "text/plain": [
       "HBox(children=(HTML(value=''), FloatProgress(value=0.0, max=1067.0), HTML(value='')))"
      ]
     },
     "metadata": {},
     "output_type": "display_data"
    },
    {
     "data": {
      "application/vnd.jupyter.widget-view+json": {
       "model_id": "",
       "version_major": 2,
       "version_minor": 0
      },
      "text/plain": [
       "HBox(children=(HTML(value=''), FloatProgress(value=0.0, max=1067.0), HTML(value='')))"
      ]
     },
     "metadata": {},
     "output_type": "display_data"
    },
    {
     "data": {
      "application/vnd.jupyter.widget-view+json": {
       "model_id": "",
       "version_major": 2,
       "version_minor": 0
      },
      "text/plain": [
       "HBox(children=(HTML(value=''), FloatProgress(value=0.0, max=1067.0), HTML(value='')))"
      ]
     },
     "metadata": {},
     "output_type": "display_data"
    },
    {
     "data": {
      "application/vnd.jupyter.widget-view+json": {
       "model_id": "",
       "version_major": 2,
       "version_minor": 0
      },
      "text/plain": [
       "HBox(children=(HTML(value=''), FloatProgress(value=0.0, max=440.0), HTML(value='')))"
      ]
     },
     "metadata": {},
     "output_type": "display_data"
    },
    {
     "name": "stdout",
     "output_type": "stream",
     "text": [
      "gene: sobic_001G269200_1_51589143, train_imgs: 273089, test_imgs: 112610, train_acc:0.6021,               acc: 0.5971, cultivar_acc: 0.6618\n",
      "gene: sobic_001G269200_1_51589435\n"
     ]
    },
    {
     "data": {
      "application/vnd.jupyter.widget-view+json": {
       "model_id": "",
       "version_major": 2,
       "version_minor": 0
      },
      "text/plain": [
       "HBox(children=(HTML(value=''), FloatProgress(value=0.0, max=1262.0), HTML(value='')))"
      ]
     },
     "metadata": {},
     "output_type": "display_data"
    },
    {
     "data": {
      "application/vnd.jupyter.widget-view+json": {
       "model_id": "",
       "version_major": 2,
       "version_minor": 0
      },
      "text/plain": [
       "HBox(children=(HTML(value=''), FloatProgress(value=0.0, max=1262.0), HTML(value='')))"
      ]
     },
     "metadata": {},
     "output_type": "display_data"
    },
    {
     "data": {
      "application/vnd.jupyter.widget-view+json": {
       "model_id": "",
       "version_major": 2,
       "version_minor": 0
      },
      "text/plain": [
       "HBox(children=(HTML(value=''), FloatProgress(value=0.0, max=1262.0), HTML(value='')))"
      ]
     },
     "metadata": {},
     "output_type": "display_data"
    },
    {
     "data": {
      "application/vnd.jupyter.widget-view+json": {
       "model_id": "",
       "version_major": 2,
       "version_minor": 0
      },
      "text/plain": [
       "HBox(children=(HTML(value=''), FloatProgress(value=0.0, max=1262.0), HTML(value='')))"
      ]
     },
     "metadata": {},
     "output_type": "display_data"
    },
    {
     "data": {
      "application/vnd.jupyter.widget-view+json": {
       "model_id": "",
       "version_major": 2,
       "version_minor": 0
      },
      "text/plain": [
       "HBox(children=(HTML(value=''), FloatProgress(value=0.0, max=217.0), HTML(value='')))"
      ]
     },
     "metadata": {},
     "output_type": "display_data"
    },
    {
     "name": "stdout",
     "output_type": "stream",
     "text": [
      "gene: sobic_001G269200_1_51589435, train_imgs: 322863, test_imgs: 55332, train_acc:0.6261,               acc: 0.6064, cultivar_acc: 0.7500\n",
      "gene: sobic_006G067700_1_42805319\n"
     ]
    },
    {
     "data": {
      "application/vnd.jupyter.widget-view+json": {
       "model_id": "",
       "version_major": 2,
       "version_minor": 0
      },
      "text/plain": [
       "HBox(children=(HTML(value=''), FloatProgress(value=0.0, max=1224.0), HTML(value='')))"
      ]
     },
     "metadata": {},
     "output_type": "display_data"
    },
    {
     "data": {
      "application/vnd.jupyter.widget-view+json": {
       "model_id": "",
       "version_major": 2,
       "version_minor": 0
      },
      "text/plain": [
       "HBox(children=(HTML(value=''), FloatProgress(value=0.0, max=1224.0), HTML(value='')))"
      ]
     },
     "metadata": {},
     "output_type": "display_data"
    },
    {
     "data": {
      "application/vnd.jupyter.widget-view+json": {
       "model_id": "",
       "version_major": 2,
       "version_minor": 0
      },
      "text/plain": [
       "HBox(children=(HTML(value=''), FloatProgress(value=0.0, max=1224.0), HTML(value='')))"
      ]
     },
     "metadata": {},
     "output_type": "display_data"
    },
    {
     "data": {
      "application/vnd.jupyter.widget-view+json": {
       "model_id": "",
       "version_major": 2,
       "version_minor": 0
      },
      "text/plain": [
       "HBox(children=(HTML(value=''), FloatProgress(value=0.0, max=1224.0), HTML(value='')))"
      ]
     },
     "metadata": {},
     "output_type": "display_data"
    },
    {
     "data": {
      "application/vnd.jupyter.widget-view+json": {
       "model_id": "",
       "version_major": 2,
       "version_minor": 0
      },
      "text/plain": [
       "HBox(children=(HTML(value=''), FloatProgress(value=0.0, max=500.0), HTML(value='')))"
      ]
     },
     "metadata": {},
     "output_type": "display_data"
    },
    {
     "name": "stdout",
     "output_type": "stream",
     "text": [
      "gene: sobic_006G067700_1_42805319, train_imgs: 313286, test_imgs: 127898, train_acc:0.5924,               acc: 0.5842, cultivar_acc: 0.6538\n",
      "gene: sobic_006G067700_1_42804037\n"
     ]
    },
    {
     "data": {
      "application/vnd.jupyter.widget-view+json": {
       "model_id": "",
       "version_major": 2,
       "version_minor": 0
      },
      "text/plain": [
       "HBox(children=(HTML(value=''), FloatProgress(value=0.0, max=1181.0), HTML(value='')))"
      ]
     },
     "metadata": {},
     "output_type": "display_data"
    },
    {
     "data": {
      "application/vnd.jupyter.widget-view+json": {
       "model_id": "",
       "version_major": 2,
       "version_minor": 0
      },
      "text/plain": [
       "HBox(children=(HTML(value=''), FloatProgress(value=0.0, max=1181.0), HTML(value='')))"
      ]
     },
     "metadata": {},
     "output_type": "display_data"
    },
    {
     "data": {
      "application/vnd.jupyter.widget-view+json": {
       "model_id": "",
       "version_major": 2,
       "version_minor": 0
      },
      "text/plain": [
       "HBox(children=(HTML(value=''), FloatProgress(value=0.0, max=1181.0), HTML(value='')))"
      ]
     },
     "metadata": {},
     "output_type": "display_data"
    },
    {
     "data": {
      "application/vnd.jupyter.widget-view+json": {
       "model_id": "",
       "version_major": 2,
       "version_minor": 0
      },
      "text/plain": [
       "HBox(children=(HTML(value=''), FloatProgress(value=0.0, max=1181.0), HTML(value='')))"
      ]
     },
     "metadata": {},
     "output_type": "display_data"
    },
    {
     "data": {
      "application/vnd.jupyter.widget-view+json": {
       "model_id": "",
       "version_major": 2,
       "version_minor": 0
      },
      "text/plain": [
       "HBox(children=(HTML(value=''), FloatProgress(value=0.0, max=471.0), HTML(value='')))"
      ]
     },
     "metadata": {},
     "output_type": "display_data"
    },
    {
     "name": "stdout",
     "output_type": "stream",
     "text": [
      "gene: sobic_006G067700_1_42804037, train_imgs: 302262, test_imgs: 120344, train_acc:0.5934,               acc: 0.5708, cultivar_acc: 0.6806\n",
      "gene: sobic_006G147400_1_50898459\n"
     ]
    },
    {
     "data": {
      "application/vnd.jupyter.widget-view+json": {
       "model_id": "",
       "version_major": 2,
       "version_minor": 0
      },
      "text/plain": [
       "HBox(children=(HTML(value=''), FloatProgress(value=0.0, max=1261.0), HTML(value='')))"
      ]
     },
     "metadata": {},
     "output_type": "display_data"
    },
    {
     "data": {
      "application/vnd.jupyter.widget-view+json": {
       "model_id": "",
       "version_major": 2,
       "version_minor": 0
      },
      "text/plain": [
       "HBox(children=(HTML(value=''), FloatProgress(value=0.0, max=1261.0), HTML(value='')))"
      ]
     },
     "metadata": {},
     "output_type": "display_data"
    },
    {
     "data": {
      "application/vnd.jupyter.widget-view+json": {
       "model_id": "",
       "version_major": 2,
       "version_minor": 0
      },
      "text/plain": [
       "HBox(children=(HTML(value=''), FloatProgress(value=0.0, max=1261.0), HTML(value='')))"
      ]
     },
     "metadata": {},
     "output_type": "display_data"
    },
    {
     "data": {
      "application/vnd.jupyter.widget-view+json": {
       "model_id": "",
       "version_major": 2,
       "version_minor": 0
      },
      "text/plain": [
       "HBox(children=(HTML(value=''), FloatProgress(value=0.0, max=1261.0), HTML(value='')))"
      ]
     },
     "metadata": {},
     "output_type": "display_data"
    },
    {
     "data": {
      "application/vnd.jupyter.widget-view+json": {
       "model_id": "",
       "version_major": 2,
       "version_minor": 0
      },
      "text/plain": [
       "HBox(children=(HTML(value=''), FloatProgress(value=0.0, max=231.0), HTML(value='')))"
      ]
     },
     "metadata": {},
     "output_type": "display_data"
    },
    {
     "name": "stdout",
     "output_type": "stream",
     "text": [
      "gene: sobic_006G147400_1_50898459, train_imgs: 322659, test_imgs: 59056, train_acc:0.5920,               acc: 0.5362, cultivar_acc: 0.6053\n",
      "gene: sobic_006G147400_1_50898536\n"
     ]
    },
    {
     "data": {
      "application/vnd.jupyter.widget-view+json": {
       "model_id": "",
       "version_major": 2,
       "version_minor": 0
      },
      "text/plain": [
       "HBox(children=(HTML(value=''), FloatProgress(value=0.0, max=1228.0), HTML(value='')))"
      ]
     },
     "metadata": {},
     "output_type": "display_data"
    },
    {
     "data": {
      "application/vnd.jupyter.widget-view+json": {
       "model_id": "",
       "version_major": 2,
       "version_minor": 0
      },
      "text/plain": [
       "HBox(children=(HTML(value=''), FloatProgress(value=0.0, max=1228.0), HTML(value='')))"
      ]
     },
     "metadata": {},
     "output_type": "display_data"
    },
    {
     "data": {
      "application/vnd.jupyter.widget-view+json": {
       "model_id": "",
       "version_major": 2,
       "version_minor": 0
      },
      "text/plain": [
       "HBox(children=(HTML(value=''), FloatProgress(value=0.0, max=1228.0), HTML(value='')))"
      ]
     },
     "metadata": {},
     "output_type": "display_data"
    },
    {
     "data": {
      "application/vnd.jupyter.widget-view+json": {
       "model_id": "",
       "version_major": 2,
       "version_minor": 0
      },
      "text/plain": [
       "HBox(children=(HTML(value=''), FloatProgress(value=0.0, max=1228.0), HTML(value='')))"
      ]
     },
     "metadata": {},
     "output_type": "display_data"
    },
    {
     "data": {
      "application/vnd.jupyter.widget-view+json": {
       "model_id": "",
       "version_major": 2,
       "version_minor": 0
      },
      "text/plain": [
       "HBox(children=(HTML(value=''), FloatProgress(value=0.0, max=256.0), HTML(value='')))"
      ]
     },
     "metadata": {},
     "output_type": "display_data"
    },
    {
     "name": "stdout",
     "output_type": "stream",
     "text": [
      "gene: sobic_006G147400_1_50898536, train_imgs: 314192, test_imgs: 65414, train_acc:0.5774,               acc: 0.5689, cultivar_acc: 0.6842\n",
      "gene: sobic_006G147400_1_50898315\n"
     ]
    },
    {
     "data": {
      "application/vnd.jupyter.widget-view+json": {
       "model_id": "",
       "version_major": 2,
       "version_minor": 0
      },
      "text/plain": [
       "HBox(children=(HTML(value=''), FloatProgress(value=0.0, max=1085.0), HTML(value='')))"
      ]
     },
     "metadata": {},
     "output_type": "display_data"
    },
    {
     "data": {
      "application/vnd.jupyter.widget-view+json": {
       "model_id": "",
       "version_major": 2,
       "version_minor": 0
      },
      "text/plain": [
       "HBox(children=(HTML(value=''), FloatProgress(value=0.0, max=1085.0), HTML(value='')))"
      ]
     },
     "metadata": {},
     "output_type": "display_data"
    },
    {
     "data": {
      "application/vnd.jupyter.widget-view+json": {
       "model_id": "",
       "version_major": 2,
       "version_minor": 0
      },
      "text/plain": [
       "HBox(children=(HTML(value=''), FloatProgress(value=0.0, max=1085.0), HTML(value='')))"
      ]
     },
     "metadata": {},
     "output_type": "display_data"
    },
    {
     "data": {
      "application/vnd.jupyter.widget-view+json": {
       "model_id": "",
       "version_major": 2,
       "version_minor": 0
      },
      "text/plain": [
       "HBox(children=(HTML(value=''), FloatProgress(value=0.0, max=1085.0), HTML(value='')))"
      ]
     },
     "metadata": {},
     "output_type": "display_data"
    },
    {
     "data": {
      "application/vnd.jupyter.widget-view+json": {
       "model_id": "",
       "version_major": 2,
       "version_minor": 0
      },
      "text/plain": [
       "HBox(children=(HTML(value=''), FloatProgress(value=0.0, max=254.0), HTML(value='')))"
      ]
     },
     "metadata": {},
     "output_type": "display_data"
    },
    {
     "name": "stdout",
     "output_type": "stream",
     "text": [
      "gene: sobic_006G147400_1_50898315, train_imgs: 277623, test_imgs: 64800, train_acc:0.5777,               acc: 0.5837, cultivar_acc: 0.6579\n",
      "gene: sobic_006G147400_1_50898231\n"
     ]
    },
    {
     "data": {
      "application/vnd.jupyter.widget-view+json": {
       "model_id": "",
       "version_major": 2,
       "version_minor": 0
      },
      "text/plain": [
       "HBox(children=(HTML(value=''), FloatProgress(value=0.0, max=930.0), HTML(value='')))"
      ]
     },
     "metadata": {},
     "output_type": "display_data"
    },
    {
     "data": {
      "application/vnd.jupyter.widget-view+json": {
       "model_id": "",
       "version_major": 2,
       "version_minor": 0
      },
      "text/plain": [
       "HBox(children=(HTML(value=''), FloatProgress(value=0.0, max=930.0), HTML(value='')))"
      ]
     },
     "metadata": {},
     "output_type": "display_data"
    },
    {
     "data": {
      "application/vnd.jupyter.widget-view+json": {
       "model_id": "",
       "version_major": 2,
       "version_minor": 0
      },
      "text/plain": [
       "HBox(children=(HTML(value=''), FloatProgress(value=0.0, max=930.0), HTML(value='')))"
      ]
     },
     "metadata": {},
     "output_type": "display_data"
    },
    {
     "data": {
      "application/vnd.jupyter.widget-view+json": {
       "model_id": "",
       "version_major": 2,
       "version_minor": 0
      },
      "text/plain": [
       "HBox(children=(HTML(value=''), FloatProgress(value=0.0, max=930.0), HTML(value='')))"
      ]
     },
     "metadata": {},
     "output_type": "display_data"
    },
    {
     "data": {
      "application/vnd.jupyter.widget-view+json": {
       "model_id": "",
       "version_major": 2,
       "version_minor": 0
      },
      "text/plain": [
       "HBox(children=(HTML(value=''), FloatProgress(value=0.0, max=215.0), HTML(value='')))"
      ]
     },
     "metadata": {},
     "output_type": "display_data"
    },
    {
     "name": "stdout",
     "output_type": "stream",
     "text": [
      "gene: sobic_006G147400_1_50898231, train_imgs: 237907, test_imgs: 54942, train_acc:0.5717,               acc: 0.5779, cultivar_acc: 0.6176\n",
      "gene: sobic_006G147400_1_50898523\n"
     ]
    },
    {
     "data": {
      "application/vnd.jupyter.widget-view+json": {
       "model_id": "",
       "version_major": 2,
       "version_minor": 0
      },
      "text/plain": [
       "HBox(children=(HTML(value=''), FloatProgress(value=0.0, max=1220.0), HTML(value='')))"
      ]
     },
     "metadata": {},
     "output_type": "display_data"
    },
    {
     "data": {
      "application/vnd.jupyter.widget-view+json": {
       "model_id": "",
       "version_major": 2,
       "version_minor": 0
      },
      "text/plain": [
       "HBox(children=(HTML(value=''), FloatProgress(value=0.0, max=1220.0), HTML(value='')))"
      ]
     },
     "metadata": {},
     "output_type": "display_data"
    },
    {
     "data": {
      "application/vnd.jupyter.widget-view+json": {
       "model_id": "",
       "version_major": 2,
       "version_minor": 0
      },
      "text/plain": [
       "HBox(children=(HTML(value=''), FloatProgress(value=0.0, max=1220.0), HTML(value='')))"
      ]
     },
     "metadata": {},
     "output_type": "display_data"
    },
    {
     "data": {
      "application/vnd.jupyter.widget-view+json": {
       "model_id": "",
       "version_major": 2,
       "version_minor": 0
      },
      "text/plain": [
       "HBox(children=(HTML(value=''), FloatProgress(value=0.0, max=1220.0), HTML(value='')))"
      ]
     },
     "metadata": {},
     "output_type": "display_data"
    },
    {
     "data": {
      "application/vnd.jupyter.widget-view+json": {
       "model_id": "",
       "version_major": 2,
       "version_minor": 0
      },
      "text/plain": [
       "HBox(children=(HTML(value=''), FloatProgress(value=0.0, max=238.0), HTML(value='')))"
      ]
     },
     "metadata": {},
     "output_type": "display_data"
    },
    {
     "name": "stdout",
     "output_type": "stream",
     "text": [
      "gene: sobic_006G147400_1_50898523, train_imgs: 312081, test_imgs: 60792, train_acc:0.5848,               acc: 0.5676, cultivar_acc: 0.5789\n",
      "gene: sobic_006G147400_1_50898525\n"
     ]
    },
    {
     "data": {
      "application/vnd.jupyter.widget-view+json": {
       "model_id": "",
       "version_major": 2,
       "version_minor": 0
      },
      "text/plain": [
       "HBox(children=(HTML(value=''), FloatProgress(value=0.0, max=1229.0), HTML(value='')))"
      ]
     },
     "metadata": {},
     "output_type": "display_data"
    },
    {
     "data": {
      "application/vnd.jupyter.widget-view+json": {
       "model_id": "",
       "version_major": 2,
       "version_minor": 0
      },
      "text/plain": [
       "HBox(children=(HTML(value=''), FloatProgress(value=0.0, max=1229.0), HTML(value='')))"
      ]
     },
     "metadata": {},
     "output_type": "display_data"
    },
    {
     "data": {
      "application/vnd.jupyter.widget-view+json": {
       "model_id": "",
       "version_major": 2,
       "version_minor": 0
      },
      "text/plain": [
       "HBox(children=(HTML(value=''), FloatProgress(value=0.0, max=1229.0), HTML(value='')))"
      ]
     },
     "metadata": {},
     "output_type": "display_data"
    },
    {
     "data": {
      "application/vnd.jupyter.widget-view+json": {
       "model_id": "",
       "version_major": 2,
       "version_minor": 0
      },
      "text/plain": [
       "HBox(children=(HTML(value=''), FloatProgress(value=0.0, max=1229.0), HTML(value='')))"
      ]
     },
     "metadata": {},
     "output_type": "display_data"
    },
    {
     "data": {
      "application/vnd.jupyter.widget-view+json": {
       "model_id": "",
       "version_major": 2,
       "version_minor": 0
      },
      "text/plain": [
       "HBox(children=(HTML(value=''), FloatProgress(value=0.0, max=237.0), HTML(value='')))"
      ]
     },
     "metadata": {},
     "output_type": "display_data"
    },
    {
     "name": "stdout",
     "output_type": "stream",
     "text": [
      "gene: sobic_006G147400_1_50898525, train_imgs: 314401, test_imgs: 60658, train_acc:0.5923,               acc: 0.5756, cultivar_acc: 0.6579\n",
      "gene: sobic_006G057866_1_40312463\n"
     ]
    },
    {
     "data": {
      "application/vnd.jupyter.widget-view+json": {
       "model_id": "",
       "version_major": 2,
       "version_minor": 0
      },
      "text/plain": [
       "HBox(children=(HTML(value=''), FloatProgress(value=0.0, max=1673.0), HTML(value='')))"
      ]
     },
     "metadata": {},
     "output_type": "display_data"
    },
    {
     "data": {
      "application/vnd.jupyter.widget-view+json": {
       "model_id": "",
       "version_major": 2,
       "version_minor": 0
      },
      "text/plain": [
       "HBox(children=(HTML(value=''), FloatProgress(value=0.0, max=1673.0), HTML(value='')))"
      ]
     },
     "metadata": {},
     "output_type": "display_data"
    },
    {
     "data": {
      "application/vnd.jupyter.widget-view+json": {
       "model_id": "",
       "version_major": 2,
       "version_minor": 0
      },
      "text/plain": [
       "HBox(children=(HTML(value=''), FloatProgress(value=0.0, max=1673.0), HTML(value='')))"
      ]
     },
     "metadata": {},
     "output_type": "display_data"
    },
    {
     "data": {
      "application/vnd.jupyter.widget-view+json": {
       "model_id": "",
       "version_major": 2,
       "version_minor": 0
      },
      "text/plain": [
       "HBox(children=(HTML(value=''), FloatProgress(value=0.0, max=1673.0), HTML(value='')))"
      ]
     },
     "metadata": {},
     "output_type": "display_data"
    },
    {
     "data": {
      "application/vnd.jupyter.widget-view+json": {
       "model_id": "",
       "version_major": 2,
       "version_minor": 0
      },
      "text/plain": [
       "HBox(children=(HTML(value=''), FloatProgress(value=0.0, max=137.0), HTML(value='')))"
      ]
     },
     "metadata": {},
     "output_type": "display_data"
    },
    {
     "name": "stdout",
     "output_type": "stream",
     "text": [
      "gene: sobic_006G057866_1_40312463, train_imgs: 428177, test_imgs: 34958, train_acc:0.6198,               acc: 0.5432, cultivar_acc: 0.6500\n",
      "gene: sobic_006G004400_2_2697734\n"
     ]
    },
    {
     "data": {
      "application/vnd.jupyter.widget-view+json": {
       "model_id": "",
       "version_major": 2,
       "version_minor": 0
      },
      "text/plain": [
       "HBox(children=(HTML(value=''), FloatProgress(value=0.0, max=806.0), HTML(value='')))"
      ]
     },
     "metadata": {},
     "output_type": "display_data"
    },
    {
     "data": {
      "application/vnd.jupyter.widget-view+json": {
       "model_id": "",
       "version_major": 2,
       "version_minor": 0
      },
      "text/plain": [
       "HBox(children=(HTML(value=''), FloatProgress(value=0.0, max=806.0), HTML(value='')))"
      ]
     },
     "metadata": {},
     "output_type": "display_data"
    },
    {
     "data": {
      "application/vnd.jupyter.widget-view+json": {
       "model_id": "",
       "version_major": 2,
       "version_minor": 0
      },
      "text/plain": [
       "HBox(children=(HTML(value=''), FloatProgress(value=0.0, max=806.0), HTML(value='')))"
      ]
     },
     "metadata": {},
     "output_type": "display_data"
    },
    {
     "data": {
      "application/vnd.jupyter.widget-view+json": {
       "model_id": "",
       "version_major": 2,
       "version_minor": 0
      },
      "text/plain": [
       "HBox(children=(HTML(value=''), FloatProgress(value=0.0, max=806.0), HTML(value='')))"
      ]
     },
     "metadata": {},
     "output_type": "display_data"
    },
    {
     "data": {
      "application/vnd.jupyter.widget-view+json": {
       "model_id": "",
       "version_major": 2,
       "version_minor": 0
      },
      "text/plain": [
       "HBox(children=(HTML(value=''), FloatProgress(value=0.0, max=247.0), HTML(value='')))"
      ]
     },
     "metadata": {},
     "output_type": "display_data"
    },
    {
     "name": "stdout",
     "output_type": "stream",
     "text": [
      "gene: sobic_006G004400_2_2697734, train_imgs: 206256, test_imgs: 63080, train_acc:0.6450,               acc: 0.6304, cultivar_acc: 0.8158\n",
      "gene: sobic_009G229800_1_57040680\n"
     ]
    },
    {
     "data": {
      "application/vnd.jupyter.widget-view+json": {
       "model_id": "",
       "version_major": 2,
       "version_minor": 0
      },
      "text/plain": [
       "HBox(children=(HTML(value=''), FloatProgress(value=0.0, max=1467.0), HTML(value='')))"
      ]
     },
     "metadata": {},
     "output_type": "display_data"
    },
    {
     "data": {
      "application/vnd.jupyter.widget-view+json": {
       "model_id": "",
       "version_major": 2,
       "version_minor": 0
      },
      "text/plain": [
       "HBox(children=(HTML(value=''), FloatProgress(value=0.0, max=1467.0), HTML(value='')))"
      ]
     },
     "metadata": {},
     "output_type": "display_data"
    },
    {
     "data": {
      "application/vnd.jupyter.widget-view+json": {
       "model_id": "",
       "version_major": 2,
       "version_minor": 0
      },
      "text/plain": [
       "HBox(children=(HTML(value=''), FloatProgress(value=0.0, max=1467.0), HTML(value='')))"
      ]
     },
     "metadata": {},
     "output_type": "display_data"
    },
    {
     "data": {
      "application/vnd.jupyter.widget-view+json": {
       "model_id": "",
       "version_major": 2,
       "version_minor": 0
      },
      "text/plain": [
       "HBox(children=(HTML(value=''), FloatProgress(value=0.0, max=1467.0), HTML(value='')))"
      ]
     },
     "metadata": {},
     "output_type": "display_data"
    },
    {
     "data": {
      "application/vnd.jupyter.widget-view+json": {
       "model_id": "",
       "version_major": 2,
       "version_minor": 0
      },
      "text/plain": [
       "HBox(children=(HTML(value=''), FloatProgress(value=0.0, max=354.0), HTML(value='')))"
      ]
     },
     "metadata": {},
     "output_type": "display_data"
    },
    {
     "name": "stdout",
     "output_type": "stream",
     "text": [
      "gene: sobic_009G229800_1_57040680, train_imgs: 375433, test_imgs: 90462, train_acc:0.5933,               acc: 0.5899, cultivar_acc: 0.7037\n"
     ]
    }
   ],
   "source": [
    "d3_result_df, d3_pred_dict = single_sensor_gene_pred(known_genetic_markers, '3d')"
   ]
  },
  {
   "cell_type": "code",
   "execution_count": 11,
   "id": "7ff0f7a1-f117-4595-912c-a502adbce1f0",
   "metadata": {},
   "outputs": [],
   "source": [
    "pd.options.display.float_format = '{:,.3f}'.format"
   ]
  },
  {
   "cell_type": "code",
   "execution_count": 12,
   "id": "f2b02e6f-4b0f-43d7-9e6c-7f7c6afe51b0",
   "metadata": {},
   "outputs": [
    {
     "data": {
      "text/html": [
       "<div>\n",
       "<style scoped>\n",
       "    .dataframe tbody tr th:only-of-type {\n",
       "        vertical-align: middle;\n",
       "    }\n",
       "\n",
       "    .dataframe tbody tr th {\n",
       "        vertical-align: top;\n",
       "    }\n",
       "\n",
       "    .dataframe thead th {\n",
       "        text-align: right;\n",
       "    }\n",
       "</style>\n",
       "<table border=\"1\" class=\"dataframe\">\n",
       "  <thead>\n",
       "    <tr style=\"text-align: right;\">\n",
       "      <th></th>\n",
       "      <th>family</th>\n",
       "      <th>gene</th>\n",
       "      <th>num_train_samples</th>\n",
       "      <th>num_test_samples</th>\n",
       "      <th>train_acc</th>\n",
       "      <th>test_acc</th>\n",
       "      <th>cultivar_mode_acc</th>\n",
       "    </tr>\n",
       "  </thead>\n",
       "  <tbody>\n",
       "    <tr>\n",
       "      <th>0</th>\n",
       "      <td>leaf_wax</td>\n",
       "      <td>sobic_001G269200_1_51588525</td>\n",
       "      <td>279151</td>\n",
       "      <td>82644</td>\n",
       "      <td>0.653</td>\n",
       "      <td>0.615</td>\n",
       "      <td>0.640</td>\n",
       "    </tr>\n",
       "    <tr>\n",
       "      <th>1</th>\n",
       "      <td>leaf_wax</td>\n",
       "      <td>sobic_001G269200_1_51588838</td>\n",
       "      <td>257180</td>\n",
       "      <td>74100</td>\n",
       "      <td>0.634</td>\n",
       "      <td>0.601</td>\n",
       "      <td>0.652</td>\n",
       "    </tr>\n",
       "    <tr>\n",
       "      <th>2</th>\n",
       "      <td>leaf_wax</td>\n",
       "      <td>sobic_001G269200_1_51589143</td>\n",
       "      <td>268544</td>\n",
       "      <td>111672</td>\n",
       "      <td>0.638</td>\n",
       "      <td>0.622</td>\n",
       "      <td>0.662</td>\n",
       "    </tr>\n",
       "    <tr>\n",
       "      <th>3</th>\n",
       "      <td>leaf_wax</td>\n",
       "      <td>sobic_001G269200_1_51589435</td>\n",
       "      <td>319136</td>\n",
       "      <td>53620</td>\n",
       "      <td>0.650</td>\n",
       "      <td>0.640</td>\n",
       "      <td>0.781</td>\n",
       "    </tr>\n",
       "    <tr>\n",
       "      <th>4</th>\n",
       "      <td>dw</td>\n",
       "      <td>sobic_006G067700_1_42805319</td>\n",
       "      <td>311427</td>\n",
       "      <td>124734</td>\n",
       "      <td>0.622</td>\n",
       "      <td>0.604</td>\n",
       "      <td>0.654</td>\n",
       "    </tr>\n",
       "    <tr>\n",
       "      <th>5</th>\n",
       "      <td>dw</td>\n",
       "      <td>sobic_006G067700_1_42804037</td>\n",
       "      <td>298316</td>\n",
       "      <td>117852</td>\n",
       "      <td>0.621</td>\n",
       "      <td>0.597</td>\n",
       "      <td>0.653</td>\n",
       "    </tr>\n",
       "    <tr>\n",
       "      <th>6</th>\n",
       "      <td>d_locus</td>\n",
       "      <td>sobic_006G147400_1_50898459</td>\n",
       "      <td>320272</td>\n",
       "      <td>58340</td>\n",
       "      <td>0.609</td>\n",
       "      <td>0.539</td>\n",
       "      <td>0.553</td>\n",
       "    </tr>\n",
       "    <tr>\n",
       "      <th>7</th>\n",
       "      <td>d_locus</td>\n",
       "      <td>sobic_006G147400_1_50898536</td>\n",
       "      <td>311582</td>\n",
       "      <td>62912</td>\n",
       "      <td>0.601</td>\n",
       "      <td>0.505</td>\n",
       "      <td>0.500</td>\n",
       "    </tr>\n",
       "    <tr>\n",
       "      <th>8</th>\n",
       "      <td>d_locus</td>\n",
       "      <td>sobic_006G147400_1_50898315</td>\n",
       "      <td>275004</td>\n",
       "      <td>63664</td>\n",
       "      <td>0.596</td>\n",
       "      <td>0.527</td>\n",
       "      <td>0.553</td>\n",
       "    </tr>\n",
       "    <tr>\n",
       "      <th>9</th>\n",
       "      <td>d_locus</td>\n",
       "      <td>sobic_006G147400_1_50898231</td>\n",
       "      <td>237704</td>\n",
       "      <td>53468</td>\n",
       "      <td>0.589</td>\n",
       "      <td>0.617</td>\n",
       "      <td>0.735</td>\n",
       "    </tr>\n",
       "    <tr>\n",
       "      <th>10</th>\n",
       "      <td>d_locus</td>\n",
       "      <td>sobic_006G147400_1_50898523</td>\n",
       "      <td>311172</td>\n",
       "      <td>59966</td>\n",
       "      <td>0.588</td>\n",
       "      <td>0.578</td>\n",
       "      <td>0.553</td>\n",
       "    </tr>\n",
       "    <tr>\n",
       "      <th>11</th>\n",
       "      <td>d_locus</td>\n",
       "      <td>sobic_006G147400_1_50898525</td>\n",
       "      <td>310297</td>\n",
       "      <td>61254</td>\n",
       "      <td>0.573</td>\n",
       "      <td>0.625</td>\n",
       "      <td>0.763</td>\n",
       "    </tr>\n",
       "    <tr>\n",
       "      <th>12</th>\n",
       "      <td>ma</td>\n",
       "      <td>sobic_006G057866_1_40312463</td>\n",
       "      <td>423910</td>\n",
       "      <td>33706</td>\n",
       "      <td>0.659</td>\n",
       "      <td>0.670</td>\n",
       "      <td>0.850</td>\n",
       "    </tr>\n",
       "    <tr>\n",
       "      <th>13</th>\n",
       "      <td>ma</td>\n",
       "      <td>sobic_006G004400_2_2697734</td>\n",
       "      <td>205872</td>\n",
       "      <td>60636</td>\n",
       "      <td>0.641</td>\n",
       "      <td>0.624</td>\n",
       "      <td>0.763</td>\n",
       "    </tr>\n",
       "    <tr>\n",
       "      <th>14</th>\n",
       "      <td>tan</td>\n",
       "      <td>sobic_009G229800_1_57040680</td>\n",
       "      <td>369672</td>\n",
       "      <td>90132</td>\n",
       "      <td>0.630</td>\n",
       "      <td>0.587</td>\n",
       "      <td>0.611</td>\n",
       "    </tr>\n",
       "  </tbody>\n",
       "</table>\n",
       "</div>"
      ],
      "text/plain": [
       "      family                         gene  num_train_samples  \\\n",
       "0   leaf_wax  sobic_001G269200_1_51588525             279151   \n",
       "1   leaf_wax  sobic_001G269200_1_51588838             257180   \n",
       "2   leaf_wax  sobic_001G269200_1_51589143             268544   \n",
       "3   leaf_wax  sobic_001G269200_1_51589435             319136   \n",
       "4         dw  sobic_006G067700_1_42805319             311427   \n",
       "5         dw  sobic_006G067700_1_42804037             298316   \n",
       "6    d_locus  sobic_006G147400_1_50898459             320272   \n",
       "7    d_locus  sobic_006G147400_1_50898536             311582   \n",
       "8    d_locus  sobic_006G147400_1_50898315             275004   \n",
       "9    d_locus  sobic_006G147400_1_50898231             237704   \n",
       "10   d_locus  sobic_006G147400_1_50898523             311172   \n",
       "11   d_locus  sobic_006G147400_1_50898525             310297   \n",
       "12        ma  sobic_006G057866_1_40312463             423910   \n",
       "13        ma   sobic_006G004400_2_2697734             205872   \n",
       "14       tan  sobic_009G229800_1_57040680             369672   \n",
       "\n",
       "    num_test_samples  train_acc  test_acc  cultivar_mode_acc  \n",
       "0              82644      0.653     0.615              0.640  \n",
       "1              74100      0.634     0.601              0.652  \n",
       "2             111672      0.638     0.622              0.662  \n",
       "3              53620      0.650     0.640              0.781  \n",
       "4             124734      0.622     0.604              0.654  \n",
       "5             117852      0.621     0.597              0.653  \n",
       "6              58340      0.609     0.539              0.553  \n",
       "7              62912      0.601     0.505              0.500  \n",
       "8              63664      0.596     0.527              0.553  \n",
       "9              53468      0.589     0.617              0.735  \n",
       "10             59966      0.588     0.578              0.553  \n",
       "11             61254      0.573     0.625              0.763  \n",
       "12             33706      0.659     0.670              0.850  \n",
       "13             60636      0.641     0.624              0.763  \n",
       "14             90132      0.630     0.587              0.611  "
      ]
     },
     "execution_count": 12,
     "metadata": {},
     "output_type": "execute_result"
    }
   ],
   "source": [
    "rgb_result_df"
   ]
  },
  {
   "cell_type": "code",
   "execution_count": 13,
   "id": "41c698c1-f8f1-4bfb-bd05-6556691ffb1b",
   "metadata": {},
   "outputs": [
    {
     "data": {
      "text/html": [
       "<div>\n",
       "<style scoped>\n",
       "    .dataframe tbody tr th:only-of-type {\n",
       "        vertical-align: middle;\n",
       "    }\n",
       "\n",
       "    .dataframe tbody tr th {\n",
       "        vertical-align: top;\n",
       "    }\n",
       "\n",
       "    .dataframe thead th {\n",
       "        text-align: right;\n",
       "    }\n",
       "</style>\n",
       "<table border=\"1\" class=\"dataframe\">\n",
       "  <thead>\n",
       "    <tr style=\"text-align: right;\">\n",
       "      <th></th>\n",
       "      <th>family</th>\n",
       "      <th>gene</th>\n",
       "      <th>num_train_samples</th>\n",
       "      <th>num_test_samples</th>\n",
       "      <th>train_acc</th>\n",
       "      <th>test_acc</th>\n",
       "      <th>cultivar_mode_acc</th>\n",
       "    </tr>\n",
       "  </thead>\n",
       "  <tbody>\n",
       "    <tr>\n",
       "      <th>0</th>\n",
       "      <td>leaf_wax</td>\n",
       "      <td>sobic_001G269200_1_51588525</td>\n",
       "      <td>285259</td>\n",
       "      <td>80892</td>\n",
       "      <td>0.602</td>\n",
       "      <td>0.569</td>\n",
       "      <td>0.700</td>\n",
       "    </tr>\n",
       "    <tr>\n",
       "      <th>1</th>\n",
       "      <td>leaf_wax</td>\n",
       "      <td>sobic_001G269200_1_51588838</td>\n",
       "      <td>262127</td>\n",
       "      <td>75394</td>\n",
       "      <td>0.594</td>\n",
       "      <td>0.564</td>\n",
       "      <td>0.696</td>\n",
       "    </tr>\n",
       "    <tr>\n",
       "      <th>2</th>\n",
       "      <td>leaf_wax</td>\n",
       "      <td>sobic_001G269200_1_51589143</td>\n",
       "      <td>273089</td>\n",
       "      <td>112610</td>\n",
       "      <td>0.602</td>\n",
       "      <td>0.597</td>\n",
       "      <td>0.662</td>\n",
       "    </tr>\n",
       "    <tr>\n",
       "      <th>3</th>\n",
       "      <td>leaf_wax</td>\n",
       "      <td>sobic_001G269200_1_51589435</td>\n",
       "      <td>322863</td>\n",
       "      <td>55332</td>\n",
       "      <td>0.626</td>\n",
       "      <td>0.606</td>\n",
       "      <td>0.750</td>\n",
       "    </tr>\n",
       "    <tr>\n",
       "      <th>4</th>\n",
       "      <td>dw</td>\n",
       "      <td>sobic_006G067700_1_42805319</td>\n",
       "      <td>313286</td>\n",
       "      <td>127898</td>\n",
       "      <td>0.592</td>\n",
       "      <td>0.584</td>\n",
       "      <td>0.654</td>\n",
       "    </tr>\n",
       "    <tr>\n",
       "      <th>5</th>\n",
       "      <td>dw</td>\n",
       "      <td>sobic_006G067700_1_42804037</td>\n",
       "      <td>302262</td>\n",
       "      <td>120344</td>\n",
       "      <td>0.593</td>\n",
       "      <td>0.571</td>\n",
       "      <td>0.681</td>\n",
       "    </tr>\n",
       "    <tr>\n",
       "      <th>6</th>\n",
       "      <td>d_locus</td>\n",
       "      <td>sobic_006G147400_1_50898459</td>\n",
       "      <td>322659</td>\n",
       "      <td>59056</td>\n",
       "      <td>0.592</td>\n",
       "      <td>0.536</td>\n",
       "      <td>0.605</td>\n",
       "    </tr>\n",
       "    <tr>\n",
       "      <th>7</th>\n",
       "      <td>d_locus</td>\n",
       "      <td>sobic_006G147400_1_50898536</td>\n",
       "      <td>314192</td>\n",
       "      <td>65414</td>\n",
       "      <td>0.577</td>\n",
       "      <td>0.569</td>\n",
       "      <td>0.684</td>\n",
       "    </tr>\n",
       "    <tr>\n",
       "      <th>8</th>\n",
       "      <td>d_locus</td>\n",
       "      <td>sobic_006G147400_1_50898315</td>\n",
       "      <td>277623</td>\n",
       "      <td>64800</td>\n",
       "      <td>0.578</td>\n",
       "      <td>0.584</td>\n",
       "      <td>0.658</td>\n",
       "    </tr>\n",
       "    <tr>\n",
       "      <th>9</th>\n",
       "      <td>d_locus</td>\n",
       "      <td>sobic_006G147400_1_50898231</td>\n",
       "      <td>237907</td>\n",
       "      <td>54942</td>\n",
       "      <td>0.572</td>\n",
       "      <td>0.578</td>\n",
       "      <td>0.618</td>\n",
       "    </tr>\n",
       "    <tr>\n",
       "      <th>10</th>\n",
       "      <td>d_locus</td>\n",
       "      <td>sobic_006G147400_1_50898523</td>\n",
       "      <td>312081</td>\n",
       "      <td>60792</td>\n",
       "      <td>0.585</td>\n",
       "      <td>0.568</td>\n",
       "      <td>0.579</td>\n",
       "    </tr>\n",
       "    <tr>\n",
       "      <th>11</th>\n",
       "      <td>d_locus</td>\n",
       "      <td>sobic_006G147400_1_50898525</td>\n",
       "      <td>314401</td>\n",
       "      <td>60658</td>\n",
       "      <td>0.592</td>\n",
       "      <td>0.576</td>\n",
       "      <td>0.658</td>\n",
       "    </tr>\n",
       "    <tr>\n",
       "      <th>12</th>\n",
       "      <td>ma</td>\n",
       "      <td>sobic_006G057866_1_40312463</td>\n",
       "      <td>428177</td>\n",
       "      <td>34958</td>\n",
       "      <td>0.620</td>\n",
       "      <td>0.543</td>\n",
       "      <td>0.650</td>\n",
       "    </tr>\n",
       "    <tr>\n",
       "      <th>13</th>\n",
       "      <td>ma</td>\n",
       "      <td>sobic_006G004400_2_2697734</td>\n",
       "      <td>206256</td>\n",
       "      <td>63080</td>\n",
       "      <td>0.645</td>\n",
       "      <td>0.630</td>\n",
       "      <td>0.816</td>\n",
       "    </tr>\n",
       "    <tr>\n",
       "      <th>14</th>\n",
       "      <td>tan</td>\n",
       "      <td>sobic_009G229800_1_57040680</td>\n",
       "      <td>375433</td>\n",
       "      <td>90462</td>\n",
       "      <td>0.593</td>\n",
       "      <td>0.590</td>\n",
       "      <td>0.704</td>\n",
       "    </tr>\n",
       "  </tbody>\n",
       "</table>\n",
       "</div>"
      ],
      "text/plain": [
       "      family                         gene  num_train_samples  \\\n",
       "0   leaf_wax  sobic_001G269200_1_51588525             285259   \n",
       "1   leaf_wax  sobic_001G269200_1_51588838             262127   \n",
       "2   leaf_wax  sobic_001G269200_1_51589143             273089   \n",
       "3   leaf_wax  sobic_001G269200_1_51589435             322863   \n",
       "4         dw  sobic_006G067700_1_42805319             313286   \n",
       "5         dw  sobic_006G067700_1_42804037             302262   \n",
       "6    d_locus  sobic_006G147400_1_50898459             322659   \n",
       "7    d_locus  sobic_006G147400_1_50898536             314192   \n",
       "8    d_locus  sobic_006G147400_1_50898315             277623   \n",
       "9    d_locus  sobic_006G147400_1_50898231             237907   \n",
       "10   d_locus  sobic_006G147400_1_50898523             312081   \n",
       "11   d_locus  sobic_006G147400_1_50898525             314401   \n",
       "12        ma  sobic_006G057866_1_40312463             428177   \n",
       "13        ma   sobic_006G004400_2_2697734             206256   \n",
       "14       tan  sobic_009G229800_1_57040680             375433   \n",
       "\n",
       "    num_test_samples  train_acc  test_acc  cultivar_mode_acc  \n",
       "0              80892      0.602     0.569              0.700  \n",
       "1              75394      0.594     0.564              0.696  \n",
       "2             112610      0.602     0.597              0.662  \n",
       "3              55332      0.626     0.606              0.750  \n",
       "4             127898      0.592     0.584              0.654  \n",
       "5             120344      0.593     0.571              0.681  \n",
       "6              59056      0.592     0.536              0.605  \n",
       "7              65414      0.577     0.569              0.684  \n",
       "8              64800      0.578     0.584              0.658  \n",
       "9              54942      0.572     0.578              0.618  \n",
       "10             60792      0.585     0.568              0.579  \n",
       "11             60658      0.592     0.576              0.658  \n",
       "12             34958      0.620     0.543              0.650  \n",
       "13             63080      0.645     0.630              0.816  \n",
       "14             90462      0.593     0.590              0.704  "
      ]
     },
     "execution_count": 13,
     "metadata": {},
     "output_type": "execute_result"
    }
   ],
   "source": [
    "d3_result_df"
   ]
  },
  {
   "cell_type": "code",
   "execution_count": 14,
   "id": "a62892ce-c2ea-4885-80ae-85586c823504",
   "metadata": {},
   "outputs": [],
   "source": [
    "def multimodal_mode(rgb_df, d3_df):\n",
    "    all_pred = pd.concat([rgb_df, d3_df])\n",
    "    all_pred_mode = all_pred.groupby('cultivar').agg(pd.Series.mode)\n",
    "    return (all_pred_mode['pred'] == all_pred_mode['gt']).mean()"
   ]
  },
  {
   "cell_type": "code",
   "execution_count": 15,
   "id": "625c347a-0acc-4fa7-ac5f-f147bd4ad50c",
   "metadata": {},
   "outputs": [
    {
     "name": "stdout",
     "output_type": "stream",
     "text": [
      "sobic_001G269200_1_51588525 0.640\n",
      "sobic_001G269200_1_51588838 0.674\n",
      "sobic_001G269200_1_51589143 0.662\n",
      "sobic_001G269200_1_51589435 0.750\n",
      "sobic_006G067700_1_42805319 0.667\n",
      "sobic_006G067700_1_42804037 0.639\n",
      "sobic_006G147400_1_50898459 0.579\n",
      "sobic_006G147400_1_50898536 0.579\n",
      "sobic_006G147400_1_50898315 0.632\n",
      "sobic_006G147400_1_50898231 0.735\n",
      "sobic_006G147400_1_50898523 0.658\n",
      "sobic_006G147400_1_50898525 0.763\n",
      "sobic_006G057866_1_40312463 0.800\n",
      "sobic_006G004400_2_2697734 0.789\n",
      "sobic_009G229800_1_57040680 0.630\n"
     ]
    }
   ],
   "source": [
    "for marker in rgb_pred_dict.keys():\n",
    "    print(f'{marker} {multimodal_mode(rgb_pred_dict[marker], d3_pred_dict[marker]):.3f}')"
   ]
  },
  {
   "attachments": {},
   "cell_type": "markdown",
   "id": "0daf18d3-35ab-429b-ad2c-ab0ff2eee54f",
   "metadata": {
    "tags": []
   },
   "source": [
    "# Fusion"
   ]
  },
  {
   "cell_type": "code",
   "execution_count": 16,
   "id": "7b35f144-2da3-4818-b467-758f1dce45d3",
   "metadata": {},
   "outputs": [],
   "source": [
    "rgb_ebd_result = torch.load('results/snp_pred/s9_jpg_rgb_gene_ds_img_ebd.pth')\n",
    "d3_edb_result = torch.load('results/snp_pred/s9_jpg_3d_gene_ds_img_ebd.pth')"
   ]
  },
  {
   "cell_type": "code",
   "execution_count": 18,
   "id": "30254edb-0018-49f0-8471-31fb65fbf200",
   "metadata": {},
   "outputs": [],
   "source": [
    "rgb_ebd = rgb_ebd_result['ebd_128']\n",
    "d3_ebd = d3_edb_result['ebd_128']"
   ]
  },
  {
   "cell_type": "code",
   "execution_count": 21,
   "id": "f38a36ab-8c8f-428a-adf9-ed3a69b33a3e",
   "metadata": {},
   "outputs": [],
   "source": [
    "import importlib\n",
    "import genetic_marker_dataset\n",
    "importlib.reload(genetic_marker_dataset)\n",
    "from genetic_marker_dataset import EmbeddingGeneDataset"
   ]
  },
  {
   "cell_type": "code",
   "execution_count": 29,
   "id": "a9cecda9-b220-4ecd-a3ab-a0d24e90ddba",
   "metadata": {},
   "outputs": [
    {
     "name": "stdout",
     "output_type": "stream",
     "text": [
      "gene: sobic_001G269200_1_51588525\n"
     ]
    },
    {
     "data": {
      "application/vnd.jupyter.widget-view+json": {
       "model_id": "",
       "version_major": 2,
       "version_minor": 0
      },
      "text/plain": [
       "HBox(children=(HTML(value=''), FloatProgress(value=0.0, max=1084.0), HTML(value='')))"
      ]
     },
     "metadata": {},
     "output_type": "display_data"
    },
    {
     "data": {
      "application/vnd.jupyter.widget-view+json": {
       "model_id": "",
       "version_major": 2,
       "version_minor": 0
      },
      "text/plain": [
       "HBox(children=(HTML(value=''), FloatProgress(value=0.0, max=1084.0), HTML(value='')))"
      ]
     },
     "metadata": {},
     "output_type": "display_data"
    },
    {
     "data": {
      "application/vnd.jupyter.widget-view+json": {
       "model_id": "",
       "version_major": 2,
       "version_minor": 0
      },
      "text/plain": [
       "HBox(children=(HTML(value=''), FloatProgress(value=0.0, max=1084.0), HTML(value='')))"
      ]
     },
     "metadata": {},
     "output_type": "display_data"
    },
    {
     "data": {
      "application/vnd.jupyter.widget-view+json": {
       "model_id": "",
       "version_major": 2,
       "version_minor": 0
      },
      "text/plain": [
       "HBox(children=(HTML(value=''), FloatProgress(value=0.0, max=1084.0), HTML(value='')))"
      ]
     },
     "metadata": {},
     "output_type": "display_data"
    },
    {
     "data": {
      "application/vnd.jupyter.widget-view+json": {
       "model_id": "",
       "version_major": 2,
       "version_minor": 0
      },
      "text/plain": [
       "HBox(children=(HTML(value=''), FloatProgress(value=0.0, max=306.0), HTML(value='')))"
      ]
     },
     "metadata": {},
     "output_type": "display_data"
    },
    {
     "name": "stdout",
     "output_type": "stream",
     "text": [
      "gene: sobic_001G269200_1_51588525, train_imgs: 277497, test_imgs: 78208, train_acc:0.6978, acc: 0.6258\n",
      "gene: sobic_001G269200_1_51588838\n"
     ]
    },
    {
     "data": {
      "application/vnd.jupyter.widget-view+json": {
       "model_id": "",
       "version_major": 2,
       "version_minor": 0
      },
      "text/plain": [
       "HBox(children=(HTML(value=''), FloatProgress(value=0.0, max=993.0), HTML(value='')))"
      ]
     },
     "metadata": {},
     "output_type": "display_data"
    },
    {
     "data": {
      "application/vnd.jupyter.widget-view+json": {
       "model_id": "",
       "version_major": 2,
       "version_minor": 0
      },
      "text/plain": [
       "HBox(children=(HTML(value=''), FloatProgress(value=0.0, max=993.0), HTML(value='')))"
      ]
     },
     "metadata": {},
     "output_type": "display_data"
    },
    {
     "data": {
      "application/vnd.jupyter.widget-view+json": {
       "model_id": "",
       "version_major": 2,
       "version_minor": 0
      },
      "text/plain": [
       "HBox(children=(HTML(value=''), FloatProgress(value=0.0, max=993.0), HTML(value='')))"
      ]
     },
     "metadata": {},
     "output_type": "display_data"
    },
    {
     "data": {
      "application/vnd.jupyter.widget-view+json": {
       "model_id": "",
       "version_major": 2,
       "version_minor": 0
      },
      "text/plain": [
       "HBox(children=(HTML(value=''), FloatProgress(value=0.0, max=993.0), HTML(value='')))"
      ]
     },
     "metadata": {},
     "output_type": "display_data"
    },
    {
     "data": {
      "application/vnd.jupyter.widget-view+json": {
       "model_id": "",
       "version_major": 2,
       "version_minor": 0
      },
      "text/plain": [
       "HBox(children=(HTML(value=''), FloatProgress(value=0.0, max=289.0), HTML(value='')))"
      ]
     },
     "metadata": {},
     "output_type": "display_data"
    },
    {
     "name": "stdout",
     "output_type": "stream",
     "text": [
      "gene: sobic_001G269200_1_51588838, train_imgs: 254095, test_imgs: 73738, train_acc:0.6958, acc: 0.5743\n",
      "gene: sobic_001G269200_1_51589143\n"
     ]
    },
    {
     "data": {
      "application/vnd.jupyter.widget-view+json": {
       "model_id": "",
       "version_major": 2,
       "version_minor": 0
      },
      "text/plain": [
       "HBox(children=(HTML(value=''), FloatProgress(value=0.0, max=1037.0), HTML(value='')))"
      ]
     },
     "metadata": {},
     "output_type": "display_data"
    },
    {
     "data": {
      "application/vnd.jupyter.widget-view+json": {
       "model_id": "",
       "version_major": 2,
       "version_minor": 0
      },
      "text/plain": [
       "HBox(children=(HTML(value=''), FloatProgress(value=0.0, max=1037.0), HTML(value='')))"
      ]
     },
     "metadata": {},
     "output_type": "display_data"
    },
    {
     "data": {
      "application/vnd.jupyter.widget-view+json": {
       "model_id": "",
       "version_major": 2,
       "version_minor": 0
      },
      "text/plain": [
       "HBox(children=(HTML(value=''), FloatProgress(value=0.0, max=1037.0), HTML(value='')))"
      ]
     },
     "metadata": {},
     "output_type": "display_data"
    },
    {
     "data": {
      "application/vnd.jupyter.widget-view+json": {
       "model_id": "",
       "version_major": 2,
       "version_minor": 0
      },
      "text/plain": [
       "HBox(children=(HTML(value=''), FloatProgress(value=0.0, max=1037.0), HTML(value='')))"
      ]
     },
     "metadata": {},
     "output_type": "display_data"
    },
    {
     "data": {
      "application/vnd.jupyter.widget-view+json": {
       "model_id": "",
       "version_major": 2,
       "version_minor": 0
      },
      "text/plain": [
       "HBox(children=(HTML(value=''), FloatProgress(value=0.0, max=425.0), HTML(value='')))"
      ]
     },
     "metadata": {},
     "output_type": "display_data"
    },
    {
     "name": "stdout",
     "output_type": "stream",
     "text": [
      "gene: sobic_001G269200_1_51589143, train_imgs: 265324, test_imgs: 108760, train_acc:0.6810, acc: 0.6295\n",
      "gene: sobic_001G269200_1_51589435\n"
     ]
    },
    {
     "data": {
      "application/vnd.jupyter.widget-view+json": {
       "model_id": "",
       "version_major": 2,
       "version_minor": 0
      },
      "text/plain": [
       "HBox(children=(HTML(value=''), FloatProgress(value=0.0, max=1228.0), HTML(value='')))"
      ]
     },
     "metadata": {},
     "output_type": "display_data"
    },
    {
     "data": {
      "application/vnd.jupyter.widget-view+json": {
       "model_id": "",
       "version_major": 2,
       "version_minor": 0
      },
      "text/plain": [
       "HBox(children=(HTML(value=''), FloatProgress(value=0.0, max=1228.0), HTML(value='')))"
      ]
     },
     "metadata": {},
     "output_type": "display_data"
    },
    {
     "data": {
      "application/vnd.jupyter.widget-view+json": {
       "model_id": "",
       "version_major": 2,
       "version_minor": 0
      },
      "text/plain": [
       "HBox(children=(HTML(value=''), FloatProgress(value=0.0, max=1228.0), HTML(value='')))"
      ]
     },
     "metadata": {},
     "output_type": "display_data"
    },
    {
     "data": {
      "application/vnd.jupyter.widget-view+json": {
       "model_id": "",
       "version_major": 2,
       "version_minor": 0
      },
      "text/plain": [
       "HBox(children=(HTML(value=''), FloatProgress(value=0.0, max=1228.0), HTML(value='')))"
      ]
     },
     "metadata": {},
     "output_type": "display_data"
    },
    {
     "data": {
      "application/vnd.jupyter.widget-view+json": {
       "model_id": "",
       "version_major": 2,
       "version_minor": 0
      },
      "text/plain": [
       "HBox(children=(HTML(value=''), FloatProgress(value=0.0, max=212.0), HTML(value='')))"
      ]
     },
     "metadata": {},
     "output_type": "display_data"
    },
    {
     "name": "stdout",
     "output_type": "stream",
     "text": [
      "gene: sobic_001G269200_1_51589435, train_imgs: 314150, test_imgs: 54082, train_acc:0.7040, acc: 0.6518\n",
      "gene: sobic_006G067700_1_42805319\n"
     ]
    },
    {
     "data": {
      "application/vnd.jupyter.widget-view+json": {
       "model_id": "",
       "version_major": 2,
       "version_minor": 0
      },
      "text/plain": [
       "HBox(children=(HTML(value=''), FloatProgress(value=0.0, max=1192.0), HTML(value='')))"
      ]
     },
     "metadata": {},
     "output_type": "display_data"
    },
    {
     "data": {
      "application/vnd.jupyter.widget-view+json": {
       "model_id": "",
       "version_major": 2,
       "version_minor": 0
      },
      "text/plain": [
       "HBox(children=(HTML(value=''), FloatProgress(value=0.0, max=1192.0), HTML(value='')))"
      ]
     },
     "metadata": {},
     "output_type": "display_data"
    },
    {
     "data": {
      "application/vnd.jupyter.widget-view+json": {
       "model_id": "",
       "version_major": 2,
       "version_minor": 0
      },
      "text/plain": [
       "HBox(children=(HTML(value=''), FloatProgress(value=0.0, max=1192.0), HTML(value='')))"
      ]
     },
     "metadata": {},
     "output_type": "display_data"
    },
    {
     "data": {
      "application/vnd.jupyter.widget-view+json": {
       "model_id": "",
       "version_major": 2,
       "version_minor": 0
      },
      "text/plain": [
       "HBox(children=(HTML(value=''), FloatProgress(value=0.0, max=1192.0), HTML(value='')))"
      ]
     },
     "metadata": {},
     "output_type": "display_data"
    },
    {
     "data": {
      "application/vnd.jupyter.widget-view+json": {
       "model_id": "",
       "version_major": 2,
       "version_minor": 0
      },
      "text/plain": [
       "HBox(children=(HTML(value=''), FloatProgress(value=0.0, max=484.0), HTML(value='')))"
      ]
     },
     "metadata": {},
     "output_type": "display_data"
    },
    {
     "name": "stdout",
     "output_type": "stream",
     "text": [
      "gene: sobic_006G067700_1_42805319, train_imgs: 305050, test_imgs: 123898, train_acc:0.6597, acc: 0.6266\n",
      "gene: sobic_006G067700_1_42804037\n"
     ]
    },
    {
     "data": {
      "application/vnd.jupyter.widget-view+json": {
       "model_id": "",
       "version_major": 2,
       "version_minor": 0
      },
      "text/plain": [
       "HBox(children=(HTML(value=''), FloatProgress(value=0.0, max=1149.0), HTML(value='')))"
      ]
     },
     "metadata": {},
     "output_type": "display_data"
    },
    {
     "data": {
      "application/vnd.jupyter.widget-view+json": {
       "model_id": "",
       "version_major": 2,
       "version_minor": 0
      },
      "text/plain": [
       "HBox(children=(HTML(value=''), FloatProgress(value=0.0, max=1149.0), HTML(value='')))"
      ]
     },
     "metadata": {},
     "output_type": "display_data"
    },
    {
     "data": {
      "application/vnd.jupyter.widget-view+json": {
       "model_id": "",
       "version_major": 2,
       "version_minor": 0
      },
      "text/plain": [
       "HBox(children=(HTML(value=''), FloatProgress(value=0.0, max=1149.0), HTML(value='')))"
      ]
     },
     "metadata": {},
     "output_type": "display_data"
    },
    {
     "data": {
      "application/vnd.jupyter.widget-view+json": {
       "model_id": "",
       "version_major": 2,
       "version_minor": 0
      },
      "text/plain": [
       "HBox(children=(HTML(value=''), FloatProgress(value=0.0, max=1149.0), HTML(value='')))"
      ]
     },
     "metadata": {},
     "output_type": "display_data"
    },
    {
     "data": {
      "application/vnd.jupyter.widget-view+json": {
       "model_id": "",
       "version_major": 2,
       "version_minor": 0
      },
      "text/plain": [
       "HBox(children=(HTML(value=''), FloatProgress(value=0.0, max=456.0), HTML(value='')))"
      ]
     },
     "metadata": {},
     "output_type": "display_data"
    },
    {
     "name": "stdout",
     "output_type": "stream",
     "text": [
      "gene: sobic_006G067700_1_42804037, train_imgs: 293891, test_imgs: 116642, train_acc:0.6667, acc: 0.6082\n",
      "gene: sobic_006G147400_1_50898459\n"
     ]
    },
    {
     "data": {
      "application/vnd.jupyter.widget-view+json": {
       "model_id": "",
       "version_major": 2,
       "version_minor": 0
      },
      "text/plain": [
       "HBox(children=(HTML(value=''), FloatProgress(value=0.0, max=1229.0), HTML(value='')))"
      ]
     },
     "metadata": {},
     "output_type": "display_data"
    },
    {
     "data": {
      "application/vnd.jupyter.widget-view+json": {
       "model_id": "",
       "version_major": 2,
       "version_minor": 0
      },
      "text/plain": [
       "HBox(children=(HTML(value=''), FloatProgress(value=0.0, max=1229.0), HTML(value='')))"
      ]
     },
     "metadata": {},
     "output_type": "display_data"
    },
    {
     "data": {
      "application/vnd.jupyter.widget-view+json": {
       "model_id": "",
       "version_major": 2,
       "version_minor": 0
      },
      "text/plain": [
       "HBox(children=(HTML(value=''), FloatProgress(value=0.0, max=1229.0), HTML(value='')))"
      ]
     },
     "metadata": {},
     "output_type": "display_data"
    },
    {
     "data": {
      "application/vnd.jupyter.widget-view+json": {
       "model_id": "",
       "version_major": 2,
       "version_minor": 0
      },
      "text/plain": [
       "HBox(children=(HTML(value=''), FloatProgress(value=0.0, max=1229.0), HTML(value='')))"
      ]
     },
     "metadata": {},
     "output_type": "display_data"
    },
    {
     "data": {
      "application/vnd.jupyter.widget-view+json": {
       "model_id": "",
       "version_major": 2,
       "version_minor": 0
      },
      "text/plain": [
       "HBox(children=(HTML(value=''), FloatProgress(value=0.0, max=222.0), HTML(value='')))"
      ]
     },
     "metadata": {},
     "output_type": "display_data"
    },
    {
     "name": "stdout",
     "output_type": "stream",
     "text": [
      "gene: sobic_006G147400_1_50898459, train_imgs: 314483, test_imgs: 56728, train_acc:0.6681, acc: 0.5716\n",
      "gene: sobic_006G147400_1_50898536\n"
     ]
    },
    {
     "data": {
      "application/vnd.jupyter.widget-view+json": {
       "model_id": "",
       "version_major": 2,
       "version_minor": 0
      },
      "text/plain": [
       "HBox(children=(HTML(value=''), FloatProgress(value=0.0, max=1193.0), HTML(value='')))"
      ]
     },
     "metadata": {},
     "output_type": "display_data"
    },
    {
     "data": {
      "application/vnd.jupyter.widget-view+json": {
       "model_id": "",
       "version_major": 2,
       "version_minor": 0
      },
      "text/plain": [
       "HBox(children=(HTML(value=''), FloatProgress(value=0.0, max=1193.0), HTML(value='')))"
      ]
     },
     "metadata": {},
     "output_type": "display_data"
    },
    {
     "data": {
      "application/vnd.jupyter.widget-view+json": {
       "model_id": "",
       "version_major": 2,
       "version_minor": 0
      },
      "text/plain": [
       "HBox(children=(HTML(value=''), FloatProgress(value=0.0, max=1193.0), HTML(value='')))"
      ]
     },
     "metadata": {},
     "output_type": "display_data"
    },
    {
     "data": {
      "application/vnd.jupyter.widget-view+json": {
       "model_id": "",
       "version_major": 2,
       "version_minor": 0
      },
      "text/plain": [
       "HBox(children=(HTML(value=''), FloatProgress(value=0.0, max=1193.0), HTML(value='')))"
      ]
     },
     "metadata": {},
     "output_type": "display_data"
    },
    {
     "data": {
      "application/vnd.jupyter.widget-view+json": {
       "model_id": "",
       "version_major": 2,
       "version_minor": 0
      },
      "text/plain": [
       "HBox(children=(HTML(value=''), FloatProgress(value=0.0, max=251.0), HTML(value='')))"
      ]
     },
     "metadata": {},
     "output_type": "display_data"
    },
    {
     "name": "stdout",
     "output_type": "stream",
     "text": [
      "gene: sobic_006G147400_1_50898536, train_imgs: 305214, test_imgs: 64230, train_acc:0.6584, acc: 0.5832\n",
      "gene: sobic_006G147400_1_50898315\n"
     ]
    },
    {
     "data": {
      "application/vnd.jupyter.widget-view+json": {
       "model_id": "",
       "version_major": 2,
       "version_minor": 0
      },
      "text/plain": [
       "HBox(children=(HTML(value=''), FloatProgress(value=0.0, max=1052.0), HTML(value='')))"
      ]
     },
     "metadata": {},
     "output_type": "display_data"
    },
    {
     "data": {
      "application/vnd.jupyter.widget-view+json": {
       "model_id": "",
       "version_major": 2,
       "version_minor": 0
      },
      "text/plain": [
       "HBox(children=(HTML(value=''), FloatProgress(value=0.0, max=1052.0), HTML(value='')))"
      ]
     },
     "metadata": {},
     "output_type": "display_data"
    },
    {
     "data": {
      "application/vnd.jupyter.widget-view+json": {
       "model_id": "",
       "version_major": 2,
       "version_minor": 0
      },
      "text/plain": [
       "HBox(children=(HTML(value=''), FloatProgress(value=0.0, max=1052.0), HTML(value='')))"
      ]
     },
     "metadata": {},
     "output_type": "display_data"
    },
    {
     "data": {
      "application/vnd.jupyter.widget-view+json": {
       "model_id": "",
       "version_major": 2,
       "version_minor": 0
      },
      "text/plain": [
       "HBox(children=(HTML(value=''), FloatProgress(value=0.0, max=1052.0), HTML(value='')))"
      ]
     },
     "metadata": {},
     "output_type": "display_data"
    },
    {
     "data": {
      "application/vnd.jupyter.widget-view+json": {
       "model_id": "",
       "version_major": 2,
       "version_minor": 0
      },
      "text/plain": [
       "HBox(children=(HTML(value=''), FloatProgress(value=0.0, max=248.0), HTML(value='')))"
      ]
     },
     "metadata": {},
     "output_type": "display_data"
    },
    {
     "name": "stdout",
     "output_type": "stream",
     "text": [
      "gene: sobic_006G147400_1_50898315, train_imgs: 269254, test_imgs: 63418, train_acc:0.6550, acc: 0.5946\n",
      "gene: sobic_006G147400_1_50898231\n"
     ]
    },
    {
     "data": {
      "application/vnd.jupyter.widget-view+json": {
       "model_id": "",
       "version_major": 2,
       "version_minor": 0
      },
      "text/plain": [
       "HBox(children=(HTML(value=''), FloatProgress(value=0.0, max=903.0), HTML(value='')))"
      ]
     },
     "metadata": {},
     "output_type": "display_data"
    },
    {
     "data": {
      "application/vnd.jupyter.widget-view+json": {
       "model_id": "",
       "version_major": 2,
       "version_minor": 0
      },
      "text/plain": [
       "HBox(children=(HTML(value=''), FloatProgress(value=0.0, max=903.0), HTML(value='')))"
      ]
     },
     "metadata": {},
     "output_type": "display_data"
    },
    {
     "data": {
      "application/vnd.jupyter.widget-view+json": {
       "model_id": "",
       "version_major": 2,
       "version_minor": 0
      },
      "text/plain": [
       "HBox(children=(HTML(value=''), FloatProgress(value=0.0, max=903.0), HTML(value='')))"
      ]
     },
     "metadata": {},
     "output_type": "display_data"
    },
    {
     "data": {
      "application/vnd.jupyter.widget-view+json": {
       "model_id": "",
       "version_major": 2,
       "version_minor": 0
      },
      "text/plain": [
       "HBox(children=(HTML(value=''), FloatProgress(value=0.0, max=903.0), HTML(value='')))"
      ]
     },
     "metadata": {},
     "output_type": "display_data"
    },
    {
     "data": {
      "application/vnd.jupyter.widget-view+json": {
       "model_id": "",
       "version_major": 2,
       "version_minor": 0
      },
      "text/plain": [
       "HBox(children=(HTML(value=''), FloatProgress(value=0.0, max=207.0), HTML(value='')))"
      ]
     },
     "metadata": {},
     "output_type": "display_data"
    },
    {
     "name": "stdout",
     "output_type": "stream",
     "text": [
      "gene: sobic_006G147400_1_50898231, train_imgs: 231131, test_imgs: 52970, train_acc:0.6580, acc: 0.6393\n",
      "gene: sobic_006G147400_1_50898523\n"
     ]
    },
    {
     "data": {
      "application/vnd.jupyter.widget-view+json": {
       "model_id": "",
       "version_major": 2,
       "version_minor": 0
      },
      "text/plain": [
       "HBox(children=(HTML(value=''), FloatProgress(value=0.0, max=1187.0), HTML(value='')))"
      ]
     },
     "metadata": {},
     "output_type": "display_data"
    },
    {
     "data": {
      "application/vnd.jupyter.widget-view+json": {
       "model_id": "",
       "version_major": 2,
       "version_minor": 0
      },
      "text/plain": [
       "HBox(children=(HTML(value=''), FloatProgress(value=0.0, max=1187.0), HTML(value='')))"
      ]
     },
     "metadata": {},
     "output_type": "display_data"
    },
    {
     "data": {
      "application/vnd.jupyter.widget-view+json": {
       "model_id": "",
       "version_major": 2,
       "version_minor": 0
      },
      "text/plain": [
       "HBox(children=(HTML(value=''), FloatProgress(value=0.0, max=1187.0), HTML(value='')))"
      ]
     },
     "metadata": {},
     "output_type": "display_data"
    },
    {
     "data": {
      "application/vnd.jupyter.widget-view+json": {
       "model_id": "",
       "version_major": 2,
       "version_minor": 0
      },
      "text/plain": [
       "HBox(children=(HTML(value=''), FloatProgress(value=0.0, max=1187.0), HTML(value='')))"
      ]
     },
     "metadata": {},
     "output_type": "display_data"
    },
    {
     "data": {
      "application/vnd.jupyter.widget-view+json": {
       "model_id": "",
       "version_major": 2,
       "version_minor": 0
      },
      "text/plain": [
       "HBox(children=(HTML(value=''), FloatProgress(value=0.0, max=229.0), HTML(value='')))"
      ]
     },
     "metadata": {},
     "output_type": "display_data"
    },
    {
     "name": "stdout",
     "output_type": "stream",
     "text": [
      "gene: sobic_006G147400_1_50898523, train_imgs: 303725, test_imgs: 58540, train_acc:0.6580, acc: 0.6211\n",
      "gene: sobic_006G147400_1_50898525\n"
     ]
    },
    {
     "data": {
      "application/vnd.jupyter.widget-view+json": {
       "model_id": "",
       "version_major": 2,
       "version_minor": 0
      },
      "text/plain": [
       "HBox(children=(HTML(value=''), FloatProgress(value=0.0, max=1197.0), HTML(value='')))"
      ]
     },
     "metadata": {},
     "output_type": "display_data"
    },
    {
     "data": {
      "application/vnd.jupyter.widget-view+json": {
       "model_id": "",
       "version_major": 2,
       "version_minor": 0
      },
      "text/plain": [
       "HBox(children=(HTML(value=''), FloatProgress(value=0.0, max=1197.0), HTML(value='')))"
      ]
     },
     "metadata": {},
     "output_type": "display_data"
    },
    {
     "data": {
      "application/vnd.jupyter.widget-view+json": {
       "model_id": "",
       "version_major": 2,
       "version_minor": 0
      },
      "text/plain": [
       "HBox(children=(HTML(value=''), FloatProgress(value=0.0, max=1197.0), HTML(value='')))"
      ]
     },
     "metadata": {},
     "output_type": "display_data"
    },
    {
     "data": {
      "application/vnd.jupyter.widget-view+json": {
       "model_id": "",
       "version_major": 2,
       "version_minor": 0
      },
      "text/plain": [
       "HBox(children=(HTML(value=''), FloatProgress(value=0.0, max=1197.0), HTML(value='')))"
      ]
     },
     "metadata": {},
     "output_type": "display_data"
    },
    {
     "data": {
      "application/vnd.jupyter.widget-view+json": {
       "model_id": "",
       "version_major": 2,
       "version_minor": 0
      },
      "text/plain": [
       "HBox(children=(HTML(value=''), FloatProgress(value=0.0, max=229.0), HTML(value='')))"
      ]
     },
     "metadata": {},
     "output_type": "display_data"
    },
    {
     "name": "stdout",
     "output_type": "stream",
     "text": [
      "gene: sobic_006G147400_1_50898525, train_imgs: 306231, test_imgs: 58378, train_acc:0.6489, acc: 0.6379\n",
      "gene: sobic_006G057866_1_40312463\n"
     ]
    },
    {
     "data": {
      "application/vnd.jupyter.widget-view+json": {
       "model_id": "",
       "version_major": 2,
       "version_minor": 0
      },
      "text/plain": [
       "HBox(children=(HTML(value=''), FloatProgress(value=0.0, max=1628.0), HTML(value='')))"
      ]
     },
     "metadata": {},
     "output_type": "display_data"
    },
    {
     "data": {
      "application/vnd.jupyter.widget-view+json": {
       "model_id": "",
       "version_major": 2,
       "version_minor": 0
      },
      "text/plain": [
       "HBox(children=(HTML(value=''), FloatProgress(value=0.0, max=1628.0), HTML(value='')))"
      ]
     },
     "metadata": {},
     "output_type": "display_data"
    },
    {
     "data": {
      "application/vnd.jupyter.widget-view+json": {
       "model_id": "",
       "version_major": 2,
       "version_minor": 0
      },
      "text/plain": [
       "HBox(children=(HTML(value=''), FloatProgress(value=0.0, max=1628.0), HTML(value='')))"
      ]
     },
     "metadata": {},
     "output_type": "display_data"
    },
    {
     "data": {
      "application/vnd.jupyter.widget-view+json": {
       "model_id": "",
       "version_major": 2,
       "version_minor": 0
      },
      "text/plain": [
       "HBox(children=(HTML(value=''), FloatProgress(value=0.0, max=1628.0), HTML(value='')))"
      ]
     },
     "metadata": {},
     "output_type": "display_data"
    },
    {
     "data": {
      "application/vnd.jupyter.widget-view+json": {
       "model_id": "",
       "version_major": 2,
       "version_minor": 0
      },
      "text/plain": [
       "HBox(children=(HTML(value=''), FloatProgress(value=0.0, max=133.0), HTML(value='')))"
      ]
     },
     "metadata": {},
     "output_type": "display_data"
    },
    {
     "name": "stdout",
     "output_type": "stream",
     "text": [
      "gene: sobic_006G057866_1_40312463, train_imgs: 416604, test_imgs: 34004, train_acc:0.7347, acc: 0.6404\n",
      "gene: sobic_006G004400_2_2697734\n"
     ]
    },
    {
     "data": {
      "application/vnd.jupyter.widget-view+json": {
       "model_id": "",
       "version_major": 2,
       "version_minor": 0
      },
      "text/plain": [
       "HBox(children=(HTML(value=''), FloatProgress(value=0.0, max=783.0), HTML(value='')))"
      ]
     },
     "metadata": {},
     "output_type": "display_data"
    },
    {
     "data": {
      "application/vnd.jupyter.widget-view+json": {
       "model_id": "",
       "version_major": 2,
       "version_minor": 0
      },
      "text/plain": [
       "HBox(children=(HTML(value=''), FloatProgress(value=0.0, max=783.0), HTML(value='')))"
      ]
     },
     "metadata": {},
     "output_type": "display_data"
    },
    {
     "data": {
      "application/vnd.jupyter.widget-view+json": {
       "model_id": "",
       "version_major": 2,
       "version_minor": 0
      },
      "text/plain": [
       "HBox(children=(HTML(value=''), FloatProgress(value=0.0, max=783.0), HTML(value='')))"
      ]
     },
     "metadata": {},
     "output_type": "display_data"
    },
    {
     "data": {
      "application/vnd.jupyter.widget-view+json": {
       "model_id": "",
       "version_major": 2,
       "version_minor": 0
      },
      "text/plain": [
       "HBox(children=(HTML(value=''), FloatProgress(value=0.0, max=783.0), HTML(value='')))"
      ]
     },
     "metadata": {},
     "output_type": "display_data"
    },
    {
     "data": {
      "application/vnd.jupyter.widget-view+json": {
       "model_id": "",
       "version_major": 2,
       "version_minor": 0
      },
      "text/plain": [
       "HBox(children=(HTML(value=''), FloatProgress(value=0.0, max=238.0), HTML(value='')))"
      ]
     },
     "metadata": {},
     "output_type": "display_data"
    },
    {
     "name": "stdout",
     "output_type": "stream",
     "text": [
      "gene: sobic_006G004400_2_2697734, train_imgs: 200431, test_imgs: 60686, train_acc:0.7496, acc: 0.6956\n",
      "gene: sobic_009G229800_1_57040680\n"
     ]
    },
    {
     "data": {
      "application/vnd.jupyter.widget-view+json": {
       "model_id": "",
       "version_major": 2,
       "version_minor": 0
      },
      "text/plain": [
       "HBox(children=(HTML(value=''), FloatProgress(value=0.0, max=1428.0), HTML(value='')))"
      ]
     },
     "metadata": {},
     "output_type": "display_data"
    },
    {
     "data": {
      "application/vnd.jupyter.widget-view+json": {
       "model_id": "",
       "version_major": 2,
       "version_minor": 0
      },
      "text/plain": [
       "HBox(children=(HTML(value=''), FloatProgress(value=0.0, max=1428.0), HTML(value='')))"
      ]
     },
     "metadata": {},
     "output_type": "display_data"
    },
    {
     "data": {
      "application/vnd.jupyter.widget-view+json": {
       "model_id": "",
       "version_major": 2,
       "version_minor": 0
      },
      "text/plain": [
       "HBox(children=(HTML(value=''), FloatProgress(value=0.0, max=1428.0), HTML(value='')))"
      ]
     },
     "metadata": {},
     "output_type": "display_data"
    },
    {
     "data": {
      "application/vnd.jupyter.widget-view+json": {
       "model_id": "",
       "version_major": 2,
       "version_minor": 0
      },
      "text/plain": [
       "HBox(children=(HTML(value=''), FloatProgress(value=0.0, max=1428.0), HTML(value='')))"
      ]
     },
     "metadata": {},
     "output_type": "display_data"
    },
    {
     "data": {
      "application/vnd.jupyter.widget-view+json": {
       "model_id": "",
       "version_major": 2,
       "version_minor": 0
      },
      "text/plain": [
       "HBox(children=(HTML(value=''), FloatProgress(value=0.0, max=342.0), HTML(value='')))"
      ]
     },
     "metadata": {},
     "output_type": "display_data"
    },
    {
     "name": "stdout",
     "output_type": "stream",
     "text": [
      "gene: sobic_009G229800_1_57040680, train_imgs: 365353, test_imgs: 87452, train_acc:0.6807, acc: 0.6299\n"
     ]
    }
   ],
   "source": [
    "num_train_samples_list = []\n",
    "num_test_samples_list = []\n",
    "train_acc_list = []\n",
    "test_acc_list = []\n",
    "test_mode_acc_list = []\n",
    "pred_dict = {}\n",
    "rgb_ebd = rgb_ebd.cuda()\n",
    "d3_ebd = d3_ebd.cuda()\n",
    "\n",
    "\n",
    "for markers in known_genetic_markers:\n",
    "    ebd_ds = EmbeddingGeneDataset('/data/shared/genetic_marker_datasets/', markers, 'multimodal', train=True)\n",
    "    train_sampler = get_sampler(ebd_ds)\n",
    "    ebd_dl = torch.utils.data.DataLoader(ebd_ds, batch_size=256, sampler=train_sampler)\n",
    "    ebd_test_ds = EmbeddingGeneDataset('/data/shared/genetic_marker_datasets/', markers, 'multimodal', train=False)\n",
    "    ebd_test_dl = torch.utils.data.DataLoader(ebd_test_ds, batch_size=256, shuffle=False)\n",
    "    print(f'gene: {markers}')\n",
    "    num_train_samples_list.append(len(ebd_ds))\n",
    "    num_test_samples_list.append(len(ebd_test_ds))\n",
    "    gene_pred_fc = nn.Sequential(#nn.Dropout(0.5),\n",
    "                                 nn.Linear(256, 2))\n",
    "    gene_pred_fc.cuda()\n",
    "    loss_func = torch.nn.CrossEntropyLoss()\n",
    "    optimizer = torch.optim.SGD(gene_pred_fc.parameters(), lr=0.01, momentum=0.9)\n",
    "    lr_scheduler = torch.optim.lr_scheduler.StepLR(optimizer, step_size=1, gamma=0.1)\n",
    "    # train\n",
    "    gene_pred_fc.train()\n",
    "    for ep in range(3):\n",
    "        tbar = tqdm(ebd_dl, leave=False)\n",
    "        total_loss = 0\n",
    "        for i, (rgb_ebd_index, d3_ebd_index, label, cultivar) in enumerate(tbar):\n",
    "            optimizer.zero_grad()\n",
    "            rgb_e = rgb_ebd[rgb_ebd_index.cuda()]\n",
    "            d3_e = d3_ebd[d3_ebd_index.cuda()]\n",
    "            ebd = torch.cat([rgb_e, d3_e], dim=1)\n",
    "            gene_pred = gene_pred_fc(ebd)\n",
    "            loss = loss_func(gene_pred, label.cuda())\n",
    "            total_loss += loss.item()\n",
    "            loss.backward()\n",
    "            optimizer.step()\n",
    "            if i % 20 == 0:\n",
    "                tbar.set_description(f'loss: {total_loss/20:.4f}')\n",
    "                total_loss = 0\n",
    "        lr_scheduler.step()\n",
    "    # train acc\n",
    "    gene_pred_fc.eval()\n",
    "    tbar = tqdm(ebd_dl, leave=False)\n",
    "    all_preds = []\n",
    "    all_labels = []\n",
    "    with torch.no_grad():\n",
    "        for rgb_ebd_index, d3_ebd_index, label, cultivar in tbar:\n",
    "            rgb_e = rgb_ebd[rgb_ebd_index.cuda()]\n",
    "            d3_e = d3_ebd[d3_ebd_index.cuda()]\n",
    "            ebd = torch.cat([rgb_e, d3_e], dim=1)\n",
    "            gene_pred = gene_pred_fc(ebd)\n",
    "            all_preds.append(gene_pred.cpu())\n",
    "            all_labels.append(label.cpu())\n",
    "    all_preds = torch.cat(all_preds)\n",
    "    all_labels = torch.cat(all_labels)\n",
    "    train_acc = (all_preds.argmax(dim=1) == all_labels).float().mean()\n",
    "    train_acc_list.append(train_acc)\n",
    "    # test\n",
    "    tbar = tqdm(ebd_test_dl, leave=False)\n",
    "    all_preds = []\n",
    "    all_labels = []\n",
    "    all_cultivars = []\n",
    "    with torch.no_grad():\n",
    "        for rgb_ebd_index, d3_ebd_index, label, cultivar in tbar:\n",
    "            rgb_e = rgb_ebd[rgb_ebd_index.cuda()]\n",
    "            d3_e = d3_ebd[d3_ebd_index.cuda()]\n",
    "            ebd = torch.cat([rgb_e, d3_e], dim=1)\n",
    "            gene_pred = gene_pred_fc(ebd)\n",
    "            all_preds.append(gene_pred.cpu())\n",
    "            all_labels.append(label.cpu())\n",
    "            all_cultivars.append(cultivar)\n",
    "    all_preds = torch.cat(all_preds)\n",
    "    all_labels = torch.cat(all_labels)\n",
    "    all_cultivars = [j for i in all_cultivars for j in i]\n",
    "    acc = (all_preds.argmax(dim=1) == all_labels).float().mean()\n",
    "    pred_df = pd.DataFrame({'pred': all_preds.argmax(dim=1).numpy(), 'gt': all_labels.numpy(), 'cultivar': all_cultivars})\n",
    "    cultivar_mode_df = pred_df.groupby('cultivar').agg(pd.Series.mode)\n",
    "    cultivar_mode_acc = (cultivar_mode_df['pred'] == cultivar_mode_df['gt']).mean()\n",
    "    test_acc_list.append(acc)\n",
    "    test_mode_acc_list.append(cultivar_mode_acc)\n",
    "    pred_dict[marker] = pred_df\n",
    "    save_path = f'result/snp_pred/{markers}_mm_pred.pt'\n",
    "    if not os.path.exists(os.path.dirname(save_path)):\n",
    "        os.makedirs(os.path.dirname(save_path))\n",
    "    torch.save(gene_pred_fc.state_dict(), save_path)\n",
    "    print(f'gene: {markers}, train_imgs: {len(ebd_ds)}, test_imgs: {len(ebd_test_ds)}, train_acc:{train_acc:.4f}, acc: {acc:.4f}')"
   ]
  },
  {
   "cell_type": "code",
   "execution_count": 39,
   "id": "ddbfb801-71c4-4fef-be21-5a790fa25ea3",
   "metadata": {},
   "outputs": [],
   "source": [
    "result_df = pd.DataFrame({'gene': known_genetic_markers, \n",
    "                          'num_train_samples': num_train_samples_list, \n",
    "                          'num_test_samples': num_test_samples_list, \n",
    "                          'train_acc': [i.item() for i in train_acc_list], \n",
    "                          'test_acc': [i.item() for i in test_acc_list],\n",
    "                          'mode_acc': test_mode_acc_list})"
   ]
  },
  {
   "cell_type": "code",
   "execution_count": 40,
   "id": "270271ff-763e-41a9-ab32-f0900f9fc96a",
   "metadata": {},
   "outputs": [],
   "source": [
    "result_df = result_df.merge(marker_family_df, on='gene')"
   ]
  },
  {
   "cell_type": "code",
   "execution_count": 42,
   "id": "7917cfe8-3008-4723-914c-c78d5417e267",
   "metadata": {},
   "outputs": [
    {
     "data": {
      "text/html": [
       "<div>\n",
       "<style scoped>\n",
       "    .dataframe tbody tr th:only-of-type {\n",
       "        vertical-align: middle;\n",
       "    }\n",
       "\n",
       "    .dataframe tbody tr th {\n",
       "        vertical-align: top;\n",
       "    }\n",
       "\n",
       "    .dataframe thead th {\n",
       "        text-align: right;\n",
       "    }\n",
       "</style>\n",
       "<table border=\"1\" class=\"dataframe\">\n",
       "  <thead>\n",
       "    <tr style=\"text-align: right;\">\n",
       "      <th></th>\n",
       "      <th>family</th>\n",
       "      <th>gene</th>\n",
       "      <th>num_train_samples</th>\n",
       "      <th>num_test_samples</th>\n",
       "      <th>train_acc</th>\n",
       "      <th>test_acc</th>\n",
       "      <th>mode_acc</th>\n",
       "    </tr>\n",
       "  </thead>\n",
       "  <tbody>\n",
       "    <tr>\n",
       "      <th>0</th>\n",
       "      <td>leaf_wax</td>\n",
       "      <td>sobic_001G269200_1_51588525</td>\n",
       "      <td>277497</td>\n",
       "      <td>78208</td>\n",
       "      <td>0.698</td>\n",
       "      <td>0.626</td>\n",
       "      <td>0.700</td>\n",
       "    </tr>\n",
       "    <tr>\n",
       "      <th>1</th>\n",
       "      <td>leaf_wax</td>\n",
       "      <td>sobic_001G269200_1_51588838</td>\n",
       "      <td>254095</td>\n",
       "      <td>73738</td>\n",
       "      <td>0.696</td>\n",
       "      <td>0.574</td>\n",
       "      <td>0.587</td>\n",
       "    </tr>\n",
       "    <tr>\n",
       "      <th>2</th>\n",
       "      <td>leaf_wax</td>\n",
       "      <td>sobic_001G269200_1_51589143</td>\n",
       "      <td>265324</td>\n",
       "      <td>108760</td>\n",
       "      <td>0.681</td>\n",
       "      <td>0.630</td>\n",
       "      <td>0.676</td>\n",
       "    </tr>\n",
       "    <tr>\n",
       "      <th>3</th>\n",
       "      <td>leaf_wax</td>\n",
       "      <td>sobic_001G269200_1_51589435</td>\n",
       "      <td>314150</td>\n",
       "      <td>54082</td>\n",
       "      <td>0.704</td>\n",
       "      <td>0.652</td>\n",
       "      <td>0.750</td>\n",
       "    </tr>\n",
       "    <tr>\n",
       "      <th>4</th>\n",
       "      <td>dw</td>\n",
       "      <td>sobic_006G067700_1_42805319</td>\n",
       "      <td>305050</td>\n",
       "      <td>123898</td>\n",
       "      <td>0.660</td>\n",
       "      <td>0.627</td>\n",
       "      <td>0.756</td>\n",
       "    </tr>\n",
       "    <tr>\n",
       "      <th>5</th>\n",
       "      <td>dw</td>\n",
       "      <td>sobic_006G067700_1_42804037</td>\n",
       "      <td>293891</td>\n",
       "      <td>116642</td>\n",
       "      <td>0.667</td>\n",
       "      <td>0.608</td>\n",
       "      <td>0.681</td>\n",
       "    </tr>\n",
       "    <tr>\n",
       "      <th>6</th>\n",
       "      <td>d_locus</td>\n",
       "      <td>sobic_006G147400_1_50898459</td>\n",
       "      <td>314483</td>\n",
       "      <td>56728</td>\n",
       "      <td>0.668</td>\n",
       "      <td>0.572</td>\n",
       "      <td>0.632</td>\n",
       "    </tr>\n",
       "    <tr>\n",
       "      <th>7</th>\n",
       "      <td>d_locus</td>\n",
       "      <td>sobic_006G147400_1_50898536</td>\n",
       "      <td>305214</td>\n",
       "      <td>64230</td>\n",
       "      <td>0.658</td>\n",
       "      <td>0.583</td>\n",
       "      <td>0.658</td>\n",
       "    </tr>\n",
       "    <tr>\n",
       "      <th>8</th>\n",
       "      <td>d_locus</td>\n",
       "      <td>sobic_006G147400_1_50898315</td>\n",
       "      <td>269254</td>\n",
       "      <td>63418</td>\n",
       "      <td>0.655</td>\n",
       "      <td>0.595</td>\n",
       "      <td>0.711</td>\n",
       "    </tr>\n",
       "    <tr>\n",
       "      <th>9</th>\n",
       "      <td>d_locus</td>\n",
       "      <td>sobic_006G147400_1_50898231</td>\n",
       "      <td>231131</td>\n",
       "      <td>52970</td>\n",
       "      <td>0.658</td>\n",
       "      <td>0.639</td>\n",
       "      <td>0.765</td>\n",
       "    </tr>\n",
       "    <tr>\n",
       "      <th>10</th>\n",
       "      <td>d_locus</td>\n",
       "      <td>sobic_006G147400_1_50898523</td>\n",
       "      <td>303725</td>\n",
       "      <td>58540</td>\n",
       "      <td>0.658</td>\n",
       "      <td>0.621</td>\n",
       "      <td>0.684</td>\n",
       "    </tr>\n",
       "    <tr>\n",
       "      <th>11</th>\n",
       "      <td>d_locus</td>\n",
       "      <td>sobic_006G147400_1_50898525</td>\n",
       "      <td>306231</td>\n",
       "      <td>58378</td>\n",
       "      <td>0.649</td>\n",
       "      <td>0.638</td>\n",
       "      <td>0.842</td>\n",
       "    </tr>\n",
       "    <tr>\n",
       "      <th>12</th>\n",
       "      <td>ma</td>\n",
       "      <td>sobic_006G057866_1_40312463</td>\n",
       "      <td>416604</td>\n",
       "      <td>34004</td>\n",
       "      <td>0.735</td>\n",
       "      <td>0.640</td>\n",
       "      <td>0.850</td>\n",
       "    </tr>\n",
       "    <tr>\n",
       "      <th>13</th>\n",
       "      <td>ma</td>\n",
       "      <td>sobic_006G004400_2_2697734</td>\n",
       "      <td>200431</td>\n",
       "      <td>60686</td>\n",
       "      <td>0.750</td>\n",
       "      <td>0.696</td>\n",
       "      <td>0.842</td>\n",
       "    </tr>\n",
       "    <tr>\n",
       "      <th>14</th>\n",
       "      <td>tan</td>\n",
       "      <td>sobic_009G229800_1_57040680</td>\n",
       "      <td>365353</td>\n",
       "      <td>87452</td>\n",
       "      <td>0.681</td>\n",
       "      <td>0.630</td>\n",
       "      <td>0.667</td>\n",
       "    </tr>\n",
       "  </tbody>\n",
       "</table>\n",
       "</div>"
      ],
      "text/plain": [
       "      family                         gene  num_train_samples  \\\n",
       "0   leaf_wax  sobic_001G269200_1_51588525             277497   \n",
       "1   leaf_wax  sobic_001G269200_1_51588838             254095   \n",
       "2   leaf_wax  sobic_001G269200_1_51589143             265324   \n",
       "3   leaf_wax  sobic_001G269200_1_51589435             314150   \n",
       "4         dw  sobic_006G067700_1_42805319             305050   \n",
       "5         dw  sobic_006G067700_1_42804037             293891   \n",
       "6    d_locus  sobic_006G147400_1_50898459             314483   \n",
       "7    d_locus  sobic_006G147400_1_50898536             305214   \n",
       "8    d_locus  sobic_006G147400_1_50898315             269254   \n",
       "9    d_locus  sobic_006G147400_1_50898231             231131   \n",
       "10   d_locus  sobic_006G147400_1_50898523             303725   \n",
       "11   d_locus  sobic_006G147400_1_50898525             306231   \n",
       "12        ma  sobic_006G057866_1_40312463             416604   \n",
       "13        ma   sobic_006G004400_2_2697734             200431   \n",
       "14       tan  sobic_009G229800_1_57040680             365353   \n",
       "\n",
       "    num_test_samples  train_acc  test_acc  mode_acc  \n",
       "0              78208      0.698     0.626     0.700  \n",
       "1              73738      0.696     0.574     0.587  \n",
       "2             108760      0.681     0.630     0.676  \n",
       "3              54082      0.704     0.652     0.750  \n",
       "4             123898      0.660     0.627     0.756  \n",
       "5             116642      0.667     0.608     0.681  \n",
       "6              56728      0.668     0.572     0.632  \n",
       "7              64230      0.658     0.583     0.658  \n",
       "8              63418      0.655     0.595     0.711  \n",
       "9              52970      0.658     0.639     0.765  \n",
       "10             58540      0.658     0.621     0.684  \n",
       "11             58378      0.649     0.638     0.842  \n",
       "12             34004      0.735     0.640     0.850  \n",
       "13             60686      0.750     0.696     0.842  \n",
       "14             87452      0.681     0.630     0.667  "
      ]
     },
     "execution_count": 42,
     "metadata": {},
     "output_type": "execute_result"
    }
   ],
   "source": [
    "pd.options.display.float_format = '{:,.3f}'.format\n",
    "multimodal_result_df = result_df[['family', 'gene', 'num_train_samples', 'num_test_samples', 'train_acc', 'test_acc', 'mode_acc']]\n",
    "multimodal_result_df"
   ]
  },
  {
   "cell_type": "code",
   "execution_count": null,
   "id": "16e719c3-1793-4561-95b5-ca5e11e91ac9",
   "metadata": {},
   "outputs": [],
   "source": []
  }
 ],
 "metadata": {
  "kernelspec": {
   "display_name": "PyTorch",
   "language": "python",
   "name": "pytorch"
  },
  "language_info": {
   "codemirror_mode": {
    "name": "ipython",
    "version": 3
   },
   "file_extension": ".py",
   "mimetype": "text/x-python",
   "name": "python",
   "nbconvert_exporter": "python",
   "pygments_lexer": "ipython3",
   "version": "3.7.9"
  },
  "widgets": {
   "application/vnd.jupyter.widget-state+json": {
    "state": {
     "00100ae4dfe5443cb441c851bdd72b12": {
      "model_module": "@jupyter-widgets/controls",
      "model_module_version": "1.5.0",
      "model_name": "FloatProgressModel",
      "state": {
       "layout": "IPY_MODEL_3c17e7a6767a42638b13c10858f9bc65",
       "max": 440,
       "style": "IPY_MODEL_50fca918f33e44bcb560d1db02d586e8",
       "value": 440
      }
     },
     "0012186a988746eabf5231d0fdfbca51": {
      "model_module": "@jupyter-widgets/controls",
      "model_module_version": "1.5.0",
      "model_name": "HTMLModel",
      "state": {
       "layout": "IPY_MODEL_97d8a77433ed495f9cc06792873a22f0",
       "style": "IPY_MODEL_7a4f4e0f6b2f4394815350f8cb8a8829",
       "value": "loss: 0.6662: 100%"
      }
     },
     "001321e5295f4cb9bdf8d0a164e38f36": {
      "model_module": "@jupyter-widgets/controls",
      "model_module_version": "1.5.0",
      "model_name": "HTMLModel",
      "state": {
       "layout": "IPY_MODEL_87898b9d160f4e54afb78db76db39006",
       "style": "IPY_MODEL_c61ec51f1bff4a9aad1e08c5d702c1e3",
       "value": "100%"
      }
     },
     "001c6993a5f54f25aff6a5365fe580c6": {
      "model_module": "@jupyter-widgets/controls",
      "model_module_version": "1.5.0",
      "model_name": "ProgressStyleModel",
      "state": {
       "description_width": ""
      }
     },
     "009225c89d6740ad8ef165d62af0c585": {
      "model_module": "@jupyter-widgets/controls",
      "model_module_version": "1.5.0",
      "model_name": "DescriptionStyleModel",
      "state": {
       "description_width": ""
      }
     },
     "00d023c2bf3f4a6687afa56e14606487": {
      "model_module": "@jupyter-widgets/base",
      "model_module_version": "1.2.0",
      "model_name": "LayoutModel",
      "state": {}
     },
     "00d61099f0ce4121bbae960e39400a26": {
      "model_module": "@jupyter-widgets/base",
      "model_module_version": "1.2.0",
      "model_name": "LayoutModel",
      "state": {}
     },
     "0114c4bb039b45f3b80c0906f0ace54a": {
      "model_module": "@jupyter-widgets/controls",
      "model_module_version": "1.5.0",
      "model_name": "ProgressStyleModel",
      "state": {
       "description_width": ""
      }
     },
     "01166ce52839497788d117b988eac658": {
      "model_module": "@jupyter-widgets/base",
      "model_module_version": "1.2.0",
      "model_name": "LayoutModel",
      "state": {}
     },
     "01ab12412d844bc09e554532995da0f9": {
      "model_module": "@jupyter-widgets/controls",
      "model_module_version": "1.5.0",
      "model_name": "DescriptionStyleModel",
      "state": {
       "description_width": ""
      }
     },
     "01ab6adfd1c546d881dcc77458da4bd9": {
      "model_module": "@jupyter-widgets/controls",
      "model_module_version": "1.5.0",
      "model_name": "DescriptionStyleModel",
      "state": {
       "description_width": ""
      }
     },
     "01ce0658541240999fbabf968fd19ab3": {
      "model_module": "@jupyter-widgets/controls",
      "model_module_version": "1.5.0",
      "model_name": "DescriptionStyleModel",
      "state": {
       "description_width": ""
      }
     },
     "01fffaff69874e0f9c51746fcc38a93e": {
      "model_module": "@jupyter-widgets/base",
      "model_module_version": "1.2.0",
      "model_name": "LayoutModel",
      "state": {}
     },
     "02128f2334b9436f9292f4c801bc9f8d": {
      "model_module": "@jupyter-widgets/controls",
      "model_module_version": "1.5.0",
      "model_name": "DescriptionStyleModel",
      "state": {
       "description_width": ""
      }
     },
     "021eb46bf4e04ae2afe8aec95cdd29fd": {
      "model_module": "@jupyter-widgets/base",
      "model_module_version": "1.2.0",
      "model_name": "LayoutModel",
      "state": {}
     },
     "024f9befee7643d3889794e17d34c9a7": {
      "model_module": "@jupyter-widgets/base",
      "model_module_version": "1.2.0",
      "model_name": "LayoutModel",
      "state": {}
     },
     "02614ec8d06443659d181edd4756d289": {
      "model_module": "@jupyter-widgets/controls",
      "model_module_version": "1.5.0",
      "model_name": "HTMLModel",
      "state": {
       "layout": "IPY_MODEL_1e688910743245dfb3d86d46080fff51",
       "style": "IPY_MODEL_efdf7acf91664e18a633c385bb7c6d6f",
       "value": "100%"
      }
     },
     "0273456682204ff2a550d69c5a75f593": {
      "model_module": "@jupyter-widgets/base",
      "model_module_version": "1.2.0",
      "model_name": "LayoutModel",
      "state": {}
     },
     "027f774e7a774d19b5b5a7a981bb88c6": {
      "model_module": "@jupyter-widgets/controls",
      "model_module_version": "1.5.0",
      "model_name": "DescriptionStyleModel",
      "state": {
       "description_width": ""
      }
     },
     "0282879f275446f696e26eb02ec4feda": {
      "model_module": "@jupyter-widgets/controls",
      "model_module_version": "1.5.0",
      "model_name": "DescriptionStyleModel",
      "state": {
       "description_width": ""
      }
     },
     "028e6eeb413f4557bb4d4488841ec251": {
      "model_module": "@jupyter-widgets/base",
      "model_module_version": "1.2.0",
      "model_name": "LayoutModel",
      "state": {}
     },
     "02b08297e5f442e8a7fdab42efee31d0": {
      "model_module": "@jupyter-widgets/controls",
      "model_module_version": "1.5.0",
      "model_name": "HTMLModel",
      "state": {
       "layout": "IPY_MODEL_be7383b7a35043de81cb8ec6d4b7a58c",
       "style": "IPY_MODEL_70f2b31ce6cd46ac93bcfd0fb5d41508",
       "value": "100%"
      }
     },
     "02b6e4f4298344918cac3823f9dc343d": {
      "model_module": "@jupyter-widgets/base",
      "model_module_version": "1.2.0",
      "model_name": "LayoutModel",
      "state": {}
     },
     "02e77c36a6d54e78b2fbe8c5811fb3c2": {
      "model_module": "@jupyter-widgets/controls",
      "model_module_version": "1.5.0",
      "model_name": "FloatProgressModel",
      "state": {
       "layout": "IPY_MODEL_abea47c0dd4343839221be2473f160b0",
       "max": 1192,
       "style": "IPY_MODEL_3501954d8b85439a8f623a56e80bb844",
       "value": 1192
      }
     },
     "03125288a2ee47dba3fee70631147a3b": {
      "model_module": "@jupyter-widgets/controls",
      "model_module_version": "1.5.0",
      "model_name": "FloatProgressModel",
      "state": {
       "layout": "IPY_MODEL_c37329b582474de9b5eb01421e255e3f",
       "max": 1197,
       "style": "IPY_MODEL_77096948dec64f24a8af4fcb9a721bf4",
       "value": 1197
      }
     },
     "032abb9a2b8b484e915f9d4d5faecc85": {
      "model_module": "@jupyter-widgets/base",
      "model_module_version": "1.2.0",
      "model_name": "LayoutModel",
      "state": {}
     },
     "0333416d05fc40068eb175f57e0968e7": {
      "model_module": "@jupyter-widgets/base",
      "model_module_version": "1.2.0",
      "model_name": "LayoutModel",
      "state": {}
     },
     "0359bd90d37f4f2b88156bac06640392": {
      "model_module": "@jupyter-widgets/base",
      "model_module_version": "1.2.0",
      "model_name": "LayoutModel",
      "state": {}
     },
     "035c1e52bab84748845f4b51a800021c": {
      "model_module": "@jupyter-widgets/base",
      "model_module_version": "1.2.0",
      "model_name": "LayoutModel",
      "state": {}
     },
     "0377a8ed3c2d4db3818fc18282173092": {
      "model_module": "@jupyter-widgets/controls",
      "model_module_version": "1.5.0",
      "model_name": "DescriptionStyleModel",
      "state": {
       "description_width": ""
      }
     },
     "03c3c8f0c8124d43bcd2cf4898958ff1": {
      "model_module": "@jupyter-widgets/controls",
      "model_module_version": "1.5.0",
      "model_name": "FloatProgressModel",
      "state": {
       "layout": "IPY_MODEL_b03280d60927427a9c252665ecd07a65",
       "max": 1052,
       "style": "IPY_MODEL_62f22c44ab58493896babf4705a390e4",
       "value": 1052
      }
     },
     "03c545137e9c43909f4ae9c025cd8d3d": {
      "model_module": "@jupyter-widgets/base",
      "model_module_version": "1.2.0",
      "model_name": "LayoutModel",
      "state": {}
     },
     "03d015f107334e9da989337bba175d92": {
      "model_module": "@jupyter-widgets/controls",
      "model_module_version": "1.5.0",
      "model_name": "HTMLModel",
      "state": {
       "layout": "IPY_MODEL_71922b927aff4c03923c9b353d9f4846",
       "style": "IPY_MODEL_e95f05372d6d40a4a7683cf9f1778f50",
       "value": "100%"
      }
     },
     "03eb11f7322b46a59931a40f10b41e16": {
      "model_module": "@jupyter-widgets/base",
      "model_module_version": "1.2.0",
      "model_name": "LayoutModel",
      "state": {}
     },
     "0416ce08de9a4224b4af5169ec8ab385": {
      "model_module": "@jupyter-widgets/controls",
      "model_module_version": "1.5.0",
      "model_name": "ProgressStyleModel",
      "state": {
       "description_width": ""
      }
     },
     "04263e65cda947cbbcac6dd22a304439": {
      "model_module": "@jupyter-widgets/base",
      "model_module_version": "1.2.0",
      "model_name": "LayoutModel",
      "state": {}
     },
     "04298c3be3504daba6c74e1ba9cf075a": {
      "model_module": "@jupyter-widgets/controls",
      "model_module_version": "1.5.0",
      "model_name": "DescriptionStyleModel",
      "state": {
       "description_width": ""
      }
     },
     "0430b939208b4be4ae14e3c2e13542a7": {
      "model_module": "@jupyter-widgets/controls",
      "model_module_version": "1.5.0",
      "model_name": "DescriptionStyleModel",
      "state": {
       "description_width": ""
      }
     },
     "045583fa8cf8485dae3967651d69a6c6": {
      "model_module": "@jupyter-widgets/base",
      "model_module_version": "1.2.0",
      "model_name": "LayoutModel",
      "state": {}
     },
     "048bae19443444b59de7497eeab6290c": {
      "model_module": "@jupyter-widgets/controls",
      "model_module_version": "1.5.0",
      "model_name": "DescriptionStyleModel",
      "state": {
       "description_width": ""
      }
     },
     "0497636a9e024ce6aea176217b4e02c2": {
      "model_module": "@jupyter-widgets/controls",
      "model_module_version": "1.5.0",
      "model_name": "HTMLModel",
      "state": {
       "layout": "IPY_MODEL_271e33e403fc412dbbd558ad850a5fa2",
       "style": "IPY_MODEL_c19417d336814abc98dad87c0b3a0e0c",
       "value": " 1656/1656 [01:14&lt;00:00, 22.50it/s]"
      }
     },
     "04ab94fe2c2b48bebf2ef4854cff2ae1": {
      "model_module": "@jupyter-widgets/controls",
      "model_module_version": "1.5.0",
      "model_name": "HTMLModel",
      "state": {
       "layout": "IPY_MODEL_7acec413598849879c15d82d0a5d722d",
       "style": "IPY_MODEL_c8b7c500fdfd475184b6880a15a01f1f",
       "value": " 1192/1192 [00:56&lt;00:00, 20.96it/s]"
      }
     },
     "04da6a4426924106b3afd4808caa95b8": {
      "model_module": "@jupyter-widgets/controls",
      "model_module_version": "1.5.0",
      "model_name": "HTMLModel",
      "state": {
       "layout": "IPY_MODEL_ad61f4beb17e40cf82db3a71992dc3fd",
       "style": "IPY_MODEL_a699033aeb994dd9bd8341d212b328f0",
       "value": " 1220/1220 [00:51&lt;00:00, 23.87it/s]"
      }
     },
     "0530fcb113fd41e0bfef519d02fad6d1": {
      "model_module": "@jupyter-widgets/base",
      "model_module_version": "1.2.0",
      "model_name": "LayoutModel",
      "state": {}
     },
     "0544b71082d44cb1a7800b1d7058a36c": {
      "model_module": "@jupyter-widgets/controls",
      "model_module_version": "1.5.0",
      "model_name": "HTMLModel",
      "state": {
       "layout": "IPY_MODEL_fd52eecd4a7a43a6af6a6e3496657e8c",
       "style": "IPY_MODEL_66e2d624b0f941e68a82a84576b1d391",
       "value": "loss: 0.5596: 100%"
      }
     },
     "0560495e8ceb442eb0d3d6200e06c47b": {
      "model_module": "@jupyter-widgets/base",
      "model_module_version": "1.2.0",
      "model_name": "LayoutModel",
      "state": {}
     },
     "05691ce993ec4bb592ca6099bdab69e0": {
      "model_module": "@jupyter-widgets/controls",
      "model_module_version": "1.5.0",
      "model_name": "HTMLModel",
      "state": {
       "layout": "IPY_MODEL_8f3eed111bcb40ab80bffccb11477c89",
       "style": "IPY_MODEL_c338ca6cee534276a6d9930e89a2310b",
       "value": "loss: 0.6792: 100%"
      }
     },
     "05c6a8eea9ce4f4093353570f4841245": {
      "model_module": "@jupyter-widgets/controls",
      "model_module_version": "1.5.0",
      "model_name": "DescriptionStyleModel",
      "state": {
       "description_width": ""
      }
     },
     "05d7edfeeb464c8794eda77afcc3d41a": {
      "model_module": "@jupyter-widgets/base",
      "model_module_version": "1.2.0",
      "model_name": "LayoutModel",
      "state": {}
     },
     "05f03bea3f0e47f1808c1584d549f569": {
      "model_module": "@jupyter-widgets/base",
      "model_module_version": "1.2.0",
      "model_name": "LayoutModel",
      "state": {}
     },
     "05f6dadff2e6428282694deb923067e4": {
      "model_module": "@jupyter-widgets/base",
      "model_module_version": "1.2.0",
      "model_name": "LayoutModel",
      "state": {}
     },
     "0616b6215f0b498e908b68d370a40320": {
      "model_module": "@jupyter-widgets/controls",
      "model_module_version": "1.5.0",
      "model_name": "HTMLModel",
      "state": {
       "layout": "IPY_MODEL_28ad5403280f4f5a92cf68bf4357cd95",
       "style": "IPY_MODEL_82663cc50af64a4ebf973cb0e3b5bb8f",
       "value": "100%"
      }
     },
     "06424e45ba954b53996326bb90e34669": {
      "model_module": "@jupyter-widgets/base",
      "model_module_version": "1.2.0",
      "model_name": "LayoutModel",
      "state": {}
     },
     "0652b697eb5e4cb68bc23c025eea65ae": {
      "model_module": "@jupyter-widgets/controls",
      "model_module_version": "1.5.0",
      "model_name": "DescriptionStyleModel",
      "state": {
       "description_width": ""
      }
     },
     "0659d712312f4c33b98964f4644674b3": {
      "model_module": "@jupyter-widgets/controls",
      "model_module_version": "1.5.0",
      "model_name": "HTMLModel",
      "state": {
       "layout": "IPY_MODEL_543ad245a0d94c5288d23c422c343a80",
       "style": "IPY_MODEL_592afca6274045e5937145c15cbaadfb",
       "value": " 1115/1115 [00:45&lt;00:00, 24.64it/s]"
      }
     },
     "065f7330479c4aff93ac50f83828c42a": {
      "model_module": "@jupyter-widgets/base",
      "model_module_version": "1.2.0",
      "model_name": "LayoutModel",
      "state": {}
     },
     "0668335c0b7a44399d24ec9df5e8c3d0": {
      "model_module": "@jupyter-widgets/base",
      "model_module_version": "1.2.0",
      "model_name": "LayoutModel",
      "state": {}
     },
     "067be5527546414b94f76f78e6cc5a7c": {
      "model_module": "@jupyter-widgets/controls",
      "model_module_version": "1.5.0",
      "model_name": "DescriptionStyleModel",
      "state": {
       "description_width": ""
      }
     },
     "0689db1e495d4244bb03a6af704efa94": {
      "model_module": "@jupyter-widgets/base",
      "model_module_version": "1.2.0",
      "model_name": "LayoutModel",
      "state": {}
     },
     "0693a04f867346dbaecb1eb695af6fb0": {
      "model_module": "@jupyter-widgets/controls",
      "model_module_version": "1.5.0",
      "model_name": "HTMLModel",
      "state": {
       "layout": "IPY_MODEL_73869fcfa5fe44f0bd690097fb822ad5",
       "style": "IPY_MODEL_1bd32760e8e94f6ca5fbe708b902fdbe",
       "value": "100%"
      }
     },
     "06d2d416abb5496faf10ba68d5eebef8": {
      "model_module": "@jupyter-widgets/controls",
      "model_module_version": "1.5.0",
      "model_name": "HTMLModel",
      "state": {
       "layout": "IPY_MODEL_36b02ac644b44e16a2ea07ba1c1d3c4e",
       "style": "IPY_MODEL_b1f337c83d5745dc99bf3e8abec41ab3",
       "value": " 1252/1252 [00:55&lt;00:00, 21.93it/s]"
      }
     },
     "06f6fed51e87457aa68361dca929816a": {
      "model_module": "@jupyter-widgets/base",
      "model_module_version": "1.2.0",
      "model_name": "LayoutModel",
      "state": {}
     },
     "0723794d826142bda385b9a9058e9027": {
      "model_module": "@jupyter-widgets/base",
      "model_module_version": "1.2.0",
      "model_name": "LayoutModel",
      "state": {}
     },
     "0732ba2bcc9d4316ac837902b63c9060": {
      "model_module": "@jupyter-widgets/base",
      "model_module_version": "1.2.0",
      "model_name": "LayoutModel",
      "state": {}
     },
     "0738fcd8bc1b4c26961ab7bdd393e570": {
      "model_module": "@jupyter-widgets/controls",
      "model_module_version": "1.5.0",
      "model_name": "ProgressStyleModel",
      "state": {
       "description_width": ""
      }
     },
     "077476fe06cb4396a08a79c349fa9f07": {
      "model_module": "@jupyter-widgets/base",
      "model_module_version": "1.2.0",
      "model_name": "LayoutModel",
      "state": {}
     },
     "077cae3aa16741f1a5a7c751b38c3e98": {
      "model_module": "@jupyter-widgets/controls",
      "model_module_version": "1.5.0",
      "model_name": "FloatProgressModel",
      "state": {
       "layout": "IPY_MODEL_ff26b5e0576d4d8aaea156613236ed12",
       "max": 1052,
       "style": "IPY_MODEL_b4b45651da354a889ee591ff62b5299e",
       "value": 1052
      }
     },
     "07b4097bc6b74fde8ed6bcae8ab46ca4": {
      "model_module": "@jupyter-widgets/controls",
      "model_module_version": "1.5.0",
      "model_name": "HTMLModel",
      "state": {
       "layout": "IPY_MODEL_c1fb1100ab46466fab38c0e90eff5818",
       "style": "IPY_MODEL_e64ac4ed5c8d4bf48bcac0eaca4a5e76",
       "value": " 1085/1085 [00:45&lt;00:00, 24.04it/s]"
      }
     },
     "07ed0e5de4ee4773b501e011f043217f": {
      "model_module": "@jupyter-widgets/base",
      "model_module_version": "1.2.0",
      "model_name": "LayoutModel",
      "state": {}
     },
     "0840121591d24eaf9a43619ad82f0c61": {
      "model_module": "@jupyter-widgets/controls",
      "model_module_version": "1.5.0",
      "model_name": "ProgressStyleModel",
      "state": {
       "description_width": ""
      }
     },
     "0846afcae17d4f87ae09afda9c42869b": {
      "model_module": "@jupyter-widgets/base",
      "model_module_version": "1.2.0",
      "model_name": "LayoutModel",
      "state": {}
     },
     "0847151ba4ab427696adbc8d6b0a0983": {
      "model_module": "@jupyter-widgets/controls",
      "model_module_version": "1.5.0",
      "model_name": "HTMLModel",
      "state": {
       "layout": "IPY_MODEL_55dec3a3feb0418a85abd971dee9ae21",
       "style": "IPY_MODEL_c39c730bbda7428685e1742408fba861",
       "value": "100%"
      }
     },
     "086e01fead2e474697fdebdf903a3d09": {
      "model_module": "@jupyter-widgets/controls",
      "model_module_version": "1.5.0",
      "model_name": "HTMLModel",
      "state": {
       "layout": "IPY_MODEL_631f1750bd984902a3d4642d4f8ee7d7",
       "style": "IPY_MODEL_bf860ce3ab6f4c2397d2b21ea6d199e7",
       "value": "100%"
      }
     },
     "0892b93a9d164f43813842f22e944e1b": {
      "model_module": "@jupyter-widgets/base",
      "model_module_version": "1.2.0",
      "model_name": "LayoutModel",
      "state": {}
     },
     "08d185dd30ee40d7869771794d29879e": {
      "model_module": "@jupyter-widgets/controls",
      "model_module_version": "1.5.0",
      "model_name": "ProgressStyleModel",
      "state": {
       "description_width": ""
      }
     },
     "08ed283355eb4349a33b3a1f0da88fca": {
      "model_module": "@jupyter-widgets/base",
      "model_module_version": "1.2.0",
      "model_name": "LayoutModel",
      "state": {}
     },
     "0900ab9878084237993d09acae766bfc": {
      "model_module": "@jupyter-widgets/controls",
      "model_module_version": "1.5.0",
      "model_name": "DescriptionStyleModel",
      "state": {
       "description_width": ""
      }
     },
     "090a835e615149df935921478e8e60bf": {
      "model_module": "@jupyter-widgets/controls",
      "model_module_version": "1.5.0",
      "model_name": "DescriptionStyleModel",
      "state": {
       "description_width": ""
      }
     },
     "092e30c444684d77b35cb6ef36126664": {
      "model_module": "@jupyter-widgets/base",
      "model_module_version": "1.2.0",
      "model_name": "LayoutModel",
      "state": {}
     },
     "0958ec7f0c5c454ea6bc7b38698e8d5a": {
      "model_module": "@jupyter-widgets/base",
      "model_module_version": "1.2.0",
      "model_name": "LayoutModel",
      "state": {}
     },
     "09676a2c0641433c9ee82e1d3b7c276a": {
      "model_module": "@jupyter-widgets/base",
      "model_module_version": "1.2.0",
      "model_name": "LayoutModel",
      "state": {}
     },
     "0978205775a84609ad7f5c40f0ad3b70": {
      "model_module": "@jupyter-widgets/controls",
      "model_module_version": "1.5.0",
      "model_name": "FloatProgressModel",
      "state": {
       "layout": "IPY_MODEL_0333416d05fc40068eb175f57e0968e7",
       "max": 1228,
       "style": "IPY_MODEL_0aa69acf41e54d599893895920acabea",
       "value": 1228
      }
     },
     "099635b031eb4edcab64e22b56d46fc3": {
      "model_module": "@jupyter-widgets/controls",
      "model_module_version": "1.5.0",
      "model_name": "ProgressStyleModel",
      "state": {
       "description_width": ""
      }
     },
     "09a93570bd38487e815f4ed189c3094b": {
      "model_module": "@jupyter-widgets/base",
      "model_module_version": "1.2.0",
      "model_name": "LayoutModel",
      "state": {}
     },
     "09dcf7e5a5a44c31a4accd92da591b25": {
      "model_module": "@jupyter-widgets/controls",
      "model_module_version": "1.5.0",
      "model_name": "FloatProgressModel",
      "state": {
       "layout": "IPY_MODEL_684b5b859bfd48088384787f5835b306",
       "max": 1216,
       "style": "IPY_MODEL_e9d5562d08d54db8b60ae51347d359d1",
       "value": 1216
      }
     },
     "09df3f74595b47a9a1d9fe95971e9355": {
      "model_module": "@jupyter-widgets/controls",
      "model_module_version": "1.5.0",
      "model_name": "FloatProgressModel",
      "state": {
       "layout": "IPY_MODEL_a90a718ff1c3431b922336603037cbfe",
       "max": 929,
       "style": "IPY_MODEL_ae657e5ba29546fc93b4514cee4fa6ad",
       "value": 929
      }
     },
     "09ff85f2ba1b41a988f2c27af55585ec": {
      "model_module": "@jupyter-widgets/base",
      "model_module_version": "1.2.0",
      "model_name": "LayoutModel",
      "state": {}
     },
     "0a1eece6bb3d4f0b92d66254f36ec379": {
      "model_module": "@jupyter-widgets/controls",
      "model_module_version": "1.5.0",
      "model_name": "HTMLModel",
      "state": {
       "layout": "IPY_MODEL_b28c75c2669742d595c40bdec97ee898",
       "style": "IPY_MODEL_a10e35eff90e4d2bad719627c57ccc69",
       "value": "loss: 0.6664: 100%"
      }
     },
     "0a2954ad0e994101855def539eb48f95": {
      "model_module": "@jupyter-widgets/controls",
      "model_module_version": "1.5.0",
      "model_name": "ProgressStyleModel",
      "state": {
       "description_width": ""
      }
     },
     "0a2d60aa2e6d43288658cccb23a6ca16": {
      "model_module": "@jupyter-widgets/base",
      "model_module_version": "1.2.0",
      "model_name": "LayoutModel",
      "state": {}
     },
     "0a49a2479a3c4247a83cf1d3f546c107": {
      "model_module": "@jupyter-widgets/base",
      "model_module_version": "1.2.0",
      "model_name": "LayoutModel",
      "state": {}
     },
     "0a588562c811412abc640a2173851b26": {
      "model_module": "@jupyter-widgets/base",
      "model_module_version": "1.2.0",
      "model_name": "LayoutModel",
      "state": {}
     },
     "0a5da55ff7aa4f7ab06e33016e44ab6e": {
      "model_module": "@jupyter-widgets/controls",
      "model_module_version": "1.5.0",
      "model_name": "ProgressStyleModel",
      "state": {
       "description_width": ""
      }
     },
     "0a63012ccf864fe383815f3d73d4c475": {
      "model_module": "@jupyter-widgets/base",
      "model_module_version": "1.2.0",
      "model_name": "LayoutModel",
      "state": {}
     },
     "0a9aa162235a4693aede09850a143520": {
      "model_module": "@jupyter-widgets/base",
      "model_module_version": "1.2.0",
      "model_name": "LayoutModel",
      "state": {}
     },
     "0a9e90698c3d4b0b8a01c3afc040fec5": {
      "model_module": "@jupyter-widgets/base",
      "model_module_version": "1.2.0",
      "model_name": "LayoutModel",
      "state": {}
     },
     "0aa69acf41e54d599893895920acabea": {
      "model_module": "@jupyter-widgets/controls",
      "model_module_version": "1.5.0",
      "model_name": "ProgressStyleModel",
      "state": {
       "description_width": ""
      }
     },
     "0acad16df3784cd7929e6666d02766be": {
      "model_module": "@jupyter-widgets/controls",
      "model_module_version": "1.5.0",
      "model_name": "HTMLModel",
      "state": {
       "layout": "IPY_MODEL_9729edb8d0eb4c41a9be5cd9bbbfb736",
       "style": "IPY_MODEL_73931a822a4249ec9c637d1deeda0166",
       "value": " 1085/1085 [00:45&lt;00:00, 24.04it/s]"
      }
     },
     "0ae1c3eb16674c65806018db8b5a2984": {
      "model_module": "@jupyter-widgets/controls",
      "model_module_version": "1.5.0",
      "model_name": "ProgressStyleModel",
      "state": {
       "description_width": ""
      }
     },
     "0af944a60e914495be52df19a550c1cf": {
      "model_module": "@jupyter-widgets/base",
      "model_module_version": "1.2.0",
      "model_name": "LayoutModel",
      "state": {}
     },
     "0afaff083f724e7d942dabf919eb33f5": {
      "model_module": "@jupyter-widgets/controls",
      "model_module_version": "1.5.0",
      "model_name": "DescriptionStyleModel",
      "state": {
       "description_width": ""
      }
     },
     "0b0fef5d0cc346feb2fd9762ff08ba7f": {
      "model_module": "@jupyter-widgets/base",
      "model_module_version": "1.2.0",
      "model_name": "LayoutModel",
      "state": {}
     },
     "0b1be86d670940c1bb90ff8a5ffdbf48": {
      "model_module": "@jupyter-widgets/controls",
      "model_module_version": "1.5.0",
      "model_name": "DescriptionStyleModel",
      "state": {
       "description_width": ""
      }
     },
     "0b32beae983c4a9d9b1118acb73dea8d": {
      "model_module": "@jupyter-widgets/base",
      "model_module_version": "1.2.0",
      "model_name": "LayoutModel",
      "state": {}
     },
     "0b47a86791984e35b408a77c13412d5b": {
      "model_module": "@jupyter-widgets/base",
      "model_module_version": "1.2.0",
      "model_name": "LayoutModel",
      "state": {}
     },
     "0b7f45a508c7464d9f5aa77a1f89d6ff": {
      "model_module": "@jupyter-widgets/controls",
      "model_module_version": "1.5.0",
      "model_name": "ProgressStyleModel",
      "state": {
       "description_width": ""
      }
     },
     "0b80c37f50ad436abad4ae7aca824c91": {
      "model_module": "@jupyter-widgets/controls",
      "model_module_version": "1.5.0",
      "model_name": "FloatProgressModel",
      "state": {
       "layout": "IPY_MODEL_9d9776c3b98c45f79382093c264ad5b6",
       "max": 1005,
       "style": "IPY_MODEL_5f127cb318f34ea7a0d60aafd717c2f2",
       "value": 1005
      }
     },
     "0bb00c2edae2401f9219f27dc6bfe594": {
      "model_module": "@jupyter-widgets/controls",
      "model_module_version": "1.5.0",
      "model_name": "DescriptionStyleModel",
      "state": {
       "description_width": ""
      }
     },
     "0be16c1f302c414aa9dc6b72a0056831": {
      "model_module": "@jupyter-widgets/controls",
      "model_module_version": "1.5.0",
      "model_name": "HTMLModel",
      "state": {
       "layout": "IPY_MODEL_ebe0abe19958444bad4d30ece756a4d0",
       "style": "IPY_MODEL_d562f0bb7c614255a3cec247edfca0e8",
       "value": " 1628/1628 [01:15&lt;00:00, 21.82it/s]"
      }
     },
     "0c0a88baa9484deb88635d72de5ca427": {
      "model_module": "@jupyter-widgets/controls",
      "model_module_version": "1.5.0",
      "model_name": "DescriptionStyleModel",
      "state": {
       "description_width": ""
      }
     },
     "0c116283de8d405998980ce54365aaac": {
      "model_module": "@jupyter-widgets/controls",
      "model_module_version": "1.5.0",
      "model_name": "DescriptionStyleModel",
      "state": {
       "description_width": ""
      }
     },
     "0c59a402cad04c2fb20299724657b1e7": {
      "model_module": "@jupyter-widgets/controls",
      "model_module_version": "1.5.0",
      "model_name": "ProgressStyleModel",
      "state": {
       "description_width": ""
      }
     },
     "0c65b17e8dd1458898fb30334baf1bdf": {
      "model_module": "@jupyter-widgets/controls",
      "model_module_version": "1.5.0",
      "model_name": "ProgressStyleModel",
      "state": {
       "description_width": ""
      }
     },
     "0c81f8082499481c9665da31192123c5": {
      "model_module": "@jupyter-widgets/base",
      "model_module_version": "1.2.0",
      "model_name": "LayoutModel",
      "state": {}
     },
     "0ca7cfc6df074499b1d81eb8be99e958": {
      "model_module": "@jupyter-widgets/controls",
      "model_module_version": "1.5.0",
      "model_name": "FloatProgressModel",
      "state": {
       "layout": "IPY_MODEL_97216b0830c542d8bf53eaebb8d0df0d",
       "max": 930,
       "style": "IPY_MODEL_f55fbae13c894c61b41dd75426e583e0",
       "value": 930
      }
     },
     "0cc160c2e9274fa1948e2d71691e75fe": {
      "model_module": "@jupyter-widgets/controls",
      "model_module_version": "1.5.0",
      "model_name": "HTMLModel",
      "state": {
       "layout": "IPY_MODEL_663e31d2a5914e5cbdc0e7d732b7d23c",
       "style": "IPY_MODEL_fd98597cccff45daa8050a95312aa1dd",
       "value": "loss: 0.6777: 100%"
      }
     },
     "0ccfcc8eaf224271b12835b79404aefd": {
      "model_module": "@jupyter-widgets/base",
      "model_module_version": "1.2.0",
      "model_name": "LayoutModel",
      "state": {}
     },
     "0d3b22097a6640eea96f6a29acb050fc": {
      "model_module": "@jupyter-widgets/base",
      "model_module_version": "1.2.0",
      "model_name": "LayoutModel",
      "state": {}
     },
     "0d624d505d524c6982252132467bb3f4": {
      "model_module": "@jupyter-widgets/base",
      "model_module_version": "1.2.0",
      "model_name": "LayoutModel",
      "state": {}
     },
     "0d85d749355e4528aeab50b6a9748483": {
      "model_module": "@jupyter-widgets/controls",
      "model_module_version": "1.5.0",
      "model_name": "FloatProgressModel",
      "state": {
       "layout": "IPY_MODEL_323f7684cb70412abe035d3f19b1f92b",
       "max": 238,
       "style": "IPY_MODEL_4bc013d5f4184a748879d97e2e385206",
       "value": 238
      }
     },
     "0d86b2041c3044c78eec09114f71c43d": {
      "model_module": "@jupyter-widgets/controls",
      "model_module_version": "1.5.0",
      "model_name": "FloatProgressModel",
      "state": {
       "layout": "IPY_MODEL_08ed283355eb4349a33b3a1f0da88fca",
       "max": 1075,
       "style": "IPY_MODEL_5ffc0d4f0c5b430aba7c2c17e1db2d22",
       "value": 1075
      }
     },
     "0d8d01d3fb3144fa8168d39033b63fe7": {
      "model_module": "@jupyter-widgets/controls",
      "model_module_version": "1.5.0",
      "model_name": "DescriptionStyleModel",
      "state": {
       "description_width": ""
      }
     },
     "0d921dfe94c24bfcb9538f73f1722dce": {
      "model_module": "@jupyter-widgets/controls",
      "model_module_version": "1.5.0",
      "model_name": "ProgressStyleModel",
      "state": {
       "description_width": ""
      }
     },
     "0daeb08a600741ed9960d421d0c49e1b": {
      "model_module": "@jupyter-widgets/controls",
      "model_module_version": "1.5.0",
      "model_name": "HTMLModel",
      "state": {
       "layout": "IPY_MODEL_5d93a5085d9444ccbf3e92e52b0153c8",
       "style": "IPY_MODEL_73be23b87e9643e3beb9ba5a1de9f912",
       "value": "loss: 0.6300: 100%"
      }
     },
     "0db84676b07c4f13a2f95bf784ecd43e": {
      "model_module": "@jupyter-widgets/controls",
      "model_module_version": "1.5.0",
      "model_name": "DescriptionStyleModel",
      "state": {
       "description_width": ""
      }
     },
     "0dcd46c262004d0a83331fb37c99dd3f": {
      "model_module": "@jupyter-widgets/base",
      "model_module_version": "1.2.0",
      "model_name": "LayoutModel",
      "state": {}
     },
     "0dd10ac2c58a495cae14e7a35a0498e6": {
      "model_module": "@jupyter-widgets/base",
      "model_module_version": "1.2.0",
      "model_name": "LayoutModel",
      "state": {}
     },
     "0de030cd77af48a1b5952d0cc92438ef": {
      "model_module": "@jupyter-widgets/controls",
      "model_module_version": "1.5.0",
      "model_name": "DescriptionStyleModel",
      "state": {
       "description_width": ""
      }
     },
     "0e22d249bdad482d9c71b758ae1155ed": {
      "model_module": "@jupyter-widgets/base",
      "model_module_version": "1.2.0",
      "model_name": "LayoutModel",
      "state": {}
     },
     "0e3e4a293e284f6ca794b0f489b7cb02": {
      "model_module": "@jupyter-widgets/controls",
      "model_module_version": "1.5.0",
      "model_name": "ProgressStyleModel",
      "state": {
       "description_width": ""
      }
     },
     "0e44a860af2a45af972fd250117b9301": {
      "model_module": "@jupyter-widgets/controls",
      "model_module_version": "1.5.0",
      "model_name": "ProgressStyleModel",
      "state": {
       "description_width": ""
      }
     },
     "0e7c7d06505b4d83b3495bb6ca6e12a4": {
      "model_module": "@jupyter-widgets/base",
      "model_module_version": "1.2.0",
      "model_name": "LayoutModel",
      "state": {}
     },
     "0e8125dc2c1a41629be0f03de9fb2368": {
      "model_module": "@jupyter-widgets/base",
      "model_module_version": "1.2.0",
      "model_name": "LayoutModel",
      "state": {}
     },
     "0e8c4a0394924e18842b3f9bec9d4053": {
      "model_module": "@jupyter-widgets/base",
      "model_module_version": "1.2.0",
      "model_name": "LayoutModel",
      "state": {}
     },
     "0ea13a4561c1404db2170695172c0867": {
      "model_module": "@jupyter-widgets/controls",
      "model_module_version": "1.5.0",
      "model_name": "DescriptionStyleModel",
      "state": {
       "description_width": ""
      }
     },
     "0eb54d8eb5774e2da1f1ccf7783c437f": {
      "model_module": "@jupyter-widgets/controls",
      "model_module_version": "1.5.0",
      "model_name": "DescriptionStyleModel",
      "state": {
       "description_width": ""
      }
     },
     "0ebb471273fa4fd7b584f62fb169e486": {
      "model_module": "@jupyter-widgets/controls",
      "model_module_version": "1.5.0",
      "model_name": "HTMLModel",
      "state": {
       "layout": "IPY_MODEL_9633d0eb0ad04617a27b62216954981f",
       "style": "IPY_MODEL_43d0a9200e144bc7bc3292d63193c2fa",
       "value": " 1228/1228 [00:58&lt;00:00, 22.60it/s]"
      }
     },
     "0ebf148e6ec2458da1ce47a1065c2b3a": {
      "model_module": "@jupyter-widgets/base",
      "model_module_version": "1.2.0",
      "model_name": "LayoutModel",
      "state": {}
     },
     "0ec16036b4ed4939a0242026f3133a45": {
      "model_module": "@jupyter-widgets/base",
      "model_module_version": "1.2.0",
      "model_name": "LayoutModel",
      "state": {}
     },
     "0ef4ae7e261c438ca71c6d530ed37aaa": {
      "model_module": "@jupyter-widgets/controls",
      "model_module_version": "1.5.0",
      "model_name": "FloatProgressModel",
      "state": {
       "layout": "IPY_MODEL_969f0b07ccd9432db93814849fe99ec9",
       "max": 251,
       "style": "IPY_MODEL_08d185dd30ee40d7869771794d29879e",
       "value": 251
      }
     },
     "0f384e1fa6434d23959c471cbae79ca8": {
      "model_module": "@jupyter-widgets/base",
      "model_module_version": "1.2.0",
      "model_name": "LayoutModel",
      "state": {}
     },
     "0f62fd2dc1094e9289115e1cb94c5b36": {
      "model_module": "@jupyter-widgets/controls",
      "model_module_version": "1.5.0",
      "model_name": "HTMLModel",
      "state": {
       "layout": "IPY_MODEL_f5564731313b43ecbded895bc13673ea",
       "style": "IPY_MODEL_01ab6adfd1c546d881dcc77458da4bd9",
       "value": "loss: 0.6127: 100%"
      }
     },
     "0f73fa823e834b6e8f5373ba2a5c6eb6": {
      "model_module": "@jupyter-widgets/controls",
      "model_module_version": "1.5.0",
      "model_name": "HTMLModel",
      "state": {
       "layout": "IPY_MODEL_ead8eb5365ca4d539236dbe82b0b77bc",
       "style": "IPY_MODEL_bc4040419dee49018bdbb1fdfe1f768d",
       "value": "100%"
      }
     },
     "0fa5ecf02b664eee93c7d934f1e1b63b": {
      "model_module": "@jupyter-widgets/controls",
      "model_module_version": "1.5.0",
      "model_name": "DescriptionStyleModel",
      "state": {
       "description_width": ""
      }
     },
     "0fabc8ca65b94dbf87c9b3d6b00a60cc": {
      "model_module": "@jupyter-widgets/controls",
      "model_module_version": "1.5.0",
      "model_name": "ProgressStyleModel",
      "state": {
       "description_width": ""
      }
     },
     "0fbb6785fb8b4bb596ba3094710afab5": {
      "model_module": "@jupyter-widgets/controls",
      "model_module_version": "1.5.0",
      "model_name": "FloatProgressModel",
      "state": {
       "layout": "IPY_MODEL_44314e8320e94a94bf435d8e7b2e61e0",
       "max": 1049,
       "style": "IPY_MODEL_a9bd0d74e24147a9995f3718c2e29a7e",
       "value": 1049
      }
     },
     "0fcc7c1474824fc58443b0055a4ea120": {
      "model_module": "@jupyter-widgets/base",
      "model_module_version": "1.2.0",
      "model_name": "LayoutModel",
      "state": {}
     },
     "102ed5d7c1fa463abea4b2f91129e6c1": {
      "model_module": "@jupyter-widgets/controls",
      "model_module_version": "1.5.0",
      "model_name": "DescriptionStyleModel",
      "state": {
       "description_width": ""
      }
     },
     "1050b11f01f644a49b33c7889d9e9305": {
      "model_module": "@jupyter-widgets/base",
      "model_module_version": "1.2.0",
      "model_name": "LayoutModel",
      "state": {}
     },
     "1063a8e3f8bd4046a651af08497d1a48": {
      "model_module": "@jupyter-widgets/controls",
      "model_module_version": "1.5.0",
      "model_name": "FloatProgressModel",
      "state": {
       "layout": "IPY_MODEL_6a619f1097d749cb8b03d70d7d391909",
       "max": 353,
       "style": "IPY_MODEL_12f01b72037b44d883a340482bc9cb25",
       "value": 353
      }
     },
     "10f150d2d81a41079f6b501ee71cd6b6": {
      "model_module": "@jupyter-widgets/base",
      "model_module_version": "1.2.0",
      "model_name": "LayoutModel",
      "state": {}
     },
     "110831062fb44a49ba0f48e69ae7decb": {
      "model_module": "@jupyter-widgets/controls",
      "model_module_version": "1.5.0",
      "model_name": "DescriptionStyleModel",
      "state": {
       "description_width": ""
      }
     },
     "110df4fbc96646d58dd7c2406458bf9b": {
      "model_module": "@jupyter-widgets/controls",
      "model_module_version": "1.5.0",
      "model_name": "ProgressStyleModel",
      "state": {
       "description_width": ""
      }
     },
     "1135a890db3c4e16a77cbf81a837f1b3": {
      "model_module": "@jupyter-widgets/controls",
      "model_module_version": "1.5.0",
      "model_name": "FloatProgressModel",
      "state": {
       "layout": "IPY_MODEL_be92e28054dd4a83a8885b59057cf5ba",
       "max": 1084,
       "style": "IPY_MODEL_0d921dfe94c24bfcb9538f73f1722dce",
       "value": 1084
      }
     },
     "1154cad8881e49f7992ae446303bf6c2": {
      "model_module": "@jupyter-widgets/controls",
      "model_module_version": "1.5.0",
      "model_name": "HTMLModel",
      "state": {
       "layout": "IPY_MODEL_ec524d806fbe484d9116b0c0ec1942b7",
       "style": "IPY_MODEL_9f2a123ef7c74ea4b97001e98512bf09",
       "value": "loss: 0.5585: 100%"
      }
     },
     "11ae1da0a58d4c228d7571bee7a55a1e": {
      "model_module": "@jupyter-widgets/base",
      "model_module_version": "1.2.0",
      "model_name": "LayoutModel",
      "state": {}
     },
     "11b6cc099f334252826a753f8d52bb50": {
      "model_module": "@jupyter-widgets/controls",
      "model_module_version": "1.5.0",
      "model_name": "DescriptionStyleModel",
      "state": {
       "description_width": ""
      }
     },
     "11ebbea48c6a481a93f66953e331e2ea": {
      "model_module": "@jupyter-widgets/controls",
      "model_module_version": "1.5.0",
      "model_name": "DescriptionStyleModel",
      "state": {
       "description_width": ""
      }
     },
     "11f6207687a949f1af6fc75cbcbf4bcb": {
      "model_module": "@jupyter-widgets/controls",
      "model_module_version": "1.5.0",
      "model_name": "HTMLModel",
      "state": {
       "layout": "IPY_MODEL_f64d69c863ce491496bba028e1ef68e9",
       "style": "IPY_MODEL_4786b2e3ab3b4965864b3df58c69be3d",
       "value": " 1084/1084 [00:50&lt;00:00, 21.68it/s]"
      }
     },
     "11fff9e5a3724adcabd1e94e2a021b07": {
      "model_module": "@jupyter-widgets/controls",
      "model_module_version": "1.5.0",
      "model_name": "DescriptionStyleModel",
      "state": {
       "description_width": ""
      }
     },
     "121ce42113574accb9ef12f1ba861dda": {
      "model_module": "@jupyter-widgets/controls",
      "model_module_version": "1.5.0",
      "model_name": "FloatProgressModel",
      "state": {
       "layout": "IPY_MODEL_6a40328664764c6ea2ec6d81838c048e",
       "max": 500,
       "style": "IPY_MODEL_099635b031eb4edcab64e22b56d46fc3",
       "value": 500
      }
     },
     "123be5daa71e4d568126168b2c427f18": {
      "model_module": "@jupyter-widgets/controls",
      "model_module_version": "1.5.0",
      "model_name": "ProgressStyleModel",
      "state": {
       "description_width": ""
      }
     },
     "124c6ea213694ee5a75248cb61e49781": {
      "model_module": "@jupyter-widgets/base",
      "model_module_version": "1.2.0",
      "model_name": "LayoutModel",
      "state": {}
     },
     "1260ec1058e146e6838eb083c1301c78": {
      "model_module": "@jupyter-widgets/controls",
      "model_module_version": "1.5.0",
      "model_name": "HTMLModel",
      "state": {
       "layout": "IPY_MODEL_4aecd46a7b6048efb8a19402432af2f3",
       "style": "IPY_MODEL_af1f5ce5fc824d2282537f1a01daa667",
       "value": " 1220/1220 [00:49&lt;00:00, 24.45it/s]"
      }
     },
     "1264af2cbddc48dcb1ce95158fd388a1": {
      "model_module": "@jupyter-widgets/base",
      "model_module_version": "1.2.0",
      "model_name": "LayoutModel",
      "state": {}
     },
     "12704e92de6c459aa0665ab3d7be289c": {
      "model_module": "@jupyter-widgets/controls",
      "model_module_version": "1.5.0",
      "model_name": "ProgressStyleModel",
      "state": {
       "description_width": ""
      }
     },
     "12736023e4e344dbb44d07969cc1299d": {
      "model_module": "@jupyter-widgets/base",
      "model_module_version": "1.2.0",
      "model_name": "LayoutModel",
      "state": {}
     },
     "12857329d6904fcaa436d88fe633e96b": {
      "model_module": "@jupyter-widgets/controls",
      "model_module_version": "1.5.0",
      "model_name": "ProgressStyleModel",
      "state": {
       "description_width": ""
      }
     },
     "1289334541984dac95d0f3f188ccbeb8": {
      "model_module": "@jupyter-widgets/controls",
      "model_module_version": "1.5.0",
      "model_name": "ProgressStyleModel",
      "state": {
       "description_width": ""
      }
     },
     "12937affc602404cbf37c51ffb19c955": {
      "model_module": "@jupyter-widgets/controls",
      "model_module_version": "1.5.0",
      "model_name": "FloatProgressModel",
      "state": {
       "layout": "IPY_MODEL_12736023e4e344dbb44d07969cc1299d",
       "max": 903,
       "style": "IPY_MODEL_a4d8a27ae6364954a5c1e83c32f6c170",
       "value": 903
      }
     },
     "12961e86fb914c14845e286b88c1cbad": {
      "model_module": "@jupyter-widgets/base",
      "model_module_version": "1.2.0",
      "model_name": "LayoutModel",
      "state": {}
     },
     "12d3d2da133b4606808acd9495668173": {
      "model_module": "@jupyter-widgets/controls",
      "model_module_version": "1.5.0",
      "model_name": "ProgressStyleModel",
      "state": {
       "description_width": ""
      }
     },
     "12f01b72037b44d883a340482bc9cb25": {
      "model_module": "@jupyter-widgets/controls",
      "model_module_version": "1.5.0",
      "model_name": "ProgressStyleModel",
      "state": {
       "description_width": ""
      }
     },
     "12fc0ddb2fb54842b44778a66901de59": {
      "model_module": "@jupyter-widgets/base",
      "model_module_version": "1.2.0",
      "model_name": "LayoutModel",
      "state": {}
     },
     "13043f938e8840e0861cd0b7a7427411": {
      "model_module": "@jupyter-widgets/base",
      "model_module_version": "1.2.0",
      "model_name": "LayoutModel",
      "state": {}
     },
     "1319260101eb45cbb7e41af104ed89af": {
      "model_module": "@jupyter-widgets/controls",
      "model_module_version": "1.5.0",
      "model_name": "ProgressStyleModel",
      "state": {
       "description_width": ""
      }
     },
     "13345b94c0a9477f9c932f957851536d": {
      "model_module": "@jupyter-widgets/controls",
      "model_module_version": "1.5.0",
      "model_name": "HTMLModel",
      "state": {
       "layout": "IPY_MODEL_b0d262ef2aeb4d7399b8eb0fd7461e43",
       "style": "IPY_MODEL_ecf88ce8a6724eca9d4556433fc4f271",
       "value": " 1229/1229 [00:52&lt;00:00, 23.53it/s]"
      }
     },
     "1391fb8ace4948dd8dfffba5ed705c43": {
      "model_module": "@jupyter-widgets/controls",
      "model_module_version": "1.5.0",
      "model_name": "DescriptionStyleModel",
      "state": {
       "description_width": ""
      }
     },
     "1395353bb28d4ffc94c92b052132958c": {
      "model_module": "@jupyter-widgets/base",
      "model_module_version": "1.2.0",
      "model_name": "LayoutModel",
      "state": {}
     },
     "139c732ae7144c5599e660c1cb8dfb78": {
      "model_module": "@jupyter-widgets/base",
      "model_module_version": "1.2.0",
      "model_name": "LayoutModel",
      "state": {}
     },
     "13b16164742145acbf48753a176285b4": {
      "model_module": "@jupyter-widgets/base",
      "model_module_version": "1.2.0",
      "model_name": "LayoutModel",
      "state": {}
     },
     "141992820b3d4f8896c12689bc976936": {
      "model_module": "@jupyter-widgets/controls",
      "model_module_version": "1.5.0",
      "model_name": "ProgressStyleModel",
      "state": {
       "description_width": ""
      }
     },
     "143080ae791540faba9601209a00dc10": {
      "model_module": "@jupyter-widgets/controls",
      "model_module_version": "1.5.0",
      "model_name": "DescriptionStyleModel",
      "state": {
       "description_width": ""
      }
     },
     "143a26aac6ac4a4aa0d851daebd80607": {
      "model_module": "@jupyter-widgets/controls",
      "model_module_version": "1.5.0",
      "model_name": "HTMLModel",
      "state": {
       "layout": "IPY_MODEL_20845acca7ce498193a32738b5e0626f",
       "style": "IPY_MODEL_7a5c230558db4ebc8b02d4f0d4ef1b38",
       "value": "loss: 0.6167: 100%"
      }
     },
     "143b5c309b0f43a7b31091d0a80de5bd": {
      "model_module": "@jupyter-widgets/controls",
      "model_module_version": "1.5.0",
      "model_name": "DescriptionStyleModel",
      "state": {
       "description_width": ""
      }
     },
     "144f7763f06e42b8af8f10f77b16497b": {
      "model_module": "@jupyter-widgets/controls",
      "model_module_version": "1.5.0",
      "model_name": "ProgressStyleModel",
      "state": {
       "description_width": ""
      }
     },
     "145b7d4016384cd0890bad270892f32a": {
      "model_module": "@jupyter-widgets/controls",
      "model_module_version": "1.5.0",
      "model_name": "HTMLModel",
      "state": {
       "layout": "IPY_MODEL_b3205472187542528b5b0f345119be88",
       "style": "IPY_MODEL_536fcb8f6d1f477ba5b2bf92e6257753",
       "value": "loss: 0.7454: 100%"
      }
     },
     "1463d72a772e4dd0be08138611ecaf2a": {
      "model_module": "@jupyter-widgets/base",
      "model_module_version": "1.2.0",
      "model_name": "LayoutModel",
      "state": {}
     },
     "14ba5e2992e74091b64f0d7f3ef75417": {
      "model_module": "@jupyter-widgets/base",
      "model_module_version": "1.2.0",
      "model_name": "LayoutModel",
      "state": {}
     },
     "14de058894f84609858ec1488871e028": {
      "model_module": "@jupyter-widgets/controls",
      "model_module_version": "1.5.0",
      "model_name": "DescriptionStyleModel",
      "state": {
       "description_width": ""
      }
     },
     "14e37f5016fa492390fc13504b4ccd3a": {
      "model_module": "@jupyter-widgets/controls",
      "model_module_version": "1.5.0",
      "model_name": "FloatProgressModel",
      "state": {
       "layout": "IPY_MODEL_fbafe7ff669f41c686cd12362ac75a3d",
       "max": 1224,
       "style": "IPY_MODEL_f907f37a056d4b31a35cb31671c2b1b9",
       "value": 1224
      }
     },
     "14f2ab09a0db4dee9bb0de6e90b725fa": {
      "model_module": "@jupyter-widgets/base",
      "model_module_version": "1.2.0",
      "model_name": "LayoutModel",
      "state": {}
     },
     "1506b8839f2a4018a5a0d21391c76dcc": {
      "model_module": "@jupyter-widgets/controls",
      "model_module_version": "1.5.0",
      "model_name": "DescriptionStyleModel",
      "state": {
       "description_width": ""
      }
     },
     "151cac081d494389aeb97d92305804ef": {
      "model_module": "@jupyter-widgets/controls",
      "model_module_version": "1.5.0",
      "model_name": "FloatProgressModel",
      "state": {
       "layout": "IPY_MODEL_af27e9ea45104e35b43733282551b691",
       "max": 1192,
       "style": "IPY_MODEL_b5c1bed9a4b3407488eb7bed1d4b0c71",
       "value": 1192
      }
     },
     "1576487ea80343c3a26b00b7a0401ab6": {
      "model_module": "@jupyter-widgets/controls",
      "model_module_version": "1.5.0",
      "model_name": "HTMLModel",
      "state": {
       "layout": "IPY_MODEL_e0288c8608fc4dfeaac202af42f44bc2",
       "style": "IPY_MODEL_0b1be86d670940c1bb90ff8a5ffdbf48",
       "value": "loss: 0.6192: 100%"
      }
     },
     "15a502ff03f145de81a4c03753042258": {
      "model_module": "@jupyter-widgets/base",
      "model_module_version": "1.2.0",
      "model_name": "LayoutModel",
      "state": {}
     },
     "15ad659e2a064530b07471cd2a375d41": {
      "model_module": "@jupyter-widgets/base",
      "model_module_version": "1.2.0",
      "model_name": "LayoutModel",
      "state": {}
     },
     "15ba5ae2de9747a4974929caeccb90fb": {
      "model_module": "@jupyter-widgets/controls",
      "model_module_version": "1.5.0",
      "model_name": "ProgressStyleModel",
      "state": {
       "description_width": ""
      }
     },
     "15c4ecfedfd244e0b4e6e272af48b079": {
      "model_module": "@jupyter-widgets/base",
      "model_module_version": "1.2.0",
      "model_name": "LayoutModel",
      "state": {}
     },
     "15ceca93e9b34689a81c088b57dcbfb5": {
      "model_module": "@jupyter-widgets/base",
      "model_module_version": "1.2.0",
      "model_name": "LayoutModel",
      "state": {}
     },
     "15fb031401eb48c795a3a8f8847c15ba": {
      "model_module": "@jupyter-widgets/controls",
      "model_module_version": "1.5.0",
      "model_name": "FloatProgressModel",
      "state": {
       "layout": "IPY_MODEL_a789bb46a3ae4fc484871b984167286e",
       "max": 1228,
       "style": "IPY_MODEL_6ed21d50c98047759209437815ee8ae0",
       "value": 1228
      }
     },
     "1627c594438b4ac0906eae2c4631dfe7": {
      "model_module": "@jupyter-widgets/base",
      "model_module_version": "1.2.0",
      "model_name": "LayoutModel",
      "state": {}
     },
     "162b2de30af74834aa1b9d0e8ebc1cee": {
      "model_module": "@jupyter-widgets/controls",
      "model_module_version": "1.5.0",
      "model_name": "DescriptionStyleModel",
      "state": {
       "description_width": ""
      }
     },
     "163c37618cfd48e99d188c9ada47eace": {
      "model_module": "@jupyter-widgets/controls",
      "model_module_version": "1.5.0",
      "model_name": "HTMLModel",
      "state": {
       "layout": "IPY_MODEL_e65fbc66b3ab4f46bc41e18da6758f47",
       "style": "IPY_MODEL_7f1ab6d0f4f24e5a8c5f6cd3f9dbf3fe",
       "value": "100%"
      }
     },
     "164438f9435d44d6b5124a95274ca76d": {
      "model_module": "@jupyter-widgets/controls",
      "model_module_version": "1.5.0",
      "model_name": "FloatProgressModel",
      "state": {
       "layout": "IPY_MODEL_e0c0b08cbaf54ed1b8eae8833dab73ba",
       "max": 1467,
       "style": "IPY_MODEL_f3b7a747593e4f249ca874c0497ac328",
       "value": 1467
      }
     },
     "16692183700f4f01a50714014951bac3": {
      "model_module": "@jupyter-widgets/controls",
      "model_module_version": "1.5.0",
      "model_name": "HTMLModel",
      "state": {
       "layout": "IPY_MODEL_5308c9de2c3e423e8347328d1e9e00b4",
       "style": "IPY_MODEL_a6e94ce5425d4765a42b3102f57857f1",
       "value": "loss: 0.7207: 100%"
      }
     },
     "168ddd12f70e4ccd80a3c3528ffbe4e5": {
      "model_module": "@jupyter-widgets/base",
      "model_module_version": "1.2.0",
      "model_name": "LayoutModel",
      "state": {}
     },
     "170819bdef224fac9e85cc3c87c0b821": {
      "model_module": "@jupyter-widgets/base",
      "model_module_version": "1.2.0",
      "model_name": "LayoutModel",
      "state": {}
     },
     "1708371976ca41e9960cc0780cf6d2cd": {
      "model_module": "@jupyter-widgets/controls",
      "model_module_version": "1.5.0",
      "model_name": "DescriptionStyleModel",
      "state": {
       "description_width": ""
      }
     },
     "1725c037f6674f57acb510d7543657f2": {
      "model_module": "@jupyter-widgets/controls",
      "model_module_version": "1.5.0",
      "model_name": "HTMLModel",
      "state": {
       "layout": "IPY_MODEL_568a958cf4e140858e33e2f7ca32b7f7",
       "style": "IPY_MODEL_77768371af8f4b73b7fb0c1a6e128749",
       "value": " 1428/1428 [01:07&lt;00:00, 22.78it/s]"
      }
     },
     "1728d186831f488da547174b9e172a49": {
      "model_module": "@jupyter-widgets/controls",
      "model_module_version": "1.5.0",
      "model_name": "FloatProgressModel",
      "state": {
       "layout": "IPY_MODEL_87ac7afda7cb4d29b1155d0cf4749edf",
       "max": 1084,
       "style": "IPY_MODEL_0840121591d24eaf9a43619ad82f0c61",
       "value": 1084
      }
     },
     "174d9e4f52da452da4c045be0b7b4337": {
      "model_module": "@jupyter-widgets/controls",
      "model_module_version": "1.5.0",
      "model_name": "HTMLModel",
      "state": {
       "layout": "IPY_MODEL_3e51f87abe454d949e49a23868d9d619",
       "style": "IPY_MODEL_6c710adb2d6e46b0863513bfee402ec5",
       "value": "loss: 0.6695: 100%"
      }
     },
     "1750c8efe85a46b182461e57e3c5b813": {
      "model_module": "@jupyter-widgets/base",
      "model_module_version": "1.2.0",
      "model_name": "LayoutModel",
      "state": {}
     },
     "1764044704894d2cb92b38cd3305ad47": {
      "model_module": "@jupyter-widgets/controls",
      "model_module_version": "1.5.0",
      "model_name": "HTMLModel",
      "state": {
       "layout": "IPY_MODEL_d475c1dfe85241528b9311fc945e13ab",
       "style": "IPY_MODEL_4f3906ea7cfd41e69c5f613974629691",
       "value": " 1673/1673 [01:09&lt;00:00, 24.09it/s]"
      }
     },
     "177968290655409ebd178e6284971611": {
      "model_module": "@jupyter-widgets/base",
      "model_module_version": "1.2.0",
      "model_name": "LayoutModel",
      "state": {}
     },
     "17bcd449b13243d49c0fd011497b6761": {
      "model_module": "@jupyter-widgets/controls",
      "model_module_version": "1.5.0",
      "model_name": "DescriptionStyleModel",
      "state": {
       "description_width": ""
      }
     },
     "17c17587b6a74ff78ef2ef357295401e": {
      "model_module": "@jupyter-widgets/controls",
      "model_module_version": "1.5.0",
      "model_name": "HTMLModel",
      "state": {
       "layout": "IPY_MODEL_e1078619b117429198484ff1dc6efacd",
       "style": "IPY_MODEL_6aa3a520ca9f47e284be0cfee6995f0b",
       "value": " 1673/1673 [01:11&lt;00:00, 23.77it/s]"
      }
     },
     "17cd2722056f491399cfbdc91a321231": {
      "model_module": "@jupyter-widgets/controls",
      "model_module_version": "1.5.0",
      "model_name": "DescriptionStyleModel",
      "state": {
       "description_width": ""
      }
     },
     "17dd9720436a4e49a4b97c5cfd63ebcd": {
      "model_module": "@jupyter-widgets/controls",
      "model_module_version": "1.5.0",
      "model_name": "FloatProgressModel",
      "state": {
       "layout": "IPY_MODEL_f8af9c297f2c43f384873361467a06a1",
       "max": 247,
       "style": "IPY_MODEL_38e3c185d89a4ccba254e2542efa8817",
       "value": 247
      }
     },
     "17eb04a254114afca5a0e3e49c065399": {
      "model_module": "@jupyter-widgets/controls",
      "model_module_version": "1.5.0",
      "model_name": "DescriptionStyleModel",
      "state": {
       "description_width": ""
      }
     },
     "18080382516e486ba5bb4042392f4a4c": {
      "model_module": "@jupyter-widgets/base",
      "model_module_version": "1.2.0",
      "model_name": "LayoutModel",
      "state": {}
     },
     "181d4dd0bf834dae8852ebd4c14f214d": {
      "model_module": "@jupyter-widgets/base",
      "model_module_version": "1.2.0",
      "model_name": "LayoutModel",
      "state": {}
     },
     "1840bb01562b42229b5f74e21df44fc0": {
      "model_module": "@jupyter-widgets/base",
      "model_module_version": "1.2.0",
      "model_name": "LayoutModel",
      "state": {}
     },
     "18478f34a04840bb8f5d0d5bfb2073fb": {
      "model_module": "@jupyter-widgets/controls",
      "model_module_version": "1.5.0",
      "model_name": "DescriptionStyleModel",
      "state": {
       "description_width": ""
      }
     },
     "186d523d49a0496dbd288745b9506194": {
      "model_module": "@jupyter-widgets/controls",
      "model_module_version": "1.5.0",
      "model_name": "ProgressStyleModel",
      "state": {
       "description_width": ""
      }
     },
     "1897bf4bd02b4844bc3f43b9a4177e8a": {
      "model_module": "@jupyter-widgets/controls",
      "model_module_version": "1.5.0",
      "model_name": "FloatProgressModel",
      "state": {
       "layout": "IPY_MODEL_168ddd12f70e4ccd80a3c3528ffbe4e5",
       "max": 1262,
       "style": "IPY_MODEL_be2f0a3b2e9a4983aeef1c303e07276f",
       "value": 1262
      }
     },
     "18af5044732b46fabbef28db62261e6f": {
      "model_module": "@jupyter-widgets/controls",
      "model_module_version": "1.5.0",
      "model_name": "FloatProgressModel",
      "state": {
       "layout": "IPY_MODEL_c66f577e103943f18e1a881acabb7d55",
       "max": 1091,
       "style": "IPY_MODEL_307a637a0dec482585cdebdb039d355f",
       "value": 1091
      }
     },
     "18c31afb103b429d8c12fb98a57a5ce0": {
      "model_module": "@jupyter-widgets/base",
      "model_module_version": "1.2.0",
      "model_name": "LayoutModel",
      "state": {}
     },
     "18d5b00de2844dbc8a777a3b54d11676": {
      "model_module": "@jupyter-widgets/controls",
      "model_module_version": "1.5.0",
      "model_name": "HTMLModel",
      "state": {
       "layout": "IPY_MODEL_eeacafbe9510401b846e68745f8edb29",
       "style": "IPY_MODEL_ee191cca569f4b9590f38c957b3ce62f",
       "value": " 1229/1229 [00:56&lt;00:00, 21.85it/s]"
      }
     },
     "18e112c102714be2a5b6aa6f21cd1ff9": {
      "model_module": "@jupyter-widgets/controls",
      "model_module_version": "1.5.0",
      "model_name": "FloatProgressModel",
      "state": {
       "layout": "IPY_MODEL_efed1072365f4fdd9951824bda2074d1",
       "max": 1247,
       "style": "IPY_MODEL_21bbdb4266364c2fa9e6d7cc84918abc",
       "value": 1247
      }
     },
     "1906e12e98244ff48b62c5ffb139f669": {
      "model_module": "@jupyter-widgets/base",
      "model_module_version": "1.2.0",
      "model_name": "LayoutModel",
      "state": {}
     },
     "1914af2cbf7d4c66a94f76aae1df89ad": {
      "model_module": "@jupyter-widgets/controls",
      "model_module_version": "1.5.0",
      "model_name": "ProgressStyleModel",
      "state": {
       "description_width": ""
      }
     },
     "194e41285b284e3d9da092f433c27c80": {
      "model_module": "@jupyter-widgets/base",
      "model_module_version": "1.2.0",
      "model_name": "LayoutModel",
      "state": {}
     },
     "196961c03f8a45b68d308a108b43bfb8": {
      "model_module": "@jupyter-widgets/base",
      "model_module_version": "1.2.0",
      "model_name": "LayoutModel",
      "state": {}
     },
     "1969c51a29a34386ae7e3b58a94fa0c5": {
      "model_module": "@jupyter-widgets/controls",
      "model_module_version": "1.5.0",
      "model_name": "HTMLModel",
      "state": {
       "layout": "IPY_MODEL_2495a314636440dbbc9970465add204e",
       "style": "IPY_MODEL_3219e123de7b46f585884e3cee5b92e4",
       "value": " 1224/1224 [00:51&lt;00:00, 23.63it/s]"
      }
     },
     "19831547c73c49d1a237d14ab1da454a": {
      "model_module": "@jupyter-widgets/controls",
      "model_module_version": "1.5.0",
      "model_name": "DescriptionStyleModel",
      "state": {
       "description_width": ""
      }
     },
     "19a05d1287a147508446d2f3206036ed": {
      "model_module": "@jupyter-widgets/base",
      "model_module_version": "1.2.0",
      "model_name": "LayoutModel",
      "state": {}
     },
     "19a4962b77174b1d9a0b224d2d81df80": {
      "model_module": "@jupyter-widgets/base",
      "model_module_version": "1.2.0",
      "model_name": "LayoutModel",
      "state": {}
     },
     "19f2a1a816da4c15974d27c04eb6cabf": {
      "model_module": "@jupyter-widgets/controls",
      "model_module_version": "1.5.0",
      "model_name": "HTMLModel",
      "state": {
       "layout": "IPY_MODEL_8c71f5b1bfa6475f88931b4b795ee89c",
       "style": "IPY_MODEL_83d1f5e655fc4485b39dc329ac2b0ae0",
       "value": " 1192/1192 [00:56&lt;00:00, 21.41it/s]"
      }
     },
     "1a0642b9229f4cb18c519a400366c4b4": {
      "model_module": "@jupyter-widgets/base",
      "model_module_version": "1.2.0",
      "model_name": "LayoutModel",
      "state": {}
     },
     "1a4ca35041574e82ad57da6bb2dfda11": {
      "model_module": "@jupyter-widgets/base",
      "model_module_version": "1.2.0",
      "model_name": "LayoutModel",
      "state": {}
     },
     "1a6875137b624d35a79036bf0080e015": {
      "model_module": "@jupyter-widgets/controls",
      "model_module_version": "1.5.0",
      "model_name": "ProgressStyleModel",
      "state": {
       "description_width": ""
      }
     },
     "1a9b2794394249c78b487c4d6cc6a5e2": {
      "model_module": "@jupyter-widgets/controls",
      "model_module_version": "1.5.0",
      "model_name": "HTMLModel",
      "state": {
       "layout": "IPY_MODEL_3c089b44537e4322bc24018069d324ce",
       "style": "IPY_MODEL_d112ffdef7444a8496f31b8488ea1c70",
       "value": " 1091/1091 [00:47&lt;00:00, 22.93it/s]"
      }
     },
     "1ac93e0b998948a882ea61edcb0ca2df": {
      "model_module": "@jupyter-widgets/base",
      "model_module_version": "1.2.0",
      "model_name": "LayoutModel",
      "state": {}
     },
     "1acb96c5b42340d4a9d4238ed4332ca6": {
      "model_module": "@jupyter-widgets/base",
      "model_module_version": "1.2.0",
      "model_name": "LayoutModel",
      "state": {}
     },
     "1ad3cd033af04e92afc2c3a9331384e3": {
      "model_module": "@jupyter-widgets/controls",
      "model_module_version": "1.5.0",
      "model_name": "ProgressStyleModel",
      "state": {
       "description_width": ""
      }
     },
     "1b0d02014ac74d3a86f401da02c130ff": {
      "model_module": "@jupyter-widgets/controls",
      "model_module_version": "1.5.0",
      "model_name": "FloatProgressModel",
      "state": {
       "layout": "IPY_MODEL_6c95f88dc08341e899d58c9e6097ef11",
       "max": 805,
       "style": "IPY_MODEL_f3c5082684f14fa1a0f7995e4ceec779",
       "value": 805
      }
     },
     "1b1c95fe271d44a4ab9838061b3c8f5a": {
      "model_module": "@jupyter-widgets/base",
      "model_module_version": "1.2.0",
      "model_name": "LayoutModel",
      "state": {}
     },
     "1b2eab0d96cc4297ad4eb6471a7e4f3d": {
      "model_module": "@jupyter-widgets/base",
      "model_module_version": "1.2.0",
      "model_name": "LayoutModel",
      "state": {}
     },
     "1b37a4d0c4ba4c3486f88271b255dc22": {
      "model_module": "@jupyter-widgets/controls",
      "model_module_version": "1.5.0",
      "model_name": "ProgressStyleModel",
      "state": {
       "description_width": ""
      }
     },
     "1b4b04634ae14643ab367c98a53aa3ae": {
      "model_module": "@jupyter-widgets/controls",
      "model_module_version": "1.5.0",
      "model_name": "HTMLModel",
      "state": {
       "layout": "IPY_MODEL_25f00d3284da462ba17956dbc669a310",
       "style": "IPY_MODEL_41d23a2538474cafb6ab8f39f4eef641",
       "value": " 323/323 [00:13&lt;00:00, 24.00it/s]"
      }
     },
     "1b506de45ddc4f1aafbe29250498006f": {
      "model_module": "@jupyter-widgets/base",
      "model_module_version": "1.2.0",
      "model_name": "LayoutModel",
      "state": {}
     },
     "1b782c6afc80456aabec77ba2afd87b6": {
      "model_module": "@jupyter-widgets/controls",
      "model_module_version": "1.5.0",
      "model_name": "FloatProgressModel",
      "state": {
       "layout": "IPY_MODEL_8404afd65f2a48588d20325c61415b84",
       "max": 437,
       "style": "IPY_MODEL_6e9f86452e9c47a2a4a1d77d2512890a",
       "value": 437
      }
     },
     "1b97a43f773b4aa7aa451fb81ff27531": {
      "model_module": "@jupyter-widgets/controls",
      "model_module_version": "1.5.0",
      "model_name": "HTMLModel",
      "state": {
       "layout": "IPY_MODEL_40d6e8cffb384444bb31f260e8298cea",
       "style": "IPY_MODEL_e009ce37f92c45d8a0d4a6fc1262782e",
       "value": "100%"
      }
     },
     "1b9efa6b1f7f4afd9acb15e5ffe5edfb": {
      "model_module": "@jupyter-widgets/controls",
      "model_module_version": "1.5.0",
      "model_name": "HTMLModel",
      "state": {
       "layout": "IPY_MODEL_024f9befee7643d3889794e17d34c9a7",
       "style": "IPY_MODEL_cf908cbde3364eb9b3f2f02a43b893ca",
       "value": " 1262/1262 [00:53&lt;00:00, 23.36it/s]"
      }
     },
     "1bb39eedbe2a415eabd6095de4291832": {
      "model_module": "@jupyter-widgets/controls",
      "model_module_version": "1.5.0",
      "model_name": "HTMLModel",
      "state": {
       "layout": "IPY_MODEL_7aba538ac2d3408f90e69c08b0765ac0",
       "style": "IPY_MODEL_a8085cc101604f8d93bc6fdee9f38884",
       "value": "loss: 0.6650: 100%"
      }
     },
     "1bba1cdd864a4c42afacf486d18e7c09": {
      "model_module": "@jupyter-widgets/controls",
      "model_module_version": "1.5.0",
      "model_name": "HTMLModel",
      "state": {
       "layout": "IPY_MODEL_ba522dcfef384a899ae9aed0a45f0c92",
       "style": "IPY_MODEL_8e22c93a07f447f18a3764fe1c4b9c64",
       "value": "100%"
      }
     },
     "1bc7187b57cc427b9620b1ec6ee4f588": {
      "model_module": "@jupyter-widgets/base",
      "model_module_version": "1.2.0",
      "model_name": "LayoutModel",
      "state": {}
     },
     "1bc8465455a74d5f818f61eefbf651d0": {
      "model_module": "@jupyter-widgets/base",
      "model_module_version": "1.2.0",
      "model_name": "LayoutModel",
      "state": {}
     },
     "1bd32760e8e94f6ca5fbe708b902fdbe": {
      "model_module": "@jupyter-widgets/controls",
      "model_module_version": "1.5.0",
      "model_name": "DescriptionStyleModel",
      "state": {
       "description_width": ""
      }
     },
     "1be73022c5db4533bc6e0c9ce4481f40": {
      "model_module": "@jupyter-widgets/base",
      "model_module_version": "1.2.0",
      "model_name": "LayoutModel",
      "state": {}
     },
     "1c0fb2e48031441abefecea81595525a": {
      "model_module": "@jupyter-widgets/base",
      "model_module_version": "1.2.0",
      "model_name": "LayoutModel",
      "state": {}
     },
     "1c15d7116e6d4dfaaf15896d12457b92": {
      "model_module": "@jupyter-widgets/base",
      "model_module_version": "1.2.0",
      "model_name": "LayoutModel",
      "state": {}
     },
     "1c1e7fe92c7043708335dc8ca83b700d": {
      "model_module": "@jupyter-widgets/base",
      "model_module_version": "1.2.0",
      "model_name": "LayoutModel",
      "state": {}
     },
     "1c3e657c7b1449f6865b048a941b9ea9": {
      "model_module": "@jupyter-widgets/controls",
      "model_module_version": "1.5.0",
      "model_name": "HTMLModel",
      "state": {
       "layout": "IPY_MODEL_0560495e8ceb442eb0d3d6200e06c47b",
       "style": "IPY_MODEL_d668554f92f74ff7991c8bc226f04ce4",
       "value": " 929/929 [00:41&lt;00:00, 22.57it/s]"
      }
     },
     "1c485051da8c4f6db20a18a8e01ab7f4": {
      "model_module": "@jupyter-widgets/controls",
      "model_module_version": "1.5.0",
      "model_name": "ProgressStyleModel",
      "state": {
       "description_width": ""
      }
     },
     "1c4ccb38aee8409d818bb145f8d7a317": {
      "model_module": "@jupyter-widgets/base",
      "model_module_version": "1.2.0",
      "model_name": "LayoutModel",
      "state": {}
     },
     "1c5fd083ef52404fad3d2fec1ad9ab5f": {
      "model_module": "@jupyter-widgets/controls",
      "model_module_version": "1.5.0",
      "model_name": "HTMLModel",
      "state": {
       "layout": "IPY_MODEL_c7fa33d61d90476f95be9854890a7588",
       "style": "IPY_MODEL_0652b697eb5e4cb68bc23c025eea65ae",
       "value": " 207/207 [00:09&lt;00:00, 21.92it/s]"
      }
     },
     "1c60477f717d479db9a2102186a4ba79": {
      "model_module": "@jupyter-widgets/controls",
      "model_module_version": "1.5.0",
      "model_name": "FloatProgressModel",
      "state": {
       "layout": "IPY_MODEL_e4d4a0ca3bc545509d9381042e7d00cd",
       "max": 1445,
       "style": "IPY_MODEL_8845a53814e7475eb6a3e0a25d839f53",
       "value": 1445
      }
     },
     "1ca087840c1646368dd60bfdc58a9cfc": {
      "model_module": "@jupyter-widgets/controls",
      "model_module_version": "1.5.0",
      "model_name": "ProgressStyleModel",
      "state": {
       "description_width": ""
      }
     },
     "1cbee484d06e4a9a90b66258bbb6d901": {
      "model_module": "@jupyter-widgets/controls",
      "model_module_version": "1.5.0",
      "model_name": "DescriptionStyleModel",
      "state": {
       "description_width": ""
      }
     },
     "1cc0c9079bb745358c3dc8e7e344d256": {
      "model_module": "@jupyter-widgets/controls",
      "model_module_version": "1.5.0",
      "model_name": "FloatProgressModel",
      "state": {
       "layout": "IPY_MODEL_ca967bb6234349ebbe4cb7ffa936ff86",
       "max": 1091,
       "style": "IPY_MODEL_759410b173864ec8be47ec26289162ab",
       "value": 1091
      }
     },
     "1d0a1365c0714f979dd41d50b25a6824": {
      "model_module": "@jupyter-widgets/base",
      "model_module_version": "1.2.0",
      "model_name": "LayoutModel",
      "state": {}
     },
     "1d1021846ced4768918eff75fa739390": {
      "model_module": "@jupyter-widgets/controls",
      "model_module_version": "1.5.0",
      "model_name": "HTMLModel",
      "state": {
       "layout": "IPY_MODEL_4c58797ada084f148a4b9b342715f6d2",
       "style": "IPY_MODEL_c5937cf475e74bc4bc9bbb3ede529644",
       "value": "100%"
      }
     },
     "1d2112866a9a4b19acecfceef7fbc478": {
      "model_module": "@jupyter-widgets/controls",
      "model_module_version": "1.5.0",
      "model_name": "DescriptionStyleModel",
      "state": {
       "description_width": ""
      }
     },
     "1d461c140bd046489a1287f2f2ac2a9e": {
      "model_module": "@jupyter-widgets/controls",
      "model_module_version": "1.5.0",
      "model_name": "DescriptionStyleModel",
      "state": {
       "description_width": ""
      }
     },
     "1d6cfb220a23480c9b8e6cdb451e1f14": {
      "model_module": "@jupyter-widgets/base",
      "model_module_version": "1.2.0",
      "model_name": "LayoutModel",
      "state": {}
     },
     "1d81adfe309c4344b917a016b87e2304": {
      "model_module": "@jupyter-widgets/controls",
      "model_module_version": "1.5.0",
      "model_name": "DescriptionStyleModel",
      "state": {
       "description_width": ""
      }
     },
     "1d8a216eb66e4592b24306dba87f9863": {
      "model_module": "@jupyter-widgets/base",
      "model_module_version": "1.2.0",
      "model_name": "LayoutModel",
      "state": {}
     },
     "1dd4ab16e9ec444fa26b52e658d199d1": {
      "model_module": "@jupyter-widgets/base",
      "model_module_version": "1.2.0",
      "model_name": "LayoutModel",
      "state": {}
     },
     "1dee95a458de471ca4d46a2d6aeb2c43": {
      "model_module": "@jupyter-widgets/base",
      "model_module_version": "1.2.0",
      "model_name": "LayoutModel",
      "state": {}
     },
     "1e03fdb794c9487da7fdef02c8ba0a89": {
      "model_module": "@jupyter-widgets/controls",
      "model_module_version": "1.5.0",
      "model_name": "ProgressStyleModel",
      "state": {
       "description_width": ""
      }
     },
     "1e44bad3625140528783ed0f41c64968": {
      "model_module": "@jupyter-widgets/base",
      "model_module_version": "1.2.0",
      "model_name": "LayoutModel",
      "state": {}
     },
     "1e688910743245dfb3d86d46080fff51": {
      "model_module": "@jupyter-widgets/base",
      "model_module_version": "1.2.0",
      "model_name": "LayoutModel",
      "state": {}
     },
     "1e9293b8645945d4b681f1a4feb614bf": {
      "model_module": "@jupyter-widgets/controls",
      "model_module_version": "1.5.0",
      "model_name": "HTMLModel",
      "state": {
       "layout": "IPY_MODEL_b61af76c668a4b6c842d46918a8284ae",
       "style": "IPY_MODEL_22e1cfa8b6ea4e899d04f55fcaef3f23",
       "value": " 137/137 [00:05&lt;00:00, 25.91it/s]"
      }
     },
     "1ea9d51db8114b4bb4ace390c3479827": {
      "model_module": "@jupyter-widgets/base",
      "model_module_version": "1.2.0",
      "model_name": "LayoutModel",
      "state": {}
     },
     "1f0d2744f77448ea850c32ae30dcc7ab": {
      "model_module": "@jupyter-widgets/controls",
      "model_module_version": "1.5.0",
      "model_name": "ProgressStyleModel",
      "state": {
       "description_width": ""
      }
     },
     "1f13e640be3f4ae49772d0b7f9f07344": {
      "model_module": "@jupyter-widgets/base",
      "model_module_version": "1.2.0",
      "model_name": "LayoutModel",
      "state": {}
     },
     "1f4d9f78de404d04ae4c7df460b9a8e8": {
      "model_module": "@jupyter-widgets/controls",
      "model_module_version": "1.5.0",
      "model_name": "HTMLModel",
      "state": {
       "layout": "IPY_MODEL_29c919b63829461da6ca4faad28f4e07",
       "style": "IPY_MODEL_f126791102a848869182320bd2fd3d37",
       "value": " 484/484 [00:22&lt;00:00, 21.46it/s]"
      }
     },
     "1f65352eeb4447fabe11f7c2bd93edd5": {
      "model_module": "@jupyter-widgets/controls",
      "model_module_version": "1.5.0",
      "model_name": "HTMLModel",
      "state": {
       "layout": "IPY_MODEL_9d2365aa49bd481dbac1a8528ee17376",
       "style": "IPY_MODEL_bf2a396f80614faab01c9e357a373855",
       "value": " 488/488 [00:21&lt;00:00, 23.29it/s]"
      }
     },
     "1f6c53f243af42e8982c3b74304b6960": {
      "model_module": "@jupyter-widgets/controls",
      "model_module_version": "1.5.0",
      "model_name": "ProgressStyleModel",
      "state": {
       "description_width": ""
      }
     },
     "1f7db87c84a24fe28ca3f9fc92ebee4f": {
      "model_module": "@jupyter-widgets/controls",
      "model_module_version": "1.5.0",
      "model_name": "DescriptionStyleModel",
      "state": {
       "description_width": ""
      }
     },
     "1f97db9c468148aa88468cc29c803349": {
      "model_module": "@jupyter-widgets/controls",
      "model_module_version": "1.5.0",
      "model_name": "ProgressStyleModel",
      "state": {
       "description_width": ""
      }
     },
     "1f9f5491548b4df0b899cd63d844e138": {
      "model_module": "@jupyter-widgets/controls",
      "model_module_version": "1.5.0",
      "model_name": "DescriptionStyleModel",
      "state": {
       "description_width": ""
      }
     },
     "1fa6407b0cfb497f91640d1554954e68": {
      "model_module": "@jupyter-widgets/base",
      "model_module_version": "1.2.0",
      "model_name": "LayoutModel",
      "state": {}
     },
     "1fd887c398924d34be374839e33e77b3": {
      "model_module": "@jupyter-widgets/controls",
      "model_module_version": "1.5.0",
      "model_name": "HTMLModel",
      "state": {
       "layout": "IPY_MODEL_e982a0a364434d14871068ac9a1ed1ad",
       "style": "IPY_MODEL_466c46a8fc6c4da495b1e1dc6f4fc0ed",
       "value": " 1467/1467 [01:01&lt;00:00, 24.23it/s]"
      }
     },
     "1fe9d6572887427db3ab702fef45fa2b": {
      "model_module": "@jupyter-widgets/controls",
      "model_module_version": "1.5.0",
      "model_name": "DescriptionStyleModel",
      "state": {
       "description_width": ""
      }
     },
     "1ffe05353c9a4395963e1ad4ca279983": {
      "model_module": "@jupyter-widgets/base",
      "model_module_version": "1.2.0",
      "model_name": "LayoutModel",
      "state": {}
     },
     "2055883e2c184ad1b4a69839f81fd578": {
      "model_module": "@jupyter-widgets/base",
      "model_module_version": "1.2.0",
      "model_name": "LayoutModel",
      "state": {}
     },
     "205fc9547b814b4faa1ce4f5d0feedd7": {
      "model_module": "@jupyter-widgets/controls",
      "model_module_version": "1.5.0",
      "model_name": "DescriptionStyleModel",
      "state": {
       "description_width": ""
      }
     },
     "206eadb043604ba1b1d984cf2d60a9a0": {
      "model_module": "@jupyter-widgets/base",
      "model_module_version": "1.2.0",
      "model_name": "LayoutModel",
      "state": {}
     },
     "20800c6177a24a9b90ab195038301f46": {
      "model_module": "@jupyter-widgets/base",
      "model_module_version": "1.2.0",
      "model_name": "LayoutModel",
      "state": {}
     },
     "20845acca7ce498193a32738b5e0626f": {
      "model_module": "@jupyter-widgets/base",
      "model_module_version": "1.2.0",
      "model_name": "LayoutModel",
      "state": {}
     },
     "20899b7df7b14fe395f3309688351530": {
      "model_module": "@jupyter-widgets/controls",
      "model_module_version": "1.5.0",
      "model_name": "FloatProgressModel",
      "state": {
       "layout": "IPY_MODEL_8b341a2cefae4bc788c4141922150434",
       "max": 1091,
       "style": "IPY_MODEL_73902c4e1ef64aa3bf1d8787b8d04c9e",
       "value": 1091
      }
     },
     "20a3754a0d0c4f5f9047c82f322e2b5c": {
      "model_module": "@jupyter-widgets/base",
      "model_module_version": "1.2.0",
      "model_name": "LayoutModel",
      "state": {}
     },
     "20c0cb76763a40238a897ea05c820ff6": {
      "model_module": "@jupyter-widgets/base",
      "model_module_version": "1.2.0",
      "model_name": "LayoutModel",
      "state": {}
     },
     "20c95d7573ae4d0f958ae9ac9816af88": {
      "model_module": "@jupyter-widgets/controls",
      "model_module_version": "1.5.0",
      "model_name": "HTMLModel",
      "state": {
       "layout": "IPY_MODEL_ad4a2fb7e2084150998fe72c6ab6cff0",
       "style": "IPY_MODEL_9c2d5c54a0944f8a8db1f7707b509807",
       "value": "  0%"
      }
     },
     "20f5201c896c44f6b650099c8267fb27": {
      "model_module": "@jupyter-widgets/controls",
      "model_module_version": "1.5.0",
      "model_name": "ProgressStyleModel",
      "state": {
       "description_width": ""
      }
     },
     "2186e93afeac4f0fbc06bcf91622261d": {
      "model_module": "@jupyter-widgets/controls",
      "model_module_version": "1.5.0",
      "model_name": "DescriptionStyleModel",
      "state": {
       "description_width": ""
      }
     },
     "218e62565a3c45a08b3e0754d119f106": {
      "model_module": "@jupyter-widgets/controls",
      "model_module_version": "1.5.0",
      "model_name": "ProgressStyleModel",
      "state": {
       "description_width": ""
      }
     },
     "219b020289f145fe87182fd5e8148937": {
      "model_module": "@jupyter-widgets/controls",
      "model_module_version": "1.5.0",
      "model_name": "FloatProgressModel",
      "state": {
       "layout": "IPY_MODEL_286ca7148a3f4ca187e8cdb495da87ec",
       "max": 1197,
       "style": "IPY_MODEL_d35329e25c2849c8a8eb6a5addcd1c3a",
       "value": 1197
      }
     },
     "21bbdb4266364c2fa9e6d7cc84918abc": {
      "model_module": "@jupyter-widgets/controls",
      "model_module_version": "1.5.0",
      "model_name": "ProgressStyleModel",
      "state": {
       "description_width": ""
      }
     },
     "21c493078c7546d0956e5fbca287d9d3": {
      "model_module": "@jupyter-widgets/controls",
      "model_module_version": "1.5.0",
      "model_name": "HTMLModel",
      "state": {
       "layout": "IPY_MODEL_8771f3891734450bb63f32570fd7cdb0",
       "style": "IPY_MODEL_37e2902c5ae3485a948fd0879889b1b2",
       "value": "loss: 0.5743: 100%"
      }
     },
     "224ca9e3579a4018a352f019b2e1f084": {
      "model_module": "@jupyter-widgets/controls",
      "model_module_version": "1.5.0",
      "model_name": "HTMLModel",
      "state": {
       "layout": "IPY_MODEL_575928de1e874490bd6e3e45d60b20c4",
       "style": "IPY_MODEL_b1b692e41eab401a8ce17d09b8f8e7bc",
       "value": " 806/806 [00:34&lt;00:00, 23.67it/s]"
      }
     },
     "22743f32e88946f5813ccbd4ace1547a": {
      "model_module": "@jupyter-widgets/controls",
      "model_module_version": "1.5.0",
      "model_name": "HTMLModel",
      "state": {
       "layout": "IPY_MODEL_68b90cc81703419f9993a63c7c0ca664",
       "style": "IPY_MODEL_3fbda3ee520f46dc8d43508380a281e7",
       "value": " 1049/1049 [00:46&lt;00:00, 23.02it/s]"
      }
     },
     "22e1cfa8b6ea4e899d04f55fcaef3f23": {
      "model_module": "@jupyter-widgets/controls",
      "model_module_version": "1.5.0",
      "model_name": "DescriptionStyleModel",
      "state": {
       "description_width": ""
      }
     },
     "22e21f9440d94b108977c6a091f6de89": {
      "model_module": "@jupyter-widgets/base",
      "model_module_version": "1.2.0",
      "model_name": "LayoutModel",
      "state": {}
     },
     "22ed1d9c15794f099fbd4798b25407f8": {
      "model_module": "@jupyter-widgets/controls",
      "model_module_version": "1.5.0",
      "model_name": "HTMLModel",
      "state": {
       "layout": "IPY_MODEL_3c4cf429af2c4fa4a1788847cc055837",
       "style": "IPY_MODEL_e58456dd80594511a27faab408010014",
       "value": " 1220/1220 [00:52&lt;00:00, 23.52it/s]"
      }
     },
     "22f36b7e11e74ee190236c5c9faa3748": {
      "model_module": "@jupyter-widgets/base",
      "model_module_version": "1.2.0",
      "model_name": "LayoutModel",
      "state": {}
     },
     "23864f8dc9474f388ff21adbff6bda42": {
      "model_module": "@jupyter-widgets/base",
      "model_module_version": "1.2.0",
      "model_name": "LayoutModel",
      "state": {}
     },
     "239d83cc2c084d90960d747462dae389": {
      "model_module": "@jupyter-widgets/controls",
      "model_module_version": "1.5.0",
      "model_name": "DescriptionStyleModel",
      "state": {
       "description_width": ""
      }
     },
     "23b1693ab99e4877a69457bc855f8ac8": {
      "model_module": "@jupyter-widgets/controls",
      "model_module_version": "1.5.0",
      "model_name": "FloatProgressModel",
      "state": {
       "layout": "IPY_MODEL_c1829e8daf93459ca86af74996907014",
       "max": 1197,
       "style": "IPY_MODEL_3ca75c85801d4134a867e923b1045365",
       "value": 1197
      }
     },
     "240e4e39c3834c0a872e71cdd1bdb0f6": {
      "model_module": "@jupyter-widgets/controls",
      "model_module_version": "1.5.0",
      "model_name": "DescriptionStyleModel",
      "state": {
       "description_width": ""
      }
     },
     "240ecb693b9e4ede853a25ce0723b18b": {
      "model_module": "@jupyter-widgets/base",
      "model_module_version": "1.2.0",
      "model_name": "LayoutModel",
      "state": {}
     },
     "2443de686cab4377ae846c5a001afe58": {
      "model_module": "@jupyter-widgets/controls",
      "model_module_version": "1.5.0",
      "model_name": "ProgressStyleModel",
      "state": {
       "description_width": ""
      }
     },
     "244b5376c7d64931b0067747d0e8093c": {
      "model_module": "@jupyter-widgets/controls",
      "model_module_version": "1.5.0",
      "model_name": "DescriptionStyleModel",
      "state": {
       "description_width": ""
      }
     },
     "2451e13e4e404b62b7c944f85402035a": {
      "model_module": "@jupyter-widgets/controls",
      "model_module_version": "1.5.0",
      "model_name": "FloatProgressModel",
      "state": {
       "layout": "IPY_MODEL_bf35c09a693c4c97883773fab81343c9",
       "max": 1187,
       "style": "IPY_MODEL_4422b1e64c574ac089921f80b4e17412",
       "value": 1187
      }
     },
     "2480d30561b0497aa4261d2bb8dc4265": {
      "model_module": "@jupyter-widgets/controls",
      "model_module_version": "1.5.0",
      "model_name": "ProgressStyleModel",
      "state": {
       "description_width": ""
      }
     },
     "2493facafd914127ba0687253264c18b": {
      "model_module": "@jupyter-widgets/base",
      "model_module_version": "1.2.0",
      "model_name": "LayoutModel",
      "state": {}
     },
     "2495a314636440dbbc9970465add204e": {
      "model_module": "@jupyter-widgets/base",
      "model_module_version": "1.2.0",
      "model_name": "LayoutModel",
      "state": {}
     },
     "24a2da8e37d346fba483c78b8ae9293b": {
      "model_module": "@jupyter-widgets/controls",
      "model_module_version": "1.5.0",
      "model_name": "DescriptionStyleModel",
      "state": {
       "description_width": ""
      }
     },
     "24e85dd5230445e38079891c9712f8f9": {
      "model_module": "@jupyter-widgets/base",
      "model_module_version": "1.2.0",
      "model_name": "LayoutModel",
      "state": {}
     },
     "25492c432552499c8aa188e8b62e0dca": {
      "model_module": "@jupyter-widgets/base",
      "model_module_version": "1.2.0",
      "model_name": "LayoutModel",
      "state": {}
     },
     "255f8f18cd8b42a194e8a5fca5bf472c": {
      "model_module": "@jupyter-widgets/controls",
      "model_module_version": "1.5.0",
      "model_name": "DescriptionStyleModel",
      "state": {
       "description_width": ""
      }
     },
     "2564d16fb9524df5a26408662d918798": {
      "model_module": "@jupyter-widgets/controls",
      "model_module_version": "1.5.0",
      "model_name": "HTMLModel",
      "state": {
       "layout": "IPY_MODEL_170819bdef224fac9e85cc3c87c0b821",
       "style": "IPY_MODEL_deab982591614eada59a10903edd282a",
       "value": "100%"
      }
     },
     "25b27fdf82804759b404c987c81f59c5": {
      "model_module": "@jupyter-widgets/controls",
      "model_module_version": "1.5.0",
      "model_name": "FloatProgressModel",
      "state": {
       "layout": "IPY_MODEL_a00c53a6247b40e8ab5ab8c7dd4df177",
       "max": 1193,
       "style": "IPY_MODEL_e46e20eab2204d5b933cd3ff773369e3",
       "value": 1193
      }
     },
     "25b31b201b404b3bad74edfdc744f46c": {
      "model_module": "@jupyter-widgets/controls",
      "model_module_version": "1.5.0",
      "model_name": "DescriptionStyleModel",
      "state": {
       "description_width": ""
      }
     },
     "25e20f0dad7940a9b5773bc10280d621": {
      "model_module": "@jupyter-widgets/controls",
      "model_module_version": "1.5.0",
      "model_name": "DescriptionStyleModel",
      "state": {
       "description_width": ""
      }
     },
     "25e985e3c00f4e189efaa12123ecb2d4": {
      "model_module": "@jupyter-widgets/controls",
      "model_module_version": "1.5.0",
      "model_name": "HTMLModel",
      "state": {
       "layout": "IPY_MODEL_af549006de684e1d94cdf2d33e67083a",
       "style": "IPY_MODEL_83920340c6de4f23bbb463316702f522",
       "value": " 1067/1067 [00:45&lt;00:00, 23.76it/s]"
      }
     },
     "25f00d3284da462ba17956dbc669a310": {
      "model_module": "@jupyter-widgets/base",
      "model_module_version": "1.2.0",
      "model_name": "LayoutModel",
      "state": {}
     },
     "2617b5d8d75342efbabded65295a6267": {
      "model_module": "@jupyter-widgets/controls",
      "model_module_version": "1.5.0",
      "model_name": "HTMLModel",
      "state": {
       "layout": "IPY_MODEL_90542e5338804d9792f07c0c9817b95d",
       "style": "IPY_MODEL_009225c89d6740ad8ef165d62af0c585",
       "value": " 1005/1005 [00:44&lt;00:00, 22.69it/s]"
      }
     },
     "263196bbd6b54634ad7de7b277b25953": {
      "model_module": "@jupyter-widgets/controls",
      "model_module_version": "1.5.0",
      "model_name": "DescriptionStyleModel",
      "state": {
       "description_width": ""
      }
     },
     "265da277840846dc817c3c648e8678a3": {
      "model_module": "@jupyter-widgets/controls",
      "model_module_version": "1.5.0",
      "model_name": "HTMLModel",
      "state": {
       "layout": "IPY_MODEL_27cf3709b24f4865a4e60579c14f8665",
       "style": "IPY_MODEL_9d08e8be61c2411f93795115f28c840f",
       "value": " 929/929 [00:41&lt;00:00, 21.70it/s]"
      }
     },
     "2660bb6c3db94b92862a93d4230f85c7": {
      "model_module": "@jupyter-widgets/base",
      "model_module_version": "1.2.0",
      "model_name": "LayoutModel",
      "state": {}
     },
     "268f48f8241f40b79926cbc65dfd259d": {
      "model_module": "@jupyter-widgets/controls",
      "model_module_version": "1.5.0",
      "model_name": "HTMLModel",
      "state": {
       "layout": "IPY_MODEL_5c33f9869997478aabbbd241ddddea17",
       "style": "IPY_MODEL_51695ec05cd240af8842f50c38c6b1b7",
       "value": " 238/238 [00:09&lt;00:00, 23.60it/s]"
      }
     },
     "26942e7043864322a95ae1c67d1c0ba6": {
      "model_module": "@jupyter-widgets/controls",
      "model_module_version": "1.5.0",
      "model_name": "FloatProgressModel",
      "state": {
       "layout": "IPY_MODEL_e50f94bc65d549c794aa5b64d5b6dfc8",
       "max": 1181,
       "style": "IPY_MODEL_c284dea4fe914d269bacc60f23d56a43",
       "value": 1181
      }
     },
     "26b4d2905a55491283a8718ebae7b161": {
      "model_module": "@jupyter-widgets/controls",
      "model_module_version": "1.5.0",
      "model_name": "HTMLModel",
      "state": {
       "layout": "IPY_MODEL_e964b7fd80ef4f35a70eb2d1e3abeb41",
       "style": "IPY_MODEL_a0c3031980074083aa608763c636012a",
       "value": " 1262/1262 [00:53&lt;00:00, 23.69it/s]"
      }
     },
     "26d694d7a45545d08941752a8ca5da7f": {
      "model_module": "@jupyter-widgets/controls",
      "model_module_version": "1.5.0",
      "model_name": "FloatProgressModel",
      "state": {
       "layout": "IPY_MODEL_e1f8c46e991c41ac8d7c4105e2f7668c",
       "max": 1673,
       "style": "IPY_MODEL_39be4f4c96fe496ab251490aee6eece5",
       "value": 1673
      }
     },
     "26ddabb1da504f308665d3ebe90c3884": {
      "model_module": "@jupyter-widgets/controls",
      "model_module_version": "1.5.0",
      "model_name": "HTMLModel",
      "state": {
       "layout": "IPY_MODEL_13043f938e8840e0861cd0b7a7427411",
       "style": "IPY_MODEL_ee1d4470c6e446289077f005605f470c",
       "value": "loss: 0.6647: 100%"
      }
     },
     "26f6a1b174c14a28b52821d2e50cdc04": {
      "model_module": "@jupyter-widgets/controls",
      "model_module_version": "1.5.0",
      "model_name": "DescriptionStyleModel",
      "state": {
       "description_width": ""
      }
     },
     "26fdd90266da4b70811ba4749b01a1fc": {
      "model_module": "@jupyter-widgets/controls",
      "model_module_version": "1.5.0",
      "model_name": "FloatProgressModel",
      "state": {
       "layout": "IPY_MODEL_962f77ffbb874234bd6171297535d093",
       "max": 1115,
       "style": "IPY_MODEL_9db22d39849a4a01a95bd61a1734b0ab",
       "value": 1115
      }
     },
     "271e33e403fc412dbbd558ad850a5fa2": {
      "model_module": "@jupyter-widgets/base",
      "model_module_version": "1.2.0",
      "model_name": "LayoutModel",
      "state": {}
     },
     "27466054635a46f4aaec9e87bb7ff7b0": {
      "model_module": "@jupyter-widgets/base",
      "model_module_version": "1.2.0",
      "model_name": "LayoutModel",
      "state": {}
     },
     "274a8de582794fb88a5850dee45ac547": {
      "model_module": "@jupyter-widgets/controls",
      "model_module_version": "1.5.0",
      "model_name": "ProgressStyleModel",
      "state": {
       "description_width": ""
      }
     },
     "275d6620fdb04a138ea70a3c2cdb3c47": {
      "model_module": "@jupyter-widgets/base",
      "model_module_version": "1.2.0",
      "model_name": "LayoutModel",
      "state": {}
     },
     "278a31785af74f26a3a70a49fac70faf": {
      "model_module": "@jupyter-widgets/controls",
      "model_module_version": "1.5.0",
      "model_name": "ProgressStyleModel",
      "state": {
       "description_width": ""
      }
     },
     "27c2a11411b0421dae1188e68c8741fd": {
      "model_module": "@jupyter-widgets/controls",
      "model_module_version": "1.5.0",
      "model_name": "HTMLModel",
      "state": {
       "layout": "IPY_MODEL_4845eb37cb2d474a88bd62cf1faacc28",
       "style": "IPY_MODEL_0fa5ecf02b664eee93c7d934f1e1b63b",
       "value": " 1224/1224 [00:52&lt;00:00, 23.74it/s]"
      }
     },
     "27cbab90581d44f496461ac9f9351a25": {
      "model_module": "@jupyter-widgets/controls",
      "model_module_version": "1.5.0",
      "model_name": "ProgressStyleModel",
      "state": {
       "description_width": ""
      }
     },
     "27cf3709b24f4865a4e60579c14f8665": {
      "model_module": "@jupyter-widgets/base",
      "model_module_version": "1.2.0",
      "model_name": "LayoutModel",
      "state": {}
     },
     "27e388ee21614d08958cb709e6a9ac17": {
      "model_module": "@jupyter-widgets/controls",
      "model_module_version": "1.5.0",
      "model_name": "DescriptionStyleModel",
      "state": {
       "description_width": ""
      }
     },
     "27e9b203eb8544baaa7b8c9dd27d589e": {
      "model_module": "@jupyter-widgets/controls",
      "model_module_version": "1.5.0",
      "model_name": "DescriptionStyleModel",
      "state": {
       "description_width": ""
      }
     },
     "27f5ea9163c54841908b049800880e4e": {
      "model_module": "@jupyter-widgets/controls",
      "model_module_version": "1.5.0",
      "model_name": "FloatProgressModel",
      "state": {
       "layout": "IPY_MODEL_a7acbb48ddb24c69ad7616fc2442717e",
       "max": 1262,
       "style": "IPY_MODEL_a3dc5d0e6b7f498d8e6cac13f91008c8",
       "value": 1262
      }
     },
     "284f94a1cd5d46c3b2c27fd69c112ffd": {
      "model_module": "@jupyter-widgets/base",
      "model_module_version": "1.2.0",
      "model_name": "LayoutModel",
      "state": {}
     },
     "284fb1a3d4a8433591e77dfa6f5e8c07": {
      "model_module": "@jupyter-widgets/base",
      "model_module_version": "1.2.0",
      "model_name": "LayoutModel",
      "state": {}
     },
     "28697357afb546d596faeb2f133c81eb": {
      "model_module": "@jupyter-widgets/controls",
      "model_module_version": "1.5.0",
      "model_name": "HTMLModel",
      "state": {
       "layout": "IPY_MODEL_e04697abecca4c279697d7341a2dd4bc",
       "style": "IPY_MODEL_cd35d663e978485389d233e7be660769",
       "value": "loss: 0.6153: 100%"
      }
     },
     "286ca7148a3f4ca187e8cdb495da87ec": {
      "model_module": "@jupyter-widgets/base",
      "model_module_version": "1.2.0",
      "model_name": "LayoutModel",
      "state": {}
     },
     "28a048c1b47e43b9bb056c01696c588a": {
      "model_module": "@jupyter-widgets/base",
      "model_module_version": "1.2.0",
      "model_name": "LayoutModel",
      "state": {}
     },
     "28aac75eb67243e99a7c0fa1a26d28d8": {
      "model_module": "@jupyter-widgets/controls",
      "model_module_version": "1.5.0",
      "model_name": "ProgressStyleModel",
      "state": {
       "description_width": ""
      }
     },
     "28ac9160cd344b0fb22dd3d47f9058d1": {
      "model_module": "@jupyter-widgets/base",
      "model_module_version": "1.2.0",
      "model_name": "LayoutModel",
      "state": {}
     },
     "28ad5403280f4f5a92cf68bf4357cd95": {
      "model_module": "@jupyter-widgets/base",
      "model_module_version": "1.2.0",
      "model_name": "LayoutModel",
      "state": {}
     },
     "28bae12b123742caa5cd8f83d143e0ba": {
      "model_module": "@jupyter-widgets/controls",
      "model_module_version": "1.5.0",
      "model_name": "ProgressStyleModel",
      "state": {
       "description_width": ""
      }
     },
     "28c0ac91fd8c4e27a4ea06b10a47c43a": {
      "model_module": "@jupyter-widgets/controls",
      "model_module_version": "1.5.0",
      "model_name": "DescriptionStyleModel",
      "state": {
       "description_width": ""
      }
     },
     "2942039f092b4373af73a8ee5cee49b5": {
      "model_module": "@jupyter-widgets/base",
      "model_module_version": "1.2.0",
      "model_name": "LayoutModel",
      "state": {}
     },
     "295cf87d7f054dd4a2e0015bac0c720b": {
      "model_module": "@jupyter-widgets/base",
      "model_module_version": "1.2.0",
      "model_name": "LayoutModel",
      "state": {}
     },
     "2968e579819a4048a88d06aced978b50": {
      "model_module": "@jupyter-widgets/controls",
      "model_module_version": "1.5.0",
      "model_name": "HTMLModel",
      "state": {
       "layout": "IPY_MODEL_194e41285b284e3d9da092f433c27c80",
       "style": "IPY_MODEL_090a835e615149df935921478e8e60bf",
       "value": "100%"
      }
     },
     "29750240b0a34a59ba5394fb89b8bc3f": {
      "model_module": "@jupyter-widgets/base",
      "model_module_version": "1.2.0",
      "model_name": "LayoutModel",
      "state": {}
     },
     "29a34ba0b9834585adec74e06f0eaf37": {
      "model_module": "@jupyter-widgets/controls",
      "model_module_version": "1.5.0",
      "model_name": "HTMLModel",
      "state": {
       "layout": "IPY_MODEL_49506c76aa3e4a8583246df4daaba4a0",
       "style": "IPY_MODEL_c5e8a8b3025f43c693090ebd6e631194",
       "value": " 1218/1218 [00:53&lt;00:00, 22.72it/s]"
      }
     },
     "29a8fbc699a24ad2833f06cdad9c61ff": {
      "model_module": "@jupyter-widgets/base",
      "model_module_version": "1.2.0",
      "model_name": "LayoutModel",
      "state": {}
     },
     "29bb25a612414de4832972162f08b586": {
      "model_module": "@jupyter-widgets/base",
      "model_module_version": "1.2.0",
      "model_name": "LayoutModel",
      "state": {}
     },
     "29c919b63829461da6ca4faad28f4e07": {
      "model_module": "@jupyter-widgets/base",
      "model_module_version": "1.2.0",
      "model_name": "LayoutModel",
      "state": {}
     },
     "29da34b6831e4ee3a26e01255b8186f7": {
      "model_module": "@jupyter-widgets/controls",
      "model_module_version": "1.5.0",
      "model_name": "FloatProgressModel",
      "state": {
       "layout": "IPY_MODEL_8db4f6eae9e34c2191409c14a58342c0",
       "max": 456,
       "style": "IPY_MODEL_345e694f9ce243b8b01471f6cd3c7b0c",
       "value": 456
      }
     },
     "29e013417ac64f95ad0a327537fe9680": {
      "model_module": "@jupyter-widgets/controls",
      "model_module_version": "1.5.0",
      "model_name": "ProgressStyleModel",
      "state": {
       "description_width": ""
      }
     },
     "29ec9b9281144866bdd42891433e987a": {
      "model_module": "@jupyter-widgets/controls",
      "model_module_version": "1.5.0",
      "model_name": "HTMLModel",
      "state": {
       "layout": "IPY_MODEL_12fc0ddb2fb54842b44778a66901de59",
       "style": "IPY_MODEL_eefbe6a36ae548cabdc3687c6852ec34",
       "value": "loss: 0.6613: 100%"
      }
     },
     "29f46fb1bacc42119d490fdd5a37122f": {
      "model_module": "@jupyter-widgets/controls",
      "model_module_version": "1.5.0",
      "model_name": "FloatProgressModel",
      "state": {
       "layout": "IPY_MODEL_f1125ef3044f4a2ca1f9b433a7063396",
       "max": 783,
       "style": "IPY_MODEL_5f7a7f9d2be24377b12ea08f385cc5c1",
       "value": 783
      }
     },
     "2a2ac248dfb54843afe0b2e46a3efde7": {
      "model_module": "@jupyter-widgets/base",
      "model_module_version": "1.2.0",
      "model_name": "LayoutModel",
      "state": {}
     },
     "2a329e1a30094943b0eff7667629680f": {
      "model_module": "@jupyter-widgets/base",
      "model_module_version": "1.2.0",
      "model_name": "LayoutModel",
      "state": {}
     },
     "2a49affd72724f31b7bbc091ef316762": {
      "model_module": "@jupyter-widgets/base",
      "model_module_version": "1.2.0",
      "model_name": "LayoutModel",
      "state": {}
     },
     "2a8a24540b9f47dbbe9bde73509c9c77": {
      "model_module": "@jupyter-widgets/base",
      "model_module_version": "1.2.0",
      "model_name": "LayoutModel",
      "state": {}
     },
     "2aa69b81e5c44016b6b1649d60ca7c22": {
      "model_module": "@jupyter-widgets/controls",
      "model_module_version": "1.5.0",
      "model_name": "FloatProgressModel",
      "state": {
       "layout": "IPY_MODEL_97713509dd09439680d7be68aefb349a",
       "max": 488,
       "style": "IPY_MODEL_cdccd532e13a4665b3edc3ad6f16386a",
       "value": 488
      }
     },
     "2ada8e8331914204bf60e9877a03dd4b": {
      "model_module": "@jupyter-widgets/base",
      "model_module_version": "1.2.0",
      "model_name": "LayoutModel",
      "state": {}
     },
     "2aea7969bd6b410e92e9e8baac156e8c": {
      "model_module": "@jupyter-widgets/controls",
      "model_module_version": "1.5.0",
      "model_name": "HTMLModel",
      "state": {
       "layout": "IPY_MODEL_2cd22707af1e4c4c928ea9586725531e",
       "style": "IPY_MODEL_9a5ef5b819a142fdb52eec4df29be6a7",
       "value": "100%"
      }
     },
     "2af0d6e7d00d4cf3a7eaae05e095a231": {
      "model_module": "@jupyter-widgets/base",
      "model_module_version": "1.2.0",
      "model_name": "LayoutModel",
      "state": {}
     },
     "2afc9475b8c9473a9718579a3429a00f": {
      "model_module": "@jupyter-widgets/controls",
      "model_module_version": "1.5.0",
      "model_name": "FloatProgressModel",
      "state": {
       "layout": "IPY_MODEL_2942039f092b4373af73a8ee5cee49b5",
       "max": 1166,
       "style": "IPY_MODEL_52ee99cafe9a41988e7c20611fed7765",
       "value": 1166
      }
     },
     "2b11f38719334a08a98420ad93960fa5": {
      "model_module": "@jupyter-widgets/base",
      "model_module_version": "1.2.0",
      "model_name": "LayoutModel",
      "state": {}
     },
     "2b1c942ac78540cdab411617f5b00a2f": {
      "model_module": "@jupyter-widgets/base",
      "model_module_version": "1.2.0",
      "model_name": "LayoutModel",
      "state": {}
     },
     "2b2b8b83be004c44bd4f5e33a6587504": {
      "model_module": "@jupyter-widgets/base",
      "model_module_version": "1.2.0",
      "model_name": "LayoutModel",
      "state": {}
     },
     "2b3154ed921945a693067f24548c6356": {
      "model_module": "@jupyter-widgets/controls",
      "model_module_version": "1.5.0",
      "model_name": "FloatProgressModel",
      "state": {
       "layout": "IPY_MODEL_a9f3ba6cf9ca4fc0a714c18ad86f936f",
       "max": 1220,
       "style": "IPY_MODEL_706d009e52dd434b89acaa14282f260f",
       "value": 1220
      }
     },
     "2b5903fb0c3d4f509529e72eeec730ff": {
      "model_module": "@jupyter-widgets/controls",
      "model_module_version": "1.5.0",
      "model_name": "DescriptionStyleModel",
      "state": {
       "description_width": ""
      }
     },
     "2b68980e4c5b4fb6a518185139bf6eb5": {
      "model_module": "@jupyter-widgets/controls",
      "model_module_version": "1.5.0",
      "model_name": "HTMLModel",
      "state": {
       "layout": "IPY_MODEL_5a2bddc3be9e429aa0b3778d39f504f3",
       "style": "IPY_MODEL_b72cbd2070174471ae69c6f4d1a1d493",
       "value": " 903/903 [00:42&lt;00:00, 21.56it/s]"
      }
     },
     "2b798f16371a44adbb0dc543661ad0db": {
      "model_module": "@jupyter-widgets/controls",
      "model_module_version": "1.5.0",
      "model_name": "FloatProgressModel",
      "state": {
       "layout": "IPY_MODEL_c36c1c652c834da39b851f647231d8ba",
       "max": 342,
       "style": "IPY_MODEL_95c84a8b3f7944ca9a37b25a35d14c79",
       "value": 342
      }
     },
     "2c11558b68014126be54ddfb82e56ff6": {
      "model_module": "@jupyter-widgets/controls",
      "model_module_version": "1.5.0",
      "model_name": "DescriptionStyleModel",
      "state": {
       "description_width": ""
      }
     },
     "2c427dcc6ae54842adfb2e6a8deffc4c": {
      "model_module": "@jupyter-widgets/controls",
      "model_module_version": "1.5.0",
      "model_name": "FloatProgressModel",
      "state": {
       "layout": "IPY_MODEL_5d29d7d4e0494bbc9b126d2a75bdb119",
       "max": 231,
       "style": "IPY_MODEL_4aa01499ec2d4aff84b80e5618cefddc",
       "value": 231
      }
     },
     "2c7bb7b28acb45be8d0006908c4b9640": {
      "model_module": "@jupyter-widgets/controls",
      "model_module_version": "1.5.0",
      "model_name": "ProgressStyleModel",
      "state": {
       "description_width": ""
      }
     },
     "2c8553374af14c11be6db92dc9e30e17": {
      "model_module": "@jupyter-widgets/controls",
      "model_module_version": "1.5.0",
      "model_name": "HTMLModel",
      "state": {
       "layout": "IPY_MODEL_2df278d7795c45c6972f74d1ee1a2461",
       "style": "IPY_MODEL_3d7cfa686f6a45e7b9f2d857b202ec92",
       "value": "loss: 0.6744: 100%"
      }
     },
     "2cc0955eb18340a59a0c88d24ab3124d": {
      "model_module": "@jupyter-widgets/controls",
      "model_module_version": "1.5.0",
      "model_name": "HTMLModel",
      "state": {
       "layout": "IPY_MODEL_9617a88f70b74337b1d0d2a2e87a47ad",
       "style": "IPY_MODEL_367cbcf9a99840b9802a32e840355734",
       "value": " 806/806 [00:33&lt;00:00, 24.41it/s]"
      }
     },
     "2cc8ce5f05574f2ca25946101675168c": {
      "model_module": "@jupyter-widgets/controls",
      "model_module_version": "1.5.0",
      "model_name": "HTMLModel",
      "state": {
       "layout": "IPY_MODEL_15a502ff03f145de81a4c03753042258",
       "style": "IPY_MODEL_b9e9bbbf6eee44a6826e785a41be688e",
       "value": "loss: 0.6705: 100%"
      }
     },
     "2cd22707af1e4c4c928ea9586725531e": {
      "model_module": "@jupyter-widgets/base",
      "model_module_version": "1.2.0",
      "model_name": "LayoutModel",
      "state": {}
     },
     "2cdfb7e99c5a4a4384fc83d1f1d0063f": {
      "model_module": "@jupyter-widgets/controls",
      "model_module_version": "1.5.0",
      "model_name": "DescriptionStyleModel",
      "state": {
       "description_width": ""
      }
     },
     "2d051f1bf52442b785e7c2d8c75ad605": {
      "model_module": "@jupyter-widgets/controls",
      "model_module_version": "1.5.0",
      "model_name": "HTMLModel",
      "state": {
       "layout": "IPY_MODEL_29750240b0a34a59ba5394fb89b8bc3f",
       "style": "IPY_MODEL_3257fa03b5e546d5acb263906de283dd",
       "value": " 1213/1213 [00:52&lt;00:00, 23.20it/s]"
      }
     },
     "2d46c39b007e42398a42741a57583e5f": {
      "model_module": "@jupyter-widgets/base",
      "model_module_version": "1.2.0",
      "model_name": "LayoutModel",
      "state": {}
     },
     "2da15e5957fe426b8c26c628657feb38": {
      "model_module": "@jupyter-widgets/controls",
      "model_module_version": "1.5.0",
      "model_name": "DescriptionStyleModel",
      "state": {
       "description_width": ""
      }
     },
     "2df278d7795c45c6972f74d1ee1a2461": {
      "model_module": "@jupyter-widgets/base",
      "model_module_version": "1.2.0",
      "model_name": "LayoutModel",
      "state": {}
     },
     "2e678b237ef04f5b94e593663279c66f": {
      "model_module": "@jupyter-widgets/base",
      "model_module_version": "1.2.0",
      "model_name": "LayoutModel",
      "state": {}
     },
     "2e6c9055a9984b539ce837366dbf7f73": {
      "model_module": "@jupyter-widgets/controls",
      "model_module_version": "1.5.0",
      "model_name": "DescriptionStyleModel",
      "state": {
       "description_width": ""
      }
     },
     "2e82ffe728924e218dce073e7f4e43b0": {
      "model_module": "@jupyter-widgets/base",
      "model_module_version": "1.2.0",
      "model_name": "LayoutModel",
      "state": {}
     },
     "2e874cc170e743db902efc0e81158126": {
      "model_module": "@jupyter-widgets/base",
      "model_module_version": "1.2.0",
      "model_name": "LayoutModel",
      "state": {}
     },
     "2ee3d6af9934403f957bd71fd8ff37be": {
      "model_module": "@jupyter-widgets/base",
      "model_module_version": "1.2.0",
      "model_name": "LayoutModel",
      "state": {}
     },
     "2ee89938bc0e4d0aa65faa9134474f7e": {
      "model_module": "@jupyter-widgets/base",
      "model_module_version": "1.2.0",
      "model_name": "LayoutModel",
      "state": {}
     },
     "2f4835a5bcbe4eef92b8c63b85e7cca5": {
      "model_module": "@jupyter-widgets/base",
      "model_module_version": "1.2.0",
      "model_name": "LayoutModel",
      "state": {}
     },
     "2f98c055a5e04fc3b549a96b525a5743": {
      "model_module": "@jupyter-widgets/base",
      "model_module_version": "1.2.0",
      "model_name": "LayoutModel",
      "state": {}
     },
     "2fbd82415a8244de83fe138017044597": {
      "model_module": "@jupyter-widgets/base",
      "model_module_version": "1.2.0",
      "model_name": "LayoutModel",
      "state": {}
     },
     "2fbed2dcc31740b99a89a74a74167cee": {
      "model_module": "@jupyter-widgets/controls",
      "model_module_version": "1.5.0",
      "model_name": "HTMLModel",
      "state": {
       "layout": "IPY_MODEL_992c65cea9d642a99d82b997d0050b68",
       "style": "IPY_MODEL_88e4cdcef9b84edeb55a34c5924fbfe4",
       "value": "loss: 0.6402: 100%"
      }
     },
     "2fda9a2c00384160b755b0186a1acae2": {
      "model_module": "@jupyter-widgets/controls",
      "model_module_version": "1.5.0",
      "model_name": "DescriptionStyleModel",
      "state": {
       "description_width": ""
      }
     },
     "30327dbdfec24e50818be303f0a7ea4d": {
      "model_module": "@jupyter-widgets/controls",
      "model_module_version": "1.5.0",
      "model_name": "HTMLModel",
      "state": {
       "layout": "IPY_MODEL_f5d60fd8475849398d5b474349b8bbeb",
       "style": "IPY_MODEL_9d602c3aeae54ab99e99567b8b5f036f",
       "value": " 1261/1261 [00:53&lt;00:00, 24.58it/s]"
      }
     },
     "304143bfad2f4b2794794e62264749da": {
      "model_module": "@jupyter-widgets/base",
      "model_module_version": "1.2.0",
      "model_name": "LayoutModel",
      "state": {}
     },
     "3047c4474b0d475ba964d6b837786f94": {
      "model_module": "@jupyter-widgets/controls",
      "model_module_version": "1.5.0",
      "model_name": "DescriptionStyleModel",
      "state": {
       "description_width": ""
      }
     },
     "30500331104f4db9bed321225cc99462": {
      "model_module": "@jupyter-widgets/controls",
      "model_module_version": "1.5.0",
      "model_name": "ProgressStyleModel",
      "state": {
       "description_width": ""
      }
     },
     "306208282a7349c58cbacc8b88d5f08b": {
      "model_module": "@jupyter-widgets/base",
      "model_module_version": "1.2.0",
      "model_name": "LayoutModel",
      "state": {}
     },
     "30682503e441488790c1e6ebb58135ba": {
      "model_module": "@jupyter-widgets/controls",
      "model_module_version": "1.5.0",
      "model_name": "HTMLModel",
      "state": {
       "layout": "IPY_MODEL_c6154227ac334dc7a4591a5ce1c0a261",
       "style": "IPY_MODEL_45e8b5f9432e4cbea039b4b67532b991",
       "value": " 930/930 [00:39&lt;00:00, 23.59it/s]"
      }
     },
     "3071dbe1bcb74f06a366b924bbe4a1ea": {
      "model_module": "@jupyter-widgets/base",
      "model_module_version": "1.2.0",
      "model_name": "LayoutModel",
      "state": {}
     },
     "307a637a0dec482585cdebdb039d355f": {
      "model_module": "@jupyter-widgets/controls",
      "model_module_version": "1.5.0",
      "model_name": "ProgressStyleModel",
      "state": {
       "description_width": ""
      }
     },
     "30835bb6ecda49349085b11fd6d47557": {
      "model_module": "@jupyter-widgets/controls",
      "model_module_version": "1.5.0",
      "model_name": "HTMLModel",
      "state": {
       "layout": "IPY_MODEL_992a0d5e16ca44eab02aba21c924f811",
       "style": "IPY_MODEL_e7535a3f21714dc9b8dacffcd3f96bf8",
       "value": "100%"
      }
     },
     "30937a8645384212b87c701d7004796e": {
      "model_module": "@jupyter-widgets/base",
      "model_module_version": "1.2.0",
      "model_name": "LayoutModel",
      "state": {}
     },
     "30a62cb5d0be408c8cef87a72a9f200b": {
      "model_module": "@jupyter-widgets/controls",
      "model_module_version": "1.5.0",
      "model_name": "HTMLModel",
      "state": {
       "layout": "IPY_MODEL_2ada8e8331914204bf60e9877a03dd4b",
       "style": "IPY_MODEL_0c0a88baa9484deb88635d72de5ca427",
       "value": "100%"
      }
     },
     "30c49cbd4d554b5e8897d7d961599829": {
      "model_module": "@jupyter-widgets/controls",
      "model_module_version": "1.5.0",
      "model_name": "FloatProgressModel",
      "state": {
       "layout": "IPY_MODEL_c5082bc5f58b4454b625038ddd601d70",
       "max": 1628,
       "style": "IPY_MODEL_c1bcad46347245a1a95fb7047eb39af1",
       "value": 1628
      }
     },
     "3117554cbbc141fc8e7fdeb8fe82b2bd": {
      "model_module": "@jupyter-widgets/base",
      "model_module_version": "1.2.0",
      "model_name": "LayoutModel",
      "state": {}
     },
     "311f9f940a6d43c6998bb71526319326": {
      "model_module": "@jupyter-widgets/base",
      "model_module_version": "1.2.0",
      "model_name": "LayoutModel",
      "state": {}
     },
     "31517f1d31af4215b24ec68aabd74f52": {
      "model_module": "@jupyter-widgets/controls",
      "model_module_version": "1.5.0",
      "model_name": "HTMLModel",
      "state": {
       "layout": "IPY_MODEL_cb8e519e828842459c0405a388c5c894",
       "style": "IPY_MODEL_d82f2faa0af64e8eb2751c1a963b7e72",
       "value": "loss: 0.5723: 100%"
      }
     },
     "315fa9b89b1746f9a9c4db64260ea803": {
      "model_module": "@jupyter-widgets/controls",
      "model_module_version": "1.5.0",
      "model_name": "HTMLModel",
      "state": {
       "layout": "IPY_MODEL_20a3754a0d0c4f5f9047c82f322e2b5c",
       "style": "IPY_MODEL_cdb262f5171940adbf6f86bd98f70fce",
       "value": " 289/289 [00:13&lt;00:00, 21.83it/s]"
      }
     },
     "31669d4430d34cf688296dc9a89849f3": {
      "model_module": "@jupyter-widgets/base",
      "model_module_version": "1.2.0",
      "model_name": "LayoutModel",
      "state": {}
     },
     "316c75999e7e48249ce67155d6372253": {
      "model_module": "@jupyter-widgets/controls",
      "model_module_version": "1.5.0",
      "model_name": "ProgressStyleModel",
      "state": {
       "description_width": ""
      }
     },
     "3184a1e57caa4a2797cd4c3b7af7a5ec": {
      "model_module": "@jupyter-widgets/controls",
      "model_module_version": "1.5.0",
      "model_name": "DescriptionStyleModel",
      "state": {
       "description_width": ""
      }
     },
     "31953ee74a4a46f59ccde88065807cf6": {
      "model_module": "@jupyter-widgets/base",
      "model_module_version": "1.2.0",
      "model_name": "LayoutModel",
      "state": {}
     },
     "31f17a1e799e4328bf2554414d5a4ce9": {
      "model_module": "@jupyter-widgets/base",
      "model_module_version": "1.2.0",
      "model_name": "LayoutModel",
      "state": {}
     },
     "31f40b17a4304c32ab1fa7af34eba18e": {
      "model_module": "@jupyter-widgets/controls",
      "model_module_version": "1.5.0",
      "model_name": "DescriptionStyleModel",
      "state": {
       "description_width": ""
      }
     },
     "320208502b8345e3a7b0b5e0cf5c10fa": {
      "model_module": "@jupyter-widgets/controls",
      "model_module_version": "1.5.0",
      "model_name": "HTMLModel",
      "state": {
       "layout": "IPY_MODEL_6b8a091b18524b7d8abdb15e00cf7f75",
       "style": "IPY_MODEL_1d2112866a9a4b19acecfceef7fbc478",
       "value": "loss: 0.6593: 100%"
      }
     },
     "32147d5da7b74c82805e3bbf67af493c": {
      "model_module": "@jupyter-widgets/controls",
      "model_module_version": "1.5.0",
      "model_name": "FloatProgressModel",
      "state": {
       "layout": "IPY_MODEL_7f18c700ed1844938814d7a146d55e4e",
       "max": 1005,
       "style": "IPY_MODEL_c3bfa094ff0d4f52900c703ca39dfe5a",
       "value": 1005
      }
     },
     "3219e123de7b46f585884e3cee5b92e4": {
      "model_module": "@jupyter-widgets/controls",
      "model_module_version": "1.5.0",
      "model_name": "DescriptionStyleModel",
      "state": {
       "description_width": ""
      }
     },
     "323bab8087ab446ab56fa6ed2c6303f5": {
      "model_module": "@jupyter-widgets/controls",
      "model_module_version": "1.5.0",
      "model_name": "HTMLModel",
      "state": {
       "layout": "IPY_MODEL_cc2ffe0b87ec4c8285baee4add6ef6dd",
       "style": "IPY_MODEL_f11b9975aaf5469aada4036af805c4fd",
       "value": " 1005/1005 [00:43&lt;00:00, 23.17it/s]"
      }
     },
     "323f7684cb70412abe035d3f19b1f92b": {
      "model_module": "@jupyter-widgets/base",
      "model_module_version": "1.2.0",
      "model_name": "LayoutModel",
      "state": {}
     },
     "324a7b4117d84832aa1ecef4abea36f8": {
      "model_module": "@jupyter-widgets/base",
      "model_module_version": "1.2.0",
      "model_name": "LayoutModel",
      "state": {}
     },
     "3257fa03b5e546d5acb263906de283dd": {
      "model_module": "@jupyter-widgets/controls",
      "model_module_version": "1.5.0",
      "model_name": "DescriptionStyleModel",
      "state": {
       "description_width": ""
      }
     },
     "3263bead3e30415f9f97c208a26583b8": {
      "model_module": "@jupyter-widgets/controls",
      "model_module_version": "1.5.0",
      "model_name": "HTMLModel",
      "state": {
       "layout": "IPY_MODEL_0af944a60e914495be52df19a550c1cf",
       "style": "IPY_MODEL_263196bbd6b54634ad7de7b277b25953",
       "value": "100%"
      }
     },
     "326be93be1c54af886c47bc69a68e6e2": {
      "model_module": "@jupyter-widgets/controls",
      "model_module_version": "1.5.0",
      "model_name": "DescriptionStyleModel",
      "state": {
       "description_width": ""
      }
     },
     "327ae94834734850b267917f648938ae": {
      "model_module": "@jupyter-widgets/controls",
      "model_module_version": "1.5.0",
      "model_name": "FloatProgressModel",
      "state": {
       "layout": "IPY_MODEL_0fcc7c1474824fc58443b0055a4ea120",
       "max": 1052,
       "style": "IPY_MODEL_1a6875137b624d35a79036bf0080e015",
       "value": 1052
      }
     },
     "327fe29d1e0c4b40adcfb50c985ae4d9": {
      "model_module": "@jupyter-widgets/controls",
      "model_module_version": "1.5.0",
      "model_name": "FloatProgressModel",
      "state": {
       "layout": "IPY_MODEL_dac0088f406a4a9aa827979ddfa31cb3",
       "max": 1217,
       "style": "IPY_MODEL_4cd36a3d4a5246899e4824366a5effb2",
       "value": 1217
      }
     },
     "32969859d9894a8187e15570d9dda0cb": {
      "model_module": "@jupyter-widgets/controls",
      "model_module_version": "1.5.0",
      "model_name": "ProgressStyleModel",
      "state": {
       "description_width": ""
      }
     },
     "329bbaf28ce3482f95f684f44f192e0d": {
      "model_module": "@jupyter-widgets/controls",
      "model_module_version": "1.5.0",
      "model_name": "ProgressStyleModel",
      "state": {
       "description_width": ""
      }
     },
     "329f9d44e0614ecea476b3fd7b2b3742": {
      "model_module": "@jupyter-widgets/base",
      "model_module_version": "1.2.0",
      "model_name": "LayoutModel",
      "state": {}
     },
     "32ea7c68d79d4424a672aade83c9c220": {
      "model_module": "@jupyter-widgets/base",
      "model_module_version": "1.2.0",
      "model_name": "LayoutModel",
      "state": {}
     },
     "332b1ac69a3f470fadcb541cdb8be9b6": {
      "model_module": "@jupyter-widgets/controls",
      "model_module_version": "1.5.0",
      "model_name": "FloatProgressModel",
      "state": {
       "layout": "IPY_MODEL_7b3993b133484cbb824d4e23db8cdfdc",
       "max": 1229,
       "style": "IPY_MODEL_5c0ecf8aee7c45d4b901cce5420980e9",
       "value": 1229
      }
     },
     "33354ebaf5ba46029a476ebc5b4187bc": {
      "model_module": "@jupyter-widgets/controls",
      "model_module_version": "1.5.0",
      "model_name": "FloatProgressModel",
      "state": {
       "layout": "IPY_MODEL_5b2d63e1acce4c37b5303cf147b24495",
       "max": 1656,
       "style": "IPY_MODEL_cf4197f61795452f8012eded0c85f35e",
       "value": 1656
      }
     },
     "3337eb66ab3b41469e3bacccd7feb600": {
      "model_module": "@jupyter-widgets/controls",
      "model_module_version": "1.5.0",
      "model_name": "DescriptionStyleModel",
      "state": {
       "description_width": ""
      }
     },
     "334133d04d2f4c19aef3d80d149c45f8": {
      "model_module": "@jupyter-widgets/controls",
      "model_module_version": "1.5.0",
      "model_name": "DescriptionStyleModel",
      "state": {
       "description_width": ""
      }
     },
     "33a1103f918f45628761e3e09043094b": {
      "model_module": "@jupyter-widgets/controls",
      "model_module_version": "1.5.0",
      "model_name": "HTMLModel",
      "state": {
       "layout": "IPY_MODEL_028e6eeb413f4557bb4d4488841ec251",
       "style": "IPY_MODEL_d05ed06217064c2d8c9d4b157dff3ef3",
       "value": "loss: 0.6556: 100%"
      }
     },
     "33a694d6899e4b92a321485b353427a9": {
      "model_module": "@jupyter-widgets/controls",
      "model_module_version": "1.5.0",
      "model_name": "HTMLModel",
      "state": {
       "layout": "IPY_MODEL_14ba5e2992e74091b64f0d7f3ef75417",
       "style": "IPY_MODEL_1d461c140bd046489a1287f2f2ac2a9e",
       "value": " 1197/1197 [00:56&lt;00:00, 22.64it/s]"
      }
     },
     "33ad885705424c56837152db24fd1af3": {
      "model_module": "@jupyter-widgets/controls",
      "model_module_version": "1.5.0",
      "model_name": "ProgressStyleModel",
      "state": {
       "description_width": ""
      }
     },
     "33b9ae1bc12043fa91cd69109adfc591": {
      "model_module": "@jupyter-widgets/base",
      "model_module_version": "1.2.0",
      "model_name": "LayoutModel",
      "state": {}
     },
     "3411bb73a51c40afb068ef88e16a313b": {
      "model_module": "@jupyter-widgets/controls",
      "model_module_version": "1.5.0",
      "model_name": "DescriptionStyleModel",
      "state": {
       "description_width": ""
      }
     },
     "3412e2ced6c54d649d8fa72e9b4da00e": {
      "model_module": "@jupyter-widgets/controls",
      "model_module_version": "1.5.0",
      "model_name": "FloatProgressModel",
      "state": {
       "layout": "IPY_MODEL_6a9cb0c6cfe54d3abae9cffcaf29bc62",
       "max": 1187,
       "style": "IPY_MODEL_3bf42d9d3de344dbbe4873d0eacc0db2",
       "value": 1187
      }
     },
     "342bbcebc84c4214a1dd568b93377784": {
      "model_module": "@jupyter-widgets/controls",
      "model_module_version": "1.5.0",
      "model_name": "HTMLModel",
      "state": {
       "layout": "IPY_MODEL_f466f514bfba406ea9c3548923936529",
       "style": "IPY_MODEL_d06bde1aafca41dbbbd2eac4c0b08093",
       "value": "100%"
      }
     },
     "3451d01de8ce40b1ac78a3aebdddc4aa": {
      "model_module": "@jupyter-widgets/base",
      "model_module_version": "1.2.0",
      "model_name": "LayoutModel",
      "state": {}
     },
     "345e694f9ce243b8b01471f6cd3c7b0c": {
      "model_module": "@jupyter-widgets/controls",
      "model_module_version": "1.5.0",
      "model_name": "ProgressStyleModel",
      "state": {
       "description_width": ""
      }
     },
     "3481fd52dc344c959d3649f6f25e0be8": {
      "model_module": "@jupyter-widgets/controls",
      "model_module_version": "1.5.0",
      "model_name": "DescriptionStyleModel",
      "state": {
       "description_width": ""
      }
     },
     "3492a6d3cedb4981a417f730c8926a90": {
      "model_module": "@jupyter-widgets/base",
      "model_module_version": "1.2.0",
      "model_name": "LayoutModel",
      "state": {}
     },
     "34d059e459084386a69c1e6592bd5822": {
      "model_module": "@jupyter-widgets/controls",
      "model_module_version": "1.5.0",
      "model_name": "DescriptionStyleModel",
      "state": {
       "description_width": ""
      }
     },
     "3501954d8b85439a8f623a56e80bb844": {
      "model_module": "@jupyter-widgets/controls",
      "model_module_version": "1.5.0",
      "model_name": "ProgressStyleModel",
      "state": {
       "description_width": ""
      }
     },
     "3511ab8d2bde4422bf4602488c4718b2": {
      "model_module": "@jupyter-widgets/controls",
      "model_module_version": "1.5.0",
      "model_name": "FloatProgressModel",
      "state": {
       "layout": "IPY_MODEL_4d12ed2d3d8c4461b866164504d81868",
       "max": 1673,
       "style": "IPY_MODEL_7a83560c2a3e4fa2b09782b61cfadceb",
       "value": 1673
      }
     },
     "35512a17d7da4e10bd2194adb0a4ee26": {
      "model_module": "@jupyter-widgets/base",
      "model_module_version": "1.2.0",
      "model_name": "LayoutModel",
      "state": {}
     },
     "357e10f245d94780b9609f9edd2b4956": {
      "model_module": "@jupyter-widgets/controls",
      "model_module_version": "1.5.0",
      "model_name": "ProgressStyleModel",
      "state": {
       "description_width": ""
      }
     },
     "358d37baea1f462d88360ee0dbc2a3bf": {
      "model_module": "@jupyter-widgets/base",
      "model_module_version": "1.2.0",
      "model_name": "LayoutModel",
      "state": {}
     },
     "359f5189f3274a72936aab4f6ab67455": {
      "model_module": "@jupyter-widgets/base",
      "model_module_version": "1.2.0",
      "model_name": "LayoutModel",
      "state": {}
     },
     "35a9b66a8e484a65873f3e602e98b9d5": {
      "model_module": "@jupyter-widgets/controls",
      "model_module_version": "1.5.0",
      "model_name": "FloatProgressModel",
      "state": {
       "layout": "IPY_MODEL_4be0b223a3084111932fcb2b1c9be890",
       "max": 210,
       "style": "IPY_MODEL_48544f07a82542009317434cca46081e",
       "value": 210
      }
     },
     "35fee59e78574dd4bf9d7a22e16fc651": {
      "model_module": "@jupyter-widgets/base",
      "model_module_version": "1.2.0",
      "model_name": "LayoutModel",
      "state": {}
     },
     "3600367ab2674a63b33249388958b573": {
      "model_module": "@jupyter-widgets/base",
      "model_module_version": "1.2.0",
      "model_name": "LayoutModel",
      "state": {}
     },
     "36472327080d4f7b8362c5a7afa01a0d": {
      "model_module": "@jupyter-widgets/controls",
      "model_module_version": "1.5.0",
      "model_name": "FloatProgressModel",
      "state": {
       "layout": "IPY_MODEL_bae06282d536410a84f8d80716784011",
       "max": 1067,
       "style": "IPY_MODEL_4e547337bf57410f89e71630750fe9a6",
       "value": 1067
      }
     },
     "364c818385074a0a8251f122e7582f07": {
      "model_module": "@jupyter-widgets/controls",
      "model_module_version": "1.5.0",
      "model_name": "HTMLModel",
      "state": {
       "layout": "IPY_MODEL_2055883e2c184ad1b4a69839f81fd578",
       "style": "IPY_MODEL_2da15e5957fe426b8c26c628657feb38",
       "value": "100%"
      }
     },
     "367cbcf9a99840b9802a32e840355734": {
      "model_module": "@jupyter-widgets/controls",
      "model_module_version": "1.5.0",
      "model_name": "DescriptionStyleModel",
      "state": {
       "description_width": ""
      }
     },
     "36ae813f8b54425782faa96b15ea24c6": {
      "model_module": "@jupyter-widgets/base",
      "model_module_version": "1.2.0",
      "model_name": "LayoutModel",
      "state": {}
     },
     "36b02ac644b44e16a2ea07ba1c1d3c4e": {
      "model_module": "@jupyter-widgets/base",
      "model_module_version": "1.2.0",
      "model_name": "LayoutModel",
      "state": {}
     },
     "36c04f0bff5d450798985cb0fa64d657": {
      "model_module": "@jupyter-widgets/controls",
      "model_module_version": "1.5.0",
      "model_name": "HTMLModel",
      "state": {
       "layout": "IPY_MODEL_a3244f0cffef4cf3bf95c5e084770e17",
       "style": "IPY_MODEL_6bfe0173211a45fb813be1d0c80347f6",
       "value": "100%"
      }
     },
     "36c73a97b1984063b7205371d2423870": {
      "model_module": "@jupyter-widgets/controls",
      "model_module_version": "1.5.0",
      "model_name": "HTMLModel",
      "state": {
       "layout": "IPY_MODEL_d67388f941a64d6b939e8806faa3230a",
       "style": "IPY_MODEL_b61f788c958d4de5801d2478cb0932cd",
       "value": " 1149/1149 [00:53&lt;00:00, 22.13it/s]"
      }
     },
     "36dc711f1e69412c82315d940259d50e": {
      "model_module": "@jupyter-widgets/controls",
      "model_module_version": "1.5.0",
      "model_name": "HTMLModel",
      "state": {
       "layout": "IPY_MODEL_a9582b008246453f9a627fe2b6a8764a",
       "style": "IPY_MODEL_d097f4ff3b9844f986f338a8278b235e",
       "value": "100%"
      }
     },
     "37094f1d82d4407c9d395595fcd2bcbf": {
      "model_module": "@jupyter-widgets/controls",
      "model_module_version": "1.5.0",
      "model_name": "FloatProgressModel",
      "state": {
       "layout": "IPY_MODEL_81d8eb282774426a802e117b6ef6b697",
       "max": 1252,
       "style": "IPY_MODEL_8b1c532a92cb4860ae76c140caa37013",
       "value": 1252
      }
     },
     "3720a1fe9ba24cc79b90f0a130cf1a08": {
      "model_module": "@jupyter-widgets/base",
      "model_module_version": "1.2.0",
      "model_name": "LayoutModel",
      "state": {}
     },
     "372fb939d1fb4f20b86749105b54d1ff": {
      "model_module": "@jupyter-widgets/controls",
      "model_module_version": "1.5.0",
      "model_name": "HTMLModel",
      "state": {
       "layout": "IPY_MODEL_f52267608c2c49b491fad4ebabd2f8fa",
       "style": "IPY_MODEL_5ad7f08a966042afb58e48c306898007",
       "value": " 1428/1428 [01:06&lt;00:00, 21.20it/s]"
      }
     },
     "373f565a3e3b4a64a91905c7df0bbb30": {
      "model_module": "@jupyter-widgets/base",
      "model_module_version": "1.2.0",
      "model_name": "LayoutModel",
      "state": {}
     },
     "37499e5d33bc4dc7b310a927dff5156f": {
      "model_module": "@jupyter-widgets/controls",
      "model_module_version": "1.5.0",
      "model_name": "DescriptionStyleModel",
      "state": {
       "description_width": ""
      }
     },
     "3769a40633d2400baccf2a300e43ad95": {
      "model_module": "@jupyter-widgets/controls",
      "model_module_version": "1.5.0",
      "model_name": "FloatProgressModel",
      "state": {
       "layout": "IPY_MODEL_80e0d00d994142cb9cb339cceed1a4d4",
       "max": 1192,
       "style": "IPY_MODEL_ba9fdc94d99e47e6a15ee0afb11da0a5",
       "value": 1192
      }
     },
     "37754643f6514257860c12138e39b99a": {
      "model_module": "@jupyter-widgets/controls",
      "model_module_version": "1.5.0",
      "model_name": "DescriptionStyleModel",
      "state": {
       "description_width": ""
      }
     },
     "378f8f954e8949bc849ebe53004d544f": {
      "model_module": "@jupyter-widgets/controls",
      "model_module_version": "1.5.0",
      "model_name": "DescriptionStyleModel",
      "state": {
       "description_width": ""
      }
     },
     "37abbcd6c882470b9201cd3563c0c690": {
      "model_module": "@jupyter-widgets/controls",
      "model_module_version": "1.5.0",
      "model_name": "FloatProgressModel",
      "state": {
       "layout": "IPY_MODEL_3c20dde2d5c044a7ac47f4e2de7eed23",
       "max": 1192,
       "style": "IPY_MODEL_20f5201c896c44f6b650099c8267fb27",
       "value": 1192
      }
     },
     "37b4ca6126224315a1a1792df8e505b9": {
      "model_module": "@jupyter-widgets/controls",
      "model_module_version": "1.5.0",
      "model_name": "DescriptionStyleModel",
      "state": {
       "description_width": ""
      }
     },
     "37c7d2fa5ba04436ba8a7f95b9947312": {
      "model_module": "@jupyter-widgets/base",
      "model_module_version": "1.2.0",
      "model_name": "LayoutModel",
      "state": {}
     },
     "37ddd4b136244009817a980c9accb24d": {
      "model_module": "@jupyter-widgets/controls",
      "model_module_version": "1.5.0",
      "model_name": "DescriptionStyleModel",
      "state": {
       "description_width": ""
      }
     },
     "37e2902c5ae3485a948fd0879889b1b2": {
      "model_module": "@jupyter-widgets/controls",
      "model_module_version": "1.5.0",
      "model_name": "DescriptionStyleModel",
      "state": {
       "description_width": ""
      }
     },
     "37ffa0bf53764c89a2a6eb5a94d6b1e2": {
      "model_module": "@jupyter-widgets/base",
      "model_module_version": "1.2.0",
      "model_name": "LayoutModel",
      "state": {}
     },
     "382640e28a674d378751ff078fa4daf9": {
      "model_module": "@jupyter-widgets/base",
      "model_module_version": "1.2.0",
      "model_name": "LayoutModel",
      "state": {}
     },
     "3827eba4e1654e348ad634be320c7a75": {
      "model_module": "@jupyter-widgets/controls",
      "model_module_version": "1.5.0",
      "model_name": "FloatProgressModel",
      "state": {
       "layout": "IPY_MODEL_1627c594438b4ac0906eae2c4631dfe7",
       "max": 1084,
       "style": "IPY_MODEL_1c485051da8c4f6db20a18a8e01ab7f4",
       "value": 1084
      }
     },
     "384451a217d24baf923dd77a8e70ca15": {
      "model_module": "@jupyter-widgets/base",
      "model_module_version": "1.2.0",
      "model_name": "LayoutModel",
      "state": {}
     },
     "38679811d1c14ebeb61f53cdd6fd3b89": {
      "model_module": "@jupyter-widgets/base",
      "model_module_version": "1.2.0",
      "model_name": "LayoutModel",
      "state": {}
     },
     "386d8aa6a47a4bd2a0f40d531086a482": {
      "model_module": "@jupyter-widgets/base",
      "model_module_version": "1.2.0",
      "model_name": "LayoutModel",
      "state": {}
     },
     "388d996ba955426a8838c80c47628040": {
      "model_module": "@jupyter-widgets/base",
      "model_module_version": "1.2.0",
      "model_name": "LayoutModel",
      "state": {}
     },
     "38a129aa1ac34ac380fbe7bf0fdb867b": {
      "model_module": "@jupyter-widgets/controls",
      "model_module_version": "1.5.0",
      "model_name": "FloatProgressModel",
      "state": {
       "layout": "IPY_MODEL_b23e8bb2383546c9ac8e7e6327c45e95",
       "max": 1673,
       "style": "IPY_MODEL_cea0ba5b203c458387d980027fc5d254",
       "value": 1673
      }
     },
     "38abf22e2fbc4e949a339a27497794df": {
      "model_module": "@jupyter-widgets/base",
      "model_module_version": "1.2.0",
      "model_name": "LayoutModel",
      "state": {}
     },
     "38ba2030ac064dcf81cfa25d6eca00b4": {
      "model_module": "@jupyter-widgets/base",
      "model_module_version": "1.2.0",
      "model_name": "LayoutModel",
      "state": {}
     },
     "38e3c185d89a4ccba254e2542efa8817": {
      "model_module": "@jupyter-widgets/controls",
      "model_module_version": "1.5.0",
      "model_name": "ProgressStyleModel",
      "state": {
       "description_width": ""
      }
     },
     "38e490a2ee73458f832358f21cef6c3a": {
      "model_module": "@jupyter-widgets/base",
      "model_module_version": "1.2.0",
      "model_name": "LayoutModel",
      "state": {}
     },
     "38e7e8039c1d47ad9334cb1ee3e33b92": {
      "model_module": "@jupyter-widgets/controls",
      "model_module_version": "1.5.0",
      "model_name": "DescriptionStyleModel",
      "state": {
       "description_width": ""
      }
     },
     "390bb7458a114af29a72ce04aa9f8509": {
      "model_module": "@jupyter-widgets/base",
      "model_module_version": "1.2.0",
      "model_name": "LayoutModel",
      "state": {}
     },
     "393d0645c1664dfbb4d7738e01efd2e5": {
      "model_module": "@jupyter-widgets/controls",
      "model_module_version": "1.5.0",
      "model_name": "HTMLModel",
      "state": {
       "layout": "IPY_MODEL_41e04ecdd4fa4c12b765208c56e4f3fd",
       "style": "IPY_MODEL_cc85740b35b94830a477fb51d53b2c04",
       "value": "loss: 0.6659: 100%"
      }
     },
     "395afc5c3e644490b82baf41772611f0": {
      "model_module": "@jupyter-widgets/controls",
      "model_module_version": "1.5.0",
      "model_name": "ProgressStyleModel",
      "state": {
       "description_width": ""
      }
     },
     "39801cc062384802a6db391f9dce24d8": {
      "model_module": "@jupyter-widgets/controls",
      "model_module_version": "1.5.0",
      "model_name": "FloatProgressModel",
      "state": {
       "layout": "IPY_MODEL_b038ee6906f143d78f623d3cfa9234bc",
       "max": 228,
       "style": "IPY_MODEL_274a8de582794fb88a5850dee45ac547",
       "value": 228
      }
     },
     "39b8428033e24be2ab55ce2601e06cf7": {
      "model_module": "@jupyter-widgets/base",
      "model_module_version": "1.2.0",
      "model_name": "LayoutModel",
      "state": {}
     },
     "39be4f4c96fe496ab251490aee6eece5": {
      "model_module": "@jupyter-widgets/controls",
      "model_module_version": "1.5.0",
      "model_name": "ProgressStyleModel",
      "state": {
       "description_width": ""
      }
     },
     "39c5386cdc254e17bb5e89790233bf2b": {
      "model_module": "@jupyter-widgets/controls",
      "model_module_version": "1.5.0",
      "model_name": "ProgressStyleModel",
      "state": {
       "description_width": ""
      }
     },
     "39cf7975ba75483db315c1eae4bfa458": {
      "model_module": "@jupyter-widgets/controls",
      "model_module_version": "1.5.0",
      "model_name": "FloatProgressModel",
      "state": {
       "layout": "IPY_MODEL_2af0d6e7d00d4cf3a7eaae05e095a231",
       "max": 1037,
       "style": "IPY_MODEL_1ca087840c1646368dd60bfdc58a9cfc",
       "value": 1037
      }
     },
     "39d37c36921542a2932684894032b3bc": {
      "model_module": "@jupyter-widgets/controls",
      "model_module_version": "1.5.0",
      "model_name": "HTMLModel",
      "state": {
       "layout": "IPY_MODEL_8a801e01173948739ca0fef2554aa60b",
       "style": "IPY_MODEL_c6798294b0044d4e84e1a83d56d5b6a5",
       "value": "loss: 0.6211: 100%"
      }
     },
     "39ed489459ec41a9822e6b63f5b2a329": {
      "model_module": "@jupyter-widgets/controls",
      "model_module_version": "1.5.0",
      "model_name": "FloatProgressModel",
      "state": {
       "layout": "IPY_MODEL_f63fa25b414b4cc9b5021c65904c3caa",
       "max": 1224,
       "style": "IPY_MODEL_28aac75eb67243e99a7c0fa1a26d28d8",
       "value": 1224
      }
     },
     "3a2bfc948418461a98f3639f8a347754": {
      "model_module": "@jupyter-widgets/controls",
      "model_module_version": "1.5.0",
      "model_name": "HTMLModel",
      "state": {
       "layout": "IPY_MODEL_373f565a3e3b4a64a91905c7df0bbb30",
       "style": "IPY_MODEL_2b5903fb0c3d4f509529e72eeec730ff",
       "value": " 461/461 [00:19&lt;00:00, 24.87it/s]"
      }
     },
     "3a2bfdaa55cd426dac4e8e1ca462b1c1": {
      "model_module": "@jupyter-widgets/controls",
      "model_module_version": "1.5.0",
      "model_name": "FloatProgressModel",
      "state": {
       "layout": "IPY_MODEL_25492c432552499c8aa188e8b62e0dca",
       "max": 1218,
       "style": "IPY_MODEL_820a8836921e4d66aa0dd91022a5e97a",
       "value": 1218
      }
     },
     "3a47443044524d30b918ee5fa45bbb96": {
      "model_module": "@jupyter-widgets/base",
      "model_module_version": "1.2.0",
      "model_name": "LayoutModel",
      "state": {}
     },
     "3a845e9e5744409684a06a08e568de29": {
      "model_module": "@jupyter-widgets/controls",
      "model_module_version": "1.5.0",
      "model_name": "ProgressStyleModel",
      "state": {
       "description_width": ""
      }
     },
     "3a987d488d714941bb9478e45b14da04": {
      "model_module": "@jupyter-widgets/controls",
      "model_module_version": "1.5.0",
      "model_name": "HTMLModel",
      "state": {
       "layout": "IPY_MODEL_802dd5f8c0034c97949ef3065dc646c2",
       "style": "IPY_MODEL_c510ed15ed6846fca9a5db13ca82896a",
       "value": " 1075/1075 [00:47&lt;00:00, 23.93it/s]"
      }
     },
     "3ac517d51c6b49fab7de6307dabe8d85": {
      "model_module": "@jupyter-widgets/controls",
      "model_module_version": "1.5.0",
      "model_name": "HTMLModel",
      "state": {
       "layout": "IPY_MODEL_9cdb8ca4842547028ca45934aeb1af22",
       "style": "IPY_MODEL_750842eae58443bda4d7a5f4ad4546ad",
       "value": "loss: 0.6709: 100%"
      }
     },
     "3b5f4d3e6edb4ea68a66142dd9904ac5": {
      "model_module": "@jupyter-widgets/controls",
      "model_module_version": "1.5.0",
      "model_name": "ProgressStyleModel",
      "state": {
       "description_width": ""
      }
     },
     "3b86d5ac097449008130b504ca305f94": {
      "model_module": "@jupyter-widgets/controls",
      "model_module_version": "1.5.0",
      "model_name": "DescriptionStyleModel",
      "state": {
       "description_width": ""
      }
     },
     "3b8950fefbb44d78bce2282b246614d0": {
      "model_module": "@jupyter-widgets/base",
      "model_module_version": "1.2.0",
      "model_name": "LayoutModel",
      "state": {}
     },
     "3ba39b89cd3f48f9b2d5ea241b84294e": {
      "model_module": "@jupyter-widgets/controls",
      "model_module_version": "1.5.0",
      "model_name": "ProgressStyleModel",
      "state": {
       "description_width": ""
      }
     },
     "3bf42d9d3de344dbbe4873d0eacc0db2": {
      "model_module": "@jupyter-widgets/controls",
      "model_module_version": "1.5.0",
      "model_name": "ProgressStyleModel",
      "state": {
       "description_width": ""
      }
     },
     "3c089b44537e4322bc24018069d324ce": {
      "model_module": "@jupyter-widgets/base",
      "model_module_version": "1.2.0",
      "model_name": "LayoutModel",
      "state": {}
     },
     "3c17e7a6767a42638b13c10858f9bc65": {
      "model_module": "@jupyter-widgets/base",
      "model_module_version": "1.2.0",
      "model_name": "LayoutModel",
      "state": {}
     },
     "3c20dde2d5c044a7ac47f4e2de7eed23": {
      "model_module": "@jupyter-widgets/base",
      "model_module_version": "1.2.0",
      "model_name": "LayoutModel",
      "state": {}
     },
     "3c2e2f5dbf174976a85262b8d8acface": {
      "model_module": "@jupyter-widgets/controls",
      "model_module_version": "1.5.0",
      "model_name": "HTMLModel",
      "state": {
       "layout": "IPY_MODEL_cac8eadde425460d84b2dd7af2a479be",
       "style": "IPY_MODEL_3184a1e57caa4a2797cd4c3b7af7a5ec",
       "value": " 1428/1428 [01:07&lt;00:00, 22.88it/s]"
      }
     },
     "3c4cf429af2c4fa4a1788847cc055837": {
      "model_module": "@jupyter-widgets/base",
      "model_module_version": "1.2.0",
      "model_name": "LayoutModel",
      "state": {}
     },
     "3c8b287cc24d4bb5b74d65caf6dab442": {
      "model_module": "@jupyter-widgets/base",
      "model_module_version": "1.2.0",
      "model_name": "LayoutModel",
      "state": {}
     },
     "3ca75c85801d4134a867e923b1045365": {
      "model_module": "@jupyter-widgets/controls",
      "model_module_version": "1.5.0",
      "model_name": "ProgressStyleModel",
      "state": {
       "description_width": ""
      }
     },
     "3cc6966a6f764daeab19c4279964a727": {
      "model_module": "@jupyter-widgets/base",
      "model_module_version": "1.2.0",
      "model_name": "LayoutModel",
      "state": {}
     },
     "3cd31e4054cf4ccfbe646f60fec4b5f9": {
      "model_module": "@jupyter-widgets/controls",
      "model_module_version": "1.5.0",
      "model_name": "HTMLModel",
      "state": {
       "layout": "IPY_MODEL_2e874cc170e743db902efc0e81158126",
       "style": "IPY_MODEL_e09536340c90464399ec149a1b76ae12",
       "value": " 805/805 [00:35&lt;00:00, 24.27it/s]"
      }
     },
     "3d1d924838424ef0b95c5210691f7d28": {
      "model_module": "@jupyter-widgets/controls",
      "model_module_version": "1.5.0",
      "model_name": "HTMLModel",
      "state": {
       "layout": "IPY_MODEL_58f217f78b03417cb22a74309957a6f2",
       "style": "IPY_MODEL_d1f01ddaae524060b040e19ad5e01133",
       "value": "loss: 0.6349: 100%"
      }
     },
     "3d39bfefc7054bc9a11b0622d5fdac05": {
      "model_module": "@jupyter-widgets/controls",
      "model_module_version": "1.5.0",
      "model_name": "HTMLModel",
      "state": {
       "layout": "IPY_MODEL_cc3e91a23b4747a0a991031fecbf736a",
       "style": "IPY_MODEL_c7f395b22ad14654ad237331a7d68479",
       "value": "loss: 0.5868: 100%"
      }
     },
     "3d550d8a1338471aa7f3d990f6aa9c1b": {
      "model_module": "@jupyter-widgets/controls",
      "model_module_version": "1.5.0",
      "model_name": "DescriptionStyleModel",
      "state": {
       "description_width": ""
      }
     },
     "3d5d3bb50fa04b8bb49d0bf70602f781": {
      "model_module": "@jupyter-widgets/controls",
      "model_module_version": "1.5.0",
      "model_name": "HTMLModel",
      "state": {
       "layout": "IPY_MODEL_8f15dd80da3541b5b6556ab21545feba",
       "style": "IPY_MODEL_b49ba832fba547d39af08517ff7aa503",
       "value": " 316/316 [00:12&lt;00:00, 24.67it/s]"
      }
     },
     "3d6f5472adaa4a2e9be4e3051da6370e": {
      "model_module": "@jupyter-widgets/controls",
      "model_module_version": "1.5.0",
      "model_name": "DescriptionStyleModel",
      "state": {
       "description_width": ""
      }
     },
     "3d7cfa686f6a45e7b9f2d857b202ec92": {
      "model_module": "@jupyter-widgets/controls",
      "model_module_version": "1.5.0",
      "model_name": "DescriptionStyleModel",
      "state": {
       "description_width": ""
      }
     },
     "3d9f3d87a1704a5c8de34745480c6070": {
      "model_module": "@jupyter-widgets/base",
      "model_module_version": "1.2.0",
      "model_name": "LayoutModel",
      "state": {}
     },
     "3da5247429ab40e29474ad23aa2912bc": {
      "model_module": "@jupyter-widgets/controls",
      "model_module_version": "1.5.0",
      "model_name": "HTMLModel",
      "state": {
       "layout": "IPY_MODEL_fc91911196994e98a827caff361304c1",
       "style": "IPY_MODEL_255f8f18cd8b42a194e8a5fca5bf472c",
       "value": "loss: 0.6675: 100%"
      }
     },
     "3dc880c9782f428e8f06beba33882e0e": {
      "model_module": "@jupyter-widgets/controls",
      "model_module_version": "1.5.0",
      "model_name": "DescriptionStyleModel",
      "state": {
       "description_width": ""
      }
     },
     "3dd9631e070d4ac6996a35d5627425ec": {
      "model_module": "@jupyter-widgets/base",
      "model_module_version": "1.2.0",
      "model_name": "LayoutModel",
      "state": {}
     },
     "3df92094da4446b9a850f92a113c5cf4": {
      "model_module": "@jupyter-widgets/controls",
      "model_module_version": "1.5.0",
      "model_name": "ProgressStyleModel",
      "state": {
       "description_width": ""
      }
     },
     "3e51f87abe454d949e49a23868d9d619": {
      "model_module": "@jupyter-widgets/base",
      "model_module_version": "1.2.0",
      "model_name": "LayoutModel",
      "state": {}
     },
     "3e5ef2d72f734877aff2fa4a2f711023": {
      "model_module": "@jupyter-widgets/base",
      "model_module_version": "1.2.0",
      "model_name": "LayoutModel",
      "state": {}
     },
     "3e8ee7dc01fc4c53a0bd959d1d0f6967": {
      "model_module": "@jupyter-widgets/base",
      "model_module_version": "1.2.0",
      "model_name": "LayoutModel",
      "state": {}
     },
     "3e8ef573a4da4fe5899a6f037eb364b2": {
      "model_module": "@jupyter-widgets/base",
      "model_module_version": "1.2.0",
      "model_name": "LayoutModel",
      "state": {}
     },
     "3eb2b654eb784d628b0e7b7e4b218b63": {
      "model_module": "@jupyter-widgets/controls",
      "model_module_version": "1.5.0",
      "model_name": "HTMLModel",
      "state": {
       "layout": "IPY_MODEL_47fe55ee92714e079097c0c4a42e3f2f",
       "style": "IPY_MODEL_40a8f652679f424bb9120773a3ee6b8f",
       "value": "loss: 1.0266: 100%"
      }
     },
     "3ec5394f17c249e7857ad41cee1d59a8": {
      "model_module": "@jupyter-widgets/base",
      "model_module_version": "1.2.0",
      "model_name": "LayoutModel",
      "state": {}
     },
     "3ee855c7cb1f4e07897fbbb8f93b2501": {
      "model_module": "@jupyter-widgets/controls",
      "model_module_version": "1.5.0",
      "model_name": "DescriptionStyleModel",
      "state": {
       "description_width": ""
      }
     },
     "3ef1b58b2fed4bc78fa2db95a10eaad0": {
      "model_module": "@jupyter-widgets/base",
      "model_module_version": "1.2.0",
      "model_name": "LayoutModel",
      "state": {}
     },
     "3efffd88893b459eaed015d024b0b797": {
      "model_module": "@jupyter-widgets/controls",
      "model_module_version": "1.5.0",
      "model_name": "HTMLModel",
      "state": {
       "layout": "IPY_MODEL_f19e12e3ee04488cbe4bc9e109104bf9",
       "style": "IPY_MODEL_02128f2334b9436f9292f4c801bc9f8d",
       "value": " 1261/1261 [00:53&lt;00:00, 25.14it/s]"
      }
     },
     "3f012d4f2ec443d9bc8b5612a755956a": {
      "model_module": "@jupyter-widgets/base",
      "model_module_version": "1.2.0",
      "model_name": "LayoutModel",
      "state": {}
     },
     "3f14b88d9d4c4e8b844a7cd516ddaa8f": {
      "model_module": "@jupyter-widgets/controls",
      "model_module_version": "1.5.0",
      "model_name": "HTMLModel",
      "state": {
       "layout": "IPY_MODEL_2fbd82415a8244de83fe138017044597",
       "style": "IPY_MODEL_dc92f027ef334b38aef7630110203bbe",
       "value": " 1216/1216 [00:54&lt;00:00, 22.86it/s]"
      }
     },
     "3f1621918a4f46a19941650716792f37": {
      "model_module": "@jupyter-widgets/base",
      "model_module_version": "1.2.0",
      "model_name": "LayoutModel",
      "state": {}
     },
     "3f44c0b7ed414d149ba896e40280b4a6": {
      "model_module": "@jupyter-widgets/controls",
      "model_module_version": "1.5.0",
      "model_name": "HTMLModel",
      "state": {
       "layout": "IPY_MODEL_4e1be5d3ef194829a57777f9c136f1ba",
       "style": "IPY_MODEL_d602e94d06f84ade858c50be1b13d125",
       "value": "100%"
      }
     },
     "3f6b0507db9042468852d7dca10ec6f3": {
      "model_module": "@jupyter-widgets/controls",
      "model_module_version": "1.5.0",
      "model_name": "HTMLModel",
      "state": {
       "layout": "IPY_MODEL_ff3ca48129144f4a98cde73126c03cb4",
       "style": "IPY_MODEL_a8bbe0a111ee4028b5c381bc8a97f171",
       "value": "100%"
      }
     },
     "3fa5ae41616740439795d00925a7f1a4": {
      "model_module": "@jupyter-widgets/base",
      "model_module_version": "1.2.0",
      "model_name": "LayoutModel",
      "state": {}
     },
     "3fb52868004146b3abf91f31b8e1f91e": {
      "model_module": "@jupyter-widgets/controls",
      "model_module_version": "1.5.0",
      "model_name": "DescriptionStyleModel",
      "state": {
       "description_width": ""
      }
     },
     "3fb757d7bc3d4a2d8b4a69a569485605": {
      "model_module": "@jupyter-widgets/base",
      "model_module_version": "1.2.0",
      "model_name": "LayoutModel",
      "state": {}
     },
     "3fbda3ee520f46dc8d43508380a281e7": {
      "model_module": "@jupyter-widgets/controls",
      "model_module_version": "1.5.0",
      "model_name": "DescriptionStyleModel",
      "state": {
       "description_width": ""
      }
     },
     "3fd3b51d005545d7b1bc2349cf5cab62": {
      "model_module": "@jupyter-widgets/controls",
      "model_module_version": "1.5.0",
      "model_name": "DescriptionStyleModel",
      "state": {
       "description_width": ""
      }
     },
     "4002971ced764bbeb4e931c9eaf53e5f": {
      "model_module": "@jupyter-widgets/base",
      "model_module_version": "1.2.0",
      "model_name": "LayoutModel",
      "state": {}
     },
     "401aef0b09c64ae99bf2bba7154ebf9b": {
      "model_module": "@jupyter-widgets/controls",
      "model_module_version": "1.5.0",
      "model_name": "HTMLModel",
      "state": {
       "layout": "IPY_MODEL_f2130b7ee0e945aaa049539675c7ac91",
       "style": "IPY_MODEL_c5c950a2f6ac4f42838e650ced46ed24",
       "value": "100%"
      }
     },
     "402b2aae24494fd8b285911c0be8af2f": {
      "model_module": "@jupyter-widgets/controls",
      "model_module_version": "1.5.0",
      "model_name": "DescriptionStyleModel",
      "state": {
       "description_width": ""
      }
     },
     "40397d26ef5149118c7672eb4e893a22": {
      "model_module": "@jupyter-widgets/base",
      "model_module_version": "1.2.0",
      "model_name": "LayoutModel",
      "state": {}
     },
     "404dd8157617477d908384d540a4396a": {
      "model_module": "@jupyter-widgets/controls",
      "model_module_version": "1.5.0",
      "model_name": "DescriptionStyleModel",
      "state": {
       "description_width": ""
      }
     },
     "4060506f718c4e98b6b41af904094a4e": {
      "model_module": "@jupyter-widgets/base",
      "model_module_version": "1.2.0",
      "model_name": "LayoutModel",
      "state": {}
     },
     "4076414517fd4a8c89a60fccf9bb2207": {
      "model_module": "@jupyter-widgets/controls",
      "model_module_version": "1.5.0",
      "model_name": "ProgressStyleModel",
      "state": {
       "description_width": ""
      }
     },
     "40970e6751044b35aee25d054668f2ec": {
      "model_module": "@jupyter-widgets/controls",
      "model_module_version": "1.5.0",
      "model_name": "DescriptionStyleModel",
      "state": {
       "description_width": ""
      }
     },
     "40a8f652679f424bb9120773a3ee6b8f": {
      "model_module": "@jupyter-widgets/controls",
      "model_module_version": "1.5.0",
      "model_name": "DescriptionStyleModel",
      "state": {
       "description_width": ""
      }
     },
     "40bc7628d3f44c41a9b027d32dbef7de": {
      "model_module": "@jupyter-widgets/controls",
      "model_module_version": "1.5.0",
      "model_name": "FloatProgressModel",
      "state": {
       "layout": "IPY_MODEL_f2f0c6f4db9840cd85004090da0c45d1",
       "max": 1467,
       "style": "IPY_MODEL_90bed48c78bf44578daf1a52de684bc1",
       "value": 1467
      }
     },
     "40d6e8cffb384444bb31f260e8298cea": {
      "model_module": "@jupyter-widgets/base",
      "model_module_version": "1.2.0",
      "model_name": "LayoutModel",
      "state": {}
     },
     "40df48ac11d84edc845e4e6bd3d4d853": {
      "model_module": "@jupyter-widgets/controls",
      "model_module_version": "1.5.0",
      "model_name": "DescriptionStyleModel",
      "state": {
       "description_width": ""
      }
     },
     "40fb177d44224ae18227a9557fa1d903": {
      "model_module": "@jupyter-widgets/controls",
      "model_module_version": "1.5.0",
      "model_name": "HTMLModel",
      "state": {
       "layout": "IPY_MODEL_742333d3edbe453eb96c10292e081b10",
       "style": "IPY_MODEL_d902ff568a12449d85ecc6e66a14aa04",
       "value": "100%"
      }
     },
     "415402ea7bdd45558612d81becd0b505": {
      "model_module": "@jupyter-widgets/controls",
      "model_module_version": "1.5.0",
      "model_name": "ProgressStyleModel",
      "state": {
       "description_width": ""
      }
     },
     "418087e458ac445a84be64306b7443b6": {
      "model_module": "@jupyter-widgets/controls",
      "model_module_version": "1.5.0",
      "model_name": "HTMLModel",
      "state": {
       "layout": "IPY_MODEL_f4e0883450a5425fb8df887bf79a537c",
       "style": "IPY_MODEL_46c88222f83242839cd1d75a70bdb896",
       "value": "loss: 0.6079: 100%"
      }
     },
     "4185e8b72bc84853b5d0272b194e88e4": {
      "model_module": "@jupyter-widgets/controls",
      "model_module_version": "1.5.0",
      "model_name": "HTMLModel",
      "state": {
       "layout": "IPY_MODEL_573ffcc1afd844649ba49bdbfed16a14",
       "style": "IPY_MODEL_88fffdfac4db4316bc96bd1f12ecef0b",
       "value": "100%"
      }
     },
     "4193768c51ac416f9415ce5134472d5c": {
      "model_module": "@jupyter-widgets/base",
      "model_module_version": "1.2.0",
      "model_name": "LayoutModel",
      "state": {}
     },
     "41d23a2538474cafb6ab8f39f4eef641": {
      "model_module": "@jupyter-widgets/controls",
      "model_module_version": "1.5.0",
      "model_name": "DescriptionStyleModel",
      "state": {
       "description_width": ""
      }
     },
     "41e04ecdd4fa4c12b765208c56e4f3fd": {
      "model_module": "@jupyter-widgets/base",
      "model_module_version": "1.2.0",
      "model_name": "LayoutModel",
      "state": {}
     },
     "41e207c167ff432ebb4041f7c32678a5": {
      "model_module": "@jupyter-widgets/base",
      "model_module_version": "1.2.0",
      "model_name": "LayoutModel",
      "state": {}
     },
     "41ffd07902114902975f9f5cfb793dc2": {
      "model_module": "@jupyter-widgets/base",
      "model_module_version": "1.2.0",
      "model_name": "LayoutModel",
      "state": {}
     },
     "421df6b560044988a781b381547150bb": {
      "model_module": "@jupyter-widgets/controls",
      "model_module_version": "1.5.0",
      "model_name": "HTMLModel",
      "state": {
       "layout": "IPY_MODEL_05f03bea3f0e47f1808c1584d549f569",
       "style": "IPY_MODEL_f985a88427c24ef1aa72e0a813282b92",
       "value": "loss: 0.6386: 100%"
      }
     },
     "42280931832342228a1b2e5e6eb85ef3": {
      "model_module": "@jupyter-widgets/base",
      "model_module_version": "1.2.0",
      "model_name": "LayoutModel",
      "state": {}
     },
     "423020639f334b95884bc04f01359144": {
      "model_module": "@jupyter-widgets/controls",
      "model_module_version": "1.5.0",
      "model_name": "ProgressStyleModel",
      "state": {
       "description_width": ""
      }
     },
     "423f73e98cba4f83acefc2a24af5c9ae": {
      "model_module": "@jupyter-widgets/controls",
      "model_module_version": "1.5.0",
      "model_name": "DescriptionStyleModel",
      "state": {
       "description_width": ""
      }
     },
     "425cbaeec8cb4e0b8cbc43d650bab56b": {
      "model_module": "@jupyter-widgets/controls",
      "model_module_version": "1.5.0",
      "model_name": "DescriptionStyleModel",
      "state": {
       "description_width": ""
      }
     },
     "427aa3369de046d09a102dfb251ec79a": {
      "model_module": "@jupyter-widgets/controls",
      "model_module_version": "1.5.0",
      "model_name": "FloatProgressModel",
      "state": {
       "layout": "IPY_MODEL_6a8e2bf1171c45d79abe4729db85c2ba",
       "max": 306,
       "style": "IPY_MODEL_45bcce0b399445f4a889ba56ab06fb64",
       "value": 306
      }
     },
     "427c9f22b581463b97ad79c685308338": {
      "model_module": "@jupyter-widgets/base",
      "model_module_version": "1.2.0",
      "model_name": "LayoutModel",
      "state": {}
     },
     "42920cc5392a45409ee5142e97708b28": {
      "model_module": "@jupyter-widgets/base",
      "model_module_version": "1.2.0",
      "model_name": "LayoutModel",
      "state": {}
     },
     "42b4642fd68146bf8cf3293663bfd9d4": {
      "model_module": "@jupyter-widgets/base",
      "model_module_version": "1.2.0",
      "model_name": "LayoutModel",
      "state": {}
     },
     "42be7435a8ed4bc296428dac62ac8997": {
      "model_module": "@jupyter-widgets/controls",
      "model_module_version": "1.5.0",
      "model_name": "DescriptionStyleModel",
      "state": {
       "description_width": ""
      }
     },
     "42dd9f8ee8514896852372c5b1d80c75": {
      "model_module": "@jupyter-widgets/controls",
      "model_module_version": "1.5.0",
      "model_name": "FloatProgressModel",
      "state": {
       "layout": "IPY_MODEL_79b8136ebceb46cba75e37349a0ce82a",
       "max": 1673,
       "style": "IPY_MODEL_cad4b3233c2041858cf7f1c1222ef728",
       "value": 1673
      }
     },
     "42e73e80ec2a48568fb267d575bd1a9c": {
      "model_module": "@jupyter-widgets/controls",
      "model_module_version": "1.5.0",
      "model_name": "DescriptionStyleModel",
      "state": {
       "description_width": ""
      }
     },
     "42fb5e23bf314675937b0a2e14c61c95": {
      "model_module": "@jupyter-widgets/controls",
      "model_module_version": "1.5.0",
      "model_name": "ProgressStyleModel",
      "state": {
       "description_width": ""
      }
     },
     "432e4d69acd24a7ebddd642634fc9c68": {
      "model_module": "@jupyter-widgets/controls",
      "model_module_version": "1.5.0",
      "model_name": "HTMLModel",
      "state": {
       "layout": "IPY_MODEL_2a329e1a30094943b0eff7667629680f",
       "style": "IPY_MODEL_54afe3928db14667a66d1eeacb99485d",
       "value": " 440/440 [00:17&lt;00:00, 24.80it/s]"
      }
     },
     "4350457d78e741a7a934b15929d232da": {
      "model_module": "@jupyter-widgets/controls",
      "model_module_version": "1.5.0",
      "model_name": "DescriptionStyleModel",
      "state": {
       "description_width": ""
      }
     },
     "43609a4805c94ebdb7eef5ce3d6075bd": {
      "model_module": "@jupyter-widgets/controls",
      "model_module_version": "1.5.0",
      "model_name": "HTMLModel",
      "state": {
       "layout": "IPY_MODEL_92d63ee52bb04d20a881536a4834e6db",
       "style": "IPY_MODEL_9d1f0a5b23594dcd8eef54700da0a0e2",
       "value": " 237/237 [00:09&lt;00:00, 24.42it/s]"
      }
     },
     "4391508706aa40d494ce76f16ef5f0e6": {
      "model_module": "@jupyter-widgets/base",
      "model_module_version": "1.2.0",
      "model_name": "LayoutModel",
      "state": {}
     },
     "43a0b56589694edfb91cda1b067d55fd": {
      "model_module": "@jupyter-widgets/controls",
      "model_module_version": "1.5.0",
      "model_name": "FloatProgressModel",
      "state": {
       "layout": "IPY_MODEL_88fa0a60ad024d0497319976696ce038",
       "max": 471,
       "style": "IPY_MODEL_1f6c53f243af42e8982c3b74304b6960",
       "value": 471
      }
     },
     "43bf0e1b2de04e32ab146e09cf2ae89d": {
      "model_module": "@jupyter-widgets/controls",
      "model_module_version": "1.5.0",
      "model_name": "FloatProgressModel",
      "state": {
       "layout": "IPY_MODEL_fb69d525cac54ab3b96ba9fb1674460a",
       "max": 1252,
       "style": "IPY_MODEL_b2db037ecf6b499e9d1cded89561ef35",
       "value": 1252
      }
     },
     "43ce6800eb8442efa701c15aa577c3e0": {
      "model_module": "@jupyter-widgets/controls",
      "model_module_version": "1.5.0",
      "model_name": "DescriptionStyleModel",
      "state": {
       "description_width": ""
      }
     },
     "43d0a9200e144bc7bc3292d63193c2fa": {
      "model_module": "@jupyter-widgets/controls",
      "model_module_version": "1.5.0",
      "model_name": "DescriptionStyleModel",
      "state": {
       "description_width": ""
      }
     },
     "43f24aa573f342b7b43484242986f089": {
      "model_module": "@jupyter-widgets/base",
      "model_module_version": "1.2.0",
      "model_name": "LayoutModel",
      "state": {}
     },
     "43fbd9aca1964be9b331bb399111ef2b": {
      "model_module": "@jupyter-widgets/base",
      "model_module_version": "1.2.0",
      "model_name": "LayoutModel",
      "state": {}
     },
     "44001f7e88514f47806ca150f9539842": {
      "model_module": "@jupyter-widgets/base",
      "model_module_version": "1.2.0",
      "model_name": "LayoutModel",
      "state": {}
     },
     "44180c156ae8415e9dc96928ade2da4a": {
      "model_module": "@jupyter-widgets/controls",
      "model_module_version": "1.5.0",
      "model_name": "HTMLModel",
      "state": {
       "layout": "IPY_MODEL_bba5492a89a04b1dbc2a834f9dd3a4b0",
       "style": "IPY_MODEL_86c2faac93b54a4c87ba7e7f9e1dd923",
       "value": " 1067/1067 [00:44&lt;00:00, 23.82it/s]"
      }
     },
     "4422b1e64c574ac089921f80b4e17412": {
      "model_module": "@jupyter-widgets/controls",
      "model_module_version": "1.5.0",
      "model_name": "ProgressStyleModel",
      "state": {
       "description_width": ""
      }
     },
     "44314e8320e94a94bf435d8e7b2e61e0": {
      "model_module": "@jupyter-widgets/base",
      "model_module_version": "1.2.0",
      "model_name": "LayoutModel",
      "state": {}
     },
     "4434aff5a38348d7a50aa630a9ed8b4c": {
      "model_module": "@jupyter-widgets/controls",
      "model_module_version": "1.5.0",
      "model_name": "HTMLModel",
      "state": {
       "layout": "IPY_MODEL_38ba2030ac064dcf81cfa25d6eca00b4",
       "style": "IPY_MODEL_61c70424547843cea4714c64c7dd030e",
       "value": "loss: 0.6686: 100%"
      }
     },
     "443c611e447741898e85bc278cc6afbc": {
      "model_module": "@jupyter-widgets/base",
      "model_module_version": "1.2.0",
      "model_name": "LayoutModel",
      "state": {}
     },
     "4494537cd3fe4662ada5e28fd9ed51cd": {
      "model_module": "@jupyter-widgets/base",
      "model_module_version": "1.2.0",
      "model_name": "LayoutModel",
      "state": {}
     },
     "44a4cc6ab0bd437f803f05dea01536b0": {
      "model_module": "@jupyter-widgets/controls",
      "model_module_version": "1.5.0",
      "model_name": "DescriptionStyleModel",
      "state": {
       "description_width": ""
      }
     },
     "44cd5c6d1a1b4183be35a4250bbc0d33": {
      "model_module": "@jupyter-widgets/base",
      "model_module_version": "1.2.0",
      "model_name": "LayoutModel",
      "state": {}
     },
     "453e1b35cae747c895163fa1ca1a5b6f": {
      "model_module": "@jupyter-widgets/controls",
      "model_module_version": "1.5.0",
      "model_name": "HTMLModel",
      "state": {
       "layout": "IPY_MODEL_86eef860130448b0a003bae0b63462c1",
       "style": "IPY_MODEL_6be648c2ed5e498dbd269f556e3cc666",
       "value": " 806/806 [00:34&lt;00:00, 23.45it/s]"
      }
     },
     "45830d150cda40c9bbdf75c3fc643d44": {
      "model_module": "@jupyter-widgets/controls",
      "model_module_version": "1.5.0",
      "model_name": "ProgressStyleModel",
      "state": {
       "description_width": ""
      }
     },
     "4590cd1a4e084d228af8d251ae2e91f0": {
      "model_module": "@jupyter-widgets/controls",
      "model_module_version": "1.5.0",
      "model_name": "HTMLModel",
      "state": {
       "layout": "IPY_MODEL_ae02a79236c44dd4b3fb0415dba75bd9",
       "style": "IPY_MODEL_0afaff083f724e7d942dabf919eb33f5",
       "value": "loss: 0.6390: 100%"
      }
     },
     "45a839d4f7d2448d8d777baac512f647": {
      "model_module": "@jupyter-widgets/controls",
      "model_module_version": "1.5.0",
      "model_name": "DescriptionStyleModel",
      "state": {
       "description_width": ""
      }
     },
     "45b66b66f56741139ee8f737d282c37d": {
      "model_module": "@jupyter-widgets/controls",
      "model_module_version": "1.5.0",
      "model_name": "HTMLModel",
      "state": {
       "layout": "IPY_MODEL_065f7330479c4aff93ac50f83828c42a",
       "style": "IPY_MODEL_a357b06560914bd68e56a788a5be455f",
       "value": "100%"
      }
     },
     "45bb20c9f6fe450aa9d2e65f5f1fdaf8": {
      "model_module": "@jupyter-widgets/controls",
      "model_module_version": "1.5.0",
      "model_name": "DescriptionStyleModel",
      "state": {
       "description_width": ""
      }
     },
     "45bcce0b399445f4a889ba56ab06fb64": {
      "model_module": "@jupyter-widgets/controls",
      "model_module_version": "1.5.0",
      "model_name": "ProgressStyleModel",
      "state": {
       "description_width": ""
      }
     },
     "45bfb193c773436ea3ae8ea86de336ed": {
      "model_module": "@jupyter-widgets/controls",
      "model_module_version": "1.5.0",
      "model_name": "HTMLModel",
      "state": {
       "layout": "IPY_MODEL_89cf6763537a4731ac85ccf14a46ff1a",
       "style": "IPY_MODEL_dd6e3c2715674f0fb5bfd2da8ef48fdd",
       "value": " 1084/1084 [00:51&lt;00:00, 21.15it/s]"
      }
     },
     "45e8b5f9432e4cbea039b4b67532b991": {
      "model_module": "@jupyter-widgets/controls",
      "model_module_version": "1.5.0",
      "model_name": "DescriptionStyleModel",
      "state": {
       "description_width": ""
      }
     },
     "45f43754b9f54bf5a6518130c027a052": {
      "model_module": "@jupyter-widgets/controls",
      "model_module_version": "1.5.0",
      "model_name": "HTMLModel",
      "state": {
       "layout": "IPY_MODEL_03c545137e9c43909f4ae9c025cd8d3d",
       "style": "IPY_MODEL_99b7581136c24e21bcc94bc7fefdf6f0",
       "value": " 1067/1067 [00:45&lt;00:00, 23.78it/s]"
      }
     },
     "45ffefc659bc4f5e95beab833f521a97": {
      "model_module": "@jupyter-widgets/controls",
      "model_module_version": "1.5.0",
      "model_name": "ProgressStyleModel",
      "state": {
       "description_width": ""
      }
     },
     "4631e5e5cf5b42d1aa3a3f04b25b8700": {
      "model_module": "@jupyter-widgets/controls",
      "model_module_version": "1.5.0",
      "model_name": "DescriptionStyleModel",
      "state": {
       "description_width": ""
      }
     },
     "465abe2803f44befa212e0867bd05fac": {
      "model_module": "@jupyter-widgets/controls",
      "model_module_version": "1.5.0",
      "model_name": "DescriptionStyleModel",
      "state": {
       "description_width": ""
      }
     },
     "466c46a8fc6c4da495b1e1dc6f4fc0ed": {
      "model_module": "@jupyter-widgets/controls",
      "model_module_version": "1.5.0",
      "model_name": "DescriptionStyleModel",
      "state": {
       "description_width": ""
      }
     },
     "468244f4d5b84aebb2ff7a21a5dc378d": {
      "model_module": "@jupyter-widgets/base",
      "model_module_version": "1.2.0",
      "model_name": "LayoutModel",
      "state": {}
     },
     "46a32a2e5f9e483793f29d7195b27f85": {
      "model_module": "@jupyter-widgets/controls",
      "model_module_version": "1.5.0",
      "model_name": "ProgressStyleModel",
      "state": {
       "description_width": ""
      }
     },
     "46a7254e41004355963f0032720c80df": {
      "model_module": "@jupyter-widgets/controls",
      "model_module_version": "1.5.0",
      "model_name": "FloatProgressModel",
      "state": {
       "layout": "IPY_MODEL_36ae813f8b54425782faa96b15ea24c6",
       "max": 1005,
       "style": "IPY_MODEL_12d3d2da133b4606808acd9495668173",
       "value": 1005
      }
     },
     "46bd64af3ed640668b4d10a9d1dfda10": {
      "model_module": "@jupyter-widgets/controls",
      "model_module_version": "1.5.0",
      "model_name": "HTMLModel",
      "state": {
       "layout": "IPY_MODEL_e555b70bb85d42d892695afe3fb30b1f",
       "style": "IPY_MODEL_7a86d4c601af4d1c88aca5790b622b67",
       "value": " 1115/1115 [00:46&lt;00:00, 24.10it/s]"
      }
     },
     "46c88222f83242839cd1d75a70bdb896": {
      "model_module": "@jupyter-widgets/controls",
      "model_module_version": "1.5.0",
      "model_name": "DescriptionStyleModel",
      "state": {
       "description_width": ""
      }
     },
     "46d47171a4e743db9de4491bfe6994c2": {
      "model_module": "@jupyter-widgets/controls",
      "model_module_version": "1.5.0",
      "model_name": "HTMLModel",
      "state": {
       "layout": "IPY_MODEL_4fb8875a2e4c49c2a1ec3db144675d67",
       "style": "IPY_MODEL_e7d6baf7e92444be8d59a66d9e876bc0",
       "value": " 930/930 [00:39&lt;00:00, 23.69it/s]"
      }
     },
     "46fc81e2e23c4868b149b33ef5d68568": {
      "model_module": "@jupyter-widgets/controls",
      "model_module_version": "1.5.0",
      "model_name": "DescriptionStyleModel",
      "state": {
       "description_width": ""
      }
     },
     "46fdd6dd3a3b45f39efc6920178a17d9": {
      "model_module": "@jupyter-widgets/base",
      "model_module_version": "1.2.0",
      "model_name": "LayoutModel",
      "state": {}
     },
     "470015e2c4834d68a7d4793d2b67170b": {
      "model_module": "@jupyter-widgets/controls",
      "model_module_version": "1.5.0",
      "model_name": "FloatProgressModel",
      "state": {
       "layout": "IPY_MODEL_390bb7458a114af29a72ce04aa9f8509",
       "max": 425,
       "style": "IPY_MODEL_79599999f8a24880abafb2b2fc9477f0",
       "value": 425
      }
     },
     "470ead8027ac43cf90001b12504196d0": {
      "model_module": "@jupyter-widgets/controls",
      "model_module_version": "1.5.0",
      "model_name": "HTMLModel",
      "state": {
       "layout": "IPY_MODEL_6c0d27b38ae841909611e168193fce11",
       "style": "IPY_MODEL_b5d056b66de84e94934a1355146be063",
       "value": " 1628/1628 [01:16&lt;00:00, 21.53it/s]"
      }
     },
     "472d5ef37692404fb0871989d2824252": {
      "model_module": "@jupyter-widgets/controls",
      "model_module_version": "1.5.0",
      "model_name": "HTMLModel",
      "state": {
       "layout": "IPY_MODEL_804f6f249fa145ae87c6ed8f560c8f3e",
       "style": "IPY_MODEL_903f30de9ae24920b2c93a300cca98ff",
       "value": "loss: 0.6534: 100%"
      }
     },
     "475be7dc15234be4b3c6278d737b502c": {
      "model_module": "@jupyter-widgets/controls",
      "model_module_version": "1.5.0",
      "model_name": "HTMLModel",
      "state": {
       "layout": "IPY_MODEL_541184905a724689830c0de0e2c0f5b0",
       "style": "IPY_MODEL_57a8dbeb06f444d587b3c011b3d7823a",
       "value": " 306/306 [00:14&lt;00:00, 21.56it/s]"
      }
     },
     "477f7c44e67343ac9e763fa54e285b36": {
      "model_module": "@jupyter-widgets/controls",
      "model_module_version": "1.5.0",
      "model_name": "HTMLModel",
      "state": {
       "layout": "IPY_MODEL_358d37baea1f462d88360ee0dbc2a3bf",
       "style": "IPY_MODEL_66f7196402a74d5fbb390effdaea2e49",
       "value": "loss: 0.6083: 100%"
      }
     },
     "4786b2e3ab3b4965864b3df58c69be3d": {
      "model_module": "@jupyter-widgets/controls",
      "model_module_version": "1.5.0",
      "model_name": "DescriptionStyleModel",
      "state": {
       "description_width": ""
      }
     },
     "478cac18b59947b4a44b2757aba6cce1": {
      "model_module": "@jupyter-widgets/base",
      "model_module_version": "1.2.0",
      "model_name": "LayoutModel",
      "state": {}
     },
     "479acd4e35d347c8ad216a06c94e26f3": {
      "model_module": "@jupyter-widgets/controls",
      "model_module_version": "1.5.0",
      "model_name": "DescriptionStyleModel",
      "state": {
       "description_width": ""
      }
     },
     "47c535e68dde402a954e16740a92f8de": {
      "model_module": "@jupyter-widgets/controls",
      "model_module_version": "1.5.0",
      "model_name": "DescriptionStyleModel",
      "state": {
       "description_width": ""
      }
     },
     "47ddf51f5b774ffa8785493b3a7f0d72": {
      "model_module": "@jupyter-widgets/controls",
      "model_module_version": "1.5.0",
      "model_name": "HTMLModel",
      "state": {
       "layout": "IPY_MODEL_a479dee08b3d436fa46d6e83479b2bc3",
       "style": "IPY_MODEL_7ab0e41888b84eaa82288d63737bf0d3",
       "value": "100%"
      }
     },
     "47e8a64dbe454e3bbada58136e749fec": {
      "model_module": "@jupyter-widgets/controls",
      "model_module_version": "1.5.0",
      "model_name": "ProgressStyleModel",
      "state": {
       "description_width": ""
      }
     },
     "47e942fbb05d4318bafa6d2438770d4c": {
      "model_module": "@jupyter-widgets/base",
      "model_module_version": "1.2.0",
      "model_name": "LayoutModel",
      "state": {}
     },
     "47f64614e60d4191a449dc3da2d9a24f": {
      "model_module": "@jupyter-widgets/base",
      "model_module_version": "1.2.0",
      "model_name": "LayoutModel",
      "state": {}
     },
     "47fe55ee92714e079097c0c4a42e3f2f": {
      "model_module": "@jupyter-widgets/base",
      "model_module_version": "1.2.0",
      "model_name": "LayoutModel",
      "state": {}
     },
     "48250a92ac7d4707b0bc86e9a482c1ea": {
      "model_module": "@jupyter-widgets/controls",
      "model_module_version": "1.5.0",
      "model_name": "DescriptionStyleModel",
      "state": {
       "description_width": ""
      }
     },
     "4845eb37cb2d474a88bd62cf1faacc28": {
      "model_module": "@jupyter-widgets/base",
      "model_module_version": "1.2.0",
      "model_name": "LayoutModel",
      "state": {}
     },
     "48544f07a82542009317434cca46081e": {
      "model_module": "@jupyter-widgets/controls",
      "model_module_version": "1.5.0",
      "model_name": "ProgressStyleModel",
      "state": {
       "description_width": ""
      }
     },
     "487b7911e2bf4791a358316ff51d1106": {
      "model_module": "@jupyter-widgets/base",
      "model_module_version": "1.2.0",
      "model_name": "LayoutModel",
      "state": {}
     },
     "488699bb3e8e4e2fa1bc4da84f7aecde": {
      "model_module": "@jupyter-widgets/controls",
      "model_module_version": "1.5.0",
      "model_name": "DescriptionStyleModel",
      "state": {
       "description_width": ""
      }
     },
     "489fa2949d2747f5888a7ad2c47f49b2": {
      "model_module": "@jupyter-widgets/controls",
      "model_module_version": "1.5.0",
      "model_name": "HTMLModel",
      "state": {
       "layout": "IPY_MODEL_4c3320c9d3704f05b005debda2a421f9",
       "style": "IPY_MODEL_3b86d5ac097449008130b504ca305f94",
       "value": "100%"
      }
     },
     "48a9a7b401a243f0b87bbdd8d9090b7a": {
      "model_module": "@jupyter-widgets/controls",
      "model_module_version": "1.5.0",
      "model_name": "HTMLModel",
      "state": {
       "layout": "IPY_MODEL_6be84a509fea4606b040178dc784d95d",
       "style": "IPY_MODEL_8fcc3f810ada4fe680d08a1eca3418bf",
       "value": "loss: 0.6389: 100%"
      }
     },
     "48c8e225606e42e89e4dc3c148e5b4ad": {
      "model_module": "@jupyter-widgets/controls",
      "model_module_version": "1.5.0",
      "model_name": "HTMLModel",
      "state": {
       "layout": "IPY_MODEL_c9488414d37444589d34fd7a94c071f6",
       "style": "IPY_MODEL_37ddd4b136244009817a980c9accb24d",
       "value": " 1445/1445 [01:04&lt;00:00, 22.51it/s]"
      }
     },
     "48d4d5a066774180a73ae0e34e098f48": {
      "model_module": "@jupyter-widgets/controls",
      "model_module_version": "1.5.0",
      "model_name": "HTMLModel",
      "state": {
       "layout": "IPY_MODEL_f0014140bf4442c4b14194ab65710029",
       "style": "IPY_MODEL_c68f08cdd07b4170a76543b9073c0438",
       "value": "loss: 0.6664: 100%"
      }
     },
     "490a13113d5a43b5b288f7b0006463da": {
      "model_module": "@jupyter-widgets/controls",
      "model_module_version": "1.5.0",
      "model_name": "ProgressStyleModel",
      "state": {
       "description_width": ""
      }
     },
     "491ad2a0a6bc4acfa391480165c78cb4": {
      "model_module": "@jupyter-widgets/controls",
      "model_module_version": "1.5.0",
      "model_name": "ProgressStyleModel",
      "state": {
       "description_width": ""
      }
     },
     "491c94eac5874b19876c3b1256846652": {
      "model_module": "@jupyter-widgets/controls",
      "model_module_version": "1.5.0",
      "model_name": "FloatProgressModel",
      "state": {
       "layout": "IPY_MODEL_5ecc25c373414013b8b35406295539a5",
       "max": 930,
       "style": "IPY_MODEL_dc5a8b6ca3d841f9ae01d05ad0881147",
       "value": 930
      }
     },
     "492ad38332a5401eb5a256b3315b1e1c": {
      "model_module": "@jupyter-widgets/controls",
      "model_module_version": "1.5.0",
      "model_name": "DescriptionStyleModel",
      "state": {
       "description_width": ""
      }
     },
     "493ad2cce2654878a846652aeb85a220": {
      "model_module": "@jupyter-widgets/base",
      "model_module_version": "1.2.0",
      "model_name": "LayoutModel",
      "state": {}
     },
     "49506c76aa3e4a8583246df4daaba4a0": {
      "model_module": "@jupyter-widgets/base",
      "model_module_version": "1.2.0",
      "model_name": "LayoutModel",
      "state": {}
     },
     "4954005ccbd74010813fef76153fa372": {
      "model_module": "@jupyter-widgets/controls",
      "model_module_version": "1.5.0",
      "model_name": "ProgressStyleModel",
      "state": {
       "description_width": ""
      }
     },
     "495e28b27749463c9e187bff7fbf05bb": {
      "model_module": "@jupyter-widgets/controls",
      "model_module_version": "1.5.0",
      "model_name": "FloatProgressModel",
      "state": {
       "layout": "IPY_MODEL_295cf87d7f054dd4a2e0015bac0c720b",
       "max": 137,
       "style": "IPY_MODEL_ec116292dfe64475a784152f30c42c95",
       "value": 137
      }
     },
     "496721374e9d4e1f9f813ec7b89bdbc3": {
      "model_module": "@jupyter-widgets/base",
      "model_module_version": "1.2.0",
      "model_name": "LayoutModel",
      "state": {}
     },
     "498584a7b3f2477a9cd6e3e418cd7805": {
      "model_module": "@jupyter-widgets/controls",
      "model_module_version": "1.5.0",
      "model_name": "HTMLModel",
      "state": {
       "layout": "IPY_MODEL_8da9d22b0c52459794bce122fd4e1edb",
       "style": "IPY_MODEL_80d6cf6ea8f74de9a860246976a47475",
       "value": " 1229/1229 [00:52&lt;00:00, 23.48it/s]"
      }
     },
     "4a156d42fda4411da129da61f0aa5f1f": {
      "model_module": "@jupyter-widgets/controls",
      "model_module_version": "1.5.0",
      "model_name": "FloatProgressModel",
      "state": {
       "layout": "IPY_MODEL_2a8a24540b9f47dbbe9bde73509c9c77",
       "max": 929,
       "style": "IPY_MODEL_218e62565a3c45a08b3e0754d119f106",
       "value": 929
      }
     },
     "4a183c950a2344f18359c4db6019b92b": {
      "model_module": "@jupyter-widgets/controls",
      "model_module_version": "1.5.0",
      "model_name": "ProgressStyleModel",
      "state": {
       "description_width": ""
      }
     },
     "4a33cd8fea984e44b6f289fb6de18c06": {
      "model_module": "@jupyter-widgets/controls",
      "model_module_version": "1.5.0",
      "model_name": "DescriptionStyleModel",
      "state": {
       "description_width": ""
      }
     },
     "4a4a0c7059d4450cbd392ccc2aba2f1d": {
      "model_module": "@jupyter-widgets/base",
      "model_module_version": "1.2.0",
      "model_name": "LayoutModel",
      "state": {}
     },
     "4a751ad5d59e4372a8b7b6b37b1398f6": {
      "model_module": "@jupyter-widgets/controls",
      "model_module_version": "1.5.0",
      "model_name": "HTMLModel",
      "state": {
       "layout": "IPY_MODEL_dfd33369d6be41a58ecb00bce8255d02",
       "style": "IPY_MODEL_28c0ac91fd8c4e27a4ea06b10a47c43a",
       "value": "loss: 0.5928: 100%"
      }
     },
     "4a829c43f6a14fd692fda96d163b0786": {
      "model_module": "@jupyter-widgets/controls",
      "model_module_version": "1.5.0",
      "model_name": "DescriptionStyleModel",
      "state": {
       "description_width": ""
      }
     },
     "4aa01499ec2d4aff84b80e5618cefddc": {
      "model_module": "@jupyter-widgets/controls",
      "model_module_version": "1.5.0",
      "model_name": "ProgressStyleModel",
      "state": {
       "description_width": ""
      }
     },
     "4aab869902064623a26ec5c9a4cd30ca": {
      "model_module": "@jupyter-widgets/controls",
      "model_module_version": "1.5.0",
      "model_name": "HTMLModel",
      "state": {
       "layout": "IPY_MODEL_dc6e761cddd541eb8d859e3bafe22366",
       "style": "IPY_MODEL_3ee855c7cb1f4e07897fbbb8f93b2501",
       "value": " 783/783 [00:36&lt;00:00, 21.29it/s]"
      }
     },
     "4ae241210c494df29d8b3b51840a47cb": {
      "model_module": "@jupyter-widgets/controls",
      "model_module_version": "1.5.0",
      "model_name": "DescriptionStyleModel",
      "state": {
       "description_width": ""
      }
     },
     "4aecd46a7b6048efb8a19402432af2f3": {
      "model_module": "@jupyter-widgets/base",
      "model_module_version": "1.2.0",
      "model_name": "LayoutModel",
      "state": {}
     },
     "4aed9c7cdc21485ca8687196cfa83192": {
      "model_module": "@jupyter-widgets/controls",
      "model_module_version": "1.5.0",
      "model_name": "DescriptionStyleModel",
      "state": {
       "description_width": ""
      }
     },
     "4b067ca7eff34ed7a2455da9cb64118e": {
      "model_module": "@jupyter-widgets/controls",
      "model_module_version": "1.5.0",
      "model_name": "HTMLModel",
      "state": {
       "layout": "IPY_MODEL_e79e3d1f7c0d4fab9407ea4e5d20ba60",
       "style": "IPY_MODEL_25e20f0dad7940a9b5773bc10280d621",
       "value": " 1229/1229 [00:50&lt;00:00, 24.47it/s]"
      }
     },
     "4b073de117254bddbefc15d8d7dfbfe8": {
      "model_module": "@jupyter-widgets/base",
      "model_module_version": "1.2.0",
      "model_name": "LayoutModel",
      "state": {}
     },
     "4b55d8adf6124acbbe0e4f29dd12e113": {
      "model_module": "@jupyter-widgets/controls",
      "model_module_version": "1.5.0",
      "model_name": "HTMLModel",
      "state": {
       "layout": "IPY_MODEL_d48ea9016cac4b0a9cb7de0ace56a2a8",
       "style": "IPY_MODEL_423f73e98cba4f83acefc2a24af5c9ae",
       "value": "loss: 0.6547: 100%"
      }
     },
     "4b5bda660ae749ebb5b4987a2c293d57": {
      "model_module": "@jupyter-widgets/base",
      "model_module_version": "1.2.0",
      "model_name": "LayoutModel",
      "state": {}
     },
     "4bc013d5f4184a748879d97e2e385206": {
      "model_module": "@jupyter-widgets/controls",
      "model_module_version": "1.5.0",
      "model_name": "ProgressStyleModel",
      "state": {
       "description_width": ""
      }
     },
     "4bcba37954c048b7b06c9b3e2a625350": {
      "model_module": "@jupyter-widgets/base",
      "model_module_version": "1.2.0",
      "model_name": "LayoutModel",
      "state": {}
     },
     "4be0b223a3084111932fcb2b1c9be890": {
      "model_module": "@jupyter-widgets/base",
      "model_module_version": "1.2.0",
      "model_name": "LayoutModel",
      "state": {}
     },
     "4bf8535c47df4cde8b8c1c04e0a91e93": {
      "model_module": "@jupyter-widgets/controls",
      "model_module_version": "1.5.0",
      "model_name": "DescriptionStyleModel",
      "state": {
       "description_width": ""
      }
     },
     "4c3320c9d3704f05b005debda2a421f9": {
      "model_module": "@jupyter-widgets/base",
      "model_module_version": "1.2.0",
      "model_name": "LayoutModel",
      "state": {}
     },
     "4c3fb10a6415436ea7da7bda7b96a1b5": {
      "model_module": "@jupyter-widgets/base",
      "model_module_version": "1.2.0",
      "model_name": "LayoutModel",
      "state": {}
     },
     "4c42d262eb604953a42b7d4f8a44f594": {
      "model_module": "@jupyter-widgets/controls",
      "model_module_version": "1.5.0",
      "model_name": "HTMLModel",
      "state": {
       "layout": "IPY_MODEL_b2ba28865dfc43a09c57443aa77c454c",
       "style": "IPY_MODEL_44a4cc6ab0bd437f803f05dea01536b0",
       "value": "loss: 0.6763: 100%"
      }
     },
     "4c4ebe7d8bbb479ab63f97df01157a0f": {
      "model_module": "@jupyter-widgets/controls",
      "model_module_version": "1.5.0",
      "model_name": "DescriptionStyleModel",
      "state": {
       "description_width": ""
      }
     },
     "4c58797ada084f148a4b9b342715f6d2": {
      "model_module": "@jupyter-widgets/base",
      "model_module_version": "1.2.0",
      "model_name": "LayoutModel",
      "state": {}
     },
     "4c71f2a7dd53471aa1a6cf119a88bf9f": {
      "model_module": "@jupyter-widgets/base",
      "model_module_version": "1.2.0",
      "model_name": "LayoutModel",
      "state": {}
     },
     "4c7abba713da43cb909fd6177a6716a5": {
      "model_module": "@jupyter-widgets/base",
      "model_module_version": "1.2.0",
      "model_name": "LayoutModel",
      "state": {}
     },
     "4c89f64b27fc43c3bd2389e4dc3a7f99": {
      "model_module": "@jupyter-widgets/controls",
      "model_module_version": "1.5.0",
      "model_name": "DescriptionStyleModel",
      "state": {
       "description_width": ""
      }
     },
     "4cc5ed560528482aa86211d5ef74c7f5": {
      "model_module": "@jupyter-widgets/base",
      "model_module_version": "1.2.0",
      "model_name": "LayoutModel",
      "state": {}
     },
     "4cd36a3d4a5246899e4824366a5effb2": {
      "model_module": "@jupyter-widgets/controls",
      "model_module_version": "1.5.0",
      "model_name": "ProgressStyleModel",
      "state": {
       "description_width": ""
      }
     },
     "4d12ed2d3d8c4461b866164504d81868": {
      "model_module": "@jupyter-widgets/base",
      "model_module_version": "1.2.0",
      "model_name": "LayoutModel",
      "state": {}
     },
     "4d1674e33c564e3e8cee5bd7c83b496f": {
      "model_module": "@jupyter-widgets/controls",
      "model_module_version": "1.5.0",
      "model_name": "HTMLModel",
      "state": {
       "layout": "IPY_MODEL_94137c55580f4de7bdec4d8417a584c1",
       "style": "IPY_MODEL_3fd3b51d005545d7b1bc2349cf5cab62",
       "value": "loss: 0.6592: 100%"
      }
     },
     "4d23c395c6e94d9e8b8380cce6006a7b": {
      "model_module": "@jupyter-widgets/controls",
      "model_module_version": "1.5.0",
      "model_name": "HTMLModel",
      "state": {
       "layout": "IPY_MODEL_f9a2c6e20efc4fc584d4b3ccfe4408e1",
       "style": "IPY_MODEL_25b31b201b404b3bad74edfdc744f46c",
       "value": " 1216/1216 [00:52&lt;00:00, 24.20it/s]"
      }
     },
     "4d25ed12a80d448cb3212e5c59691c18": {
      "model_module": "@jupyter-widgets/controls",
      "model_module_version": "1.5.0",
      "model_name": "ProgressStyleModel",
      "state": {
       "description_width": ""
      }
     },
     "4d3af2a34c58431b93e9acdd3de22d88": {
      "model_module": "@jupyter-widgets/base",
      "model_module_version": "1.2.0",
      "model_name": "LayoutModel",
      "state": {}
     },
     "4d5f3d517b664ca680fbba770c5552e4": {
      "model_module": "@jupyter-widgets/controls",
      "model_module_version": "1.5.0",
      "model_name": "DescriptionStyleModel",
      "state": {
       "description_width": ""
      }
     },
     "4d675e107f174c5a944493803a36e7b8": {
      "model_module": "@jupyter-widgets/controls",
      "model_module_version": "1.5.0",
      "model_name": "DescriptionStyleModel",
      "state": {
       "description_width": ""
      }
     },
     "4dc138825afe4afdb11258d3c1297600": {
      "model_module": "@jupyter-widgets/base",
      "model_module_version": "1.2.0",
      "model_name": "LayoutModel",
      "state": {}
     },
     "4dfeb38872594bbd94a5305cf962e7ef": {
      "model_module": "@jupyter-widgets/base",
      "model_module_version": "1.2.0",
      "model_name": "LayoutModel",
      "state": {}
     },
     "4e030b9a00724a8db4b0aa2834eae081": {
      "model_module": "@jupyter-widgets/controls",
      "model_module_version": "1.5.0",
      "model_name": "HTMLModel",
      "state": {
       "layout": "IPY_MODEL_46fdd6dd3a3b45f39efc6920178a17d9",
       "style": "IPY_MODEL_825017b9307446dba6fa4346d444ad33",
       "value": "loss: 0.4930: 100%"
      }
     },
     "4e06dc3fd7004b86a4bd09da5c29a330": {
      "model_module": "@jupyter-widgets/controls",
      "model_module_version": "1.5.0",
      "model_name": "HTMLModel",
      "state": {
       "layout": "IPY_MODEL_d12bd35ead6d4754987075c735e65728",
       "style": "IPY_MODEL_334133d04d2f4c19aef3d80d149c45f8",
       "value": " 1052/1052 [00:49&lt;00:00, 21.35it/s]"
      }
     },
     "4e1be5d3ef194829a57777f9c136f1ba": {
      "model_module": "@jupyter-widgets/base",
      "model_module_version": "1.2.0",
      "model_name": "LayoutModel",
      "state": {}
     },
     "4e291b4c302a4d82afc8d5edae4a5b0e": {
      "model_module": "@jupyter-widgets/controls",
      "model_module_version": "1.5.0",
      "model_name": "DescriptionStyleModel",
      "state": {
       "description_width": ""
      }
     },
     "4e4e089b9bdb49deb940e366ae5220b5": {
      "model_module": "@jupyter-widgets/base",
      "model_module_version": "1.2.0",
      "model_name": "LayoutModel",
      "state": {}
     },
     "4e547337bf57410f89e71630750fe9a6": {
      "model_module": "@jupyter-widgets/controls",
      "model_module_version": "1.5.0",
      "model_name": "ProgressStyleModel",
      "state": {
       "description_width": ""
      }
     },
     "4e637e5c13184d3a8931b5f314c7bcf9": {
      "model_module": "@jupyter-widgets/controls",
      "model_module_version": "1.5.0",
      "model_name": "DescriptionStyleModel",
      "state": {
       "description_width": ""
      }
     },
     "4e6f4844f6f04c2dae7835c144c0bb9d": {
      "model_module": "@jupyter-widgets/base",
      "model_module_version": "1.2.0",
      "model_name": "LayoutModel",
      "state": {}
     },
     "4e8e86452f8a43f69009a2477c7d5786": {
      "model_module": "@jupyter-widgets/base",
      "model_module_version": "1.2.0",
      "model_name": "LayoutModel",
      "state": {}
     },
     "4e8f4b9f1605407690f2a1ed136ea09a": {
      "model_module": "@jupyter-widgets/controls",
      "model_module_version": "1.5.0",
      "model_name": "DescriptionStyleModel",
      "state": {
       "description_width": ""
      }
     },
     "4eb53504d2244c4995ea23ccaef4c129": {
      "model_module": "@jupyter-widgets/controls",
      "model_module_version": "1.5.0",
      "model_name": "DescriptionStyleModel",
      "state": {
       "description_width": ""
      }
     },
     "4ebbd2ad41b448488f334266a650dd0e": {
      "model_module": "@jupyter-widgets/base",
      "model_module_version": "1.2.0",
      "model_name": "LayoutModel",
      "state": {}
     },
     "4ebe8e1945be4e9aa80e14b0c9cc0df5": {
      "model_module": "@jupyter-widgets/controls",
      "model_module_version": "1.5.0",
      "model_name": "HTMLModel",
      "state": {
       "layout": "IPY_MODEL_9e53086914624fa3b8c3ca356440e3a1",
       "style": "IPY_MODEL_92bdddebad154abcaf5ec9e91d035a1c",
       "value": " 353/353 [00:14&lt;00:00, 23.71it/s]"
      }
     },
     "4ee63176e03e48619c9aca02ccc3a769": {
      "model_module": "@jupyter-widgets/controls",
      "model_module_version": "1.5.0",
      "model_name": "HTMLModel",
      "state": {
       "layout": "IPY_MODEL_cc060f27656f4d9a90098b4fea129a2c",
       "style": "IPY_MODEL_d35b5e07637946db900ec2c44da1e9c8",
       "value": "100%"
      }
     },
     "4f22338767b840bc806657ad3f3e3041": {
      "model_module": "@jupyter-widgets/controls",
      "model_module_version": "1.5.0",
      "model_name": "HTMLModel",
      "state": {
       "layout": "IPY_MODEL_c440928d70aa44b0a298858de39be484",
       "style": "IPY_MODEL_e05aefc952ee4377bdef402feb401929",
       "value": "loss: 0.6136: 100%"
      }
     },
     "4f3906ea7cfd41e69c5f613974629691": {
      "model_module": "@jupyter-widgets/controls",
      "model_module_version": "1.5.0",
      "model_name": "DescriptionStyleModel",
      "state": {
       "description_width": ""
      }
     },
     "4f68f1c716cf45edb1a749dcd66e4709": {
      "model_module": "@jupyter-widgets/controls",
      "model_module_version": "1.5.0",
      "model_name": "HTMLModel",
      "state": {
       "layout": "IPY_MODEL_c97056d62f75415eb640b96f9abd86cf",
       "style": "IPY_MODEL_e10f8b4d594e4c41be1c5b8c83b424c2",
       "value": "100%"
      }
     },
     "4f6ee720225c4bcd934d96e6386ea830": {
      "model_module": "@jupyter-widgets/base",
      "model_module_version": "1.2.0",
      "model_name": "LayoutModel",
      "state": {}
     },
     "4f70148b7b714d46b976d04a3af1b0b6": {
      "model_module": "@jupyter-widgets/controls",
      "model_module_version": "1.5.0",
      "model_name": "DescriptionStyleModel",
      "state": {
       "description_width": ""
      }
     },
     "4f7d3e1866ea4af693a2d275a9e3755e": {
      "model_module": "@jupyter-widgets/base",
      "model_module_version": "1.2.0",
      "model_name": "LayoutModel",
      "state": {}
     },
     "4f80482586344df9876b8306edc709c2": {
      "model_module": "@jupyter-widgets/base",
      "model_module_version": "1.2.0",
      "model_name": "LayoutModel",
      "state": {}
     },
     "4f86c6ea9f6e446f99de67d996949089": {
      "model_module": "@jupyter-widgets/controls",
      "model_module_version": "1.5.0",
      "model_name": "FloatProgressModel",
      "state": {
       "layout": "IPY_MODEL_8db632dcda874eeab625abf755ee8cac",
       "max": 323,
       "style": "IPY_MODEL_0fabc8ca65b94dbf87c9b3d6b00a60cc",
       "value": 323
      }
     },
     "4fb48e45db8d43409bb1bc2f1a215830": {
      "model_module": "@jupyter-widgets/controls",
      "model_module_version": "1.5.0",
      "model_name": "FloatProgressModel",
      "state": {
       "layout": "IPY_MODEL_1906e12e98244ff48b62c5ffb139f669",
       "max": 1037,
       "style": "IPY_MODEL_6d7672b2aff94e8c95bd31c1a8e817af",
       "value": 1037
      }
     },
     "4fb8875a2e4c49c2a1ec3db144675d67": {
      "model_module": "@jupyter-widgets/base",
      "model_module_version": "1.2.0",
      "model_name": "LayoutModel",
      "state": {}
     },
     "4ff42e28f813426285204f98b83daa7c": {
      "model_module": "@jupyter-widgets/base",
      "model_module_version": "1.2.0",
      "model_name": "LayoutModel",
      "state": {}
     },
     "503db732b7c444df9ff344e74ec26c82": {
      "model_module": "@jupyter-widgets/controls",
      "model_module_version": "1.5.0",
      "model_name": "HTMLModel",
      "state": {
       "layout": "IPY_MODEL_9ce2aa11fb8c451589fce86198d4831b",
       "style": "IPY_MODEL_fcec374402dd43a2b8692ed2a6218122",
       "value": " 1261/1261 [00:53&lt;00:00, 23.44it/s]"
      }
     },
     "505bd93681b3441daa7ce2d22c00c196": {
      "model_module": "@jupyter-widgets/base",
      "model_module_version": "1.2.0",
      "model_name": "LayoutModel",
      "state": {}
     },
     "50b546ed04a845f99f4ebcd6519d10bf": {
      "model_module": "@jupyter-widgets/controls",
      "model_module_version": "1.5.0",
      "model_name": "ProgressStyleModel",
      "state": {
       "description_width": ""
      }
     },
     "50b9e405b2de46228b680f82c59b327e": {
      "model_module": "@jupyter-widgets/controls",
      "model_module_version": "1.5.0",
      "model_name": "HTMLModel",
      "state": {
       "layout": "IPY_MODEL_c685674db6dc493aa2c1a82c418c6ab8",
       "style": "IPY_MODEL_3dc880c9782f428e8f06beba33882e0e",
       "value": " 1085/1085 [00:43&lt;00:00, 24.84it/s]"
      }
     },
     "50bcc1fc6b704e02b2fda3d2ab52f8e5": {
      "model_module": "@jupyter-widgets/base",
      "model_module_version": "1.2.0",
      "model_name": "LayoutModel",
      "state": {}
     },
     "50fca918f33e44bcb560d1db02d586e8": {
      "model_module": "@jupyter-widgets/controls",
      "model_module_version": "1.5.0",
      "model_name": "ProgressStyleModel",
      "state": {
       "description_width": ""
      }
     },
     "510c6fac2d64476e81bebcb384c973f8": {
      "model_module": "@jupyter-widgets/controls",
      "model_module_version": "1.5.0",
      "model_name": "HTMLModel",
      "state": {
       "layout": "IPY_MODEL_1264af2cbddc48dcb1ce95158fd388a1",
       "style": "IPY_MODEL_4c89f64b27fc43c3bd2389e4dc3a7f99",
       "value": " 1149/1149 [00:54&lt;00:00, 21.37it/s]"
      }
     },
     "511d369881b549a9b183df988c9c30cb": {
      "model_module": "@jupyter-widgets/base",
      "model_module_version": "1.2.0",
      "model_name": "LayoutModel",
      "state": {}
     },
     "5127fa30beb44bb68bcc3c4b98a29316": {
      "model_module": "@jupyter-widgets/controls",
      "model_module_version": "1.5.0",
      "model_name": "DescriptionStyleModel",
      "state": {
       "description_width": ""
      }
     },
     "513807b6f8d14c73ae65c784feb59a2f": {
      "model_module": "@jupyter-widgets/controls",
      "model_module_version": "1.5.0",
      "model_name": "HTMLModel",
      "state": {
       "layout": "IPY_MODEL_931f29a8442f4943a062c5a2d59f819c",
       "style": "IPY_MODEL_8e5e9b6c365c42ff8e3662a1dbd94b58",
       "value": "100%"
      }
     },
     "51695ec05cd240af8842f50c38c6b1b7": {
      "model_module": "@jupyter-widgets/controls",
      "model_module_version": "1.5.0",
      "model_name": "DescriptionStyleModel",
      "state": {
       "description_width": ""
      }
     },
     "516a9d93651c4730b58c062d7ed502a1": {
      "model_module": "@jupyter-widgets/controls",
      "model_module_version": "1.5.0",
      "model_name": "FloatProgressModel",
      "state": {
       "layout": "IPY_MODEL_787b51ae4aea4f11986bc8f357b80f79",
       "max": 1229,
       "style": "IPY_MODEL_0c59a402cad04c2fb20299724657b1e7",
       "value": 1229
      }
     },
     "5173bab9972c41e096955bf47234b108": {
      "model_module": "@jupyter-widgets/base",
      "model_module_version": "1.2.0",
      "model_name": "LayoutModel",
      "state": {}
     },
     "51956465e429493e868e799199f1f0dd": {
      "model_module": "@jupyter-widgets/controls",
      "model_module_version": "1.5.0",
      "model_name": "DescriptionStyleModel",
      "state": {
       "description_width": ""
      }
     },
     "51ce595fe3774c45937dd5ef94c23e00": {
      "model_module": "@jupyter-widgets/controls",
      "model_module_version": "1.5.0",
      "model_name": "FloatProgressModel",
      "state": {
       "layout": "IPY_MODEL_c933d7b2a02d47ce92e0cda3f6c3587d",
       "max": 1628,
       "style": "IPY_MODEL_a82f2d4f64d348529383a18f95e4f939",
       "value": 1628
      }
     },
     "51d9e723ea374fe28548d8fdb88e3e31": {
      "model_module": "@jupyter-widgets/controls",
      "model_module_version": "1.5.0",
      "model_name": "HTMLModel",
      "state": {
       "layout": "IPY_MODEL_d3a40f6e1be64ba696dc4603a6e2f07a",
       "style": "IPY_MODEL_ebf2b0a3945c4b339e99ea2c97749e41",
       "value": " 1261/1261 [00:52&lt;00:00, 25.33it/s]"
      }
     },
     "51e89b8bd6a84e2ca00e5a6d4c7e89d5": {
      "model_module": "@jupyter-widgets/controls",
      "model_module_version": "1.5.0",
      "model_name": "DescriptionStyleModel",
      "state": {
       "description_width": ""
      }
     },
     "51fc6d7c541d4feda9610265e53a1730": {
      "model_module": "@jupyter-widgets/controls",
      "model_module_version": "1.5.0",
      "model_name": "ProgressStyleModel",
      "state": {
       "description_width": ""
      }
     },
     "521c5fed790b4c6faaafd171b171f7c8": {
      "model_module": "@jupyter-widgets/base",
      "model_module_version": "1.2.0",
      "model_name": "LayoutModel",
      "state": {}
     },
     "526120bc38944977acb20e2c7f392bf6": {
      "model_module": "@jupyter-widgets/controls",
      "model_module_version": "1.5.0",
      "model_name": "FloatProgressModel",
      "state": {
       "layout": "IPY_MODEL_38679811d1c14ebeb61f53cdd6fd3b89",
       "max": 1084,
       "style": "IPY_MODEL_5a23e62f6889423d93929f32cf88e8eb",
       "value": 1084
      }
     },
     "526fde73d86340ad9a2816e2298b4863": {
      "model_module": "@jupyter-widgets/controls",
      "model_module_version": "1.5.0",
      "model_name": "HTMLModel",
      "state": {
       "layout": "IPY_MODEL_4ebbd2ad41b448488f334266a650dd0e",
       "style": "IPY_MODEL_3337eb66ab3b41469e3bacccd7feb600",
       "value": "loss: 0.8324: 100%"
      }
     },
     "52d00f03bf1a4e2ebced871a179f469a": {
      "model_module": "@jupyter-widgets/controls",
      "model_module_version": "1.5.0",
      "model_name": "FloatProgressModel",
      "state": {
       "layout": "IPY_MODEL_83d37c4423724d038943e36b53388d6a",
       "max": 1247,
       "style": "IPY_MODEL_bc8ae843c009466a92a863ff73648266",
       "value": 1247
      }
     },
     "52d1ebc1d9a84aceaadf66893791067e": {
      "model_module": "@jupyter-widgets/controls",
      "model_module_version": "1.5.0",
      "model_name": "FloatProgressModel",
      "state": {
       "layout": "IPY_MODEL_f30de9e559a14233becd8427ce4ce99f",
       "max": 929,
       "style": "IPY_MODEL_df4f49151eff4b6e94a1ac5ae2252b0e",
       "value": 929
      }
     },
     "52ee99cafe9a41988e7c20611fed7765": {
      "model_module": "@jupyter-widgets/controls",
      "model_module_version": "1.5.0",
      "model_name": "ProgressStyleModel",
      "state": {
       "description_width": ""
      }
     },
     "52f6c7cfbc0448fab785150a10c845de": {
      "model_module": "@jupyter-widgets/base",
      "model_module_version": "1.2.0",
      "model_name": "LayoutModel",
      "state": {}
     },
     "5308c9de2c3e423e8347328d1e9e00b4": {
      "model_module": "@jupyter-widgets/base",
      "model_module_version": "1.2.0",
      "model_name": "LayoutModel",
      "state": {}
     },
     "53145aadaed2427ea34f497a4d5ca276": {
      "model_module": "@jupyter-widgets/controls",
      "model_module_version": "1.5.0",
      "model_name": "HTMLModel",
      "state": {
       "layout": "IPY_MODEL_594ae6cd8faa4ba9b2593e4a05025cce",
       "style": "IPY_MODEL_8721706c01954b71aefe69d22ff43462",
       "value": " 993/993 [00:47&lt;00:00, 21.73it/s]"
      }
     },
     "536fcb8f6d1f477ba5b2bf92e6257753": {
      "model_module": "@jupyter-widgets/controls",
      "model_module_version": "1.5.0",
      "model_name": "DescriptionStyleModel",
      "state": {
       "description_width": ""
      }
     },
     "53966026c5224fc2a2d6f1a2dcb86d99": {
      "model_module": "@jupyter-widgets/base",
      "model_module_version": "1.2.0",
      "model_name": "LayoutModel",
      "state": {}
     },
     "53ca03a196924dae8e67adae128c7abe": {
      "model_module": "@jupyter-widgets/base",
      "model_module_version": "1.2.0",
      "model_name": "LayoutModel",
      "state": {}
     },
     "53e316f322154e1a96105d4cee9ec00e": {
      "model_module": "@jupyter-widgets/controls",
      "model_module_version": "1.5.0",
      "model_name": "DescriptionStyleModel",
      "state": {
       "description_width": ""
      }
     },
     "53ffa0c415074691ae01f8975341ae05": {
      "model_module": "@jupyter-widgets/base",
      "model_module_version": "1.2.0",
      "model_name": "LayoutModel",
      "state": {}
     },
     "54061994fdec40fa88f07ffca7206153": {
      "model_module": "@jupyter-widgets/controls",
      "model_module_version": "1.5.0",
      "model_name": "ProgressStyleModel",
      "state": {
       "description_width": ""
      }
     },
     "541184905a724689830c0de0e2c0f5b0": {
      "model_module": "@jupyter-widgets/base",
      "model_module_version": "1.2.0",
      "model_name": "LayoutModel",
      "state": {}
     },
     "541509d9818c44cf969e75764b6b375f": {
      "model_module": "@jupyter-widgets/controls",
      "model_module_version": "1.5.0",
      "model_name": "HTMLModel",
      "state": {
       "layout": "IPY_MODEL_ed6ad42ced074e78810e8e463fe11eeb",
       "style": "IPY_MODEL_51956465e429493e868e799199f1f0dd",
       "value": " 1052/1052 [00:48&lt;00:00, 21.82it/s]"
      }
     },
     "5418c05d862d46f5be8a7728b42ad4ca": {
      "model_module": "@jupyter-widgets/controls",
      "model_module_version": "1.5.0",
      "model_name": "HTMLModel",
      "state": {
       "layout": "IPY_MODEL_a11713638ed5485293d9f07db71f9c3e",
       "style": "IPY_MODEL_d60eefb89fa94098ab8dfae22a23a8b6",
       "value": " 231/231 [00:09&lt;00:00, 24.39it/s]"
      }
     },
     "543ad245a0d94c5288d23c422c343a80": {
      "model_module": "@jupyter-widgets/base",
      "model_module_version": "1.2.0",
      "model_name": "LayoutModel",
      "state": {}
     },
     "544f221af55e4148ab750e4b61d3163f": {
      "model_module": "@jupyter-widgets/controls",
      "model_module_version": "1.5.0",
      "model_name": "HTMLModel",
      "state": {
       "layout": "IPY_MODEL_5655022ef18149e7be371dc506c34a04",
       "style": "IPY_MODEL_48250a92ac7d4707b0bc86e9a482c1ea",
       "value": "100%"
      }
     },
     "54944c77872747fea50fef4c6823c0cb": {
      "model_module": "@jupyter-widgets/base",
      "model_module_version": "1.2.0",
      "model_name": "LayoutModel",
      "state": {}
     },
     "54a1fb9cd1584808ad5d55cfd7889329": {
      "model_module": "@jupyter-widgets/controls",
      "model_module_version": "1.5.0",
      "model_name": "DescriptionStyleModel",
      "state": {
       "description_width": ""
      }
     },
     "54afe3928db14667a66d1eeacb99485d": {
      "model_module": "@jupyter-widgets/controls",
      "model_module_version": "1.5.0",
      "model_name": "DescriptionStyleModel",
      "state": {
       "description_width": ""
      }
     },
     "54cd4c00722343289744b3759cd6f2c7": {
      "model_module": "@jupyter-widgets/base",
      "model_module_version": "1.2.0",
      "model_name": "LayoutModel",
      "state": {}
     },
     "55031fb88a79439c86ecf1deeaa6c84e": {
      "model_module": "@jupyter-widgets/controls",
      "model_module_version": "1.5.0",
      "model_name": "FloatProgressModel",
      "state": {
       "layout": "IPY_MODEL_d0d7e95361264a2ba36b1bf931515c01",
       "max": 1067,
       "style": "IPY_MODEL_dd461196b0384a02a3ff6f9f06c20280",
       "value": 1067
      }
     },
     "552ed72feeee4671811b7488f68645cb": {
      "model_module": "@jupyter-widgets/controls",
      "model_module_version": "1.5.0",
      "model_name": "FloatProgressModel",
      "state": {
       "layout": "IPY_MODEL_7703532156904240bc464bd270659ef8",
       "max": 229,
       "style": "IPY_MODEL_917a6e7d6da341c894ece01673bbb297",
       "value": 229
      }
     },
     "559eefe648d1412aa9a7d59f9b726cfd": {
      "model_module": "@jupyter-widgets/controls",
      "model_module_version": "1.5.0",
      "model_name": "DescriptionStyleModel",
      "state": {
       "description_width": ""
      }
     },
     "55a3d80f51c24aa482bfb662e420511a": {
      "model_module": "@jupyter-widgets/base",
      "model_module_version": "1.2.0",
      "model_name": "LayoutModel",
      "state": {}
     },
     "55a7ced8376f4e0aafc43087eb691a06": {
      "model_module": "@jupyter-widgets/controls",
      "model_module_version": "1.5.0",
      "model_name": "HTMLModel",
      "state": {
       "layout": "IPY_MODEL_854469fadb78426b9473043f72df8cc9",
       "style": "IPY_MODEL_d57c461abe884543a54d485fc64a9ec1",
       "value": " 1218/1218 [00:54&lt;00:00, 22.68it/s]"
      }
     },
     "55ced458661b44fdabe3ff5bfcc6b3a0": {
      "model_module": "@jupyter-widgets/controls",
      "model_module_version": "1.5.0",
      "model_name": "DescriptionStyleModel",
      "state": {
       "description_width": ""
      }
     },
     "55dd27ca4f8b4a698e0ed13e88ebb0b4": {
      "model_module": "@jupyter-widgets/controls",
      "model_module_version": "1.5.0",
      "model_name": "FloatProgressModel",
      "state": {
       "layout": "IPY_MODEL_493ad2cce2654878a846652aeb85a220",
       "max": 1115,
       "style": "IPY_MODEL_0114c4bb039b45f3b80c0906f0ace54a",
       "value": 1115
      }
     },
     "55dec3a3feb0418a85abd971dee9ae21": {
      "model_module": "@jupyter-widgets/base",
      "model_module_version": "1.2.0",
      "model_name": "LayoutModel",
      "state": {}
     },
     "55fffe0d0acb401694584f71cc416df6": {
      "model_module": "@jupyter-widgets/controls",
      "model_module_version": "1.5.0",
      "model_name": "HTMLModel",
      "state": {
       "layout": "IPY_MODEL_9f43e6818d4244ad8febcaba946489b7",
       "style": "IPY_MODEL_43ce6800eb8442efa701c15aa577c3e0",
       "value": " 1024/1024 [00:42&lt;00:00, 24.46it/s]"
      }
     },
     "5604383e37694748bad142391c378f6f": {
      "model_module": "@jupyter-widgets/controls",
      "model_module_version": "1.5.0",
      "model_name": "FloatProgressModel",
      "state": {
       "layout": "IPY_MODEL_823b866ac43c4265aac230c93e6b2c3d",
       "max": 1247,
       "style": "IPY_MODEL_186d523d49a0496dbd288745b9506194",
       "value": 1247
      }
     },
     "5616c015080e437990ad50c4d535c67c": {
      "model_module": "@jupyter-widgets/base",
      "model_module_version": "1.2.0",
      "model_name": "LayoutModel",
      "state": {}
     },
     "56218262f6be4e1eb438bb1cc1874dba": {
      "model_module": "@jupyter-widgets/controls",
      "model_module_version": "1.5.0",
      "model_name": "HTMLModel",
      "state": {
       "layout": "IPY_MODEL_b0f8edda26c246c590cd20fa01b6770c",
       "style": "IPY_MODEL_a75d59d8e73d44d0bdde16327f4d18b0",
       "value": " 1628/1628 [01:16&lt;00:00, 21.17it/s]"
      }
     },
     "5637c4d1f2e048c18b3662db66c57fe0": {
      "model_module": "@jupyter-widgets/controls",
      "model_module_version": "1.5.0",
      "model_name": "FloatProgressModel",
      "state": {
       "layout": "IPY_MODEL_284f94a1cd5d46c3b2c27fd69c112ffd",
       "max": 1024,
       "style": "IPY_MODEL_6088c0c702394f868a34b52909a18155",
       "value": 1024
      }
     },
     "564cb597761843ae8373f62c42674019": {
      "model_module": "@jupyter-widgets/base",
      "model_module_version": "1.2.0",
      "model_name": "LayoutModel",
      "state": {}
     },
     "5655022ef18149e7be371dc506c34a04": {
      "model_module": "@jupyter-widgets/base",
      "model_module_version": "1.2.0",
      "model_name": "LayoutModel",
      "state": {}
     },
     "565a2975438a4d6fafa39c4cccf3bb81": {
      "model_module": "@jupyter-widgets/controls",
      "model_module_version": "1.5.0",
      "model_name": "ProgressStyleModel",
      "state": {
       "description_width": ""
      }
     },
     "56679e085f3742619273cb87b1012713": {
      "model_module": "@jupyter-widgets/controls",
      "model_module_version": "1.5.0",
      "model_name": "DescriptionStyleModel",
      "state": {
       "description_width": ""
      }
     },
     "568a958cf4e140858e33e2f7ca32b7f7": {
      "model_module": "@jupyter-widgets/base",
      "model_module_version": "1.2.0",
      "model_name": "LayoutModel",
      "state": {}
     },
     "56c05e315bc04911b7850a560641df2f": {
      "model_module": "@jupyter-widgets/base",
      "model_module_version": "1.2.0",
      "model_name": "LayoutModel",
      "state": {}
     },
     "56dbc0b4174c40d2ad4820d33df720c1": {
      "model_module": "@jupyter-widgets/controls",
      "model_module_version": "1.5.0",
      "model_name": "DescriptionStyleModel",
      "state": {
       "description_width": ""
      }
     },
     "570c82fbbe23496d966793472bd12689": {
      "model_module": "@jupyter-widgets/controls",
      "model_module_version": "1.5.0",
      "model_name": "FloatProgressModel",
      "state": {
       "layout": "IPY_MODEL_d4ae4cc5446744e2a3a994c14079d63c",
       "max": 1428,
       "style": "IPY_MODEL_b341385fb0b646aeaa9b1bafbca6cad8",
       "value": 1428
      }
     },
     "571e234511864b2fa8d7a03d1c1fc168": {
      "model_module": "@jupyter-widgets/base",
      "model_module_version": "1.2.0",
      "model_name": "LayoutModel",
      "state": {}
     },
     "573ffcc1afd844649ba49bdbfed16a14": {
      "model_module": "@jupyter-widgets/base",
      "model_module_version": "1.2.0",
      "model_name": "LayoutModel",
      "state": {}
     },
     "57412eb526654be299dc0df4f3abdbcd": {
      "model_module": "@jupyter-widgets/controls",
      "model_module_version": "1.5.0",
      "model_name": "DescriptionStyleModel",
      "state": {
       "description_width": ""
      }
     },
     "575928de1e874490bd6e3e45d60b20c4": {
      "model_module": "@jupyter-widgets/base",
      "model_module_version": "1.2.0",
      "model_name": "LayoutModel",
      "state": {}
     },
     "5777d89de5094a7fb7f654b69a42d8d3": {
      "model_module": "@jupyter-widgets/controls",
      "model_module_version": "1.5.0",
      "model_name": "HTMLModel",
      "state": {
       "layout": "IPY_MODEL_bbb0d184efc84d38bfea3eae02474ec5",
       "style": "IPY_MODEL_3d6f5472adaa4a2e9be4e3051da6370e",
       "value": " 342/342 [00:15&lt;00:00, 20.86it/s]"
      }
     },
     "578b5ad5fda6449c9172e0dfeaa155f5": {
      "model_module": "@jupyter-widgets/base",
      "model_module_version": "1.2.0",
      "model_name": "LayoutModel",
      "state": {}
     },
     "5791ea4eb8b241ad88f3f060baf00787": {
      "model_module": "@jupyter-widgets/base",
      "model_module_version": "1.2.0",
      "model_name": "LayoutModel",
      "state": {}
     },
     "5797eef9d3de477e97d6d51cea8bba1c": {
      "model_module": "@jupyter-widgets/base",
      "model_module_version": "1.2.0",
      "model_name": "LayoutModel",
      "state": {}
     },
     "57a8dbeb06f444d587b3c011b3d7823a": {
      "model_module": "@jupyter-widgets/controls",
      "model_module_version": "1.5.0",
      "model_name": "DescriptionStyleModel",
      "state": {
       "description_width": ""
      }
     },
     "57bc017cf6f548eeb397480fde37e097": {
      "model_module": "@jupyter-widgets/controls",
      "model_module_version": "1.5.0",
      "model_name": "HTMLModel",
      "state": {
       "layout": "IPY_MODEL_41ffd07902114902975f9f5cfb793dc2",
       "style": "IPY_MODEL_b9a7b5c04ae147b69558e6999d75f3dd",
       "value": " 1228/1228 [00:58&lt;00:00, 22.51it/s]"
      }
     },
     "57e7a7d810824330943187025dc5afa5": {
      "model_module": "@jupyter-widgets/controls",
      "model_module_version": "1.5.0",
      "model_name": "FloatProgressModel",
      "state": {
       "layout": "IPY_MODEL_a933a1812b504ab5a1c10979de5675cd",
       "max": 1166,
       "style": "IPY_MODEL_afe510492e00401085bcc3a814627cd7",
       "value": 1166
      }
     },
     "57fc43c7ec024cf4af758de17cebb7a6": {
      "model_module": "@jupyter-widgets/base",
      "model_module_version": "1.2.0",
      "model_name": "LayoutModel",
      "state": {}
     },
     "57ff9aa65ba94d74ab550b80c778bb0f": {
      "model_module": "@jupyter-widgets/controls",
      "model_module_version": "1.5.0",
      "model_name": "HTMLModel",
      "state": {
       "layout": "IPY_MODEL_e31e807623d0447b9878835414c20426",
       "style": "IPY_MODEL_3047c4474b0d475ba964d6b837786f94",
       "value": " 929/929 [00:40&lt;00:00, 23.30it/s]"
      }
     },
     "5801be607427432a878bbd756226203a": {
      "model_module": "@jupyter-widgets/controls",
      "model_module_version": "1.5.0",
      "model_name": "HTMLModel",
      "state": {
       "layout": "IPY_MODEL_0dcd46c262004d0a83331fb37c99dd3f",
       "style": "IPY_MODEL_2e6c9055a9984b539ce837366dbf7f73",
       "value": "loss: 0.6480: 100%"
      }
     },
     "581fdbe0c3e6408497f2e30fc7e655e5": {
      "model_module": "@jupyter-widgets/controls",
      "model_module_version": "1.5.0",
      "model_name": "FloatProgressModel",
      "state": {
       "layout": "IPY_MODEL_fae1703a6292486c81f7e9e6fe810604",
       "max": 1166,
       "style": "IPY_MODEL_9da1b0a90f674502a6f5889c11482e15",
       "value": 1166
      }
     },
     "58265c516e6445118cbaa42d210aa97d": {
      "model_module": "@jupyter-widgets/controls",
      "model_module_version": "1.5.0",
      "model_name": "HTMLModel",
      "state": {
       "layout": "IPY_MODEL_11ae1da0a58d4c228d7571bee7a55a1e",
       "style": "IPY_MODEL_8746bde9e22c4e72b9244d662646a37d",
       "value": " 217/217 [00:08&lt;00:00, 24.59it/s]"
      }
     },
     "58516696700d4992b2fbfb0c4092f426": {
      "model_module": "@jupyter-widgets/controls",
      "model_module_version": "1.5.0",
      "model_name": "HTMLModel",
      "state": {
       "layout": "IPY_MODEL_d784f61db7564b5fb4d744e15b22769e",
       "style": "IPY_MODEL_19831547c73c49d1a237d14ab1da454a",
       "value": "loss: 0.6593: 100%"
      }
     },
     "58678ebf825145208542f60a489c413d": {
      "model_module": "@jupyter-widgets/controls",
      "model_module_version": "1.5.0",
      "model_name": "DescriptionStyleModel",
      "state": {
       "description_width": ""
      }
     },
     "58d03b115058460788da1dc87e0de3be": {
      "model_module": "@jupyter-widgets/controls",
      "model_module_version": "1.5.0",
      "model_name": "HTMLModel",
      "state": {
       "layout": "IPY_MODEL_6a51286124c848dc91947b18466bcd50",
       "style": "IPY_MODEL_fdfec0e5a5334f1ea0fa86ca1b66bf9b",
       "value": " 1247/1247 [00:53&lt;00:00, 23.41it/s]"
      }
     },
     "58ea4e1cf0ea495281609539e48ec447": {
      "model_module": "@jupyter-widgets/base",
      "model_module_version": "1.2.0",
      "model_name": "LayoutModel",
      "state": {}
     },
     "58f217f78b03417cb22a74309957a6f2": {
      "model_module": "@jupyter-widgets/base",
      "model_module_version": "1.2.0",
      "model_name": "LayoutModel",
      "state": {}
     },
     "591752be21ad423083d0cce37ecd5e16": {
      "model_module": "@jupyter-widgets/controls",
      "model_module_version": "1.5.0",
      "model_name": "FloatProgressModel",
      "state": {
       "layout": "IPY_MODEL_b65193715b93458f94b6dd4ece226517",
       "max": 1428,
       "style": "IPY_MODEL_32969859d9894a8187e15570d9dda0cb",
       "value": 1428
      }
     },
     "591dca3596734f60950084714e6ad45a": {
      "model_module": "@jupyter-widgets/controls",
      "model_module_version": "1.5.0",
      "model_name": "HTMLModel",
      "state": {
       "layout": "IPY_MODEL_0dd10ac2c58a495cae14e7a35a0498e6",
       "style": "IPY_MODEL_c713b3a137fe4eab918721122149367b",
       "value": "loss: 0.6765: 100%"
      }
     },
     "592afca6274045e5937145c15cbaadfb": {
      "model_module": "@jupyter-widgets/controls",
      "model_module_version": "1.5.0",
      "model_name": "DescriptionStyleModel",
      "state": {
       "description_width": ""
      }
     },
     "594ae6cd8faa4ba9b2593e4a05025cce": {
      "model_module": "@jupyter-widgets/base",
      "model_module_version": "1.2.0",
      "model_name": "LayoutModel",
      "state": {}
     },
     "595af9b2cd204d8da28599375250581c": {
      "model_module": "@jupyter-widgets/controls",
      "model_module_version": "1.5.0",
      "model_name": "HTMLModel",
      "state": {
       "layout": "IPY_MODEL_4f7d3e1866ea4af693a2d275a9e3755e",
       "style": "IPY_MODEL_5e86bbde863c4674a75c7ead06e23652",
       "value": "loss: 0.5906: 100%"
      }
     },
     "5960fbb5e2df4f1488bbb143cc027996": {
      "model_module": "@jupyter-widgets/controls",
      "model_module_version": "1.5.0",
      "model_name": "HTMLModel",
      "state": {
       "layout": "IPY_MODEL_3f1621918a4f46a19941650716792f37",
       "style": "IPY_MODEL_caa525a1611d4f93a96e68ebec0110db",
       "value": " 1217/1217 [00:54&lt;00:00, 22.15it/s]"
      }
     },
     "59b188698b87470da27a79aed6453d8f": {
      "model_module": "@jupyter-widgets/base",
      "model_module_version": "1.2.0",
      "model_name": "LayoutModel",
      "state": {}
     },
     "59b36003391e48caabcd4e59ab578498": {
      "model_module": "@jupyter-widgets/controls",
      "model_module_version": "1.5.0",
      "model_name": "ProgressStyleModel",
      "state": {
       "description_width": ""
      }
     },
     "59dcd2b29d8941e0aa210f0bff11eb2a": {
      "model_module": "@jupyter-widgets/controls",
      "model_module_version": "1.5.0",
      "model_name": "HTMLModel",
      "state": {
       "layout": "IPY_MODEL_e14e15b1f1f9416bb52649f5711f6cf4",
       "style": "IPY_MODEL_5b844044e84f4516a3b27778add1b256",
       "value": " 1229/1229 [00:57&lt;00:00, 21.49it/s]"
      }
     },
     "5a0caa154c984cbbaf8834c4515bdf69": {
      "model_module": "@jupyter-widgets/controls",
      "model_module_version": "1.5.0",
      "model_name": "DescriptionStyleModel",
      "state": {
       "description_width": ""
      }
     },
     "5a103408494a4bc480a8e2b74785c7c1": {
      "model_module": "@jupyter-widgets/base",
      "model_module_version": "1.2.0",
      "model_name": "LayoutModel",
      "state": {}
     },
     "5a1b3a47894a4446b1138b6f0b5f5d1d": {
      "model_module": "@jupyter-widgets/controls",
      "model_module_version": "1.5.0",
      "model_name": "DescriptionStyleModel",
      "state": {
       "description_width": ""
      }
     },
     "5a23e62f6889423d93929f32cf88e8eb": {
      "model_module": "@jupyter-widgets/controls",
      "model_module_version": "1.5.0",
      "model_name": "ProgressStyleModel",
      "state": {
       "description_width": ""
      }
     },
     "5a2bddc3be9e429aa0b3778d39f504f3": {
      "model_module": "@jupyter-widgets/base",
      "model_module_version": "1.2.0",
      "model_name": "LayoutModel",
      "state": {}
     },
     "5ad7f08a966042afb58e48c306898007": {
      "model_module": "@jupyter-widgets/controls",
      "model_module_version": "1.5.0",
      "model_name": "DescriptionStyleModel",
      "state": {
       "description_width": ""
      }
     },
     "5b2d63e1acce4c37b5303cf147b24495": {
      "model_module": "@jupyter-widgets/base",
      "model_module_version": "1.2.0",
      "model_name": "LayoutModel",
      "state": {}
     },
     "5b35b7feffec413b9700626d358c888d": {
      "model_module": "@jupyter-widgets/controls",
      "model_module_version": "1.5.0",
      "model_name": "DescriptionStyleModel",
      "state": {
       "description_width": ""
      }
     },
     "5b5b7797dd2f4d54aef583478b60bd9d": {
      "model_module": "@jupyter-widgets/controls",
      "model_module_version": "1.5.0",
      "model_name": "ProgressStyleModel",
      "state": {
       "description_width": ""
      }
     },
     "5b844044e84f4516a3b27778add1b256": {
      "model_module": "@jupyter-widgets/controls",
      "model_module_version": "1.5.0",
      "model_name": "DescriptionStyleModel",
      "state": {
       "description_width": ""
      }
     },
     "5bab911ae28a4d6ebaec306c82156eda": {
      "model_module": "@jupyter-widgets/base",
      "model_module_version": "1.2.0",
      "model_name": "LayoutModel",
      "state": {}
     },
     "5bb3d2c813734f2591cf0e8999ddeefc": {
      "model_module": "@jupyter-widgets/controls",
      "model_module_version": "1.5.0",
      "model_name": "HTMLModel",
      "state": {
       "layout": "IPY_MODEL_4c7abba713da43cb909fd6177a6716a5",
       "style": "IPY_MODEL_425cbaeec8cb4e0b8cbc43d650bab56b",
       "value": " 1228/1228 [00:51&lt;00:00, 25.45it/s]"
      }
     },
     "5bc54a91367d4188a159eee509436d37": {
      "model_module": "@jupyter-widgets/controls",
      "model_module_version": "1.5.0",
      "model_name": "HTMLModel",
      "state": {
       "layout": "IPY_MODEL_1bc8465455a74d5f818f61eefbf651d0",
       "style": "IPY_MODEL_e23423e9f0ee492f94fc8aa76665741c",
       "value": "100%"
      }
     },
     "5c0ecf8aee7c45d4b901cce5420980e9": {
      "model_module": "@jupyter-widgets/controls",
      "model_module_version": "1.5.0",
      "model_name": "ProgressStyleModel",
      "state": {
       "description_width": ""
      }
     },
     "5c2001f9736145f799160734ce015ae0": {
      "model_module": "@jupyter-widgets/base",
      "model_module_version": "1.2.0",
      "model_name": "LayoutModel",
      "state": {}
     },
     "5c33f9869997478aabbbd241ddddea17": {
      "model_module": "@jupyter-widgets/base",
      "model_module_version": "1.2.0",
      "model_name": "LayoutModel",
      "state": {}
     },
     "5c41693dd098423f81f9cc7f5c0e6dbc": {
      "model_module": "@jupyter-widgets/controls",
      "model_module_version": "1.5.0",
      "model_name": "HTMLModel",
      "state": {
       "layout": "IPY_MODEL_02b6e4f4298344918cac3823f9dc343d",
       "style": "IPY_MODEL_27e388ee21614d08958cb709e6a9ac17",
       "value": "100%"
      }
     },
     "5c41bf715d3b48f0bdefe939f739919f": {
      "model_module": "@jupyter-widgets/base",
      "model_module_version": "1.2.0",
      "model_name": "LayoutModel",
      "state": {}
     },
     "5c516259caf24321acfd617aea2774f5": {
      "model_module": "@jupyter-widgets/controls",
      "model_module_version": "1.5.0",
      "model_name": "FloatProgressModel",
      "state": {
       "layout": "IPY_MODEL_dbded95d013f421e9c838e4a3973d477",
       "max": 1228,
       "style": "IPY_MODEL_001c6993a5f54f25aff6a5365fe580c6",
       "value": 1228
      }
     },
     "5cce73533b104658ae044f456e5d93fc": {
      "model_module": "@jupyter-widgets/controls",
      "model_module_version": "1.5.0",
      "model_name": "HTMLModel",
      "state": {
       "layout": "IPY_MODEL_acf86932f83d4d5b9ea2575847c063c6",
       "style": "IPY_MODEL_d68b42f8357f4347b6c446366545ba9f",
       "value": "loss: 0.6373: 100%"
      }
     },
     "5cfc329ebc32498e8f1ddc460e3e5bd7": {
      "model_module": "@jupyter-widgets/base",
      "model_module_version": "1.2.0",
      "model_name": "LayoutModel",
      "state": {}
     },
     "5d0c9206b9334032ac9a623d55e2fde2": {
      "model_module": "@jupyter-widgets/controls",
      "model_module_version": "1.5.0",
      "model_name": "DescriptionStyleModel",
      "state": {
       "description_width": ""
      }
     },
     "5d29d7d4e0494bbc9b126d2a75bdb119": {
      "model_module": "@jupyter-widgets/base",
      "model_module_version": "1.2.0",
      "model_name": "LayoutModel",
      "state": {}
     },
     "5d87470d4cb94dadb57abe227d19f006": {
      "model_module": "@jupyter-widgets/controls",
      "model_module_version": "1.5.0",
      "model_name": "DescriptionStyleModel",
      "state": {
       "description_width": ""
      }
     },
     "5d93a5085d9444ccbf3e92e52b0153c8": {
      "model_module": "@jupyter-widgets/base",
      "model_module_version": "1.2.0",
      "model_name": "LayoutModel",
      "state": {}
     },
     "5db9f96ab17b4a178ac6f1446aa91e26": {
      "model_module": "@jupyter-widgets/controls",
      "model_module_version": "1.5.0",
      "model_name": "FloatProgressModel",
      "state": {
       "layout": "IPY_MODEL_67f62f9436714e18bf61867f87802d6d",
       "max": 1181,
       "style": "IPY_MODEL_7d61915551674bd79d0db4b06168828e",
       "value": 1181
      }
     },
     "5e29281d131e422981999bd80ed9920c": {
      "model_module": "@jupyter-widgets/controls",
      "model_module_version": "1.5.0",
      "model_name": "DescriptionStyleModel",
      "state": {
       "description_width": ""
      }
     },
     "5e2fc782b5a44ef096adc80669817c36": {
      "model_module": "@jupyter-widgets/controls",
      "model_module_version": "1.5.0",
      "model_name": "DescriptionStyleModel",
      "state": {
       "description_width": ""
      }
     },
     "5e86bbde863c4674a75c7ead06e23652": {
      "model_module": "@jupyter-widgets/controls",
      "model_module_version": "1.5.0",
      "model_name": "DescriptionStyleModel",
      "state": {
       "description_width": ""
      }
     },
     "5e8f8ee267ab4fbc89ed451f98a053aa": {
      "model_module": "@jupyter-widgets/controls",
      "model_module_version": "1.5.0",
      "model_name": "DescriptionStyleModel",
      "state": {
       "description_width": ""
      }
     },
     "5e92cfd34b1b4276a903ea4272903448": {
      "model_module": "@jupyter-widgets/controls",
      "model_module_version": "1.5.0",
      "model_name": "HTMLModel",
      "state": {
       "layout": "IPY_MODEL_4f80482586344df9876b8306edc709c2",
       "style": "IPY_MODEL_9402d3b650b54f01b00685f22b66dd57",
       "value": "loss: 1.2590: 100%"
      }
     },
     "5ea985aef38240fa99521fc7c8b7bc59": {
      "model_module": "@jupyter-widgets/base",
      "model_module_version": "1.2.0",
      "model_name": "LayoutModel",
      "state": {}
     },
     "5ecc25c373414013b8b35406295539a5": {
      "model_module": "@jupyter-widgets/base",
      "model_module_version": "1.2.0",
      "model_name": "LayoutModel",
      "state": {}
     },
     "5ee976539889485d9abd1ba9c523c1da": {
      "model_module": "@jupyter-widgets/controls",
      "model_module_version": "1.5.0",
      "model_name": "DescriptionStyleModel",
      "state": {
       "description_width": ""
      }
     },
     "5ef44824f60c44beb818b5239db289fd": {
      "model_module": "@jupyter-widgets/controls",
      "model_module_version": "1.5.0",
      "model_name": "DescriptionStyleModel",
      "state": {
       "description_width": ""
      }
     },
     "5ef4b9aca4c74ab3b32fb98fc92d7f5c": {
      "model_module": "@jupyter-widgets/controls",
      "model_module_version": "1.5.0",
      "model_name": "ProgressStyleModel",
      "state": {
       "description_width": ""
      }
     },
     "5efdcbe185a749d0be9694d4cb0d8713": {
      "model_module": "@jupyter-widgets/controls",
      "model_module_version": "1.5.0",
      "model_name": "HTMLModel",
      "state": {
       "layout": "IPY_MODEL_ee9261e83c0e4c89acabb9780d44b16c",
       "style": "IPY_MODEL_afa8bbe106224115999c9adca077d5a0",
       "value": " 1467/1467 [01:02&lt;00:00, 22.93it/s]"
      }
     },
     "5f127cb318f34ea7a0d60aafd717c2f2": {
      "model_module": "@jupyter-widgets/controls",
      "model_module_version": "1.5.0",
      "model_name": "ProgressStyleModel",
      "state": {
       "description_width": ""
      }
     },
     "5f1426a8f6054403becb22a779215928": {
      "model_module": "@jupyter-widgets/base",
      "model_module_version": "1.2.0",
      "model_name": "LayoutModel",
      "state": {}
     },
     "5f1ffb84e2bf47d29734e166736df4ee": {
      "model_module": "@jupyter-widgets/controls",
      "model_module_version": "1.5.0",
      "model_name": "HTMLModel",
      "state": {
       "layout": "IPY_MODEL_9475dfad8d3a4ee880ec8ef1d05cbc21",
       "style": "IPY_MODEL_8fece4b32f92481a803596832b357599",
       "value": " 1228/1228 [00:52&lt;00:00, 25.01it/s]"
      }
     },
     "5f20d7e4ee0a44f5bc45f75b82b8e611": {
      "model_module": "@jupyter-widgets/controls",
      "model_module_version": "1.5.0",
      "model_name": "HTMLModel",
      "state": {
       "layout": "IPY_MODEL_2493facafd914127ba0687253264c18b",
       "style": "IPY_MODEL_a7c426df88f347df9ea62f40da086ed7",
       "value": " 132/132 [00:05&lt;00:00, 23.14it/s]"
      }
     },
     "5f57bab519154aa981028d6dd9e0f74d": {
      "model_module": "@jupyter-widgets/controls",
      "model_module_version": "1.5.0",
      "model_name": "FloatProgressModel",
      "state": {
       "layout": "IPY_MODEL_f3539679afa44547a81eede08a6927d7",
       "max": 1224,
       "style": "IPY_MODEL_737af9883ca840b38fd793c005b00cf8",
       "value": 1224
      }
     },
     "5f69634bea1d4a6fa84660aef4f4c958": {
      "model_module": "@jupyter-widgets/controls",
      "model_module_version": "1.5.0",
      "model_name": "HTMLModel",
      "state": {
       "layout": "IPY_MODEL_0b0fef5d0cc346feb2fd9762ff08ba7f",
       "style": "IPY_MODEL_56dbc0b4174c40d2ad4820d33df720c1",
       "value": "100%"
      }
     },
     "5f6c8fc48be9413899fd25eccced1aef": {
      "model_module": "@jupyter-widgets/base",
      "model_module_version": "1.2.0",
      "model_name": "LayoutModel",
      "state": {}
     },
     "5f7a7f9d2be24377b12ea08f385cc5c1": {
      "model_module": "@jupyter-widgets/controls",
      "model_module_version": "1.5.0",
      "model_name": "ProgressStyleModel",
      "state": {
       "description_width": ""
      }
     },
     "5ffc0d4f0c5b430aba7c2c17e1db2d22": {
      "model_module": "@jupyter-widgets/controls",
      "model_module_version": "1.5.0",
      "model_name": "ProgressStyleModel",
      "state": {
       "description_width": ""
      }
     },
     "600bba49369149f5badfcc33d2e2069a": {
      "model_module": "@jupyter-widgets/controls",
      "model_module_version": "1.5.0",
      "model_name": "FloatProgressModel",
      "state": {
       "layout": "IPY_MODEL_24e85dd5230445e38079891c9712f8f9",
       "max": 254,
       "style": "IPY_MODEL_6665a42d133a47f498dc69990f6ae7a5",
       "value": 254
      }
     },
     "6015ad0eabcc48beb6209b7fd00f9f5e": {
      "model_module": "@jupyter-widgets/base",
      "model_module_version": "1.2.0",
      "model_name": "LayoutModel",
      "state": {}
     },
     "601b7cdfa4124399916e3d31ca2f38af": {
      "model_module": "@jupyter-widgets/base",
      "model_module_version": "1.2.0",
      "model_name": "LayoutModel",
      "state": {}
     },
     "601c48d303e8475f8b245e639aea017a": {
      "model_module": "@jupyter-widgets/controls",
      "model_module_version": "1.5.0",
      "model_name": "HTMLModel",
      "state": {
       "layout": "IPY_MODEL_fae1ba4375454fafad4dce2474b1d7d1",
       "style": "IPY_MODEL_45bb20c9f6fe450aa9d2e65f5f1fdaf8",
       "value": "loss: 0.6696: 100%"
      }
     },
     "60276043835d4fa39c86219bb745d1b8": {
      "model_module": "@jupyter-widgets/controls",
      "model_module_version": "1.5.0",
      "model_name": "ProgressStyleModel",
      "state": {
       "description_width": ""
      }
     },
     "6044ec6b7e51417d80aa115d6f45df4c": {
      "model_module": "@jupyter-widgets/controls",
      "model_module_version": "1.5.0",
      "model_name": "DescriptionStyleModel",
      "state": {
       "description_width": ""
      }
     },
     "6088c0c702394f868a34b52909a18155": {
      "model_module": "@jupyter-widgets/controls",
      "model_module_version": "1.5.0",
      "model_name": "ProgressStyleModel",
      "state": {
       "description_width": ""
      }
     },
     "60b02cb165374ce8af7015441993535d": {
      "model_module": "@jupyter-widgets/controls",
      "model_module_version": "1.5.0",
      "model_name": "ProgressStyleModel",
      "state": {
       "description_width": ""
      }
     },
     "60f90bb8273147caa7b260e5abb7b115": {
      "model_module": "@jupyter-widgets/controls",
      "model_module_version": "1.5.0",
      "model_name": "DescriptionStyleModel",
      "state": {
       "description_width": ""
      }
     },
     "612fc705b03f444aa485f46e7c258bda": {
      "model_module": "@jupyter-widgets/base",
      "model_module_version": "1.2.0",
      "model_name": "LayoutModel",
      "state": {}
     },
     "61497a6388b64732bd29cdcb99cfb50c": {
      "model_module": "@jupyter-widgets/controls",
      "model_module_version": "1.5.0",
      "model_name": "DescriptionStyleModel",
      "state": {
       "description_width": ""
      }
     },
     "615ced5e51f142e39d80083edaca6a40": {
      "model_module": "@jupyter-widgets/base",
      "model_module_version": "1.2.0",
      "model_name": "LayoutModel",
      "state": {}
     },
     "6163941d5e9446e9b54e3044e47ab152": {
      "model_module": "@jupyter-widgets/controls",
      "model_module_version": "1.5.0",
      "model_name": "HTMLModel",
      "state": {
       "layout": "IPY_MODEL_838246f66f4c489490ad30459ff2fe8c",
       "style": "IPY_MODEL_e002e3e594fb448580c3ba4d24a9822a",
       "value": "loss: 0.5730: 100%"
      }
     },
     "617bf9314ea241869087c4f17ecf0bcf": {
      "model_module": "@jupyter-widgets/controls",
      "model_module_version": "1.5.0",
      "model_name": "HTMLModel",
      "state": {
       "layout": "IPY_MODEL_9aea094c67934361af1fa014f8fd5367",
       "style": "IPY_MODEL_9ddec7c213514984a1ed07778b68d45e",
       "value": " 209/209 [00:09&lt;00:00, 23.76it/s]"
      }
     },
     "61c70424547843cea4714c64c7dd030e": {
      "model_module": "@jupyter-widgets/controls",
      "model_module_version": "1.5.0",
      "model_name": "DescriptionStyleModel",
      "state": {
       "description_width": ""
      }
     },
     "61fdad2738a0457386f0757a619c59b4": {
      "model_module": "@jupyter-widgets/controls",
      "model_module_version": "1.5.0",
      "model_name": "HTMLModel",
      "state": {
       "layout": "IPY_MODEL_23864f8dc9474f388ff21adbff6bda42",
       "style": "IPY_MODEL_b46d440e47e74c719792409f8695ff42",
       "value": " 1181/1181 [00:48&lt;00:00, 23.20it/s]"
      }
     },
     "623075ce18f94c61a9cc128e2d3bfdfc": {
      "model_module": "@jupyter-widgets/base",
      "model_module_version": "1.2.0",
      "model_name": "LayoutModel",
      "state": {}
     },
     "624cc04262fa4d9da54ffdbb153a181a": {
      "model_module": "@jupyter-widgets/controls",
      "model_module_version": "1.5.0",
      "model_name": "HTMLModel",
      "state": {
       "layout": "IPY_MODEL_55a3d80f51c24aa482bfb662e420511a",
       "style": "IPY_MODEL_e8be45397adf41f3a6ed088571604a9d",
       "value": "loss: 0.6525: 100%"
      }
     },
     "62f22c44ab58493896babf4705a390e4": {
      "model_module": "@jupyter-widgets/controls",
      "model_module_version": "1.5.0",
      "model_name": "ProgressStyleModel",
      "state": {
       "description_width": ""
      }
     },
     "6309fe000b2b4cc9b6e47c36b6eb9356": {
      "model_module": "@jupyter-widgets/controls",
      "model_module_version": "1.5.0",
      "model_name": "HTMLModel",
      "state": {
       "layout": "IPY_MODEL_e1175d9b6c6a47b69df1d00369c3bb23",
       "style": "IPY_MODEL_e617b6f15a0a4940a8ac37f98a52c7dc",
       "value": "loss: 0.6111: 100%"
      }
     },
     "631f1750bd984902a3d4642d4f8ee7d7": {
      "model_module": "@jupyter-widgets/base",
      "model_module_version": "1.2.0",
      "model_name": "LayoutModel",
      "state": {}
     },
     "635733a9a20447d5b4c516b8b097a415": {
      "model_module": "@jupyter-widgets/controls",
      "model_module_version": "1.5.0",
      "model_name": "HTMLModel",
      "state": {
       "layout": "IPY_MODEL_0a49a2479a3c4247a83cf1d3f546c107",
       "style": "IPY_MODEL_9a65930b43f94050b8dee4a970b3fdb4",
       "value": " 903/903 [00:41&lt;00:00, 21.82it/s]"
      }
     },
     "63c39c227acc43da9effdb23e7d9db2d": {
      "model_module": "@jupyter-widgets/controls",
      "model_module_version": "1.5.0",
      "model_name": "DescriptionStyleModel",
      "state": {
       "description_width": ""
      }
     },
     "63d6042c43ed498cb30337a55a9a82f4": {
      "model_module": "@jupyter-widgets/base",
      "model_module_version": "1.2.0",
      "model_name": "LayoutModel",
      "state": {}
     },
     "63e6b296e6b044bdb3327c99d57253ca": {
      "model_module": "@jupyter-widgets/base",
      "model_module_version": "1.2.0",
      "model_name": "LayoutModel",
      "state": {}
     },
     "6442c1310f344769a6befb5313a023d7": {
      "model_module": "@jupyter-widgets/controls",
      "model_module_version": "1.5.0",
      "model_name": "HTMLModel",
      "state": {
       "layout": "IPY_MODEL_3e8ef573a4da4fe5899a6f037eb364b2",
       "style": "IPY_MODEL_17bcd449b13243d49c0fd011497b6761",
       "value": "loss: 0.6030: 100%"
      }
     },
     "6445ad8e90ca44279a36c6da6f0e6562": {
      "model_module": "@jupyter-widgets/base",
      "model_module_version": "1.2.0",
      "model_name": "LayoutModel",
      "state": {}
     },
     "645905c07d054034b470e01db0357ce4": {
      "model_module": "@jupyter-widgets/controls",
      "model_module_version": "1.5.0",
      "model_name": "DescriptionStyleModel",
      "state": {
       "description_width": ""
      }
     },
     "64974be6da514781be0f61b7f2b48b0f": {
      "model_module": "@jupyter-widgets/controls",
      "model_module_version": "1.5.0",
      "model_name": "HTMLModel",
      "state": {
       "layout": "IPY_MODEL_de8af49fbc634dd8836dec40176c0a6a",
       "style": "IPY_MODEL_239d83cc2c084d90960d747462dae389",
       "value": "loss: 0.6725: 100%"
      }
     },
     "649eeb06184b4a819cd4299e341ec456": {
      "model_module": "@jupyter-widgets/base",
      "model_module_version": "1.2.0",
      "model_name": "LayoutModel",
      "state": {}
     },
     "64cf93d735044b7cb0b237c7ba07091e": {
      "model_module": "@jupyter-widgets/base",
      "model_module_version": "1.2.0",
      "model_name": "LayoutModel",
      "state": {}
     },
     "651d61afcf1c49bc9bb6408033997942": {
      "model_module": "@jupyter-widgets/controls",
      "model_module_version": "1.5.0",
      "model_name": "HTMLModel",
      "state": {
       "layout": "IPY_MODEL_dd7942af4aa64cc3a101af9d7cc88379",
       "style": "IPY_MODEL_8622f8dcf80b4e37898360d7bfc14527",
       "value": " 1673/1673 [01:11&lt;00:00, 24.10it/s]"
      }
     },
     "654e8c02b7c443049700ff66a7edba91": {
      "model_module": "@jupyter-widgets/controls",
      "model_module_version": "1.5.0",
      "model_name": "HTMLModel",
      "state": {
       "layout": "IPY_MODEL_59b188698b87470da27a79aed6453d8f",
       "style": "IPY_MODEL_4d5f3d517b664ca680fbba770c5552e4",
       "value": "loss: 0.6580: 100%"
      }
     },
     "655d10143a5647e88892bbe7dfbf5c2e": {
      "model_module": "@jupyter-widgets/controls",
      "model_module_version": "1.5.0",
      "model_name": "ProgressStyleModel",
      "state": {
       "description_width": ""
      }
     },
     "65856f1f362140369fadd1d99c7edace": {
      "model_module": "@jupyter-widgets/base",
      "model_module_version": "1.2.0",
      "model_name": "LayoutModel",
      "state": {}
     },
     "65fe0a1e1a6d4638af3a25c00b1d2c81": {
      "model_module": "@jupyter-widgets/controls",
      "model_module_version": "1.5.0",
      "model_name": "DescriptionStyleModel",
      "state": {
       "description_width": ""
      }
     },
     "663e31d2a5914e5cbdc0e7d732b7d23c": {
      "model_module": "@jupyter-widgets/base",
      "model_module_version": "1.2.0",
      "model_name": "LayoutModel",
      "state": {}
     },
     "66489eb32823429da840569abb9c54ca": {
      "model_module": "@jupyter-widgets/controls",
      "model_module_version": "1.5.0",
      "model_name": "FloatProgressModel",
      "state": {
       "layout": "IPY_MODEL_dca483160d254801aaee88328e7a47a0",
       "max": 805,
       "style": "IPY_MODEL_6ebf3b86ad1d49d3848aa3f7620a6254",
       "value": 805
      }
     },
     "6665a42d133a47f498dc69990f6ae7a5": {
      "model_module": "@jupyter-widgets/controls",
      "model_module_version": "1.5.0",
      "model_name": "ProgressStyleModel",
      "state": {
       "description_width": ""
      }
     },
     "66972e25af774cc0875d6177f24186d6": {
      "model_module": "@jupyter-widgets/controls",
      "model_module_version": "1.5.0",
      "model_name": "HTMLModel",
      "state": {
       "layout": "IPY_MODEL_e55492c94fef46228913df4684503d36",
       "style": "IPY_MODEL_794c4dd86f8c49b5a9495ad79f50495c",
       "value": "100%"
      }
     },
     "66e2d624b0f941e68a82a84576b1d391": {
      "model_module": "@jupyter-widgets/controls",
      "model_module_version": "1.5.0",
      "model_name": "DescriptionStyleModel",
      "state": {
       "description_width": ""
      }
     },
     "66f7196402a74d5fbb390effdaea2e49": {
      "model_module": "@jupyter-widgets/controls",
      "model_module_version": "1.5.0",
      "model_name": "DescriptionStyleModel",
      "state": {
       "description_width": ""
      }
     },
     "67041b70bd15489ba2eebb5c79fb3fac": {
      "model_module": "@jupyter-widgets/controls",
      "model_module_version": "1.5.0",
      "model_name": "DescriptionStyleModel",
      "state": {
       "description_width": ""
      }
     },
     "67367a21758a4de5a2d99fe5fb27a38f": {
      "model_module": "@jupyter-widgets/base",
      "model_module_version": "1.2.0",
      "model_name": "LayoutModel",
      "state": {}
     },
     "67998c8197af442da03d9d6486f6961b": {
      "model_module": "@jupyter-widgets/controls",
      "model_module_version": "1.5.0",
      "model_name": "HTMLModel",
      "state": {
       "layout": "IPY_MODEL_7253c5bb727c45589196d90cb9ecc9ff",
       "style": "IPY_MODEL_f34451767453473191b824533e7ddbfb",
       "value": "100%"
      }
     },
     "67999cb8d57b4868b95c0b3628ae683b": {
      "model_module": "@jupyter-widgets/controls",
      "model_module_version": "1.5.0",
      "model_name": "HTMLModel",
      "state": {
       "layout": "IPY_MODEL_eb4feb06855f48c4b6fe162596306b59",
       "style": "IPY_MODEL_9bf5453fa05d4416b4e1f3e18a9a0685",
       "value": "100%"
      }
     },
     "67b709e010a64414ab4de70a840b3947": {
      "model_module": "@jupyter-widgets/controls",
      "model_module_version": "1.5.0",
      "model_name": "HTMLModel",
      "state": {
       "layout": "IPY_MODEL_8516959e2b9f470aa10161ba8c751756",
       "style": "IPY_MODEL_b9918bef57c84bc0bbd8d4ccb45e58ab",
       "value": " 1084/1084 [00:50&lt;00:00, 21.42it/s]"
      }
     },
     "67beea43dc344ad3bf2f77fe77eec560": {
      "model_module": "@jupyter-widgets/controls",
      "model_module_version": "1.5.0",
      "model_name": "FloatProgressModel",
      "state": {
       "layout": "IPY_MODEL_954235006e1643a8b32c063a83dce8de",
       "max": 1229,
       "style": "IPY_MODEL_87df1542ef134f5d9037713d6f3636e5",
       "value": 1229
      }
     },
     "67db4e5df3754eaba5696903b668f52f": {
      "model_module": "@jupyter-widgets/controls",
      "model_module_version": "1.5.0",
      "model_name": "FloatProgressModel",
      "state": {
       "layout": "IPY_MODEL_f4b76dc15da14d889c9a5799b2e08f68",
       "max": 1220,
       "style": "IPY_MODEL_9cec1f57ea1f47cca3cd3d394ad5a3b7",
       "value": 1220
      }
     },
     "67f62f9436714e18bf61867f87802d6d": {
      "model_module": "@jupyter-widgets/base",
      "model_module_version": "1.2.0",
      "model_name": "LayoutModel",
      "state": {}
     },
     "683648cafa1a401686ff699f7eac5993": {
      "model_module": "@jupyter-widgets/controls",
      "model_module_version": "1.5.0",
      "model_name": "HTMLModel",
      "state": {
       "layout": "IPY_MODEL_77374e598ea74235976a6ba466ad2d5c",
       "style": "IPY_MODEL_1506b8839f2a4018a5a0d21391c76dcc",
       "value": "loss: 0.6474: 100%"
      }
     },
     "684b5b859bfd48088384787f5835b306": {
      "model_module": "@jupyter-widgets/base",
      "model_module_version": "1.2.0",
      "model_name": "LayoutModel",
      "state": {}
     },
     "685815894b9743afa833d5df1c61685f": {
      "model_module": "@jupyter-widgets/controls",
      "model_module_version": "1.5.0",
      "model_name": "FloatProgressModel",
      "state": {
       "layout": "IPY_MODEL_7b8a915fea344893b71d71c9d5bd4fb5",
       "max": 1049,
       "style": "IPY_MODEL_bb26233c995143f5ba3733e739dc1de3",
       "value": 1049
      }
     },
     "68b04c417fc64d3e9c80abe26d3d39ec": {
      "model_module": "@jupyter-widgets/base",
      "model_module_version": "1.2.0",
      "model_name": "LayoutModel",
      "state": {}
     },
     "68b90cc81703419f9993a63c7c0ca664": {
      "model_module": "@jupyter-widgets/base",
      "model_module_version": "1.2.0",
      "model_name": "LayoutModel",
      "state": {}
     },
     "691222ee59d74354901f65e53e773c58": {
      "model_module": "@jupyter-widgets/controls",
      "model_module_version": "1.5.0",
      "model_name": "HTMLModel",
      "state": {
       "layout": "IPY_MODEL_f9b76cfb76394ed99553a1dba275e997",
       "style": "IPY_MODEL_31f40b17a4304c32ab1fa7af34eba18e",
       "value": " 1084/1084 [00:51&lt;00:00, 21.21it/s]"
      }
     },
     "694ef57c619d4b61910816da974e0817": {
      "model_module": "@jupyter-widgets/controls",
      "model_module_version": "1.5.0",
      "model_name": "DescriptionStyleModel",
      "state": {
       "description_width": ""
      }
     },
     "6960582b1c0a490d8202cfd80c853a68": {
      "model_module": "@jupyter-widgets/base",
      "model_module_version": "1.2.0",
      "model_name": "LayoutModel",
      "state": {}
     },
     "69649ae8aacb4b8b918a0a05cc88f74c": {
      "model_module": "@jupyter-widgets/controls",
      "model_module_version": "1.5.0",
      "model_name": "DescriptionStyleModel",
      "state": {
       "description_width": ""
      }
     },
     "6967944c7a464de5b5d34b953c932970": {
      "model_module": "@jupyter-widgets/base",
      "model_module_version": "1.2.0",
      "model_name": "LayoutModel",
      "state": {}
     },
     "6971d2577a7246829690b062b8a50fe0": {
      "model_module": "@jupyter-widgets/controls",
      "model_module_version": "1.5.0",
      "model_name": "HTMLModel",
      "state": {
       "layout": "IPY_MODEL_6c1b7336a952436aae2d0f04d8c80b2f",
       "style": "IPY_MODEL_e6c8bc2ce32147c99c60978207655032",
       "value": "100%"
      }
     },
     "69cd418467ce4f55a6123ae5a23e3466": {
      "model_module": "@jupyter-widgets/base",
      "model_module_version": "1.2.0",
      "model_name": "LayoutModel",
      "state": {}
     },
     "69d15f8917704cc192f806c4d5b4db03": {
      "model_module": "@jupyter-widgets/controls",
      "model_module_version": "1.5.0",
      "model_name": "DescriptionStyleModel",
      "state": {
       "description_width": ""
      }
     },
     "69d99814c25f47428f3c78fdfa67852b": {
      "model_module": "@jupyter-widgets/base",
      "model_module_version": "1.2.0",
      "model_name": "LayoutModel",
      "state": {}
     },
     "69f5ae3b10a24632aef9f65b08a4418f": {
      "model_module": "@jupyter-widgets/controls",
      "model_module_version": "1.5.0",
      "model_name": "DescriptionStyleModel",
      "state": {
       "description_width": ""
      }
     },
     "69f6a55618e5473fbd5e1f1ee579c053": {
      "model_module": "@jupyter-widgets/controls",
      "model_module_version": "1.5.0",
      "model_name": "FloatProgressModel",
      "state": {
       "layout": "IPY_MODEL_19a05d1287a147508446d2f3206036ed",
       "max": 993,
       "style": "IPY_MODEL_9b261877e7e54dbdb2a1a2b7b08a72a8",
       "value": 993
      }
     },
     "69fb7ff203bb408b96448588b6fdaa69": {
      "model_module": "@jupyter-widgets/base",
      "model_module_version": "1.2.0",
      "model_name": "LayoutModel",
      "state": {}
     },
     "6a1a5c10f0064c11aa93e9c64e52f3a0": {
      "model_module": "@jupyter-widgets/controls",
      "model_module_version": "1.5.0",
      "model_name": "HTMLModel",
      "state": {
       "layout": "IPY_MODEL_1d0a1365c0714f979dd41d50b25a6824",
       "style": "IPY_MODEL_37499e5d33bc4dc7b310a927dff5156f",
       "value": " 1218/1218 [00:53&lt;00:00, 22.64it/s]"
      }
     },
     "6a26bd3b637c464ea4e7e63e30fdce68": {
      "model_module": "@jupyter-widgets/controls",
      "model_module_version": "1.5.0",
      "model_name": "FloatProgressModel",
      "state": {
       "layout": "IPY_MODEL_bac61cca7fc347b8bd873ca245aa0967",
       "max": 1024,
       "style": "IPY_MODEL_c3141534afe749078de69b039288b845",
       "value": 1024
      }
     },
     "6a40328664764c6ea2ec6d81838c048e": {
      "model_module": "@jupyter-widgets/base",
      "model_module_version": "1.2.0",
      "model_name": "LayoutModel",
      "state": {}
     },
     "6a4a5c4bd8e140a588f8cdf40b86f7d5": {
      "model_module": "@jupyter-widgets/base",
      "model_module_version": "1.2.0",
      "model_name": "LayoutModel",
      "state": {}
     },
     "6a51286124c848dc91947b18466bcd50": {
      "model_module": "@jupyter-widgets/base",
      "model_module_version": "1.2.0",
      "model_name": "LayoutModel",
      "state": {}
     },
     "6a619f1097d749cb8b03d70d7d391909": {
      "model_module": "@jupyter-widgets/base",
      "model_module_version": "1.2.0",
      "model_name": "LayoutModel",
      "state": {}
     },
     "6a8e2bf1171c45d79abe4729db85c2ba": {
      "model_module": "@jupyter-widgets/base",
      "model_module_version": "1.2.0",
      "model_name": "LayoutModel",
      "state": {}
     },
     "6a92abc1c98e4eca84ff8c0b59023bf0": {
      "model_module": "@jupyter-widgets/controls",
      "model_module_version": "1.5.0",
      "model_name": "ProgressStyleModel",
      "state": {
       "description_width": ""
      }
     },
     "6a9cb0c6cfe54d3abae9cffcaf29bc62": {
      "model_module": "@jupyter-widgets/base",
      "model_module_version": "1.2.0",
      "model_name": "LayoutModel",
      "state": {}
     },
     "6aa31beef7284429b8269ab99b2a687f": {
      "model_module": "@jupyter-widgets/base",
      "model_module_version": "1.2.0",
      "model_name": "LayoutModel",
      "state": {}
     },
     "6aa3a520ca9f47e284be0cfee6995f0b": {
      "model_module": "@jupyter-widgets/controls",
      "model_module_version": "1.5.0",
      "model_name": "DescriptionStyleModel",
      "state": {
       "description_width": ""
      }
     },
     "6ac1a3faa1134b72b84a1c4d73148cc4": {
      "model_module": "@jupyter-widgets/controls",
      "model_module_version": "1.5.0",
      "model_name": "FloatProgressModel",
      "state": {
       "layout": "IPY_MODEL_37c7d2fa5ba04436ba8a7f95b9947312",
       "max": 461,
       "style": "IPY_MODEL_7c775351138d4eb592d555bf5628171a",
       "value": 461
      }
     },
     "6b196b3c68054067a6b5f154c10cfca1": {
      "model_module": "@jupyter-widgets/base",
      "model_module_version": "1.2.0",
      "model_name": "LayoutModel",
      "state": {}
     },
     "6b2226b511404e4b905c7d621d600fcb": {
      "model_module": "@jupyter-widgets/controls",
      "model_module_version": "1.5.0",
      "model_name": "ProgressStyleModel",
      "state": {
       "description_width": ""
      }
     },
     "6b6077915c3b4e93aca5eacdc248cb95": {
      "model_module": "@jupyter-widgets/base",
      "model_module_version": "1.2.0",
      "model_name": "LayoutModel",
      "state": {}
     },
     "6b6eea34e4314acc9f749cd076dde5a6": {
      "model_module": "@jupyter-widgets/base",
      "model_module_version": "1.2.0",
      "model_name": "LayoutModel",
      "state": {}
     },
     "6b8a0547389545ea8a4ac67923088b77": {
      "model_module": "@jupyter-widgets/base",
      "model_module_version": "1.2.0",
      "model_name": "LayoutModel",
      "state": {}
     },
     "6b8a091b18524b7d8abdb15e00cf7f75": {
      "model_module": "@jupyter-widgets/base",
      "model_module_version": "1.2.0",
      "model_name": "LayoutModel",
      "state": {}
     },
     "6b91681188d44882939d8159df5ab3d5": {
      "model_module": "@jupyter-widgets/controls",
      "model_module_version": "1.5.0",
      "model_name": "HTMLModel",
      "state": {
       "layout": "IPY_MODEL_077476fe06cb4396a08a79c349fa9f07",
       "style": "IPY_MODEL_a7f93651e6ef4a5698a787f9eaffccb1",
       "value": "loss: 0.6254: 100%"
      }
     },
     "6b93d58421964728abc4cc0f23f96d5f": {
      "model_module": "@jupyter-widgets/controls",
      "model_module_version": "1.5.0",
      "model_name": "FloatProgressModel",
      "state": {
       "layout": "IPY_MODEL_cd879b343862447c9861b5d680d41765",
       "max": 1229,
       "style": "IPY_MODEL_4954005ccbd74010813fef76153fa372",
       "value": 1229
      }
     },
     "6be648c2ed5e498dbd269f556e3cc666": {
      "model_module": "@jupyter-widgets/controls",
      "model_module_version": "1.5.0",
      "model_name": "DescriptionStyleModel",
      "state": {
       "description_width": ""
      }
     },
     "6be84a509fea4606b040178dc784d95d": {
      "model_module": "@jupyter-widgets/base",
      "model_module_version": "1.2.0",
      "model_name": "LayoutModel",
      "state": {}
     },
     "6bfe0173211a45fb813be1d0c80347f6": {
      "model_module": "@jupyter-widgets/controls",
      "model_module_version": "1.5.0",
      "model_name": "DescriptionStyleModel",
      "state": {
       "description_width": ""
      }
     },
     "6c04249843824040bf47d163df12075c": {
      "model_module": "@jupyter-widgets/controls",
      "model_module_version": "1.5.0",
      "model_name": "HTMLModel",
      "state": {
       "layout": "IPY_MODEL_05f6dadff2e6428282694deb923067e4",
       "style": "IPY_MODEL_fa77585ce59049c7b946948af8e8be65",
       "value": " 229/229 [00:10&lt;00:00, 21.49it/s]"
      }
     },
     "6c0d27b38ae841909611e168193fce11": {
      "model_module": "@jupyter-widgets/base",
      "model_module_version": "1.2.0",
      "model_name": "LayoutModel",
      "state": {}
     },
     "6c126c35936f45d8bf7d0c94c7decc47": {
      "model_module": "@jupyter-widgets/controls",
      "model_module_version": "1.5.0",
      "model_name": "DescriptionStyleModel",
      "state": {
       "description_width": ""
      }
     },
     "6c1b7336a952436aae2d0f04d8c80b2f": {
      "model_module": "@jupyter-widgets/base",
      "model_module_version": "1.2.0",
      "model_name": "LayoutModel",
      "state": {}
     },
     "6c3a9772119c4bfebbc8506d74b37811": {
      "model_module": "@jupyter-widgets/controls",
      "model_module_version": "1.5.0",
      "model_name": "HTMLModel",
      "state": {
       "layout": "IPY_MODEL_eb179c36de8b4b8db08afc8742ec600d",
       "style": "IPY_MODEL_8050b207380d4b5c8bb62b77b89b813c",
       "value": " 355/1084 [12:27&lt;00:34, 21.39it/s]"
      }
     },
     "6c4645b52b934eabb1c724b11bbb55e0": {
      "model_module": "@jupyter-widgets/controls",
      "model_module_version": "1.5.0",
      "model_name": "HTMLModel",
      "state": {
       "layout": "IPY_MODEL_4b073de117254bddbefc15d8d7dfbfe8",
       "style": "IPY_MODEL_14de058894f84609858ec1488871e028",
       "value": "loss: 0.6153: 100%"
      }
     },
     "6c710adb2d6e46b0863513bfee402ec5": {
      "model_module": "@jupyter-widgets/controls",
      "model_module_version": "1.5.0",
      "model_name": "DescriptionStyleModel",
      "state": {
       "description_width": ""
      }
     },
     "6c75c0169e7f437f99579a8819478998": {
      "model_module": "@jupyter-widgets/controls",
      "model_module_version": "1.5.0",
      "model_name": "HTMLModel",
      "state": {
       "layout": "IPY_MODEL_f7ff9ed857884857afac3b34277d7017",
       "style": "IPY_MODEL_694ef57c619d4b61910816da974e0817",
       "value": "100%"
      }
     },
     "6c95f88dc08341e899d58c9e6097ef11": {
      "model_module": "@jupyter-widgets/base",
      "model_module_version": "1.2.0",
      "model_name": "LayoutModel",
      "state": {}
     },
     "6cb2527f5fa242bfa32f3df60c51ad31": {
      "model_module": "@jupyter-widgets/base",
      "model_module_version": "1.2.0",
      "model_name": "LayoutModel",
      "state": {}
     },
     "6cb8204f34834ce88d334e0acada6172": {
      "model_module": "@jupyter-widgets/controls",
      "model_module_version": "1.5.0",
      "model_name": "DescriptionStyleModel",
      "state": {
       "description_width": ""
      }
     },
     "6cb932fc97c0433bbf13879318a9624f": {
      "model_module": "@jupyter-widgets/controls",
      "model_module_version": "1.5.0",
      "model_name": "DescriptionStyleModel",
      "state": {
       "description_width": ""
      }
     },
     "6cd60d938c4f43e8b844de5f21d4a026": {
      "model_module": "@jupyter-widgets/controls",
      "model_module_version": "1.5.0",
      "model_name": "DescriptionStyleModel",
      "state": {
       "description_width": ""
      }
     },
     "6cd8b8afd3ef4b4a9935ef7661ac7a9d": {
      "model_module": "@jupyter-widgets/controls",
      "model_module_version": "1.5.0",
      "model_name": "ProgressStyleModel",
      "state": {
       "description_width": ""
      }
     },
     "6cedb7ed252d4312984db9a265e4c35c": {
      "model_module": "@jupyter-widgets/base",
      "model_module_version": "1.2.0",
      "model_name": "LayoutModel",
      "state": {}
     },
     "6d105fe1d31b4ec7af81b4c236e99bb9": {
      "model_module": "@jupyter-widgets/base",
      "model_module_version": "1.2.0",
      "model_name": "LayoutModel",
      "state": {}
     },
     "6d307b47d8dc43bda5162b90c804bebd": {
      "model_module": "@jupyter-widgets/controls",
      "model_module_version": "1.5.0",
      "model_name": "HTMLModel",
      "state": {
       "layout": "IPY_MODEL_7b0834f6b8e54fa88e12f168c15152e3",
       "style": "IPY_MODEL_a8d9caea2e6b4a7a9e6ccd5a50f22825",
       "value": "loss: 0.6624: 100%"
      }
     },
     "6d736ae810794a9597b7aa730a32991e": {
      "model_module": "@jupyter-widgets/controls",
      "model_module_version": "1.5.0",
      "model_name": "HTMLModel",
      "state": {
       "layout": "IPY_MODEL_42b4642fd68146bf8cf3293663bfd9d4",
       "style": "IPY_MODEL_98fe171b17b04ac3ac4df23cf09d43af",
       "value": "loss: 0.7198: 100%"
      }
     },
     "6d7672b2aff94e8c95bd31c1a8e817af": {
      "model_module": "@jupyter-widgets/controls",
      "model_module_version": "1.5.0",
      "model_name": "ProgressStyleModel",
      "state": {
       "description_width": ""
      }
     },
     "6d8ac71482d84a11920872db32ee65ba": {
      "model_module": "@jupyter-widgets/controls",
      "model_module_version": "1.5.0",
      "model_name": "FloatProgressModel",
      "state": {
       "layout": "IPY_MODEL_d5c425dfe1d840178cd7277c29f4e6af",
       "max": 1428,
       "style": "IPY_MODEL_6cd8b8afd3ef4b4a9935ef7661ac7a9d",
       "value": 1428
      }
     },
     "6db114b4ad5743928095613c8575b090": {
      "model_module": "@jupyter-widgets/base",
      "model_module_version": "1.2.0",
      "model_name": "LayoutModel",
      "state": {}
     },
     "6e2f9484b5354134ba08390570ee9407": {
      "model_module": "@jupyter-widgets/controls",
      "model_module_version": "1.5.0",
      "model_name": "DescriptionStyleModel",
      "state": {
       "description_width": ""
      }
     },
     "6e779989716b49b8a0aab4c2b4c3a219": {
      "model_module": "@jupyter-widgets/base",
      "model_module_version": "1.2.0",
      "model_name": "LayoutModel",
      "state": {}
     },
     "6e841ab6e1b449de9e297c906f828c20": {
      "model_module": "@jupyter-widgets/controls",
      "model_module_version": "1.5.0",
      "model_name": "DescriptionStyleModel",
      "state": {
       "description_width": ""
      }
     },
     "6e9f86452e9c47a2a4a1d77d2512890a": {
      "model_module": "@jupyter-widgets/controls",
      "model_module_version": "1.5.0",
      "model_name": "ProgressStyleModel",
      "state": {
       "description_width": ""
      }
     },
     "6ebf3b86ad1d49d3848aa3f7620a6254": {
      "model_module": "@jupyter-widgets/controls",
      "model_module_version": "1.5.0",
      "model_name": "ProgressStyleModel",
      "state": {
       "description_width": ""
      }
     },
     "6ed21d50c98047759209437815ee8ae0": {
      "model_module": "@jupyter-widgets/controls",
      "model_module_version": "1.5.0",
      "model_name": "ProgressStyleModel",
      "state": {
       "description_width": ""
      }
     },
     "6f136cbf49ba48cc88149a61e770a40c": {
      "model_module": "@jupyter-widgets/base",
      "model_module_version": "1.2.0",
      "model_name": "LayoutModel",
      "state": {}
     },
     "6f3629a572b2487d96018036f1f3e1a7": {
      "model_module": "@jupyter-widgets/controls",
      "model_module_version": "1.5.0",
      "model_name": "DescriptionStyleModel",
      "state": {
       "description_width": ""
      }
     },
     "6f3f36d88e5e4be290c5afd0adb21539": {
      "model_module": "@jupyter-widgets/controls",
      "model_module_version": "1.5.0",
      "model_name": "ProgressStyleModel",
      "state": {
       "description_width": ""
      }
     },
     "6f5560ba2fd341ba890746577c4d6ae4": {
      "model_module": "@jupyter-widgets/base",
      "model_module_version": "1.2.0",
      "model_name": "LayoutModel",
      "state": {}
     },
     "6f5dc7f9676640458179bde0bb265712": {
      "model_module": "@jupyter-widgets/controls",
      "model_module_version": "1.5.0",
      "model_name": "HTMLModel",
      "state": {
       "layout": "IPY_MODEL_69fb7ff203bb408b96448588b6fdaa69",
       "style": "IPY_MODEL_c7d34a79557143e1bf48959968b87a2f",
       "value": "loss: 0.6458: 100%"
      }
     },
     "6fb71893a9cd4a44a0749aaeb0cea544": {
      "model_module": "@jupyter-widgets/controls",
      "model_module_version": "1.5.0",
      "model_name": "HTMLModel",
      "state": {
       "layout": "IPY_MODEL_e43f04428de34b28ab3a0795f3529476",
       "style": "IPY_MODEL_0430b939208b4be4ae14e3c2e13542a7",
       "value": "loss: 0.6380: 100%"
      }
     },
     "6ffe2cbca19b4cdd97028b5ca079c8bb": {
      "model_module": "@jupyter-widgets/base",
      "model_module_version": "1.2.0",
      "model_name": "LayoutModel",
      "state": {}
     },
     "702e552d20634594930dc2c2503b6a31": {
      "model_module": "@jupyter-widgets/controls",
      "model_module_version": "1.5.0",
      "model_name": "HTMLModel",
      "state": {
       "layout": "IPY_MODEL_bf1365ff6fca494ab4abfa9d7f5b97f1",
       "style": "IPY_MODEL_24a2da8e37d346fba483c78b8ae9293b",
       "value": "100%"
      }
     },
     "70523936da3f4408867eac1db82c1704": {
      "model_module": "@jupyter-widgets/base",
      "model_module_version": "1.2.0",
      "model_name": "LayoutModel",
      "state": {}
     },
     "706d009e52dd434b89acaa14282f260f": {
      "model_module": "@jupyter-widgets/controls",
      "model_module_version": "1.5.0",
      "model_name": "ProgressStyleModel",
      "state": {
       "description_width": ""
      }
     },
     "7088974809b94f0b94b7f740e118b298": {
      "model_module": "@jupyter-widgets/controls",
      "model_module_version": "1.5.0",
      "model_name": "ProgressStyleModel",
      "state": {
       "description_width": ""
      }
     },
     "709dd4831c544bd7ad24a6c64500c635": {
      "model_module": "@jupyter-widgets/controls",
      "model_module_version": "1.5.0",
      "model_name": "HTMLModel",
      "state": {
       "layout": "IPY_MODEL_d04a7ee7de1841b0a07ccff2820ac56a",
       "style": "IPY_MODEL_a00cdfc1d7ad4e41ab96363ee59db10a",
       "value": "loss: 0.6598: 100%"
      }
     },
     "70b007acc3c54e02a6ac921215bbdd7c": {
      "model_module": "@jupyter-widgets/controls",
      "model_module_version": "1.5.0",
      "model_name": "HTMLModel",
      "state": {
       "layout": "IPY_MODEL_81c4bbfedacf44f2a573517d22ebe1af",
       "style": "IPY_MODEL_b160b117661d4e52a35f818856b4520b",
       "value": " 1005/1005 [00:44&lt;00:00, 23.34it/s]"
      }
     },
     "70b2480cd8db4607bfefd9679e0700c0": {
      "model_module": "@jupyter-widgets/controls",
      "model_module_version": "1.5.0",
      "model_name": "DescriptionStyleModel",
      "state": {
       "description_width": ""
      }
     },
     "70f2b31ce6cd46ac93bcfd0fb5d41508": {
      "model_module": "@jupyter-widgets/controls",
      "model_module_version": "1.5.0",
      "model_name": "DescriptionStyleModel",
      "state": {
       "description_width": ""
      }
     },
     "7128dad3cbf64727863b130a4208ec61": {
      "model_module": "@jupyter-widgets/controls",
      "model_module_version": "1.5.0",
      "model_name": "HTMLModel",
      "state": {
       "layout": "IPY_MODEL_c731197ca3ab4125a89914125367b560",
       "style": "IPY_MODEL_d6eceef291fb4185a648e8388551a960",
       "value": "loss: 0.9373: 100%"
      }
     },
     "712aebc2eda34c2ebea445000e5b6d45": {
      "model_module": "@jupyter-widgets/base",
      "model_module_version": "1.2.0",
      "model_name": "LayoutModel",
      "state": {}
     },
     "71645ae2f563460ab17f2b7fdec683cd": {
      "model_module": "@jupyter-widgets/base",
      "model_module_version": "1.2.0",
      "model_name": "LayoutModel",
      "state": {}
     },
     "71853bcac92842a7bed9b5f5d3adb0c7": {
      "model_module": "@jupyter-widgets/controls",
      "model_module_version": "1.5.0",
      "model_name": "HTMLModel",
      "state": {
       "layout": "IPY_MODEL_a8574ceef1c3433eb7731301edeff630",
       "style": "IPY_MODEL_8d4cd8dae30b4dae87be5709dcbdd520",
       "value": " 237/237 [00:10&lt;00:00, 23.37it/s]"
      }
     },
     "718767de35ee4c8fb951d404c77c91c3": {
      "model_module": "@jupyter-widgets/base",
      "model_module_version": "1.2.0",
      "model_name": "LayoutModel",
      "state": {}
     },
     "71922b927aff4c03923c9b353d9f4846": {
      "model_module": "@jupyter-widgets/base",
      "model_module_version": "1.2.0",
      "model_name": "LayoutModel",
      "state": {}
     },
     "71af77759b094826833ca082ca9c8550": {
      "model_module": "@jupyter-widgets/controls",
      "model_module_version": "1.5.0",
      "model_name": "HTMLModel",
      "state": {
       "layout": "IPY_MODEL_a1aa222d422f406083e967badd600afc",
       "style": "IPY_MODEL_b411474461dd4913ac7e63eaf0edc3ec",
       "value": "100%"
      }
     },
     "71b5b9a7003a4d9faf28e1793c2410bc": {
      "model_module": "@jupyter-widgets/base",
      "model_module_version": "1.2.0",
      "model_name": "LayoutModel",
      "state": {}
     },
     "71ecf58240844fc4977229d610ad8c6d": {
      "model_module": "@jupyter-widgets/controls",
      "model_module_version": "1.5.0",
      "model_name": "ProgressStyleModel",
      "state": {
       "description_width": ""
      }
     },
     "721ebece208b4f209e6c79e10e4550ef": {
      "model_module": "@jupyter-widgets/base",
      "model_module_version": "1.2.0",
      "model_name": "LayoutModel",
      "state": {}
     },
     "7253c5bb727c45589196d90cb9ecc9ff": {
      "model_module": "@jupyter-widgets/base",
      "model_module_version": "1.2.0",
      "model_name": "LayoutModel",
      "state": {}
     },
     "7268df3abe8445af96febd82c84a4047": {
      "model_module": "@jupyter-widgets/base",
      "model_module_version": "1.2.0",
      "model_name": "LayoutModel",
      "state": {}
     },
     "72baa98f1a4f4b1187a57f5a3f2f9b7c": {
      "model_module": "@jupyter-widgets/base",
      "model_module_version": "1.2.0",
      "model_name": "LayoutModel",
      "state": {}
     },
     "72eaade701f54098a799dd984781de71": {
      "model_module": "@jupyter-widgets/controls",
      "model_module_version": "1.5.0",
      "model_name": "DescriptionStyleModel",
      "state": {
       "description_width": ""
      }
     },
     "7301eb5d80b94113924c0e7a6161f7f4": {
      "model_module": "@jupyter-widgets/controls",
      "model_module_version": "1.5.0",
      "model_name": "HTMLModel",
      "state": {
       "layout": "IPY_MODEL_8742571630904bfbacbcc91adbf7e8c0",
       "style": "IPY_MODEL_067be5527546414b94f76f78e6cc5a7c",
       "value": " 1075/1075 [00:47&lt;00:00, 24.22it/s]"
      }
     },
     "730cd147a73748eba06545c028b3badb": {
      "model_module": "@jupyter-widgets/controls",
      "model_module_version": "1.5.0",
      "model_name": "ProgressStyleModel",
      "state": {
       "description_width": ""
      }
     },
     "730fdf6f20314ffe811e084aa86fadb0": {
      "model_module": "@jupyter-widgets/controls",
      "model_module_version": "1.5.0",
      "model_name": "FloatProgressModel",
      "state": {
       "layout": "IPY_MODEL_38abf22e2fbc4e949a339a27497794df",
       "max": 222,
       "style": "IPY_MODEL_d601b20ff91142b5a04960a3979dd06b",
       "value": 222
      }
     },
     "7331fde7c0564dc38d3f4b8b2bf9410c": {
      "model_module": "@jupyter-widgets/controls",
      "model_module_version": "1.5.0",
      "model_name": "FloatProgressModel",
      "state": {
       "layout": "IPY_MODEL_fb40e42e720c41c290720ee022d98378",
       "max": 1656,
       "style": "IPY_MODEL_0e44a860af2a45af972fd250117b9301",
       "value": 1656
      }
     },
     "737af9883ca840b38fd793c005b00cf8": {
      "model_module": "@jupyter-widgets/controls",
      "model_module_version": "1.5.0",
      "model_name": "ProgressStyleModel",
      "state": {
       "description_width": ""
      }
     },
     "73834b312ed34764b26fad58a086b1c2": {
      "model_module": "@jupyter-widgets/controls",
      "model_module_version": "1.5.0",
      "model_name": "HTMLModel",
      "state": {
       "layout": "IPY_MODEL_cdde9dfe3f2342c484e48fc90dd93554",
       "style": "IPY_MODEL_0282879f275446f696e26eb02ec4feda",
       "value": " 246/246 [00:10&lt;00:00, 23.26it/s]"
      }
     },
     "73869fcfa5fe44f0bd690097fb822ad5": {
      "model_module": "@jupyter-widgets/base",
      "model_module_version": "1.2.0",
      "model_name": "LayoutModel",
      "state": {}
     },
     "73902c4e1ef64aa3bf1d8787b8d04c9e": {
      "model_module": "@jupyter-widgets/controls",
      "model_module_version": "1.5.0",
      "model_name": "ProgressStyleModel",
      "state": {
       "description_width": ""
      }
     },
     "73931a822a4249ec9c637d1deeda0166": {
      "model_module": "@jupyter-widgets/controls",
      "model_module_version": "1.5.0",
      "model_name": "DescriptionStyleModel",
      "state": {
       "description_width": ""
      }
     },
     "73be23b87e9643e3beb9ba5a1de9f912": {
      "model_module": "@jupyter-widgets/controls",
      "model_module_version": "1.5.0",
      "model_name": "DescriptionStyleModel",
      "state": {
       "description_width": ""
      }
     },
     "73c1b8613b2e4db2a13042385073eded": {
      "model_module": "@jupyter-widgets/controls",
      "model_module_version": "1.5.0",
      "model_name": "DescriptionStyleModel",
      "state": {
       "description_width": ""
      }
     },
     "73c3282b16464f78b5f53f7915df7260": {
      "model_module": "@jupyter-widgets/controls",
      "model_module_version": "1.5.0",
      "model_name": "HTMLModel",
      "state": {
       "layout": "IPY_MODEL_0a588562c811412abc640a2173851b26",
       "style": "IPY_MODEL_9ad530881f7c492dbce7348d46b5a116",
       "value": "loss: 0.6550: 100%"
      }
     },
     "742333d3edbe453eb96c10292e081b10": {
      "model_module": "@jupyter-widgets/base",
      "model_module_version": "1.2.0",
      "model_name": "LayoutModel",
      "state": {}
     },
     "7476d5bce35e456f8339ebcb50664290": {
      "model_module": "@jupyter-widgets/base",
      "model_module_version": "1.2.0",
      "model_name": "LayoutModel",
      "state": {}
     },
     "748896d2f54b454e9c666ef2b974c6a6": {
      "model_module": "@jupyter-widgets/controls",
      "model_module_version": "1.5.0",
      "model_name": "DescriptionStyleModel",
      "state": {
       "description_width": ""
      }
     },
     "74a37214b2ac4166920ecadfc45d5fc1": {
      "model_module": "@jupyter-widgets/controls",
      "model_module_version": "1.5.0",
      "model_name": "FloatProgressModel",
      "state": {
       "layout": "IPY_MODEL_ca102879f7d74d798885664ec0d815fc",
       "max": 249,
       "style": "IPY_MODEL_45ffefc659bc4f5e95beab833f521a97",
       "value": 249
      }
     },
     "74aa34c6ee464da9b5bc15ad46f9517c": {
      "model_module": "@jupyter-widgets/controls",
      "model_module_version": "1.5.0",
      "model_name": "FloatProgressModel",
      "state": {
       "layout": "IPY_MODEL_b448a96819f64d3c9e2a066d9f70e7b3",
       "max": 1193,
       "style": "IPY_MODEL_3df92094da4446b9a850f92a113c5cf4",
       "value": 1193
      }
     },
     "74afd84dbeea446997c3f2ad77303252": {
      "model_module": "@jupyter-widgets/base",
      "model_module_version": "1.2.0",
      "model_name": "LayoutModel",
      "state": {}
     },
     "74bc48a8d15f4cf19f6467773532c698": {
      "model_module": "@jupyter-widgets/controls",
      "model_module_version": "1.5.0",
      "model_name": "DescriptionStyleModel",
      "state": {
       "description_width": ""
      }
     },
     "74c6d45bbab94edb8256e9a57e7cbe65": {
      "model_module": "@jupyter-widgets/base",
      "model_module_version": "1.2.0",
      "model_name": "LayoutModel",
      "state": {}
     },
     "74ef21f37e6a42d7bbef6b23ce9076f8": {
      "model_module": "@jupyter-widgets/controls",
      "model_module_version": "1.5.0",
      "model_name": "ProgressStyleModel",
      "state": {
       "description_width": ""
      }
     },
     "750842eae58443bda4d7a5f4ad4546ad": {
      "model_module": "@jupyter-widgets/controls",
      "model_module_version": "1.5.0",
      "model_name": "DescriptionStyleModel",
      "state": {
       "description_width": ""
      }
     },
     "754528d0801e44129790681f810f6fb6": {
      "model_module": "@jupyter-widgets/base",
      "model_module_version": "1.2.0",
      "model_name": "LayoutModel",
      "state": {}
     },
     "755e6113efb344b486afcb7d5af3b4cc": {
      "model_module": "@jupyter-widgets/controls",
      "model_module_version": "1.5.0",
      "model_name": "HTMLModel",
      "state": {
       "layout": "IPY_MODEL_1b1c95fe271d44a4ab9838061b3c8f5a",
       "style": "IPY_MODEL_9279586cef764a00a7d04122a44c0f24",
       "value": " 1262/1262 [00:53&lt;00:00, 23.79it/s]"
      }
     },
     "759410b173864ec8be47ec26289162ab": {
      "model_module": "@jupyter-widgets/controls",
      "model_module_version": "1.5.0",
      "model_name": "ProgressStyleModel",
      "state": {
       "description_width": ""
      }
     },
     "75b5e6a0979745a4906bff7b474fe0b7": {
      "model_module": "@jupyter-widgets/controls",
      "model_module_version": "1.5.0",
      "model_name": "DescriptionStyleModel",
      "state": {
       "description_width": ""
      }
     },
     "763f60a4a41d450096827cf60b2166eb": {
      "model_module": "@jupyter-widgets/controls",
      "model_module_version": "1.5.0",
      "model_name": "FloatProgressModel",
      "state": {
       "layout": "IPY_MODEL_ec6e98e06eef40e288575ce02a4c3c9a",
       "max": 1052,
       "style": "IPY_MODEL_0416ce08de9a4224b4af5169ec8ab385",
       "value": 1052
      }
     },
     "765e2a76bcd440fca8806aa270d4d543": {
      "model_module": "@jupyter-widgets/controls",
      "model_module_version": "1.5.0",
      "model_name": "HTMLModel",
      "state": {
       "layout": "IPY_MODEL_03eb11f7322b46a59931a40f10b41e16",
       "style": "IPY_MODEL_80edad73ef0745a3af3079ea16c5d5d2",
       "value": "loss: 0.7399: 100%"
      }
     },
     "76ca0a267e954fc4b3cc594b90866d04": {
      "model_module": "@jupyter-widgets/base",
      "model_module_version": "1.2.0",
      "model_name": "LayoutModel",
      "state": {}
     },
     "76e5e4939a8f44abb0582ea199e50dc5": {
      "model_module": "@jupyter-widgets/controls",
      "model_module_version": "1.5.0",
      "model_name": "DescriptionStyleModel",
      "state": {
       "description_width": ""
      }
     },
     "7703532156904240bc464bd270659ef8": {
      "model_module": "@jupyter-widgets/base",
      "model_module_version": "1.2.0",
      "model_name": "LayoutModel",
      "state": {}
     },
     "77096948dec64f24a8af4fcb9a721bf4": {
      "model_module": "@jupyter-widgets/controls",
      "model_module_version": "1.5.0",
      "model_name": "ProgressStyleModel",
      "state": {
       "description_width": ""
      }
     },
     "771bea6ce3614806a170d544f9758e7d": {
      "model_module": "@jupyter-widgets/base",
      "model_module_version": "1.2.0",
      "model_name": "LayoutModel",
      "state": {}
     },
     "7724e0a472244d07b92f06764a76e576": {
      "model_module": "@jupyter-widgets/controls",
      "model_module_version": "1.5.0",
      "model_name": "HTMLModel",
      "state": {
       "layout": "IPY_MODEL_28ac9160cd344b0fb22dd3d47f9058d1",
       "style": "IPY_MODEL_a973f4e9a4cc4570a6008d6db488c6ff",
       "value": " 1428/1428 [01:08&lt;00:00, 21.06it/s]"
      }
     },
     "77369d6e8b854ee9ab179415b7c7d415": {
      "model_module": "@jupyter-widgets/controls",
      "model_module_version": "1.5.0",
      "model_name": "HTMLModel",
      "state": {
       "layout": "IPY_MODEL_cf9ab22cac6f403496707ac7ebd90cad",
       "style": "IPY_MODEL_0900ab9878084237993d09acae766bfc",
       "value": " 930/930 [00:38&lt;00:00, 24.57it/s]"
      }
     },
     "77374e598ea74235976a6ba466ad2d5c": {
      "model_module": "@jupyter-widgets/base",
      "model_module_version": "1.2.0",
      "model_name": "LayoutModel",
      "state": {}
     },
     "7755fd68c42e4e5a96fc0196f3d57845": {
      "model_module": "@jupyter-widgets/controls",
      "model_module_version": "1.5.0",
      "model_name": "HTMLModel",
      "state": {
       "layout": "IPY_MODEL_d9e541d49dd04a2eb52c123a0e273d33",
       "style": "IPY_MODEL_8268c7d504bb44d4a21616232f7835a7",
       "value": " 1193/1193 [00:55&lt;00:00, 21.31it/s]"
      }
     },
     "77768371af8f4b73b7fb0c1a6e128749": {
      "model_module": "@jupyter-widgets/controls",
      "model_module_version": "1.5.0",
      "model_name": "DescriptionStyleModel",
      "state": {
       "description_width": ""
      }
     },
     "778e14e3bb0d47febd0f633177fbbbcd": {
      "model_module": "@jupyter-widgets/controls",
      "model_module_version": "1.5.0",
      "model_name": "HTMLModel",
      "state": {
       "layout": "IPY_MODEL_3cc6966a6f764daeab19c4279964a727",
       "style": "IPY_MODEL_56679e085f3742619273cb87b1012713",
       "value": "loss: 0.6396: 100%"
      }
     },
     "7796540a7e074a8687e4e59b2c2a2ca2": {
      "model_module": "@jupyter-widgets/controls",
      "model_module_version": "1.5.0",
      "model_name": "DescriptionStyleModel",
      "state": {
       "description_width": ""
      }
     },
     "77acf5bfac9e4665a37379a48712f51c": {
      "model_module": "@jupyter-widgets/base",
      "model_module_version": "1.2.0",
      "model_name": "LayoutModel",
      "state": {}
     },
     "77e4f5cecf1a40c19c74dbfd25bdab9b": {
      "model_module": "@jupyter-widgets/controls",
      "model_module_version": "1.5.0",
      "model_name": "HTMLModel",
      "state": {
       "layout": "IPY_MODEL_8262c2ff3af84355888b3e1d6780ec7e",
       "style": "IPY_MODEL_9d7067c8e8184208b8634e02a3058642",
       "value": "loss: 0.6638: 100%"
      }
     },
     "77eba5a1f1184d3b8bbc83fb575eeef0": {
      "model_module": "@jupyter-widgets/controls",
      "model_module_version": "1.5.0",
      "model_name": "DescriptionStyleModel",
      "state": {
       "description_width": ""
      }
     },
     "78018a0d594443579264f7ca2df8838b": {
      "model_module": "@jupyter-widgets/base",
      "model_module_version": "1.2.0",
      "model_name": "LayoutModel",
      "state": {}
     },
     "7805b34257c7411c80f4c34bf062f6e2": {
      "model_module": "@jupyter-widgets/base",
      "model_module_version": "1.2.0",
      "model_name": "LayoutModel",
      "state": {}
     },
     "78222af4e358434b976f937464da10db": {
      "model_module": "@jupyter-widgets/base",
      "model_module_version": "1.2.0",
      "model_name": "LayoutModel",
      "state": {}
     },
     "782b9a25951649f6bc845c98a600263f": {
      "model_module": "@jupyter-widgets/controls",
      "model_module_version": "1.5.0",
      "model_name": "DescriptionStyleModel",
      "state": {
       "description_width": ""
      }
     },
     "787b51ae4aea4f11986bc8f357b80f79": {
      "model_module": "@jupyter-widgets/base",
      "model_module_version": "1.2.0",
      "model_name": "LayoutModel",
      "state": {}
     },
     "78973dd039794ddebaaded8f429a9f53": {
      "model_module": "@jupyter-widgets/controls",
      "model_module_version": "1.5.0",
      "model_name": "HTMLModel",
      "state": {
       "layout": "IPY_MODEL_a1fe0ae39df04e1ca61f1e7e18290e1c",
       "style": "IPY_MODEL_5e2fc782b5a44ef096adc80669817c36",
       "value": " 212/212 [00:09&lt;00:00, 21.51it/s]"
      }
     },
     "789877f366d0497292e628e5823ab588": {
      "model_module": "@jupyter-widgets/controls",
      "model_module_version": "1.5.0",
      "model_name": "ProgressStyleModel",
      "state": {
       "description_width": ""
      }
     },
     "78ca4aa5d8364dfc9b12e32972c37556": {
      "model_module": "@jupyter-widgets/controls",
      "model_module_version": "1.5.0",
      "model_name": "ProgressStyleModel",
      "state": {
       "description_width": ""
      }
     },
     "78cb907b9d3446f9b62b161b1e04850d": {
      "model_module": "@jupyter-widgets/controls",
      "model_module_version": "1.5.0",
      "model_name": "HTMLModel",
      "state": {
       "layout": "IPY_MODEL_875ca0f036334d80a791c99de37aa8af",
       "style": "IPY_MODEL_ab9fd25358074ad49753c579b184dc58",
       "value": "loss: 0.6674: 100%"
      }
     },
     "78d30daf605e446f88a3b176f1ba4814": {
      "model_module": "@jupyter-widgets/base",
      "model_module_version": "1.2.0",
      "model_name": "LayoutModel",
      "state": {}
     },
     "78f17b1879d74f94bbc023948ea6fb44": {
      "model_module": "@jupyter-widgets/controls",
      "model_module_version": "1.5.0",
      "model_name": "DescriptionStyleModel",
      "state": {
       "description_width": ""
      }
     },
     "78f69e804336413b9c7cd87b54ad80e4": {
      "model_module": "@jupyter-widgets/base",
      "model_module_version": "1.2.0",
      "model_name": "LayoutModel",
      "state": {}
     },
     "791324c013304f9aab6ca6f269e1cc25": {
      "model_module": "@jupyter-widgets/controls",
      "model_module_version": "1.5.0",
      "model_name": "DescriptionStyleModel",
      "state": {
       "description_width": ""
      }
     },
     "7915194ff4c140f99786396823c2f121": {
      "model_module": "@jupyter-widgets/base",
      "model_module_version": "1.2.0",
      "model_name": "LayoutModel",
      "state": {}
     },
     "794c4dd86f8c49b5a9495ad79f50495c": {
      "model_module": "@jupyter-widgets/controls",
      "model_module_version": "1.5.0",
      "model_name": "DescriptionStyleModel",
      "state": {
       "description_width": ""
      }
     },
     "79599999f8a24880abafb2b2fc9477f0": {
      "model_module": "@jupyter-widgets/controls",
      "model_module_version": "1.5.0",
      "model_name": "ProgressStyleModel",
      "state": {
       "description_width": ""
      }
     },
     "796ca0f757bf4fbcae46962a9b86d7ec": {
      "model_module": "@jupyter-widgets/controls",
      "model_module_version": "1.5.0",
      "model_name": "HTMLModel",
      "state": {
       "layout": "IPY_MODEL_da57661759ff466aa35cc003a682e624",
       "style": "IPY_MODEL_e912e474e6f243b486f4f1dd3d8d6e1f",
       "value": " 1445/1445 [01:02&lt;00:00, 23.67it/s]"
      }
     },
     "797d197be4654e10a6e904ad1fddfe85": {
      "model_module": "@jupyter-widgets/base",
      "model_module_version": "1.2.0",
      "model_name": "LayoutModel",
      "state": {}
     },
     "79886c7f8b7642b0a80deb41e7c8d9ab": {
      "model_module": "@jupyter-widgets/controls",
      "model_module_version": "1.5.0",
      "model_name": "DescriptionStyleModel",
      "state": {
       "description_width": ""
      }
     },
     "79966043de444796ad6194a9eeec8cf3": {
      "model_module": "@jupyter-widgets/base",
      "model_module_version": "1.2.0",
      "model_name": "LayoutModel",
      "state": {}
     },
     "79b8136ebceb46cba75e37349a0ce82a": {
      "model_module": "@jupyter-widgets/base",
      "model_module_version": "1.2.0",
      "model_name": "LayoutModel",
      "state": {}
     },
     "79d907ab52764b7a8894b53e4e415e60": {
      "model_module": "@jupyter-widgets/controls",
      "model_module_version": "1.5.0",
      "model_name": "FloatProgressModel",
      "state": {
       "layout": "IPY_MODEL_c80f004bbfaf4bafb8dad35092dd7354",
       "max": 1024,
       "style": "IPY_MODEL_1ad3cd033af04e92afc2c3a9331384e3",
       "value": 1024
      }
     },
     "79f8fa454e004ee58bc663dcd1297350": {
      "model_module": "@jupyter-widgets/controls",
      "model_module_version": "1.5.0",
      "model_name": "HTMLModel",
      "state": {
       "layout": "IPY_MODEL_e3625a87948145108b311dfd3e59cee7",
       "style": "IPY_MODEL_75b5e6a0979745a4906bff7b474fe0b7",
       "value": " 930/930 [00:39&lt;00:00, 24.63it/s]"
      }
     },
     "7a0a13e57bf243b78c13dcddd7feaa03": {
      "model_module": "@jupyter-widgets/controls",
      "model_module_version": "1.5.0",
      "model_name": "FloatProgressModel",
      "state": {
       "layout": "IPY_MODEL_06f6fed51e87457aa68361dca929816a",
       "max": 903,
       "style": "IPY_MODEL_2480d30561b0497aa4261d2bb8dc4265",
       "value": 903
      }
     },
     "7a21884fc2ce4623be6552cc5aab22ec": {
      "model_module": "@jupyter-widgets/controls",
      "model_module_version": "1.5.0",
      "model_name": "FloatProgressModel",
      "state": {
       "layout": "IPY_MODEL_a24b375780f1471e9993fab2cfe1a898",
       "max": 1037,
       "style": "IPY_MODEL_491ad2a0a6bc4acfa391480165c78cb4",
       "value": 1037
      }
     },
     "7a4f4e0f6b2f4394815350f8cb8a8829": {
      "model_module": "@jupyter-widgets/controls",
      "model_module_version": "1.5.0",
      "model_name": "DescriptionStyleModel",
      "state": {
       "description_width": ""
      }
     },
     "7a56ed8a4b0c48bcb06589863795c31f": {
      "model_module": "@jupyter-widgets/base",
      "model_module_version": "1.2.0",
      "model_name": "LayoutModel",
      "state": {}
     },
     "7a5c230558db4ebc8b02d4f0d4ef1b38": {
      "model_module": "@jupyter-widgets/controls",
      "model_module_version": "1.5.0",
      "model_name": "DescriptionStyleModel",
      "state": {
       "description_width": ""
      }
     },
     "7a83560c2a3e4fa2b09782b61cfadceb": {
      "model_module": "@jupyter-widgets/controls",
      "model_module_version": "1.5.0",
      "model_name": "ProgressStyleModel",
      "state": {
       "description_width": ""
      }
     },
     "7a86d4c601af4d1c88aca5790b622b67": {
      "model_module": "@jupyter-widgets/controls",
      "model_module_version": "1.5.0",
      "model_name": "DescriptionStyleModel",
      "state": {
       "description_width": ""
      }
     },
     "7a91ba7b7a3e49fc825c8cd16cb517f0": {
      "model_module": "@jupyter-widgets/controls",
      "model_module_version": "1.5.0",
      "model_name": "HTMLModel",
      "state": {
       "layout": "IPY_MODEL_53ca03a196924dae8e67adae128c7abe",
       "style": "IPY_MODEL_67041b70bd15489ba2eebb5c79fb3fac",
       "value": "100%"
      }
     },
     "7a934c04626f48ac961ea3e481e61aec": {
      "model_module": "@jupyter-widgets/base",
      "model_module_version": "1.2.0",
      "model_name": "LayoutModel",
      "state": {}
     },
     "7aa2d48f72084a1a90ac38d2f55750a1": {
      "model_module": "@jupyter-widgets/base",
      "model_module_version": "1.2.0",
      "model_name": "LayoutModel",
      "state": {}
     },
     "7ab0e41888b84eaa82288d63737bf0d3": {
      "model_module": "@jupyter-widgets/controls",
      "model_module_version": "1.5.0",
      "model_name": "DescriptionStyleModel",
      "state": {
       "description_width": ""
      }
     },
     "7ab52ce6e246485a8a0b83fbecf2afbd": {
      "model_module": "@jupyter-widgets/base",
      "model_module_version": "1.2.0",
      "model_name": "LayoutModel",
      "state": {}
     },
     "7aba538ac2d3408f90e69c08b0765ac0": {
      "model_module": "@jupyter-widgets/base",
      "model_module_version": "1.2.0",
      "model_name": "LayoutModel",
      "state": {}
     },
     "7acec413598849879c15d82d0a5d722d": {
      "model_module": "@jupyter-widgets/base",
      "model_module_version": "1.2.0",
      "model_name": "LayoutModel",
      "state": {}
     },
     "7af2ae109f324980a001a4fe6609dbaf": {
      "model_module": "@jupyter-widgets/controls",
      "model_module_version": "1.5.0",
      "model_name": "FloatProgressModel",
      "state": {
       "layout": "IPY_MODEL_74afd84dbeea446997c3f2ad77303252",
       "max": 903,
       "style": "IPY_MODEL_5ef4b9aca4c74ab3b32fb98fc92d7f5c",
       "value": 903
      }
     },
     "7b0834f6b8e54fa88e12f168c15152e3": {
      "model_module": "@jupyter-widgets/base",
      "model_module_version": "1.2.0",
      "model_name": "LayoutModel",
      "state": {}
     },
     "7b3993b133484cbb824d4e23db8cdfdc": {
      "model_module": "@jupyter-widgets/base",
      "model_module_version": "1.2.0",
      "model_name": "LayoutModel",
      "state": {}
     },
     "7b8a915fea344893b71d71c9d5bd4fb5": {
      "model_module": "@jupyter-widgets/base",
      "model_module_version": "1.2.0",
      "model_name": "LayoutModel",
      "state": {}
     },
     "7bf533d268ca426d85ed53db2cbe5f6a": {
      "model_module": "@jupyter-widgets/base",
      "model_module_version": "1.2.0",
      "model_name": "LayoutModel",
      "state": {}
     },
     "7c287711d3644e4f9ae505c2386256d1": {
      "model_module": "@jupyter-widgets/base",
      "model_module_version": "1.2.0",
      "model_name": "LayoutModel",
      "state": {}
     },
     "7c3ebd2fde06439d8538716510c263e5": {
      "model_module": "@jupyter-widgets/base",
      "model_module_version": "1.2.0",
      "model_name": "LayoutModel",
      "state": {}
     },
     "7c3f51053912409db5010b00e253abc8": {
      "model_module": "@jupyter-widgets/base",
      "model_module_version": "1.2.0",
      "model_name": "LayoutModel",
      "state": {}
     },
     "7c775351138d4eb592d555bf5628171a": {
      "model_module": "@jupyter-widgets/controls",
      "model_module_version": "1.5.0",
      "model_name": "ProgressStyleModel",
      "state": {
       "description_width": ""
      }
     },
     "7c7c230459c14cfcb5bcc11a72ffab60": {
      "model_module": "@jupyter-widgets/base",
      "model_module_version": "1.2.0",
      "model_name": "LayoutModel",
      "state": {}
     },
     "7cd81a9c90e94e99a1c7a832014f636f": {
      "model_module": "@jupyter-widgets/controls",
      "model_module_version": "1.5.0",
      "model_name": "HTMLModel",
      "state": {
       "layout": "IPY_MODEL_2a49affd72724f31b7bbc091ef316762",
       "style": "IPY_MODEL_61497a6388b64732bd29cdcb99cfb50c",
       "value": "loss: 0.6720: 100%"
      }
     },
     "7cf9655ccc5146628f71920d5bd3397f": {
      "model_module": "@jupyter-widgets/controls",
      "model_module_version": "1.5.0",
      "model_name": "HTMLModel",
      "state": {
       "layout": "IPY_MODEL_825ff3e9149e4f3588fecac0c26c8310",
       "style": "IPY_MODEL_63c39c227acc43da9effdb23e7d9db2d",
       "value": " 1166/1166 [00:50&lt;00:00, 23.37it/s]"
      }
     },
     "7d453df189324140b785f0c95b502e60": {
      "model_module": "@jupyter-widgets/base",
      "model_module_version": "1.2.0",
      "model_name": "LayoutModel",
      "state": {}
     },
     "7d61915551674bd79d0db4b06168828e": {
      "model_module": "@jupyter-widgets/controls",
      "model_module_version": "1.5.0",
      "model_name": "ProgressStyleModel",
      "state": {
       "description_width": ""
      }
     },
     "7d77acc0914841b58812e284f5784a2c": {
      "model_module": "@jupyter-widgets/controls",
      "model_module_version": "1.5.0",
      "model_name": "FloatProgressModel",
      "state": {
       "layout": "IPY_MODEL_e4f865258ee44d6daf37264710a1e295",
       "max": 248,
       "style": "IPY_MODEL_b1d1ada19be140c29bce48cf6029a419",
       "value": 248
      }
     },
     "7d7cd23c847c4acc846cb8b530d005db": {
      "model_module": "@jupyter-widgets/controls",
      "model_module_version": "1.5.0",
      "model_name": "HTMLModel",
      "state": {
       "layout": "IPY_MODEL_9a12a7edb60f488da45f65848b47a9c6",
       "style": "IPY_MODEL_5e29281d131e422981999bd80ed9920c",
       "value": "loss: 0.5633: 100%"
      }
     },
     "7da31adbc619487b8ec4ae615f7b0b8d": {
      "model_module": "@jupyter-widgets/controls",
      "model_module_version": "1.5.0",
      "model_name": "HTMLModel",
      "state": {
       "layout": "IPY_MODEL_4dc138825afe4afdb11258d3c1297600",
       "style": "IPY_MODEL_18478f34a04840bb8f5d0d5bfb2073fb",
       "value": " 1213/1213 [00:54&lt;00:00, 24.13it/s]"
      }
     },
     "7daa1c0fbf9c4ef39bd363e8cbf34e87": {
      "model_module": "@jupyter-widgets/controls",
      "model_module_version": "1.5.0",
      "model_name": "FloatProgressModel",
      "state": {
       "layout": "IPY_MODEL_e914b8be38a14cc0866208991b20c74a",
       "max": 1656,
       "style": "IPY_MODEL_ae9885584d2f44d48ece261a8d42a321",
       "value": 1656
      }
     },
     "7dbfa583d4d34e5988ecb2331e487353": {
      "model_module": "@jupyter-widgets/controls",
      "model_module_version": "1.5.0",
      "model_name": "FloatProgressModel",
      "state": {
       "layout": "IPY_MODEL_53ffa0c415074691ae01f8975341ae05",
       "max": 1037,
       "style": "IPY_MODEL_15ba5ae2de9747a4974929caeccb90fb",
       "value": 1037
      }
     },
     "7e098f57ec0f440f951be75e6b86cd12": {
      "model_module": "@jupyter-widgets/base",
      "model_module_version": "1.2.0",
      "model_name": "LayoutModel",
      "state": {}
     },
     "7e49ac82a0544c5b8b02972cbfe06d22": {
      "model_module": "@jupyter-widgets/base",
      "model_module_version": "1.2.0",
      "model_name": "LayoutModel",
      "state": {}
     },
     "7ec3da993ea740d4b4196860b829023a": {
      "model_module": "@jupyter-widgets/base",
      "model_module_version": "1.2.0",
      "model_name": "LayoutModel",
      "state": {}
     },
     "7ee25bc7d08a4c9184c603df0e681a06": {
      "model_module": "@jupyter-widgets/base",
      "model_module_version": "1.2.0",
      "model_name": "LayoutModel",
      "state": {}
     },
     "7ef31d616b45447b9c0e6c0785764e90": {
      "model_module": "@jupyter-widgets/controls",
      "model_module_version": "1.5.0",
      "model_name": "DescriptionStyleModel",
      "state": {
       "description_width": ""
      }
     },
     "7effe7eec1f049209d0700ec296320ba": {
      "model_module": "@jupyter-widgets/controls",
      "model_module_version": "1.5.0",
      "model_name": "DescriptionStyleModel",
      "state": {
       "description_width": ""
      }
     },
     "7f18c700ed1844938814d7a146d55e4e": {
      "model_module": "@jupyter-widgets/base",
      "model_module_version": "1.2.0",
      "model_name": "LayoutModel",
      "state": {}
     },
     "7f1ab6d0f4f24e5a8c5f6cd3f9dbf3fe": {
      "model_module": "@jupyter-widgets/controls",
      "model_module_version": "1.5.0",
      "model_name": "DescriptionStyleModel",
      "state": {
       "description_width": ""
      }
     },
     "7f22e4c2a16249f58e216906309f6768": {
      "model_module": "@jupyter-widgets/base",
      "model_module_version": "1.2.0",
      "model_name": "LayoutModel",
      "state": {}
     },
     "7f32c1b8bbc64668b38d377e858b0bcf": {
      "model_module": "@jupyter-widgets/base",
      "model_module_version": "1.2.0",
      "model_name": "LayoutModel",
      "state": {}
     },
     "7f8a6e361ee2467bb93c03f47164894b": {
      "model_module": "@jupyter-widgets/controls",
      "model_module_version": "1.5.0",
      "model_name": "HTMLModel",
      "state": {
       "layout": "IPY_MODEL_9cd601cda14e44e1841f3aa40397be37",
       "style": "IPY_MODEL_53e316f322154e1a96105d4cee9ec00e",
       "value": " 1247/1247 [00:55&lt;00:00, 22.43it/s]"
      }
     },
     "802dd5f8c0034c97949ef3065dc646c2": {
      "model_module": "@jupyter-widgets/base",
      "model_module_version": "1.2.0",
      "model_name": "LayoutModel",
      "state": {}
     },
     "804f6f249fa145ae87c6ed8f560c8f3e": {
      "model_module": "@jupyter-widgets/base",
      "model_module_version": "1.2.0",
      "model_name": "LayoutModel",
      "state": {}
     },
     "8050b207380d4b5c8bb62b77b89b813c": {
      "model_module": "@jupyter-widgets/controls",
      "model_module_version": "1.5.0",
      "model_name": "DescriptionStyleModel",
      "state": {
       "description_width": ""
      }
     },
     "80649f53589d4d3ca61a996c0b6c408e": {
      "model_module": "@jupyter-widgets/controls",
      "model_module_version": "1.5.0",
      "model_name": "HTMLModel",
      "state": {
       "layout": "IPY_MODEL_1ffe05353c9a4395963e1ad4ca279983",
       "style": "IPY_MODEL_5b35b7feffec413b9700626d358c888d",
       "value": "100%"
      }
     },
     "80682abc68c44011893bc7dadc83bcff": {
      "model_module": "@jupyter-widgets/base",
      "model_module_version": "1.2.0",
      "model_name": "LayoutModel",
      "state": {}
     },
     "80aa98ee5fd8499ea2778128cf8f091e": {
      "model_module": "@jupyter-widgets/controls",
      "model_module_version": "1.5.0",
      "model_name": "FloatProgressModel",
      "state": {
       "layout": "IPY_MODEL_a4ae2437924d43dd9995531bb982ac9f",
       "max": 1149,
       "style": "IPY_MODEL_d195da105d12429a9722faf29c6c7f25",
       "value": 1149
      }
     },
     "80ac133fb78b46c48b0fdffadf1eebda": {
      "model_module": "@jupyter-widgets/controls",
      "model_module_version": "1.5.0",
      "model_name": "FloatProgressModel",
      "state": {
       "layout": "IPY_MODEL_2660bb6c3db94b92862a93d4230f85c7",
       "max": 354,
       "style": "IPY_MODEL_45830d150cda40c9bbdf75c3fc643d44",
       "value": 354
      }
     },
     "80d6cf6ea8f74de9a860246976a47475": {
      "model_module": "@jupyter-widgets/controls",
      "model_module_version": "1.5.0",
      "model_name": "DescriptionStyleModel",
      "state": {
       "description_width": ""
      }
     },
     "80dd7c39575a4382b1b95da52b481267": {
      "model_module": "@jupyter-widgets/controls",
      "model_module_version": "1.5.0",
      "model_name": "DescriptionStyleModel",
      "state": {
       "description_width": ""
      }
     },
     "80e0d00d994142cb9cb339cceed1a4d4": {
      "model_module": "@jupyter-widgets/base",
      "model_module_version": "1.2.0",
      "model_name": "LayoutModel",
      "state": {}
     },
     "80edad73ef0745a3af3079ea16c5d5d2": {
      "model_module": "@jupyter-widgets/controls",
      "model_module_version": "1.5.0",
      "model_name": "DescriptionStyleModel",
      "state": {
       "description_width": ""
      }
     },
     "80eee4e2b7954c3a807cb5e98f30d16b": {
      "model_module": "@jupyter-widgets/controls",
      "model_module_version": "1.5.0",
      "model_name": "FloatProgressModel",
      "state": {
       "layout": "IPY_MODEL_a96b9fa3eddb4294ba921b49dd331e07",
       "max": 1220,
       "style": "IPY_MODEL_aa4ebaa8cd6146a3a13182dec22055a7",
       "value": 1220
      }
     },
     "80f1bd3fc00a4892aaac1775a36b77e2": {
      "model_module": "@jupyter-widgets/controls",
      "model_module_version": "1.5.0",
      "model_name": "HTMLModel",
      "state": {
       "layout": "IPY_MODEL_ecd884ad15e14e0c934fd728e5aa158b",
       "style": "IPY_MODEL_b84ab3163ba249ea9370bc7c9d473db6",
       "value": " 1217/1217 [00:52&lt;00:00, 23.18it/s]"
      }
     },
     "80f54c52a3814dbe912a2dd3025ff8c5": {
      "model_module": "@jupyter-widgets/controls",
      "model_module_version": "1.5.0",
      "model_name": "FloatProgressModel",
      "state": {
       "layout": "IPY_MODEL_efd0553b98944c3dbe483256347baa0c",
       "max": 993,
       "style": "IPY_MODEL_60b02cb165374ce8af7015441993535d",
       "value": 993
      }
     },
     "81177fe66e3548f8ade090f82603b5fb": {
      "model_module": "@jupyter-widgets/controls",
      "model_module_version": "1.5.0",
      "model_name": "HTMLModel",
      "state": {
       "layout": "IPY_MODEL_c45027f145ba4c8fba82fdc455c77e8b",
       "style": "IPY_MODEL_fcde11f8e50443a59c32497685a669b1",
       "value": " 1229/1229 [00:58&lt;00:00, 21.31it/s]"
      }
     },
     "8118bdee82fa4dc09d0c1f942f55ba9a": {
      "model_module": "@jupyter-widgets/controls",
      "model_module_version": "1.5.0",
      "model_name": "HTMLModel",
      "state": {
       "layout": "IPY_MODEL_e89f2ccd937148bdbbafaeace8398212",
       "style": "IPY_MODEL_378f8f954e8949bc849ebe53004d544f",
       "value": " 1467/1467 [01:02&lt;00:00, 24.30it/s]"
      }
     },
     "816deda2bd20477384e22de11230f31a": {
      "model_module": "@jupyter-widgets/controls",
      "model_module_version": "1.5.0",
      "model_name": "DescriptionStyleModel",
      "state": {
       "description_width": ""
      }
     },
     "817dc48a1ec34d07b94365d3ad49e18f": {
      "model_module": "@jupyter-widgets/controls",
      "model_module_version": "1.5.0",
      "model_name": "HTMLModel",
      "state": {
       "layout": "IPY_MODEL_85045750596b48f680e60b3a3111ca0f",
       "style": "IPY_MODEL_11b6cc099f334252826a753f8d52bb50",
       "value": "loss: 0.6075: 100%"
      }
     },
     "819752b52f484db48d33e5fea021da8a": {
      "model_module": "@jupyter-widgets/controls",
      "model_module_version": "1.5.0",
      "model_name": "HTMLModel",
      "state": {
       "layout": "IPY_MODEL_d756c10e64344db3985e2120a61395b8",
       "style": "IPY_MODEL_47c535e68dde402a954e16740a92f8de",
       "value": " 1445/1445 [01:04&lt;00:00, 22.47it/s]"
      }
     },
     "81c4bbfedacf44f2a573517d22ebe1af": {
      "model_module": "@jupyter-widgets/base",
      "model_module_version": "1.2.0",
      "model_name": "LayoutModel",
      "state": {}
     },
     "81d110f5f596488cb905693356b39a9a": {
      "model_module": "@jupyter-widgets/controls",
      "model_module_version": "1.5.0",
      "model_name": "FloatProgressModel",
      "state": {
       "layout": "IPY_MODEL_dbf85caacda1494fb8fbc3faa47a2662",
       "max": 1075,
       "style": "IPY_MODEL_0ae1c3eb16674c65806018db8b5a2984",
       "value": 1075
      }
     },
     "81d8eb282774426a802e117b6ef6b697": {
      "model_module": "@jupyter-widgets/base",
      "model_module_version": "1.2.0",
      "model_name": "LayoutModel",
      "state": {}
     },
     "81e980eea15b40929fc5017ecb8ba092": {
      "model_module": "@jupyter-widgets/base",
      "model_module_version": "1.2.0",
      "model_name": "LayoutModel",
      "state": {}
     },
     "81e9e57bf18a446c8e2a4af6b5538a6e": {
      "model_module": "@jupyter-widgets/controls",
      "model_module_version": "1.5.0",
      "model_name": "HTMLModel",
      "state": {
       "layout": "IPY_MODEL_bb2f58970cf446139ad6ccc4d2b7457f",
       "style": "IPY_MODEL_be33d7923ccf4d83858983705a384a82",
       "value": " 1187/1187 [00:56&lt;00:00, 21.30it/s]"
      }
     },
     "81f9db5bd5a34c698dedfb47b896e06b": {
      "model_module": "@jupyter-widgets/base",
      "model_module_version": "1.2.0",
      "model_name": "LayoutModel",
      "state": {}
     },
     "8208b17f1cf4412d9e3b323a5362cb59": {
      "model_module": "@jupyter-widgets/controls",
      "model_module_version": "1.5.0",
      "model_name": "HTMLModel",
      "state": {
       "layout": "IPY_MODEL_b6d70e23ecb6404395e4b98a2627d545",
       "style": "IPY_MODEL_d42d7e95bec744e6b92e9de7b75c8ea7",
       "value": "loss: 0.6712: 100%"
      }
     },
     "820a8836921e4d66aa0dd91022a5e97a": {
      "model_module": "@jupyter-widgets/controls",
      "model_module_version": "1.5.0",
      "model_name": "ProgressStyleModel",
      "state": {
       "description_width": ""
      }
     },
     "820f99b6ab0748bca824fd092f44229a": {
      "model_module": "@jupyter-widgets/base",
      "model_module_version": "1.2.0",
      "model_name": "LayoutModel",
      "state": {}
     },
     "8219214a9acb4ec3bf93e62d3d85f534": {
      "model_module": "@jupyter-widgets/controls",
      "model_module_version": "1.5.0",
      "model_name": "ProgressStyleModel",
      "state": {
       "description_width": ""
      }
     },
     "821ff7becc7b44e5876dfb1ba2f9e53e": {
      "model_module": "@jupyter-widgets/controls",
      "model_module_version": "1.5.0",
      "model_name": "HTMLModel",
      "state": {
       "layout": "IPY_MODEL_4f6ee720225c4bcd934d96e6386ea830",
       "style": "IPY_MODEL_ead2b78160bb42f2b0920f41549382b5",
       "value": "100%"
      }
     },
     "823b866ac43c4265aac230c93e6b2c3d": {
      "model_module": "@jupyter-widgets/base",
      "model_module_version": "1.2.0",
      "model_name": "LayoutModel",
      "state": {}
     },
     "8248f23ccbe949ca8e2cead3805ac3ea": {
      "model_module": "@jupyter-widgets/base",
      "model_module_version": "1.2.0",
      "model_name": "LayoutModel",
      "state": {}
     },
     "824a47e8822a400dac301d4da48eedad": {
      "model_module": "@jupyter-widgets/base",
      "model_module_version": "1.2.0",
      "model_name": "LayoutModel",
      "state": {}
     },
     "825017b9307446dba6fa4346d444ad33": {
      "model_module": "@jupyter-widgets/controls",
      "model_module_version": "1.5.0",
      "model_name": "DescriptionStyleModel",
      "state": {
       "description_width": ""
      }
     },
     "825402ff466d4cb28a9e6547dadc8e83": {
      "model_module": "@jupyter-widgets/controls",
      "model_module_version": "1.5.0",
      "model_name": "ProgressStyleModel",
      "state": {
       "description_width": ""
      }
     },
     "825ff3e9149e4f3588fecac0c26c8310": {
      "model_module": "@jupyter-widgets/base",
      "model_module_version": "1.2.0",
      "model_name": "LayoutModel",
      "state": {}
     },
     "8262c2ff3af84355888b3e1d6780ec7e": {
      "model_module": "@jupyter-widgets/base",
      "model_module_version": "1.2.0",
      "model_name": "LayoutModel",
      "state": {}
     },
     "82663cc50af64a4ebf973cb0e3b5bb8f": {
      "model_module": "@jupyter-widgets/controls",
      "model_module_version": "1.5.0",
      "model_name": "DescriptionStyleModel",
      "state": {
       "description_width": ""
      }
     },
     "8268c7d504bb44d4a21616232f7835a7": {
      "model_module": "@jupyter-widgets/controls",
      "model_module_version": "1.5.0",
      "model_name": "DescriptionStyleModel",
      "state": {
       "description_width": ""
      }
     },
     "8274c809a8674a339274764ec30fbebc": {
      "model_module": "@jupyter-widgets/base",
      "model_module_version": "1.2.0",
      "model_name": "LayoutModel",
      "state": {}
     },
     "8279c8a3bf4e42e99e84e2cef756f2ac": {
      "model_module": "@jupyter-widgets/controls",
      "model_module_version": "1.5.0",
      "model_name": "HTMLModel",
      "state": {
       "layout": "IPY_MODEL_dde46c42edcd472d9aa704e18f4f4838",
       "style": "IPY_MODEL_6e2f9484b5354134ba08390570ee9407",
       "value": "loss: 0.6402: 100%"
      }
     },
     "82d1544ba1ca456cb4ae5eb17c1685f0": {
      "model_module": "@jupyter-widgets/base",
      "model_module_version": "1.2.0",
      "model_name": "LayoutModel",
      "state": {}
     },
     "82e8e92c871c4e8088ffb5e7dd9a9fd6": {
      "model_module": "@jupyter-widgets/controls",
      "model_module_version": "1.5.0",
      "model_name": "HTMLModel",
      "state": {
       "layout": "IPY_MODEL_6f5560ba2fd341ba890746577c4d6ae4",
       "style": "IPY_MODEL_c2ebd533e8554918bda7f7cfd7d9bcfe",
       "value": "100%"
      }
     },
     "8301f36eb01f44c696bc263446c56a84": {
      "model_module": "@jupyter-widgets/controls",
      "model_module_version": "1.5.0",
      "model_name": "HTMLModel",
      "state": {
       "layout": "IPY_MODEL_ed5075d70c4f417582f12320aa7f9f07",
       "style": "IPY_MODEL_77eba5a1f1184d3b8bbc83fb575eeef0",
       "value": " 1084/1084 [00:51&lt;00:00, 21.25it/s]"
      }
     },
     "830bd57360854a43ab2ab01d010e76a4": {
      "model_module": "@jupyter-widgets/base",
      "model_module_version": "1.2.0",
      "model_name": "LayoutModel",
      "state": {}
     },
     "8315e15708a6482baecf5f5f5cc5e1e5": {
      "model_module": "@jupyter-widgets/base",
      "model_module_version": "1.2.0",
      "model_name": "LayoutModel",
      "state": {}
     },
     "8324e75ecda1446b93ed5ab6582a9ae9": {
      "model_module": "@jupyter-widgets/base",
      "model_module_version": "1.2.0",
      "model_name": "LayoutModel",
      "state": {}
     },
     "8339e0f343944b0aa8379f387503b7ec": {
      "model_module": "@jupyter-widgets/controls",
      "model_module_version": "1.5.0",
      "model_name": "HTMLModel",
      "state": {
       "layout": "IPY_MODEL_0e22d249bdad482d9c71b758ae1155ed",
       "style": "IPY_MODEL_4bf8535c47df4cde8b8c1c04e0a91e93",
       "value": " 210/210 [00:09&lt;00:00, 23.14it/s]"
      }
     },
     "8358aee242c14d9d9e3cfd4bd53b417e": {
      "model_module": "@jupyter-widgets/base",
      "model_module_version": "1.2.0",
      "model_name": "LayoutModel",
      "state": {}
     },
     "838246f66f4c489490ad30459ff2fe8c": {
      "model_module": "@jupyter-widgets/base",
      "model_module_version": "1.2.0",
      "model_name": "LayoutModel",
      "state": {}
     },
     "83868ed4ff3845ebb69dc55eee2fad13": {
      "model_module": "@jupyter-widgets/base",
      "model_module_version": "1.2.0",
      "model_name": "LayoutModel",
      "state": {}
     },
     "83920340c6de4f23bbb463316702f522": {
      "model_module": "@jupyter-widgets/controls",
      "model_module_version": "1.5.0",
      "model_name": "DescriptionStyleModel",
      "state": {
       "description_width": ""
      }
     },
     "83aae92359af418b80a85d5d108043b7": {
      "model_module": "@jupyter-widgets/controls",
      "model_module_version": "1.5.0",
      "model_name": "ProgressStyleModel",
      "state": {
       "description_width": ""
      }
     },
     "83bd7cf8697d4772aeec0dfc1f99777a": {
      "model_module": "@jupyter-widgets/controls",
      "model_module_version": "1.5.0",
      "model_name": "FloatProgressModel",
      "state": {
       "layout": "IPY_MODEL_0689db1e495d4244bb03a6af704efa94",
       "max": 133,
       "style": "IPY_MODEL_1319260101eb45cbb7e41af104ed89af",
       "value": 133
      }
     },
     "83c3b16b056443848d696da04208197f": {
      "model_module": "@jupyter-widgets/controls",
      "model_module_version": "1.5.0",
      "model_name": "DescriptionStyleModel",
      "state": {
       "description_width": ""
      }
     },
     "83d1f5e655fc4485b39dc329ac2b0ae0": {
      "model_module": "@jupyter-widgets/controls",
      "model_module_version": "1.5.0",
      "model_name": "DescriptionStyleModel",
      "state": {
       "description_width": ""
      }
     },
     "83d37c4423724d038943e36b53388d6a": {
      "model_module": "@jupyter-widgets/base",
      "model_module_version": "1.2.0",
      "model_name": "LayoutModel",
      "state": {}
     },
     "83fef7c6e8044a3a8b8a62dfc3873beb": {
      "model_module": "@jupyter-widgets/controls",
      "model_module_version": "1.5.0",
      "model_name": "DescriptionStyleModel",
      "state": {
       "description_width": ""
      }
     },
     "8404afd65f2a48588d20325c61415b84": {
      "model_module": "@jupyter-widgets/base",
      "model_module_version": "1.2.0",
      "model_name": "LayoutModel",
      "state": {}
     },
     "8415d96e841d49dd86344e073c5001a0": {
      "model_module": "@jupyter-widgets/base",
      "model_module_version": "1.2.0",
      "model_name": "LayoutModel",
      "state": {}
     },
     "84356b6fc9d843d6a38412c09f59076d": {
      "model_module": "@jupyter-widgets/base",
      "model_module_version": "1.2.0",
      "model_name": "LayoutModel",
      "state": {}
     },
     "849545b759d9478bb0007eec5f13662a": {
      "model_module": "@jupyter-widgets/controls",
      "model_module_version": "1.5.0",
      "model_name": "HTMLModel",
      "state": {
       "layout": "IPY_MODEL_64cf93d735044b7cb0b237c7ba07091e",
       "style": "IPY_MODEL_1cbee484d06e4a9a90b66258bbb6d901",
       "value": " 1467/1467 [01:02&lt;00:00, 23.80it/s]"
      }
     },
     "84d29887054743f6b009c293b6a895f0": {
      "model_module": "@jupyter-widgets/controls",
      "model_module_version": "1.5.0",
      "model_name": "FloatProgressModel",
      "state": {
       "layout": "IPY_MODEL_ab284ebe44d84ef3a5a8fe50c79bac88",
       "max": 1262,
       "style": "IPY_MODEL_1e03fdb794c9487da7fdef02c8ba0a89",
       "value": 1262
      }
     },
     "85045750596b48f680e60b3a3111ca0f": {
      "model_module": "@jupyter-widgets/base",
      "model_module_version": "1.2.0",
      "model_name": "LayoutModel",
      "state": {}
     },
     "8516959e2b9f470aa10161ba8c751756": {
      "model_module": "@jupyter-widgets/base",
      "model_module_version": "1.2.0",
      "model_name": "LayoutModel",
      "state": {}
     },
     "853347b5dabd41ec8f5990e9ecf972e2": {
      "model_module": "@jupyter-widgets/controls",
      "model_module_version": "1.5.0",
      "model_name": "FloatProgressModel",
      "state": {
       "layout": "IPY_MODEL_324a7b4117d84832aa1ecef4abea36f8",
       "max": 1218,
       "style": "IPY_MODEL_2c7bb7b28acb45be8d0006908c4b9640",
       "value": 1218
      }
     },
     "853dec7b7f8f4d1a89f2c24138846b7b": {
      "model_module": "@jupyter-widgets/base",
      "model_module_version": "1.2.0",
      "model_name": "LayoutModel",
      "state": {}
     },
     "854469fadb78426b9473043f72df8cc9": {
      "model_module": "@jupyter-widgets/base",
      "model_module_version": "1.2.0",
      "model_name": "LayoutModel",
      "state": {}
     },
     "8595190ed1334a4a94c75fa048be1192": {
      "model_module": "@jupyter-widgets/controls",
      "model_module_version": "1.5.0",
      "model_name": "DescriptionStyleModel",
      "state": {
       "description_width": ""
      }
     },
     "85aeed938d094e4a8a4e7a3db3237b53": {
      "model_module": "@jupyter-widgets/controls",
      "model_module_version": "1.5.0",
      "model_name": "HTMLModel",
      "state": {
       "layout": "IPY_MODEL_22f36b7e11e74ee190236c5c9faa3748",
       "style": "IPY_MODEL_7ef31d616b45447b9c0e6c0785764e90",
       "value": " 1181/1181 [00:50&lt;00:00, 23.40it/s]"
      }
     },
     "85c8c10a7bb347ada9e4445115cb2822": {
      "model_module": "@jupyter-widgets/base",
      "model_module_version": "1.2.0",
      "model_name": "LayoutModel",
      "state": {}
     },
     "85ed3bf0ec2f4480bc6697b3e1222444": {
      "model_module": "@jupyter-widgets/base",
      "model_module_version": "1.2.0",
      "model_name": "LayoutModel",
      "state": {}
     },
     "8606b90dd1414236922c79d93ee6762c": {
      "model_module": "@jupyter-widgets/controls",
      "model_module_version": "1.5.0",
      "model_name": "HTMLModel",
      "state": {
       "layout": "IPY_MODEL_93ec8e3635914f91974acbb1c40a2633",
       "style": "IPY_MODEL_f1ba1ce0ff1b489a8400c3b4beaba516",
       "value": " 993/993 [00:47&lt;00:00, 21.78it/s]"
      }
     },
     "8622f8dcf80b4e37898360d7bfc14527": {
      "model_module": "@jupyter-widgets/controls",
      "model_module_version": "1.5.0",
      "model_name": "DescriptionStyleModel",
      "state": {
       "description_width": ""
      }
     },
     "864a26d86cdf49a8a00c515674a5994b": {
      "model_module": "@jupyter-widgets/controls",
      "model_module_version": "1.5.0",
      "model_name": "HTMLModel",
      "state": {
       "layout": "IPY_MODEL_f4eab80cfe2944108faf1d34e5e9830f",
       "style": "IPY_MODEL_b467bce75f0f4d05aaa5c1201072d47f",
       "value": "100%"
      }
     },
     "8674b6c98f174977a1e3bb60ba10b124": {
      "model_module": "@jupyter-widgets/base",
      "model_module_version": "1.2.0",
      "model_name": "LayoutModel",
      "state": {}
     },
     "8681e58d56774f40a1ce4bac2c19202e": {
      "model_module": "@jupyter-widgets/controls",
      "model_module_version": "1.5.0",
      "model_name": "HTMLModel",
      "state": {
       "layout": "IPY_MODEL_7c7c230459c14cfcb5bcc11a72ffab60",
       "style": "IPY_MODEL_7796540a7e074a8687e4e59b2c2a2ca2",
       "value": "loss: 0.6549: 100%"
      }
     },
     "86973af2436c4d2f8cc5ffe7d31ad080": {
      "model_module": "@jupyter-widgets/base",
      "model_module_version": "1.2.0",
      "model_name": "LayoutModel",
      "state": {}
     },
     "86c2faac93b54a4c87ba7e7f9e1dd923": {
      "model_module": "@jupyter-widgets/controls",
      "model_module_version": "1.5.0",
      "model_name": "DescriptionStyleModel",
      "state": {
       "description_width": ""
      }
     },
     "86c8bcd63b524d31b09646ac2f6c6c5a": {
      "model_module": "@jupyter-widgets/controls",
      "model_module_version": "1.5.0",
      "model_name": "FloatProgressModel",
      "state": {
       "layout": "IPY_MODEL_035c1e52bab84748845f4b51a800021c",
       "max": 806,
       "style": "IPY_MODEL_0a2954ad0e994101855def539eb48f95",
       "value": 806
      }
     },
     "86e8c9d2d3c0452dbc9185167aac48f2": {
      "model_module": "@jupyter-widgets/controls",
      "model_module_version": "1.5.0",
      "model_name": "DescriptionStyleModel",
      "state": {
       "description_width": ""
      }
     },
     "86eef860130448b0a003bae0b63462c1": {
      "model_module": "@jupyter-widgets/base",
      "model_module_version": "1.2.0",
      "model_name": "LayoutModel",
      "state": {}
     },
     "870ca4fd223a4473bb5e98e023a5647a": {
      "model_module": "@jupyter-widgets/base",
      "model_module_version": "1.2.0",
      "model_name": "LayoutModel",
      "state": {}
     },
     "8721706c01954b71aefe69d22ff43462": {
      "model_module": "@jupyter-widgets/controls",
      "model_module_version": "1.5.0",
      "model_name": "DescriptionStyleModel",
      "state": {
       "description_width": ""
      }
     },
     "8742571630904bfbacbcc91adbf7e8c0": {
      "model_module": "@jupyter-widgets/base",
      "model_module_version": "1.2.0",
      "model_name": "LayoutModel",
      "state": {}
     },
     "8746bde9e22c4e72b9244d662646a37d": {
      "model_module": "@jupyter-widgets/controls",
      "model_module_version": "1.5.0",
      "model_name": "DescriptionStyleModel",
      "state": {
       "description_width": ""
      }
     },
     "874ce7d73886449192f152580776b6ac": {
      "model_module": "@jupyter-widgets/controls",
      "model_module_version": "1.5.0",
      "model_name": "DescriptionStyleModel",
      "state": {
       "description_width": ""
      }
     },
     "875ca0f036334d80a791c99de37aa8af": {
      "model_module": "@jupyter-widgets/base",
      "model_module_version": "1.2.0",
      "model_name": "LayoutModel",
      "state": {}
     },
     "875f01e5a36a4b2f93f1a5d982047ac1": {
      "model_module": "@jupyter-widgets/base",
      "model_module_version": "1.2.0",
      "model_name": "LayoutModel",
      "state": {}
     },
     "876e62d2d5ad4a62b9405ad0cd5e2ee2": {
      "model_module": "@jupyter-widgets/controls",
      "model_module_version": "1.5.0",
      "model_name": "HTMLModel",
      "state": {
       "layout": "IPY_MODEL_5f6c8fc48be9413899fd25eccced1aef",
       "style": "IPY_MODEL_adcca9b1f61245328366aa1f6d52521d",
       "value": "loss: 0.5649: 100%"
      }
     },
     "8770a69744f748adb2b669ef66e779e1": {
      "model_module": "@jupyter-widgets/controls",
      "model_module_version": "1.5.0",
      "model_name": "ProgressStyleModel",
      "state": {
       "description_width": ""
      }
     },
     "8771f3891734450bb63f32570fd7cdb0": {
      "model_module": "@jupyter-widgets/base",
      "model_module_version": "1.2.0",
      "model_name": "LayoutModel",
      "state": {}
     },
     "8783d02434b6461fb2c10bf9618e4dcb": {
      "model_module": "@jupyter-widgets/base",
      "model_module_version": "1.2.0",
      "model_name": "LayoutModel",
      "state": {}
     },
     "87898b9d160f4e54afb78db76db39006": {
      "model_module": "@jupyter-widgets/base",
      "model_module_version": "1.2.0",
      "model_name": "LayoutModel",
      "state": {}
     },
     "87943d8877c54a2a8fe7af0164a72e43": {
      "model_module": "@jupyter-widgets/controls",
      "model_module_version": "1.5.0",
      "model_name": "HTMLModel",
      "state": {
       "layout": "IPY_MODEL_d7d66fa66550435eab9b608630f7b969",
       "style": "IPY_MODEL_4a829c43f6a14fd692fda96d163b0786",
       "value": "loss: 0.6363: 100%"
      }
     },
     "87ac7afda7cb4d29b1155d0cf4749edf": {
      "model_module": "@jupyter-widgets/base",
      "model_module_version": "1.2.0",
      "model_name": "LayoutModel",
      "state": {}
     },
     "87df1542ef134f5d9037713d6f3636e5": {
      "model_module": "@jupyter-widgets/controls",
      "model_module_version": "1.5.0",
      "model_name": "ProgressStyleModel",
      "state": {
       "description_width": ""
      }
     },
     "87eb3fb85392472984319497694c9c56": {
      "model_module": "@jupyter-widgets/controls",
      "model_module_version": "1.5.0",
      "model_name": "HTMLModel",
      "state": {
       "layout": "IPY_MODEL_69cd418467ce4f55a6123ae5a23e3466",
       "style": "IPY_MODEL_0377a8ed3c2d4db3818fc18282173092",
       "value": " 1084/1084 [00:51&lt;00:00, 21.16it/s]"
      }
     },
     "8843e3740b244ea993a67570a1b042ab": {
      "model_module": "@jupyter-widgets/controls",
      "model_module_version": "1.5.0",
      "model_name": "FloatProgressModel",
      "state": {
       "layout": "IPY_MODEL_3492a6d3cedb4981a417f730c8926a90",
       "max": 1085,
       "style": "IPY_MODEL_9a0f60219a5e4ead91a6b87947265c77",
       "value": 1085
      }
     },
     "8845a53814e7475eb6a3e0a25d839f53": {
      "model_module": "@jupyter-widgets/controls",
      "model_module_version": "1.5.0",
      "model_name": "ProgressStyleModel",
      "state": {
       "description_width": ""
      }
     },
     "88613ce0a0724bc4bce992ee3a787f22": {
      "model_module": "@jupyter-widgets/controls",
      "model_module_version": "1.5.0",
      "model_name": "HTMLModel",
      "state": {
       "layout": "IPY_MODEL_78f69e804336413b9c7cd87b54ad80e4",
       "style": "IPY_MODEL_e8f7aa6dee174b4db7de44fbfc036a22",
       "value": "100%"
      }
     },
     "8867dd5974e940d4a4626006da44dda5": {
      "model_module": "@jupyter-widgets/controls",
      "model_module_version": "1.5.0",
      "model_name": "DescriptionStyleModel",
      "state": {
       "description_width": ""
      }
     },
     "88dfadeca8b245d0a40b75903e563205": {
      "model_module": "@jupyter-widgets/controls",
      "model_module_version": "1.5.0",
      "model_name": "DescriptionStyleModel",
      "state": {
       "description_width": ""
      }
     },
     "88e4cdcef9b84edeb55a34c5924fbfe4": {
      "model_module": "@jupyter-widgets/controls",
      "model_module_version": "1.5.0",
      "model_name": "DescriptionStyleModel",
      "state": {
       "description_width": ""
      }
     },
     "88f9c8f8562146b288b15ff7b5aef14d": {
      "model_module": "@jupyter-widgets/controls",
      "model_module_version": "1.5.0",
      "model_name": "ProgressStyleModel",
      "state": {
       "description_width": ""
      }
     },
     "88fa0a60ad024d0497319976696ce038": {
      "model_module": "@jupyter-widgets/base",
      "model_module_version": "1.2.0",
      "model_name": "LayoutModel",
      "state": {}
     },
     "88fffdfac4db4316bc96bd1f12ecef0b": {
      "model_module": "@jupyter-widgets/controls",
      "model_module_version": "1.5.0",
      "model_name": "DescriptionStyleModel",
      "state": {
       "description_width": ""
      }
     },
     "892274617e8f49dcbb03d43c70a494c9": {
      "model_module": "@jupyter-widgets/controls",
      "model_module_version": "1.5.0",
      "model_name": "FloatProgressModel",
      "state": {
       "layout": "IPY_MODEL_d19488602a54481aa374db93a6914c54",
       "max": 212,
       "style": "IPY_MODEL_eaed3dd827394a47a5a3ce4c40a400cb",
       "value": 212
      }
     },
     "89270d96a68a4562ba2cfde7f2aacf39": {
      "model_module": "@jupyter-widgets/controls",
      "model_module_version": "1.5.0",
      "model_name": "ProgressStyleModel",
      "state": {
       "description_width": ""
      }
     },
     "89526a8652404584b752e49867d6df2e": {
      "model_module": "@jupyter-widgets/base",
      "model_module_version": "1.2.0",
      "model_name": "LayoutModel",
      "state": {}
     },
     "897a4003fb9c4f78b25e8970a33cd6ee": {
      "model_module": "@jupyter-widgets/controls",
      "model_module_version": "1.5.0",
      "model_name": "FloatProgressModel",
      "state": {
       "layout": "IPY_MODEL_797d197be4654e10a6e904ad1fddfe85",
       "max": 256,
       "style": "IPY_MODEL_a454e59ca7d6404dac134bf229115eb3",
       "value": 256
      }
     },
     "897d736b04214625b5800d8997aa101a": {
      "model_module": "@jupyter-widgets/controls",
      "model_module_version": "1.5.0",
      "model_name": "HTMLModel",
      "state": {
       "layout": "IPY_MODEL_4b5bda660ae749ebb5b4987a2c293d57",
       "style": "IPY_MODEL_a06c18592cb8414594552a60707aeeb6",
       "value": "loss: 0.6600: 100%"
      }
     },
     "89cf6763537a4731ac85ccf14a46ff1a": {
      "model_module": "@jupyter-widgets/base",
      "model_module_version": "1.2.0",
      "model_name": "LayoutModel",
      "state": {}
     },
     "89dd97652c8e4b3db395974391bbb564": {
      "model_module": "@jupyter-widgets/controls",
      "model_module_version": "1.5.0",
      "model_name": "HTMLModel",
      "state": {
       "layout": "IPY_MODEL_79966043de444796ad6194a9eeec8cf3",
       "style": "IPY_MODEL_143b5c309b0f43a7b31091d0a80de5bd",
       "value": "loss: 0.9683: 100%"
      }
     },
     "89ed8cf887e14855ba2949303997c266": {
      "model_module": "@jupyter-widgets/controls",
      "model_module_version": "1.5.0",
      "model_name": "HTMLModel",
      "state": {
       "layout": "IPY_MODEL_997c6bc27b1e4730960b63351a5d8261",
       "style": "IPY_MODEL_73c1b8613b2e4db2a13042385073eded",
       "value": " 306/306 [00:14&lt;00:00, 22.84it/s]"
      }
     },
     "8a125ad7e3e545eba58976bc8b530cce": {
      "model_module": "@jupyter-widgets/controls",
      "model_module_version": "1.5.0",
      "model_name": "HTMLModel",
      "state": {
       "layout": "IPY_MODEL_8aa876db1ba341948717ee831a779b5d",
       "style": "IPY_MODEL_916034a2f87047ceb69557b6e39be6b9",
       "value": "100%"
      }
     },
     "8a31b862ec66414bb6ae54d722d44067": {
      "model_module": "@jupyter-widgets/controls",
      "model_module_version": "1.5.0",
      "model_name": "FloatProgressModel",
      "state": {
       "layout": "IPY_MODEL_a7fbb0b4acbd44749b495f8e1d3afa8e",
       "max": 1149,
       "style": "IPY_MODEL_144f7763f06e42b8af8f10f77b16497b",
       "value": 1149
      }
     },
     "8a3c96a512ae4e11958af5c41cd1cc90": {
      "model_module": "@jupyter-widgets/base",
      "model_module_version": "1.2.0",
      "model_name": "LayoutModel",
      "state": {}
     },
     "8a46f1448594449eb0c01d43b8e48f0b": {
      "model_module": "@jupyter-widgets/controls",
      "model_module_version": "1.5.0",
      "model_name": "FloatProgressModel",
      "state": {
       "layout": "IPY_MODEL_fd2a491b850b414198be99248de8f12e",
       "max": 930,
       "style": "IPY_MODEL_27cbab90581d44f496461ac9f9351a25",
       "value": 930
      }
     },
     "8a4b437e60064e67ab0c7396373061f4": {
      "model_module": "@jupyter-widgets/base",
      "model_module_version": "1.2.0",
      "model_name": "LayoutModel",
      "state": {}
     },
     "8a801e01173948739ca0fef2554aa60b": {
      "model_module": "@jupyter-widgets/base",
      "model_module_version": "1.2.0",
      "model_name": "LayoutModel",
      "state": {}
     },
     "8a8e63a0f366434ebd8befea53c3c69f": {
      "model_module": "@jupyter-widgets/controls",
      "model_module_version": "1.5.0",
      "model_name": "ProgressStyleModel",
      "state": {
       "description_width": ""
      }
     },
     "8aa876db1ba341948717ee831a779b5d": {
      "model_module": "@jupyter-widgets/base",
      "model_module_version": "1.2.0",
      "model_name": "LayoutModel",
      "state": {}
     },
     "8aaf47accd6a407d9c0dc19f2a34992b": {
      "model_module": "@jupyter-widgets/controls",
      "model_module_version": "1.5.0",
      "model_name": "DescriptionStyleModel",
      "state": {
       "description_width": ""
      }
     },
     "8abb88d02a2d4e78ab2924dc8fe48c6d": {
      "model_module": "@jupyter-widgets/base",
      "model_module_version": "1.2.0",
      "model_name": "LayoutModel",
      "state": {}
     },
     "8b1b82e1d689479bb3a8d1d05a65293b": {
      "model_module": "@jupyter-widgets/controls",
      "model_module_version": "1.5.0",
      "model_name": "HTMLModel",
      "state": {
       "layout": "IPY_MODEL_ef1f9bf144c248e3a74c5d5e85b93741",
       "style": "IPY_MODEL_a85da809640d4fd7830263de65b108be",
       "value": "loss: 0.6750: 100%"
      }
     },
     "8b1c532a92cb4860ae76c140caa37013": {
      "model_module": "@jupyter-widgets/controls",
      "model_module_version": "1.5.0",
      "model_name": "ProgressStyleModel",
      "state": {
       "description_width": ""
      }
     },
     "8b2b8feb5f7b4772ae0a7834980e264c": {
      "model_module": "@jupyter-widgets/base",
      "model_module_version": "1.2.0",
      "model_name": "LayoutModel",
      "state": {}
     },
     "8b32ffd33ef44dc496a909c8db8d1bb8": {
      "model_module": "@jupyter-widgets/base",
      "model_module_version": "1.2.0",
      "model_name": "LayoutModel",
      "state": {}
     },
     "8b341a2cefae4bc788c4141922150434": {
      "model_module": "@jupyter-widgets/base",
      "model_module_version": "1.2.0",
      "model_name": "LayoutModel",
      "state": {}
     },
     "8b39fdde29d1480c833897e81442c25d": {
      "model_module": "@jupyter-widgets/base",
      "model_module_version": "1.2.0",
      "model_name": "LayoutModel",
      "state": {}
     },
     "8b443d36e3a14d29a74a4e51f943cefd": {
      "model_module": "@jupyter-widgets/controls",
      "model_module_version": "1.5.0",
      "model_name": "FloatProgressModel",
      "state": {
       "layout": "IPY_MODEL_a717a4eb8ae04beb81bb9cead5bbdd7f",
       "max": 1218,
       "style": "IPY_MODEL_1f0d2744f77448ea850c32ae30dcc7ab",
       "value": 1218
      }
     },
     "8b52e842ed0744a2ac2c1287eaecd8fc": {
      "model_module": "@jupyter-widgets/base",
      "model_module_version": "1.2.0",
      "model_name": "LayoutModel",
      "state": {}
     },
     "8bb2bc484a0f43019ff30808ec7e73cb": {
      "model_module": "@jupyter-widgets/base",
      "model_module_version": "1.2.0",
      "model_name": "LayoutModel",
      "state": {}
     },
     "8bef23bcd8fc4f86b333636e2b934099": {
      "model_module": "@jupyter-widgets/controls",
      "model_module_version": "1.5.0",
      "model_name": "FloatProgressModel",
      "state": {
       "layout": "IPY_MODEL_13b16164742145acbf48753a176285b4",
       "max": 805,
       "style": "IPY_MODEL_47e8a64dbe454e3bbada58136e749fec",
       "value": 805
      }
     },
     "8c00cd21f44f45d1be773820f2a9c3e5": {
      "model_module": "@jupyter-widgets/controls",
      "model_module_version": "1.5.0",
      "model_name": "FloatProgressModel",
      "state": {
       "layout": "IPY_MODEL_7f22e4c2a16249f58e216906309f6768",
       "max": 1115,
       "style": "IPY_MODEL_c4a3b14935ea47b793606813f8b8b3a7",
       "value": 1115
      }
     },
     "8c71f5b1bfa6475f88931b4b795ee89c": {
      "model_module": "@jupyter-widgets/base",
      "model_module_version": "1.2.0",
      "model_name": "LayoutModel",
      "state": {}
     },
     "8c87332d152d432f957018c68493eb02": {
      "model_module": "@jupyter-widgets/base",
      "model_module_version": "1.2.0",
      "model_name": "LayoutModel",
      "state": {}
     },
     "8c8ffe6674334805acb15f6875492e84": {
      "model_module": "@jupyter-widgets/controls",
      "model_module_version": "1.5.0",
      "model_name": "ProgressStyleModel",
      "state": {
       "description_width": ""
      }
     },
     "8c9c14939dbe4cd7a0b8e872544e3d91": {
      "model_module": "@jupyter-widgets/controls",
      "model_module_version": "1.5.0",
      "model_name": "ProgressStyleModel",
      "state": {
       "description_width": ""
      }
     },
     "8cb42581616a4e478656cf1a9714f44f": {
      "model_module": "@jupyter-widgets/controls",
      "model_module_version": "1.5.0",
      "model_name": "HTMLModel",
      "state": {
       "layout": "IPY_MODEL_927a92c960a04b749c7dbed2be9e1e9e",
       "style": "IPY_MODEL_fbc37f65cc014df8966030ab321e70bc",
       "value": " 235/235 [00:10&lt;00:00, 23.41it/s]"
      }
     },
     "8cbd1c73c26c4a4198cc0792c6b01e10": {
      "model_module": "@jupyter-widgets/controls",
      "model_module_version": "1.5.0",
      "model_name": "HTMLModel",
      "state": {
       "layout": "IPY_MODEL_206eadb043604ba1b1d984cf2d60a9a0",
       "style": "IPY_MODEL_874ce7d73886449192f152580776b6ac",
       "value": " 1192/1192 [00:56&lt;00:00, 21.79it/s]"
      }
     },
     "8cf30157516f401b86c659944af4a055": {
      "model_module": "@jupyter-widgets/controls",
      "model_module_version": "1.5.0",
      "model_name": "FloatProgressModel",
      "state": {
       "layout": "IPY_MODEL_511d369881b549a9b183df988c9c30cb",
       "max": 806,
       "style": "IPY_MODEL_caf64f75a9b64e9e883c14e32cf7a60e",
       "value": 806
      }
     },
     "8d2305537d60492cac9922c550179c6a": {
      "model_module": "@jupyter-widgets/controls",
      "model_module_version": "1.5.0",
      "model_name": "FloatProgressModel",
      "state": {
       "layout": "IPY_MODEL_31f17a1e799e4328bf2554414d5a4ce9",
       "max": 1024,
       "style": "IPY_MODEL_3b5f4d3e6edb4ea68a66142dd9904ac5",
       "value": 1024
      }
     },
     "8d2635febc79427fac4069509bc64fd8": {
      "model_module": "@jupyter-widgets/controls",
      "model_module_version": "1.5.0",
      "model_name": "DescriptionStyleModel",
      "state": {
       "description_width": ""
      }
     },
     "8d317a0363b0476a99e1402dadac2c51": {
      "model_module": "@jupyter-widgets/controls",
      "model_module_version": "1.5.0",
      "model_name": "HTMLModel",
      "state": {
       "layout": "IPY_MODEL_496721374e9d4e1f9f813ec7b89bdbc3",
       "style": "IPY_MODEL_bc077d227fd1488f90abef05cc3ccf5e",
       "value": "100%"
      }
     },
     "8d4cd8dae30b4dae87be5709dcbdd520": {
      "model_module": "@jupyter-widgets/controls",
      "model_module_version": "1.5.0",
      "model_name": "DescriptionStyleModel",
      "state": {
       "description_width": ""
      }
     },
     "8d645e6c249d438e9b59b0030d377e7a": {
      "model_module": "@jupyter-widgets/base",
      "model_module_version": "1.2.0",
      "model_name": "LayoutModel",
      "state": {}
     },
     "8d69e6a4206e4c398277af13684ab252": {
      "model_module": "@jupyter-widgets/controls",
      "model_module_version": "1.5.0",
      "model_name": "HTMLModel",
      "state": {
       "layout": "IPY_MODEL_9d3b911faf0e49b28e81067bbec788e0",
       "style": "IPY_MODEL_9c07038bbb6a40189f9f2fcbb114f4be",
       "value": "loss: 0.5769: 100%"
      }
     },
     "8d8711f950bd43e4a21cb89838142e27": {
      "model_module": "@jupyter-widgets/base",
      "model_module_version": "1.2.0",
      "model_name": "LayoutModel",
      "state": {}
     },
     "8d8edd3ecab44253aec8029a4b31350d": {
      "model_module": "@jupyter-widgets/controls",
      "model_module_version": "1.5.0",
      "model_name": "HTMLModel",
      "state": {
       "layout": "IPY_MODEL_fa2ee2cd9d8143b8b110eb9dc8808339",
       "style": "IPY_MODEL_37b4ca6126224315a1a1792df8e505b9",
       "value": "100%"
      }
     },
     "8da9d22b0c52459794bce122fd4e1edb": {
      "model_module": "@jupyter-widgets/base",
      "model_module_version": "1.2.0",
      "model_name": "LayoutModel",
      "state": {}
     },
     "8db4f6eae9e34c2191409c14a58342c0": {
      "model_module": "@jupyter-widgets/base",
      "model_module_version": "1.2.0",
      "model_name": "LayoutModel",
      "state": {}
     },
     "8db632dcda874eeab625abf755ee8cac": {
      "model_module": "@jupyter-widgets/base",
      "model_module_version": "1.2.0",
      "model_name": "LayoutModel",
      "state": {}
     },
     "8dbe2941f0944abe9241c59a7c591aee": {
      "model_module": "@jupyter-widgets/controls",
      "model_module_version": "1.5.0",
      "model_name": "HTMLModel",
      "state": {
       "layout": "IPY_MODEL_cec464e6719d4b1e8a902cc48b4e52c3",
       "style": "IPY_MODEL_db8f9a1ff023458789db64b70ffb35c0",
       "value": " 1673/1673 [01:07&lt;00:00, 24.74it/s]"
      }
     },
     "8df5a411aae64dadb9123fb212965f97": {
      "model_module": "@jupyter-widgets/controls",
      "model_module_version": "1.5.0",
      "model_name": "HTMLModel",
      "state": {
       "layout": "IPY_MODEL_fa2faebb6b184927b84039f9623f0781",
       "style": "IPY_MODEL_74bc48a8d15f4cf19f6467773532c698",
       "value": "loss: 0.6617: 100%"
      }
     },
     "8dfbb8f13950443ca7e5bd95a8d1d811": {
      "model_module": "@jupyter-widgets/base",
      "model_module_version": "1.2.0",
      "model_name": "LayoutModel",
      "state": {}
     },
     "8e22c93a07f447f18a3764fe1c4b9c64": {
      "model_module": "@jupyter-widgets/controls",
      "model_module_version": "1.5.0",
      "model_name": "DescriptionStyleModel",
      "state": {
       "description_width": ""
      }
     },
     "8e5e9b6c365c42ff8e3662a1dbd94b58": {
      "model_module": "@jupyter-widgets/controls",
      "model_module_version": "1.5.0",
      "model_name": "DescriptionStyleModel",
      "state": {
       "description_width": ""
      }
     },
     "8e8b43f5fc9b40a5bfbc47edf104f815": {
      "model_module": "@jupyter-widgets/base",
      "model_module_version": "1.2.0",
      "model_name": "LayoutModel",
      "state": {}
     },
     "8ea57f5e74064373bc8f5cb33fe74089": {
      "model_module": "@jupyter-widgets/controls",
      "model_module_version": "1.5.0",
      "model_name": "DescriptionStyleModel",
      "state": {
       "description_width": ""
      }
     },
     "8f0f16779c5a403c8d574be99b2ee7c6": {
      "model_module": "@jupyter-widgets/controls",
      "model_module_version": "1.5.0",
      "model_name": "ProgressStyleModel",
      "state": {
       "description_width": ""
      }
     },
     "8f15dd80da3541b5b6556ab21545feba": {
      "model_module": "@jupyter-widgets/base",
      "model_module_version": "1.2.0",
      "model_name": "LayoutModel",
      "state": {}
     },
     "8f2c42fa1a514df88986fcc1e77cbd8a": {
      "model_module": "@jupyter-widgets/controls",
      "model_module_version": "1.5.0",
      "model_name": "HTMLModel",
      "state": {
       "layout": "IPY_MODEL_f9cd90a643684793a4841728a8c9b8bd",
       "style": "IPY_MODEL_c27d9c87788842e3945d698810c2f837",
       "value": " 1052/1052 [00:49&lt;00:00, 21.30it/s]"
      }
     },
     "8f3eed111bcb40ab80bffccb11477c89": {
      "model_module": "@jupyter-widgets/base",
      "model_module_version": "1.2.0",
      "model_name": "LayoutModel",
      "state": {}
     },
     "8f5af279fd814f7ca7ba86199b205c7c": {
      "model_module": "@jupyter-widgets/base",
      "model_module_version": "1.2.0",
      "model_name": "LayoutModel",
      "state": {}
     },
     "8f63371f2139419d9652911d5d3f1a6f": {
      "model_module": "@jupyter-widgets/controls",
      "model_module_version": "1.5.0",
      "model_name": "HTMLModel",
      "state": {
       "layout": "IPY_MODEL_a56a2992522a4868af0ca8d575a517bb",
       "style": "IPY_MODEL_79886c7f8b7642b0a80deb41e7c8d9ab",
       "value": "loss: 0.6686: 100%"
      }
     },
     "8f6ba993cad14b8fb4fa366ec965a9fe": {
      "model_module": "@jupyter-widgets/controls",
      "model_module_version": "1.5.0",
      "model_name": "HTMLModel",
      "state": {
       "layout": "IPY_MODEL_830bd57360854a43ab2ab01d010e76a4",
       "style": "IPY_MODEL_782b9a25951649f6bc845c98a600263f",
       "value": " 1075/1075 [00:46&lt;00:00, 25.05it/s]"
      }
     },
     "8f7a14eb56704059be6298f5145e45ac": {
      "model_module": "@jupyter-widgets/base",
      "model_module_version": "1.2.0",
      "model_name": "LayoutModel",
      "state": {}
     },
     "8f93f8e15c43460b8cc79c86610f88c2": {
      "model_module": "@jupyter-widgets/base",
      "model_module_version": "1.2.0",
      "model_name": "LayoutModel",
      "state": {}
     },
     "8fcc3f810ada4fe680d08a1eca3418bf": {
      "model_module": "@jupyter-widgets/controls",
      "model_module_version": "1.5.0",
      "model_name": "DescriptionStyleModel",
      "state": {
       "description_width": ""
      }
     },
     "8fece4b32f92481a803596832b357599": {
      "model_module": "@jupyter-widgets/controls",
      "model_module_version": "1.5.0",
      "model_name": "DescriptionStyleModel",
      "state": {
       "description_width": ""
      }
     },
     "903f30de9ae24920b2c93a300cca98ff": {
      "model_module": "@jupyter-widgets/controls",
      "model_module_version": "1.5.0",
      "model_name": "DescriptionStyleModel",
      "state": {
       "description_width": ""
      }
     },
     "90542e5338804d9792f07c0c9817b95d": {
      "model_module": "@jupyter-widgets/base",
      "model_module_version": "1.2.0",
      "model_name": "LayoutModel",
      "state": {}
     },
     "905ca65fbee64e489e43752f46c581bb": {
      "model_module": "@jupyter-widgets/controls",
      "model_module_version": "1.5.0",
      "model_name": "HTMLModel",
      "state": {
       "layout": "IPY_MODEL_382640e28a674d378751ff078fa4daf9",
       "style": "IPY_MODEL_b5925811a63b455e9f0bc97df7079822",
       "value": "100%"
      }
     },
     "9086d6e02ba24ea5824630263df73724": {
      "model_module": "@jupyter-widgets/base",
      "model_module_version": "1.2.0",
      "model_name": "LayoutModel",
      "state": {}
     },
     "908f98adecc14ec3a405cc17e002fdd2": {
      "model_module": "@jupyter-widgets/base",
      "model_module_version": "1.2.0",
      "model_name": "LayoutModel",
      "state": {}
     },
     "909c777700ac41a08b967b6738208143": {
      "model_module": "@jupyter-widgets/base",
      "model_module_version": "1.2.0",
      "model_name": "LayoutModel",
      "state": {}
     },
     "90abbf348dfa4664b21ce61ab6cfd25e": {
      "model_module": "@jupyter-widgets/base",
      "model_module_version": "1.2.0",
      "model_name": "LayoutModel",
      "state": {}
     },
     "90bed48c78bf44578daf1a52de684bc1": {
      "model_module": "@jupyter-widgets/controls",
      "model_module_version": "1.5.0",
      "model_name": "ProgressStyleModel",
      "state": {
       "description_width": ""
      }
     },
     "90f00e6aaba64891a2b1de476ebc70f8": {
      "model_module": "@jupyter-widgets/controls",
      "model_module_version": "1.5.0",
      "model_name": "HTMLModel",
      "state": {
       "layout": "IPY_MODEL_a964b4c6238542f3b9c6bdba62e78021",
       "style": "IPY_MODEL_048bae19443444b59de7497eeab6290c",
       "value": "loss: 0.6602: 100%"
      }
     },
     "90fd3f31fe0f45339315a18dc185297a": {
      "model_module": "@jupyter-widgets/controls",
      "model_module_version": "1.5.0",
      "model_name": "HTMLModel",
      "state": {
       "layout": "IPY_MODEL_f183b30c65d34e4eb1b2992cd0fa7fbb",
       "style": "IPY_MODEL_6cd60d938c4f43e8b844de5f21d4a026",
       "value": " 1628/1628 [01:17&lt;00:00, 21.38it/s]"
      }
     },
     "916034a2f87047ceb69557b6e39be6b9": {
      "model_module": "@jupyter-widgets/controls",
      "model_module_version": "1.5.0",
      "model_name": "DescriptionStyleModel",
      "state": {
       "description_width": ""
      }
     },
     "916cd670b6e3424cb63116d574b1a755": {
      "model_module": "@jupyter-widgets/controls",
      "model_module_version": "1.5.0",
      "model_name": "HTMLModel",
      "state": {
       "layout": "IPY_MODEL_359f5189f3274a72936aab4f6ab67455",
       "style": "IPY_MODEL_cffdcf04f36a413380d300217ac4df99",
       "value": "100%"
      }
     },
     "917a6e7d6da341c894ece01673bbb297": {
      "model_module": "@jupyter-widgets/controls",
      "model_module_version": "1.5.0",
      "model_name": "ProgressStyleModel",
      "state": {
       "description_width": ""
      }
     },
     "9204a85128354ea6bdf5a53ac9aa1a02": {
      "model_module": "@jupyter-widgets/base",
      "model_module_version": "1.2.0",
      "model_name": "LayoutModel",
      "state": {}
     },
     "9279586cef764a00a7d04122a44c0f24": {
      "model_module": "@jupyter-widgets/controls",
      "model_module_version": "1.5.0",
      "model_name": "DescriptionStyleModel",
      "state": {
       "description_width": ""
      }
     },
     "927a92c960a04b749c7dbed2be9e1e9e": {
      "model_module": "@jupyter-widgets/base",
      "model_module_version": "1.2.0",
      "model_name": "LayoutModel",
      "state": {}
     },
     "92928963df8546b8a45f03de304b630c": {
      "model_module": "@jupyter-widgets/base",
      "model_module_version": "1.2.0",
      "model_name": "LayoutModel",
      "state": {}
     },
     "9293b584723846e68640dcd6fc7e770c": {
      "model_module": "@jupyter-widgets/base",
      "model_module_version": "1.2.0",
      "model_name": "LayoutModel",
      "state": {}
     },
     "92bdddebad154abcaf5ec9e91d035a1c": {
      "model_module": "@jupyter-widgets/controls",
      "model_module_version": "1.5.0",
      "model_name": "DescriptionStyleModel",
      "state": {
       "description_width": ""
      }
     },
     "92d63ee52bb04d20a881536a4834e6db": {
      "model_module": "@jupyter-widgets/base",
      "model_module_version": "1.2.0",
      "model_name": "LayoutModel",
      "state": {}
     },
     "92d91f3655fb42b79f009162f2a51c03": {
      "model_module": "@jupyter-widgets/base",
      "model_module_version": "1.2.0",
      "model_name": "LayoutModel",
      "state": {}
     },
     "92fab91e692d4c50927d65cbb98d4e27": {
      "model_module": "@jupyter-widgets/controls",
      "model_module_version": "1.5.0",
      "model_name": "DescriptionStyleModel",
      "state": {
       "description_width": ""
      }
     },
     "931f29a8442f4943a062c5a2d59f819c": {
      "model_module": "@jupyter-widgets/base",
      "model_module_version": "1.2.0",
      "model_name": "LayoutModel",
      "state": {}
     },
     "936065e7d9c544a0bf41bec47ec4982c": {
      "model_module": "@jupyter-widgets/controls",
      "model_module_version": "1.5.0",
      "model_name": "HTMLModel",
      "state": {
       "layout": "IPY_MODEL_ad8166556e9647429ef896ab3bcc2b6e",
       "style": "IPY_MODEL_957d82c28d114a82ba5ad490c8c40565",
       "value": " 1247/1247 [00:55&lt;00:00, 22.52it/s]"
      }
     },
     "93c24c5a71c74e92b9ec99f1126a7cce": {
      "model_module": "@jupyter-widgets/controls",
      "model_module_version": "1.5.0",
      "model_name": "DescriptionStyleModel",
      "state": {
       "description_width": ""
      }
     },
     "93dea05e1a154f879ec673d6c93104de": {
      "model_module": "@jupyter-widgets/controls",
      "model_module_version": "1.5.0",
      "model_name": "HTMLModel",
      "state": {
       "layout": "IPY_MODEL_ac9b0ee64ae341acb402cee505d8a00e",
       "style": "IPY_MODEL_88dfadeca8b245d0a40b75903e563205",
       "value": " 1656/1656 [01:14&lt;00:00, 22.55it/s]"
      }
     },
     "93ec8e3635914f91974acbb1c40a2633": {
      "model_module": "@jupyter-widgets/base",
      "model_module_version": "1.2.0",
      "model_name": "LayoutModel",
      "state": {}
     },
     "93f669cd2a684d0b99a4bf97c9c827b1": {
      "model_module": "@jupyter-widgets/controls",
      "model_module_version": "1.5.0",
      "model_name": "ProgressStyleModel",
      "state": {
       "description_width": ""
      }
     },
     "93fa6510731b4966ad305d171aab76c3": {
      "model_module": "@jupyter-widgets/base",
      "model_module_version": "1.2.0",
      "model_name": "LayoutModel",
      "state": {}
     },
     "9402d3b650b54f01b00685f22b66dd57": {
      "model_module": "@jupyter-widgets/controls",
      "model_module_version": "1.5.0",
      "model_name": "DescriptionStyleModel",
      "state": {
       "description_width": ""
      }
     },
     "94137c55580f4de7bdec4d8417a584c1": {
      "model_module": "@jupyter-widgets/base",
      "model_module_version": "1.2.0",
      "model_name": "LayoutModel",
      "state": {}
     },
     "944564f6cdfb4b6bb6bb0fe31d37cc84": {
      "model_module": "@jupyter-widgets/controls",
      "model_module_version": "1.5.0",
      "model_name": "DescriptionStyleModel",
      "state": {
       "description_width": ""
      }
     },
     "9475dfad8d3a4ee880ec8ef1d05cbc21": {
      "model_module": "@jupyter-widgets/base",
      "model_module_version": "1.2.0",
      "model_name": "LayoutModel",
      "state": {}
     },
     "948c2cc894974452a1ed26126806f19e": {
      "model_module": "@jupyter-widgets/controls",
      "model_module_version": "1.5.0",
      "model_name": "DescriptionStyleModel",
      "state": {
       "description_width": ""
      }
     },
     "94b2c789974f4646b2ffc481088966ad": {
      "model_module": "@jupyter-widgets/controls",
      "model_module_version": "1.5.0",
      "model_name": "ProgressStyleModel",
      "state": {
       "description_width": ""
      }
     },
     "94dd8be903834473bc432bcaee4fec18": {
      "model_module": "@jupyter-widgets/controls",
      "model_module_version": "1.5.0",
      "model_name": "DescriptionStyleModel",
      "state": {
       "description_width": ""
      }
     },
     "94e877f8bb4e45a0b495b806cbad214e": {
      "model_module": "@jupyter-widgets/base",
      "model_module_version": "1.2.0",
      "model_name": "LayoutModel",
      "state": {}
     },
     "953064c9ac6a4fbd80e905b83b5a1f02": {
      "model_module": "@jupyter-widgets/controls",
      "model_module_version": "1.5.0",
      "model_name": "FloatProgressModel",
      "state": {
       "layout": "IPY_MODEL_18080382516e486ba5bb4042392f4a4c",
       "max": 1217,
       "style": "IPY_MODEL_8c9c14939dbe4cd7a0b8e872544e3d91",
       "value": 1217
      }
     },
     "954235006e1643a8b32c063a83dce8de": {
      "model_module": "@jupyter-widgets/base",
      "model_module_version": "1.2.0",
      "model_name": "LayoutModel",
      "state": {}
     },
     "9565d9c906144ed784e483f1c1becb03": {
      "model_module": "@jupyter-widgets/controls",
      "model_module_version": "1.5.0",
      "model_name": "HTMLModel",
      "state": {
       "layout": "IPY_MODEL_edc05163a18b4ec4aef234df6e84d00f",
       "style": "IPY_MODEL_0db84676b07c4f13a2f95bf784ecd43e",
       "value": " 133/133 [00:06&lt;00:00, 21.31it/s]"
      }
     },
     "9570ff36de6e49c1bc0ab2882c095e40": {
      "model_module": "@jupyter-widgets/base",
      "model_module_version": "1.2.0",
      "model_name": "LayoutModel",
      "state": {}
     },
     "9574bbc7c04440058eeac1497029868c": {
      "model_module": "@jupyter-widgets/controls",
      "model_module_version": "1.5.0",
      "model_name": "HTMLModel",
      "state": {
       "layout": "IPY_MODEL_20c0cb76763a40238a897ea05c820ff6",
       "style": "IPY_MODEL_40970e6751044b35aee25d054668f2ec",
       "value": "loss: 0.6051: 100%"
      }
     },
     "957d82c28d114a82ba5ad490c8c40565": {
      "model_module": "@jupyter-widgets/controls",
      "model_module_version": "1.5.0",
      "model_name": "DescriptionStyleModel",
      "state": {
       "description_width": ""
      }
     },
     "959663d048df436ea7f10eb11139bf81": {
      "model_module": "@jupyter-widgets/controls",
      "model_module_version": "1.5.0",
      "model_name": "HTMLModel",
      "state": {
       "layout": "IPY_MODEL_b0cda40b11234e96b762bb21f749d29f",
       "style": "IPY_MODEL_e399929b867a4c749595c06e62a364aa",
       "value": "loss: 0.6619: 100%"
      }
     },
     "95c84a8b3f7944ca9a37b25a35d14c79": {
      "model_module": "@jupyter-widgets/controls",
      "model_module_version": "1.5.0",
      "model_name": "ProgressStyleModel",
      "state": {
       "description_width": ""
      }
     },
     "95e1893c9b4642f7b5c2ec515e885f4a": {
      "model_module": "@jupyter-widgets/base",
      "model_module_version": "1.2.0",
      "model_name": "LayoutModel",
      "state": {}
     },
     "95eb5dead02f4dff90688b4d562743f9": {
      "model_module": "@jupyter-widgets/base",
      "model_module_version": "1.2.0",
      "model_name": "LayoutModel",
      "state": {}
     },
     "9612e1777ff54fbb8eee4d9beed2a630": {
      "model_module": "@jupyter-widgets/base",
      "model_module_version": "1.2.0",
      "model_name": "LayoutModel",
      "state": {}
     },
     "9617a88f70b74337b1d0d2a2e87a47ad": {
      "model_module": "@jupyter-widgets/base",
      "model_module_version": "1.2.0",
      "model_name": "LayoutModel",
      "state": {}
     },
     "962d9065becd404ea03be24b5b198d10": {
      "model_module": "@jupyter-widgets/base",
      "model_module_version": "1.2.0",
      "model_name": "LayoutModel",
      "state": {}
     },
     "962f77ffbb874234bd6171297535d093": {
      "model_module": "@jupyter-widgets/base",
      "model_module_version": "1.2.0",
      "model_name": "LayoutModel",
      "state": {}
     },
     "9633d0eb0ad04617a27b62216954981f": {
      "model_module": "@jupyter-widgets/base",
      "model_module_version": "1.2.0",
      "model_name": "LayoutModel",
      "state": {}
     },
     "96435766675c4938bfe470e45e61fe36": {
      "model_module": "@jupyter-widgets/controls",
      "model_module_version": "1.5.0",
      "model_name": "HTMLModel",
      "state": {
       "layout": "IPY_MODEL_d2a9012861a84f2eac9a634bc09e9253",
       "style": "IPY_MODEL_c0a89ca88f284aab951eb310f117b369",
       "value": "loss: 0.6722: 100%"
      }
     },
     "96459b815a5e4607998053289704fa0d": {
      "model_module": "@jupyter-widgets/controls",
      "model_module_version": "1.5.0",
      "model_name": "DescriptionStyleModel",
      "state": {
       "description_width": ""
      }
     },
     "9654c7d4ec674df0929b1d8b80a66084": {
      "model_module": "@jupyter-widgets/controls",
      "model_module_version": "1.5.0",
      "model_name": "HTMLModel",
      "state": {
       "layout": "IPY_MODEL_3b8950fefbb44d78bce2282b246614d0",
       "style": "IPY_MODEL_c475c94774904d458d3ff51968537174",
       "value": " 222/222 [00:10&lt;00:00, 21.82it/s]"
      }
     },
     "966be9bf714e4c24aca38f26648f7839": {
      "model_module": "@jupyter-widgets/base",
      "model_module_version": "1.2.0",
      "model_name": "LayoutModel",
      "state": {}
     },
     "969d73800b2c4019ab242848508b7486": {
      "model_module": "@jupyter-widgets/controls",
      "model_module_version": "1.5.0",
      "model_name": "ProgressStyleModel",
      "state": {
       "description_width": ""
      }
     },
     "969f0b07ccd9432db93814849fe99ec9": {
      "model_module": "@jupyter-widgets/base",
      "model_module_version": "1.2.0",
      "model_name": "LayoutModel",
      "state": {}
     },
     "96c9904dce20412785f7e15b133173d1": {
      "model_module": "@jupyter-widgets/controls",
      "model_module_version": "1.5.0",
      "model_name": "HTMLModel",
      "state": {
       "layout": "IPY_MODEL_386d8aa6a47a4bd2a0f40d531086a482",
       "style": "IPY_MODEL_69f5ae3b10a24632aef9f65b08a4418f",
       "value": "100%"
      }
     },
     "96d7f6a8655446fab9031da43f74f093": {
      "model_module": "@jupyter-widgets/controls",
      "model_module_version": "1.5.0",
      "model_name": "FloatProgressModel",
      "state": {
       "layout": "IPY_MODEL_601b7cdfa4124399916e3d31ca2f38af",
       "max": 240,
       "style": "IPY_MODEL_83aae92359af418b80a85d5d108043b7",
       "value": 240
      }
     },
     "96fdba168dec49e99b01f7f38010ff31": {
      "model_module": "@jupyter-widgets/base",
      "model_module_version": "1.2.0",
      "model_name": "LayoutModel",
      "state": {}
     },
     "97074a4b60834369b2375d59822b85e8": {
      "model_module": "@jupyter-widgets/base",
      "model_module_version": "1.2.0",
      "model_name": "LayoutModel",
      "state": {}
     },
     "9711e7f507164457aaafad9cfeb0781e": {
      "model_module": "@jupyter-widgets/controls",
      "model_module_version": "1.5.0",
      "model_name": "FloatProgressModel",
      "state": {
       "layout": "IPY_MODEL_0ccfcc8eaf224271b12835b79404aefd",
       "max": 1467,
       "style": "IPY_MODEL_1289334541984dac95d0f3f188ccbeb8",
       "value": 1467
      }
     },
     "97216b0830c542d8bf53eaebb8d0df0d": {
      "model_module": "@jupyter-widgets/base",
      "model_module_version": "1.2.0",
      "model_name": "LayoutModel",
      "state": {}
     },
     "9729edb8d0eb4c41a9be5cd9bbbfb736": {
      "model_module": "@jupyter-widgets/base",
      "model_module_version": "1.2.0",
      "model_name": "LayoutModel",
      "state": {}
     },
     "9770e93b931f474380769d9c7acf2b10": {
      "model_module": "@jupyter-widgets/base",
      "model_module_version": "1.2.0",
      "model_name": "LayoutModel",
      "state": {}
     },
     "97713509dd09439680d7be68aefb349a": {
      "model_module": "@jupyter-widgets/base",
      "model_module_version": "1.2.0",
      "model_name": "LayoutModel",
      "state": {}
     },
     "97bec1e7214941f7bc8599d4d17781f0": {
      "model_module": "@jupyter-widgets/controls",
      "model_module_version": "1.5.0",
      "model_name": "HTMLModel",
      "state": {
       "layout": "IPY_MODEL_5616c015080e437990ad50c4d535c67c",
       "style": "IPY_MODEL_4e637e5c13184d3a8931b5f314c7bcf9",
       "value": " 1084/1084 [00:50&lt;00:00, 21.66it/s]"
      }
     },
     "97d248a1cca14be8b960712a3ed0fe19": {
      "model_module": "@jupyter-widgets/base",
      "model_module_version": "1.2.0",
      "model_name": "LayoutModel",
      "state": {}
     },
     "97d750b296924ebfadf73ee074ce2ef8": {
      "model_module": "@jupyter-widgets/controls",
      "model_module_version": "1.5.0",
      "model_name": "DescriptionStyleModel",
      "state": {
       "description_width": ""
      }
     },
     "97d8a77433ed495f9cc06792873a22f0": {
      "model_module": "@jupyter-widgets/base",
      "model_module_version": "1.2.0",
      "model_name": "LayoutModel",
      "state": {}
     },
     "981a602cb92b4dd880e5bc06f97ac64c": {
      "model_module": "@jupyter-widgets/controls",
      "model_module_version": "1.5.0",
      "model_name": "FloatProgressModel",
      "state": {
       "layout": "IPY_MODEL_9db8e76ffdc14e8cbd7adb51e9966032",
       "max": 1252,
       "style": "IPY_MODEL_c10649b4e5be44a2bbe737513395fabe",
       "value": 1252
      }
     },
     "985ba655b0c9446186164774e1c25ef8": {
      "model_module": "@jupyter-widgets/controls",
      "model_module_version": "1.5.0",
      "model_name": "HTMLModel",
      "state": {
       "layout": "IPY_MODEL_e682dee18f1e48d2bdc17abde9bc03e3",
       "style": "IPY_MODEL_ef203e0e5243404ebc2fca44feabe8ef",
       "value": " 437/437 [00:18&lt;00:00, 23.43it/s]"
      }
     },
     "987aeb0eab704a6c98970af2d464ec18": {
      "model_module": "@jupyter-widgets/controls",
      "model_module_version": "1.5.0",
      "model_name": "DescriptionStyleModel",
      "state": {
       "description_width": ""
      }
     },
     "98823f1b59664357ae85a0584f0d9670": {
      "model_module": "@jupyter-widgets/controls",
      "model_module_version": "1.5.0",
      "model_name": "DescriptionStyleModel",
      "state": {
       "description_width": ""
      }
     },
     "989aa99337d941cea41f8fa0023b413c": {
      "model_module": "@jupyter-widgets/base",
      "model_module_version": "1.2.0",
      "model_name": "LayoutModel",
      "state": {}
     },
     "989ecb5faca44af1a46ab242a6f65389": {
      "model_module": "@jupyter-widgets/base",
      "model_module_version": "1.2.0",
      "model_name": "LayoutModel",
      "state": {}
     },
     "98bc38b76d4e4bf5841d04576ebb7097": {
      "model_module": "@jupyter-widgets/base",
      "model_module_version": "1.2.0",
      "model_name": "LayoutModel",
      "state": {}
     },
     "98cf38a6b92c4ac1a9c98a148a75802e": {
      "model_module": "@jupyter-widgets/base",
      "model_module_version": "1.2.0",
      "model_name": "LayoutModel",
      "state": {}
     },
     "98d3f6788d59411b80de1fee78cde5d5": {
      "model_module": "@jupyter-widgets/controls",
      "model_module_version": "1.5.0",
      "model_name": "ProgressStyleModel",
      "state": {
       "description_width": ""
      }
     },
     "98e098d60e424e83bdaf61f27cc8a65f": {
      "model_module": "@jupyter-widgets/controls",
      "model_module_version": "1.5.0",
      "model_name": "HTMLModel",
      "state": {
       "layout": "IPY_MODEL_6445ad8e90ca44279a36c6da6f0e6562",
       "style": "IPY_MODEL_102ed5d7c1fa463abea4b2f91129e6c1",
       "value": "100%"
      }
     },
     "98fe171b17b04ac3ac4df23cf09d43af": {
      "model_module": "@jupyter-widgets/controls",
      "model_module_version": "1.5.0",
      "model_name": "DescriptionStyleModel",
      "state": {
       "description_width": ""
      }
     },
     "9910447d818345da8acca6f68e0e8c76": {
      "model_module": "@jupyter-widgets/controls",
      "model_module_version": "1.5.0",
      "model_name": "HTMLModel",
      "state": {
       "layout": "IPY_MODEL_32ea7c68d79d4424a672aade83c9c220",
       "style": "IPY_MODEL_93c24c5a71c74e92b9ec99f1126a7cce",
       "value": " 240/240 [00:10&lt;00:00, 23.22it/s]"
      }
     },
     "992a0d5e16ca44eab02aba21c924f811": {
      "model_module": "@jupyter-widgets/base",
      "model_module_version": "1.2.0",
      "model_name": "LayoutModel",
      "state": {}
     },
     "992c65cea9d642a99d82b997d0050b68": {
      "model_module": "@jupyter-widgets/base",
      "model_module_version": "1.2.0",
      "model_name": "LayoutModel",
      "state": {}
     },
     "99436729ab5841d2979e3c1112e28715": {
      "model_module": "@jupyter-widgets/base",
      "model_module_version": "1.2.0",
      "model_name": "LayoutModel",
      "state": {}
     },
     "995f733b8b8a4cba9f4f5c72cce2803d": {
      "model_module": "@jupyter-widgets/controls",
      "model_module_version": "1.5.0",
      "model_name": "ProgressStyleModel",
      "state": {
       "description_width": ""
      }
     },
     "99634a9d5f95451e8e2d21bb13779943": {
      "model_module": "@jupyter-widgets/base",
      "model_module_version": "1.2.0",
      "model_name": "LayoutModel",
      "state": {}
     },
     "996be323b777460e9dcd779bdc32e2b7": {
      "model_module": "@jupyter-widgets/controls",
      "model_module_version": "1.5.0",
      "model_name": "HTMLModel",
      "state": {
       "layout": "IPY_MODEL_c04b79cf95fb4022b006b29870207c0b",
       "style": "IPY_MODEL_244b5376c7d64931b0067747d0e8093c",
       "value": " 1224/1224 [00:51&lt;00:00, 23.44it/s]"
      }
     },
     "99752305e391480e8c51429d731db678": {
      "model_module": "@jupyter-widgets/base",
      "model_module_version": "1.2.0",
      "model_name": "LayoutModel",
      "state": {}
     },
     "997c6bc27b1e4730960b63351a5d8261": {
      "model_module": "@jupyter-widgets/base",
      "model_module_version": "1.2.0",
      "model_name": "LayoutModel",
      "state": {}
     },
     "99b7581136c24e21bcc94bc7fefdf6f0": {
      "model_module": "@jupyter-widgets/controls",
      "model_module_version": "1.5.0",
      "model_name": "DescriptionStyleModel",
      "state": {
       "description_width": ""
      }
     },
     "99cdac98361044dfae3be5fd0d24d860": {
      "model_module": "@jupyter-widgets/controls",
      "model_module_version": "1.5.0",
      "model_name": "HTMLModel",
      "state": {
       "layout": "IPY_MODEL_1e44bad3625140528783ed0f41c64968",
       "style": "IPY_MODEL_1f7db87c84a24fe28ca3f9fc92ebee4f",
       "value": "loss: 0.6751: 100%"
      }
     },
     "99d8a7cd620742cd918bf0e6db92b59d": {
      "model_module": "@jupyter-widgets/controls",
      "model_module_version": "1.5.0",
      "model_name": "FloatProgressModel",
      "state": {
       "layout": "IPY_MODEL_a60d878ae2374144a0faed2aed772781",
       "max": 1216,
       "style": "IPY_MODEL_ecd8b8c82a8548ecb1047391d44dff24",
       "value": 1216
      }
     },
     "9a0f60219a5e4ead91a6b87947265c77": {
      "model_module": "@jupyter-widgets/controls",
      "model_module_version": "1.5.0",
      "model_name": "ProgressStyleModel",
      "state": {
       "description_width": ""
      }
     },
     "9a12a7edb60f488da45f65848b47a9c6": {
      "model_module": "@jupyter-widgets/base",
      "model_module_version": "1.2.0",
      "model_name": "LayoutModel",
      "state": {}
     },
     "9a2c6482970e454ebd4bac6194546e15": {
      "model_module": "@jupyter-widgets/controls",
      "model_module_version": "1.5.0",
      "model_name": "DescriptionStyleModel",
      "state": {
       "description_width": ""
      }
     },
     "9a5ef5b819a142fdb52eec4df29be6a7": {
      "model_module": "@jupyter-widgets/controls",
      "model_module_version": "1.5.0",
      "model_name": "DescriptionStyleModel",
      "state": {
       "description_width": ""
      }
     },
     "9a65930b43f94050b8dee4a970b3fdb4": {
      "model_module": "@jupyter-widgets/controls",
      "model_module_version": "1.5.0",
      "model_name": "DescriptionStyleModel",
      "state": {
       "description_width": ""
      }
     },
     "9a95ec58e51f49c299b30e826bd3e5c1": {
      "model_module": "@jupyter-widgets/controls",
      "model_module_version": "1.5.0",
      "model_name": "FloatProgressModel",
      "state": {
       "layout": "IPY_MODEL_564cb597761843ae8373f62c42674019",
       "max": 1213,
       "style": "IPY_MODEL_39c5386cdc254e17bb5e89790233bf2b",
       "value": 1213
      }
     },
     "9ad14bae6d9c4f1ebddcdabc76930e68": {
      "model_module": "@jupyter-widgets/controls",
      "model_module_version": "1.5.0",
      "model_name": "HTMLModel",
      "state": {
       "layout": "IPY_MODEL_c5e9cef68fe1427fbc27508b0a8be4ce",
       "style": "IPY_MODEL_c7245d45e418431e86bd6d6387f6dc90",
       "value": " 251/251 [00:11&lt;00:00, 21.73it/s]"
      }
     },
     "9ad530881f7c492dbce7348d46b5a116": {
      "model_module": "@jupyter-widgets/controls",
      "model_module_version": "1.5.0",
      "model_name": "DescriptionStyleModel",
      "state": {
       "description_width": ""
      }
     },
     "9aea094c67934361af1fa014f8fd5367": {
      "model_module": "@jupyter-widgets/base",
      "model_module_version": "1.2.0",
      "model_name": "LayoutModel",
      "state": {}
     },
     "9afe3ce433df4b8d85cfb960d865c52b": {
      "model_module": "@jupyter-widgets/controls",
      "model_module_version": "1.5.0",
      "model_name": "FloatProgressModel",
      "state": {
       "layout": "IPY_MODEL_feff719842c34eac837c34c71837c3f4",
       "max": 1075,
       "style": "IPY_MODEL_ae63c9b6e1684f4eb8f731338548f267",
       "value": 1075
      }
     },
     "9b261877e7e54dbdb2a1a2b7b08a72a8": {
      "model_module": "@jupyter-widgets/controls",
      "model_module_version": "1.5.0",
      "model_name": "ProgressStyleModel",
      "state": {
       "description_width": ""
      }
     },
     "9b53212e79d84b2abe7d4620eea77496": {
      "model_module": "@jupyter-widgets/controls",
      "model_module_version": "1.5.0",
      "model_name": "FloatProgressModel",
      "state": {
       "layout": "IPY_MODEL_a5740758f3ed4832bd8f3820559a51b0",
       "max": 289,
       "style": "IPY_MODEL_c55a0ce28aaa4ac78b50a180fb45294c",
       "value": 289
      }
     },
     "9b7b6c87358247a29d96a791be7e5760": {
      "model_module": "@jupyter-widgets/controls",
      "model_module_version": "1.5.0",
      "model_name": "FloatProgressModel",
      "state": {
       "layout": "IPY_MODEL_ae079509938a4baabecb4580d5da9f35",
       "max": 1084,
       "style": "IPY_MODEL_0c65b17e8dd1458898fb30334baf1bdf",
       "value": 1084
      }
     },
     "9bab4570bf724327af19829dfc31f49e": {
      "model_module": "@jupyter-widgets/controls",
      "model_module_version": "1.5.0",
      "model_name": "HTMLModel",
      "state": {
       "layout": "IPY_MODEL_a5cab0651cf34cb082273f2dd0038c92",
       "style": "IPY_MODEL_0d8d01d3fb3144fa8168d39033b63fe7",
       "value": "loss: 0.6661: 100%"
      }
     },
     "9bbbecfec58747e3a8c9ac7cff353e8e": {
      "model_module": "@jupyter-widgets/base",
      "model_module_version": "1.2.0",
      "model_name": "LayoutModel",
      "state": {}
     },
     "9bc339bcaf2849bba157ba147c4381e2": {
      "model_module": "@jupyter-widgets/controls",
      "model_module_version": "1.5.0",
      "model_name": "HTMLModel",
      "state": {
       "layout": "IPY_MODEL_521c5fed790b4c6faaafd171b171f7c8",
       "style": "IPY_MODEL_d25de62096774cc18a5d7460e087662b",
       "value": "  0%"
      }
     },
     "9bca793cdadb48d8b74949c9dd9ae756": {
      "model_module": "@jupyter-widgets/controls",
      "model_module_version": "1.5.0",
      "model_name": "DescriptionStyleModel",
      "state": {
       "description_width": ""
      }
     },
     "9bf5453fa05d4416b4e1f3e18a9a0685": {
      "model_module": "@jupyter-widgets/controls",
      "model_module_version": "1.5.0",
      "model_name": "DescriptionStyleModel",
      "state": {
       "description_width": ""
      }
     },
     "9c07038bbb6a40189f9f2fcbb114f4be": {
      "model_module": "@jupyter-widgets/controls",
      "model_module_version": "1.5.0",
      "model_name": "DescriptionStyleModel",
      "state": {
       "description_width": ""
      }
     },
     "9c240e0bf3834438b883ea8e3e02e12b": {
      "model_module": "@jupyter-widgets/controls",
      "model_module_version": "1.5.0",
      "model_name": "FloatProgressModel",
      "state": {
       "layout": "IPY_MODEL_81e980eea15b40929fc5017ecb8ba092",
       "max": 237,
       "style": "IPY_MODEL_54061994fdec40fa88f07ffca7206153",
       "value": 237
      }
     },
     "9c2d5c54a0944f8a8db1f7707b509807": {
      "model_module": "@jupyter-widgets/controls",
      "model_module_version": "1.5.0",
      "model_name": "DescriptionStyleModel",
      "state": {
       "description_width": ""
      }
     },
     "9c48196852134987a3f3508b570a1825": {
      "model_module": "@jupyter-widgets/controls",
      "model_module_version": "1.5.0",
      "model_name": "HTMLModel",
      "state": {
       "layout": "IPY_MODEL_a7cd37754692489393c6f6b58022c81d",
       "style": "IPY_MODEL_4a33cd8fea984e44b6f289fb6de18c06",
       "value": "loss: 0.6744: 100%"
      }
     },
     "9c9ce10c6cf743089324bf1dad1f43c7": {
      "model_module": "@jupyter-widgets/controls",
      "model_module_version": "1.5.0",
      "model_name": "HTMLModel",
      "state": {
       "layout": "IPY_MODEL_bacce9fbc0184d688c8fe51e9713f3ea",
       "style": "IPY_MODEL_69649ae8aacb4b8b918a0a05cc88f74c",
       "value": "loss: 1.1428: 100%"
      }
     },
     "9c9e51004f844ed19091e164fc07b311": {
      "model_module": "@jupyter-widgets/controls",
      "model_module_version": "1.5.0",
      "model_name": "DescriptionStyleModel",
      "state": {
       "description_width": ""
      }
     },
     "9cc33f42b96249da99dd2dbb1ddc9dbf": {
      "model_module": "@jupyter-widgets/controls",
      "model_module_version": "1.5.0",
      "model_name": "FloatProgressModel",
      "state": {
       "layout": "IPY_MODEL_8f5af279fd814f7ca7ba86199b205c7c",
       "max": 215,
       "style": "IPY_MODEL_f0121a9db44b47c48bb50171d9b5accd",
       "value": 215
      }
     },
     "9cd601cda14e44e1841f3aa40397be37": {
      "model_module": "@jupyter-widgets/base",
      "model_module_version": "1.2.0",
      "model_name": "LayoutModel",
      "state": {}
     },
     "9cdb8ca4842547028ca45934aeb1af22": {
      "model_module": "@jupyter-widgets/base",
      "model_module_version": "1.2.0",
      "model_name": "LayoutModel",
      "state": {}
     },
     "9ce2aa11fb8c451589fce86198d4831b": {
      "model_module": "@jupyter-widgets/base",
      "model_module_version": "1.2.0",
      "model_name": "LayoutModel",
      "state": {}
     },
     "9ce4ff530b4c41469ce54d89cdd24281": {
      "model_module": "@jupyter-widgets/base",
      "model_module_version": "1.2.0",
      "model_name": "LayoutModel",
      "state": {}
     },
     "9cec1f57ea1f47cca3cd3d394ad5a3b7": {
      "model_module": "@jupyter-widgets/controls",
      "model_module_version": "1.5.0",
      "model_name": "ProgressStyleModel",
      "state": {
       "description_width": ""
      }
     },
     "9cfb66b6bcef425590a8f5f32a811341": {
      "model_module": "@jupyter-widgets/controls",
      "model_module_version": "1.5.0",
      "model_name": "FloatProgressModel",
      "state": {
       "layout": "IPY_MODEL_95eb5dead02f4dff90688b4d562743f9",
       "max": 1228,
       "style": "IPY_MODEL_af66996ed7b04cb99ac5217410bec9bb",
       "value": 1228
      }
     },
     "9d08e8be61c2411f93795115f28c840f": {
      "model_module": "@jupyter-widgets/controls",
      "model_module_version": "1.5.0",
      "model_name": "DescriptionStyleModel",
      "state": {
       "description_width": ""
      }
     },
     "9d1e43b0a9ab482099ade8e4b6199623": {
      "model_module": "@jupyter-widgets/base",
      "model_module_version": "1.2.0",
      "model_name": "LayoutModel",
      "state": {}
     },
     "9d1f0a5b23594dcd8eef54700da0a0e2": {
      "model_module": "@jupyter-widgets/controls",
      "model_module_version": "1.5.0",
      "model_name": "DescriptionStyleModel",
      "state": {
       "description_width": ""
      }
     },
     "9d2365aa49bd481dbac1a8528ee17376": {
      "model_module": "@jupyter-widgets/base",
      "model_module_version": "1.2.0",
      "model_name": "LayoutModel",
      "state": {}
     },
     "9d2adaa0eceb4d93bf9fcdc7c997364c": {
      "model_module": "@jupyter-widgets/controls",
      "model_module_version": "1.5.0",
      "model_name": "FloatProgressModel",
      "state": {
       "layout": "IPY_MODEL_42280931832342228a1b2e5e6eb85ef3",
       "max": 1228,
       "style": "IPY_MODEL_b38bdc6f01a3405f98a58e65d83e625c",
       "value": 1228
      }
     },
     "9d3a470294d74f3699b6eb87c8ddf120": {
      "model_module": "@jupyter-widgets/controls",
      "model_module_version": "1.5.0",
      "model_name": "FloatProgressModel",
      "state": {
       "layout": "IPY_MODEL_ba55f0f2f2894994be66db5dd147840d",
       "max": 929,
       "style": "IPY_MODEL_1f97db9c468148aa88468cc29c803349",
       "value": 929
      }
     },
     "9d3b911faf0e49b28e81067bbec788e0": {
      "model_module": "@jupyter-widgets/base",
      "model_module_version": "1.2.0",
      "model_name": "LayoutModel",
      "state": {}
     },
     "9d43730f5915412f8e3d7ed5d5b41258": {
      "model_module": "@jupyter-widgets/controls",
      "model_module_version": "1.5.0",
      "model_name": "FloatProgressModel",
      "state": {
       "layout": "IPY_MODEL_01166ce52839497788d117b988eac658",
       "max": 484,
       "style": "IPY_MODEL_1b37a4d0c4ba4c3486f88271b255dc22",
       "value": 484
      }
     },
     "9d454589dcda41e1b8a1ad0a11fb2704": {
      "model_module": "@jupyter-widgets/base",
      "model_module_version": "1.2.0",
      "model_name": "LayoutModel",
      "state": {}
     },
     "9d602c3aeae54ab99e99567b8b5f036f": {
      "model_module": "@jupyter-widgets/controls",
      "model_module_version": "1.5.0",
      "model_name": "DescriptionStyleModel",
      "state": {
       "description_width": ""
      }
     },
     "9d7067c8e8184208b8634e02a3058642": {
      "model_module": "@jupyter-widgets/controls",
      "model_module_version": "1.5.0",
      "model_name": "DescriptionStyleModel",
      "state": {
       "description_width": ""
      }
     },
     "9d9776c3b98c45f79382093c264ad5b6": {
      "model_module": "@jupyter-widgets/base",
      "model_module_version": "1.2.0",
      "model_name": "LayoutModel",
      "state": {}
     },
     "9da1b0a90f674502a6f5889c11482e15": {
      "model_module": "@jupyter-widgets/controls",
      "model_module_version": "1.5.0",
      "model_name": "ProgressStyleModel",
      "state": {
       "description_width": ""
      }
     },
     "9da4fed89b55484388b577c4f993c53b": {
      "model_module": "@jupyter-widgets/base",
      "model_module_version": "1.2.0",
      "model_name": "LayoutModel",
      "state": {}
     },
     "9db22d39849a4a01a95bd61a1734b0ab": {
      "model_module": "@jupyter-widgets/controls",
      "model_module_version": "1.5.0",
      "model_name": "ProgressStyleModel",
      "state": {
       "description_width": ""
      }
     },
     "9db8e76ffdc14e8cbd7adb51e9966032": {
      "model_module": "@jupyter-widgets/base",
      "model_module_version": "1.2.0",
      "model_name": "LayoutModel",
      "state": {}
     },
     "9dd030083186464fa574b9ebcf5b8523": {
      "model_module": "@jupyter-widgets/controls",
      "model_module_version": "1.5.0",
      "model_name": "ProgressStyleModel",
      "state": {
       "description_width": ""
      }
     },
     "9ddec7c213514984a1ed07778b68d45e": {
      "model_module": "@jupyter-widgets/controls",
      "model_module_version": "1.5.0",
      "model_name": "DescriptionStyleModel",
      "state": {
       "description_width": ""
      }
     },
     "9de5a14609c044879cb6ba49dacefc62": {
      "model_module": "@jupyter-widgets/base",
      "model_module_version": "1.2.0",
      "model_name": "LayoutModel",
      "state": {}
     },
     "9e0f352c4eef4a32961e692ccab17160": {
      "model_module": "@jupyter-widgets/base",
      "model_module_version": "1.2.0",
      "model_name": "LayoutModel",
      "state": {}
     },
     "9e165e49f12f4bdc8ac7896d3a553f24": {
      "model_module": "@jupyter-widgets/controls",
      "model_module_version": "1.5.0",
      "model_name": "FloatProgressModel",
      "state": {
       "layout": "IPY_MODEL_68b04c417fc64d3e9c80abe26d3d39ec",
       "max": 217,
       "style": "IPY_MODEL_be064555913349a98bf93ef27ec7f018",
       "value": 217
      }
     },
     "9e1f048203244f17adb62ef2380da0d2": {
      "model_module": "@jupyter-widgets/base",
      "model_module_version": "1.2.0",
      "model_name": "LayoutModel",
      "state": {}
     },
     "9e2378ad6d57493dac6a88fe4beb41b5": {
      "model_module": "@jupyter-widgets/controls",
      "model_module_version": "1.5.0",
      "model_name": "HTMLModel",
      "state": {
       "layout": "IPY_MODEL_571e234511864b2fa8d7a03d1c1fc168",
       "style": "IPY_MODEL_a72dcf1c31644a4cba468c33d40e8b77",
       "value": "loss: 0.7917: 100%"
      }
     },
     "9e53086914624fa3b8c3ca356440e3a1": {
      "model_module": "@jupyter-widgets/base",
      "model_module_version": "1.2.0",
      "model_name": "LayoutModel",
      "state": {}
     },
     "9e7b1b79f2294e0c882128fcfdb09581": {
      "model_module": "@jupyter-widgets/controls",
      "model_module_version": "1.5.0",
      "model_name": "HTMLModel",
      "state": {
       "layout": "IPY_MODEL_4060506f718c4e98b6b41af904094a4e",
       "style": "IPY_MODEL_42be7435a8ed4bc296428dac62ac8997",
       "value": " 1005/1005 [00:44&lt;00:00, 22.63it/s]"
      }
     },
     "9e93fe6c1b42489cac3ad05818a210b7": {
      "model_module": "@jupyter-widgets/base",
      "model_module_version": "1.2.0",
      "model_name": "LayoutModel",
      "state": {}
     },
     "9f029765078d4f20bd9c3cf8b5901f15": {
      "model_module": "@jupyter-widgets/base",
      "model_module_version": "1.2.0",
      "model_name": "LayoutModel",
      "state": {}
     },
     "9f2a123ef7c74ea4b97001e98512bf09": {
      "model_module": "@jupyter-widgets/controls",
      "model_module_version": "1.5.0",
      "model_name": "DescriptionStyleModel",
      "state": {
       "description_width": ""
      }
     },
     "9f3c07936cb74974837e183d2b0d2ebf": {
      "model_module": "@jupyter-widgets/controls",
      "model_module_version": "1.5.0",
      "model_name": "HTMLModel",
      "state": {
       "layout": "IPY_MODEL_dabcdef86c214f65aa4cbfc4d4b89118",
       "style": "IPY_MODEL_b6cce61eec4f42ea827d388a3c6b1df0",
       "value": "loss: 0.6614: 100%"
      }
     },
     "9f43e6818d4244ad8febcaba946489b7": {
      "model_module": "@jupyter-widgets/base",
      "model_module_version": "1.2.0",
      "model_name": "LayoutModel",
      "state": {}
     },
     "9f5419bbec8b4fb2a946f7bb12939a52": {
      "model_module": "@jupyter-widgets/base",
      "model_module_version": "1.2.0",
      "model_name": "LayoutModel",
      "state": {}
     },
     "9f7cbc64afc244b3b96151c3f7407ed8": {
      "model_module": "@jupyter-widgets/base",
      "model_module_version": "1.2.0",
      "model_name": "LayoutModel",
      "state": {}
     },
     "a00c53a6247b40e8ab5ab8c7dd4df177": {
      "model_module": "@jupyter-widgets/base",
      "model_module_version": "1.2.0",
      "model_name": "LayoutModel",
      "state": {}
     },
     "a00cdfc1d7ad4e41ab96363ee59db10a": {
      "model_module": "@jupyter-widgets/controls",
      "model_module_version": "1.5.0",
      "model_name": "DescriptionStyleModel",
      "state": {
       "description_width": ""
      }
     },
     "a036c74378084656b8cb82ce11ae3f78": {
      "model_module": "@jupyter-widgets/controls",
      "model_module_version": "1.5.0",
      "model_name": "DescriptionStyleModel",
      "state": {
       "description_width": ""
      }
     },
     "a049638e03404f629e9ba836ffce3344": {
      "model_module": "@jupyter-widgets/base",
      "model_module_version": "1.2.0",
      "model_name": "LayoutModel",
      "state": {}
     },
     "a06c18592cb8414594552a60707aeeb6": {
      "model_module": "@jupyter-widgets/controls",
      "model_module_version": "1.5.0",
      "model_name": "DescriptionStyleModel",
      "state": {
       "description_width": ""
      }
     },
     "a0b19751e08f4aac8082e796d731be94": {
      "model_module": "@jupyter-widgets/controls",
      "model_module_version": "1.5.0",
      "model_name": "DescriptionStyleModel",
      "state": {
       "description_width": ""
      }
     },
     "a0c3031980074083aa608763c636012a": {
      "model_module": "@jupyter-widgets/controls",
      "model_module_version": "1.5.0",
      "model_name": "DescriptionStyleModel",
      "state": {
       "description_width": ""
      }
     },
     "a0e7fa8ad32749f2914ab2238159c3df": {
      "model_module": "@jupyter-widgets/controls",
      "model_module_version": "1.5.0",
      "model_name": "HTMLModel",
      "state": {
       "layout": "IPY_MODEL_6f136cbf49ba48cc88149a61e770a40c",
       "style": "IPY_MODEL_b5bb468cd0f24127bf22c78ccef81e6e",
       "value": "loss: 0.6643: 100%"
      }
     },
     "a10e35eff90e4d2bad719627c57ccc69": {
      "model_module": "@jupyter-widgets/controls",
      "model_module_version": "1.5.0",
      "model_name": "DescriptionStyleModel",
      "state": {
       "description_width": ""
      }
     },
     "a11713638ed5485293d9f07db71f9c3e": {
      "model_module": "@jupyter-widgets/base",
      "model_module_version": "1.2.0",
      "model_name": "LayoutModel",
      "state": {}
     },
     "a17b24860cc046b499c3117ca5b0181d": {
      "model_module": "@jupyter-widgets/controls",
      "model_module_version": "1.5.0",
      "model_name": "FloatProgressModel",
      "state": {
       "layout": "IPY_MODEL_329f9d44e0614ecea476b3fd7b2b3742",
       "max": 1213,
       "style": "IPY_MODEL_329bbaf28ce3482f95f684f44f192e0d",
       "value": 1213
      }
     },
     "a1aa222d422f406083e967badd600afc": {
      "model_module": "@jupyter-widgets/base",
      "model_module_version": "1.2.0",
      "model_name": "LayoutModel",
      "state": {}
     },
     "a1b449df3b12495a93401f4d6f89c79a": {
      "model_module": "@jupyter-widgets/controls",
      "model_module_version": "1.5.0",
      "model_name": "DescriptionStyleModel",
      "state": {
       "description_width": ""
      }
     },
     "a1fe0ae39df04e1ca61f1e7e18290e1c": {
      "model_module": "@jupyter-widgets/base",
      "model_module_version": "1.2.0",
      "model_name": "LayoutModel",
      "state": {}
     },
     "a20c772376564389bb711a669ca4ee54": {
      "model_module": "@jupyter-widgets/controls",
      "model_module_version": "1.5.0",
      "model_name": "FloatProgressModel",
      "state": {
       "layout": "IPY_MODEL_42920cc5392a45409ee5142e97708b28",
       "max": 209,
       "style": "IPY_MODEL_d6597a91007447dc87a66adf7c34c5ec",
       "value": 209
      }
     },
     "a24b375780f1471e9993fab2cfe1a898": {
      "model_module": "@jupyter-widgets/base",
      "model_module_version": "1.2.0",
      "model_name": "LayoutModel",
      "state": {}
     },
     "a27e468b6c3c4508b33cfe655ef8017b": {
      "model_module": "@jupyter-widgets/controls",
      "model_module_version": "1.5.0",
      "model_name": "DescriptionStyleModel",
      "state": {
       "description_width": ""
      }
     },
     "a28a2bd6090b4239ad340305b67bca48": {
      "model_module": "@jupyter-widgets/controls",
      "model_module_version": "1.5.0",
      "model_name": "FloatProgressModel",
      "state": {
       "layout": "IPY_MODEL_c820d72beee242699d2fea92a1791c4c",
       "max": 1467,
       "style": "IPY_MODEL_4a183c950a2344f18359c4db6019b92b",
       "value": 1467
      }
     },
     "a2ddca69e9134df9baadfc8bcd5ba19b": {
      "model_module": "@jupyter-widgets/controls",
      "model_module_version": "1.5.0",
      "model_name": "HTMLModel",
      "state": {
       "layout": "IPY_MODEL_d54a1f068614421685c9a5efec7e97fb",
       "style": "IPY_MODEL_57412eb526654be299dc0df4f3abdbcd",
       "value": " 1085/1085 [00:45&lt;00:00, 23.97it/s]"
      }
     },
     "a305d09110e34eb4b8f4be992c6a31e7": {
      "model_module": "@jupyter-widgets/controls",
      "model_module_version": "1.5.0",
      "model_name": "HTMLModel",
      "state": {
       "layout": "IPY_MODEL_72baa98f1a4f4b1187a57f5a3f2f9b7c",
       "style": "IPY_MODEL_55ced458661b44fdabe3ff5bfcc6b3a0",
       "value": " 354/354 [00:14&lt;00:00, 23.69it/s]"
      }
     },
     "a3244f0cffef4cf3bf95c5e084770e17": {
      "model_module": "@jupyter-widgets/base",
      "model_module_version": "1.2.0",
      "model_name": "LayoutModel",
      "state": {}
     },
     "a324666d4be84ef0b3306f24ef30bcaa": {
      "model_module": "@jupyter-widgets/base",
      "model_module_version": "1.2.0",
      "model_name": "LayoutModel",
      "state": {}
     },
     "a34504767d134c1a99a42a30ecc00b4a": {
      "model_module": "@jupyter-widgets/controls",
      "model_module_version": "1.5.0",
      "model_name": "HTMLModel",
      "state": {
       "layout": "IPY_MODEL_fd7d3a12a055430982f0be4df5ae3ec2",
       "style": "IPY_MODEL_11fff9e5a3724adcabd1e94e2a021b07",
       "value": " 1247/1247 [00:55&lt;00:00, 21.97it/s]"
      }
     },
     "a357b06560914bd68e56a788a5be455f": {
      "model_module": "@jupyter-widgets/controls",
      "model_module_version": "1.5.0",
      "model_name": "DescriptionStyleModel",
      "state": {
       "description_width": ""
      }
     },
     "a36395525c334900b03a0c4a01c01126": {
      "model_module": "@jupyter-widgets/base",
      "model_module_version": "1.2.0",
      "model_name": "LayoutModel",
      "state": {}
     },
     "a3920b81bc724f86b68e3a31b50e685f": {
      "model_module": "@jupyter-widgets/controls",
      "model_module_version": "1.5.0",
      "model_name": "FloatProgressModel",
      "state": {
       "layout": "IPY_MODEL_0892b93a9d164f43813842f22e944e1b",
       "max": 1217,
       "style": "IPY_MODEL_eb530bfd8a5f4bc183ada2567e9748b3",
       "value": 1217
      }
     },
     "a3bd12ba4452487996000e3bc1c5afa3": {
      "model_module": "@jupyter-widgets/controls",
      "model_module_version": "1.5.0",
      "model_name": "HTMLModel",
      "state": {
       "layout": "IPY_MODEL_e824226580c64363a938b2fab7c927fd",
       "style": "IPY_MODEL_a1b449df3b12495a93401f4d6f89c79a",
       "value": "loss: 0.6563: 100%"
      }
     },
     "a3dc5d0e6b7f498d8e6cac13f91008c8": {
      "model_module": "@jupyter-widgets/controls",
      "model_module_version": "1.5.0",
      "model_name": "ProgressStyleModel",
      "state": {
       "description_width": ""
      }
     },
     "a3f5809464004f8d80d0282a32535aca": {
      "model_module": "@jupyter-widgets/controls",
      "model_module_version": "1.5.0",
      "model_name": "FloatProgressModel",
      "state": {
       "layout": "IPY_MODEL_f5cd0da2c7e742a18e00c75b659723b5",
       "max": 1067,
       "style": "IPY_MODEL_f77837bbd637468f84636fff4be448e3",
       "value": 1067
      }
     },
     "a436d4bfa23a4dd5bbc624125ac09a53": {
      "model_module": "@jupyter-widgets/base",
      "model_module_version": "1.2.0",
      "model_name": "LayoutModel",
      "state": {}
     },
     "a43acb904735401fb3b5f6d38de3b2c6": {
      "model_module": "@jupyter-widgets/controls",
      "model_module_version": "1.5.0",
      "model_name": "HTMLModel",
      "state": {
       "layout": "IPY_MODEL_032abb9a2b8b484e915f9d4d5faecc85",
       "style": "IPY_MODEL_479acd4e35d347c8ad216a06c94e26f3",
       "value": "loss: 0.5346: 100%"
      }
     },
     "a43e08ddb3494f65a8013486c4e10c7a": {
      "model_module": "@jupyter-widgets/base",
      "model_module_version": "1.2.0",
      "model_name": "LayoutModel",
      "state": {}
     },
     "a454e59ca7d6404dac134bf229115eb3": {
      "model_module": "@jupyter-widgets/controls",
      "model_module_version": "1.5.0",
      "model_name": "ProgressStyleModel",
      "state": {
       "description_width": ""
      }
     },
     "a479dee08b3d436fa46d6e83479b2bc3": {
      "model_module": "@jupyter-widgets/base",
      "model_module_version": "1.2.0",
      "model_name": "LayoutModel",
      "state": {}
     },
     "a48e678db59f44239a6c3409e72efdd6": {
      "model_module": "@jupyter-widgets/controls",
      "model_module_version": "1.5.0",
      "model_name": "DescriptionStyleModel",
      "state": {
       "description_width": ""
      }
     },
     "a49bff3125784c90b4df9c62d23adaf1": {
      "model_module": "@jupyter-widgets/base",
      "model_module_version": "1.2.0",
      "model_name": "LayoutModel",
      "state": {}
     },
     "a4ae2437924d43dd9995531bb982ac9f": {
      "model_module": "@jupyter-widgets/base",
      "model_module_version": "1.2.0",
      "model_name": "LayoutModel",
      "state": {}
     },
     "a4af54c13ad9439fbc95ac5f360fe9ef": {
      "model_module": "@jupyter-widgets/controls",
      "model_module_version": "1.5.0",
      "model_name": "FloatProgressModel",
      "state": {
       "layout": "IPY_MODEL_07ed0e5de4ee4773b501e011f043217f",
       "max": 1262,
       "style": "IPY_MODEL_655d10143a5647e88892bbe7dfbf5c2e",
       "value": 1262
      }
     },
     "a4c9f050f0fd4e85a2e41eea90672ef9": {
      "model_module": "@jupyter-widgets/base",
      "model_module_version": "1.2.0",
      "model_name": "LayoutModel",
      "state": {}
     },
     "a4cad6447af9436db5dc4d9c387697db": {
      "model_module": "@jupyter-widgets/controls",
      "model_module_version": "1.5.0",
      "model_name": "FloatProgressModel",
      "state": {
       "layout": "IPY_MODEL_9ce4ff530b4c41469ce54d89cdd24281",
       "max": 1228,
       "style": "IPY_MODEL_9dd030083186464fa574b9ebcf5b8523",
       "value": 1228
      }
     },
     "a4d8a27ae6364954a5c1e83c32f6c170": {
      "model_module": "@jupyter-widgets/controls",
      "model_module_version": "1.5.0",
      "model_name": "ProgressStyleModel",
      "state": {
       "description_width": ""
      }
     },
     "a4f0d3c460864839a91b05491f1d80cf": {
      "model_module": "@jupyter-widgets/controls",
      "model_module_version": "1.5.0",
      "model_name": "DescriptionStyleModel",
      "state": {
       "description_width": ""
      }
     },
     "a50a15ee18c54aa49c58ca5e67622da7": {
      "model_module": "@jupyter-widgets/controls",
      "model_module_version": "1.5.0",
      "model_name": "HTMLModel",
      "state": {
       "layout": "IPY_MODEL_18c31afb103b429d8c12fb98a57a5ce0",
       "style": "IPY_MODEL_4e291b4c302a4d82afc8d5edae4a5b0e",
       "value": "100%"
      }
     },
     "a53d008afab94b46af7785f26f5c9f78": {
      "model_module": "@jupyter-widgets/controls",
      "model_module_version": "1.5.0",
      "model_name": "ProgressStyleModel",
      "state": {
       "description_width": ""
      }
     },
     "a54f666cd4204b469de85e9c6175eba0": {
      "model_module": "@jupyter-widgets/base",
      "model_module_version": "1.2.0",
      "model_name": "LayoutModel",
      "state": {}
     },
     "a56a2992522a4868af0ca8d575a517bb": {
      "model_module": "@jupyter-widgets/base",
      "model_module_version": "1.2.0",
      "model_name": "LayoutModel",
      "state": {}
     },
     "a5740758f3ed4832bd8f3820559a51b0": {
      "model_module": "@jupyter-widgets/base",
      "model_module_version": "1.2.0",
      "model_name": "LayoutModel",
      "state": {}
     },
     "a57f4878f73044fa8c7e6a5a482cb52a": {
      "model_module": "@jupyter-widgets/controls",
      "model_module_version": "1.5.0",
      "model_name": "HTMLModel",
      "state": {
       "layout": "IPY_MODEL_8415d96e841d49dd86344e073c5001a0",
       "style": "IPY_MODEL_de0e16997e914acca08acc12e86135ba",
       "value": " 1091/1091 [00:47&lt;00:00, 22.98it/s]"
      }
     },
     "a5a1e03843ef4f15a33acb4ab935ddd8": {
      "model_module": "@jupyter-widgets/controls",
      "model_module_version": "1.5.0",
      "model_name": "HTMLModel",
      "state": {
       "layout": "IPY_MODEL_c4ce99007eab4fa386d845df857dc5c6",
       "style": "IPY_MODEL_948c2cc894974452a1ed26126806f19e",
       "value": " 1217/1217 [00:54&lt;00:00, 22.41it/s]"
      }
     },
     "a5a8f7b3b43c4627bbf361422a106349": {
      "model_module": "@jupyter-widgets/controls",
      "model_module_version": "1.5.0",
      "model_name": "FloatProgressModel",
      "state": {
       "layout": "IPY_MODEL_ece9192c955948cc92c89a2ca55951ce",
       "max": 1218,
       "style": "IPY_MODEL_30500331104f4db9bed321225cc99462",
       "value": 1218
      }
     },
     "a5c6bedeb27248c5846311bbfcf88123": {
      "model_module": "@jupyter-widgets/controls",
      "model_module_version": "1.5.0",
      "model_name": "FloatProgressModel",
      "state": {
       "layout": "IPY_MODEL_aa27f89e0a67412dbf5449a8e6e560e3",
       "max": 1220,
       "style": "IPY_MODEL_4076414517fd4a8c89a60fccf9bb2207",
       "value": 1220
      }
     },
     "a5cab0651cf34cb082273f2dd0038c92": {
      "model_module": "@jupyter-widgets/base",
      "model_module_version": "1.2.0",
      "model_name": "LayoutModel",
      "state": {}
     },
     "a5caf5e0a55f4c41b63502781a5ec9ec": {
      "model_module": "@jupyter-widgets/controls",
      "model_module_version": "1.5.0",
      "model_name": "HTMLModel",
      "state": {
       "layout": "IPY_MODEL_69d99814c25f47428f3c78fdfa67852b",
       "style": "IPY_MODEL_5e8f8ee267ab4fbc89ed451f98a053aa",
       "value": " 783/783 [00:36&lt;00:00, 21.76it/s]"
      }
     },
     "a5e164b6512f4a65886842a55b59ebac": {
      "model_module": "@jupyter-widgets/base",
      "model_module_version": "1.2.0",
      "model_name": "LayoutModel",
      "state": {}
     },
     "a60d878ae2374144a0faed2aed772781": {
      "model_module": "@jupyter-widgets/base",
      "model_module_version": "1.2.0",
      "model_name": "LayoutModel",
      "state": {}
     },
     "a627ba3ccc2d47549613cf0e0f005780": {
      "model_module": "@jupyter-widgets/base",
      "model_module_version": "1.2.0",
      "model_name": "LayoutModel",
      "state": {}
     },
     "a64bf4c05e304bfd841d2ee923867753": {
      "model_module": "@jupyter-widgets/controls",
      "model_module_version": "1.5.0",
      "model_name": "FloatProgressModel",
      "state": {
       "layout": "IPY_MODEL_9f7cbc64afc244b3b96151c3f7407ed8",
       "max": 1149,
       "style": "IPY_MODEL_415402ea7bdd45558612d81becd0b505",
       "value": 1149
      }
     },
     "a659f8588513485dbae950e4edf6c5a7": {
      "model_module": "@jupyter-widgets/controls",
      "model_module_version": "1.5.0",
      "model_name": "DescriptionStyleModel",
      "state": {
       "description_width": ""
      }
     },
     "a680a31b05c7454c98fbdc8ecdf0fcb4": {
      "model_module": "@jupyter-widgets/base",
      "model_module_version": "1.2.0",
      "model_name": "LayoutModel",
      "state": {}
     },
     "a699033aeb994dd9bd8341d212b328f0": {
      "model_module": "@jupyter-widgets/controls",
      "model_module_version": "1.5.0",
      "model_name": "DescriptionStyleModel",
      "state": {
       "description_width": ""
      }
     },
     "a6b9e94bc6614d529efa64cbef72f105": {
      "model_module": "@jupyter-widgets/controls",
      "model_module_version": "1.5.0",
      "model_name": "HTMLModel",
      "state": {
       "layout": "IPY_MODEL_74c6d45bbab94edb8256e9a57e7cbe65",
       "style": "IPY_MODEL_2c11558b68014126be54ddfb82e56ff6",
       "value": " 1166/1166 [00:51&lt;00:00, 22.71it/s]"
      }
     },
     "a6bcfa34a8984fa495157fc519cbb286": {
      "model_module": "@jupyter-widgets/base",
      "model_module_version": "1.2.0",
      "model_name": "LayoutModel",
      "state": {}
     },
     "a6d21d13b3e3489b82fff9ffefb5db17": {
      "model_module": "@jupyter-widgets/controls",
      "model_module_version": "1.5.0",
      "model_name": "HTMLModel",
      "state": {
       "layout": "IPY_MODEL_a627ba3ccc2d47549613cf0e0f005780",
       "style": "IPY_MODEL_d366bc1558fb48b58a289443beaec03a",
       "value": "loss: 0.6587: 100%"
      }
     },
     "a6e94ce5425d4765a42b3102f57857f1": {
      "model_module": "@jupyter-widgets/controls",
      "model_module_version": "1.5.0",
      "model_name": "DescriptionStyleModel",
      "state": {
       "description_width": ""
      }
     },
     "a6fe1d4e33304f9a8c7d03da78ea8b65": {
      "model_module": "@jupyter-widgets/base",
      "model_module_version": "1.2.0",
      "model_name": "LayoutModel",
      "state": {}
     },
     "a7121eae6b024aa389ec8d33afacacc9": {
      "model_module": "@jupyter-widgets/controls",
      "model_module_version": "1.5.0",
      "model_name": "HTMLModel",
      "state": {
       "layout": "IPY_MODEL_28a048c1b47e43b9bb056c01696c588a",
       "style": "IPY_MODEL_58678ebf825145208542f60a489c413d",
       "value": "100%"
      }
     },
     "a717a4eb8ae04beb81bb9cead5bbdd7f": {
      "model_module": "@jupyter-widgets/base",
      "model_module_version": "1.2.0",
      "model_name": "LayoutModel",
      "state": {}
     },
     "a72dcf1c31644a4cba468c33d40e8b77": {
      "model_module": "@jupyter-widgets/controls",
      "model_module_version": "1.5.0",
      "model_name": "DescriptionStyleModel",
      "state": {
       "description_width": ""
      }
     },
     "a73017e096c247cfad45d2c8207adf40": {
      "model_module": "@jupyter-widgets/controls",
      "model_module_version": "1.5.0",
      "model_name": "ProgressStyleModel",
      "state": {
       "description_width": ""
      }
     },
     "a75d59d8e73d44d0bdde16327f4d18b0": {
      "model_module": "@jupyter-widgets/controls",
      "model_module_version": "1.5.0",
      "model_name": "DescriptionStyleModel",
      "state": {
       "description_width": ""
      }
     },
     "a75fb8d49f4744ae857e7832a28b6997": {
      "model_module": "@jupyter-widgets/controls",
      "model_module_version": "1.5.0",
      "model_name": "HTMLModel",
      "state": {
       "layout": "IPY_MODEL_7c3ebd2fde06439d8538716510c263e5",
       "style": "IPY_MODEL_f22b06e964684ef29db84c31c172333d",
       "value": "100%"
      }
     },
     "a789bb46a3ae4fc484871b984167286e": {
      "model_module": "@jupyter-widgets/base",
      "model_module_version": "1.2.0",
      "model_name": "LayoutModel",
      "state": {}
     },
     "a7acbb48ddb24c69ad7616fc2442717e": {
      "model_module": "@jupyter-widgets/base",
      "model_module_version": "1.2.0",
      "model_name": "LayoutModel",
      "state": {}
     },
     "a7c426df88f347df9ea62f40da086ed7": {
      "model_module": "@jupyter-widgets/controls",
      "model_module_version": "1.5.0",
      "model_name": "DescriptionStyleModel",
      "state": {
       "description_width": ""
      }
     },
     "a7cd37754692489393c6f6b58022c81d": {
      "model_module": "@jupyter-widgets/base",
      "model_module_version": "1.2.0",
      "model_name": "LayoutModel",
      "state": {}
     },
     "a7e448f917d747a3a6a9d15dacc977ba": {
      "model_module": "@jupyter-widgets/controls",
      "model_module_version": "1.5.0",
      "model_name": "HTMLModel",
      "state": {
       "layout": "IPY_MODEL_fc269f6db7aa4fd9ac6914efbc1b884a",
       "style": "IPY_MODEL_8595190ed1334a4a94c75fa048be1192",
       "value": "loss: 0.5708: 100%"
      }
     },
     "a7f93651e6ef4a5698a787f9eaffccb1": {
      "model_module": "@jupyter-widgets/controls",
      "model_module_version": "1.5.0",
      "model_name": "DescriptionStyleModel",
      "state": {
       "description_width": ""
      }
     },
     "a7fbb0b4acbd44749b495f8e1d3afa8e": {
      "model_module": "@jupyter-widgets/base",
      "model_module_version": "1.2.0",
      "model_name": "LayoutModel",
      "state": {}
     },
     "a8085cc101604f8d93bc6fdee9f38884": {
      "model_module": "@jupyter-widgets/controls",
      "model_module_version": "1.5.0",
      "model_name": "DescriptionStyleModel",
      "state": {
       "description_width": ""
      }
     },
     "a81cf71d575f4ca3ad5bf407fe8c77af": {
      "model_module": "@jupyter-widgets/base",
      "model_module_version": "1.2.0",
      "model_name": "LayoutModel",
      "state": {}
     },
     "a82905fa19724473a89910422f881915": {
      "model_module": "@jupyter-widgets/base",
      "model_module_version": "1.2.0",
      "model_name": "LayoutModel",
      "state": {}
     },
     "a82f2d4f64d348529383a18f95e4f939": {
      "model_module": "@jupyter-widgets/controls",
      "model_module_version": "1.5.0",
      "model_name": "ProgressStyleModel",
      "state": {
       "description_width": ""
      }
     },
     "a842e7418d274a23a7bc4b1d65d9d92e": {
      "model_module": "@jupyter-widgets/controls",
      "model_module_version": "1.5.0",
      "model_name": "HTMLModel",
      "state": {
       "layout": "IPY_MODEL_045583fa8cf8485dae3967651d69a6c6",
       "style": "IPY_MODEL_11ebbea48c6a481a93f66953e331e2ea",
       "value": "100%"
      }
     },
     "a85120fc5b3d4d86a4a2e940447378b0": {
      "model_module": "@jupyter-widgets/controls",
      "model_module_version": "1.5.0",
      "model_name": "DescriptionStyleModel",
      "state": {
       "description_width": ""
      }
     },
     "a854dc9208b14f9f9cde05bc63fbcc55": {
      "model_module": "@jupyter-widgets/base",
      "model_module_version": "1.2.0",
      "model_name": "LayoutModel",
      "state": {}
     },
     "a8574ceef1c3433eb7731301edeff630": {
      "model_module": "@jupyter-widgets/base",
      "model_module_version": "1.2.0",
      "model_name": "LayoutModel",
      "state": {}
     },
     "a85da809640d4fd7830263de65b108be": {
      "model_module": "@jupyter-widgets/controls",
      "model_module_version": "1.5.0",
      "model_name": "DescriptionStyleModel",
      "state": {
       "description_width": ""
      }
     },
     "a8861bbb6b114671a3911309c178de29": {
      "model_module": "@jupyter-widgets/controls",
      "model_module_version": "1.5.0",
      "model_name": "FloatProgressModel",
      "state": {
       "layout": "IPY_MODEL_c972b7ff10ed4727887bf9834ddfafd5",
       "max": 1216,
       "style": "IPY_MODEL_88f9c8f8562146b288b15ff7b5aef14d",
       "value": 1216
      }
     },
     "a894a57a42c74bbcbe560ed5ff861dfe": {
      "model_module": "@jupyter-widgets/base",
      "model_module_version": "1.2.0",
      "model_name": "LayoutModel",
      "state": {}
     },
     "a8bbe0a111ee4028b5c381bc8a97f171": {
      "model_module": "@jupyter-widgets/controls",
      "model_module_version": "1.5.0",
      "model_name": "DescriptionStyleModel",
      "state": {
       "description_width": ""
      }
     },
     "a8be88c8a72e4167ba8016e0ce9f1ff2": {
      "model_module": "@jupyter-widgets/base",
      "model_module_version": "1.2.0",
      "model_name": "LayoutModel",
      "state": {}
     },
     "a8d624d4847a40faa4bb3c05d4373028": {
      "model_module": "@jupyter-widgets/base",
      "model_module_version": "1.2.0",
      "model_name": "LayoutModel",
      "state": {}
     },
     "a8d9caea2e6b4a7a9e6ccd5a50f22825": {
      "model_module": "@jupyter-widgets/controls",
      "model_module_version": "1.5.0",
      "model_name": "DescriptionStyleModel",
      "state": {
       "description_width": ""
      }
     },
     "a8f186b8a70d4e94a0293730cb3a2a0b": {
      "model_module": "@jupyter-widgets/controls",
      "model_module_version": "1.5.0",
      "model_name": "HTMLModel",
      "state": {
       "layout": "IPY_MODEL_9e0f352c4eef4a32961e692ccab17160",
       "style": "IPY_MODEL_9a2c6482970e454ebd4bac6194546e15",
       "value": " 1181/1181 [00:50&lt;00:00, 23.41it/s]"
      }
     },
     "a8fa840fda7e4ed490ccfc9f63b36ffb": {
      "model_module": "@jupyter-widgets/base",
      "model_module_version": "1.2.0",
      "model_name": "LayoutModel",
      "state": {}
     },
     "a8ff8af9f6804723b1eb8f5b4d3884ec": {
      "model_module": "@jupyter-widgets/controls",
      "model_module_version": "1.5.0",
      "model_name": "FloatProgressModel",
      "state": {
       "layout": "IPY_MODEL_df1db2f822e44701b6c1482127fedbb9",
       "max": 1085,
       "style": "IPY_MODEL_5b5b7797dd2f4d54aef583478b60bd9d",
       "value": 1085
      }
     },
     "a9057d09ee1e4b958b979569028444b3": {
      "model_module": "@jupyter-widgets/controls",
      "model_module_version": "1.5.0",
      "model_name": "HTMLModel",
      "state": {
       "layout": "IPY_MODEL_92d91f3655fb42b79f009162f2a51c03",
       "style": "IPY_MODEL_eb6a8316f25247e99cdc068bd14ba65e",
       "value": " 1252/1252 [00:53&lt;00:00, 23.38it/s]"
      }
     },
     "a90a718ff1c3431b922336603037cbfe": {
      "model_module": "@jupyter-widgets/base",
      "model_module_version": "1.2.0",
      "model_name": "LayoutModel",
      "state": {}
     },
     "a933a1812b504ab5a1c10979de5675cd": {
      "model_module": "@jupyter-widgets/base",
      "model_module_version": "1.2.0",
      "model_name": "LayoutModel",
      "state": {}
     },
     "a93b06a05ef84cf6ba51ba78cffd6aa7": {
      "model_module": "@jupyter-widgets/controls",
      "model_module_version": "1.5.0",
      "model_name": "DescriptionStyleModel",
      "state": {
       "description_width": ""
      }
     },
     "a9582b008246453f9a627fe2b6a8764a": {
      "model_module": "@jupyter-widgets/base",
      "model_module_version": "1.2.0",
      "model_name": "LayoutModel",
      "state": {}
     },
     "a964b4c6238542f3b9c6bdba62e78021": {
      "model_module": "@jupyter-widgets/base",
      "model_module_version": "1.2.0",
      "model_name": "LayoutModel",
      "state": {}
     },
     "a96b2403752b4d3dba5f5c8cfe88e70f": {
      "model_module": "@jupyter-widgets/controls",
      "model_module_version": "1.5.0",
      "model_name": "HTMLModel",
      "state": {
       "layout": "IPY_MODEL_820f99b6ab0748bca824fd092f44229a",
       "style": "IPY_MODEL_17eb04a254114afca5a0e3e49c065399",
       "value": " 1084/1084 [00:51&lt;00:00, 20.86it/s]"
      }
     },
     "a96b9fa3eddb4294ba921b49dd331e07": {
      "model_module": "@jupyter-widgets/base",
      "model_module_version": "1.2.0",
      "model_name": "LayoutModel",
      "state": {}
     },
     "a973f4e9a4cc4570a6008d6db488c6ff": {
      "model_module": "@jupyter-widgets/controls",
      "model_module_version": "1.5.0",
      "model_name": "DescriptionStyleModel",
      "state": {
       "description_width": ""
      }
     },
     "a97f1f49471b4b2baf47a7c42c7091b3": {
      "model_module": "@jupyter-widgets/base",
      "model_module_version": "1.2.0",
      "model_name": "LayoutModel",
      "state": {}
     },
     "a9bd0d74e24147a9995f3718c2e29a7e": {
      "model_module": "@jupyter-widgets/controls",
      "model_module_version": "1.5.0",
      "model_name": "ProgressStyleModel",
      "state": {
       "description_width": ""
      }
     },
     "a9f3ba6cf9ca4fc0a714c18ad86f936f": {
      "model_module": "@jupyter-widgets/base",
      "model_module_version": "1.2.0",
      "model_name": "LayoutModel",
      "state": {}
     },
     "aa266657f2ee41dd98779bc2fc427faa": {
      "model_module": "@jupyter-widgets/base",
      "model_module_version": "1.2.0",
      "model_name": "LayoutModel",
      "state": {}
     },
     "aa27f89e0a67412dbf5449a8e6e560e3": {
      "model_module": "@jupyter-widgets/base",
      "model_module_version": "1.2.0",
      "model_name": "LayoutModel",
      "state": {}
     },
     "aa28bd6c62614506babf2ea3723b8d87": {
      "model_module": "@jupyter-widgets/controls",
      "model_module_version": "1.5.0",
      "model_name": "DescriptionStyleModel",
      "state": {
       "description_width": ""
      }
     },
     "aa32e42dc5214ee9bb1c68cfb6a71761": {
      "model_module": "@jupyter-widgets/controls",
      "model_module_version": "1.5.0",
      "model_name": "FloatProgressModel",
      "state": {
       "layout": "IPY_MODEL_021eb46bf4e04ae2afe8aec95cdd29fd",
       "max": 316,
       "style": "IPY_MODEL_995f733b8b8a4cba9f4f5c72cce2803d",
       "value": 316
      }
     },
     "aa3dae5e06a34679a81fc945ce977ff8": {
      "model_module": "@jupyter-widgets/controls",
      "model_module_version": "1.5.0",
      "model_name": "HTMLModel",
      "state": {
       "layout": "IPY_MODEL_71b5b9a7003a4d9faf28e1793c2410bc",
       "style": "IPY_MODEL_4f70148b7b714d46b976d04a3af1b0b6",
       "value": "100%"
      }
     },
     "aa4ebaa8cd6146a3a13182dec22055a7": {
      "model_module": "@jupyter-widgets/controls",
      "model_module_version": "1.5.0",
      "model_name": "ProgressStyleModel",
      "state": {
       "description_width": ""
      }
     },
     "aae6008bd7a04853a16c4b72d8668352": {
      "model_module": "@jupyter-widgets/controls",
      "model_module_version": "1.5.0",
      "model_name": "HTMLModel",
      "state": {
       "layout": "IPY_MODEL_77acf5bfac9e4665a37379a48712f51c",
       "style": "IPY_MODEL_a27e468b6c3c4508b33cfe655ef8017b",
       "value": "100%"
      }
     },
     "aaf8ae7f3cd14b748b443e2d8850479d": {
      "model_module": "@jupyter-widgets/controls",
      "model_module_version": "1.5.0",
      "model_name": "HTMLModel",
      "state": {
       "layout": "IPY_MODEL_c553f61dafb8470b87de9ea1aeeeb5ed",
       "style": "IPY_MODEL_9c9e51004f844ed19091e164fc07b311",
       "value": " 783/783 [00:36&lt;00:00, 21.50it/s]"
      }
     },
     "ab173e6c285340c49fd34bbd773ef9aa": {
      "model_module": "@jupyter-widgets/controls",
      "model_module_version": "1.5.0",
      "model_name": "HTMLModel",
      "state": {
       "layout": "IPY_MODEL_615ced5e51f142e39d80083edaca6a40",
       "style": "IPY_MODEL_98823f1b59664357ae85a0584f0d9670",
       "value": "loss: 0.7114: 100%"
      }
     },
     "ab284ebe44d84ef3a5a8fe50c79bac88": {
      "model_module": "@jupyter-widgets/base",
      "model_module_version": "1.2.0",
      "model_name": "LayoutModel",
      "state": {}
     },
     "ab743726ede74173b31a42f03a400b56": {
      "model_module": "@jupyter-widgets/controls",
      "model_module_version": "1.5.0",
      "model_name": "HTMLModel",
      "state": {
       "layout": "IPY_MODEL_a97f1f49471b4b2baf47a7c42c7091b3",
       "style": "IPY_MODEL_97d750b296924ebfadf73ee074ce2ef8",
       "value": "loss: 0.6782: 100%"
      }
     },
     "ab8a8996341d4d9bb8d87123df20595c": {
      "model_module": "@jupyter-widgets/controls",
      "model_module_version": "1.5.0",
      "model_name": "HTMLModel",
      "state": {
       "layout": "IPY_MODEL_177968290655409ebd178e6284971611",
       "style": "IPY_MODEL_cfde6ba0634d40c9b00d5e35e683ebbd",
       "value": "loss: 0.6474: 100%"
      }
     },
     "ab9fd25358074ad49753c579b184dc58": {
      "model_module": "@jupyter-widgets/controls",
      "model_module_version": "1.5.0",
      "model_name": "DescriptionStyleModel",
      "state": {
       "description_width": ""
      }
     },
     "abc2daad4e674e458245a7365656e41b": {
      "model_module": "@jupyter-widgets/controls",
      "model_module_version": "1.5.0",
      "model_name": "HTMLModel",
      "state": {
       "layout": "IPY_MODEL_c0f14d54f8874a6ca4697520beaa86bc",
       "style": "IPY_MODEL_748896d2f54b454e9c666ef2b974c6a6",
       "value": " 903/903 [00:42&lt;00:00, 21.55it/s]"
      }
     },
     "abd329a8c9ad492f90eddaf254e540d1": {
      "model_module": "@jupyter-widgets/controls",
      "model_module_version": "1.5.0",
      "model_name": "HTMLModel",
      "state": {
       "layout": "IPY_MODEL_721ebece208b4f209e6c79e10e4550ef",
       "style": "IPY_MODEL_bc03f331dda14e92a49fb1400a87c40c",
       "value": " 1445/1445 [01:04&lt;00:00, 22.63it/s]"
      }
     },
     "abe1e965ac164788b919fe90a76ca7c3": {
      "model_module": "@jupyter-widgets/controls",
      "model_module_version": "1.5.0",
      "model_name": "ProgressStyleModel",
      "state": {
       "description_width": ""
      }
     },
     "abea47c0dd4343839221be2473f160b0": {
      "model_module": "@jupyter-widgets/base",
      "model_module_version": "1.2.0",
      "model_name": "LayoutModel",
      "state": {}
     },
     "abfac8fbe88f4a19b22c3160cf4f8562": {
      "model_module": "@jupyter-widgets/controls",
      "model_module_version": "1.5.0",
      "model_name": "FloatProgressModel",
      "state": {
       "bar_style": "danger",
       "layout": "IPY_MODEL_d5a0cb24e63e4a4ab1dbb8ae837a2c9e",
       "max": 1084,
       "style": "IPY_MODEL_730cd147a73748eba06545c028b3badb",
       "value": 355
      }
     },
     "ac199a11bbe448f5b81cb50cc633e1d3": {
      "model_module": "@jupyter-widgets/base",
      "model_module_version": "1.2.0",
      "model_name": "LayoutModel",
      "state": {}
     },
     "ac881f79a0f74746bd0a9be0516f9586": {
      "model_module": "@jupyter-widgets/controls",
      "model_module_version": "1.5.0",
      "model_name": "HTMLModel",
      "state": {
       "layout": "IPY_MODEL_da79779ce79e480da6b2d109fee6f246",
       "style": "IPY_MODEL_559eefe648d1412aa9a7d59f9b726cfd",
       "value": " 1228/1228 [00:56&lt;00:00, 22.76it/s]"
      }
     },
     "ac9b0ee64ae341acb402cee505d8a00e": {
      "model_module": "@jupyter-widgets/base",
      "model_module_version": "1.2.0",
      "model_name": "LayoutModel",
      "state": {}
     },
     "acb6f00f927b43a8a77abdfd89a369da": {
      "model_module": "@jupyter-widgets/controls",
      "model_module_version": "1.5.0",
      "model_name": "FloatProgressModel",
      "state": {
       "layout": "IPY_MODEL_6b6eea34e4314acc9f749cd076dde5a6",
       "max": 993,
       "style": "IPY_MODEL_b9eeb597e27049f19328fb4a4de5306d",
       "value": 993
      }
     },
     "acbf68d27ecc4db3abf601fabdf1fd26": {
      "model_module": "@jupyter-widgets/controls",
      "model_module_version": "1.5.0",
      "model_name": "HTMLModel",
      "state": {
       "layout": "IPY_MODEL_ade32d8ad1b14d62aedf40cdcac79c8a",
       "style": "IPY_MODEL_70b2480cd8db4607bfefd9679e0700c0",
       "value": " 1115/1115 [00:46&lt;00:00, 23.92it/s]"
      }
     },
     "acebb6c0e12c4b4eaea365b2c59e484c": {
      "model_module": "@jupyter-widgets/controls",
      "model_module_version": "1.5.0",
      "model_name": "HTMLModel",
      "state": {
       "layout": "IPY_MODEL_04263e65cda947cbbcac6dd22a304439",
       "style": "IPY_MODEL_4e8f4b9f1605407690f2a1ed136ea09a",
       "value": "100%"
      }
     },
     "acf86932f83d4d5b9ea2575847c063c6": {
      "model_module": "@jupyter-widgets/base",
      "model_module_version": "1.2.0",
      "model_name": "LayoutModel",
      "state": {}
     },
     "ad16deea39cd48eaa65beab74b177e04": {
      "model_module": "@jupyter-widgets/controls",
      "model_module_version": "1.5.0",
      "model_name": "HTMLModel",
      "state": {
       "layout": "IPY_MODEL_2ee89938bc0e4d0aa65faa9134474f7e",
       "style": "IPY_MODEL_b5a4d7f2539b464fafe9454bbe4bb09f",
       "value": " 1229/1229 [00:52&lt;00:00, 23.65it/s]"
      }
     },
     "ad49b165d5604df1a5f75e441184975e": {
      "model_module": "@jupyter-widgets/controls",
      "model_module_version": "1.5.0",
      "model_name": "HTMLModel",
      "state": {
       "layout": "IPY_MODEL_d453f555586e4153910ac41520d2a459",
       "style": "IPY_MODEL_e0084ea178804ea79f84bb509d66824d",
       "value": "loss: 0.6750: 100%"
      }
     },
     "ad4a2fb7e2084150998fe72c6ab6cff0": {
      "model_module": "@jupyter-widgets/base",
      "model_module_version": "1.2.0",
      "model_name": "LayoutModel",
      "state": {}
     },
     "ad61f4beb17e40cf82db3a71992dc3fd": {
      "model_module": "@jupyter-widgets/base",
      "model_module_version": "1.2.0",
      "model_name": "LayoutModel",
      "state": {}
     },
     "ad7157467aa24f42adf747701e50c384": {
      "model_module": "@jupyter-widgets/controls",
      "model_module_version": "1.5.0",
      "model_name": "DescriptionStyleModel",
      "state": {
       "description_width": ""
      }
     },
     "ad8166556e9647429ef896ab3bcc2b6e": {
      "model_module": "@jupyter-widgets/base",
      "model_module_version": "1.2.0",
      "model_name": "LayoutModel",
      "state": {}
     },
     "ad9ab699719d43b9a57a4b3608b9ea9d": {
      "model_module": "@jupyter-widgets/controls",
      "model_module_version": "1.5.0",
      "model_name": "HTMLModel",
      "state": {
       "layout": "IPY_MODEL_e547f8dabb0546479c1ff0df8a9b45fa",
       "style": "IPY_MODEL_83fef7c6e8044a3a8b8a62dfc3873beb",
       "value": " 1193/1193 [00:56&lt;00:00, 21.21it/s]"
      }
     },
     "adcca9b1f61245328366aa1f6d52521d": {
      "model_module": "@jupyter-widgets/controls",
      "model_module_version": "1.5.0",
      "model_name": "DescriptionStyleModel",
      "state": {
       "description_width": ""
      }
     },
     "adde7c87913f4afa9a6265b75e53283d": {
      "model_module": "@jupyter-widgets/controls",
      "model_module_version": "1.5.0",
      "model_name": "HTMLModel",
      "state": {
       "layout": "IPY_MODEL_0a9aa162235a4693aede09850a143520",
       "style": "IPY_MODEL_205fc9547b814b4faa1ce4f5d0feedd7",
       "value": " 1197/1197 [00:55&lt;00:00, 21.69it/s]"
      }
     },
     "ade32d8ad1b14d62aedf40cdcac79c8a": {
      "model_module": "@jupyter-widgets/base",
      "model_module_version": "1.2.0",
      "model_name": "LayoutModel",
      "state": {}
     },
     "adfde24e1fc74878b604fa53759c6102": {
      "model_module": "@jupyter-widgets/controls",
      "model_module_version": "1.5.0",
      "model_name": "HTMLModel",
      "state": {
       "layout": "IPY_MODEL_478cac18b59947b4a44b2757aba6cce1",
       "style": "IPY_MODEL_4631e5e5cf5b42d1aa3a3f04b25b8700",
       "value": " 254/254 [00:10&lt;00:00, 24.80it/s]"
      }
     },
     "ae02a79236c44dd4b3fb0415dba75bd9": {
      "model_module": "@jupyter-widgets/base",
      "model_module_version": "1.2.0",
      "model_name": "LayoutModel",
      "state": {}
     },
     "ae079509938a4baabecb4580d5da9f35": {
      "model_module": "@jupyter-widgets/base",
      "model_module_version": "1.2.0",
      "model_name": "LayoutModel",
      "state": {}
     },
     "ae0a4411ed444168a3d4609f620136c0": {
      "model_module": "@jupyter-widgets/base",
      "model_module_version": "1.2.0",
      "model_name": "LayoutModel",
      "state": {}
     },
     "ae1a183385e349078fc35dab02f163ac": {
      "model_module": "@jupyter-widgets/base",
      "model_module_version": "1.2.0",
      "model_name": "LayoutModel",
      "state": {}
     },
     "ae1ddbee128d4e5b9a738ea7f279ce71": {
      "model_module": "@jupyter-widgets/controls",
      "model_module_version": "1.5.0",
      "model_name": "HBoxModel",
      "state": {
       "children": [
        "IPY_MODEL_e6a072c4549441419d6e2726f151bcb4",
        "IPY_MODEL_abfac8fbe88f4a19b22c3160cf4f8562",
        "IPY_MODEL_6c3a9772119c4bfebbc8506d74b37811"
       ],
       "layout": "IPY_MODEL_85ed3bf0ec2f4480bc6697b3e1222444"
      }
     },
     "ae63c9b6e1684f4eb8f731338548f267": {
      "model_module": "@jupyter-widgets/controls",
      "model_module_version": "1.5.0",
      "model_name": "ProgressStyleModel",
      "state": {
       "description_width": ""
      }
     },
     "ae657e5ba29546fc93b4514cee4fa6ad": {
      "model_module": "@jupyter-widgets/controls",
      "model_module_version": "1.5.0",
      "model_name": "ProgressStyleModel",
      "state": {
       "description_width": ""
      }
     },
     "ae6f46282b974dd986e437a0fb887523": {
      "model_module": "@jupyter-widgets/base",
      "model_module_version": "1.2.0",
      "model_name": "LayoutModel",
      "state": {}
     },
     "ae9885584d2f44d48ece261a8d42a321": {
      "model_module": "@jupyter-widgets/controls",
      "model_module_version": "1.5.0",
      "model_name": "ProgressStyleModel",
      "state": {
       "description_width": ""
      }
     },
     "af1f5ce5fc824d2282537f1a01daa667": {
      "model_module": "@jupyter-widgets/controls",
      "model_module_version": "1.5.0",
      "model_name": "DescriptionStyleModel",
      "state": {
       "description_width": ""
      }
     },
     "af27e9ea45104e35b43733282551b691": {
      "model_module": "@jupyter-widgets/base",
      "model_module_version": "1.2.0",
      "model_name": "LayoutModel",
      "state": {}
     },
     "af51798800ef401a9e5de056c5038c4d": {
      "model_module": "@jupyter-widgets/controls",
      "model_module_version": "1.5.0",
      "model_name": "HTMLModel",
      "state": {
       "layout": "IPY_MODEL_95e1893c9b4642f7b5c2ec515e885f4a",
       "style": "IPY_MODEL_f5cc03bcf647442b8edcc283ff6bfa9c",
       "value": "loss: 0.6306: 100%"
      }
     },
     "af549006de684e1d94cdf2d33e67083a": {
      "model_module": "@jupyter-widgets/base",
      "model_module_version": "1.2.0",
      "model_name": "LayoutModel",
      "state": {}
     },
     "af5f4d8436cd498ea0b8b316f7d505a1": {
      "model_module": "@jupyter-widgets/controls",
      "model_module_version": "1.5.0",
      "model_name": "HTMLModel",
      "state": {
       "layout": "IPY_MODEL_284fb1a3d4a8433591e77dfa6f5e8c07",
       "style": "IPY_MODEL_8aaf47accd6a407d9c0dc19f2a34992b",
       "value": " 500/500 [00:20&lt;00:00, 25.49it/s]"
      }
     },
     "af66996ed7b04cb99ac5217410bec9bb": {
      "model_module": "@jupyter-widgets/controls",
      "model_module_version": "1.5.0",
      "model_name": "ProgressStyleModel",
      "state": {
       "description_width": ""
      }
     },
     "af686dd6458b4037ad81fc05cad937cb": {
      "model_module": "@jupyter-widgets/controls",
      "model_module_version": "1.5.0",
      "model_name": "HTMLModel",
      "state": {
       "layout": "IPY_MODEL_f1cfc8686e41496d8dcf957bac2ac6e4",
       "style": "IPY_MODEL_6cb8204f34834ce88d334e0acada6172",
       "value": " 215/215 [00:08&lt;00:00, 25.51it/s]"
      }
     },
     "af75f725b78d46f892dd1bd57ae13015": {
      "model_module": "@jupyter-widgets/base",
      "model_module_version": "1.2.0",
      "model_name": "LayoutModel",
      "state": {}
     },
     "af7bbc6a23924ab798b3e6839f553702": {
      "model_module": "@jupyter-widgets/base",
      "model_module_version": "1.2.0",
      "model_name": "LayoutModel",
      "state": {}
     },
     "afa8bbe106224115999c9adca077d5a0": {
      "model_module": "@jupyter-widgets/controls",
      "model_module_version": "1.5.0",
      "model_name": "DescriptionStyleModel",
      "state": {
       "description_width": ""
      }
     },
     "afe510492e00401085bcc3a814627cd7": {
      "model_module": "@jupyter-widgets/controls",
      "model_module_version": "1.5.0",
      "model_name": "ProgressStyleModel",
      "state": {
       "description_width": ""
      }
     },
     "b02da1ee2db04407b2d6258f5410654b": {
      "model_module": "@jupyter-widgets/controls",
      "model_module_version": "1.5.0",
      "model_name": "FloatProgressModel",
      "state": {
       "bar_style": "danger",
       "layout": "IPY_MODEL_3f012d4f2ec443d9bc8b5612a755956a",
       "max": 1084,
       "style": "IPY_MODEL_357e10f245d94780b9609f9edd2b4956"
      }
     },
     "b03280d60927427a9c252665ecd07a65": {
      "model_module": "@jupyter-widgets/base",
      "model_module_version": "1.2.0",
      "model_name": "LayoutModel",
      "state": {}
     },
     "b038ee6906f143d78f623d3cfa9234bc": {
      "model_module": "@jupyter-widgets/base",
      "model_module_version": "1.2.0",
      "model_name": "LayoutModel",
      "state": {}
     },
     "b07e31c0e9934f77ba4545ef05f6adcb": {
      "model_module": "@jupyter-widgets/controls",
      "model_module_version": "1.5.0",
      "model_name": "FloatProgressModel",
      "state": {
       "layout": "IPY_MODEL_6967944c7a464de5b5d34b953c932970",
       "max": 783,
       "style": "IPY_MODEL_423020639f334b95884bc04f01359144",
       "value": 783
      }
     },
     "b0bed37edd9748648b619d6b217897b4": {
      "model_module": "@jupyter-widgets/controls",
      "model_module_version": "1.5.0",
      "model_name": "FloatProgressModel",
      "state": {
       "layout": "IPY_MODEL_b761002dae454f2cb3e90ce4e4c2dd5e",
       "max": 1213,
       "style": "IPY_MODEL_123be5daa71e4d568126168b2c427f18",
       "value": 1213
      }
     },
     "b0c3034e8f544e90be01d6d17b21da0d": {
      "model_module": "@jupyter-widgets/controls",
      "model_module_version": "1.5.0",
      "model_name": "HTMLModel",
      "state": {
       "layout": "IPY_MODEL_cf216415daa94c84b1e00ed67c239ebc",
       "style": "IPY_MODEL_01ce0658541240999fbabf968fd19ab3",
       "value": " 1228/1228 [00:49&lt;00:00, 24.64it/s]"
      }
     },
     "b0cda40b11234e96b762bb21f749d29f": {
      "model_module": "@jupyter-widgets/base",
      "model_module_version": "1.2.0",
      "model_name": "LayoutModel",
      "state": {}
     },
     "b0d262ef2aeb4d7399b8eb0fd7461e43": {
      "model_module": "@jupyter-widgets/base",
      "model_module_version": "1.2.0",
      "model_name": "LayoutModel",
      "state": {}
     },
     "b0dcbc6e9ee84603b27afa6be1f2be0e": {
      "model_module": "@jupyter-widgets/base",
      "model_module_version": "1.2.0",
      "model_name": "LayoutModel",
      "state": {}
     },
     "b0f8edda26c246c590cd20fa01b6770c": {
      "model_module": "@jupyter-widgets/base",
      "model_module_version": "1.2.0",
      "model_name": "LayoutModel",
      "state": {}
     },
     "b11d2e502455498aae144cb979fe3734": {
      "model_module": "@jupyter-widgets/controls",
      "model_module_version": "1.5.0",
      "model_name": "FloatProgressModel",
      "state": {
       "layout": "IPY_MODEL_e85c82d4ffe24ff89a525c97c8145f78",
       "max": 1187,
       "style": "IPY_MODEL_93f669cd2a684d0b99a4bf97c9c827b1",
       "value": 1187
      }
     },
     "b14a7ea8ea0743149aa8060da29fb26d": {
      "model_module": "@jupyter-widgets/controls",
      "model_module_version": "1.5.0",
      "model_name": "HTMLModel",
      "state": {
       "layout": "IPY_MODEL_8d8711f950bd43e4a21cb89838142e27",
       "style": "IPY_MODEL_1d81adfe309c4344b917a016b87e2304",
       "value": "loss: 0.5929: 100%"
      }
     },
     "b160b117661d4e52a35f818856b4520b": {
      "model_module": "@jupyter-widgets/controls",
      "model_module_version": "1.5.0",
      "model_name": "DescriptionStyleModel",
      "state": {
       "description_width": ""
      }
     },
     "b18ee9da9dcb4f9193e9233acc14e3dc": {
      "model_module": "@jupyter-widgets/controls",
      "model_module_version": "1.5.0",
      "model_name": "HTMLModel",
      "state": {
       "layout": "IPY_MODEL_a54f666cd4204b469de85e9c6175eba0",
       "style": "IPY_MODEL_26f6a1b174c14a28b52821d2e50cdc04",
       "value": "loss: 0.6281: 100%"
      }
     },
     "b19081e317c34b80bd9e1b5889fffee6": {
      "model_module": "@jupyter-widgets/controls",
      "model_module_version": "1.5.0",
      "model_name": "HTMLModel",
      "state": {
       "layout": "IPY_MODEL_4e6f4844f6f04c2dae7835c144c0bb9d",
       "style": "IPY_MODEL_5d0c9206b9334032ac9a623d55e2fde2",
       "value": " 1037/1037 [00:49&lt;00:00, 20.41it/s]"
      }
     },
     "b1a023de0c4f435792baedf4ae3261be": {
      "model_module": "@jupyter-widgets/controls",
      "model_module_version": "1.5.0",
      "model_name": "DescriptionStyleModel",
      "state": {
       "description_width": ""
      }
     },
     "b1b692e41eab401a8ce17d09b8f8e7bc": {
      "model_module": "@jupyter-widgets/controls",
      "model_module_version": "1.5.0",
      "model_name": "DescriptionStyleModel",
      "state": {
       "description_width": ""
      }
     },
     "b1d1ada19be140c29bce48cf6029a419": {
      "model_module": "@jupyter-widgets/controls",
      "model_module_version": "1.5.0",
      "model_name": "ProgressStyleModel",
      "state": {
       "description_width": ""
      }
     },
     "b1f337c83d5745dc99bf3e8abec41ab3": {
      "model_module": "@jupyter-widgets/controls",
      "model_module_version": "1.5.0",
      "model_name": "DescriptionStyleModel",
      "state": {
       "description_width": ""
      }
     },
     "b1fe9c9f9513445c90cfe99047f26a19": {
      "model_module": "@jupyter-widgets/controls",
      "model_module_version": "1.5.0",
      "model_name": "ProgressStyleModel",
      "state": {
       "description_width": ""
      }
     },
     "b23e8bb2383546c9ac8e7e6327c45e95": {
      "model_module": "@jupyter-widgets/base",
      "model_module_version": "1.2.0",
      "model_name": "LayoutModel",
      "state": {}
     },
     "b28afd0cd5dc46ab88bb005ef8509cc9": {
      "model_module": "@jupyter-widgets/base",
      "model_module_version": "1.2.0",
      "model_name": "LayoutModel",
      "state": {}
     },
     "b28c75c2669742d595c40bdec97ee898": {
      "model_module": "@jupyter-widgets/base",
      "model_module_version": "1.2.0",
      "model_name": "LayoutModel",
      "state": {}
     },
     "b2ba28865dfc43a09c57443aa77c454c": {
      "model_module": "@jupyter-widgets/base",
      "model_module_version": "1.2.0",
      "model_name": "LayoutModel",
      "state": {}
     },
     "b2bcbf1880f34ae0b5303947c8ab2e6a": {
      "model_module": "@jupyter-widgets/base",
      "model_module_version": "1.2.0",
      "model_name": "LayoutModel",
      "state": {}
     },
     "b2c0686169fe4f25900f3b4c3e3d62b7": {
      "model_module": "@jupyter-widgets/base",
      "model_module_version": "1.2.0",
      "model_name": "LayoutModel",
      "state": {}
     },
     "b2cf46bf1d18456b85cee7e23b5931ec": {
      "model_module": "@jupyter-widgets/base",
      "model_module_version": "1.2.0",
      "model_name": "LayoutModel",
      "state": {}
     },
     "b2db037ecf6b499e9d1cded89561ef35": {
      "model_module": "@jupyter-widgets/controls",
      "model_module_version": "1.5.0",
      "model_name": "ProgressStyleModel",
      "state": {
       "description_width": ""
      }
     },
     "b3205472187542528b5b0f345119be88": {
      "model_module": "@jupyter-widgets/base",
      "model_module_version": "1.2.0",
      "model_name": "LayoutModel",
      "state": {}
     },
     "b33ca9728bb54016ad38f4ba4265fb5b": {
      "model_module": "@jupyter-widgets/controls",
      "model_module_version": "1.5.0",
      "model_name": "HTMLModel",
      "state": {
       "layout": "IPY_MODEL_e68385f0bea645bdbb35d2d2353750aa",
       "style": "IPY_MODEL_404dd8157617477d908384d540a4396a",
       "value": "100%"
      }
     },
     "b341385fb0b646aeaa9b1bafbca6cad8": {
      "model_module": "@jupyter-widgets/controls",
      "model_module_version": "1.5.0",
      "model_name": "ProgressStyleModel",
      "state": {
       "description_width": ""
      }
     },
     "b345babbdfaf460c90251b7779d77208": {
      "model_module": "@jupyter-widgets/controls",
      "model_module_version": "1.5.0",
      "model_name": "HTMLModel",
      "state": {
       "layout": "IPY_MODEL_1c0fb2e48031441abefecea81595525a",
       "style": "IPY_MODEL_492ad38332a5401eb5a256b3315b1e1c",
       "value": " 1181/1181 [00:50&lt;00:00, 23.31it/s]"
      }
     },
     "b3617be046524bf197e8852d6c59ac34": {
      "model_module": "@jupyter-widgets/controls",
      "model_module_version": "1.5.0",
      "model_name": "FloatProgressModel",
      "state": {
       "layout": "IPY_MODEL_dfdc08eb4f1841c1859b0fde6b855627",
       "max": 1229,
       "style": "IPY_MODEL_3a845e9e5744409684a06a08e568de29",
       "value": 1229
      }
     },
     "b364c38c99064c87b1b0a706b9ada332": {
      "model_module": "@jupyter-widgets/controls",
      "model_module_version": "1.5.0",
      "model_name": "HTMLModel",
      "state": {
       "layout": "IPY_MODEL_94e877f8bb4e45a0b495b806cbad214e",
       "style": "IPY_MODEL_0c116283de8d405998980ce54365aaac",
       "value": "100%"
      }
     },
     "b38b2047f23249e4a9441824a38b0ef2": {
      "model_module": "@jupyter-widgets/controls",
      "model_module_version": "1.5.0",
      "model_name": "ProgressStyleModel",
      "state": {
       "description_width": ""
      }
     },
     "b38bdc6f01a3405f98a58e65d83e625c": {
      "model_module": "@jupyter-widgets/controls",
      "model_module_version": "1.5.0",
      "model_name": "ProgressStyleModel",
      "state": {
       "description_width": ""
      }
     },
     "b3ac35ac075b4a5abde6f217cbb447cd": {
      "model_module": "@jupyter-widgets/controls",
      "model_module_version": "1.5.0",
      "model_name": "HTMLModel",
      "state": {
       "layout": "IPY_MODEL_2d46c39b007e42398a42741a57583e5f",
       "style": "IPY_MODEL_a93b06a05ef84cf6ba51ba78cffd6aa7",
       "value": "100%"
      }
     },
     "b3edd1af2edc4587a4f30d055c665099": {
      "model_module": "@jupyter-widgets/controls",
      "model_module_version": "1.5.0",
      "model_name": "HTMLModel",
      "state": {
       "layout": "IPY_MODEL_5c41bf715d3b48f0bdefe939f739919f",
       "style": "IPY_MODEL_fc791dd5c48a445f8a59dcaa10ebb556",
       "value": " 256/256 [00:10&lt;00:00, 26.04it/s]"
      }
     },
     "b411474461dd4913ac7e63eaf0edc3ec": {
      "model_module": "@jupyter-widgets/controls",
      "model_module_version": "1.5.0",
      "model_name": "DescriptionStyleModel",
      "state": {
       "description_width": ""
      }
     },
     "b448a96819f64d3c9e2a066d9f70e7b3": {
      "model_module": "@jupyter-widgets/base",
      "model_module_version": "1.2.0",
      "model_name": "LayoutModel",
      "state": {}
     },
     "b45ed20d5d7c49079cd6d58482838951": {
      "model_module": "@jupyter-widgets/base",
      "model_module_version": "1.2.0",
      "model_name": "LayoutModel",
      "state": {}
     },
     "b467bce75f0f4d05aaa5c1201072d47f": {
      "model_module": "@jupyter-widgets/controls",
      "model_module_version": "1.5.0",
      "model_name": "DescriptionStyleModel",
      "state": {
       "description_width": ""
      }
     },
     "b46d440e47e74c719792409f8695ff42": {
      "model_module": "@jupyter-widgets/controls",
      "model_module_version": "1.5.0",
      "model_name": "DescriptionStyleModel",
      "state": {
       "description_width": ""
      }
     },
     "b47a840eef0e40fd98193ebd38e50814": {
      "model_module": "@jupyter-widgets/controls",
      "model_module_version": "1.5.0",
      "model_name": "FloatProgressModel",
      "state": {
       "layout": "IPY_MODEL_1dd4ab16e9ec444fa26b52e658d199d1",
       "max": 1084,
       "style": "IPY_MODEL_565a2975438a4d6fafa39c4cccf3bb81",
       "value": 1084
      }
     },
     "b49ba832fba547d39af08517ff7aa503": {
      "model_module": "@jupyter-widgets/controls",
      "model_module_version": "1.5.0",
      "model_name": "DescriptionStyleModel",
      "state": {
       "description_width": ""
      }
     },
     "b4a3f80e2c9542f29de0e71230b4d12b": {
      "model_module": "@jupyter-widgets/controls",
      "model_module_version": "1.5.0",
      "model_name": "HTMLModel",
      "state": {
       "layout": "IPY_MODEL_a436d4bfa23a4dd5bbc624125ac09a53",
       "style": "IPY_MODEL_4c4ebe7d8bbb479ab63f97df01157a0f",
       "value": " 1197/1197 [00:56&lt;00:00, 20.50it/s]"
      }
     },
     "b4b45651da354a889ee591ff62b5299e": {
      "model_module": "@jupyter-widgets/controls",
      "model_module_version": "1.5.0",
      "model_name": "ProgressStyleModel",
      "state": {
       "description_width": ""
      }
     },
     "b4c02f7affea4090907464a37cdb3632": {
      "model_module": "@jupyter-widgets/base",
      "model_module_version": "1.2.0",
      "model_name": "LayoutModel",
      "state": {}
     },
     "b4f345d78ef641588b4ba5081adf818d": {
      "model_module": "@jupyter-widgets/controls",
      "model_module_version": "1.5.0",
      "model_name": "FloatProgressModel",
      "state": {
       "layout": "IPY_MODEL_d7d6f66f0eff4834a938a4130cb1925e",
       "max": 207,
       "style": "IPY_MODEL_78ca4aa5d8364dfc9b12e32972c37556",
       "value": 207
      }
     },
     "b525e4f3f09a4026aa86a60f04f812b4": {
      "model_module": "@jupyter-widgets/controls",
      "model_module_version": "1.5.0",
      "model_name": "FloatProgressModel",
      "state": {
       "layout": "IPY_MODEL_7e098f57ec0f440f951be75e6b86cd12",
       "max": 1049,
       "style": "IPY_MODEL_98d3f6788d59411b80de1fee78cde5d5",
       "value": 1049
      }
     },
     "b5925811a63b455e9f0bc97df7079822": {
      "model_module": "@jupyter-widgets/controls",
      "model_module_version": "1.5.0",
      "model_name": "DescriptionStyleModel",
      "state": {
       "description_width": ""
      }
     },
     "b5a4d7f2539b464fafe9454bbe4bb09f": {
      "model_module": "@jupyter-widgets/controls",
      "model_module_version": "1.5.0",
      "model_name": "DescriptionStyleModel",
      "state": {
       "description_width": ""
      }
     },
     "b5bb468cd0f24127bf22c78ccef81e6e": {
      "model_module": "@jupyter-widgets/controls",
      "model_module_version": "1.5.0",
      "model_name": "DescriptionStyleModel",
      "state": {
       "description_width": ""
      }
     },
     "b5c1bed9a4b3407488eb7bed1d4b0c71": {
      "model_module": "@jupyter-widgets/controls",
      "model_module_version": "1.5.0",
      "model_name": "ProgressStyleModel",
      "state": {
       "description_width": ""
      }
     },
     "b5d056b66de84e94934a1355146be063": {
      "model_module": "@jupyter-widgets/controls",
      "model_module_version": "1.5.0",
      "model_name": "DescriptionStyleModel",
      "state": {
       "description_width": ""
      }
     },
     "b61af76c668a4b6c842d46918a8284ae": {
      "model_module": "@jupyter-widgets/base",
      "model_module_version": "1.2.0",
      "model_name": "LayoutModel",
      "state": {}
     },
     "b61f788c958d4de5801d2478cb0932cd": {
      "model_module": "@jupyter-widgets/controls",
      "model_module_version": "1.5.0",
      "model_name": "DescriptionStyleModel",
      "state": {
       "description_width": ""
      }
     },
     "b6474091c71342be9ccaa457147b5290": {
      "model_module": "@jupyter-widgets/controls",
      "model_module_version": "1.5.0",
      "model_name": "HTMLModel",
      "state": {
       "layout": "IPY_MODEL_8b52e842ed0744a2ac2c1287eaecd8fc",
       "style": "IPY_MODEL_c61d80efd84f49cf99d7dc8f42b9b705",
       "value": " 249/249 [00:10&lt;00:00, 23.42it/s]"
      }
     },
     "b650cf3c03ba463ab4121460f7b8be14": {
      "model_module": "@jupyter-widgets/base",
      "model_module_version": "1.2.0",
      "model_name": "LayoutModel",
      "state": {}
     },
     "b65193715b93458f94b6dd4ece226517": {
      "model_module": "@jupyter-widgets/base",
      "model_module_version": "1.2.0",
      "model_name": "LayoutModel",
      "state": {}
     },
     "b6cce61eec4f42ea827d388a3c6b1df0": {
      "model_module": "@jupyter-widgets/controls",
      "model_module_version": "1.5.0",
      "model_name": "DescriptionStyleModel",
      "state": {
       "description_width": ""
      }
     },
     "b6d70e23ecb6404395e4b98a2627d545": {
      "model_module": "@jupyter-widgets/base",
      "model_module_version": "1.2.0",
      "model_name": "LayoutModel",
      "state": {}
     },
     "b71fe62bdf004880abf9eb23a9de1d99": {
      "model_module": "@jupyter-widgets/base",
      "model_module_version": "1.2.0",
      "model_name": "LayoutModel",
      "state": {}
     },
     "b72cbd2070174471ae69c6f4d1a1d493": {
      "model_module": "@jupyter-widgets/controls",
      "model_module_version": "1.5.0",
      "model_name": "DescriptionStyleModel",
      "state": {
       "description_width": ""
      }
     },
     "b74157e5941a48bbb704d3a06f76c6e9": {
      "model_module": "@jupyter-widgets/controls",
      "model_module_version": "1.5.0",
      "model_name": "DescriptionStyleModel",
      "state": {
       "description_width": ""
      }
     },
     "b74b558cfd9840a1ab147fa49117e196": {
      "model_module": "@jupyter-widgets/controls",
      "model_module_version": "1.5.0",
      "model_name": "HTMLModel",
      "state": {
       "layout": "IPY_MODEL_0732ba2bcc9d4316ac837902b63c9060",
       "style": "IPY_MODEL_83c3b16b056443848d696da04208197f",
       "value": "loss: 0.6719: 100%"
      }
     },
     "b761002dae454f2cb3e90ce4e4c2dd5e": {
      "model_module": "@jupyter-widgets/base",
      "model_module_version": "1.2.0",
      "model_name": "LayoutModel",
      "state": {}
     },
     "b76390cd333848bb8b0032bf8472fc67": {
      "model_module": "@jupyter-widgets/base",
      "model_module_version": "1.2.0",
      "model_name": "LayoutModel",
      "state": {}
     },
     "b78eeeb76cf6426e8b08b68e97bb7371": {
      "model_module": "@jupyter-widgets/base",
      "model_module_version": "1.2.0",
      "model_name": "LayoutModel",
      "state": {}
     },
     "b793b883557040f38c04064fd9c1645c": {
      "model_module": "@jupyter-widgets/base",
      "model_module_version": "1.2.0",
      "model_name": "LayoutModel",
      "state": {}
     },
     "b79a1842d00b4051b219564248c421db": {
      "model_module": "@jupyter-widgets/base",
      "model_module_version": "1.2.0",
      "model_name": "LayoutModel",
      "state": {}
     },
     "b7a0015e02cb4075b4f9cff54c9aec30": {
      "model_module": "@jupyter-widgets/controls",
      "model_module_version": "1.5.0",
      "model_name": "ProgressStyleModel",
      "state": {
       "description_width": ""
      }
     },
     "b7a3fa09931947f99cdd3ea2cfaa9c37": {
      "model_module": "@jupyter-widgets/controls",
      "model_module_version": "1.5.0",
      "model_name": "HTMLModel",
      "state": {
       "layout": "IPY_MODEL_00d023c2bf3f4a6687afa56e14606487",
       "style": "IPY_MODEL_c62c9953235e4e7bae0b332326133101",
       "value": " 1037/1037 [00:49&lt;00:00, 21.40it/s]"
      }
     },
     "b7c0328d1be0476f844cc7649200b3fd": {
      "model_module": "@jupyter-widgets/controls",
      "model_module_version": "1.5.0",
      "model_name": "ProgressStyleModel",
      "state": {
       "description_width": ""
      }
     },
     "b80af9fcd6a94ad78e8c55ad4ad278a5": {
      "model_module": "@jupyter-widgets/controls",
      "model_module_version": "1.5.0",
      "model_name": "HTMLModel",
      "state": {
       "layout": "IPY_MODEL_578b5ad5fda6449c9172e0dfeaa155f5",
       "style": "IPY_MODEL_5a1b3a47894a4446b1138b6f0b5f5d1d",
       "value": "100%"
      }
     },
     "b84ab3163ba249ea9370bc7c9d473db6": {
      "model_module": "@jupyter-widgets/controls",
      "model_module_version": "1.5.0",
      "model_name": "DescriptionStyleModel",
      "state": {
       "description_width": ""
      }
     },
     "b8e28609f1004e47866abcfd9744a3c3": {
      "model_module": "@jupyter-widgets/controls",
      "model_module_version": "1.5.0",
      "model_name": "FloatProgressModel",
      "state": {
       "layout": "IPY_MODEL_8e8b43f5fc9b40a5bfbc47edf104f815",
       "max": 1085,
       "style": "IPY_MODEL_0738fcd8bc1b4c26961ab7bdd393e570",
       "value": 1085
      }
     },
     "b92ba19871e1489a8d34518e6ddfb5e2": {
      "model_module": "@jupyter-widgets/controls",
      "model_module_version": "1.5.0",
      "model_name": "DescriptionStyleModel",
      "state": {
       "description_width": ""
      }
     },
     "b94b783c57634ff2bdac329b5359b98a": {
      "model_module": "@jupyter-widgets/controls",
      "model_module_version": "1.5.0",
      "model_name": "DescriptionStyleModel",
      "state": {
       "description_width": ""
      }
     },
     "b9918bef57c84bc0bbd8d4ccb45e58ab": {
      "model_module": "@jupyter-widgets/controls",
      "model_module_version": "1.5.0",
      "model_name": "DescriptionStyleModel",
      "state": {
       "description_width": ""
      }
     },
     "b99e7899781149af89344b8b768cebb1": {
      "model_module": "@jupyter-widgets/controls",
      "model_module_version": "1.5.0",
      "model_name": "HTMLModel",
      "state": {
       "layout": "IPY_MODEL_e28683deabec4f82b2e3f83db4aee9bd",
       "style": "IPY_MODEL_488699bb3e8e4e2fa1bc4da84f7aecde",
       "value": "100%"
      }
     },
     "b9a7b5c04ae147b69558e6999d75f3dd": {
      "model_module": "@jupyter-widgets/controls",
      "model_module_version": "1.5.0",
      "model_name": "DescriptionStyleModel",
      "state": {
       "description_width": ""
      }
     },
     "b9ce9a8a747c4a7cbf3c2e515ff3edfb": {
      "model_module": "@jupyter-widgets/controls",
      "model_module_version": "1.5.0",
      "model_name": "DescriptionStyleModel",
      "state": {
       "description_width": ""
      }
     },
     "b9e9bbbf6eee44a6826e785a41be688e": {
      "model_module": "@jupyter-widgets/controls",
      "model_module_version": "1.5.0",
      "model_name": "DescriptionStyleModel",
      "state": {
       "description_width": ""
      }
     },
     "b9eeb597e27049f19328fb4a4de5306d": {
      "model_module": "@jupyter-widgets/controls",
      "model_module_version": "1.5.0",
      "model_name": "ProgressStyleModel",
      "state": {
       "description_width": ""
      }
     },
     "ba30284fdc5d44809dfd6a0f8be5df16": {
      "model_module": "@jupyter-widgets/controls",
      "model_module_version": "1.5.0",
      "model_name": "HTMLModel",
      "state": {
       "layout": "IPY_MODEL_e76b8d6dfd914a2bb371a27973d7df48",
       "style": "IPY_MODEL_42e73e80ec2a48568fb267d575bd1a9c",
       "value": " 1037/1037 [00:48&lt;00:00, 20.50it/s]"
      }
     },
     "ba3edb2dd2d24dd9aeece268a991df9c": {
      "model_module": "@jupyter-widgets/controls",
      "model_module_version": "1.5.0",
      "model_name": "FloatProgressModel",
      "state": {
       "layout": "IPY_MODEL_443c611e447741898e85bc278cc6afbc",
       "max": 1261,
       "style": "IPY_MODEL_46a32a2e5f9e483793f29d7195b27f85",
       "value": 1261
      }
     },
     "ba522dcfef384a899ae9aed0a45f0c92": {
      "model_module": "@jupyter-widgets/base",
      "model_module_version": "1.2.0",
      "model_name": "LayoutModel",
      "state": {}
     },
     "ba55f0f2f2894994be66db5dd147840d": {
      "model_module": "@jupyter-widgets/base",
      "model_module_version": "1.2.0",
      "model_name": "LayoutModel",
      "state": {}
     },
     "ba9fd716fc0b4172ad59dabd27df1cc1": {
      "model_module": "@jupyter-widgets/base",
      "model_module_version": "1.2.0",
      "model_name": "LayoutModel",
      "state": {}
     },
     "ba9fdc94d99e47e6a15ee0afb11da0a5": {
      "model_module": "@jupyter-widgets/controls",
      "model_module_version": "1.5.0",
      "model_name": "ProgressStyleModel",
      "state": {
       "description_width": ""
      }
     },
     "bac61cca7fc347b8bd873ca245aa0967": {
      "model_module": "@jupyter-widgets/base",
      "model_module_version": "1.2.0",
      "model_name": "LayoutModel",
      "state": {}
     },
     "bacce9fbc0184d688c8fe51e9713f3ea": {
      "model_module": "@jupyter-widgets/base",
      "model_module_version": "1.2.0",
      "model_name": "LayoutModel",
      "state": {}
     },
     "bae06282d536410a84f8d80716784011": {
      "model_module": "@jupyter-widgets/base",
      "model_module_version": "1.2.0",
      "model_name": "LayoutModel",
      "state": {}
     },
     "bb26233c995143f5ba3733e739dc1de3": {
      "model_module": "@jupyter-widgets/controls",
      "model_module_version": "1.5.0",
      "model_name": "ProgressStyleModel",
      "state": {
       "description_width": ""
      }
     },
     "bb2f58970cf446139ad6ccc4d2b7457f": {
      "model_module": "@jupyter-widgets/base",
      "model_module_version": "1.2.0",
      "model_name": "LayoutModel",
      "state": {}
     },
     "bb31c917827a498eb807d5613ac5dbeb": {
      "model_module": "@jupyter-widgets/base",
      "model_module_version": "1.2.0",
      "model_name": "LayoutModel",
      "state": {}
     },
     "bb5dadfb4a02474f93fa226eb55e45a8": {
      "model_module": "@jupyter-widgets/base",
      "model_module_version": "1.2.0",
      "model_name": "LayoutModel",
      "state": {}
     },
     "bb6e94af96c64067ae56cbc72d351997": {
      "model_module": "@jupyter-widgets/base",
      "model_module_version": "1.2.0",
      "model_name": "LayoutModel",
      "state": {}
     },
     "bb8ee43ded4f476c9c42389bbc74a5da": {
      "model_module": "@jupyter-widgets/base",
      "model_module_version": "1.2.0",
      "model_name": "LayoutModel",
      "state": {}
     },
     "bba5492a89a04b1dbc2a834f9dd3a4b0": {
      "model_module": "@jupyter-widgets/base",
      "model_module_version": "1.2.0",
      "model_name": "LayoutModel",
      "state": {}
     },
     "bbad8aff123940c0b6317013d70f7337": {
      "model_module": "@jupyter-widgets/controls",
      "model_module_version": "1.5.0",
      "model_name": "DescriptionStyleModel",
      "state": {
       "description_width": ""
      }
     },
     "bbb0d184efc84d38bfea3eae02474ec5": {
      "model_module": "@jupyter-widgets/base",
      "model_module_version": "1.2.0",
      "model_name": "LayoutModel",
      "state": {}
     },
     "bbc0fed40c484e64a80690afb4c4cd75": {
      "model_module": "@jupyter-widgets/controls",
      "model_module_version": "1.5.0",
      "model_name": "FloatProgressModel",
      "state": {
       "layout": "IPY_MODEL_5173bab9972c41e096955bf47234b108",
       "max": 1229,
       "style": "IPY_MODEL_59b36003391e48caabcd4e59ab578498",
       "value": 1229
      }
     },
     "bbf8211e8dc04cc289092076a8660448": {
      "model_module": "@jupyter-widgets/base",
      "model_module_version": "1.2.0",
      "model_name": "LayoutModel",
      "state": {}
     },
     "bc03f331dda14e92a49fb1400a87c40c": {
      "model_module": "@jupyter-widgets/controls",
      "model_module_version": "1.5.0",
      "model_name": "DescriptionStyleModel",
      "state": {
       "description_width": ""
      }
     },
     "bc063d43fee94f4e916ded2c3076f5d8": {
      "model_module": "@jupyter-widgets/base",
      "model_module_version": "1.2.0",
      "model_name": "LayoutModel",
      "state": {}
     },
     "bc077d227fd1488f90abef05cc3ccf5e": {
      "model_module": "@jupyter-widgets/controls",
      "model_module_version": "1.5.0",
      "model_name": "DescriptionStyleModel",
      "state": {
       "description_width": ""
      }
     },
     "bc1d7794a395458c93a766836c972606": {
      "model_module": "@jupyter-widgets/controls",
      "model_module_version": "1.5.0",
      "model_name": "HTMLModel",
      "state": {
       "layout": "IPY_MODEL_8d645e6c249d438e9b59b0030d377e7a",
       "style": "IPY_MODEL_3d550d8a1338471aa7f3d990f6aa9c1b",
       "value": " 456/456 [00:20&lt;00:00, 22.10it/s]"
      }
     },
     "bc2ce29abc74423ea0f448def9aa751d": {
      "model_module": "@jupyter-widgets/base",
      "model_module_version": "1.2.0",
      "model_name": "LayoutModel",
      "state": {}
     },
     "bc4040419dee49018bdbb1fdfe1f768d": {
      "model_module": "@jupyter-widgets/controls",
      "model_module_version": "1.5.0",
      "model_name": "DescriptionStyleModel",
      "state": {
       "description_width": ""
      }
     },
     "bc5d191fa2194bc2b1cdc73e9bfe3fee": {
      "model_module": "@jupyter-widgets/base",
      "model_module_version": "1.2.0",
      "model_name": "LayoutModel",
      "state": {}
     },
     "bc8ae843c009466a92a863ff73648266": {
      "model_module": "@jupyter-widgets/controls",
      "model_module_version": "1.5.0",
      "model_name": "ProgressStyleModel",
      "state": {
       "description_width": ""
      }
     },
     "bc9278aef6e04d0bac24bc0b77245ada": {
      "model_module": "@jupyter-widgets/controls",
      "model_module_version": "1.5.0",
      "model_name": "ProgressStyleModel",
      "state": {
       "description_width": ""
      }
     },
     "bcded3e22d784c94adfe1bedbe84ddce": {
      "model_module": "@jupyter-widgets/base",
      "model_module_version": "1.2.0",
      "model_name": "LayoutModel",
      "state": {}
     },
     "bd617b244fe444e9a46860973064d4b9": {
      "model_module": "@jupyter-widgets/base",
      "model_module_version": "1.2.0",
      "model_name": "LayoutModel",
      "state": {}
     },
     "bd973289672d45a48429a47d76793634": {
      "model_module": "@jupyter-widgets/base",
      "model_module_version": "1.2.0",
      "model_name": "LayoutModel",
      "state": {}
     },
     "bda399c98bd74832add749ffbb628755": {
      "model_module": "@jupyter-widgets/controls",
      "model_module_version": "1.5.0",
      "model_name": "HTMLModel",
      "state": {
       "layout": "IPY_MODEL_bc5d191fa2194bc2b1cdc73e9bfe3fee",
       "style": "IPY_MODEL_a0b19751e08f4aac8082e796d731be94",
       "value": "loss: 0.5095: 100%"
      }
     },
     "bdeed2bdea314332b56bed2eca3af2b0": {
      "model_module": "@jupyter-widgets/base",
      "model_module_version": "1.2.0",
      "model_name": "LayoutModel",
      "state": {}
     },
     "be064555913349a98bf93ef27ec7f018": {
      "model_module": "@jupyter-widgets/controls",
      "model_module_version": "1.5.0",
      "model_name": "ProgressStyleModel",
      "state": {
       "description_width": ""
      }
     },
     "be17b85d638e47018665da7f0c27694d": {
      "model_module": "@jupyter-widgets/controls",
      "model_module_version": "1.5.0",
      "model_name": "HTMLModel",
      "state": {
       "layout": "IPY_MODEL_e85252c788e7450a8b0b13fcb7de8f9c",
       "style": "IPY_MODEL_4ae241210c494df29d8b3b51840a47cb",
       "value": "loss: 0.6765: 100%"
      }
     },
     "be2f0a3b2e9a4983aeef1c303e07276f": {
      "model_module": "@jupyter-widgets/controls",
      "model_module_version": "1.5.0",
      "model_name": "ProgressStyleModel",
      "state": {
       "description_width": ""
      }
     },
     "be3139c3cf3c46178560a40b1f29bd39": {
      "model_module": "@jupyter-widgets/controls",
      "model_module_version": "1.5.0",
      "model_name": "FloatProgressModel",
      "state": {
       "layout": "IPY_MODEL_ac199a11bbe448f5b81cb50cc633e1d3",
       "max": 1067,
       "style": "IPY_MODEL_e2552e1e56f64e649aff1eb216f65486",
       "value": 1067
      }
     },
     "be33d7923ccf4d83858983705a384a82": {
      "model_module": "@jupyter-widgets/controls",
      "model_module_version": "1.5.0",
      "model_name": "DescriptionStyleModel",
      "state": {
       "description_width": ""
      }
     },
     "be5725f5df31450dbbeaa272c1b52025": {
      "model_module": "@jupyter-widgets/controls",
      "model_module_version": "1.5.0",
      "model_name": "HTMLModel",
      "state": {
       "layout": "IPY_MODEL_3600367ab2674a63b33249388958b573",
       "style": "IPY_MODEL_69d15f8917704cc192f806c4d5b4db03",
       "value": " 1187/1187 [00:56&lt;00:00, 21.30it/s]"
      }
     },
     "be6083adb5c94bcb9c2aab9f1d965001": {
      "model_module": "@jupyter-widgets/controls",
      "model_module_version": "1.5.0",
      "model_name": "ProgressStyleModel",
      "state": {
       "description_width": ""
      }
     },
     "be7383b7a35043de81cb8ec6d4b7a58c": {
      "model_module": "@jupyter-widgets/base",
      "model_module_version": "1.2.0",
      "model_name": "LayoutModel",
      "state": {}
     },
     "be75bbe18465451586fbe44b8b4e915d": {
      "model_module": "@jupyter-widgets/controls",
      "model_module_version": "1.5.0",
      "model_name": "HTMLModel",
      "state": {
       "layout": "IPY_MODEL_f56e7e5f93264d6aaff9edb22afe2b82",
       "style": "IPY_MODEL_1708371976ca41e9960cc0780cf6d2cd",
       "value": "100%"
      }
     },
     "be92e28054dd4a83a8885b59057cf5ba": {
      "model_module": "@jupyter-widgets/base",
      "model_module_version": "1.2.0",
      "model_name": "LayoutModel",
      "state": {}
     },
     "bebec6c7eafb4c1f941b94e70e21b11f": {
      "model_module": "@jupyter-widgets/controls",
      "model_module_version": "1.5.0",
      "model_name": "FloatProgressModel",
      "state": {
       "layout": "IPY_MODEL_8b32ffd33ef44dc496a909c8db8d1bb8",
       "max": 1091,
       "style": "IPY_MODEL_60276043835d4fa39c86219bb745d1b8",
       "value": 1091
      }
     },
     "bec816855eed41c989755fb67cd4866d": {
      "model_module": "@jupyter-widgets/controls",
      "model_module_version": "1.5.0",
      "model_name": "FloatProgressModel",
      "state": {
       "layout": "IPY_MODEL_a680a31b05c7454c98fbdc8ecdf0fcb4",
       "max": 1149,
       "style": "IPY_MODEL_0b7f45a508c7464d9f5aa77a1f89d6ff",
       "value": 1149
      }
     },
     "befea920994246d39f4a528534c9ae82": {
      "model_module": "@jupyter-widgets/controls",
      "model_module_version": "1.5.0",
      "model_name": "HTMLModel",
      "state": {
       "layout": "IPY_MODEL_0a9e90698c3d4b0b8a01c3afc040fec5",
       "style": "IPY_MODEL_027f774e7a774d19b5b5a7a981bb88c6",
       "value": " 1166/1166 [00:51&lt;00:00, 22.65it/s]"
      }
     },
     "bf097b060b7b4c06b671ddec6efd714c": {
      "model_module": "@jupyter-widgets/controls",
      "model_module_version": "1.5.0",
      "model_name": "HTMLModel",
      "state": {
       "layout": "IPY_MODEL_4e4e089b9bdb49deb940e366ae5220b5",
       "style": "IPY_MODEL_6f3629a572b2487d96018036f1f3e1a7",
       "value": " 248/248 [00:11&lt;00:00, 21.76it/s]"
      }
     },
     "bf1365ff6fca494ab4abfa9d7f5b97f1": {
      "model_module": "@jupyter-widgets/base",
      "model_module_version": "1.2.0",
      "model_name": "LayoutModel",
      "state": {}
     },
     "bf2a396f80614faab01c9e357a373855": {
      "model_module": "@jupyter-widgets/controls",
      "model_module_version": "1.5.0",
      "model_name": "DescriptionStyleModel",
      "state": {
       "description_width": ""
      }
     },
     "bf3443d301c643868e28fc815cd643dd": {
      "model_module": "@jupyter-widgets/controls",
      "model_module_version": "1.5.0",
      "model_name": "HTMLModel",
      "state": {
       "layout": "IPY_MODEL_aa266657f2ee41dd98779bc2fc427faa",
       "style": "IPY_MODEL_110831062fb44a49ba0f48e69ae7decb",
       "value": "loss: 0.6235: 100%"
      }
     },
     "bf35c09a693c4c97883773fab81343c9": {
      "model_module": "@jupyter-widgets/base",
      "model_module_version": "1.2.0",
      "model_name": "LayoutModel",
      "state": {}
     },
     "bf860ce3ab6f4c2397d2b21ea6d199e7": {
      "model_module": "@jupyter-widgets/controls",
      "model_module_version": "1.5.0",
      "model_name": "DescriptionStyleModel",
      "state": {
       "description_width": ""
      }
     },
     "bfa9320b9aac4d9399f8de72c657f524": {
      "model_module": "@jupyter-widgets/controls",
      "model_module_version": "1.5.0",
      "model_name": "HTMLModel",
      "state": {
       "layout": "IPY_MODEL_85c8c10a7bb347ada9e4445115cb2822",
       "style": "IPY_MODEL_f5bd027c063846c69ef5e9080b15647f",
       "value": " 1192/1192 [00:54&lt;00:00, 22.55it/s]"
      }
     },
     "bfacb9b1e5314effac134f74700f2219": {
      "model_module": "@jupyter-widgets/controls",
      "model_module_version": "1.5.0",
      "model_name": "HTMLModel",
      "state": {
       "layout": "IPY_MODEL_306208282a7349c58cbacc8b88d5f08b",
       "style": "IPY_MODEL_eab69b07404c4837921b23894f05e2d3",
       "value": " 1220/1220 [00:52&lt;00:00, 23.63it/s]"
      }
     },
     "bfbe3174eb8a453e9f22ca48f0aa1bc6": {
      "model_module": "@jupyter-widgets/base",
      "model_module_version": "1.2.0",
      "model_name": "LayoutModel",
      "state": {}
     },
     "bfdbf369f9264000a34e52371da493e9": {
      "model_module": "@jupyter-widgets/controls",
      "model_module_version": "1.5.0",
      "model_name": "FloatProgressModel",
      "state": {
       "bar_style": "danger",
       "layout": "IPY_MODEL_efb03195000847969bf92b6a34574d04",
       "max": 1084,
       "style": "IPY_MODEL_abe1e965ac164788b919fe90a76ca7c3"
      }
     },
     "bff2d906390745b38f614d880ac01154": {
      "model_module": "@jupyter-widgets/base",
      "model_module_version": "1.2.0",
      "model_name": "LayoutModel",
      "state": {}
     },
     "c04b79cf95fb4022b006b29870207c0b": {
      "model_module": "@jupyter-widgets/base",
      "model_module_version": "1.2.0",
      "model_name": "LayoutModel",
      "state": {}
     },
     "c0664d74bb094f048f1233e905b5c16a": {
      "model_module": "@jupyter-widgets/base",
      "model_module_version": "1.2.0",
      "model_name": "LayoutModel",
      "state": {}
     },
     "c08fd9294e284911a864f106394aacab": {
      "model_module": "@jupyter-widgets/base",
      "model_module_version": "1.2.0",
      "model_name": "LayoutModel",
      "state": {}
     },
     "c097ff84708742e09dc9a3a7675a101a": {
      "model_module": "@jupyter-widgets/controls",
      "model_module_version": "1.5.0",
      "model_name": "FloatProgressModel",
      "state": {
       "layout": "IPY_MODEL_6ffe2cbca19b4cdd97028b5ca079c8bb",
       "max": 1228,
       "style": "IPY_MODEL_278a31785af74f26a3a70a49fac70faf",
       "value": 1228
      }
     },
     "c0a89ca88f284aab951eb310f117b369": {
      "model_module": "@jupyter-widgets/controls",
      "model_module_version": "1.5.0",
      "model_name": "DescriptionStyleModel",
      "state": {
       "description_width": ""
      }
     },
     "c0aa23d67ccc43babfd52d833bf80e3b": {
      "model_module": "@jupyter-widgets/controls",
      "model_module_version": "1.5.0",
      "model_name": "DescriptionStyleModel",
      "state": {
       "description_width": ""
      }
     },
     "c0be15805d584134a3bef1aa49331243": {
      "model_module": "@jupyter-widgets/controls",
      "model_module_version": "1.5.0",
      "model_name": "HTMLModel",
      "state": {
       "layout": "IPY_MODEL_e2bdd807bbfb4330a4b4a629c32ca7b0",
       "style": "IPY_MODEL_f8648469f4564d68a9da171492f29a5d",
       "value": " 805/805 [00:35&lt;00:00, 24.24it/s]"
      }
     },
     "c0f14d54f8874a6ca4697520beaa86bc": {
      "model_module": "@jupyter-widgets/base",
      "model_module_version": "1.2.0",
      "model_name": "LayoutModel",
      "state": {}
     },
     "c10649b4e5be44a2bbe737513395fabe": {
      "model_module": "@jupyter-widgets/controls",
      "model_module_version": "1.5.0",
      "model_name": "ProgressStyleModel",
      "state": {
       "description_width": ""
      }
     },
     "c150bd8a821e486597bf7520d1fdbbe5": {
      "model_module": "@jupyter-widgets/controls",
      "model_module_version": "1.5.0",
      "model_name": "DescriptionStyleModel",
      "state": {
       "description_width": ""
      }
     },
     "c1829e8daf93459ca86af74996907014": {
      "model_module": "@jupyter-widgets/base",
      "model_module_version": "1.2.0",
      "model_name": "LayoutModel",
      "state": {}
     },
     "c19417d336814abc98dad87c0b3a0e0c": {
      "model_module": "@jupyter-widgets/controls",
      "model_module_version": "1.5.0",
      "model_name": "DescriptionStyleModel",
      "state": {
       "description_width": ""
      }
     },
     "c1b0b87446744569842a5a7f054b47eb": {
      "model_module": "@jupyter-widgets/base",
      "model_module_version": "1.2.0",
      "model_name": "LayoutModel",
      "state": {}
     },
     "c1bcad46347245a1a95fb7047eb39af1": {
      "model_module": "@jupyter-widgets/controls",
      "model_module_version": "1.5.0",
      "model_name": "ProgressStyleModel",
      "state": {
       "description_width": ""
      }
     },
     "c1fb1100ab46466fab38c0e90eff5818": {
      "model_module": "@jupyter-widgets/base",
      "model_module_version": "1.2.0",
      "model_name": "LayoutModel",
      "state": {}
     },
     "c22d0bb2951c4f50914912b53310b063": {
      "model_module": "@jupyter-widgets/base",
      "model_module_version": "1.2.0",
      "model_name": "LayoutModel",
      "state": {}
     },
     "c25156c3bf3d4fa7b395259d0e80155b": {
      "model_module": "@jupyter-widgets/controls",
      "model_module_version": "1.5.0",
      "model_name": "DescriptionStyleModel",
      "state": {
       "description_width": ""
      }
     },
     "c269833d98bb495c9a5760f05e1fa617": {
      "model_module": "@jupyter-widgets/controls",
      "model_module_version": "1.5.0",
      "model_name": "FloatProgressModel",
      "state": {
       "layout": "IPY_MODEL_22e21f9440d94b108977c6a091f6de89",
       "max": 783,
       "style": "IPY_MODEL_825402ff466d4cb28a9e6547dadc8e83",
       "value": 783
      }
     },
     "c27d9c87788842e3945d698810c2f837": {
      "model_module": "@jupyter-widgets/controls",
      "model_module_version": "1.5.0",
      "model_name": "DescriptionStyleModel",
      "state": {
       "description_width": ""
      }
     },
     "c284dea4fe914d269bacc60f23d56a43": {
      "model_module": "@jupyter-widgets/controls",
      "model_module_version": "1.5.0",
      "model_name": "ProgressStyleModel",
      "state": {
       "description_width": ""
      }
     },
     "c28e1e5ee20e495fa1dbf2b9407099e7": {
      "model_module": "@jupyter-widgets/controls",
      "model_module_version": "1.5.0",
      "model_name": "HTMLModel",
      "state": {
       "layout": "IPY_MODEL_bc2ce29abc74423ea0f448def9aa751d",
       "style": "IPY_MODEL_27e9b203eb8544baaa7b8c9dd27d589e",
       "value": " 295/295 [00:12&lt;00:00, 24.59it/s]"
      }
     },
     "c2eb1dc357cf48078b665c499ac2e273": {
      "model_module": "@jupyter-widgets/controls",
      "model_module_version": "1.5.0",
      "model_name": "DescriptionStyleModel",
      "state": {
       "description_width": ""
      }
     },
     "c2ebd533e8554918bda7f7cfd7d9bcfe": {
      "model_module": "@jupyter-widgets/controls",
      "model_module_version": "1.5.0",
      "model_name": "DescriptionStyleModel",
      "state": {
       "description_width": ""
      }
     },
     "c3141534afe749078de69b039288b845": {
      "model_module": "@jupyter-widgets/controls",
      "model_module_version": "1.5.0",
      "model_name": "ProgressStyleModel",
      "state": {
       "description_width": ""
      }
     },
     "c338ca6cee534276a6d9930e89a2310b": {
      "model_module": "@jupyter-widgets/controls",
      "model_module_version": "1.5.0",
      "model_name": "DescriptionStyleModel",
      "state": {
       "description_width": ""
      }
     },
     "c33bef422bfc4157990f4ed35e3ba07d": {
      "model_module": "@jupyter-widgets/controls",
      "model_module_version": "1.5.0",
      "model_name": "HBoxModel",
      "state": {
       "children": [
        "IPY_MODEL_9bc339bcaf2849bba157ba147c4381e2",
        "IPY_MODEL_b02da1ee2db04407b2d6258f5410654b",
        "IPY_MODEL_cd542e9e3eab423b80ee555ef654d7e6"
       ],
       "layout": "IPY_MODEL_e56543cacd714ea39090d902ae450acb"
      }
     },
     "c36c1c652c834da39b851f647231d8ba": {
      "model_module": "@jupyter-widgets/base",
      "model_module_version": "1.2.0",
      "model_name": "LayoutModel",
      "state": {}
     },
     "c37329b582474de9b5eb01421e255e3f": {
      "model_module": "@jupyter-widgets/base",
      "model_module_version": "1.2.0",
      "model_name": "LayoutModel",
      "state": {}
     },
     "c37520f6d9de4abb8b2b869241a69f16": {
      "model_module": "@jupyter-widgets/controls",
      "model_module_version": "1.5.0",
      "model_name": "FloatProgressModel",
      "state": {
       "layout": "IPY_MODEL_1463d72a772e4dd0be08138611ecaf2a",
       "max": 805,
       "style": "IPY_MODEL_df67ecb85f474906b540378c5b1eef6a",
       "value": 805
      }
     },
     "c39c730bbda7428685e1742408fba861": {
      "model_module": "@jupyter-widgets/controls",
      "model_module_version": "1.5.0",
      "model_name": "DescriptionStyleModel",
      "state": {
       "description_width": ""
      }
     },
     "c3bfa094ff0d4f52900c703ca39dfe5a": {
      "model_module": "@jupyter-widgets/controls",
      "model_module_version": "1.5.0",
      "model_name": "ProgressStyleModel",
      "state": {
       "description_width": ""
      }
     },
     "c3cd416e5c954634bd36ea97e94e96be": {
      "model_module": "@jupyter-widgets/base",
      "model_module_version": "1.2.0",
      "model_name": "LayoutModel",
      "state": {}
     },
     "c40f7e8962fe495e9729afd47e0dcf95": {
      "model_module": "@jupyter-widgets/base",
      "model_module_version": "1.2.0",
      "model_name": "LayoutModel",
      "state": {}
     },
     "c440928d70aa44b0a298858de39be484": {
      "model_module": "@jupyter-widgets/base",
      "model_module_version": "1.2.0",
      "model_name": "LayoutModel",
      "state": {}
     },
     "c45027f145ba4c8fba82fdc455c77e8b": {
      "model_module": "@jupyter-widgets/base",
      "model_module_version": "1.2.0",
      "model_name": "LayoutModel",
      "state": {}
     },
     "c475c94774904d458d3ff51968537174": {
      "model_module": "@jupyter-widgets/controls",
      "model_module_version": "1.5.0",
      "model_name": "DescriptionStyleModel",
      "state": {
       "description_width": ""
      }
     },
     "c49b260019564fe2a732b1683475c901": {
      "model_module": "@jupyter-widgets/base",
      "model_module_version": "1.2.0",
      "model_name": "LayoutModel",
      "state": {}
     },
     "c4a3b14935ea47b793606813f8b8b3a7": {
      "model_module": "@jupyter-widgets/controls",
      "model_module_version": "1.5.0",
      "model_name": "ProgressStyleModel",
      "state": {
       "description_width": ""
      }
     },
     "c4a87af08ebe4522acf10eafb1e14f1e": {
      "model_module": "@jupyter-widgets/controls",
      "model_module_version": "1.5.0",
      "model_name": "FloatProgressModel",
      "state": {
       "layout": "IPY_MODEL_7d453df189324140b785f0c95b502e60",
       "max": 1445,
       "style": "IPY_MODEL_4d25ed12a80d448cb3212e5c59691c18",
       "value": 1445
      }
     },
     "c4ce99007eab4fa386d845df857dc5c6": {
      "model_module": "@jupyter-widgets/base",
      "model_module_version": "1.2.0",
      "model_name": "LayoutModel",
      "state": {}
     },
     "c5082bc5f58b4454b625038ddd601d70": {
      "model_module": "@jupyter-widgets/base",
      "model_module_version": "1.2.0",
      "model_name": "LayoutModel",
      "state": {}
     },
     "c510ed15ed6846fca9a5db13ca82896a": {
      "model_module": "@jupyter-widgets/controls",
      "model_module_version": "1.5.0",
      "model_name": "DescriptionStyleModel",
      "state": {
       "description_width": ""
      }
     },
     "c553f61dafb8470b87de9ea1aeeeb5ed": {
      "model_module": "@jupyter-widgets/base",
      "model_module_version": "1.2.0",
      "model_name": "LayoutModel",
      "state": {}
     },
     "c55a0ce28aaa4ac78b50a180fb45294c": {
      "model_module": "@jupyter-widgets/controls",
      "model_module_version": "1.5.0",
      "model_name": "ProgressStyleModel",
      "state": {
       "description_width": ""
      }
     },
     "c5937cf475e74bc4bc9bbb3ede529644": {
      "model_module": "@jupyter-widgets/controls",
      "model_module_version": "1.5.0",
      "model_name": "DescriptionStyleModel",
      "state": {
       "description_width": ""
      }
     },
     "c59f9a4441a44e5a8ef7739446ae286b": {
      "model_module": "@jupyter-widgets/controls",
      "model_module_version": "1.5.0",
      "model_name": "HTMLModel",
      "state": {
       "layout": "IPY_MODEL_d2fbe1548a4c41d2800b6c1e661de310",
       "style": "IPY_MODEL_0ea13a4561c1404db2170695172c0867",
       "value": " 1091/1091 [00:47&lt;00:00, 23.45it/s]"
      }
     },
     "c59f9b45b8c14881b22ac28ec2418b52": {
      "model_module": "@jupyter-widgets/base",
      "model_module_version": "1.2.0",
      "model_name": "LayoutModel",
      "state": {}
     },
     "c5c950a2f6ac4f42838e650ced46ed24": {
      "model_module": "@jupyter-widgets/controls",
      "model_module_version": "1.5.0",
      "model_name": "DescriptionStyleModel",
      "state": {
       "description_width": ""
      }
     },
     "c5e8a8b3025f43c693090ebd6e631194": {
      "model_module": "@jupyter-widgets/controls",
      "model_module_version": "1.5.0",
      "model_name": "DescriptionStyleModel",
      "state": {
       "description_width": ""
      }
     },
     "c5e9cef68fe1427fbc27508b0a8be4ce": {
      "model_module": "@jupyter-widgets/base",
      "model_module_version": "1.2.0",
      "model_name": "LayoutModel",
      "state": {}
     },
     "c5f55361697a43fe85720de4296dad65": {
      "model_module": "@jupyter-widgets/controls",
      "model_module_version": "1.5.0",
      "model_name": "HTMLModel",
      "state": {
       "layout": "IPY_MODEL_f334ea5426b24e039542bbd7230a97b3",
       "style": "IPY_MODEL_ed8ac8b847594e39bf3a23c0f299a125",
       "value": " 805/805 [00:34&lt;00:00, 23.46it/s]"
      }
     },
     "c5ff0ffe6c0f41949f4c10bed01d93cd": {
      "model_module": "@jupyter-widgets/controls",
      "model_module_version": "1.5.0",
      "model_name": "DescriptionStyleModel",
      "state": {
       "description_width": ""
      }
     },
     "c6154227ac334dc7a4591a5ce1c0a261": {
      "model_module": "@jupyter-widgets/base",
      "model_module_version": "1.2.0",
      "model_name": "LayoutModel",
      "state": {}
     },
     "c61d80efd84f49cf99d7dc8f42b9b705": {
      "model_module": "@jupyter-widgets/controls",
      "model_module_version": "1.5.0",
      "model_name": "DescriptionStyleModel",
      "state": {
       "description_width": ""
      }
     },
     "c61ec51f1bff4a9aad1e08c5d702c1e3": {
      "model_module": "@jupyter-widgets/controls",
      "model_module_version": "1.5.0",
      "model_name": "DescriptionStyleModel",
      "state": {
       "description_width": ""
      }
     },
     "c62ac90662ea43338033f78454b0e161": {
      "model_module": "@jupyter-widgets/base",
      "model_module_version": "1.2.0",
      "model_name": "LayoutModel",
      "state": {}
     },
     "c62c9953235e4e7bae0b332326133101": {
      "model_module": "@jupyter-widgets/controls",
      "model_module_version": "1.5.0",
      "model_name": "DescriptionStyleModel",
      "state": {
       "description_width": ""
      }
     },
     "c647bdb4d18e41769ab2f769ae86fdea": {
      "model_module": "@jupyter-widgets/controls",
      "model_module_version": "1.5.0",
      "model_name": "HTMLModel",
      "state": {
       "layout": "IPY_MODEL_bc063d43fee94f4e916ded2c3076f5d8",
       "style": "IPY_MODEL_791324c013304f9aab6ca6f269e1cc25",
       "value": " 471/471 [00:19&lt;00:00, 24.51it/s]"
      }
     },
     "c64a4ca093d8489dae5a0997ecc60aa4": {
      "model_module": "@jupyter-widgets/base",
      "model_module_version": "1.2.0",
      "model_name": "LayoutModel",
      "state": {}
     },
     "c66528cd0de44c088a38ef1c63d7ffe8": {
      "model_module": "@jupyter-widgets/controls",
      "model_module_version": "1.5.0",
      "model_name": "ProgressStyleModel",
      "state": {
       "description_width": ""
      }
     },
     "c66a2effa8e54405b355e346e6d2fbf9": {
      "model_module": "@jupyter-widgets/controls",
      "model_module_version": "1.5.0",
      "model_name": "FloatProgressModel",
      "state": {
       "layout": "IPY_MODEL_50bcc1fc6b704e02b2fda3d2ab52f8e5",
       "max": 306,
       "style": "IPY_MODEL_b38b2047f23249e4a9441824a38b0ef2",
       "value": 306
      }
     },
     "c66f577e103943f18e1a881acabb7d55": {
      "model_module": "@jupyter-widgets/base",
      "model_module_version": "1.2.0",
      "model_name": "LayoutModel",
      "state": {}
     },
     "c6798294b0044d4e84e1a83d56d5b6a5": {
      "model_module": "@jupyter-widgets/controls",
      "model_module_version": "1.5.0",
      "model_name": "DescriptionStyleModel",
      "state": {
       "description_width": ""
      }
     },
     "c68452ff73c647fe93a3fb117a4d7c1b": {
      "model_module": "@jupyter-widgets/controls",
      "model_module_version": "1.5.0",
      "model_name": "HTMLModel",
      "state": {
       "layout": "IPY_MODEL_1750c8efe85a46b182461e57e3c5b813",
       "style": "IPY_MODEL_01ab12412d844bc09e554532995da0f9",
       "value": "loss: 0.6432: 100%"
      }
     },
     "c685674db6dc493aa2c1a82c418c6ab8": {
      "model_module": "@jupyter-widgets/base",
      "model_module_version": "1.2.0",
      "model_name": "LayoutModel",
      "state": {}
     },
     "c68f08cdd07b4170a76543b9073c0438": {
      "model_module": "@jupyter-widgets/controls",
      "model_module_version": "1.5.0",
      "model_name": "DescriptionStyleModel",
      "state": {
       "description_width": ""
      }
     },
     "c6ad031da08344eb995bfbdf545b42df": {
      "model_module": "@jupyter-widgets/base",
      "model_module_version": "1.2.0",
      "model_name": "LayoutModel",
      "state": {}
     },
     "c6ad6b3ee93d47af9ab975e0520ed9b0": {
      "model_module": "@jupyter-widgets/base",
      "model_module_version": "1.2.0",
      "model_name": "LayoutModel",
      "state": {}
     },
     "c6cfb4fbe84c47e59277c425338911bb": {
      "model_module": "@jupyter-widgets/base",
      "model_module_version": "1.2.0",
      "model_name": "LayoutModel",
      "state": {}
     },
     "c6d8bc43e8614edb9e9f593cd0c38fc6": {
      "model_module": "@jupyter-widgets/base",
      "model_module_version": "1.2.0",
      "model_name": "LayoutModel",
      "state": {}
     },
     "c6e6489cc71f4e4183192adef3742d23": {
      "model_module": "@jupyter-widgets/controls",
      "model_module_version": "1.5.0",
      "model_name": "HTMLModel",
      "state": {
       "layout": "IPY_MODEL_f5078c6276e244bdb424a28be66a9e8c",
       "style": "IPY_MODEL_4350457d78e741a7a934b15929d232da",
       "value": "loss: 0.6758: 100%"
      }
     },
     "c713b3a137fe4eab918721122149367b": {
      "model_module": "@jupyter-widgets/controls",
      "model_module_version": "1.5.0",
      "model_name": "DescriptionStyleModel",
      "state": {
       "description_width": ""
      }
     },
     "c7245d45e418431e86bd6d6387f6dc90": {
      "model_module": "@jupyter-widgets/controls",
      "model_module_version": "1.5.0",
      "model_name": "DescriptionStyleModel",
      "state": {
       "description_width": ""
      }
     },
     "c731197ca3ab4125a89914125367b560": {
      "model_module": "@jupyter-widgets/base",
      "model_module_version": "1.2.0",
      "model_name": "LayoutModel",
      "state": {}
     },
     "c74a4e29e1ab4feda90d97b92e8e5529": {
      "model_module": "@jupyter-widgets/controls",
      "model_module_version": "1.5.0",
      "model_name": "DescriptionStyleModel",
      "state": {
       "description_width": ""
      }
     },
     "c77c530943334050a1db82d8a075bdb6": {
      "model_module": "@jupyter-widgets/controls",
      "model_module_version": "1.5.0",
      "model_name": "HTMLModel",
      "state": {
       "layout": "IPY_MODEL_bff2d906390745b38f614d880ac01154",
       "style": "IPY_MODEL_0bb00c2edae2401f9219f27dc6bfe594",
       "value": "loss: 0.6134: 100%"
      }
     },
     "c7a67af73fb54aeabbbffe6266fe7e7c": {
      "model_module": "@jupyter-widgets/controls",
      "model_module_version": "1.5.0",
      "model_name": "DescriptionStyleModel",
      "state": {
       "description_width": ""
      }
     },
     "c7b22d68f31346469b1b1ede315d4986": {
      "model_module": "@jupyter-widgets/base",
      "model_module_version": "1.2.0",
      "model_name": "LayoutModel",
      "state": {}
     },
     "c7d34a79557143e1bf48959968b87a2f": {
      "model_module": "@jupyter-widgets/controls",
      "model_module_version": "1.5.0",
      "model_name": "DescriptionStyleModel",
      "state": {
       "description_width": ""
      }
     },
     "c7f07443b0bd4447a80c1cefb5594a77": {
      "model_module": "@jupyter-widgets/controls",
      "model_module_version": "1.5.0",
      "model_name": "HTMLModel",
      "state": {
       "layout": "IPY_MODEL_9293b584723846e68640dcd6fc7e770c",
       "style": "IPY_MODEL_40df48ac11d84edc845e4e6bd3d4d853",
       "value": "loss: 0.6656: 100%"
      }
     },
     "c7f395b22ad14654ad237331a7d68479": {
      "model_module": "@jupyter-widgets/controls",
      "model_module_version": "1.5.0",
      "model_name": "DescriptionStyleModel",
      "state": {
       "description_width": ""
      }
     },
     "c7fa33d61d90476f95be9854890a7588": {
      "model_module": "@jupyter-widgets/base",
      "model_module_version": "1.2.0",
      "model_name": "LayoutModel",
      "state": {}
     },
     "c80f004bbfaf4bafb8dad35092dd7354": {
      "model_module": "@jupyter-widgets/base",
      "model_module_version": "1.2.0",
      "model_name": "LayoutModel",
      "state": {}
     },
     "c813a8db1aba41b2954a84deafcdcdce": {
      "model_module": "@jupyter-widgets/controls",
      "model_module_version": "1.5.0",
      "model_name": "HTMLModel",
      "state": {
       "layout": "IPY_MODEL_2e678b237ef04f5b94e593663279c66f",
       "style": "IPY_MODEL_92fab91e692d4c50927d65cbb98d4e27",
       "value": "loss: 0.5731: 100%"
      }
     },
     "c820d72beee242699d2fea92a1791c4c": {
      "model_module": "@jupyter-widgets/base",
      "model_module_version": "1.2.0",
      "model_name": "LayoutModel",
      "state": {}
     },
     "c8781f3912de4686bd3e18ac45ceea06": {
      "model_module": "@jupyter-widgets/base",
      "model_module_version": "1.2.0",
      "model_name": "LayoutModel",
      "state": {}
     },
     "c87d0249bb75482f88ce151f5ed3e6d4": {
      "model_module": "@jupyter-widgets/controls",
      "model_module_version": "1.5.0",
      "model_name": "FloatProgressModel",
      "state": {
       "layout": "IPY_MODEL_ba9fd716fc0b4172ad59dabd27df1cc1",
       "max": 1084,
       "style": "IPY_MODEL_8c8ffe6674334805acb15f6875492e84",
       "value": 1084
      }
     },
     "c87fa001dcda4573b3257a2270cc646d": {
      "model_module": "@jupyter-widgets/controls",
      "model_module_version": "1.5.0",
      "model_name": "HTMLModel",
      "state": {
       "layout": "IPY_MODEL_5a103408494a4bc480a8e2b74785c7c1",
       "style": "IPY_MODEL_f3d86c0418ed41348202c1d7aca70760",
       "value": "loss: 0.6371: 100%"
      }
     },
     "c89f24430849490e8969b47097aa5c24": {
      "model_module": "@jupyter-widgets/base",
      "model_module_version": "1.2.0",
      "model_name": "LayoutModel",
      "state": {}
     },
     "c8b7c500fdfd475184b6880a15a01f1f": {
      "model_module": "@jupyter-widgets/controls",
      "model_module_version": "1.5.0",
      "model_name": "DescriptionStyleModel",
      "state": {
       "description_width": ""
      }
     },
     "c8c1db6990f74904bf995d5c91eb5633": {
      "model_module": "@jupyter-widgets/base",
      "model_module_version": "1.2.0",
      "model_name": "LayoutModel",
      "state": {}
     },
     "c8d334c46af042f48b85449a26e88fb7": {
      "model_module": "@jupyter-widgets/controls",
      "model_module_version": "1.5.0",
      "model_name": "DescriptionStyleModel",
      "state": {
       "description_width": ""
      }
     },
     "c8f56364b7794de286306444a0caa965": {
      "model_module": "@jupyter-widgets/base",
      "model_module_version": "1.2.0",
      "model_name": "LayoutModel",
      "state": {}
     },
     "c933d7b2a02d47ce92e0cda3f6c3587d": {
      "model_module": "@jupyter-widgets/base",
      "model_module_version": "1.2.0",
      "model_name": "LayoutModel",
      "state": {}
     },
     "c9395191fda149518773c2d8fa52528c": {
      "model_module": "@jupyter-widgets/base",
      "model_module_version": "1.2.0",
      "model_name": "LayoutModel",
      "state": {}
     },
     "c9488414d37444589d34fd7a94c071f6": {
      "model_module": "@jupyter-widgets/base",
      "model_module_version": "1.2.0",
      "model_name": "LayoutModel",
      "state": {}
     },
     "c97056d62f75415eb640b96f9abd86cf": {
      "model_module": "@jupyter-widgets/base",
      "model_module_version": "1.2.0",
      "model_name": "LayoutModel",
      "state": {}
     },
     "c972b7ff10ed4727887bf9834ddfafd5": {
      "model_module": "@jupyter-widgets/base",
      "model_module_version": "1.2.0",
      "model_name": "LayoutModel",
      "state": {}
     },
     "c97d9a6902724bcba67dd94e086cc461": {
      "model_module": "@jupyter-widgets/base",
      "model_module_version": "1.2.0",
      "model_name": "LayoutModel",
      "state": {}
     },
     "ca01a5b752964614bc181fa3dd2b0373": {
      "model_module": "@jupyter-widgets/base",
      "model_module_version": "1.2.0",
      "model_name": "LayoutModel",
      "state": {}
     },
     "ca08a6ef0e964180879b44ff79858a9c": {
      "model_module": "@jupyter-widgets/base",
      "model_module_version": "1.2.0",
      "model_name": "LayoutModel",
      "state": {}
     },
     "ca102879f7d74d798885664ec0d815fc": {
      "model_module": "@jupyter-widgets/base",
      "model_module_version": "1.2.0",
      "model_name": "LayoutModel",
      "state": {}
     },
     "ca967bb6234349ebbe4cb7ffa936ff86": {
      "model_module": "@jupyter-widgets/base",
      "model_module_version": "1.2.0",
      "model_name": "LayoutModel",
      "state": {}
     },
     "ca9c84860ff540cd9a8c49535d759916": {
      "model_module": "@jupyter-widgets/base",
      "model_module_version": "1.2.0",
      "model_name": "LayoutModel",
      "state": {}
     },
     "caa160bbe6c847a3930ea2f61abae90c": {
      "model_module": "@jupyter-widgets/controls",
      "model_module_version": "1.5.0",
      "model_name": "HTMLModel",
      "state": {
       "layout": "IPY_MODEL_15c4ecfedfd244e0b4e6e272af48b079",
       "style": "IPY_MODEL_0eb54d8eb5774e2da1f1ccf7783c437f",
       "value": "loss: 0.6401: 100%"
      }
     },
     "caa525a1611d4f93a96e68ebec0110db": {
      "model_module": "@jupyter-widgets/controls",
      "model_module_version": "1.5.0",
      "model_name": "DescriptionStyleModel",
      "state": {
       "description_width": ""
      }
     },
     "caafd9cee62843f58a6fca81bc846954": {
      "model_module": "@jupyter-widgets/controls",
      "model_module_version": "1.5.0",
      "model_name": "FloatProgressModel",
      "state": {
       "layout": "IPY_MODEL_b0dcbc6e9ee84603b27afa6be1f2be0e",
       "max": 1445,
       "style": "IPY_MODEL_12857329d6904fcaa436d88fe633e96b",
       "value": 1445
      }
     },
     "cac8eadde425460d84b2dd7af2a479be": {
      "model_module": "@jupyter-widgets/base",
      "model_module_version": "1.2.0",
      "model_name": "LayoutModel",
      "state": {}
     },
     "cad4b3233c2041858cf7f1c1222ef728": {
      "model_module": "@jupyter-widgets/controls",
      "model_module_version": "1.5.0",
      "model_name": "ProgressStyleModel",
      "state": {
       "description_width": ""
      }
     },
     "cada208a7be848ba8d2c27040dbf9f56": {
      "model_module": "@jupyter-widgets/base",
      "model_module_version": "1.2.0",
      "model_name": "LayoutModel",
      "state": {}
     },
     "caf2ee042973457b8380c70f16a61ae3": {
      "model_module": "@jupyter-widgets/base",
      "model_module_version": "1.2.0",
      "model_name": "LayoutModel",
      "state": {}
     },
     "caf64f75a9b64e9e883c14e32cf7a60e": {
      "model_module": "@jupyter-widgets/controls",
      "model_module_version": "1.5.0",
      "model_name": "ProgressStyleModel",
      "state": {
       "description_width": ""
      }
     },
     "cb028d67b1044d108ef253238f4bf262": {
      "model_module": "@jupyter-widgets/controls",
      "model_module_version": "1.5.0",
      "model_name": "HTMLModel",
      "state": {
       "layout": "IPY_MODEL_47f64614e60d4191a449dc3da2d9a24f",
       "style": "IPY_MODEL_76e5e4939a8f44abb0582ea199e50dc5",
       "value": " 1049/1049 [00:46&lt;00:00, 21.92it/s]"
      }
     },
     "cb34ca9021574017a1fd216fb39e5335": {
      "model_module": "@jupyter-widgets/controls",
      "model_module_version": "1.5.0",
      "model_name": "HTMLModel",
      "state": {
       "layout": "IPY_MODEL_b2cf46bf1d18456b85cee7e23b5931ec",
       "style": "IPY_MODEL_f053499f794e4147866d0c27a7a797da",
       "value": " 1216/1216 [00:54&lt;00:00, 23.02it/s]"
      }
     },
     "cb5cff7153d844c3a2ce3efa4b72256d": {
      "model_module": "@jupyter-widgets/controls",
      "model_module_version": "1.5.0",
      "model_name": "HTMLModel",
      "state": {
       "layout": "IPY_MODEL_d36a34d5696142fcb579e6fea0fc3b57",
       "style": "IPY_MODEL_72eaade701f54098a799dd984781de71",
       "value": "loss: 0.6364: 100%"
      }
     },
     "cb8e519e828842459c0405a388c5c894": {
      "model_module": "@jupyter-widgets/base",
      "model_module_version": "1.2.0",
      "model_name": "LayoutModel",
      "state": {}
     },
     "cbcecf0b294e45108482357a822c87ca": {
      "model_module": "@jupyter-widgets/base",
      "model_module_version": "1.2.0",
      "model_name": "LayoutModel",
      "state": {}
     },
     "cbd0a63fe5c44fd1a474c929f4e7616e": {
      "model_module": "@jupyter-widgets/controls",
      "model_module_version": "1.5.0",
      "model_name": "FloatProgressModel",
      "state": {
       "layout": "IPY_MODEL_31669d4430d34cf688296dc9a89849f3",
       "max": 1247,
       "style": "IPY_MODEL_8f0f16779c5a403c8d574be99b2ee7c6",
       "value": 1247
      }
     },
     "cbe768b461154e43ab5458fb2a9e0923": {
      "model_module": "@jupyter-widgets/controls",
      "model_module_version": "1.5.0",
      "model_name": "HTMLModel",
      "state": {
       "layout": "IPY_MODEL_e44796afd5c44fc3a4e858a31ec2d3f9",
       "style": "IPY_MODEL_e55c6b06beef4d8d92f27ec1d8418497",
       "value": " 1149/1149 [00:54&lt;00:00, 21.22it/s]"
      }
     },
     "cbf7e8ef861c494aa59a2c35fde335e3": {
      "model_module": "@jupyter-widgets/controls",
      "model_module_version": "1.5.0",
      "model_name": "DescriptionStyleModel",
      "state": {
       "description_width": ""
      }
     },
     "cc060f27656f4d9a90098b4fea129a2c": {
      "model_module": "@jupyter-widgets/base",
      "model_module_version": "1.2.0",
      "model_name": "LayoutModel",
      "state": {}
     },
     "cc2ffe0b87ec4c8285baee4add6ef6dd": {
      "model_module": "@jupyter-widgets/base",
      "model_module_version": "1.2.0",
      "model_name": "LayoutModel",
      "state": {}
     },
     "cc3e91a23b4747a0a991031fecbf736a": {
      "model_module": "@jupyter-widgets/base",
      "model_module_version": "1.2.0",
      "model_name": "LayoutModel",
      "state": {}
     },
     "cc69baedf46f4d8498353e96b6396cc2": {
      "model_module": "@jupyter-widgets/base",
      "model_module_version": "1.2.0",
      "model_name": "LayoutModel",
      "state": {}
     },
     "cc85740b35b94830a477fb51d53b2c04": {
      "model_module": "@jupyter-widgets/controls",
      "model_module_version": "1.5.0",
      "model_name": "DescriptionStyleModel",
      "state": {
       "description_width": ""
      }
     },
     "ccad6e7cfb3a40c394dadcbf8bc65341": {
      "model_module": "@jupyter-widgets/base",
      "model_module_version": "1.2.0",
      "model_name": "LayoutModel",
      "state": {}
     },
     "cd015abcd4d4435b9f949f2074975aa6": {
      "model_module": "@jupyter-widgets/base",
      "model_module_version": "1.2.0",
      "model_name": "LayoutModel",
      "state": {}
     },
     "cd3424fc8fcd42d2a85662561ce7d37f": {
      "model_module": "@jupyter-widgets/controls",
      "model_module_version": "1.5.0",
      "model_name": "DescriptionStyleModel",
      "state": {
       "description_width": ""
      }
     },
     "cd35d663e978485389d233e7be660769": {
      "model_module": "@jupyter-widgets/controls",
      "model_module_version": "1.5.0",
      "model_name": "DescriptionStyleModel",
      "state": {
       "description_width": ""
      }
     },
     "cd3baac62ade40729f942a50f93497cf": {
      "model_module": "@jupyter-widgets/controls",
      "model_module_version": "1.5.0",
      "model_name": "DescriptionStyleModel",
      "state": {
       "description_width": ""
      }
     },
     "cd542e9e3eab423b80ee555ef654d7e6": {
      "model_module": "@jupyter-widgets/controls",
      "model_module_version": "1.5.0",
      "model_name": "HTMLModel",
      "state": {
       "layout": "IPY_MODEL_0b47a86791984e35b408a77c13412d5b",
       "style": "IPY_MODEL_3fb52868004146b3abf91f31b8e1f91e",
       "value": " 0/1084 [11:17&lt;?, ?it/s]"
      }
     },
     "cd879b343862447c9861b5d680d41765": {
      "model_module": "@jupyter-widgets/base",
      "model_module_version": "1.2.0",
      "model_name": "LayoutModel",
      "state": {}
     },
     "cdb262f5171940adbf6f86bd98f70fce": {
      "model_module": "@jupyter-widgets/controls",
      "model_module_version": "1.5.0",
      "model_name": "DescriptionStyleModel",
      "state": {
       "description_width": ""
      }
     },
     "cdc0714dfbf943be94a0dce2d5592eed": {
      "model_module": "@jupyter-widgets/controls",
      "model_module_version": "1.5.0",
      "model_name": "ProgressStyleModel",
      "state": {
       "description_width": ""
      }
     },
     "cdccd532e13a4665b3edc3ad6f16386a": {
      "model_module": "@jupyter-widgets/controls",
      "model_module_version": "1.5.0",
      "model_name": "ProgressStyleModel",
      "state": {
       "description_width": ""
      }
     },
     "cdd4dbafa96a4296a462fb9ff103659f": {
      "model_module": "@jupyter-widgets/controls",
      "model_module_version": "1.5.0",
      "model_name": "FloatProgressModel",
      "state": {
       "layout": "IPY_MODEL_bb6e94af96c64067ae56cbc72d351997",
       "max": 903,
       "style": "IPY_MODEL_8770a69744f748adb2b669ef66e779e1",
       "value": 903
      }
     },
     "cddabf3a2f644758b6136d475dcf9c7f": {
      "model_module": "@jupyter-widgets/base",
      "model_module_version": "1.2.0",
      "model_name": "LayoutModel",
      "state": {}
     },
     "cdde9dfe3f2342c484e48fc90dd93554": {
      "model_module": "@jupyter-widgets/base",
      "model_module_version": "1.2.0",
      "model_name": "LayoutModel",
      "state": {}
     },
     "cdf3f8c3bf0e49868d86ad36e6927f57": {
      "model_module": "@jupyter-widgets/controls",
      "model_module_version": "1.5.0",
      "model_name": "HTMLModel",
      "state": {
       "layout": "IPY_MODEL_c6ad031da08344eb995bfbdf545b42df",
       "style": "IPY_MODEL_8d2635febc79427fac4069509bc64fd8",
       "value": " 993/993 [00:46&lt;00:00, 20.92it/s]"
      }
     },
     "cdf40974bce343f48145e8d4734dd635": {
      "model_module": "@jupyter-widgets/controls",
      "model_module_version": "1.5.0",
      "model_name": "DescriptionStyleModel",
      "state": {
       "description_width": ""
      }
     },
     "ce20f97dcc344fa288090e48c6fca75d": {
      "model_module": "@jupyter-widgets/controls",
      "model_module_version": "1.5.0",
      "model_name": "HTMLModel",
      "state": {
       "layout": "IPY_MODEL_427c9f22b581463b97ad79c685308338",
       "style": "IPY_MODEL_d9a594fe7c194a5fb1e84afc5f8ef53c",
       "value": "100%"
      }
     },
     "ce33f970d6774245be3005a35136016a": {
      "model_module": "@jupyter-widgets/base",
      "model_module_version": "1.2.0",
      "model_name": "LayoutModel",
      "state": {}
     },
     "cea0ba5b203c458387d980027fc5d254": {
      "model_module": "@jupyter-widgets/controls",
      "model_module_version": "1.5.0",
      "model_name": "ProgressStyleModel",
      "state": {
       "description_width": ""
      }
     },
     "cec464e6719d4b1e8a902cc48b4e52c3": {
      "model_module": "@jupyter-widgets/base",
      "model_module_version": "1.2.0",
      "model_name": "LayoutModel",
      "state": {}
     },
     "cf197097cbdc4ed694fc23bfbb8b6144": {
      "model_module": "@jupyter-widgets/controls",
      "model_module_version": "1.5.0",
      "model_name": "HTMLModel",
      "state": {
       "layout": "IPY_MODEL_754528d0801e44129790681f810f6fb6",
       "style": "IPY_MODEL_cd3424fc8fcd42d2a85662561ce7d37f",
       "value": "100%"
      }
     },
     "cf216415daa94c84b1e00ed67c239ebc": {
      "model_module": "@jupyter-widgets/base",
      "model_module_version": "1.2.0",
      "model_name": "LayoutModel",
      "state": {}
     },
     "cf4197f61795452f8012eded0c85f35e": {
      "model_module": "@jupyter-widgets/controls",
      "model_module_version": "1.5.0",
      "model_name": "ProgressStyleModel",
      "state": {
       "description_width": ""
      }
     },
     "cf4973b1f0da42ae98e487411c3ef5d6": {
      "model_module": "@jupyter-widgets/controls",
      "model_module_version": "1.5.0",
      "model_name": "ProgressStyleModel",
      "state": {
       "description_width": ""
      }
     },
     "cf6249d8c77840f5ad07691e626d4e67": {
      "model_module": "@jupyter-widgets/controls",
      "model_module_version": "1.5.0",
      "model_name": "FloatProgressModel",
      "state": {
       "layout": "IPY_MODEL_96fdba168dec49e99b01f7f38010ff31",
       "max": 1197,
       "style": "IPY_MODEL_d39730aad3c0415eb161b7d7aaa78f87",
       "value": 1197
      }
     },
     "cf7e0ce2fc7d434290ee755e52232f3f": {
      "model_module": "@jupyter-widgets/controls",
      "model_module_version": "1.5.0",
      "model_name": "HTMLModel",
      "state": {
       "layout": "IPY_MODEL_9d454589dcda41e1b8a1ad0a11fb2704",
       "style": "IPY_MODEL_1fe9d6572887427db3ab702fef45fa2b",
       "value": " 1228/1228 [00:51&lt;00:00, 25.23it/s]"
      }
     },
     "cf908cbde3364eb9b3f2f02a43b893ca": {
      "model_module": "@jupyter-widgets/controls",
      "model_module_version": "1.5.0",
      "model_name": "DescriptionStyleModel",
      "state": {
       "description_width": ""
      }
     },
     "cf9ab22cac6f403496707ac7ebd90cad": {
      "model_module": "@jupyter-widgets/base",
      "model_module_version": "1.2.0",
      "model_name": "LayoutModel",
      "state": {}
     },
     "cfde6ba0634d40c9b00d5e35e683ebbd": {
      "model_module": "@jupyter-widgets/controls",
      "model_module_version": "1.5.0",
      "model_name": "DescriptionStyleModel",
      "state": {
       "description_width": ""
      }
     },
     "cffdcf04f36a413380d300217ac4df99": {
      "model_module": "@jupyter-widgets/controls",
      "model_module_version": "1.5.0",
      "model_name": "DescriptionStyleModel",
      "state": {
       "description_width": ""
      }
     },
     "d04a7ee7de1841b0a07ccff2820ac56a": {
      "model_module": "@jupyter-widgets/base",
      "model_module_version": "1.2.0",
      "model_name": "LayoutModel",
      "state": {}
     },
     "d05ed06217064c2d8c9d4b157dff3ef3": {
      "model_module": "@jupyter-widgets/controls",
      "model_module_version": "1.5.0",
      "model_name": "DescriptionStyleModel",
      "state": {
       "description_width": ""
      }
     },
     "d06bde1aafca41dbbbd2eac4c0b08093": {
      "model_module": "@jupyter-widgets/controls",
      "model_module_version": "1.5.0",
      "model_name": "DescriptionStyleModel",
      "state": {
       "description_width": ""
      }
     },
     "d06c75f4e2924d0e8d65b0b794ec5186": {
      "model_module": "@jupyter-widgets/base",
      "model_module_version": "1.2.0",
      "model_name": "LayoutModel",
      "state": {}
     },
     "d097f4ff3b9844f986f338a8278b235e": {
      "model_module": "@jupyter-widgets/controls",
      "model_module_version": "1.5.0",
      "model_name": "DescriptionStyleModel",
      "state": {
       "description_width": ""
      }
     },
     "d0c95ec4906242e3ad4bdcedec4ab178": {
      "model_module": "@jupyter-widgets/controls",
      "model_module_version": "1.5.0",
      "model_name": "HTMLModel",
      "state": {
       "layout": "IPY_MODEL_97074a4b60834369b2375d59822b85e8",
       "style": "IPY_MODEL_54a1fb9cd1584808ad5d55cfd7889329",
       "value": "loss: 0.6201: 100%"
      }
     },
     "d0d7e95361264a2ba36b1bf931515c01": {
      "model_module": "@jupyter-widgets/base",
      "model_module_version": "1.2.0",
      "model_name": "LayoutModel",
      "state": {}
     },
     "d0e549b2a835467dbb0e51ca93ef45dc": {
      "model_module": "@jupyter-widgets/controls",
      "model_module_version": "1.5.0",
      "model_name": "HTMLModel",
      "state": {
       "layout": "IPY_MODEL_771bea6ce3614806a170d544f9758e7d",
       "style": "IPY_MODEL_bbad8aff123940c0b6317013d70f7337",
       "value": " 1091/1091 [00:48&lt;00:00, 22.65it/s]"
      }
     },
     "d10a8c92957e4242aa33da7c1e3f8313": {
      "model_module": "@jupyter-widgets/controls",
      "model_module_version": "1.5.0",
      "model_name": "FloatProgressModel",
      "state": {
       "layout": "IPY_MODEL_e72222cc2a0141f9924fb8d2d9d847b2",
       "max": 1075,
       "style": "IPY_MODEL_a53d008afab94b46af7785f26f5c9f78",
       "value": 1075
      }
     },
     "d112ffdef7444a8496f31b8488ea1c70": {
      "model_module": "@jupyter-widgets/controls",
      "model_module_version": "1.5.0",
      "model_name": "DescriptionStyleModel",
      "state": {
       "description_width": ""
      }
     },
     "d12bd35ead6d4754987075c735e65728": {
      "model_module": "@jupyter-widgets/base",
      "model_module_version": "1.2.0",
      "model_name": "LayoutModel",
      "state": {}
     },
     "d171153f2dee4d80ad53fdcce939fa3e": {
      "model_module": "@jupyter-widgets/controls",
      "model_module_version": "1.5.0",
      "model_name": "FloatProgressModel",
      "state": {
       "layout": "IPY_MODEL_d83eaf80e40e4c0fa5315d28aa7ed609",
       "max": 1252,
       "style": "IPY_MODEL_789877f366d0497292e628e5823ab588",
       "value": 1252
      }
     },
     "d19488602a54481aa374db93a6914c54": {
      "model_module": "@jupyter-widgets/base",
      "model_module_version": "1.2.0",
      "model_name": "LayoutModel",
      "state": {}
     },
     "d195da105d12429a9722faf29c6c7f25": {
      "model_module": "@jupyter-widgets/controls",
      "model_module_version": "1.5.0",
      "model_name": "ProgressStyleModel",
      "state": {
       "description_width": ""
      }
     },
     "d1df23b23efe48cd98322f4c9c04de02": {
      "model_module": "@jupyter-widgets/controls",
      "model_module_version": "1.5.0",
      "model_name": "FloatProgressModel",
      "state": {
       "layout": "IPY_MODEL_6960582b1c0a490d8202cfd80c853a68",
       "max": 806,
       "style": "IPY_MODEL_eb1955dd0310425d83d2cb7758014940",
       "value": 806
      }
     },
     "d1e377542b88495ab6a114573e4327cc": {
      "model_module": "@jupyter-widgets/base",
      "model_module_version": "1.2.0",
      "model_name": "LayoutModel",
      "state": {}
     },
     "d1f01ddaae524060b040e19ad5e01133": {
      "model_module": "@jupyter-widgets/controls",
      "model_module_version": "1.5.0",
      "model_name": "DescriptionStyleModel",
      "state": {
       "description_width": ""
      }
     },
     "d1f481335ab94d0ca7bdf2175e9e5ad8": {
      "model_module": "@jupyter-widgets/controls",
      "model_module_version": "1.5.0",
      "model_name": "HTMLModel",
      "state": {
       "layout": "IPY_MODEL_63d6042c43ed498cb30337a55a9a82f4",
       "style": "IPY_MODEL_f91b6bef6db245c09cf77b8e61681b69",
       "value": " 1049/1049 [00:46&lt;00:00, 22.58it/s]"
      }
     },
     "d1fc73823c24445c8805421b8fd598c1": {
      "model_module": "@jupyter-widgets/controls",
      "model_module_version": "1.5.0",
      "model_name": "HTMLModel",
      "state": {
       "layout": "IPY_MODEL_bb31c917827a498eb807d5613ac5dbeb",
       "style": "IPY_MODEL_f1151225dea04f6b86a4219a7e4d388a",
       "value": " 1075/1075 [00:48&lt;00:00, 24.13it/s]"
      }
     },
     "d21b8d9ba87348469e14814c037372f1": {
      "model_module": "@jupyter-widgets/controls",
      "model_module_version": "1.5.0",
      "model_name": "ProgressStyleModel",
      "state": {
       "description_width": ""
      }
     },
     "d25de62096774cc18a5d7460e087662b": {
      "model_module": "@jupyter-widgets/controls",
      "model_module_version": "1.5.0",
      "model_name": "DescriptionStyleModel",
      "state": {
       "description_width": ""
      }
     },
     "d282abfabb6e4e2cb1524c149cfb03f0": {
      "model_module": "@jupyter-widgets/base",
      "model_module_version": "1.2.0",
      "model_name": "LayoutModel",
      "state": {}
     },
     "d28c8a10dabc4fe9aa27f9733c773abc": {
      "model_module": "@jupyter-widgets/controls",
      "model_module_version": "1.5.0",
      "model_name": "DescriptionStyleModel",
      "state": {
       "description_width": ""
      }
     },
     "d2a49699f8a5425c87937b5ac0e517ca": {
      "model_module": "@jupyter-widgets/controls",
      "model_module_version": "1.5.0",
      "model_name": "HTMLModel",
      "state": {
       "layout": "IPY_MODEL_37ffa0bf53764c89a2a6eb5a94d6b1e2",
       "style": "IPY_MODEL_a48e678db59f44239a6c3409e72efdd6",
       "value": " 425/425 [00:19&lt;00:00, 21.23it/s]"
      }
     },
     "d2a9012861a84f2eac9a634bc09e9253": {
      "model_module": "@jupyter-widgets/base",
      "model_module_version": "1.2.0",
      "model_name": "LayoutModel",
      "state": {}
     },
     "d2b45ce4cfa84ed3934844f5a72084dd": {
      "model_module": "@jupyter-widgets/controls",
      "model_module_version": "1.5.0",
      "model_name": "HTMLModel",
      "state": {
       "layout": "IPY_MODEL_bd617b244fe444e9a46860973064d4b9",
       "style": "IPY_MODEL_fd681dbbf15041129b417d1a65089a2b",
       "value": " 1193/1193 [00:55&lt;00:00, 21.67it/s]"
      }
     },
     "d2fa381e451c4779b2e78e3bd61b705b": {
      "model_module": "@jupyter-widgets/base",
      "model_module_version": "1.2.0",
      "model_name": "LayoutModel",
      "state": {}
     },
     "d2fbe1548a4c41d2800b6c1e661de310": {
      "model_module": "@jupyter-widgets/base",
      "model_module_version": "1.2.0",
      "model_name": "LayoutModel",
      "state": {}
     },
     "d32730c3f3c344d8acce179c6838688b": {
      "model_module": "@jupyter-widgets/base",
      "model_module_version": "1.2.0",
      "model_name": "LayoutModel",
      "state": {}
     },
     "d33bb73b816f4531a4287092cff656cf": {
      "model_module": "@jupyter-widgets/controls",
      "model_module_version": "1.5.0",
      "model_name": "ProgressStyleModel",
      "state": {
       "description_width": ""
      }
     },
     "d35329e25c2849c8a8eb6a5addcd1c3a": {
      "model_module": "@jupyter-widgets/controls",
      "model_module_version": "1.5.0",
      "model_name": "ProgressStyleModel",
      "state": {
       "description_width": ""
      }
     },
     "d35b5e07637946db900ec2c44da1e9c8": {
      "model_module": "@jupyter-widgets/controls",
      "model_module_version": "1.5.0",
      "model_name": "DescriptionStyleModel",
      "state": {
       "description_width": ""
      }
     },
     "d366bc1558fb48b58a289443beaec03a": {
      "model_module": "@jupyter-widgets/controls",
      "model_module_version": "1.5.0",
      "model_name": "DescriptionStyleModel",
      "state": {
       "description_width": ""
      }
     },
     "d36a34d5696142fcb579e6fea0fc3b57": {
      "model_module": "@jupyter-widgets/base",
      "model_module_version": "1.2.0",
      "model_name": "LayoutModel",
      "state": {}
     },
     "d39730aad3c0415eb161b7d7aaa78f87": {
      "model_module": "@jupyter-widgets/controls",
      "model_module_version": "1.5.0",
      "model_name": "ProgressStyleModel",
      "state": {
       "description_width": ""
      }
     },
     "d3a40f6e1be64ba696dc4603a6e2f07a": {
      "model_module": "@jupyter-widgets/base",
      "model_module_version": "1.2.0",
      "model_name": "LayoutModel",
      "state": {}
     },
     "d4192be49cac422493acd5703df7d906": {
      "model_module": "@jupyter-widgets/controls",
      "model_module_version": "1.5.0",
      "model_name": "FloatProgressModel",
      "state": {
       "layout": "IPY_MODEL_80682abc68c44011893bc7dadc83bcff",
       "max": 1181,
       "style": "IPY_MODEL_490a13113d5a43b5b288f7b0006463da",
       "value": 1181
      }
     },
     "d42d7e95bec744e6b92e9de7b75c8ea7": {
      "model_module": "@jupyter-widgets/controls",
      "model_module_version": "1.5.0",
      "model_name": "DescriptionStyleModel",
      "state": {
       "description_width": ""
      }
     },
     "d453f555586e4153910ac41520d2a459": {
      "model_module": "@jupyter-widgets/base",
      "model_module_version": "1.2.0",
      "model_name": "LayoutModel",
      "state": {}
     },
     "d475c1dfe85241528b9311fc945e13ab": {
      "model_module": "@jupyter-widgets/base",
      "model_module_version": "1.2.0",
      "model_name": "LayoutModel",
      "state": {}
     },
     "d48ea9016cac4b0a9cb7de0ace56a2a8": {
      "model_module": "@jupyter-widgets/base",
      "model_module_version": "1.2.0",
      "model_name": "LayoutModel",
      "state": {}
     },
     "d4ae4cc5446744e2a3a994c14079d63c": {
      "model_module": "@jupyter-widgets/base",
      "model_module_version": "1.2.0",
      "model_name": "LayoutModel",
      "state": {}
     },
     "d4bd8322f219466fad809d2db20715f5": {
      "model_module": "@jupyter-widgets/base",
      "model_module_version": "1.2.0",
      "model_name": "LayoutModel",
      "state": {}
     },
     "d4d1ede777594cb38c78ae9054fb7ea0": {
      "model_module": "@jupyter-widgets/base",
      "model_module_version": "1.2.0",
      "model_name": "LayoutModel",
      "state": {}
     },
     "d4f6b3c642434a5c809fa702677d888e": {
      "model_module": "@jupyter-widgets/base",
      "model_module_version": "1.2.0",
      "model_name": "LayoutModel",
      "state": {}
     },
     "d54a1f068614421685c9a5efec7e97fb": {
      "model_module": "@jupyter-widgets/base",
      "model_module_version": "1.2.0",
      "model_name": "LayoutModel",
      "state": {}
     },
     "d562f0bb7c614255a3cec247edfca0e8": {
      "model_module": "@jupyter-widgets/controls",
      "model_module_version": "1.5.0",
      "model_name": "DescriptionStyleModel",
      "state": {
       "description_width": ""
      }
     },
     "d572e1055c3f4c7482646cbce5a2d521": {
      "model_module": "@jupyter-widgets/controls",
      "model_module_version": "1.5.0",
      "model_name": "FloatProgressModel",
      "state": {
       "layout": "IPY_MODEL_c49b260019564fe2a732b1683475c901",
       "max": 806,
       "style": "IPY_MODEL_8a8e63a0f366434ebd8befea53c3c69f",
       "value": 806
      }
     },
     "d57c461abe884543a54d485fc64a9ec1": {
      "model_module": "@jupyter-widgets/controls",
      "model_module_version": "1.5.0",
      "model_name": "DescriptionStyleModel",
      "state": {
       "description_width": ""
      }
     },
     "d58d08963f5c458bab80e9350ab49bea": {
      "model_module": "@jupyter-widgets/controls",
      "model_module_version": "1.5.0",
      "model_name": "FloatProgressModel",
      "state": {
       "layout": "IPY_MODEL_8324e75ecda1446b93ed5ab6582a9ae9",
       "max": 1187,
       "style": "IPY_MODEL_6a92abc1c98e4eca84ff8c0b59023bf0",
       "value": 1187
      }
     },
     "d5a0cb24e63e4a4ab1dbb8ae837a2c9e": {
      "model_module": "@jupyter-widgets/base",
      "model_module_version": "1.2.0",
      "model_name": "LayoutModel",
      "state": {}
     },
     "d5c425dfe1d840178cd7277c29f4e6af": {
      "model_module": "@jupyter-widgets/base",
      "model_module_version": "1.2.0",
      "model_name": "LayoutModel",
      "state": {}
     },
     "d5c5adc2db9148308626fc605c27fa84": {
      "model_module": "@jupyter-widgets/base",
      "model_module_version": "1.2.0",
      "model_name": "LayoutModel",
      "state": {}
     },
     "d5d1f76a13c4484bb63746624ee01a72": {
      "model_module": "@jupyter-widgets/base",
      "model_module_version": "1.2.0",
      "model_name": "LayoutModel",
      "state": {}
     },
     "d601b20ff91142b5a04960a3979dd06b": {
      "model_module": "@jupyter-widgets/controls",
      "model_module_version": "1.5.0",
      "model_name": "ProgressStyleModel",
      "state": {
       "description_width": ""
      }
     },
     "d602e94d06f84ade858c50be1b13d125": {
      "model_module": "@jupyter-widgets/controls",
      "model_module_version": "1.5.0",
      "model_name": "DescriptionStyleModel",
      "state": {
       "description_width": ""
      }
     },
     "d60eefb89fa94098ab8dfae22a23a8b6": {
      "model_module": "@jupyter-widgets/controls",
      "model_module_version": "1.5.0",
      "model_name": "DescriptionStyleModel",
      "state": {
       "description_width": ""
      }
     },
     "d623b541345e442d9121bcf14c8b8911": {
      "model_module": "@jupyter-widgets/controls",
      "model_module_version": "1.5.0",
      "model_name": "DescriptionStyleModel",
      "state": {
       "description_width": ""
      }
     },
     "d62c1426a997482388c72bba4291a037": {
      "model_module": "@jupyter-widgets/base",
      "model_module_version": "1.2.0",
      "model_name": "LayoutModel",
      "state": {}
     },
     "d63e8744434d4ab59809aec8fffb5793": {
      "model_module": "@jupyter-widgets/base",
      "model_module_version": "1.2.0",
      "model_name": "LayoutModel",
      "state": {}
     },
     "d6597a91007447dc87a66adf7c34c5ec": {
      "model_module": "@jupyter-widgets/controls",
      "model_module_version": "1.5.0",
      "model_name": "ProgressStyleModel",
      "state": {
       "description_width": ""
      }
     },
     "d668554f92f74ff7991c8bc226f04ce4": {
      "model_module": "@jupyter-widgets/controls",
      "model_module_version": "1.5.0",
      "model_name": "DescriptionStyleModel",
      "state": {
       "description_width": ""
      }
     },
     "d67388f941a64d6b939e8806faa3230a": {
      "model_module": "@jupyter-widgets/base",
      "model_module_version": "1.2.0",
      "model_name": "LayoutModel",
      "state": {}
     },
     "d68b42f8357f4347b6c446366545ba9f": {
      "model_module": "@jupyter-widgets/controls",
      "model_module_version": "1.5.0",
      "model_name": "DescriptionStyleModel",
      "state": {
       "description_width": ""
      }
     },
     "d6b7af7457a84e9aafab74d890bcebc9": {
      "model_module": "@jupyter-widgets/controls",
      "model_module_version": "1.5.0",
      "model_name": "FloatProgressModel",
      "state": {
       "layout": "IPY_MODEL_0f384e1fa6434d23959c471cbae79ca8",
       "max": 246,
       "style": "IPY_MODEL_51fc6d7c541d4feda9610265e53a1730",
       "value": 246
      }
     },
     "d6eceef291fb4185a648e8388551a960": {
      "model_module": "@jupyter-widgets/controls",
      "model_module_version": "1.5.0",
      "model_name": "DescriptionStyleModel",
      "state": {
       "description_width": ""
      }
     },
     "d724b025643f41cdb3a461f0cb858271": {
      "model_module": "@jupyter-widgets/controls",
      "model_module_version": "1.5.0",
      "model_name": "ProgressStyleModel",
      "state": {
       "description_width": ""
      }
     },
     "d756c10e64344db3985e2120a61395b8": {
      "model_module": "@jupyter-widgets/base",
      "model_module_version": "1.2.0",
      "model_name": "LayoutModel",
      "state": {}
     },
     "d7829839a73945ca888d943177b7315e": {
      "model_module": "@jupyter-widgets/controls",
      "model_module_version": "1.5.0",
      "model_name": "HTMLModel",
      "state": {
       "layout": "IPY_MODEL_5797eef9d3de477e97d6d51cea8bba1c",
       "style": "IPY_MODEL_8ea57f5e74064373bc8f5cb33fe74089",
       "value": "100%"
      }
     },
     "d784f61db7564b5fb4d744e15b22769e": {
      "model_module": "@jupyter-widgets/base",
      "model_module_version": "1.2.0",
      "model_name": "LayoutModel",
      "state": {}
     },
     "d7d66fa66550435eab9b608630f7b969": {
      "model_module": "@jupyter-widgets/base",
      "model_module_version": "1.2.0",
      "model_name": "LayoutModel",
      "state": {}
     },
     "d7d6f66f0eff4834a938a4130cb1925e": {
      "model_module": "@jupyter-widgets/base",
      "model_module_version": "1.2.0",
      "model_name": "LayoutModel",
      "state": {}
     },
     "d7edddbc98ea40a4b74f59cd63752bd9": {
      "model_module": "@jupyter-widgets/controls",
      "model_module_version": "1.5.0",
      "model_name": "HTMLModel",
      "state": {
       "layout": "IPY_MODEL_df1f7198776e4308919ec5cd466b8da7",
       "style": "IPY_MODEL_4eb53504d2244c4995ea23ccaef4c129",
       "value": "loss: 0.6260: 100%"
      }
     },
     "d8117b42513c4b068476847f0fe26870": {
      "model_module": "@jupyter-widgets/controls",
      "model_module_version": "1.5.0",
      "model_name": "HTMLModel",
      "state": {
       "layout": "IPY_MODEL_1840bb01562b42229b5f74e21df44fc0",
       "style": "IPY_MODEL_c0aa23d67ccc43babfd52d833bf80e3b",
       "value": " 1656/1656 [01:14&lt;00:00, 22.57it/s]"
      }
     },
     "d81345af71e04389a80d421859f6d3e3": {
      "model_module": "@jupyter-widgets/base",
      "model_module_version": "1.2.0",
      "model_name": "LayoutModel",
      "state": {}
     },
     "d8162ea192cf4531881bdbd8dde4eab7": {
      "model_module": "@jupyter-widgets/controls",
      "model_module_version": "1.5.0",
      "model_name": "FloatProgressModel",
      "state": {
       "layout": "IPY_MODEL_468244f4d5b84aebb2ff7a21a5dc378d",
       "max": 1428,
       "style": "IPY_MODEL_d21b8d9ba87348469e14814c037372f1",
       "value": 1428
      }
     },
     "d82f2faa0af64e8eb2751c1a963b7e72": {
      "model_module": "@jupyter-widgets/controls",
      "model_module_version": "1.5.0",
      "model_name": "DescriptionStyleModel",
      "state": {
       "description_width": ""
      }
     },
     "d83eaf80e40e4c0fa5315d28aa7ed609": {
      "model_module": "@jupyter-widgets/base",
      "model_module_version": "1.2.0",
      "model_name": "LayoutModel",
      "state": {}
     },
     "d84ed0f5df98414daf8100b3bd87adea": {
      "model_module": "@jupyter-widgets/controls",
      "model_module_version": "1.5.0",
      "model_name": "FloatProgressModel",
      "state": {
       "layout": "IPY_MODEL_c59f9b45b8c14881b22ac28ec2418b52",
       "max": 237,
       "style": "IPY_MODEL_7088974809b94f0b94b7f740e118b298",
       "value": 237
      }
     },
     "d8512bf4b841403cbf6e9d291f909c20": {
      "model_module": "@jupyter-widgets/controls",
      "model_module_version": "1.5.0",
      "model_name": "HTMLModel",
      "state": {
       "layout": "IPY_MODEL_0273456682204ff2a550d69c5a75f593",
       "style": "IPY_MODEL_5a0caa154c984cbbaf8834c4515bdf69",
       "value": "100%"
      }
     },
     "d889f6abb15b42df97cdd788b7ce19e1": {
      "model_module": "@jupyter-widgets/base",
      "model_module_version": "1.2.0",
      "model_name": "LayoutModel",
      "state": {}
     },
     "d8a2140296134339a387ac84369d0434": {
      "model_module": "@jupyter-widgets/controls",
      "model_module_version": "1.5.0",
      "model_name": "HTMLModel",
      "state": {
       "layout": "IPY_MODEL_3451d01de8ce40b1ac78a3aebdddc4aa",
       "style": "IPY_MODEL_a036c74378084656b8cb82ce11ae3f78",
       "value": "100%"
      }
     },
     "d8b011c66b7246ef9371f16b1ca9b8dc": {
      "model_module": "@jupyter-widgets/controls",
      "model_module_version": "1.5.0",
      "model_name": "FloatProgressModel",
      "state": {
       "layout": "IPY_MODEL_c89f24430849490e8969b47097aa5c24",
       "max": 1213,
       "style": "IPY_MODEL_29e013417ac64f95ad0a327537fe9680",
       "value": 1213
      }
     },
     "d8c1828e03ec4d94ae0ef66c8a93240f": {
      "model_module": "@jupyter-widgets/controls",
      "model_module_version": "1.5.0",
      "model_name": "FloatProgressModel",
      "state": {
       "layout": "IPY_MODEL_1ea9d51db8114b4bb4ace390c3479827",
       "max": 1628,
       "style": "IPY_MODEL_c66528cd0de44c088a38ef1c63d7ffe8",
       "value": 1628
      }
     },
     "d8e5f4b4b9b04e78bf0a865839270876": {
      "model_module": "@jupyter-widgets/controls",
      "model_module_version": "1.5.0",
      "model_name": "HTMLModel",
      "state": {
       "layout": "IPY_MODEL_d4bd8322f219466fad809d2db20715f5",
       "style": "IPY_MODEL_37754643f6514257860c12138e39b99a",
       "value": "loss: 0.6679: 100%"
      }
     },
     "d902ff568a12449d85ecc6e66a14aa04": {
      "model_module": "@jupyter-widgets/controls",
      "model_module_version": "1.5.0",
      "model_name": "DescriptionStyleModel",
      "state": {
       "description_width": ""
      }
     },
     "d90790f10eb74346a79543ee562552cb": {
      "model_module": "@jupyter-widgets/base",
      "model_module_version": "1.2.0",
      "model_name": "LayoutModel",
      "state": {}
     },
     "d90e921f68c24938bb55331f3007f542": {
      "model_module": "@jupyter-widgets/controls",
      "model_module_version": "1.5.0",
      "model_name": "HTMLModel",
      "state": {
       "layout": "IPY_MODEL_29bb25a612414de4832972162f08b586",
       "style": "IPY_MODEL_94dd8be903834473bc432bcaee4fec18",
       "value": "loss: 0.5360: 100%"
      }
     },
     "d97344e84cd442b59d13c604470d9e08": {
      "model_module": "@jupyter-widgets/controls",
      "model_module_version": "1.5.0",
      "model_name": "HTMLModel",
      "state": {
       "layout": "IPY_MODEL_43f24aa573f342b7b43484242986f089",
       "style": "IPY_MODEL_d28c8a10dabc4fe9aa27f9733c773abc",
       "value": "100%"
      }
     },
     "d9a3ca640db54e4cb4e56d3ec75001e0": {
      "model_module": "@jupyter-widgets/controls",
      "model_module_version": "1.5.0",
      "model_name": "ProgressStyleModel",
      "state": {
       "description_width": ""
      }
     },
     "d9a594fe7c194a5fb1e84afc5f8ef53c": {
      "model_module": "@jupyter-widgets/controls",
      "model_module_version": "1.5.0",
      "model_name": "DescriptionStyleModel",
      "state": {
       "description_width": ""
      }
     },
     "d9e541d49dd04a2eb52c123a0e273d33": {
      "model_module": "@jupyter-widgets/base",
      "model_module_version": "1.2.0",
      "model_name": "LayoutModel",
      "state": {}
     },
     "d9ecb1b506014ac3a7eac4a2aef15873": {
      "model_module": "@jupyter-widgets/base",
      "model_module_version": "1.2.0",
      "model_name": "LayoutModel",
      "state": {}
     },
     "d9fb3cf8d9fd4ba8a8e4485c76c2ce2b": {
      "model_module": "@jupyter-widgets/base",
      "model_module_version": "1.2.0",
      "model_name": "LayoutModel",
      "state": {}
     },
     "da2c83b2b6e54bbfb50c8e82cee1a83c": {
      "model_module": "@jupyter-widgets/controls",
      "model_module_version": "1.5.0",
      "model_name": "HTMLModel",
      "state": {
       "layout": "IPY_MODEL_fc4bc582fd8f4ca18ef9056b72aee6da",
       "style": "IPY_MODEL_5d87470d4cb94dadb57abe227d19f006",
       "value": "100%"
      }
     },
     "da57661759ff466aa35cc003a682e624": {
      "model_module": "@jupyter-widgets/base",
      "model_module_version": "1.2.0",
      "model_name": "LayoutModel",
      "state": {}
     },
     "da6c9278a3fc4bcea9b3bec5aff66ae5": {
      "model_module": "@jupyter-widgets/controls",
      "model_module_version": "1.5.0",
      "model_name": "FloatProgressModel",
      "state": {
       "layout": "IPY_MODEL_f44c39ebd5ab46398777a235aeb74e21",
       "max": 1628,
       "style": "IPY_MODEL_d724b025643f41cdb3a461f0cb858271",
       "value": 1628
      }
     },
     "da73a7cace954aaeb8bcb07ec53ab98e": {
      "model_module": "@jupyter-widgets/controls",
      "model_module_version": "1.5.0",
      "model_name": "FloatProgressModel",
      "state": {
       "layout": "IPY_MODEL_97d248a1cca14be8b960712a3ed0fe19",
       "max": 306,
       "style": "IPY_MODEL_b7c0328d1be0476f844cc7649200b3fd",
       "value": 306
      }
     },
     "da79779ce79e480da6b2d109fee6f246": {
      "model_module": "@jupyter-widgets/base",
      "model_module_version": "1.2.0",
      "model_name": "LayoutModel",
      "state": {}
     },
     "dabcdef86c214f65aa4cbfc4d4b89118": {
      "model_module": "@jupyter-widgets/base",
      "model_module_version": "1.2.0",
      "model_name": "LayoutModel",
      "state": {}
     },
     "dac0088f406a4a9aa827979ddfa31cb3": {
      "model_module": "@jupyter-widgets/base",
      "model_module_version": "1.2.0",
      "model_name": "LayoutModel",
      "state": {}
     },
     "dac7ebaffaf7448fa7b92c8385c793d8": {
      "model_module": "@jupyter-widgets/controls",
      "model_module_version": "1.5.0",
      "model_name": "HTMLModel",
      "state": {
       "layout": "IPY_MODEL_4494537cd3fe4662ada5e28fd9ed51cd",
       "style": "IPY_MODEL_f7c479969da245e89f6ac9411bc7fd8e",
       "value": " 1084/1084 [00:52&lt;00:00, 20.76it/s]"
      }
     },
     "dafccd15c6da4b5f8671e40fa418c5e8": {
      "model_module": "@jupyter-widgets/controls",
      "model_module_version": "1.5.0",
      "model_name": "HTMLModel",
      "state": {
       "layout": "IPY_MODEL_989ecb5faca44af1a46ab242a6f65389",
       "style": "IPY_MODEL_0de030cd77af48a1b5952d0cc92438ef",
       "value": "loss: 0.6569: 100%"
      }
     },
     "db28249c6fd84af785c1d03ee2794311": {
      "model_module": "@jupyter-widgets/base",
      "model_module_version": "1.2.0",
      "model_name": "LayoutModel",
      "state": {}
     },
     "db3e3ce052c644a7845746f8aa5c60c1": {
      "model_module": "@jupyter-widgets/base",
      "model_module_version": "1.2.0",
      "model_name": "LayoutModel",
      "state": {}
     },
     "db649098a0b04f4ba814b40afde9aa40": {
      "model_module": "@jupyter-widgets/controls",
      "model_module_version": "1.5.0",
      "model_name": "HTMLModel",
      "state": {
       "layout": "IPY_MODEL_b79a1842d00b4051b219564248c421db",
       "style": "IPY_MODEL_17cd2722056f491399cfbdc91a321231",
       "value": " 1052/1052 [00:49&lt;00:00, 21.02it/s]"
      }
     },
     "db6d28dd81c34a6abe063c8fd1f62271": {
      "model_module": "@jupyter-widgets/base",
      "model_module_version": "1.2.0",
      "model_name": "LayoutModel",
      "state": {}
     },
     "db8f9a1ff023458789db64b70ffb35c0": {
      "model_module": "@jupyter-widgets/controls",
      "model_module_version": "1.5.0",
      "model_name": "DescriptionStyleModel",
      "state": {
       "description_width": ""
      }
     },
     "dbdec4a33518479e95889afbd5e59d94": {
      "model_module": "@jupyter-widgets/controls",
      "model_module_version": "1.5.0",
      "model_name": "FloatProgressModel",
      "state": {
       "layout": "IPY_MODEL_c62ac90662ea43338033f78454b0e161",
       "max": 930,
       "style": "IPY_MODEL_94b2c789974f4646b2ffc481088966ad",
       "value": 930
      }
     },
     "dbded95d013f421e9c838e4a3973d477": {
      "model_module": "@jupyter-widgets/base",
      "model_module_version": "1.2.0",
      "model_name": "LayoutModel",
      "state": {}
     },
     "dbf85caacda1494fb8fbc3faa47a2662": {
      "model_module": "@jupyter-widgets/base",
      "model_module_version": "1.2.0",
      "model_name": "LayoutModel",
      "state": {}
     },
     "dbfb693f0260493c89bb3ea6cb6ed782": {
      "model_module": "@jupyter-widgets/controls",
      "model_module_version": "1.5.0",
      "model_name": "HTMLModel",
      "state": {
       "layout": "IPY_MODEL_487b7911e2bf4791a358316ff51d1106",
       "style": "IPY_MODEL_a659f8588513485dbae950e4edf6c5a7",
       "value": "100%"
      }
     },
     "dc5a8b6ca3d841f9ae01d05ad0881147": {
      "model_module": "@jupyter-widgets/controls",
      "model_module_version": "1.5.0",
      "model_name": "ProgressStyleModel",
      "state": {
       "description_width": ""
      }
     },
     "dc5d2793b8be4ffe99f22ee5bc527bdd": {
      "model_module": "@jupyter-widgets/controls",
      "model_module_version": "1.5.0",
      "model_name": "HTMLModel",
      "state": {
       "layout": "IPY_MODEL_ec120916ed07415e8aa0a29242fcebc1",
       "style": "IPY_MODEL_c25156c3bf3d4fa7b395259d0e80155b",
       "value": " 1049/1049 [00:45&lt;00:00, 23.45it/s]"
      }
     },
     "dc64a5320f83407fb189c9a8ee316c61": {
      "model_module": "@jupyter-widgets/controls",
      "model_module_version": "1.5.0",
      "model_name": "HTMLModel",
      "state": {
       "layout": "IPY_MODEL_fb89904376444cf992d62198b343d3d8",
       "style": "IPY_MODEL_38e7e8039c1d47ad9334cb1ee3e33b92",
       "value": " 1187/1187 [00:56&lt;00:00, 22.23it/s]"
      }
     },
     "dc6e761cddd541eb8d859e3bafe22366": {
      "model_module": "@jupyter-widgets/base",
      "model_module_version": "1.2.0",
      "model_name": "LayoutModel",
      "state": {}
     },
     "dc92f027ef334b38aef7630110203bbe": {
      "model_module": "@jupyter-widgets/controls",
      "model_module_version": "1.5.0",
      "model_name": "DescriptionStyleModel",
      "state": {
       "description_width": ""
      }
     },
     "dca483160d254801aaee88328e7a47a0": {
      "model_module": "@jupyter-widgets/base",
      "model_module_version": "1.2.0",
      "model_name": "LayoutModel",
      "state": {}
     },
     "dce2410bc851473384eea9a344a8a973": {
      "model_module": "@jupyter-widgets/controls",
      "model_module_version": "1.5.0",
      "model_name": "HTMLModel",
      "state": {
       "layout": "IPY_MODEL_4002971ced764bbeb4e931c9eaf53e5f",
       "style": "IPY_MODEL_fb84642495554a648678eff3b8304da3",
       "value": " 1213/1213 [00:54&lt;00:00, 22.55it/s]"
      }
     },
     "dd00882de21947bf923a5617a4d11d69": {
      "model_module": "@jupyter-widgets/base",
      "model_module_version": "1.2.0",
      "model_name": "LayoutModel",
      "state": {}
     },
     "dd2b8d14c8234409ad1763a2081e2b57": {
      "model_module": "@jupyter-widgets/controls",
      "model_module_version": "1.5.0",
      "model_name": "FloatProgressModel",
      "state": {
       "layout": "IPY_MODEL_718767de35ee4c8fb951d404c77c91c3",
       "max": 1217,
       "style": "IPY_MODEL_42fb5e23bf314675937b0a2e14c61c95",
       "value": 1217
      }
     },
     "dd325bf0ff664f9da49a881dfac15b85": {
      "model_module": "@jupyter-widgets/controls",
      "model_module_version": "1.5.0",
      "model_name": "HTMLModel",
      "state": {
       "layout": "IPY_MODEL_15ceca93e9b34689a81c088b57dcbfb5",
       "style": "IPY_MODEL_d623b541345e442d9121bcf14c8b8911",
       "value": "loss: 0.5609: 100%"
      }
     },
     "dd461196b0384a02a3ff6f9f06c20280": {
      "model_module": "@jupyter-widgets/controls",
      "model_module_version": "1.5.0",
      "model_name": "ProgressStyleModel",
      "state": {
       "description_width": ""
      }
     },
     "dd5c6876fccf44199ec47b7b997260a5": {
      "model_module": "@jupyter-widgets/controls",
      "model_module_version": "1.5.0",
      "model_name": "DescriptionStyleModel",
      "state": {
       "description_width": ""
      }
     },
     "dd6e3c2715674f0fb5bfd2da8ef48fdd": {
      "model_module": "@jupyter-widgets/controls",
      "model_module_version": "1.5.0",
      "model_name": "DescriptionStyleModel",
      "state": {
       "description_width": ""
      }
     },
     "dd78318733d449ef91cbc992f850f65d": {
      "model_module": "@jupyter-widgets/base",
      "model_module_version": "1.2.0",
      "model_name": "LayoutModel",
      "state": {}
     },
     "dd7942af4aa64cc3a101af9d7cc88379": {
      "model_module": "@jupyter-widgets/base",
      "model_module_version": "1.2.0",
      "model_name": "LayoutModel",
      "state": {}
     },
     "dd7ce9356359401aa34a316accef93b1": {
      "model_module": "@jupyter-widgets/base",
      "model_module_version": "1.2.0",
      "model_name": "LayoutModel",
      "state": {}
     },
     "dde46c42edcd472d9aa704e18f4f4838": {
      "model_module": "@jupyter-widgets/base",
      "model_module_version": "1.2.0",
      "model_name": "LayoutModel",
      "state": {}
     },
     "dde57874ce0f4136a5a7522742f07580": {
      "model_module": "@jupyter-widgets/base",
      "model_module_version": "1.2.0",
      "model_name": "LayoutModel",
      "state": {}
     },
     "de0e16997e914acca08acc12e86135ba": {
      "model_module": "@jupyter-widgets/controls",
      "model_module_version": "1.5.0",
      "model_name": "DescriptionStyleModel",
      "state": {
       "description_width": ""
      }
     },
     "de8aa533c24d426e8799f2cd25ce70c8": {
      "model_module": "@jupyter-widgets/controls",
      "model_module_version": "1.5.0",
      "model_name": "DescriptionStyleModel",
      "state": {
       "description_width": ""
      }
     },
     "de8af49fbc634dd8836dec40176c0a6a": {
      "model_module": "@jupyter-widgets/base",
      "model_module_version": "1.2.0",
      "model_name": "LayoutModel",
      "state": {}
     },
     "dea38ca5586943fa8a1075bc0e883791": {
      "model_module": "@jupyter-widgets/controls",
      "model_module_version": "1.5.0",
      "model_name": "HTMLModel",
      "state": {
       "layout": "IPY_MODEL_4193768c51ac416f9415ce5134472d5c",
       "style": "IPY_MODEL_6cb932fc97c0433bbf13879318a9624f",
       "value": "100%"
      }
     },
     "deab982591614eada59a10903edd282a": {
      "model_module": "@jupyter-widgets/controls",
      "model_module_version": "1.5.0",
      "model_name": "DescriptionStyleModel",
      "state": {
       "description_width": ""
      }
     },
     "dee06ee159744344b1b2cac034ad1260": {
      "model_module": "@jupyter-widgets/controls",
      "model_module_version": "1.5.0",
      "model_name": "FloatProgressModel",
      "state": {
       "layout": "IPY_MODEL_4d3af2a34c58431b93e9acdd3de22d88",
       "max": 1228,
       "style": "IPY_MODEL_e4472fef8b6f4a679549cb1649703e14",
       "value": 1228
      }
     },
     "df11e27fa0fc46ccbc7f0608c80b2447": {
      "model_module": "@jupyter-widgets/controls",
      "model_module_version": "1.5.0",
      "model_name": "HTMLModel",
      "state": {
       "layout": "IPY_MODEL_275d6620fdb04a138ea70a3c2cdb3c47",
       "style": "IPY_MODEL_cd3baac62ade40729f942a50f93497cf",
       "value": "100%"
      }
     },
     "df1db2f822e44701b6c1482127fedbb9": {
      "model_module": "@jupyter-widgets/base",
      "model_module_version": "1.2.0",
      "model_name": "LayoutModel",
      "state": {}
     },
     "df1f7198776e4308919ec5cd466b8da7": {
      "model_module": "@jupyter-widgets/base",
      "model_module_version": "1.2.0",
      "model_name": "LayoutModel",
      "state": {}
     },
     "df28ea6aaa8f4520a9d6d7579fcd3712": {
      "model_module": "@jupyter-widgets/controls",
      "model_module_version": "1.5.0",
      "model_name": "HTMLModel",
      "state": {
       "layout": "IPY_MODEL_853dec7b7f8f4d1a89f2c24138846b7b",
       "style": "IPY_MODEL_162b2de30af74834aa1b9d0e8ebc1cee",
       "value": " 1084/1084 [00:51&lt;00:00, 21.07it/s]"
      }
     },
     "df4f49151eff4b6e94a1ac5ae2252b0e": {
      "model_module": "@jupyter-widgets/controls",
      "model_module_version": "1.5.0",
      "model_name": "ProgressStyleModel",
      "state": {
       "description_width": ""
      }
     },
     "df64ffc15e86404d8e0d8350aa39ded3": {
      "model_module": "@jupyter-widgets/controls",
      "model_module_version": "1.5.0",
      "model_name": "HTMLModel",
      "state": {
       "layout": "IPY_MODEL_7476d5bce35e456f8339ebcb50664290",
       "style": "IPY_MODEL_402b2aae24494fd8b285911c0be8af2f",
       "value": " 1229/1229 [00:57&lt;00:00, 21.47it/s]"
      }
     },
     "df67ecb85f474906b540378c5b1eef6a": {
      "model_module": "@jupyter-widgets/controls",
      "model_module_version": "1.5.0",
      "model_name": "ProgressStyleModel",
      "state": {
       "description_width": ""
      }
     },
     "df82a882f91d426fa4ca91b9129806ab": {
      "model_module": "@jupyter-widgets/controls",
      "model_module_version": "1.5.0",
      "model_name": "HTMLModel",
      "state": {
       "layout": "IPY_MODEL_c22d0bb2951c4f50914912b53310b063",
       "style": "IPY_MODEL_c2eb1dc357cf48078b665c499ac2e273",
       "value": " 1024/1024 [00:42&lt;00:00, 23.85it/s]"
      }
     },
     "dfbe832c1fb74d638101726e81a06f7f": {
      "model_module": "@jupyter-widgets/controls",
      "model_module_version": "1.5.0",
      "model_name": "FloatProgressModel",
      "state": {
       "layout": "IPY_MODEL_58ea4e1cf0ea495281609539e48ec447",
       "max": 290,
       "style": "IPY_MODEL_6f3f36d88e5e4be290c5afd0adb21539",
       "value": 290
      }
     },
     "dfc47d12ca82435594684b64c6c4a087": {
      "model_module": "@jupyter-widgets/base",
      "model_module_version": "1.2.0",
      "model_name": "LayoutModel",
      "state": {}
     },
     "dfd33369d6be41a58ecb00bce8255d02": {
      "model_module": "@jupyter-widgets/base",
      "model_module_version": "1.2.0",
      "model_name": "LayoutModel",
      "state": {}
     },
     "dfdc08eb4f1841c1859b0fde6b855627": {
      "model_module": "@jupyter-widgets/base",
      "model_module_version": "1.2.0",
      "model_name": "LayoutModel",
      "state": {}
     },
     "e002e3e594fb448580c3ba4d24a9822a": {
      "model_module": "@jupyter-widgets/controls",
      "model_module_version": "1.5.0",
      "model_name": "DescriptionStyleModel",
      "state": {
       "description_width": ""
      }
     },
     "e0084ea178804ea79f84bb509d66824d": {
      "model_module": "@jupyter-widgets/controls",
      "model_module_version": "1.5.0",
      "model_name": "DescriptionStyleModel",
      "state": {
       "description_width": ""
      }
     },
     "e009ce37f92c45d8a0d4a6fc1262782e": {
      "model_module": "@jupyter-widgets/controls",
      "model_module_version": "1.5.0",
      "model_name": "DescriptionStyleModel",
      "state": {
       "description_width": ""
      }
     },
     "e0288c8608fc4dfeaac202af42f44bc2": {
      "model_module": "@jupyter-widgets/base",
      "model_module_version": "1.2.0",
      "model_name": "LayoutModel",
      "state": {}
     },
     "e04697abecca4c279697d7341a2dd4bc": {
      "model_module": "@jupyter-widgets/base",
      "model_module_version": "1.2.0",
      "model_name": "LayoutModel",
      "state": {}
     },
     "e05aefc952ee4377bdef402feb401929": {
      "model_module": "@jupyter-widgets/controls",
      "model_module_version": "1.5.0",
      "model_name": "DescriptionStyleModel",
      "state": {
       "description_width": ""
      }
     },
     "e05ba96ae34347f8803990a22f6e1a3b": {
      "model_module": "@jupyter-widgets/controls",
      "model_module_version": "1.5.0",
      "model_name": "HTMLModel",
      "state": {
       "layout": "IPY_MODEL_1c4ccb38aee8409d818bb145f8d7a317",
       "style": "IPY_MODEL_b92ba19871e1489a8d34518e6ddfb5e2",
       "value": "100%"
      }
     },
     "e09536340c90464399ec149a1b76ae12": {
      "model_module": "@jupyter-widgets/controls",
      "model_module_version": "1.5.0",
      "model_name": "DescriptionStyleModel",
      "state": {
       "description_width": ""
      }
     },
     "e0b82464d3a04173ba96122daa4be5b1": {
      "model_module": "@jupyter-widgets/controls",
      "model_module_version": "1.5.0",
      "model_name": "HTMLModel",
      "state": {
       "layout": "IPY_MODEL_e972bc02126b4e429e8e09911879c3d3",
       "style": "IPY_MODEL_e1795d897e524eb99a5679776fa4b0d3",
       "value": "100%"
      }
     },
     "e0c0b08cbaf54ed1b8eae8833dab73ba": {
      "model_module": "@jupyter-widgets/base",
      "model_module_version": "1.2.0",
      "model_name": "LayoutModel",
      "state": {}
     },
     "e0ecf30e933c47438bf0877bc1eed7f7": {
      "model_module": "@jupyter-widgets/base",
      "model_module_version": "1.2.0",
      "model_name": "LayoutModel",
      "state": {}
     },
     "e1078619b117429198484ff1dc6efacd": {
      "model_module": "@jupyter-widgets/base",
      "model_module_version": "1.2.0",
      "model_name": "LayoutModel",
      "state": {}
     },
     "e10f8b4d594e4c41be1c5b8c83b424c2": {
      "model_module": "@jupyter-widgets/controls",
      "model_module_version": "1.5.0",
      "model_name": "DescriptionStyleModel",
      "state": {
       "description_width": ""
      }
     },
     "e1175d9b6c6a47b69df1d00369c3bb23": {
      "model_module": "@jupyter-widgets/base",
      "model_module_version": "1.2.0",
      "model_name": "LayoutModel",
      "state": {}
     },
     "e134cea451664d3e909d4e660d2ba84f": {
      "model_module": "@jupyter-widgets/base",
      "model_module_version": "1.2.0",
      "model_name": "LayoutModel",
      "state": {}
     },
     "e14e15b1f1f9416bb52649f5711f6cf4": {
      "model_module": "@jupyter-widgets/base",
      "model_module_version": "1.2.0",
      "model_name": "LayoutModel",
      "state": {}
     },
     "e1795d897e524eb99a5679776fa4b0d3": {
      "model_module": "@jupyter-widgets/controls",
      "model_module_version": "1.5.0",
      "model_name": "DescriptionStyleModel",
      "state": {
       "description_width": ""
      }
     },
     "e1d5374167f843b791f5ec9217b3440e": {
      "model_module": "@jupyter-widgets/base",
      "model_module_version": "1.2.0",
      "model_name": "LayoutModel",
      "state": {}
     },
     "e1d620d9e101464c9db847dd44ae0209": {
      "model_module": "@jupyter-widgets/controls",
      "model_module_version": "1.5.0",
      "model_name": "HTMLModel",
      "state": {
       "layout": "IPY_MODEL_ce33f970d6774245be3005a35136016a",
       "style": "IPY_MODEL_2cdfb7e99c5a4a4384fc83d1f1d0063f",
       "value": "100%"
      }
     },
     "e1f8c46e991c41ac8d7c4105e2f7668c": {
      "model_module": "@jupyter-widgets/base",
      "model_module_version": "1.2.0",
      "model_name": "LayoutModel",
      "state": {}
     },
     "e2314888073b460391f7bcb1490ff403": {
      "model_module": "@jupyter-widgets/controls",
      "model_module_version": "1.5.0",
      "model_name": "FloatProgressModel",
      "state": {
       "layout": "IPY_MODEL_d5c5adc2db9148308626fc605c27fa84",
       "max": 238,
       "style": "IPY_MODEL_395afc5c3e644490b82baf41772611f0",
       "value": 238
      }
     },
     "e23423e9f0ee492f94fc8aa76665741c": {
      "model_module": "@jupyter-widgets/controls",
      "model_module_version": "1.5.0",
      "model_name": "DescriptionStyleModel",
      "state": {
       "description_width": ""
      }
     },
     "e2552e1e56f64e649aff1eb216f65486": {
      "model_module": "@jupyter-widgets/controls",
      "model_module_version": "1.5.0",
      "model_name": "ProgressStyleModel",
      "state": {
       "description_width": ""
      }
     },
     "e27e9cf1f1484b62a3e601d9a6713887": {
      "model_module": "@jupyter-widgets/controls",
      "model_module_version": "1.5.0",
      "model_name": "HTMLModel",
      "state": {
       "layout": "IPY_MODEL_8248f23ccbe949ca8e2cead3805ac3ea",
       "style": "IPY_MODEL_143080ae791540faba9601209a00dc10",
       "value": "loss: 0.6456: 100%"
      }
     },
     "e28683deabec4f82b2e3f83db4aee9bd": {
      "model_module": "@jupyter-widgets/base",
      "model_module_version": "1.2.0",
      "model_name": "LayoutModel",
      "state": {}
     },
     "e295e7adae1345a38d9d761e7b0a109f": {
      "model_module": "@jupyter-widgets/base",
      "model_module_version": "1.2.0",
      "model_name": "LayoutModel",
      "state": {}
     },
     "e2a03a57c4d74210875e141d92ffd144": {
      "model_module": "@jupyter-widgets/controls",
      "model_module_version": "1.5.0",
      "model_name": "HTMLModel",
      "state": {
       "layout": "IPY_MODEL_56c05e315bc04911b7850a560641df2f",
       "style": "IPY_MODEL_326be93be1c54af886c47bc69a68e6e2",
       "value": "loss: 0.6635: 100%"
      }
     },
     "e2bdd807bbfb4330a4b4a629c32ca7b0": {
      "model_module": "@jupyter-widgets/base",
      "model_module_version": "1.2.0",
      "model_name": "LayoutModel",
      "state": {}
     },
     "e2e12137f70b4e5399a6229416046cdd": {
      "model_module": "@jupyter-widgets/controls",
      "model_module_version": "1.5.0",
      "model_name": "HTMLModel",
      "state": {
       "layout": "IPY_MODEL_44cd5c6d1a1b4183be35a4250bbc0d33",
       "style": "IPY_MODEL_fc9af490b6d04971ae27be292d55ca9c",
       "value": "loss: 0.6561: 100%"
      }
     },
     "e30dd489423a4d10ab7131d7232b1719": {
      "model_module": "@jupyter-widgets/controls",
      "model_module_version": "1.5.0",
      "model_name": "ProgressStyleModel",
      "state": {
       "description_width": ""
      }
     },
     "e313f5f4ac224fc9b1cfc6b026bf9706": {
      "model_module": "@jupyter-widgets/controls",
      "model_module_version": "1.5.0",
      "model_name": "FloatProgressModel",
      "state": {
       "layout": "IPY_MODEL_2b1c942ac78540cdab411617f5b00a2f",
       "max": 1084,
       "style": "IPY_MODEL_110df4fbc96646d58dd7c2406458bf9b",
       "value": 1084
      }
     },
     "e31e807623d0447b9878835414c20426": {
      "model_module": "@jupyter-widgets/base",
      "model_module_version": "1.2.0",
      "model_name": "LayoutModel",
      "state": {}
     },
     "e3572c42bdc34362b2628f49ce352cb0": {
      "model_module": "@jupyter-widgets/controls",
      "model_module_version": "1.5.0",
      "model_name": "HTMLModel",
      "state": {
       "layout": "IPY_MODEL_a8be88c8a72e4167ba8016e0ce9f1ff2",
       "style": "IPY_MODEL_4aed9c7cdc21485ca8687196cfa83192",
       "value": " 1213/1213 [00:53&lt;00:00, 22.31it/s]"
      }
     },
     "e3625a87948145108b311dfd3e59cee7": {
      "model_module": "@jupyter-widgets/base",
      "model_module_version": "1.2.0",
      "model_name": "LayoutModel",
      "state": {}
     },
     "e380c7a53b7f460f8b0794b605ca9b43": {
      "model_module": "@jupyter-widgets/controls",
      "model_module_version": "1.5.0",
      "model_name": "HTMLModel",
      "state": {
       "layout": "IPY_MODEL_dd00882de21947bf923a5617a4d11d69",
       "style": "IPY_MODEL_b9ce9a8a747c4a7cbf3c2e515ff3edfb",
       "value": " 1187/1187 [00:55&lt;00:00, 21.80it/s]"
      }
     },
     "e399929b867a4c749595c06e62a364aa": {
      "model_module": "@jupyter-widgets/controls",
      "model_module_version": "1.5.0",
      "model_name": "DescriptionStyleModel",
      "state": {
       "description_width": ""
      }
     },
     "e3b08befbb684b4aa32f4818d4fc635f": {
      "model_module": "@jupyter-widgets/base",
      "model_module_version": "1.2.0",
      "model_name": "LayoutModel",
      "state": {}
     },
     "e3deafbb0bf94825b507253d9f00ac3c": {
      "model_module": "@jupyter-widgets/controls",
      "model_module_version": "1.5.0",
      "model_name": "HTMLModel",
      "state": {
       "layout": "IPY_MODEL_505bd93681b3441daa7ce2d22c00c196",
       "style": "IPY_MODEL_dd5c6876fccf44199ec47b7b997260a5",
       "value": " 903/903 [00:42&lt;00:00, 21.67it/s]"
      }
     },
     "e3e0fc6b7c914e568ddfcd8664eb40be": {
      "model_module": "@jupyter-widgets/controls",
      "model_module_version": "1.5.0",
      "model_name": "FloatProgressModel",
      "state": {
       "layout": "IPY_MODEL_3fa5ae41616740439795d00925a7f1a4",
       "max": 1049,
       "style": "IPY_MODEL_141992820b3d4f8896c12689bc976936",
       "value": 1049
      }
     },
     "e3e51b7819974591bcfbaea6fb8a38f3": {
      "model_module": "@jupyter-widgets/controls",
      "model_module_version": "1.5.0",
      "model_name": "FloatProgressModel",
      "state": {
       "layout": "IPY_MODEL_4c71f2a7dd53471aa1a6cf119a88bf9f",
       "max": 1193,
       "style": "IPY_MODEL_d33bb73b816f4531a4287092cff656cf",
       "value": 1193
      }
     },
     "e43f04428de34b28ab3a0795f3529476": {
      "model_module": "@jupyter-widgets/base",
      "model_module_version": "1.2.0",
      "model_name": "LayoutModel",
      "state": {}
     },
     "e4472fef8b6f4a679549cb1649703e14": {
      "model_module": "@jupyter-widgets/controls",
      "model_module_version": "1.5.0",
      "model_name": "ProgressStyleModel",
      "state": {
       "description_width": ""
      }
     },
     "e44796afd5c44fc3a4e858a31ec2d3f9": {
      "model_module": "@jupyter-widgets/base",
      "model_module_version": "1.2.0",
      "model_name": "LayoutModel",
      "state": {}
     },
     "e46e20eab2204d5b933cd3ff773369e3": {
      "model_module": "@jupyter-widgets/controls",
      "model_module_version": "1.5.0",
      "model_name": "ProgressStyleModel",
      "state": {
       "description_width": ""
      }
     },
     "e4d4a0ca3bc545509d9381042e7d00cd": {
      "model_module": "@jupyter-widgets/base",
      "model_module_version": "1.2.0",
      "model_name": "LayoutModel",
      "state": {}
     },
     "e4f865258ee44d6daf37264710a1e295": {
      "model_module": "@jupyter-widgets/base",
      "model_module_version": "1.2.0",
      "model_name": "LayoutModel",
      "state": {}
     },
     "e50f94bc65d549c794aa5b64d5b6dfc8": {
      "model_module": "@jupyter-widgets/base",
      "model_module_version": "1.2.0",
      "model_name": "LayoutModel",
      "state": {}
     },
     "e547f8dabb0546479c1ff0df8a9b45fa": {
      "model_module": "@jupyter-widgets/base",
      "model_module_version": "1.2.0",
      "model_name": "LayoutModel",
      "state": {}
     },
     "e55492c94fef46228913df4684503d36": {
      "model_module": "@jupyter-widgets/base",
      "model_module_version": "1.2.0",
      "model_name": "LayoutModel",
      "state": {}
     },
     "e555b70bb85d42d892695afe3fb30b1f": {
      "model_module": "@jupyter-widgets/base",
      "model_module_version": "1.2.0",
      "model_name": "LayoutModel",
      "state": {}
     },
     "e55c6b06beef4d8d92f27ec1d8418497": {
      "model_module": "@jupyter-widgets/controls",
      "model_module_version": "1.5.0",
      "model_name": "DescriptionStyleModel",
      "state": {
       "description_width": ""
      }
     },
     "e56543cacd714ea39090d902ae450acb": {
      "model_module": "@jupyter-widgets/base",
      "model_module_version": "1.2.0",
      "model_name": "LayoutModel",
      "state": {}
     },
     "e58456dd80594511a27faab408010014": {
      "model_module": "@jupyter-widgets/controls",
      "model_module_version": "1.5.0",
      "model_name": "DescriptionStyleModel",
      "state": {
       "description_width": ""
      }
     },
     "e61549c587e34bb08d91f1ac8611c142": {
      "model_module": "@jupyter-widgets/controls",
      "model_module_version": "1.5.0",
      "model_name": "DescriptionStyleModel",
      "state": {
       "description_width": ""
      }
     },
     "e617b6f15a0a4940a8ac37f98a52c7dc": {
      "model_module": "@jupyter-widgets/controls",
      "model_module_version": "1.5.0",
      "model_name": "DescriptionStyleModel",
      "state": {
       "description_width": ""
      }
     },
     "e61a2ae2d84348bf8b531ff7822d58f9": {
      "model_module": "@jupyter-widgets/base",
      "model_module_version": "1.2.0",
      "model_name": "LayoutModel",
      "state": {}
     },
     "e64ac4ed5c8d4bf48bcac0eaca4a5e76": {
      "model_module": "@jupyter-widgets/controls",
      "model_module_version": "1.5.0",
      "model_name": "DescriptionStyleModel",
      "state": {
       "description_width": ""
      }
     },
     "e65fbc66b3ab4f46bc41e18da6758f47": {
      "model_module": "@jupyter-widgets/base",
      "model_module_version": "1.2.0",
      "model_name": "LayoutModel",
      "state": {}
     },
     "e66e00c7930e4da29e635dc1dc2bc828": {
      "model_module": "@jupyter-widgets/controls",
      "model_module_version": "1.5.0",
      "model_name": "HTMLModel",
      "state": {
       "layout": "IPY_MODEL_14f2ab09a0db4dee9bb0de6e90b725fa",
       "style": "IPY_MODEL_816deda2bd20477384e22de11230f31a",
       "value": " 1216/1216 [00:54&lt;00:00, 23.38it/s]"
      }
     },
     "e682dee18f1e48d2bdc17abde9bc03e3": {
      "model_module": "@jupyter-widgets/base",
      "model_module_version": "1.2.0",
      "model_name": "LayoutModel",
      "state": {}
     },
     "e68385f0bea645bdbb35d2d2353750aa": {
      "model_module": "@jupyter-widgets/base",
      "model_module_version": "1.2.0",
      "model_name": "LayoutModel",
      "state": {}
     },
     "e6a072c4549441419d6e2726f151bcb4": {
      "model_module": "@jupyter-widgets/controls",
      "model_module_version": "1.5.0",
      "model_name": "HTMLModel",
      "state": {
       "layout": "IPY_MODEL_b71fe62bdf004880abf9eb23a9de1d99",
       "style": "IPY_MODEL_60f90bb8273147caa7b260e5abb7b115",
       "value": "loss: 0.7480:  33%"
      }
     },
     "e6c8bc2ce32147c99c60978207655032": {
      "model_module": "@jupyter-widgets/controls",
      "model_module_version": "1.5.0",
      "model_name": "DescriptionStyleModel",
      "state": {
       "description_width": ""
      }
     },
     "e72222cc2a0141f9924fb8d2d9d847b2": {
      "model_module": "@jupyter-widgets/base",
      "model_module_version": "1.2.0",
      "model_name": "LayoutModel",
      "state": {}
     },
     "e7418d536927489cac507cd16aafb86f": {
      "model_module": "@jupyter-widgets/base",
      "model_module_version": "1.2.0",
      "model_name": "LayoutModel",
      "state": {}
     },
     "e7535a3f21714dc9b8dacffcd3f96bf8": {
      "model_module": "@jupyter-widgets/controls",
      "model_module_version": "1.5.0",
      "model_name": "DescriptionStyleModel",
      "state": {
       "description_width": ""
      }
     },
     "e766f1fc67e4480e8f7728c6e5dcd61e": {
      "model_module": "@jupyter-widgets/controls",
      "model_module_version": "1.5.0",
      "model_name": "HTMLModel",
      "state": {
       "layout": "IPY_MODEL_0668335c0b7a44399d24ec9df5e8c3d0",
       "style": "IPY_MODEL_6c126c35936f45d8bf7d0c94c7decc47",
       "value": " 290/290 [00:12&lt;00:00, 24.63it/s]"
      }
     },
     "e766f4ae42d2412fa464a80fee898954": {
      "model_module": "@jupyter-widgets/base",
      "model_module_version": "1.2.0",
      "model_name": "LayoutModel",
      "state": {}
     },
     "e76b8d6dfd914a2bb371a27973d7df48": {
      "model_module": "@jupyter-widgets/base",
      "model_module_version": "1.2.0",
      "model_name": "LayoutModel",
      "state": {}
     },
     "e79e3d1f7c0d4fab9407ea4e5d20ba60": {
      "model_module": "@jupyter-widgets/base",
      "model_module_version": "1.2.0",
      "model_name": "LayoutModel",
      "state": {}
     },
     "e7bf578503034a8c8cdd2fda76dbd721": {
      "model_module": "@jupyter-widgets/base",
      "model_module_version": "1.2.0",
      "model_name": "LayoutModel",
      "state": {}
     },
     "e7cfe0c690a14a17a3f7c6c78be03bab": {
      "model_module": "@jupyter-widgets/controls",
      "model_module_version": "1.5.0",
      "model_name": "HBoxModel",
      "state": {
       "children": [
        "IPY_MODEL_20c95d7573ae4d0f958ae9ac9816af88",
        "IPY_MODEL_bfdbf369f9264000a34e52371da493e9",
        "IPY_MODEL_f2e23d3e4dc346ac85e2e41f8d1d22d2"
       ],
       "layout": "IPY_MODEL_3e8ee7dc01fc4c53a0bd959d1d0f6967"
      }
     },
     "e7d6baf7e92444be8d59a66d9e876bc0": {
      "model_module": "@jupyter-widgets/controls",
      "model_module_version": "1.5.0",
      "model_name": "DescriptionStyleModel",
      "state": {
       "description_width": ""
      }
     },
     "e7f410e41ff64cef9251627c52b86ae6": {
      "model_module": "@jupyter-widgets/controls",
      "model_module_version": "1.5.0",
      "model_name": "FloatProgressModel",
      "state": {
       "layout": "IPY_MODEL_db28249c6fd84af785c1d03ee2794311",
       "max": 1085,
       "style": "IPY_MODEL_cdc0714dfbf943be94a0dce2d5592eed",
       "value": 1085
      }
     },
     "e7f9968d0a944dfc82281805d521a5e1": {
      "model_module": "@jupyter-widgets/controls",
      "model_module_version": "1.5.0",
      "model_name": "HTMLModel",
      "state": {
       "layout": "IPY_MODEL_a82905fa19724473a89910422f881915",
       "style": "IPY_MODEL_b74157e5941a48bbb704d3a06f76c6e9",
       "value": " 229/229 [00:10&lt;00:00, 22.38it/s]"
      }
     },
     "e824226580c64363a938b2fab7c927fd": {
      "model_module": "@jupyter-widgets/base",
      "model_module_version": "1.2.0",
      "model_name": "LayoutModel",
      "state": {}
     },
     "e82a1d78a8dc46bc83da32d4b81ce489": {
      "model_module": "@jupyter-widgets/base",
      "model_module_version": "1.2.0",
      "model_name": "LayoutModel",
      "state": {}
     },
     "e85252c788e7450a8b0b13fcb7de8f9c": {
      "model_module": "@jupyter-widgets/base",
      "model_module_version": "1.2.0",
      "model_name": "LayoutModel",
      "state": {}
     },
     "e85c82d4ffe24ff89a525c97c8145f78": {
      "model_module": "@jupyter-widgets/base",
      "model_module_version": "1.2.0",
      "model_name": "LayoutModel",
      "state": {}
     },
     "e88a1744304d4cda91d2f8145ed63894": {
      "model_module": "@jupyter-widgets/controls",
      "model_module_version": "1.5.0",
      "model_name": "FloatProgressModel",
      "state": {
       "layout": "IPY_MODEL_a324666d4be84ef0b3306f24ef30bcaa",
       "max": 1261,
       "style": "IPY_MODEL_12704e92de6c459aa0665ab3d7be289c",
       "value": 1261
      }
     },
     "e89f2ccd937148bdbbafaeace8398212": {
      "model_module": "@jupyter-widgets/base",
      "model_module_version": "1.2.0",
      "model_name": "LayoutModel",
      "state": {}
     },
     "e8be45397adf41f3a6ed088571604a9d": {
      "model_module": "@jupyter-widgets/controls",
      "model_module_version": "1.5.0",
      "model_name": "DescriptionStyleModel",
      "state": {
       "description_width": ""
      }
     },
     "e8f7aa6dee174b4db7de44fbfc036a22": {
      "model_module": "@jupyter-widgets/controls",
      "model_module_version": "1.5.0",
      "model_name": "DescriptionStyleModel",
      "state": {
       "description_width": ""
      }
     },
     "e912e474e6f243b486f4f1dd3d8d6e1f": {
      "model_module": "@jupyter-widgets/controls",
      "model_module_version": "1.5.0",
      "model_name": "DescriptionStyleModel",
      "state": {
       "description_width": ""
      }
     },
     "e914b8be38a14cc0866208991b20c74a": {
      "model_module": "@jupyter-widgets/base",
      "model_module_version": "1.2.0",
      "model_name": "LayoutModel",
      "state": {}
     },
     "e95f05372d6d40a4a7683cf9f1778f50": {
      "model_module": "@jupyter-widgets/controls",
      "model_module_version": "1.5.0",
      "model_name": "DescriptionStyleModel",
      "state": {
       "description_width": ""
      }
     },
     "e964b7fd80ef4f35a70eb2d1e3abeb41": {
      "model_module": "@jupyter-widgets/base",
      "model_module_version": "1.2.0",
      "model_name": "LayoutModel",
      "state": {}
     },
     "e972bc02126b4e429e8e09911879c3d3": {
      "model_module": "@jupyter-widgets/base",
      "model_module_version": "1.2.0",
      "model_name": "LayoutModel",
      "state": {}
     },
     "e982a0a364434d14871068ac9a1ed1ad": {
      "model_module": "@jupyter-widgets/base",
      "model_module_version": "1.2.0",
      "model_name": "LayoutModel",
      "state": {}
     },
     "e98f0bb29a024cfca56212108515540f": {
      "model_module": "@jupyter-widgets/base",
      "model_module_version": "1.2.0",
      "model_name": "LayoutModel",
      "state": {}
     },
     "e992fab536a740619198cc40c585eb57": {
      "model_module": "@jupyter-widgets/controls",
      "model_module_version": "1.5.0",
      "model_name": "HTMLModel",
      "state": {
       "layout": "IPY_MODEL_76ca0a267e954fc4b3cc594b90866d04",
       "style": "IPY_MODEL_6044ec6b7e51417d80aa115d6f45df4c",
       "value": " 1262/1262 [00:51&lt;00:00, 24.06it/s]"
      }
     },
     "e9b051586c0c46d3b8a0a10b98d8ef7d": {
      "model_module": "@jupyter-widgets/base",
      "model_module_version": "1.2.0",
      "model_name": "LayoutModel",
      "state": {}
     },
     "e9d2468690f24db999b36855d16d1e70": {
      "model_module": "@jupyter-widgets/base",
      "model_module_version": "1.2.0",
      "model_name": "LayoutModel",
      "state": {}
     },
     "e9d5562d08d54db8b60ae51347d359d1": {
      "model_module": "@jupyter-widgets/controls",
      "model_module_version": "1.5.0",
      "model_name": "ProgressStyleModel",
      "state": {
       "description_width": ""
      }
     },
     "e9dc5ef2ffaf4836acf4450ae5b9e74a": {
      "model_module": "@jupyter-widgets/controls",
      "model_module_version": "1.5.0",
      "model_name": "HTMLModel",
      "state": {
       "layout": "IPY_MODEL_d63e8744434d4ab59809aec8fffb5793",
       "style": "IPY_MODEL_04298c3be3504daba6c74e1ba9cf075a",
       "value": "100%"
      }
     },
     "ea580ff685aa47b4850f3a8ddd4c597c": {
      "model_module": "@jupyter-widgets/controls",
      "model_module_version": "1.5.0",
      "model_name": "FloatProgressModel",
      "state": {
       "layout": "IPY_MODEL_57fc43c7ec024cf4af758de17cebb7a6",
       "max": 1084,
       "style": "IPY_MODEL_3ba39b89cd3f48f9b2d5ea241b84294e",
       "value": 1084
      }
     },
     "eab69b07404c4837921b23894f05e2d3": {
      "model_module": "@jupyter-widgets/controls",
      "model_module_version": "1.5.0",
      "model_name": "DescriptionStyleModel",
      "state": {
       "description_width": ""
      }
     },
     "ead2b78160bb42f2b0920f41549382b5": {
      "model_module": "@jupyter-widgets/controls",
      "model_module_version": "1.5.0",
      "model_name": "DescriptionStyleModel",
      "state": {
       "description_width": ""
      }
     },
     "ead8eb5365ca4d539236dbe82b0b77bc": {
      "model_module": "@jupyter-widgets/base",
      "model_module_version": "1.2.0",
      "model_name": "LayoutModel",
      "state": {}
     },
     "eaed3dd827394a47a5a3ce4c40a400cb": {
      "model_module": "@jupyter-widgets/controls",
      "model_module_version": "1.5.0",
      "model_name": "ProgressStyleModel",
      "state": {
       "description_width": ""
      }
     },
     "eb0ee9731a594d8ebe39b7b925fabcd1": {
      "model_module": "@jupyter-widgets/base",
      "model_module_version": "1.2.0",
      "model_name": "LayoutModel",
      "state": {}
     },
     "eb179c36de8b4b8db08afc8742ec600d": {
      "model_module": "@jupyter-widgets/base",
      "model_module_version": "1.2.0",
      "model_name": "LayoutModel",
      "state": {}
     },
     "eb1955dd0310425d83d2cb7758014940": {
      "model_module": "@jupyter-widgets/controls",
      "model_module_version": "1.5.0",
      "model_name": "ProgressStyleModel",
      "state": {
       "description_width": ""
      }
     },
     "eb23c2f04b8c44e4a5ee7014939ddf35": {
      "model_module": "@jupyter-widgets/base",
      "model_module_version": "1.2.0",
      "model_name": "LayoutModel",
      "state": {}
     },
     "eb4feb06855f48c4b6fe162596306b59": {
      "model_module": "@jupyter-widgets/base",
      "model_module_version": "1.2.0",
      "model_name": "LayoutModel",
      "state": {}
     },
     "eb530bfd8a5f4bc183ada2567e9748b3": {
      "model_module": "@jupyter-widgets/controls",
      "model_module_version": "1.5.0",
      "model_name": "ProgressStyleModel",
      "state": {
       "description_width": ""
      }
     },
     "eb6a8316f25247e99cdc068bd14ba65e": {
      "model_module": "@jupyter-widgets/controls",
      "model_module_version": "1.5.0",
      "model_name": "DescriptionStyleModel",
      "state": {
       "description_width": ""
      }
     },
     "ebb3cbf071f8452ba813e6e1efc6361d": {
      "model_module": "@jupyter-widgets/controls",
      "model_module_version": "1.5.0",
      "model_name": "HTMLModel",
      "state": {
       "layout": "IPY_MODEL_8315e15708a6482baecf5f5f5cc5e1e5",
       "style": "IPY_MODEL_65fe0a1e1a6d4638af3a25c00b1d2c81",
       "value": " 1024/1024 [00:44&lt;00:00, 23.43it/s]"
      }
     },
     "ebe0abe19958444bad4d30ece756a4d0": {
      "model_module": "@jupyter-widgets/base",
      "model_module_version": "1.2.0",
      "model_name": "LayoutModel",
      "state": {}
     },
     "ebf2b0a3945c4b339e99ea2c97749e41": {
      "model_module": "@jupyter-widgets/controls",
      "model_module_version": "1.5.0",
      "model_name": "DescriptionStyleModel",
      "state": {
       "description_width": ""
      }
     },
     "ec027c7e89494d1f99e9b5af6eefaa19": {
      "model_module": "@jupyter-widgets/base",
      "model_module_version": "1.2.0",
      "model_name": "LayoutModel",
      "state": {}
     },
     "ec116292dfe64475a784152f30c42c95": {
      "model_module": "@jupyter-widgets/controls",
      "model_module_version": "1.5.0",
      "model_name": "ProgressStyleModel",
      "state": {
       "description_width": ""
      }
     },
     "ec120916ed07415e8aa0a29242fcebc1": {
      "model_module": "@jupyter-widgets/base",
      "model_module_version": "1.2.0",
      "model_name": "LayoutModel",
      "state": {}
     },
     "ec126c9ebc4b417e9195326db57016bd": {
      "model_module": "@jupyter-widgets/controls",
      "model_module_version": "1.5.0",
      "model_name": "HTMLModel",
      "state": {
       "layout": "IPY_MODEL_7aa2d48f72084a1a90ac38d2f55750a1",
       "style": "IPY_MODEL_cdf40974bce343f48145e8d4734dd635",
       "value": " 228/228 [00:09&lt;00:00, 23.40it/s]"
      }
     },
     "ec2c333b5aea4990ae9857b2dd0a165f": {
      "model_module": "@jupyter-widgets/base",
      "model_module_version": "1.2.0",
      "model_name": "LayoutModel",
      "state": {}
     },
     "ec524d806fbe484d9116b0c0ec1942b7": {
      "model_module": "@jupyter-widgets/base",
      "model_module_version": "1.2.0",
      "model_name": "LayoutModel",
      "state": {}
     },
     "ec6e98e06eef40e288575ce02a4c3c9a": {
      "model_module": "@jupyter-widgets/base",
      "model_module_version": "1.2.0",
      "model_name": "LayoutModel",
      "state": {}
     },
     "ec72e3ea936a495f9a7560ed7a304de3": {
      "model_module": "@jupyter-widgets/controls",
      "model_module_version": "1.5.0",
      "model_name": "FloatProgressModel",
      "state": {
       "layout": "IPY_MODEL_53966026c5224fc2a2d6f1a2dcb86d99",
       "max": 132,
       "style": "IPY_MODEL_1914af2cbf7d4c66a94f76aae1df89ad",
       "value": 132
      }
     },
     "ecd884ad15e14e0c934fd728e5aa158b": {
      "model_module": "@jupyter-widgets/base",
      "model_module_version": "1.2.0",
      "model_name": "LayoutModel",
      "state": {}
     },
     "ecd8b8c82a8548ecb1047391d44dff24": {
      "model_module": "@jupyter-widgets/controls",
      "model_module_version": "1.5.0",
      "model_name": "ProgressStyleModel",
      "state": {
       "description_width": ""
      }
     },
     "ece9192c955948cc92c89a2ca55951ce": {
      "model_module": "@jupyter-widgets/base",
      "model_module_version": "1.2.0",
      "model_name": "LayoutModel",
      "state": {}
     },
     "ecf88ce8a6724eca9d4556433fc4f271": {
      "model_module": "@jupyter-widgets/controls",
      "model_module_version": "1.5.0",
      "model_name": "DescriptionStyleModel",
      "state": {
       "description_width": ""
      }
     },
     "ed5075d70c4f417582f12320aa7f9f07": {
      "model_module": "@jupyter-widgets/base",
      "model_module_version": "1.2.0",
      "model_name": "LayoutModel",
      "state": {}
     },
     "ed6ad42ced074e78810e8e463fe11eeb": {
      "model_module": "@jupyter-widgets/base",
      "model_module_version": "1.2.0",
      "model_name": "LayoutModel",
      "state": {}
     },
     "ed823b80a21b4437b5c7b6e5065eee82": {
      "model_module": "@jupyter-widgets/controls",
      "model_module_version": "1.5.0",
      "model_name": "HTMLModel",
      "state": {
       "layout": "IPY_MODEL_caf2ee042973457b8380c70f16a61ae3",
       "style": "IPY_MODEL_05c6a8eea9ce4f4093353570f4841245",
       "value": "loss: 0.9104: 100%"
      }
     },
     "ed8ac8b847594e39bf3a23c0f299a125": {
      "model_module": "@jupyter-widgets/controls",
      "model_module_version": "1.5.0",
      "model_name": "DescriptionStyleModel",
      "state": {
       "description_width": ""
      }
     },
     "eda20847a05d427f87bc58e8eaa4f7be": {
      "model_module": "@jupyter-widgets/base",
      "model_module_version": "1.2.0",
      "model_name": "LayoutModel",
      "state": {}
     },
     "edc05163a18b4ec4aef234df6e84d00f": {
      "model_module": "@jupyter-widgets/base",
      "model_module_version": "1.2.0",
      "model_name": "LayoutModel",
      "state": {}
     },
     "edc09324fde644368d4d8d1cf5e5c998": {
      "model_module": "@jupyter-widgets/controls",
      "model_module_version": "1.5.0",
      "model_name": "FloatProgressModel",
      "state": {
       "layout": "IPY_MODEL_966be9bf714e4c24aca38f26648f7839",
       "max": 1224,
       "style": "IPY_MODEL_bc9278aef6e04d0bac24bc0b77245ada",
       "value": 1224
      }
     },
     "edf2d05da8394362a57cffddf67543d5": {
      "model_module": "@jupyter-widgets/controls",
      "model_module_version": "1.5.0",
      "model_name": "HTMLModel",
      "state": {
       "layout": "IPY_MODEL_e295e7adae1345a38d9d761e7b0a109f",
       "style": "IPY_MODEL_c5ff0ffe6c0f41949f4c10bed01d93cd",
       "value": "loss: 0.6661: 100%"
      }
     },
     "ee15c95cb32f447a9f229ab2870c754c": {
      "model_module": "@jupyter-widgets/controls",
      "model_module_version": "1.5.0",
      "model_name": "FloatProgressModel",
      "state": {
       "layout": "IPY_MODEL_d90790f10eb74346a79543ee562552cb",
       "max": 1005,
       "style": "IPY_MODEL_316c75999e7e48249ce67155d6372253",
       "value": 1005
      }
     },
     "ee191cca569f4b9590f38c957b3ce62f": {
      "model_module": "@jupyter-widgets/controls",
      "model_module_version": "1.5.0",
      "model_name": "DescriptionStyleModel",
      "state": {
       "description_width": ""
      }
     },
     "ee1d4470c6e446289077f005605f470c": {
      "model_module": "@jupyter-widgets/controls",
      "model_module_version": "1.5.0",
      "model_name": "DescriptionStyleModel",
      "state": {
       "description_width": ""
      }
     },
     "ee2ccaf34b4443d3bb6d75df38b2ef90": {
      "model_module": "@jupyter-widgets/controls",
      "model_module_version": "1.5.0",
      "model_name": "HTMLModel",
      "state": {
       "layout": "IPY_MODEL_d4f6b3c642434a5c809fa702677d888e",
       "style": "IPY_MODEL_7effe7eec1f049209d0700ec296320ba",
       "value": "loss: 0.6219: 100%"
      }
     },
     "ee9261e83c0e4c89acabb9780d44b16c": {
      "model_module": "@jupyter-widgets/base",
      "model_module_version": "1.2.0",
      "model_name": "LayoutModel",
      "state": {}
     },
     "eeacafbe9510401b846e68745f8edb29": {
      "model_module": "@jupyter-widgets/base",
      "model_module_version": "1.2.0",
      "model_name": "LayoutModel",
      "state": {}
     },
     "eee09d73e7ad4d3c8b7ac2335dd8ea86": {
      "model_module": "@jupyter-widgets/base",
      "model_module_version": "1.2.0",
      "model_name": "LayoutModel",
      "state": {}
     },
     "eefbe6a36ae548cabdc3687c6852ec34": {
      "model_module": "@jupyter-widgets/controls",
      "model_module_version": "1.5.0",
      "model_name": "DescriptionStyleModel",
      "state": {
       "description_width": ""
      }
     },
     "ef1f9bf144c248e3a74c5d5e85b93741": {
      "model_module": "@jupyter-widgets/base",
      "model_module_version": "1.2.0",
      "model_name": "LayoutModel",
      "state": {}
     },
     "ef203e0e5243404ebc2fca44feabe8ef": {
      "model_module": "@jupyter-widgets/controls",
      "model_module_version": "1.5.0",
      "model_name": "DescriptionStyleModel",
      "state": {
       "description_width": ""
      }
     },
     "ef22cd29ed5d481aa306ebc83ce599f9": {
      "model_module": "@jupyter-widgets/controls",
      "model_module_version": "1.5.0",
      "model_name": "FloatProgressModel",
      "state": {
       "layout": "IPY_MODEL_8274c809a8674a339274764ec30fbebc",
       "max": 1656,
       "style": "IPY_MODEL_a73017e096c247cfad45d2c8207adf40",
       "value": 1656
      }
     },
     "ef4cbfede32e4762a80e43f45e0f57ba": {
      "model_module": "@jupyter-widgets/controls",
      "model_module_version": "1.5.0",
      "model_name": "HTMLModel",
      "state": {
       "layout": "IPY_MODEL_1fa6407b0cfb497f91640d1554954e68",
       "style": "IPY_MODEL_b94b783c57634ff2bdac329b5359b98a",
       "value": "100%"
      }
     },
     "ef75645c9c574f9e9d918eab4546ed9c": {
      "model_module": "@jupyter-widgets/controls",
      "model_module_version": "1.5.0",
      "model_name": "HTMLModel",
      "state": {
       "layout": "IPY_MODEL_fb193c22699b4f4b93ee912806a88b6f",
       "style": "IPY_MODEL_2186e93afeac4f0fbc06bcf91622261d",
       "value": " 1228/1228 [00:57&lt;00:00, 23.01it/s]"
      }
     },
     "efb03195000847969bf92b6a34574d04": {
      "model_module": "@jupyter-widgets/base",
      "model_module_version": "1.2.0",
      "model_name": "LayoutModel",
      "state": {}
     },
     "efd0553b98944c3dbe483256347baa0c": {
      "model_module": "@jupyter-widgets/base",
      "model_module_version": "1.2.0",
      "model_name": "LayoutModel",
      "state": {}
     },
     "efdf7acf91664e18a633c385bb7c6d6f": {
      "model_module": "@jupyter-widgets/controls",
      "model_module_version": "1.5.0",
      "model_name": "DescriptionStyleModel",
      "state": {
       "description_width": ""
      }
     },
     "efed1072365f4fdd9951824bda2074d1": {
      "model_module": "@jupyter-widgets/base",
      "model_module_version": "1.2.0",
      "model_name": "LayoutModel",
      "state": {}
     },
     "f0014140bf4442c4b14194ab65710029": {
      "model_module": "@jupyter-widgets/base",
      "model_module_version": "1.2.0",
      "model_name": "LayoutModel",
      "state": {}
     },
     "f0121a9db44b47c48bb50171d9b5accd": {
      "model_module": "@jupyter-widgets/controls",
      "model_module_version": "1.5.0",
      "model_name": "ProgressStyleModel",
      "state": {
       "description_width": ""
      }
     },
     "f04e4a795a1b481ba5318e982a155146": {
      "model_module": "@jupyter-widgets/controls",
      "model_module_version": "1.5.0",
      "model_name": "HTMLModel",
      "state": {
       "layout": "IPY_MODEL_4e8e86452f8a43f69009a2477c7d5786",
       "style": "IPY_MODEL_9bca793cdadb48d8b74949c9dd9ae756",
       "value": " 1166/1166 [00:51&lt;00:00, 22.70it/s]"
      }
     },
     "f050ebdf44dd47ccaeac5e4c9b3c8b55": {
      "model_module": "@jupyter-widgets/controls",
      "model_module_version": "1.5.0",
      "model_name": "HTMLModel",
      "state": {
       "layout": "IPY_MODEL_cd015abcd4d4435b9f949f2074975aa6",
       "style": "IPY_MODEL_4d675e107f174c5a944493803a36e7b8",
       "value": " 1197/1197 [00:56&lt;00:00, 21.44it/s]"
      }
     },
     "f053499f794e4147866d0c27a7a797da": {
      "model_module": "@jupyter-widgets/controls",
      "model_module_version": "1.5.0",
      "model_name": "DescriptionStyleModel",
      "state": {
       "description_width": ""
      }
     },
     "f05d405619a24ebb90b118dbb809f0c0": {
      "model_module": "@jupyter-widgets/controls",
      "model_module_version": "1.5.0",
      "model_name": "HTMLModel",
      "state": {
       "layout": "IPY_MODEL_3c8b287cc24d4bb5b74d65caf6dab442",
       "style": "IPY_MODEL_51e89b8bd6a84e2ca00e5a6d4c7e89d5",
       "value": " 783/783 [00:36&lt;00:00, 21.29it/s]"
      }
     },
     "f09765675ab641989637495204dccc4d": {
      "model_module": "@jupyter-widgets/base",
      "model_module_version": "1.2.0",
      "model_name": "LayoutModel",
      "state": {}
     },
     "f0b2e64acf8b4f17ae6e7cd381ceb825": {
      "model_module": "@jupyter-widgets/controls",
      "model_module_version": "1.5.0",
      "model_name": "HTMLModel",
      "state": {
       "layout": "IPY_MODEL_b78eeeb76cf6426e8b08b68e97bb7371",
       "style": "IPY_MODEL_a4f0d3c460864839a91b05491f1d80cf",
       "value": " 805/805 [00:35&lt;00:00, 24.30it/s]"
      }
     },
     "f0b6b68c2c334b03bbb2d43f142e3565": {
      "model_module": "@jupyter-widgets/controls",
      "model_module_version": "1.5.0",
      "model_name": "HTMLModel",
      "state": {
       "layout": "IPY_MODEL_b45ed20d5d7c49079cd6d58482838951",
       "style": "IPY_MODEL_b1a023de0c4f435792baedf4ae3261be",
       "value": " 993/993 [00:46&lt;00:00, 20.57it/s]"
      }
     },
     "f1125ef3044f4a2ca1f9b433a7063396": {
      "model_module": "@jupyter-widgets/base",
      "model_module_version": "1.2.0",
      "model_name": "LayoutModel",
      "state": {}
     },
     "f1151225dea04f6b86a4219a7e4d388a": {
      "model_module": "@jupyter-widgets/controls",
      "model_module_version": "1.5.0",
      "model_name": "DescriptionStyleModel",
      "state": {
       "description_width": ""
      }
     },
     "f11b9975aaf5469aada4036af805c4fd": {
      "model_module": "@jupyter-widgets/controls",
      "model_module_version": "1.5.0",
      "model_name": "DescriptionStyleModel",
      "state": {
       "description_width": ""
      }
     },
     "f126791102a848869182320bd2fd3d37": {
      "model_module": "@jupyter-widgets/controls",
      "model_module_version": "1.5.0",
      "model_name": "DescriptionStyleModel",
      "state": {
       "description_width": ""
      }
     },
     "f13977a25bcd4244acbff660fb3ddb22": {
      "model_module": "@jupyter-widgets/controls",
      "model_module_version": "1.5.0",
      "model_name": "DescriptionStyleModel",
      "state": {
       "description_width": ""
      }
     },
     "f13b9e1a95254793ad42da129eb2bc17": {
      "model_module": "@jupyter-widgets/controls",
      "model_module_version": "1.5.0",
      "model_name": "HTMLModel",
      "state": {
       "layout": "IPY_MODEL_1f13e640be3f4ae49772d0b7f9f07344",
       "style": "IPY_MODEL_46fc81e2e23c4868b149b33ef5d68568",
       "value": "loss: 0.6759: 100%"
      }
     },
     "f183b30c65d34e4eb1b2992cd0fa7fbb": {
      "model_module": "@jupyter-widgets/base",
      "model_module_version": "1.2.0",
      "model_name": "LayoutModel",
      "state": {}
     },
     "f19e12e3ee04488cbe4bc9e109104bf9": {
      "model_module": "@jupyter-widgets/base",
      "model_module_version": "1.2.0",
      "model_name": "LayoutModel",
      "state": {}
     },
     "f1ba1ce0ff1b489a8400c3b4beaba516": {
      "model_module": "@jupyter-widgets/controls",
      "model_module_version": "1.5.0",
      "model_name": "DescriptionStyleModel",
      "state": {
       "description_width": ""
      }
     },
     "f1cfc8686e41496d8dcf957bac2ac6e4": {
      "model_module": "@jupyter-widgets/base",
      "model_module_version": "1.2.0",
      "model_name": "LayoutModel",
      "state": {}
     },
     "f2130b7ee0e945aaa049539675c7ac91": {
      "model_module": "@jupyter-widgets/base",
      "model_module_version": "1.2.0",
      "model_name": "LayoutModel",
      "state": {}
     },
     "f22b06e964684ef29db84c31c172333d": {
      "model_module": "@jupyter-widgets/controls",
      "model_module_version": "1.5.0",
      "model_name": "DescriptionStyleModel",
      "state": {
       "description_width": ""
      }
     },
     "f232898f8bf74e49b7ec4c7425705fa8": {
      "model_module": "@jupyter-widgets/controls",
      "model_module_version": "1.5.0",
      "model_name": "FloatProgressModel",
      "state": {
       "layout": "IPY_MODEL_1acb96c5b42340d4a9d4238ed4332ca6",
       "max": 1261,
       "style": "IPY_MODEL_6b2226b511404e4b905c7d621d600fcb",
       "value": 1261
      }
     },
     "f236a64fa506465abd6e4cc7d18898f4": {
      "model_module": "@jupyter-widgets/controls",
      "model_module_version": "1.5.0",
      "model_name": "HTMLModel",
      "state": {
       "layout": "IPY_MODEL_fd686d3bf3a74ac5b0ded299c565daba",
       "style": "IPY_MODEL_2fda9a2c00384160b755b0186a1acae2",
       "value": " 929/929 [00:41&lt;00:00, 22.55it/s]"
      }
     },
     "f23aca8f98964c71814b663b66135c5c": {
      "model_module": "@jupyter-widgets/controls",
      "model_module_version": "1.5.0",
      "model_name": "FloatProgressModel",
      "state": {
       "layout": "IPY_MODEL_3a47443044524d30b918ee5fa45bbb96",
       "max": 295,
       "style": "IPY_MODEL_89270d96a68a4562ba2cfde7f2aacf39",
       "value": 295
      }
     },
     "f2769389b32b4549971f62245ba26966": {
      "model_module": "@jupyter-widgets/base",
      "model_module_version": "1.2.0",
      "model_name": "LayoutModel",
      "state": {}
     },
     "f2c8ffef3e0a4bcd86fd8d818d2a566b": {
      "model_module": "@jupyter-widgets/controls",
      "model_module_version": "1.5.0",
      "model_name": "HTMLModel",
      "state": {
       "layout": "IPY_MODEL_ae1a183385e349078fc35dab02f163ac",
       "style": "IPY_MODEL_34d059e459084386a69c1e6592bd5822",
       "value": "100%"
      }
     },
     "f2e23d3e4dc346ac85e2e41f8d1d22d2": {
      "model_module": "@jupyter-widgets/controls",
      "model_module_version": "1.5.0",
      "model_name": "HTMLModel",
      "state": {
       "layout": "IPY_MODEL_2ee3d6af9934403f957bd71fd8ff37be",
       "style": "IPY_MODEL_3411bb73a51c40afb068ef88e16a313b",
       "value": " 0/1084 [1:58:37&lt;?, ?it/s]"
      }
     },
     "f2f0c6f4db9840cd85004090da0c45d1": {
      "model_module": "@jupyter-widgets/base",
      "model_module_version": "1.2.0",
      "model_name": "LayoutModel",
      "state": {}
     },
     "f30de9e559a14233becd8427ce4ce99f": {
      "model_module": "@jupyter-widgets/base",
      "model_module_version": "1.2.0",
      "model_name": "LayoutModel",
      "state": {}
     },
     "f30fb63d8e9b41e680d9d6ffb4bcf731": {
      "model_module": "@jupyter-widgets/controls",
      "model_module_version": "1.5.0",
      "model_name": "HTMLModel",
      "state": {
       "layout": "IPY_MODEL_623075ce18f94c61a9cc128e2d3bfdfc",
       "style": "IPY_MODEL_80dd7c39575a4382b1b95da52b481267",
       "value": "loss: 0.6305: 100%"
      }
     },
     "f334ea5426b24e039542bbd7230a97b3": {
      "model_module": "@jupyter-widgets/base",
      "model_module_version": "1.2.0",
      "model_name": "LayoutModel",
      "state": {}
     },
     "f34451767453473191b824533e7ddbfb": {
      "model_module": "@jupyter-widgets/controls",
      "model_module_version": "1.5.0",
      "model_name": "DescriptionStyleModel",
      "state": {
       "description_width": ""
      }
     },
     "f3539679afa44547a81eede08a6927d7": {
      "model_module": "@jupyter-widgets/base",
      "model_module_version": "1.2.0",
      "model_name": "LayoutModel",
      "state": {}
     },
     "f3714abdc83a411eb18c737e27076436": {
      "model_module": "@jupyter-widgets/base",
      "model_module_version": "1.2.0",
      "model_name": "LayoutModel",
      "state": {}
     },
     "f3aeab59ef6b41669c2bc14b05880860": {
      "model_module": "@jupyter-widgets/controls",
      "model_module_version": "1.5.0",
      "model_name": "FloatProgressModel",
      "state": {
       "layout": "IPY_MODEL_c8f56364b7794de286306444a0caa965",
       "max": 1084,
       "style": "IPY_MODEL_28bae12b123742caa5cd8f83d143e0ba",
       "value": 1084
      }
     },
     "f3b7a747593e4f249ca874c0497ac328": {
      "model_module": "@jupyter-widgets/controls",
      "model_module_version": "1.5.0",
      "model_name": "ProgressStyleModel",
      "state": {
       "description_width": ""
      }
     },
     "f3c1eb342ac7445fa6079fba4cd62c4f": {
      "model_module": "@jupyter-widgets/base",
      "model_module_version": "1.2.0",
      "model_name": "LayoutModel",
      "state": {}
     },
     "f3c5082684f14fa1a0f7995e4ceec779": {
      "model_module": "@jupyter-widgets/controls",
      "model_module_version": "1.5.0",
      "model_name": "ProgressStyleModel",
      "state": {
       "description_width": ""
      }
     },
     "f3d86c0418ed41348202c1d7aca70760": {
      "model_module": "@jupyter-widgets/controls",
      "model_module_version": "1.5.0",
      "model_name": "DescriptionStyleModel",
      "state": {
       "description_width": ""
      }
     },
     "f40777a61e204db58f3eb23284f53d9c": {
      "model_module": "@jupyter-widgets/base",
      "model_module_version": "1.2.0",
      "model_name": "LayoutModel",
      "state": {}
     },
     "f412b8daa4e742db9bfbd31101818c8b": {
      "model_module": "@jupyter-widgets/controls",
      "model_module_version": "1.5.0",
      "model_name": "FloatProgressModel",
      "state": {
       "layout": "IPY_MODEL_1ac93e0b998948a882ea61edcb0ca2df",
       "max": 229,
       "style": "IPY_MODEL_8219214a9acb4ec3bf93e62d3d85f534",
       "value": 229
      }
     },
     "f4333681333e447b963f274c19f3315c": {
      "model_module": "@jupyter-widgets/base",
      "model_module_version": "1.2.0",
      "model_name": "LayoutModel",
      "state": {}
     },
     "f44c39ebd5ab46398777a235aeb74e21": {
      "model_module": "@jupyter-widgets/base",
      "model_module_version": "1.2.0",
      "model_name": "LayoutModel",
      "state": {}
     },
     "f466f514bfba406ea9c3548923936529": {
      "model_module": "@jupyter-widgets/base",
      "model_module_version": "1.2.0",
      "model_name": "LayoutModel",
      "state": {}
     },
     "f478e3e94e244f1d88770fa0010fa4f0": {
      "model_module": "@jupyter-widgets/controls",
      "model_module_version": "1.5.0",
      "model_name": "HTMLModel",
      "state": {
       "layout": "IPY_MODEL_7268df3abe8445af96febd82c84a4047",
       "style": "IPY_MODEL_987aeb0eab704a6c98970af2d464ec18",
       "value": "100%"
      }
     },
     "f49e61ed877d498eb61e0e8ac2408670": {
      "model_module": "@jupyter-widgets/controls",
      "model_module_version": "1.5.0",
      "model_name": "HTMLModel",
      "state": {
       "layout": "IPY_MODEL_70523936da3f4408867eac1db82c1704",
       "style": "IPY_MODEL_c8d334c46af042f48b85449a26e88fb7",
       "value": " 238/238 [00:11&lt;00:00, 21.42it/s]"
      }
     },
     "f4aeade06d4f4ad6ace0a59b1c731259": {
      "model_module": "@jupyter-widgets/controls",
      "model_module_version": "1.5.0",
      "model_name": "DescriptionStyleModel",
      "state": {
       "description_width": ""
      }
     },
     "f4b76dc15da14d889c9a5799b2e08f68": {
      "model_module": "@jupyter-widgets/base",
      "model_module_version": "1.2.0",
      "model_name": "LayoutModel",
      "state": {}
     },
     "f4e0883450a5425fb8df887bf79a537c": {
      "model_module": "@jupyter-widgets/base",
      "model_module_version": "1.2.0",
      "model_name": "LayoutModel",
      "state": {}
     },
     "f4eab80cfe2944108faf1d34e5e9830f": {
      "model_module": "@jupyter-widgets/base",
      "model_module_version": "1.2.0",
      "model_name": "LayoutModel",
      "state": {}
     },
     "f5078c6276e244bdb424a28be66a9e8c": {
      "model_module": "@jupyter-widgets/base",
      "model_module_version": "1.2.0",
      "model_name": "LayoutModel",
      "state": {}
     },
     "f52267608c2c49b491fad4ebabd2f8fa": {
      "model_module": "@jupyter-widgets/base",
      "model_module_version": "1.2.0",
      "model_name": "LayoutModel",
      "state": {}
     },
     "f539d615a59f4e1383f4c2c4d3f82bde": {
      "model_module": "@jupyter-widgets/base",
      "model_module_version": "1.2.0",
      "model_name": "LayoutModel",
      "state": {}
     },
     "f5564731313b43ecbded895bc13673ea": {
      "model_module": "@jupyter-widgets/base",
      "model_module_version": "1.2.0",
      "model_name": "LayoutModel",
      "state": {}
     },
     "f55fbae13c894c61b41dd75426e583e0": {
      "model_module": "@jupyter-widgets/controls",
      "model_module_version": "1.5.0",
      "model_name": "ProgressStyleModel",
      "state": {
       "description_width": ""
      }
     },
     "f56e7e5f93264d6aaff9edb22afe2b82": {
      "model_module": "@jupyter-widgets/base",
      "model_module_version": "1.2.0",
      "model_name": "LayoutModel",
      "state": {}
     },
     "f58005b3dde8416a8e348c5a718465c0": {
      "model_module": "@jupyter-widgets/controls",
      "model_module_version": "1.5.0",
      "model_name": "FloatProgressModel",
      "state": {
       "layout": "IPY_MODEL_9de5a14609c044879cb6ba49dacefc62",
       "max": 1229,
       "style": "IPY_MODEL_b1fe9c9f9513445c90cfe99047f26a19",
       "value": 1229
      }
     },
     "f5bd027c063846c69ef5e9080b15647f": {
      "model_module": "@jupyter-widgets/controls",
      "model_module_version": "1.5.0",
      "model_name": "DescriptionStyleModel",
      "state": {
       "description_width": ""
      }
     },
     "f5c1b5cd89bf49f59bdcb2d3a9f58a9e": {
      "model_module": "@jupyter-widgets/controls",
      "model_module_version": "1.5.0",
      "model_name": "HTMLModel",
      "state": {
       "layout": "IPY_MODEL_6cedb7ed252d4312984db9a265e4c35c",
       "style": "IPY_MODEL_78f17b1879d74f94bbc023948ea6fb44",
       "value": "100%"
      }
     },
     "f5cc03bcf647442b8edcc283ff6bfa9c": {
      "model_module": "@jupyter-widgets/controls",
      "model_module_version": "1.5.0",
      "model_name": "DescriptionStyleModel",
      "state": {
       "description_width": ""
      }
     },
     "f5cd0da2c7e742a18e00c75b659723b5": {
      "model_module": "@jupyter-widgets/base",
      "model_module_version": "1.2.0",
      "model_name": "LayoutModel",
      "state": {}
     },
     "f5d60fd8475849398d5b474349b8bbeb": {
      "model_module": "@jupyter-widgets/base",
      "model_module_version": "1.2.0",
      "model_name": "LayoutModel",
      "state": {}
     },
     "f63fa25b414b4cc9b5021c65904c3caa": {
      "model_module": "@jupyter-widgets/base",
      "model_module_version": "1.2.0",
      "model_name": "LayoutModel",
      "state": {}
     },
     "f64d69c863ce491496bba028e1ef68e9": {
      "model_module": "@jupyter-widgets/base",
      "model_module_version": "1.2.0",
      "model_name": "LayoutModel",
      "state": {}
     },
     "f67ee174f4364510a26b8f4e62aca876": {
      "model_module": "@jupyter-widgets/controls",
      "model_module_version": "1.5.0",
      "model_name": "DescriptionStyleModel",
      "state": {
       "description_width": ""
      }
     },
     "f69ed9f8e06248688869b6a5c92652e9": {
      "model_module": "@jupyter-widgets/base",
      "model_module_version": "1.2.0",
      "model_name": "LayoutModel",
      "state": {}
     },
     "f71eaa4ed4d24907aa4ab17fe8cad833": {
      "model_module": "@jupyter-widgets/base",
      "model_module_version": "1.2.0",
      "model_name": "LayoutModel",
      "state": {}
     },
     "f77837bbd637468f84636fff4be448e3": {
      "model_module": "@jupyter-widgets/controls",
      "model_module_version": "1.5.0",
      "model_name": "ProgressStyleModel",
      "state": {
       "description_width": ""
      }
     },
     "f7b0ddb0c79a4fce9752d73c35a0c169": {
      "model_module": "@jupyter-widgets/controls",
      "model_module_version": "1.5.0",
      "model_name": "FloatProgressModel",
      "state": {
       "layout": "IPY_MODEL_e3b08befbb684b4aa32f4818d4fc635f",
       "max": 235,
       "style": "IPY_MODEL_969d73800b2c4019ab242848508b7486",
       "value": 235
      }
     },
     "f7c243cf052d4684b5cc610931d36052": {
      "model_module": "@jupyter-widgets/base",
      "model_module_version": "1.2.0",
      "model_name": "LayoutModel",
      "state": {}
     },
     "f7c479969da245e89f6ac9411bc7fd8e": {
      "model_module": "@jupyter-widgets/controls",
      "model_module_version": "1.5.0",
      "model_name": "DescriptionStyleModel",
      "state": {
       "description_width": ""
      }
     },
     "f7cbbe2a3eca495aac73baee1a5f5581": {
      "model_module": "@jupyter-widgets/controls",
      "model_module_version": "1.5.0",
      "model_name": "HTMLModel",
      "state": {
       "layout": "IPY_MODEL_8783d02434b6461fb2c10bf9618e4dcb",
       "style": "IPY_MODEL_aa28bd6c62614506babf2ea3723b8d87",
       "value": "loss: 0.8628: 100%"
      }
     },
     "f7d526e7975a4e22a6a4fb6d483a599a": {
      "model_module": "@jupyter-widgets/controls",
      "model_module_version": "1.5.0",
      "model_name": "FloatProgressModel",
      "state": {
       "layout": "IPY_MODEL_9f029765078d4f20bd9c3cf8b5901f15",
       "max": 1084,
       "style": "IPY_MODEL_50b546ed04a845f99f4ebcd6519d10bf",
       "value": 1084
      }
     },
     "f7e3349d80cf471fad45c1d858794c8a": {
      "model_module": "@jupyter-widgets/controls",
      "model_module_version": "1.5.0",
      "model_name": "HTMLModel",
      "state": {
       "layout": "IPY_MODEL_29a8fbc699a24ad2833f06cdad9c61ff",
       "style": "IPY_MODEL_de8aa533c24d426e8799f2cd25ce70c8",
       "value": " 1037/1037 [00:47&lt;00:00, 20.88it/s]"
      }
     },
     "f7e5857cc50545e1a250aa7f88dbeea3": {
      "model_module": "@jupyter-widgets/controls",
      "model_module_version": "1.5.0",
      "model_name": "HTMLModel",
      "state": {
       "layout": "IPY_MODEL_1bc7187b57cc427b9620b1ec6ee4f588",
       "style": "IPY_MODEL_ad7157467aa24f42adf747701e50c384",
       "value": " 247/247 [00:10&lt;00:00, 24.31it/s]"
      }
     },
     "f7f8e5d090d7404594333d5c43e0448a": {
      "model_module": "@jupyter-widgets/controls",
      "model_module_version": "1.5.0",
      "model_name": "FloatProgressModel",
      "state": {
       "layout": "IPY_MODEL_0958ec7f0c5c454ea6bc7b38698e8d5a",
       "max": 1181,
       "style": "IPY_MODEL_0e3e4a293e284f6ca794b0f489b7cb02",
       "value": 1181
      }
     },
     "f7fab24893464c32a2d1800fda24bebf": {
      "model_module": "@jupyter-widgets/controls",
      "model_module_version": "1.5.0",
      "model_name": "HTMLModel",
      "state": {
       "layout": "IPY_MODEL_5bab911ae28a4d6ebaec306c82156eda",
       "style": "IPY_MODEL_5127fa30beb44bb68bcc3c4b98a29316",
       "value": " 306/306 [00:14&lt;00:00, 21.84it/s]"
      }
     },
     "f7ff9ed857884857afac3b34277d7017": {
      "model_module": "@jupyter-widgets/base",
      "model_module_version": "1.2.0",
      "model_name": "LayoutModel",
      "state": {}
     },
     "f8648469f4564d68a9da171492f29a5d": {
      "model_module": "@jupyter-widgets/controls",
      "model_module_version": "1.5.0",
      "model_name": "DescriptionStyleModel",
      "state": {
       "description_width": ""
      }
     },
     "f8709e1ab49646eab37392a3f79e1c02": {
      "model_module": "@jupyter-widgets/base",
      "model_module_version": "1.2.0",
      "model_name": "LayoutModel",
      "state": {}
     },
     "f8af9c297f2c43f384873361467a06a1": {
      "model_module": "@jupyter-widgets/base",
      "model_module_version": "1.2.0",
      "model_name": "LayoutModel",
      "state": {}
     },
     "f8e3605a3357432d9efd171427b901dc": {
      "model_module": "@jupyter-widgets/controls",
      "model_module_version": "1.5.0",
      "model_name": "HTMLModel",
      "state": {
       "layout": "IPY_MODEL_ca08a6ef0e964180879b44ff79858a9c",
       "style": "IPY_MODEL_645905c07d054034b470e01db0357ce4",
       "value": " 1217/1217 [00:54&lt;00:00, 21.57it/s]"
      }
     },
     "f8e40d87127d4649b389f37528aafcca": {
      "model_module": "@jupyter-widgets/controls",
      "model_module_version": "1.5.0",
      "model_name": "FloatProgressModel",
      "state": {
       "layout": "IPY_MODEL_40397d26ef5149118c7672eb4e893a22",
       "max": 1166,
       "style": "IPY_MODEL_e30dd489423a4d10ab7131d7232b1719",
       "value": 1166
      }
     },
     "f907f37a056d4b31a35cb31671c2b1b9": {
      "model_module": "@jupyter-widgets/controls",
      "model_module_version": "1.5.0",
      "model_name": "ProgressStyleModel",
      "state": {
       "description_width": ""
      }
     },
     "f91b6bef6db245c09cf77b8e61681b69": {
      "model_module": "@jupyter-widgets/controls",
      "model_module_version": "1.5.0",
      "model_name": "DescriptionStyleModel",
      "state": {
       "description_width": ""
      }
     },
     "f96147f33c78468ab0f4961da6b9411e": {
      "model_module": "@jupyter-widgets/controls",
      "model_module_version": "1.5.0",
      "model_name": "FloatProgressModel",
      "state": {
       "layout": "IPY_MODEL_10f150d2d81a41079f6b501ee71cd6b6",
       "max": 1216,
       "style": "IPY_MODEL_0a5da55ff7aa4f7ab06e33016e44ab6e",
       "value": 1216
      }
     },
     "f9627365b90d4f9d8a56fb2a764d565e": {
      "model_module": "@jupyter-widgets/controls",
      "model_module_version": "1.5.0",
      "model_name": "FloatProgressModel",
      "state": {
       "layout": "IPY_MODEL_7805b34257c7411c80f4c34bf062f6e2",
       "max": 783,
       "style": "IPY_MODEL_2443de686cab4377ae846c5a001afe58",
       "value": 783
      }
     },
     "f98525707bce4eeb8f49d25ed578c1a1": {
      "model_module": "@jupyter-widgets/controls",
      "model_module_version": "1.5.0",
      "model_name": "DescriptionStyleModel",
      "state": {
       "description_width": ""
      }
     },
     "f985a88427c24ef1aa72e0a813282b92": {
      "model_module": "@jupyter-widgets/controls",
      "model_module_version": "1.5.0",
      "model_name": "DescriptionStyleModel",
      "state": {
       "description_width": ""
      }
     },
     "f996b9c729d948f18f59a6bc21cd8ecb": {
      "model_module": "@jupyter-widgets/controls",
      "model_module_version": "1.5.0",
      "model_name": "HTMLModel",
      "state": {
       "layout": "IPY_MODEL_c1b0b87446744569842a5a7f054b47eb",
       "style": "IPY_MODEL_5ef44824f60c44beb818b5239db289fd",
       "value": " 1084/1084 [00:51&lt;00:00, 21.32it/s]"
      }
     },
     "f9a2c6e20efc4fc584d4b3ccfe4408e1": {
      "model_module": "@jupyter-widgets/base",
      "model_module_version": "1.2.0",
      "model_name": "LayoutModel",
      "state": {}
     },
     "f9b41ece5e154ed7966a0bb4c5b1ef01": {
      "model_module": "@jupyter-widgets/controls",
      "model_module_version": "1.5.0",
      "model_name": "FloatProgressModel",
      "state": {
       "layout": "IPY_MODEL_54cd4c00722343289744b3759cd6f2c7",
       "max": 1193,
       "style": "IPY_MODEL_d9a3ca640db54e4cb4e56d3ec75001e0",
       "value": 1193
      }
     },
     "f9b76cfb76394ed99553a1dba275e997": {
      "model_module": "@jupyter-widgets/base",
      "model_module_version": "1.2.0",
      "model_name": "LayoutModel",
      "state": {}
     },
     "f9cd90a643684793a4841728a8c9b8bd": {
      "model_module": "@jupyter-widgets/base",
      "model_module_version": "1.2.0",
      "model_name": "LayoutModel",
      "state": {}
     },
     "f9ff156bbd02415782d26abaf341a719": {
      "model_module": "@jupyter-widgets/controls",
      "model_module_version": "1.5.0",
      "model_name": "HTMLModel",
      "state": {
       "layout": "IPY_MODEL_8b39fdde29d1480c833897e81442c25d",
       "style": "IPY_MODEL_f98525707bce4eeb8f49d25ed578c1a1",
       "value": " 1252/1252 [00:55&lt;00:00, 22.57it/s]"
      }
     },
     "fa168aaa4a3d4b41b611d289b68b1cbb": {
      "model_module": "@jupyter-widgets/controls",
      "model_module_version": "1.5.0",
      "model_name": "HTMLModel",
      "state": {
       "layout": "IPY_MODEL_af7bbc6a23924ab798b3e6839f553702",
       "style": "IPY_MODEL_45a839d4f7d2448d8d777baac512f647",
       "value": "100%"
      }
     },
     "fa2ee2cd9d8143b8b110eb9dc8808339": {
      "model_module": "@jupyter-widgets/base",
      "model_module_version": "1.2.0",
      "model_name": "LayoutModel",
      "state": {}
     },
     "fa2faebb6b184927b84039f9623f0781": {
      "model_module": "@jupyter-widgets/base",
      "model_module_version": "1.2.0",
      "model_name": "LayoutModel",
      "state": {}
     },
     "fa4eeabb977145e8a6b64b4a4d1d4dd8": {
      "model_module": "@jupyter-widgets/controls",
      "model_module_version": "1.5.0",
      "model_name": "HTMLModel",
      "state": {
       "layout": "IPY_MODEL_bb5dadfb4a02474f93fa226eb55e45a8",
       "style": "IPY_MODEL_3481fd52dc344c959d3649f6f25e0be8",
       "value": "loss: 0.6620: 100%"
      }
     },
     "fa76076ef2b64c4e81fa4df53efa9b3d": {
      "model_module": "@jupyter-widgets/controls",
      "model_module_version": "1.5.0",
      "model_name": "HTMLModel",
      "state": {
       "layout": "IPY_MODEL_3ef1b58b2fed4bc78fa2db95a10eaad0",
       "style": "IPY_MODEL_96459b815a5e4607998053289704fa0d",
       "value": " 1067/1067 [00:43&lt;00:00, 24.19it/s]"
      }
     },
     "fa77585ce59049c7b946948af8e8be65": {
      "model_module": "@jupyter-widgets/controls",
      "model_module_version": "1.5.0",
      "model_name": "DescriptionStyleModel",
      "state": {
       "description_width": ""
      }
     },
     "fad7627a421544e5978bcac59e14a536": {
      "model_module": "@jupyter-widgets/controls",
      "model_module_version": "1.5.0",
      "model_name": "HTMLModel",
      "state": {
       "layout": "IPY_MODEL_1d8a216eb66e4592b24306dba87f9863",
       "style": "IPY_MODEL_1391fb8ace4948dd8dfffba5ed705c43",
       "value": "loss: 0.6642: 100%"
      }
     },
     "fada12ade0624502ad45bb2d0ffb3940": {
      "model_module": "@jupyter-widgets/controls",
      "model_module_version": "1.5.0",
      "model_name": "HTMLModel",
      "state": {
       "layout": "IPY_MODEL_7e49ac82a0544c5b8b02972cbfe06d22",
       "style": "IPY_MODEL_f67ee174f4364510a26b8f4e62aca876",
       "value": "loss: 0.5731: 100%"
      }
     },
     "fae1703a6292486c81f7e9e6fe810604": {
      "model_module": "@jupyter-widgets/base",
      "model_module_version": "1.2.0",
      "model_name": "LayoutModel",
      "state": {}
     },
     "fae1ba4375454fafad4dce2474b1d7d1": {
      "model_module": "@jupyter-widgets/base",
      "model_module_version": "1.2.0",
      "model_name": "LayoutModel",
      "state": {}
     },
     "fb193c22699b4f4b93ee912806a88b6f": {
      "model_module": "@jupyter-widgets/base",
      "model_module_version": "1.2.0",
      "model_name": "LayoutModel",
      "state": {}
     },
     "fb40e42e720c41c290720ee022d98378": {
      "model_module": "@jupyter-widgets/base",
      "model_module_version": "1.2.0",
      "model_name": "LayoutModel",
      "state": {}
     },
     "fb42a4cc2e9444cb9427572c6611b0e4": {
      "model_module": "@jupyter-widgets/base",
      "model_module_version": "1.2.0",
      "model_name": "LayoutModel",
      "state": {}
     },
     "fb470ca530ef49e78d3f6198e174a432": {
      "model_module": "@jupyter-widgets/controls",
      "model_module_version": "1.5.0",
      "model_name": "FloatProgressModel",
      "state": {
       "layout": "IPY_MODEL_6b8a0547389545ea8a4ac67923088b77",
       "max": 1229,
       "style": "IPY_MODEL_b7a0015e02cb4075b4f9cff54c9aec30",
       "value": 1229
      }
     },
     "fb69d525cac54ab3b96ba9fb1674460a": {
      "model_module": "@jupyter-widgets/base",
      "model_module_version": "1.2.0",
      "model_name": "LayoutModel",
      "state": {}
     },
     "fb84642495554a648678eff3b8304da3": {
      "model_module": "@jupyter-widgets/controls",
      "model_module_version": "1.5.0",
      "model_name": "DescriptionStyleModel",
      "state": {
       "description_width": ""
      }
     },
     "fb89904376444cf992d62198b343d3d8": {
      "model_module": "@jupyter-widgets/base",
      "model_module_version": "1.2.0",
      "model_name": "LayoutModel",
      "state": {}
     },
     "fb8a3fb436384cf2b9c77e13cecd106c": {
      "model_module": "@jupyter-widgets/controls",
      "model_module_version": "1.5.0",
      "model_name": "HTMLModel",
      "state": {
       "layout": "IPY_MODEL_2a2ac248dfb54843afe0b2e46a3efde7",
       "style": "IPY_MODEL_8867dd5974e940d4a4626006da44dda5",
       "value": " 1115/1115 [00:46&lt;00:00, 23.98it/s]"
      }
     },
     "fbafe7ff669f41c686cd12362ac75a3d": {
      "model_module": "@jupyter-widgets/base",
      "model_module_version": "1.2.0",
      "model_name": "LayoutModel",
      "state": {}
     },
     "fbc37f65cc014df8966030ab321e70bc": {
      "model_module": "@jupyter-widgets/controls",
      "model_module_version": "1.5.0",
      "model_name": "DescriptionStyleModel",
      "state": {
       "description_width": ""
      }
     },
     "fbd15587fa494b039d699a47096f4fe5": {
      "model_module": "@jupyter-widgets/controls",
      "model_module_version": "1.5.0",
      "model_name": "HTMLModel",
      "state": {
       "layout": "IPY_MODEL_909c777700ac41a08b967b6738208143",
       "style": "IPY_MODEL_5ee976539889485d9abd1ba9c523c1da",
       "value": " 1084/1084 [00:51&lt;00:00, 21.17it/s]"
      }
     },
     "fc269f6db7aa4fd9ac6914efbc1b884a": {
      "model_module": "@jupyter-widgets/base",
      "model_module_version": "1.2.0",
      "model_name": "LayoutModel",
      "state": {}
     },
     "fc38f0941b61438cb6fcb15f34f7d144": {
      "model_module": "@jupyter-widgets/controls",
      "model_module_version": "1.5.0",
      "model_name": "HTMLModel",
      "state": {
       "layout": "IPY_MODEL_b28afd0cd5dc46ab88bb005ef8509cc9",
       "style": "IPY_MODEL_86e8c9d2d3c0452dbc9185167aac48f2",
       "value": " 1224/1224 [00:50&lt;00:00, 24.26it/s]"
      }
     },
     "fc3b379a09a54e278fdb0dd79f355833": {
      "model_module": "@jupyter-widgets/controls",
      "model_module_version": "1.5.0",
      "model_name": "HTMLModel",
      "state": {
       "layout": "IPY_MODEL_cbcecf0b294e45108482357a822c87ca",
       "style": "IPY_MODEL_e61549c587e34bb08d91f1ac8611c142",
       "value": "loss: 0.6309: 100%"
      }
     },
     "fc4bc582fd8f4ca18ef9056b72aee6da": {
      "model_module": "@jupyter-widgets/base",
      "model_module_version": "1.2.0",
      "model_name": "LayoutModel",
      "state": {}
     },
     "fc791dd5c48a445f8a59dcaa10ebb556": {
      "model_module": "@jupyter-widgets/controls",
      "model_module_version": "1.5.0",
      "model_name": "DescriptionStyleModel",
      "state": {
       "description_width": ""
      }
     },
     "fc91911196994e98a827caff361304c1": {
      "model_module": "@jupyter-widgets/base",
      "model_module_version": "1.2.0",
      "model_name": "LayoutModel",
      "state": {}
     },
     "fc9af490b6d04971ae27be292d55ca9c": {
      "model_module": "@jupyter-widgets/controls",
      "model_module_version": "1.5.0",
      "model_name": "DescriptionStyleModel",
      "state": {
       "description_width": ""
      }
     },
     "fc9bd68208374120856ab9716840e362": {
      "model_module": "@jupyter-widgets/controls",
      "model_module_version": "1.5.0",
      "model_name": "HTMLModel",
      "state": {
       "layout": "IPY_MODEL_8f93f8e15c43460b8cc79c86610f88c2",
       "style": "IPY_MODEL_c7a67af73fb54aeabbbffe6266fe7e7c",
       "value": " 1656/1656 [01:11&lt;00:00, 23.29it/s]"
      }
     },
     "fcda5479b40c4349b56ab428b64d40b4": {
      "model_module": "@jupyter-widgets/controls",
      "model_module_version": "1.5.0",
      "model_name": "HTMLModel",
      "state": {
       "layout": "IPY_MODEL_9e93fe6c1b42489cac3ad05818a210b7",
       "style": "IPY_MODEL_f13977a25bcd4244acbff660fb3ddb22",
       "value": "loss: 0.6746: 100%"
      }
     },
     "fcde11f8e50443a59c32497685a669b1": {
      "model_module": "@jupyter-widgets/controls",
      "model_module_version": "1.5.0",
      "model_name": "DescriptionStyleModel",
      "state": {
       "description_width": ""
      }
     },
     "fce0ca95dea34a4895b398b5ee6c65f3": {
      "model_module": "@jupyter-widgets/controls",
      "model_module_version": "1.5.0",
      "model_name": "FloatProgressModel",
      "state": {
       "layout": "IPY_MODEL_2e82ffe728924e218dce073e7f4e43b0",
       "max": 1445,
       "style": "IPY_MODEL_74ef21f37e6a42d7bbef6b23ce9076f8",
       "value": 1445
      }
     },
     "fcec374402dd43a2b8692ed2a6218122": {
      "model_module": "@jupyter-widgets/controls",
      "model_module_version": "1.5.0",
      "model_name": "DescriptionStyleModel",
      "state": {
       "description_width": ""
      }
     },
     "fd138bdb47a84f44a9f7191f795539d4": {
      "model_module": "@jupyter-widgets/controls",
      "model_module_version": "1.5.0",
      "model_name": "HTMLModel",
      "state": {
       "layout": "IPY_MODEL_09676a2c0641433c9ee82e1d3b7c276a",
       "style": "IPY_MODEL_944564f6cdfb4b6bb6bb0fe31d37cc84",
       "value": " 1149/1149 [00:54&lt;00:00, 21.04it/s]"
      }
     },
     "fd2a491b850b414198be99248de8f12e": {
      "model_module": "@jupyter-widgets/base",
      "model_module_version": "1.2.0",
      "model_name": "LayoutModel",
      "state": {}
     },
     "fd2c60dd735b496db248984c64bee83c": {
      "model_module": "@jupyter-widgets/base",
      "model_module_version": "1.2.0",
      "model_name": "LayoutModel",
      "state": {}
     },
     "fd2e161dbdef46738017b9f6cab8edf7": {
      "model_module": "@jupyter-widgets/controls",
      "model_module_version": "1.5.0",
      "model_name": "HTMLModel",
      "state": {
       "layout": "IPY_MODEL_2b11f38719334a08a98420ad93960fa5",
       "style": "IPY_MODEL_240e4e39c3834c0a872e71cdd1bdb0f6",
       "value": "100%"
      }
     },
     "fd41df6c6dac4f7988f1f6f4c106bd91": {
      "model_module": "@jupyter-widgets/controls",
      "model_module_version": "1.5.0",
      "model_name": "FloatProgressModel",
      "state": {
       "layout": "IPY_MODEL_ca9c84860ff540cd9a8c49535d759916",
       "max": 1115,
       "style": "IPY_MODEL_33ad885705424c56837152db24fd1af3",
       "value": 1115
      }
     },
     "fd498c5e77cc4568a09d851392fac1ea": {
      "model_module": "@jupyter-widgets/controls",
      "model_module_version": "1.5.0",
      "model_name": "HTMLModel",
      "state": {
       "layout": "IPY_MODEL_b76390cd333848bb8b0032bf8472fc67",
       "style": "IPY_MODEL_6e841ab6e1b449de9e297c906f828c20",
       "value": " 1193/1193 [00:55&lt;00:00, 22.92it/s]"
      }
     },
     "fd52eecd4a7a43a6af6a6e3496657e8c": {
      "model_module": "@jupyter-widgets/base",
      "model_module_version": "1.2.0",
      "model_name": "LayoutModel",
      "state": {}
     },
     "fd681dbbf15041129b417d1a65089a2b": {
      "model_module": "@jupyter-widgets/controls",
      "model_module_version": "1.5.0",
      "model_name": "DescriptionStyleModel",
      "state": {
       "description_width": ""
      }
     },
     "fd686d3bf3a74ac5b0ded299c565daba": {
      "model_module": "@jupyter-widgets/base",
      "model_module_version": "1.2.0",
      "model_name": "LayoutModel",
      "state": {}
     },
     "fd7b7888a262414c8a6cd9cdf5320960": {
      "model_module": "@jupyter-widgets/controls",
      "model_module_version": "1.5.0",
      "model_name": "FloatProgressModel",
      "state": {
       "layout": "IPY_MODEL_124c6ea213694ee5a75248cb61e49781",
       "max": 1084,
       "style": "IPY_MODEL_cf4973b1f0da42ae98e487411c3ef5d6",
       "value": 1084
      }
     },
     "fd7d3a12a055430982f0be4df5ae3ec2": {
      "model_module": "@jupyter-widgets/base",
      "model_module_version": "1.2.0",
      "model_name": "LayoutModel",
      "state": {}
     },
     "fd98597cccff45daa8050a95312aa1dd": {
      "model_module": "@jupyter-widgets/controls",
      "model_module_version": "1.5.0",
      "model_name": "DescriptionStyleModel",
      "state": {
       "description_width": ""
      }
     },
     "fdfec0e5a5334f1ea0fa86ca1b66bf9b": {
      "model_module": "@jupyter-widgets/controls",
      "model_module_version": "1.5.0",
      "model_name": "DescriptionStyleModel",
      "state": {
       "description_width": ""
      }
     },
     "fe20ae37e7c44fdb880a85e23b9ca5b6": {
      "model_module": "@jupyter-widgets/controls",
      "model_module_version": "1.5.0",
      "model_name": "FloatProgressModel",
      "state": {
       "layout": "IPY_MODEL_f539d615a59f4e1383f4c2c4d3f82bde",
       "max": 993,
       "style": "IPY_MODEL_71ecf58240844fc4977229d610ad8c6d",
       "value": 993
      }
     },
     "fe9aea20eb2043f2840c148eac0b587a": {
      "model_module": "@jupyter-widgets/controls",
      "model_module_version": "1.5.0",
      "model_name": "HTMLModel",
      "state": {
       "layout": "IPY_MODEL_0d624d505d524c6982252132467bb3f4",
       "style": "IPY_MODEL_f4aeade06d4f4ad6ace0a59b1c731259",
       "value": " 806/806 [00:34&lt;00:00, 23.41it/s]"
      }
     },
     "feff719842c34eac837c34c71837c3f4": {
      "model_module": "@jupyter-widgets/base",
      "model_module_version": "1.2.0",
      "model_name": "LayoutModel",
      "state": {}
     },
     "ff26b5e0576d4d8aaea156613236ed12": {
      "model_module": "@jupyter-widgets/base",
      "model_module_version": "1.2.0",
      "model_name": "LayoutModel",
      "state": {}
     },
     "ff2b332fae4c4fcea4b730dc1765da95": {
      "model_module": "@jupyter-widgets/controls",
      "model_module_version": "1.5.0",
      "model_name": "FloatProgressModel",
      "state": {
       "layout": "IPY_MODEL_7ee25bc7d08a4c9184c603df0e681a06",
       "max": 1261,
       "style": "IPY_MODEL_be6083adb5c94bcb9c2aab9f1d965001",
       "value": 1261
      }
     },
     "ff3ca48129144f4a98cde73126c03cb4": {
      "model_module": "@jupyter-widgets/base",
      "model_module_version": "1.2.0",
      "model_name": "LayoutModel",
      "state": {}
     },
     "ff4e5f44b3da4d7d85d1d530070aaae4": {
      "model_module": "@jupyter-widgets/controls",
      "model_module_version": "1.5.0",
      "model_name": "HTMLModel",
      "state": {
       "layout": "IPY_MODEL_0b32beae983c4a9d9b1118acb73dea8d",
       "style": "IPY_MODEL_1f9f5491548b4df0b899cd63d844e138",
       "value": " 1024/1024 [00:42&lt;00:00, 23.63it/s]"
      }
     },
     "ff74b9fd76d94aa5a7c3339306722bec": {
      "model_module": "@jupyter-widgets/controls",
      "model_module_version": "1.5.0",
      "model_name": "HTMLModel",
      "state": {
       "layout": "IPY_MODEL_8f7a14eb56704059be6298f5145e45ac",
       "style": "IPY_MODEL_a85120fc5b3d4d86a4a2e940447378b0",
       "value": " 1218/1218 [00:52&lt;00:00, 23.37it/s]"
      }
     },
     "ff7c5e3cd0c7481e80aad8b682abbc75": {
      "model_module": "@jupyter-widgets/controls",
      "model_module_version": "1.5.0",
      "model_name": "HTMLModel",
      "state": {
       "layout": "IPY_MODEL_240ecb693b9e4ede853a25ce0723b18b",
       "style": "IPY_MODEL_c74a4e29e1ab4feda90d97b92e8e5529",
       "value": "100%"
      }
     },
     "ff8b06345c4d4f44a835a58f5119edd9": {
      "model_module": "@jupyter-widgets/controls",
      "model_module_version": "1.5.0",
      "model_name": "HTMLModel",
      "state": {
       "layout": "IPY_MODEL_3e5ef2d72f734877aff2fa4a2f711023",
       "style": "IPY_MODEL_465abe2803f44befa212e0867bd05fac",
       "value": " 1252/1252 [00:55&lt;00:00, 22.76it/s]"
      }
     },
     "ffc8e328576846c1b1a613a5a44c0dc2": {
      "model_module": "@jupyter-widgets/controls",
      "model_module_version": "1.5.0",
      "model_name": "HTMLModel",
      "state": {
       "layout": "IPY_MODEL_a049638e03404f629e9ba836ffce3344",
       "style": "IPY_MODEL_c150bd8a821e486597bf7520d1fdbbe5",
       "value": "100%"
      }
     },
     "ffe05bf273554a44ad6abff0108a0cba": {
      "model_module": "@jupyter-widgets/controls",
      "model_module_version": "1.5.0",
      "model_name": "HTMLModel",
      "state": {
       "layout": "IPY_MODEL_c40f7e8962fe495e9729afd47e0dcf95",
       "style": "IPY_MODEL_cbf7e8ef861c494aa59a2c35fde335e3",
       "value": "100%"
      }
     }
    },
    "version_major": 2,
    "version_minor": 0
   }
  }
 },
 "nbformat": 4,
 "nbformat_minor": 5
}
