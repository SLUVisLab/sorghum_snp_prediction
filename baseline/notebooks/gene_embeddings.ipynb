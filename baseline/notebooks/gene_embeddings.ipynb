{
 "cells": [
  {
   "cell_type": "code",
   "execution_count": 1,
   "metadata": {},
   "outputs": [],
   "source": [
    "cd ../"
   ]
  },
  {
   "cell_type": "code",
   "execution_count": 2,
   "metadata": {},
   "outputs": [
    {
     "name": "stdout",
     "output_type": "stream",
     "text": [
      "Wed May 31 18:37:49 2023       \n",
      "+-----------------------------------------------------------------------------+\n",
      "| NVIDIA-SMI 515.65.01    Driver Version: 515.65.01    CUDA Version: 11.7     |\n",
      "|-------------------------------+----------------------+----------------------+\n",
      "| GPU  Name        Persistence-M| Bus-Id        Disp.A | Volatile Uncorr. ECC |\n",
      "| Fan  Temp  Perf  Pwr:Usage/Cap|         Memory-Usage | GPU-Util  Compute M. |\n",
      "|                               |                      |               MIG M. |\n",
      "|===============================+======================+======================|\n",
      "|   0  Tesla P100-PCIE...  Off  | 00000000:02:00.0 Off |                    0 |\n",
      "| N/A   28C    P0    25W / 250W |      0MiB / 16384MiB |      0%      Default |\n",
      "|                               |                      |                  N/A |\n",
      "+-------------------------------+----------------------+----------------------+\n",
      "|   1  Tesla P100-PCIE...  Off  | 00000000:82:00.0 Off |                    0 |\n",
      "| N/A   28C    P0    31W / 250W |  13585MiB / 16384MiB |      0%      Default |\n",
      "|                               |                      |                  N/A |\n",
      "+-------------------------------+----------------------+----------------------+\n",
      "                                                                               \n",
      "+-----------------------------------------------------------------------------+\n",
      "| Processes:                                                                  |\n",
      "|  GPU   GI   CI        PID   Type   Process name                  GPU Memory |\n",
      "|        ID   ID                                                   Usage      |\n",
      "|=============================================================================|\n",
      "|    1   N/A  N/A     21455      C   ...3/envs/pytorch/bin/python    13583MiB |\n",
      "+-----------------------------------------------------------------------------+\n"
     ]
    }
   ],
   "source": [
    "!nvidia-smi"
   ]
  },
  {
   "cell_type": "code",
   "execution_count": 4,
   "metadata": {},
   "outputs": [],
   "source": [
    "import os\n",
    "os.environ['CUDA_DEVICE_ORDER'] = 'PCI_BUS_ID'\n",
    "os.environ['CUDA_VISIBLE_DEVICES'] = '0'\n",
    "import torch\n",
    "from torch.utils.data import DataLoader\n",
    "from genetic_marker_dataset import GeneImageDataset\n",
    "from torchvision import transforms\n",
    "from experimental.network.embedding import SoftmaxEmbeddingNet\n",
    "from tqdm.auto import tqdm"
   ]
  },
  {
   "cell_type": "markdown",
   "metadata": {
    "tags": []
   },
   "source": [
    "# RGB"
   ]
  },
  {
   "cell_type": "code",
   "execution_count": 5,
   "metadata": {},
   "outputs": [],
   "source": [
    "image_transform = transforms.Compose([transforms.CenterCrop(1024),\n",
    "                                      transforms.Resize(512),\n",
    "                                      transforms.ToTensor()])\n",
    "ds = GeneImageDataset(folder='/data/shared/genetic_marker_datasets/', \n",
    "                     sensor='rgb', \n",
    "                     transform=image_transform)\n",
    "dl = DataLoader(ds, batch_size=30, shuffle=False, num_workers=10)\n"
   ]
  },
  {
   "cell_type": "code",
   "execution_count": 8,
   "metadata": {},
   "outputs": [],
   "source": [
    "model = SoftmaxEmbeddingNet(375)\n",
    "state_dict = torch.load('results/model/s9_pretrained_rgb.pth', map_location='cpu')"
   ]
  },
  {
   "cell_type": "code",
   "execution_count": 9,
   "metadata": {},
   "outputs": [
    {
     "data": {
      "text/plain": [
       "<All keys matched successfully>"
      ]
     },
     "execution_count": 9,
     "metadata": {},
     "output_type": "execute_result"
    }
   ],
   "source": [
    "model.load_state_dict(state_dict['model_state_dict'], strict=False)"
   ]
  },
  {
   "cell_type": "code",
   "execution_count": 10,
   "metadata": {},
   "outputs": [
    {
     "name": "stdout",
     "output_type": "stream",
     "text": [
      "Model loaded on GPU\n"
     ]
    }
   ],
   "source": [
    "ebd_model = model.backbone\n",
    "ebd_model.cuda()\n",
    "print('Model loaded on GPU')"
   ]
  },
  {
   "cell_type": "code",
   "execution_count": null,
   "metadata": {},
   "outputs": [],
   "source": [
    "ebd_1024_list = []\n",
    "ebd_128_list = []\n",
    "\n",
    "def gap_layer_hook(module, input, output):\n",
    "    ebd_1024_list.append(output.squeeze(-1).unsqueeze(-1).cpu().detach())\n",
    "    \n",
    "gap_layer_hook_handle = ebd_model.avgpool.register_forward_hook(gap_layer_hook)\n",
    "\n",
    "ebd_model.eval()\n",
    "with torch.no_grad():\n",
    "    for img, label in tqdm(dl):\n",
    "        ebd = ebd_model(img.cuda())\n",
    "        ebd_128_list.append(ebd.cpu().detach())\n",
    "    ebd_128 = torch.cat(ebd_128_list, dim=0)\n",
    "    ebd_1024 = torch.cat(ebd_1024_list, dim=0)\n",
    "\n",
    "gap_layer_hook_handle.remove()\n",
    "save_path = 'results/snp_pred/s9_jpg_rgb_gene_ds_img_ebd.pth'\n",
    "if not os.path.exists(os.path.dirname(save_path)):\n",
    "    os.makedirs(os.path.dirname(save_path))\n",
    "torch.save({'ebd_128': ebd_128, 'ebd_2048': ebd_1024},\n",
    "            save_path)"
   ]
  },
  {
   "cell_type": "markdown",
   "metadata": {
    "tags": []
   },
   "source": [
    "# 3D"
   ]
  },
  {
   "cell_type": "code",
   "execution_count": 17,
   "metadata": {},
   "outputs": [],
   "source": [
    "image_transform = transforms.Compose([transforms.CenterCrop(512),\n",
    "                                      transforms.ToTensor()])\n",
    "ds = GeneImageDataset(folder='/data/shared/genetic_marker_datasets/',\n",
    "                      sensor='3d', \n",
    "                      transform=image_transform)\n",
    "dl = DataLoader(ds, batch_size=30, shuffle=False, num_workers=10)\n"
   ]
  },
  {
   "cell_type": "code",
   "execution_count": 22,
   "metadata": {},
   "outputs": [],
   "source": [
    "model = SoftmaxEmbeddingNet(375)\n",
    "state_dict = torch.load('results/model/s9_pretrained_3d.pth', map_location='cpu')"
   ]
  },
  {
   "cell_type": "code",
   "execution_count": 23,
   "metadata": {},
   "outputs": [
    {
     "data": {
      "text/plain": [
       "<All keys matched successfully>"
      ]
     },
     "execution_count": 23,
     "metadata": {},
     "output_type": "execute_result"
    }
   ],
   "source": [
    "model.load_state_dict(state_dict['model_state_dict'], strict=False)"
   ]
  },
  {
   "cell_type": "code",
   "execution_count": 24,
   "metadata": {},
   "outputs": [
    {
     "name": "stdout",
     "output_type": "stream",
     "text": [
      "Model loaded on GPU\n"
     ]
    }
   ],
   "source": [
    "ebd_model = model.backbone\n",
    "ebd_model.cuda()\n",
    "print('Model loaded on GPU')"
   ]
  },
  {
   "cell_type": "code",
   "execution_count": null,
   "metadata": {},
   "outputs": [
    {
     "data": {
      "application/vnd.jupyter.widget-view+json": {
       "model_id": "e1cf07d00d4040f1ba2a99e32796a859",
       "version_major": 2,
       "version_minor": 0
      },
      "text/plain": [
       "HBox(children=(HTML(value=''), FloatProgress(value=0.0, max=18120.0), HTML(value='')))"
      ]
     },
     "metadata": {},
     "output_type": "display_data"
    }
   ],
   "source": [
    "ebd_1024_list = []\n",
    "ebd_128_list = []\n",
    "\n",
    "def gap_layer_hook(module, input, output):\n",
    "    ebd_1024_list.append(output.squeeze().cpu().detach())\n",
    "    \n",
    "gap_layer_hook_handle = ebd_model.avgpool.register_forward_hook(gap_layer_hook)\n",
    "\n",
    "ebd_model.eval()\n",
    "with torch.no_grad():\n",
    "    for img, label in tqdm(dl):\n",
    "        ebd = ebd_model(img.cuda())\n",
    "        ebd_128_list.append(ebd.cpu().detach())\n",
    "    ebd_128 = torch.cat(ebd_128_list, dim=0)\n",
    "    ebd_1024 = torch.cat(ebd_1024_list, dim=0)\n",
    "\n",
    "gap_layer_hook_handle.remove()\n",
    "save_path = 'results/snp_pred/s9_jpg_3d_gene_ds_img_ebd.pth'\n",
    "if not os.path.exists(os.path.dirname(save_path)):\n",
    "    os.makedirs(os.path.dirname(save_path))\n",
    "torch.save({'ebd_128': ebd_128, 'ebd_1024': ebd_1024},\n",
    "            save_path)"
   ]
  }
 ],
 "metadata": {
  "kernelspec": {
   "display_name": "PyTorch",
   "language": "python",
   "name": "pytorch"
  },
  "language_info": {
   "codemirror_mode": {
    "name": "ipython",
    "version": 3
   },
   "file_extension": ".py",
   "mimetype": "text/x-python",
   "name": "python",
   "nbconvert_exporter": "python",
   "pygments_lexer": "ipython3",
   "version": "3.7.9"
  },
  "widgets": {
   "application/vnd.jupyter.widget-state+json": {
    "state": {},
    "version_major": 2,
    "version_minor": 0
   }
  }
 },
 "nbformat": 4,
 "nbformat_minor": 4
}
